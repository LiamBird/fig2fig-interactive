{
 "cells": [
  {
   "cell_type": "markdown",
   "id": "792af783",
   "metadata": {},
   "source": [
    "# Meta analysis of Li-S host matrices"
   ]
  },
  {
   "cell_type": "code",
   "execution_count": 1,
   "id": "c5fc379e",
   "metadata": {},
   "outputs": [],
   "source": [
    "%matplotlib nbagg\n",
    "import matplotlib.pyplot as plt\n",
    "\n",
    "import numpy as np\n",
    "import os\n",
    "import glob\n",
    "import pandas as pd\n",
    "import ipywidgets as wg\n",
    "import re\n",
    "import seaborn as sns\n",
    "\n",
    "from matplotlib.ticker import MultipleLocator\n",
    "import matplotlib.lines as mlines\n",
    "import matplotlib.patches as mpatch \n",
    "\n",
    "import warnings\n",
    "warnings.filterwarnings(action=\"ignore\", message=\"findfont\") ## ignores error in Pie chart function\n",
    "\n",
    "## User-defined functions\n",
    "from Bibliography import Bibliography\n",
    "from GraphScan import GraphScan\n",
    "from make_bibliography_df import make_bibliography_df\n",
    "from PieOuterLabels import PieOuterLabels, func"
   ]
  },
  {
   "cell_type": "markdown",
   "id": "d36fe741",
   "metadata": {},
   "source": [
    "# Plot setups and custom functions"
   ]
  },
  {
   "cell_type": "code",
   "execution_count": 2,
   "id": "c312138d",
   "metadata": {},
   "outputs": [],
   "source": [
    "if os.path.isdir(r\"C:\\Users\\engs2608\\OneDrive - Nexus365\\Documents\\Meta analysis draft - OX\\Figures\"):\n",
    "    save_path = r\"C:\\Users\\engs2608\\OneDrive - Nexus365\\Documents\\Meta analysis draft - OX\\Figures\"\n",
    "elif os.path.isdir(r\"C:\\Users\\Liam\\OneDrive - Nexus365\\Documents\\Meta analysis draft - OX\\Figures\"):\n",
    "    save_path = r\"C:\\Users\\Liam\\OneDrive - Nexus365\\Documents\\Meta analysis draft - OX\\Figures\""
   ]
  },
  {
   "cell_type": "code",
   "execution_count": 3,
   "id": "aef895e6",
   "metadata": {},
   "outputs": [],
   "source": [
    "## Functions for filtering data frames\n",
    "def cont_keyword(df, keyword, column=\"Carbon type\", case=True):\n",
    "    return df[df[column].astype(str).str.contains(keyword, case)]\n",
    "\n",
    "def cont_multi_keywords(df, list_of_keywords, column=\"Carbon type\", case=True):\n",
    "    return df[df[column].astype(str).str.contains(\"|\".join(list_of_keywords), case)]\n",
    "\n",
    "def excludes_keywords(df, list_of_keywords, column=\"Carbon type\", case=False):\n",
    "    return df[~df[column].astype(str).str.contains(\"|\".join(list_of_keywords), case)]"
   ]
  },
  {
   "cell_type": "code",
   "execution_count": 4,
   "id": "fed16fa6",
   "metadata": {},
   "outputs": [],
   "source": [
    "## size of A4 paper in inches (for plot legibility)\n",
    "a4_inches = (11.7, 8.3)\n",
    "font_size = 8\n",
    "\n",
    "half_width_figsize=(0.35*a4_inches[1], 0.35*a4_inches[1]/1.2)\n",
    "full_width_figsize=(0.8*a4_inches[1], 0.54*0.8*a4_inches[1])"
   ]
  },
  {
   "cell_type": "code",
   "execution_count": 5,
   "id": "e028e50a",
   "metadata": {},
   "outputs": [],
   "source": [
    "if os.path.isdir(os.path.join(save_path, \"Font_size_{}\".format(font_size), \"png\")) == False:\n",
    "    os.makedirs(os.path.join(save_path, \"Font_size_{}\".format(font_size), \"png\"))\n",
    "    os.makedirs(os.path.join(save_path, \"Font_size_{}\".format(font_size), \"eps\"))\n",
    "save_path = os.path.join(save_path, \"Font_size_{}\".format(font_size))"
   ]
  },
  {
   "cell_type": "code",
   "execution_count": 6,
   "id": "c59c7941",
   "metadata": {},
   "outputs": [],
   "source": [
    "## Plot set ups\n",
    "from UCL_colors import UCL_colors\n",
    "c = UCL_colors()\n",
    "\n",
    "plt.rcParams.update({\"xtick.direction\": \"in\"})\n",
    "plt.rcParams.update({\"ytick.direction\": \"in\"})\n",
    "plt.rcParams.update({\"xtick.top\": True})\n",
    "plt.rcParams.update({\"ytick.right\": True})\n",
    "\n",
    "plt.rcParams.update({\"font.size\": font_size})\n",
    "\n",
    "pie_width = 0.3\n",
    "pie_radius = 1"
   ]
  },
  {
   "cell_type": "code",
   "execution_count": 7,
   "id": "85adb33a",
   "metadata": {},
   "outputs": [],
   "source": [
    "short_name_labels = {\"Graphene\": \"Graphene\",\n",
    "                     \"Graphene oxide\": \"GO\",\n",
    "                     \"Templated carbon\": \"TMC\", \n",
    "                     \"Carbon nanotubes\": \"CNTs\",\n",
    "                      \"Mixed carbon\": \"Mixed\"}"
   ]
  },
  {
   "cell_type": "code",
   "execution_count": 8,
   "id": "95b4472b",
   "metadata": {},
   "outputs": [],
   "source": [
    "# carbon_types_colors = {\"Graphene\": [*c.saturation(60, [\"Light Red\"]).values()][0],\n",
    "#                        \"Graphene oxide+\\nGraphene\": [*c.saturation(40, [\"Mid Purple\"]).values()][0],\n",
    "#                        \"Graphene oxide\": [*c.saturation(60, [\"Mid Blue\"]).values()][0],\n",
    "#                              'Reduced graphene oxide+\\nGraphene oxide': [*c.saturation(60, [\"Mid Green\"]).values()][0],\n",
    "#                        \"Reduced graphene oxide\": [*c.saturation(60, [\"Yellow\"]).values()][0],\n",
    "#                        \"Reduced graphene oxide+\\nGraphene\": [*c.saturation(60, [\"Orange\"]).values()][0],\n",
    "#                             \"Templated carbon\": [*c.saturation(100, [\"Grey\"]).values()][0],\n",
    "#                        \"Templated carbon+\\nOther\": [*c.saturation(60, [\"Stone\"]).values()][0],\n",
    "#                        \"Carbon nanotubes\": [*c.saturation(60, [\"Light Blue\"]).values()][0],\n",
    "#                        \"Carbon nanotubes+\\nOther\": [*c.saturation(60, [\"Light Green\"]).values()][0],\n",
    "#                        \"Mixed carbon\": [*c.saturation(10, [\"Grey\"]).values()][0]} ## NEEDS MODIFICATION FOR CLARITY\n",
    "\n",
    "colorblind = sns.color_palette(palette='colorblind')\n",
    "\n",
    "carbon_types_labels = [\"Graphene\", \"Graphene oxide\", \"Templated carbon\", \"Carbon nanotubes\", \"Mixed carbon\", \"Reduced graphene oxide\"]\n",
    "carbon_types_colors = dict([(key, colorblind[nkey]) for nkey, key in enumerate(carbon_types_labels)])\n",
    "carbon_types_colors[\"Mixed carbon\"] = colorblind[7]"
   ]
  },
  {
   "cell_type": "code",
   "execution_count": 9,
   "id": "29a33f8f",
   "metadata": {},
   "outputs": [],
   "source": [
    "colorblind_desat = sns.color_palette(palette='colorblind', desat=0.5)"
   ]
  },
  {
   "cell_type": "code",
   "execution_count": 10,
   "id": "20f3f467",
   "metadata": {},
   "outputs": [],
   "source": [
    "colors_infiltration_labels = [\"Thermal\", \"Thermal+\\nSolution\", \"Solution\", \"Chemical\", \"Thermal+\\nChemical\", \"Other/ mixed\"]\n",
    "colors_infiltration = dict([(key, colorblind_desat[nkey]) for nkey, key in enumerate(colors_infiltration_labels)])\n",
    "colors_infiltration[\"Solution\"] = colorblind_desat[4]\n",
    "colors_infiltration[\"Thermal+\\nChemical\"] = colorblind_desat[2]\n",
    "colors_infiltration[\"Other/ mixed\"] = colorblind_desat[7]"
   ]
  },
  {
   "cell_type": "markdown",
   "id": "48991650",
   "metadata": {},
   "source": [
    "# Data import notes: \n",
    "* wang 2019 cotton hierarchical quotes separate BJH and BET surface area, with BET > BJH\n",
    "- Note Wang 2020 Graphene nanosheets - two different composites tested with different rate change regimes!\n",
    "- Wang 2017 freestanding sandwich reports formation period 12 hours before cycling!\n",
    "\n",
    "#### Further comparators?\n",
    "* Different numbers of hosts tested per paper\n",
    "* Control electrodes (without host/ with only CB)"
   ]
  },
  {
   "cell_type": "markdown",
   "id": "36443b27",
   "metadata": {},
   "source": [
    "# Widgets for data import\n",
    "## Article details in `Bibliography()`"
   ]
  },
  {
   "cell_type": "code",
   "execution_count": 11,
   "id": "24f93e62",
   "metadata": {},
   "outputs": [
    {
     "data": {
      "application/vnd.jupyter.widget-view+json": {
       "model_id": "76fff8a2105f4061bf0aaef457632361",
       "version_major": 2,
       "version_minor": 0
      },
      "text/plain": [
       "Tab(children=(VBox(children=(HBox(children=(Label(value='Reload previous data', layout=Layout(width='20%')), S…"
      ]
     },
     "metadata": {},
     "output_type": "display_data"
    }
   ],
   "source": [
    "bib = Bibliography()\n",
    "bib.tab"
   ]
  },
  {
   "cell_type": "markdown",
   "id": "020540a4",
   "metadata": {},
   "source": [
    "## Graph scanning (interpolation) in `GraphScan()`"
   ]
  },
  {
   "cell_type": "code",
   "execution_count": 12,
   "id": "416de325",
   "metadata": {
    "scrolled": false
   },
   "outputs": [
    {
     "data": {
      "application/vnd.jupyter.widget-view+json": {
       "model_id": "bcebf604227f46838b307351d9b1c832",
       "version_major": 2,
       "version_minor": 0
      },
      "text/plain": [
       "Tab(children=(VBox(children=(HBox(children=(Label(value='Reload previous data'), SelectFilesButton(description…"
      ]
     },
     "metadata": {},
     "output_type": "display_data"
    }
   ],
   "source": [
    "gs = GraphScan()\n",
    "gs.tab"
   ]
  },
  {
   "cell_type": "markdown",
   "id": "554bb025",
   "metadata": {},
   "source": [
    "## Collate article details and numerical info in `make_bibliography_df`"
   ]
  },
  {
   "cell_type": "code",
   "execution_count": null,
   "id": "f206f51a",
   "metadata": {},
   "outputs": [],
   "source": [
    "df = make_bibliography_df()\n",
    "\n",
    "df.insert(len(df.columns), 'concat_label', \n",
    "          [\" \".join((name for name in list(df.loc[idx][[\"First author\", \"Year\", \"Optional label\"]])))\n",
    "                               for idx in range(len(df))])\n",
    "df = df.set_index(np.arange(len(df)))\n",
    "\n",
    "bibliography_list = np.unique([\" \".join((name for name in list(df.loc[idx][[\"First author\", \"Year\", \"Optional label\"]])))\n",
    "                               for idx in range(len(df))])"
   ]
  },
  {
   "cell_type": "code",
   "execution_count": null,
   "id": "4033373c",
   "metadata": {},
   "outputs": [],
   "source": [
    "## Fixing data entries that may include \"+\" in string to ensure mixtures are correctly identified by text search:\n",
    "df[\"Carbon type adj\"] = df[\"Carbon type\"].str.replace(\"+\", \"mix\", regex=True)\n",
    "\n",
    "df[\"Carbon type adj\"] = df[\"Carbon type\"].str.replace(\"RGO\", \"_R_G_O\", regex=True)\n",
    "df[\"Carbon type adj\"] = df[\"Carbon type\"].str.replace(\"rGO\", \"_R_G_O\", regex=True)\n",
    "df[\"Carbon type adj\"] = df[\"Carbon type\"].str.replace(\"reduced graphene oxide\", \"_R_G_O\", regex=True)\n",
    "df[\"Carbon type adj\"] = df[\"Carbon type\"].str.replace(\"Reduced graphene oxide\", \"_R_G_O\", regex=True)"
   ]
  },
  {
   "cell_type": "code",
   "execution_count": null,
   "id": "476125dc",
   "metadata": {},
   "outputs": [],
   "source": [
    "df.to_csv(os.path.join(os.path.split(os.path.split(save_path)[0])[0], \"fig2fig_collated_dataframe.csv\"))"
   ]
  },
  {
   "cell_type": "code",
   "execution_count": null,
   "id": "5b0e1617",
   "metadata": {},
   "outputs": [],
   "source": [
    "available_data = df.iloc[[idx for idx, values in enumerate(df[\"Scanned data\"]) if len(values)>0]]\n",
    "available_data = available_data.set_index(np.arange(len(available_data)))"
   ]
  },
  {
   "cell_type": "markdown",
   "id": "fa83642a",
   "metadata": {},
   "source": [
    "# Types of carbon host matrix\n",
    "\n",
    "Define different carbon host types, and the key words to search for and/ or exclude from the user-defined labels in the `available_data` dataframe"
   ]
  },
  {
   "cell_type": "code",
   "execution_count": null,
   "id": "5cb47b36",
   "metadata": {},
   "outputs": [],
   "source": [
    "carbon_types = {\"Graphene\": {\"include\": [\"graphene\"],\n",
    "                             \"exclude\": [\"composite\", \"reduced\", \"oxide\", \"mix\", \"_R_G_O\", \"GO\", \"wrapped\"]},\n",
    "                \"Graphene oxide\": {\"include\": [\"graphene oxide\", \"GO\"],\n",
    "                                   \"exclude\": [\"Reduced\", \"reduced\", \"and\", \"mix\", \"_R_G_O\", \"wrapped\"]},\n",
    "                \"Reduced graphene oxide\": {\"include\": [\"_R_G_O\"],\n",
    "                                           \"exclude\": [\"and\", \"mix\", \"wrapped\", \"graphene oxide\", \"GO\"]},\n",
    "                \"Templated carbon\": {\"include\": [\"hierarchical\", \"template\", \"CMK\", \"mesoporous\"],\n",
    "                                     \"exclude\": [\"graphene\", \"mix\", \"wrapped\"]},\n",
    "                \"Carbon nanotubes\": {\"include\": [\"nanotube\", \"CNT\", \"MWNT\"],\n",
    "                                     \"exclude\": [\"and\", \"graphene oxide\", \"mix\", \"wrapped\"]}\n",
    "                }"
   ]
  },
  {
   "cell_type": "markdown",
   "id": "11debf68",
   "metadata": {},
   "source": [
    "Identify the rows of `available_data` that include the keywords used to define each category, excluding keywords indicative of overalapping with other categories:"
   ]
  },
  {
   "cell_type": "code",
   "execution_count": null,
   "id": "73ec8004",
   "metadata": {},
   "outputs": [],
   "source": [
    "carbon_data = dict([(keys, \n",
    "                     cont_multi_keywords(df=excludes_keywords(df=available_data,\n",
    "                                                              list_of_keywords=values[\"exclude\"],\n",
    "                                                              column=\"Carbon type adj\",\n",
    "                                                              case=True),\n",
    "                                        list_of_keywords=values[\"include\"],\n",
    "                                        column=\"Carbon type\",\n",
    "                                        case=False)) for keys, values in carbon_types.items()])"
   ]
  },
  {
   "cell_type": "markdown",
   "id": "0a2896ab",
   "metadata": {},
   "source": [
    "Identify the rows of `available_data` that include the keywords used to define each category, **including** keywords which may result in overlaps between different categories:"
   ]
  },
  {
   "cell_type": "code",
   "execution_count": null,
   "id": "bfca9ae1",
   "metadata": {},
   "outputs": [],
   "source": [
    "carbon_data_inclusive = dict([(keys, \n",
    "                               cont_multi_keywords(df=available_data,\n",
    "                                                   list_of_keywords=values[\"include\"],\n",
    "                                                   column=\"Carbon type adj\",\n",
    "                                                   case=False)) for keys, values in carbon_types.items()])"
   ]
  },
  {
   "cell_type": "markdown",
   "id": "03d3bccb",
   "metadata": {},
   "source": [
    "Find the rows of `carbon_data_inclusive` that do not appear in `carbon_data`: the rows identified in this step correspond to mixtures of carbon types, while filtering out rows that correspond to a single carbon type:"
   ]
  },
  {
   "cell_type": "code",
   "execution_count": null,
   "id": "73b31d7c",
   "metadata": {},
   "outputs": [],
   "source": [
    "carbon_data_overlaps = {}\n",
    "\n",
    "for nk1, keys_1 in enumerate(carbon_data_inclusive.keys()):\n",
    "    for nk2, keys_2 in enumerate(carbon_data_inclusive.keys()):\n",
    "        if nk2 < nk1:\n",
    "            overlap_AB = set(carbon_data_inclusive[keys_1].index) & set(carbon_data_inclusive[keys_2].index)            \n",
    "            carbon_data_overlaps.update([(\"+\".join((keys_1, keys_2)), carbon_data_inclusive[keys_1].loc[list(overlap_AB)])])"
   ]
  },
  {
   "cell_type": "markdown",
   "id": "4fd3afe1",
   "metadata": {},
   "source": [
    "`carbon_data` contains data for **single** carbon types only.\n",
    "\n",
    "`carbon_data_overlaps` contains data for **mixed** carbon types only\n",
    "\n",
    "These two dictionaries are combined so that the single and mixed hosts are in the same dictionary, but without duplicates:"
   ]
  },
  {
   "cell_type": "code",
   "execution_count": null,
   "id": "947da136",
   "metadata": {},
   "outputs": [],
   "source": [
    "carbon_types_combined = {**carbon_data, **carbon_data_overlaps}"
   ]
  },
  {
   "cell_type": "markdown",
   "id": "e703529d",
   "metadata": {},
   "source": [
    "# Carbon types chord chart"
   ]
  },
  {
   "cell_type": "code",
   "execution_count": null,
   "id": "8566972e",
   "metadata": {},
   "outputs": [],
   "source": [
    "cross_over = np.full((len(carbon_data), len(carbon_data)), 0, dtype=int)\n",
    "\n",
    "## Carbon data contains only exclusive/ single types of carbon (A, B...)\n",
    "for ni, ii in enumerate(carbon_data.keys()): \n",
    "    for nj, jj in enumerate(carbon_data.keys()):\n",
    "        ## For single carbon types (A, B...):\n",
    "        if ni == nj:\n",
    "            cross_over[ni, nj] = len(carbon_types_combined[ii])\n",
    "        ## Multiple types of carbon (A+B)\n",
    "        if nj > ni:\n",
    "            cross_over[ni, nj] = len([carbon_types_combined[keys] for keys in carbon_types_combined.keys()\n",
    "                                      if ii in keys and \"+\" in keys and jj in keys][0])\n",
    "            ## Symmetric (i.e. A+B = B+A)\n",
    "            cross_over[nj, ni] = cross_over[ni, nj]\n",
    "        "
   ]
  },
  {
   "cell_type": "code",
   "execution_count": null,
   "id": "132fc61e",
   "metadata": {},
   "outputs": [],
   "source": [
    "## Chord chart code\n",
    "import matplotlib.patches as patches\n",
    "from matplotlib.path import Path\n",
    "\n",
    "class EndPoints(object):\n",
    "    \"\"\"\n",
    "    Gives start and end points, and width, of arc joining two categories\n",
    "    Start and end points can be adjusted/ offset within 'make_arc'\n",
    "    \"\"\"\n",
    "    def __init__(self, data, wedges, start_category, end_category, i_radius=0.7):\n",
    "        \"\"\"\n",
    "        Inputs\n",
    "        ---------\n",
    "        data: np.array\n",
    "            symmetrical array with single categories on major diagonal\n",
    "        wedges: matplotlib patch\n",
    "            obtained via wedges, texts = ax.pie(...)\n",
    "        start_category: int\n",
    "            index of wedge to use as starting point\n",
    "        end_category: int\n",
    "            index of wedge to use as end point\n",
    "        i_radius:\n",
    "            inner radius of pie chart\n",
    "        \"\"\"\n",
    "        total = np.sum(np.sum(data, axis=1))\n",
    "        i = start_category\n",
    "        j = end_category\n",
    "        \n",
    "        self.start_x1 = i_radius*np.cos(np.deg2rad(wedges[i].theta1+(np.sum([data[i, jj] for jj in range(j)])-data[i, i])/total*360))\n",
    "        self.start_x2 = i_radius*np.cos(np.deg2rad(wedges[i].theta1+(np.sum([data[i, jj] for jj in range(j+1)])-data[i, i])/total*360))\n",
    "        self.start_y1 = i_radius*np.cos(np.deg2rad(wedges[j].theta1+(np.sum([data[i, jj] for jj in range(j)])-data[i, i])/total*360))\n",
    "        self.start_y2 = i_radius*np.cos(np.deg2rad(wedges[j].theta1+(np.sum([data[i, jj] for jj in range(j+1)])-data[i, i])/total*360))\n",
    "        \n",
    "        self.end_x1 = i_radius*np.sin(np.deg2rad(wedges[i].theta1+(np.sum([data[i, jj] for jj in range(j)])-data[i, i])/total*360))\n",
    "        self.end_x2 = i_radius*np.sin(np.deg2rad(wedges[i].theta1+(np.sum([data[i, jj] for jj in range(j+1)])-data[i, i])/total*360))\n",
    "        self.end_y1 = i_radius*np.sin(np.deg2rad(wedges[j].theta1+(np.sum([data[i, jj] for jj in range(j)])-data[i, i])/total*360))\n",
    "        self.end_y2 =  i_radius*np.sin(np.deg2rad(wedges[j].theta1+(np.sum([data[i, jj] for jj in range(j+1)])-data[i, i])/total*360))\n",
    "        \n",
    "def make_arc(ax, i, j, wedges, data, r=0.9, start_angle_offset=0, end_angle_offset=\"match\",\n",
    "             offset=0.6, offset_stretch=1.25, angle_offset_degrees=True, facecolor=None, edgecolor=\"none\",\n",
    "             facealpha=1):\n",
    "    if end_angle_offset == \"match\":\n",
    "        end_angle_offset = start_angle_offset\n",
    "    if angle_offset_degrees == False:\n",
    "        start_angle_offset = np.rad2deg(start_angle_offset)\n",
    "        end_angle_offset = np.rad2deg(end_angle_offset)\n",
    "    \n",
    "    i_x1 = r*np.cos(np.deg2rad(start_angle_offset+wedges[i].theta1+((np.sum([data[i, jj] for jj in range(j)])-data[i, i])/total*360)))\n",
    "    i_y1 = r*np.sin(np.deg2rad(start_angle_offset+wedges[i].theta1+((np.sum([data[i, jj] for jj in range(j)])-data[i, i])/total*360)))\n",
    "\n",
    "    j_x1 = r*np.cos(np.deg2rad(end_angle_offset+wedges[j].theta1+((np.sum([data[i, jj] for jj in range(j)])-data[i, i])/total*360)))\n",
    "    j_y1 = r*np.sin(np.deg2rad(end_angle_offset+wedges[j].theta1+((np.sum([data[i, jj] for jj in range(j)])-data[i, i])/total*360)))\n",
    "\n",
    "    i_x2 = r*np.cos(np.deg2rad(start_angle_offset+wedges[i].theta1+((np.sum([data[i, jj] for jj in range(j+1)])-data[i, i])/total*360)))\n",
    "    i_y2 = r*np.sin(np.deg2rad(start_angle_offset+wedges[i].theta1+((np.sum([data[i, jj] for jj in range(j+1)])-data[i, i])/total*360)))\n",
    "\n",
    "    j_x2 = r*np.cos(np.deg2rad(end_angle_offset+wedges[j].theta1+((np.sum([data[i, jj] for jj in range(j+1)])-data[i, i])/total*360)))\n",
    "    j_y2 = r*np.sin(np.deg2rad(end_angle_offset+wedges[j].theta1+((np.sum([data[i, jj] for jj in range(j+1)])-data[i, i])/total*360)))\n",
    "\n",
    "    inner_midpoint = ((i_x2+j_x1)/2, (i_y2+j_y1)/2)\n",
    "    n_slope = -1/((j_y1-i_y2)/(j_x1-i_x2))\n",
    "    n_intercept = inner_midpoint[1]-n_slope*inner_midpoint[0]\n",
    "\n",
    "    outer_midpoint = ((i_x1+j_x2)/2, (i_y1+j_y2)/2)\n",
    "    verts = [(i_x1, i_y1), ## MOVETO\n",
    "             (i_x2, i_y2), ## LINETO\n",
    "             (inner_midpoint[0]-offset*np.cos(np.arctan(n_slope)), inner_midpoint[1]-offset*np.sin(np.arctan(n_slope))), ## CURVE3\n",
    "             (j_x1, j_y1), (j_x2, j_y2), ## LINETO\n",
    "             (outer_midpoint[0]-offset_stretch*offset*np.cos(np.arctan(n_slope)), outer_midpoint[1]-offset_stretch*offset*np.sin(np.arctan(n_slope))), ## CURVE3\n",
    "             (i_x1, i_y1)]\n",
    "    codes = [Path.MOVETO,\n",
    "             Path.LINETO,\n",
    "             Path.CURVE3,\n",
    "             Path.LINETO, Path.LINETO, Path.CURVE3,\n",
    "            Path.LINETO]\n",
    "    path = Path(verts, codes)\n",
    "    patch = patches.PathPatch(path, color=facecolor, edgecolor=edgecolor, alpha=facealpha)\n",
    "    \n",
    "    ax.add_patch(patch)\n",
    "    \n",
    "def make_label(ax, wedges, wedge_idx, text, radius=0.95, color=\"white\"):\n",
    "    angle = (wedges[wedge_idx].theta1+wedges[wedge_idx].theta2)/2\n",
    "    x_pos = radius*np.cos(np.deg2rad(angle))\n",
    "    y_pos = radius*np.sin(np.deg2rad(angle))\n",
    "    ax.annotate(text, xy=(x_pos, y_pos), color=color, ha=\"center\", va=\"center\")"
   ]
  },
  {
   "cell_type": "code",
   "execution_count": null,
   "id": "15528734",
   "metadata": {
    "scrolled": false
   },
   "outputs": [],
   "source": [
    "fig, ax = plt.subplots(figsize=full_width_figsize)\n",
    "radius = 1\n",
    "width = 0.3\n",
    "i_radius = radius-0.2*width\n",
    "r = radius-0.7*width\n",
    "total = np.sum(np.sum(cross_over, axis=1))\n",
    "wedges, texts = ax.pie(np.sum(cross_over, axis=1), radius=1, \n",
    "                       wedgeprops={\"width\": 0.3}, explode=np.full((cross_over.shape[1]), 0.1))\n",
    "ax.cla()\n",
    "\n",
    "arc_alpha = 0.6\n",
    "\n",
    "make_arc(ax, 0, 1, wedges, cross_over, start_angle_offset=40, end_angle_offset=7,\n",
    "         facealpha=arc_alpha, facecolor=carbon_types_colors[\"Graphene oxide\"]) ## Graphite to GO\n",
    "make_arc(ax, 0, 3, wedges, cross_over, facealpha=arc_alpha, offset=0.5, start_angle_offset=-15, end_angle_offset=60, \n",
    "          facecolor=carbon_types_colors[\"Templated carbon\"], offset_stretch=1) ## Graphite to CNTs\n",
    "make_arc(ax, 0, 4, wedges, cross_over, offset=0.6, start_angle_offset=-30, end_angle_offset=10, offset_stretch=0.6,\n",
    "         facealpha=arc_alpha, facecolor=carbon_types_colors[\"Graphene\"]) ## Graphite to CNTs\n",
    "make_arc(ax, 2, 4, wedges, cross_over, offset=-0.3, facealpha=arc_alpha, \n",
    "            end_angle_offset=20, start_angle_offset=-3, facecolor=carbon_types_colors[\"Carbon nanotubes\"]) ## RGO to CNTs\n",
    "make_arc(ax, 2, 3, wedges, cross_over, offset=-0.4, facealpha=arc_alpha,\n",
    "         start_angle_offset=7, end_angle_offset=10, \n",
    "         facecolor=carbon_types_colors[\"Templated carbon\"]) ## RGO to MC\n",
    "make_arc(ax, 3, 4, wedges, cross_over, offset=0.5, facealpha=arc_alpha,\n",
    "         start_angle_offset=80, end_angle_offset=-10, \n",
    "         facecolor=carbon_types_colors[\"Templated carbon\"]) ## CNTs to MCs\n",
    "\n",
    "wedges, texts = ax.pie(np.sum(cross_over, axis=1), wedgeprops={\"width\": 0.3}, radius=1,\n",
    "                       colors=[carbon_types_colors[keys] for keys in carbon_data.keys()], \n",
    "                       explode=np.full((cross_over.shape[1]), 0.1))\n",
    "\n",
    "ax.annotate(text=\"Graphene\", xy=(0.9, 0.8))\n",
    "ax.annotate(text=\"Carbon \\nnanotubes\", xy=(0.85, 0.1), ha=\"left\", xycoords=ax.transAxes)\n",
    "ax.annotate(text=\"Templated \\ncarbon\", xy=(-0.125, 0.25), ha=\"left\", xycoords=ax.transAxes)\n",
    "ax.annotate(text=\"Reduced \\ngraphene \\noxide\", xy=(-0.18, 0.5), xycoords=ax.transAxes)\n",
    "ax.annotate(text=\"Graphene \\noxide\", xy=(0, 0.8), xycoords=ax.transAxes)\n",
    "\n",
    "ax.annotate(text=str(cross_over[0, 1]), xy=(0.35, 0.5))\n",
    "ax.annotate(text=str(cross_over[0, 3]), xy=(0.5, 0.12))\n",
    "ax.annotate(text=str(cross_over[0, 4]), xy=(0.65, -0.15))\n",
    "ax.annotate(text=str(cross_over[2, 3]), xy=(-0.62,-0.15))\n",
    "ax.annotate(text=str(cross_over[2, 4]), xy=(-0.5, 0.05))\n",
    "ax.annotate(text=str(cross_over[3, 4]), xy=(0.25, -0.75))\n",
    "\n",
    "for nvalue, value in enumerate(np.sum(cross_over, axis=1)):\n",
    "    make_label(ax, wedges, nvalue, value)\n",
    "    \n",
    "plt.savefig(os.path.join(save_path, \"png\", \"4_Chort_chart_host_materials.png\"), bbox_inches=\"tight\", dpi=200)\n",
    "plt.savefig(os.path.join(save_path, \"eps\", \"4_Chord_chart_host_materials.eps\"), bbox_inches=\"tight\")"
   ]
  },
  {
   "cell_type": "markdown",
   "id": "e0d490f1",
   "metadata": {},
   "source": [
    "# Sulfur loading methods\n",
    "\n",
    "Define different sulfur loading methods, and the key words to search for and/ or exclude from the user-defined labels in the `available_data` dataframe"
   ]
  },
  {
   "cell_type": "code",
   "execution_count": null,
   "id": "f1c46fdf",
   "metadata": {},
   "outputs": [],
   "source": [
    "sulfur_loading_labels = {\"Thermal\": {\"include\": [\"thermal\", \"melt\", \"155\"],\n",
    "                                     \"exclude\": [\"solution\", \"chemical\", \"toluene\", \"CS2\"]},\n",
    "                         \"Chemical\": {\"include\": [\"Chemical\", \"Na2S2O3\"],\n",
    "                                    \"exclude\": [\"thermal\", \"CS2\"]},\n",
    "                         \"Solution\": {\"include\": [\"CS2\", \"solvent\", \"toluene\"],\n",
    "                                      \"exclude\": [\"thermal\"]}}"
   ]
  },
  {
   "cell_type": "markdown",
   "id": "7bfb7de0",
   "metadata": {},
   "source": [
    "## Sulfur loading methods, sorted by carbon type"
   ]
  },
  {
   "cell_type": "code",
   "execution_count": null,
   "id": "f50482fe",
   "metadata": {
    "scrolled": false
   },
   "outputs": [],
   "source": [
    "mixed_carbon_totals = 0 \n",
    "for keys, values in carbon_types_combined.items():\n",
    "    if \"+\" in keys:\n",
    "#         print(values)\n",
    "        mixed_carbon_totals += len(values)\n",
    "\n",
    "mixed_carbon_types = {}\n",
    "\n",
    "for keys, values in carbon_types_combined.items():\n",
    "    if \"+\" in keys:\n",
    "        mixed_carbon_types.update([(keys, {})])\n",
    "        for method_key, method_values in sulfur_loading_labels.items():\n",
    "            mixed_carbon_types[keys].update([(method_key, len(\n",
    "                                        excludes_keywords(cont_multi_keywords(values,\n",
    "                                                                              list_of_keywords=method_values[\"include\"],\n",
    "                                                                              column=\"Sulfur loading method\", case=False),\n",
    "                                                                              list_of_keywords=method_values[\"exclude\"],\n",
    "                                                                              column=\"Sulfur loading method\", case=False)\n",
    "                                                                                                 ))])\n",
    "\n",
    "mixed_addition = dict([(keys, np.sum([values[keys] for values in mixed_carbon_types.values()]))\n",
    "                       for keys in sulfur_loading_labels.keys()])\n",
    "\n",
    "## Making a dictionary with:\n",
    "## {carbon_type_key: \n",
    "##                  {loading_key_1: <int>,\n",
    "##                   loading_key_2: <int>, ...}\n",
    "\n",
    "method_by_carbon = {}\n",
    "\n",
    "for carbon_key, carbon_values in carbon_data.items():\n",
    "    method_by_carbon.update([(carbon_key, {})])\n",
    "    for method_key, method_values in sulfur_loading_labels.items():\n",
    "        method_by_carbon[carbon_key].update([(method_key, len(\n",
    "        excludes_keywords(cont_multi_keywords(carbon_values,\n",
    "                                              list_of_keywords=method_values[\"include\"],\n",
    "                                              column=\"Sulfur loading method\", case=False),\n",
    "                          list_of_keywords=method_values[\"exclude\"],\n",
    "                          column=\"Sulfur loading method\", case=False)\n",
    "                                             ))])\n",
    "        \n",
    "\n",
    "## Only 'single' methods are included above (i.e. thermal OR chemical OR solution)\n",
    "## Adding 'other' category for remaining data\n",
    "for carbon_key, carbon_values in carbon_data.items():\n",
    "    total_entries = len(carbon_values)\n",
    "    included_entries = np.sum([*method_by_carbon[carbon_key].values()])\n",
    "    method_by_carbon[carbon_key].update([(\"Other/ mixed\", \n",
    "                                          total_entries-included_entries)])\n",
    "    \n",
    "method_by_carbon.update([(\"Mixed carbon\", \n",
    "                          mixed_addition)])\n",
    "method_by_carbon[\"Mixed carbon\"].update([(\"Other/ mixed\", mixed_carbon_totals-np.sum([*method_by_carbon[\"Mixed carbon\"].values()]))])\n",
    "\n",
    "from copy import deepcopy\n",
    "method_by_carbon_mod = deepcopy(method_by_carbon)\n",
    "method_by_carbon_mod.pop(\"Reduced graphene oxide\")\n",
    "\n",
    "methods_concat_values_all = np.hstack([[*values.values()] for values in method_by_carbon_mod.values()])\n",
    "methods_concat_keys_all = np.hstack([[*values.keys()] for values in method_by_carbon_mod.values()])\n",
    "methods_concat_colors_all = np.array([colors_infiltration[keys] for keys in methods_concat_keys_all])\n",
    "\n",
    "methods_concat_values = methods_concat_values_all[methods_concat_values_all>0]\n",
    "methods_concat_keys = methods_concat_keys_all[methods_concat_values_all>0]\n",
    "methods_concat_colors = methods_concat_colors_all[methods_concat_values_all>0]\n",
    "\n",
    "start_angle = 90\n",
    "self = PieOuterLabels()\n",
    "self.set_outer_pie([np.sum([*values.values()]) for keys, values in method_by_carbon_mod.items()],\n",
    "                   pie_labels=[keys for keys, values in method_by_carbon_mod.items()],\n",
    "                   color=[carbon_types_colors[key] for key in method_by_carbon_mod.keys()],\n",
    "                   start_angle=start_angle, fontsize=font_size)\n",
    "\n",
    "self.set_inner_pie(methods_concat_values, pie_labels=methods_concat_keys, \n",
    "                   color=list(methods_concat_colors), legend_labels=False,\n",
    "                    min_label=3, start_angle=start_angle, fontsize=font_size)\n",
    "for keys, values in colors_infiltration.items():\n",
    "    if \"+\" not in keys:\n",
    "        self.ax.plot([], [], \"s\", mfc=values, mec=\"k\", label=keys)\n",
    "self.ax.legend(loc=\"center left\", bbox_to_anchor=(1, 0.5))\n",
    "\n",
    "\n",
    "self.fig.set_size_inches(full_width_figsize)\n",
    "plt.savefig(os.path.join(save_path, \"png\", \"5_Sulfur_method_by_carbon.png\"), bbox_inches=\"tight\", dpi=200)\n",
    "plt.savefig(os.path.join(save_path, \"eps\", \"5_Sulfur_method_by_carbon.eps\"), bbox_inches=\"tight\")"
   ]
  },
  {
   "cell_type": "markdown",
   "id": "52a2b6bf",
   "metadata": {},
   "source": [
    "## Quantity of sulfur in carbon/ sulfur composite, sorted by carbon type"
   ]
  },
  {
   "cell_type": "code",
   "execution_count": null,
   "id": "15780bda",
   "metadata": {},
   "outputs": [],
   "source": []
  },
  {
   "cell_type": "code",
   "execution_count": null,
   "id": "4fd4e896",
   "metadata": {},
   "outputs": [],
   "source": [
    "ax_wtpc.get_legend_handles_labels()"
   ]
  },
  {
   "cell_type": "code",
   "execution_count": null,
   "id": "9d55e6db",
   "metadata": {},
   "outputs": [],
   "source": [
    "sulfur_loading_by_carbon = dict([(keys, values.loc[values['Sulfur loading (wt%)']!=\"\"][\"Sulfur loading (wt%)\"].to_numpy(dtype=float))\n",
    "                                 for keys, values in carbon_data.items()])\n",
    "sulfur_wtpc_x = np.linspace(0, 100, 11)\n",
    "\n",
    "sulfur_wtpc_available = available_data.loc[available_data[\"Sulfur loading (wt%)\"] != \"\"]\n",
    "sulfur_wtpc = sulfur_wtpc_available[\"Sulfur loading (wt%)\"].to_numpy(dtype=float)\n",
    "\n",
    "sulfur_wtpc_y_total = [np.nonzero((sulfur_wtpc>=sulfur_wtpc_x[xi]) & (sulfur_wtpc<sulfur_wtpc_x[xi+1]))[0].shape[0] for xi in range(sulfur_wtpc_x.shape[0]-1)]+[np.nonzero((sulfur_wtpc>=sulfur_wtpc_x[-1]))[0].shape[0]]\n",
    "\n",
    "sulfur_wtpc_y = dict([(keys, \n",
    "                       [np.nonzero((sulfur_wtpc>=sulfur_wtpc_x[xi]) & (sulfur_wtpc<sulfur_wtpc_x[xi+1]))[0].shape[0] for xi in range(sulfur_wtpc_x.shape[0]-1)]+[np.nonzero((sulfur_wtpc>=sulfur_wtpc_x[-1]))[0].shape[0]])\n",
    "                     for keys, sulfur_wtpc in sulfur_loading_by_carbon.items()])\n",
    "\n",
    "f, ax_wtpc = plt.subplots(figsize=half_width_figsize)\n",
    "ax_wtpc.bar(sulfur_wtpc_x-0.5*(sulfur_wtpc_x[1]-sulfur_wtpc_x[0]),\n",
    "       sulfur_wtpc_y_total, width=10, color=carbon_types_colors[\"Mixed carbon\"], edgecolor=\"k\", label=\"Mixed carbon\")\n",
    "for n in range(len(sulfur_wtpc_y)):\n",
    "    ax_wtpc.bar(sulfur_wtpc_x-0.5*(sulfur_wtpc_x[1]-sulfur_wtpc_x[0]),\n",
    "           [*sulfur_wtpc_y.values()][n],\n",
    "           bottom=np.sum([*sulfur_wtpc_y.values()][:n], axis=0), width=10, color=carbon_types_colors[[*sulfur_loading_by_carbon.keys()][n]],\n",
    "           edgecolor=\"k\",\n",
    "           label=[*sulfur_loading_by_carbon.keys()][n])\n",
    "    \n",
    "ax_wtpc.legend()\n",
    "\n",
    "handles, labels = ax_wtpc.get_legend_handles_labels()\n",
    "label_sort = [\"Graphene\", \"Graphene oxide\", \n",
    "              #\"Reduced graphene oxide\", \n",
    "              \"Templated carbon\", \"Carbon nanotubes\", \"Mixed carbon\"][::-1]\n",
    "\n",
    "label_sort_short = [short_name_labels[key] for key in label_sort]\n",
    "# label_sort_short = [\"Graphene\", \"GO\", # \"RGO\",\n",
    "#                     \"MC\", \"CNTs\", \"Mixed\"][::-1]\n",
    "\n",
    "\n",
    "\n",
    "handle_sort = [handles[[nlabel for nlabel, label in enumerate(labels) if label==name][0]] for name in label_sort]\n",
    "\n",
    "ax_wtpc.legend(handles=handle_sort, labels=label_sort_short, loc=\"upper left\")\n",
    "\n",
    "ax_wtpc.set_xlabel(\"Sulfur loading (wt%)\")\n",
    "ax_wtpc.set_ylabel(\"Number of samples\")\n",
    "ax_wtpc.set_xlim([0, 100])\n",
    "\n",
    "plt.savefig(os.path.join(save_path, \"png\", \"5_Bars_Sulfur_loading_by_host_type.png\"), bbox_inches=\"tight\", dpi=200)\n",
    "plt.savefig(os.path.join(save_path, \"eps\", \"5_Bars_Sulfur_loading_by_host_type.eps\"), bbox_inches=\"tight\")"
   ]
  },
  {
   "cell_type": "code",
   "execution_count": null,
   "id": "c01605d8",
   "metadata": {},
   "outputs": [],
   "source": [
    "areal_sulfur = df.loc[df[\"Sulfur loading (mg/ cm2)\"]!=\"\"]\n",
    "areal_sulfur = excludes_keywords(areal_sulfur, [\"-\"], column=\"Sulfur loading (mg/ cm2)\")[\"Sulfur loading (mg/ cm2)\"].to_numpy(dtype=float)\n",
    "areal_x = np.linspace(0, np.ceil(np.nanmax(areal_sulfur)), 11)\n",
    "width = (areal_x[1]-areal_x[0])\n",
    "areal_y = [np.nonzero((areal_sulfur>=areal_x[xi]) & (areal_sulfur<areal_x[xi+1]))[0].shape[0]\n",
    "          for xi in range(areal_x.shape[0]-1)]\n",
    "f, ax = plt.subplots(figsize=half_width_figsize)\n",
    "ax.bar(areal_x[:-1]+0.5*width, areal_y, width=width, color=\"gainsboro\", edgecolor=\"k\")\n",
    "# ax.set_xticks(areal_x[:-1])\n",
    "ax.yaxis.set_major_locator(MultipleLocator(10))\n",
    "ax.xaxis.set_major_locator(MultipleLocator(3))\n",
    "\n",
    "ax.set_xlabel(\"Areal loading (mg cm$^{-2}$)\")\n",
    "ax.set_ylabel(\"Number of samples\")\n",
    "ax.set_ylim(ax_wtpc.get_ylim())\n",
    "plt.tight_layout()\n",
    "plt.savefig(os.path.join(save_path, \"png\", \"5_Bars_Areal_loading_sulfur.png\"), bbox_inches=\"tight\", dpi=200)\n",
    "plt.savefig(os.path.join(save_path, \"eps\", \"5_Bars_Areal_loading_sulfur.eps\"), bbox_inches=\"tight\")"
   ]
  },
  {
   "cell_type": "code",
   "execution_count": null,
   "id": "53aac342",
   "metadata": {},
   "outputs": [],
   "source": []
  },
  {
   "cell_type": "code",
   "execution_count": null,
   "id": "78d689ee",
   "metadata": {},
   "outputs": [],
   "source": [
    "sulfur_loading_by_carbon = dict([(keys, \n",
    "                                  values.loc[values[\"Sulfur loading (wt%)\"] != \"\"][\"Sulfur loading (wt%)\"].to_numpy(dtype=float)) \n",
    "                                 for keys, values in carbon_data.items()])\n",
    "\n",
    "sulfur_loading_by_carbon.update([(\"Mixed carbon\",\n",
    "                                  np.hstack([values.loc[values[\"Sulfur loading (wt%)\"] != \"\"][\"Sulfur loading (wt%)\"].to_numpy(dtype=float) for keys, values in carbon_types_combined.items() if \"+\" in keys]))])\n",
    "\n",
    "\n",
    "sulfur_loading_by_carbon.pop(\"Reduced graphene oxide\")\n",
    "share_sulfur_loading_by_carbon = dict([(keys, len(values)) for keys, values in sulfur_loading_by_carbon.items()])\n",
    "sulfur_loading_widths = dict([(keys, values/sum([*share_sulfur_loading_by_carbon.values()])) for keys, values in share_sulfur_loading_by_carbon.items()])\n",
    "\n",
    "sulfur_by_carbon_nan = [values.loc[values[\"Sulfur loading (wt%)\"] != \"\"][\"Sulfur loading (wt%)\"].to_numpy(dtype=float) for values in carbon_data.values() if len(values)>0]\n",
    "\n",
    "labels=[\"Graphene\", \"GO\", \"Templated\", \"CNTs\", \"Mixed\"]\n",
    "label_keys = [\"Graphene\", \"Graphene oxide\", \"Templated carbon\", \"Carbon nanotubes\", \"Mixed carbon\"]\n",
    "\n",
    "from copy import deepcopy\n",
    "carbon_data_mod = deepcopy(sulfur_loading_by_carbon)\n",
    "# carbon_data_mod.pop(\"Reduced graphene oxide\");\n",
    "\n",
    "fig, ax = plt.subplots(figsize=half_width_figsize)\n",
    "\n",
    "violins = {}\n",
    "\n",
    "for nkeys, (keys, values) in enumerate(carbon_data_mod.items()):\n",
    "    violins.update([(keys, ax.violinplot(values, positions=[nkeys], showmedians=True,\n",
    "                                         widths=2*sulfur_loading_widths[keys]))])\n",
    "    \n",
    "for keys, values in violins.items():\n",
    "    for body in values[\"bodies\"]:\n",
    "        body.set_facecolor(carbon_types_colors[keys])\n",
    "        body.set_edgecolor(\"k\")\n",
    "    for line in [\"cmaxes\", \"cmins\", \"cbars\", \"cmedians\"]:   \n",
    "        if keys != \"Mixed carbon\":\n",
    "            values[line].set_color(carbon_types_colors[keys])\n",
    "        else:\n",
    "            values[line].set_color(\"darkgrey\")\n",
    "\n",
    "strip_plots = {}\n",
    "for nkeys, (keys, values) in enumerate(carbon_data_mod.items()):\n",
    "    if keys != \"Mixed carbon\":\n",
    "        strip_plots.update([(keys, sns.stripplot(x=[nkeys]*carbon_data_mod[keys].shape[0],\n",
    "                                         y=values, jitter=True,\n",
    "                                         color=carbon_types_colors[keys], size=3))])\n",
    "    else:\n",
    "        strip_plots.update([(keys, sns.stripplot(x=[nkeys]*carbon_data_mod[keys].shape[0],\n",
    "                                         y=values, jitter=True,\n",
    "                                         color=\"darkgrey\", size=3))])\n",
    "ax.set_ylim([0, 100])    \n",
    "ax.set_xticks(np.arange(len(carbon_data_mod)))\n",
    "ax.set_xticklabels([short_name_labels[keys] for keys in violins.keys()], rotation=0, fontsize=6/8*font_size)\n",
    "ax.set_ylabel(\"Sulfur content in \\nsulfur/ carbon composite (wt%)\")\n",
    "ax.set_xlabel(\"Host matrix carbon\")\n",
    "plt.tight_layout()\n",
    "\n",
    "plt.savefig(os.path.join(save_path, \"png\", \"5_Violin_sulfur_loading_by_carbon.png\"), bbox_inches=\"tight\")\n",
    "plt.savefig(os.path.join(save_path, \"eps\", \"5_Violin_sulfur_loading_by_carbon.eps\"), bbox_inches=\"tight\")"
   ]
  },
  {
   "cell_type": "code",
   "execution_count": null,
   "id": "4cdedcbb",
   "metadata": {},
   "outputs": [],
   "source": [
    "sulfur_loading_labels = {\"Thermal\": {\"include\": [\"thermal\"],\n",
    "                                     \"exclude\": [\"solution\", \"chemical\"]},\n",
    "                         \"Chemical\": {\"include\": [\"Chemical\", \"Na2S2O3\"],\n",
    "                                    \"exclude\": [\"thermal\", \"CS2\"]},\n",
    "                         \"Solution\": {\"include\": [\"CS2\", \"solvent\", \"toluene\"],\n",
    "                                      \"exclude\": [\"thermal\"]}}\n",
    "\n",
    "sulfur_loading = dict([(keys, cont_multi_keywords(df=excludes_keywords(df=available_data,\n",
    "                                 list_of_keywords=values[\"exclude\"],\n",
    "                                 column=\"Sulfur loading method\",\n",
    "                                 case=False),\n",
    "                                                 list_of_keywords=values[\"include\"],\n",
    "                                                 column=\"Sulfur loading method\",\n",
    "                                                  case=False)) for keys, values in sulfur_loading_labels.items()])\n",
    "\n",
    "sulfur_loading_inclusive = dict([(keys, cont_multi_keywords(df=available_data,\n",
    "                                                 list_of_keywords=values[\"include\"],\n",
    "                                                 column=\"Sulfur loading method\",\n",
    "                                                  case=False)) for keys, values in sulfur_loading_labels.items()])\n",
    "\n",
    "merge_columns = [name for name in available_data.columns if \"Scanned data\" not in name]\n",
    "\n",
    "sulfur_loading_combined = {}\n",
    "for nk1, key_1 in enumerate(sulfur_loading_inclusive.keys()):\n",
    "    for nk2, key_2 in enumerate(sulfur_loading_inclusive.keys()):\n",
    "        if nk1 < nk2:\n",
    "            sulfur_loading_combined.update([(\"+\\n\".join((key_1, key_2)),\n",
    "                                             pd.merge(sulfur_loading_inclusive[key_1][merge_columns],\n",
    "                                                      sulfur_loading_inclusive[key_2][merge_columns]))])\n",
    "            \n",
    "sulfur_loading_combined = dict([(keys, values) for keys, values in sulfur_loading_combined.items() if len(values)>0])\n",
    "sulfur_loading_total = {**sulfur_loading, **sulfur_loading_combined}\n",
    "method_XRD = dict([(name, {\"Present\": len([n for n in sulfur_loading_total[name][\"Sulfur XRD\"] if n==True]),\n",
    "              \"Absent\": len([n for n in sulfur_loading_total[name][\"Sulfur XRD\"] if n==False]),\n",
    "              \"No data\": len([n for n in sulfur_loading_total[name][\"Sulfur XRD\"] if n!=True and n!=False])})\n",
    "       for name in sulfur_loading_total.keys()])\n",
    "# ax.set_prop_cycle(\"color\", [*c.saturation(70, scheme=[\"Mid Green\", \"Yellow\", \"Mid Red\", \"Dark Purple\", \"Dark Blue\", \"Mid Blue\", \"Grey\"]).values()]+[\"white\"])\n",
    "\n",
    "method_XRD = {\"Solution\": method_XRD[\"Solution\"],\n",
    "            \"Thermal+\\nSolution\": method_XRD[\"Thermal+\\nSolution\"],\n",
    "            \"Thermal\": method_XRD[\"Thermal\"],\n",
    "              \"Thermal+\\nChemical\": method_XRD[\"Thermal+\\nChemical\"],\n",
    "              \"Chemical\": method_XRD[\"Chemical\"],}\n",
    "\n",
    "sulfur_content_by_method = dict([(keys, [float(x) for x in values[\"Sulfur loading (wt%)\"] if len(x)>0]) for keys, values in sulfur_loading.items()])\n",
    "sulfur_content_by_method_combined = dict([(keys, [float(x) for x in values[\"Sulfur loading (wt%)\"] if len(x)>0]) for keys, values in sulfur_loading_combined.items()])\n",
    "\n",
    "sulfur_content_by_method.update([(keys, values) for keys, values in sulfur_content_by_method_combined.items()])\n",
    "\n",
    "sulfur_content_totals = [len(values) for values in sulfur_content_by_method.values()]\n",
    "widths = [x/np.sum(sulfur_content_totals) for x in sulfur_content_totals]\n",
    "\n",
    "f, ax = plt.subplots(figsize=half_width_figsize)\n",
    "violin_plot = {}\n",
    "strip_plot = {}\n",
    "\n",
    "for nkeys, (keys, values) in enumerate(sulfur_content_by_method.items()):\n",
    "    violin_plot.update([(keys, ax.violinplot(sulfur_content_by_method[keys], \n",
    "                                             positions=[nkeys], showmedians=True,\n",
    "                                             widths=widths[nkeys]))])\n",
    "    strip_plot.update([(keys, sns.stripplot(y=sulfur_content_by_method[keys],\n",
    "                                            x=len(sulfur_content_by_method[keys])*[nkeys], jitter=True,\n",
    "                                           color=colors_infiltration[keys], size=3),\n",
    "                                            \n",
    "                        )])\n",
    "    \n",
    "for keys, values in violin_plot.items():\n",
    "    for body in values[\"bodies\"]:\n",
    "        body.set_facecolor(colors_infiltration[keys])\n",
    "        body.set_edgecolor(\"k\")\n",
    "    for line in [\"cmaxes\", \"cmins\", \"cbars\", \"cmedians\"]:   \n",
    "        values[line].set_color(colors_infiltration[keys])\n",
    "            \n",
    "ax.set_xticks(np.arange(len(sulfur_content_by_method)))\n",
    "ax.set_xticklabels(sulfur_content_by_method.keys(), rotation=0, fontsize=6/8*font_size)\n",
    "\n",
    "ax.set_ylabel(\"Sulfur content in \\nsulfur/ carbon composite (wt%)\")\n",
    "ax.set_xlabel(\"Composite synthesis method\")\n",
    "\n",
    "ax.set_ylim([0, 100])\n",
    "\n",
    "plt.tight_layout()\n",
    "plt.savefig(os.path.join(save_path, \"png\", \"5_Violin_Sulfur_loading_by_method.png\"), bbox_inches=\"tight\", dpi=200)\n",
    "plt.savefig(os.path.join(save_path, \"eps\", \"5_Violin_Sulfur_loading_by_method.eps\"), bbox_inches=\"tight\")"
   ]
  },
  {
   "cell_type": "markdown",
   "id": "7fef52e7",
   "metadata": {},
   "source": [
    "# Sulfur loading methods: XRD results"
   ]
  },
  {
   "cell_type": "code",
   "execution_count": null,
   "id": "3df11a7b",
   "metadata": {},
   "outputs": [],
   "source": [
    "self = PieOuterLabels()\n",
    "self.set_inner_pie([item for sublist in [[*values.values()] for values in method_XRD.values()] for item in sublist],\n",
    "                   [item for sublist in [[*values.values()] for values in method_XRD.values()] for item in sublist],\n",
    "                   color=[[*c.saturation(i, [\"Grey\"]).values()][0] for i in [10, 50, 100]],\n",
    "                   legend_labels=False, fontsize=font_size)\n",
    "self.set_outer_pie([np.sum([*values.values()]) for values in method_XRD.values()],\n",
    "                   [*method_XRD.keys()],\n",
    "                   color=[colors_infiltration[key] for key in method_XRD.keys()],\n",
    "                   label_fliers=False, fontsize=font_size\n",
    "                  )\n",
    "self.ax.plot([], [], label=\"Sulfur loading method\", ls=\"none\")\n",
    "for nkey, key in enumerate([*method_XRD.keys()]):\n",
    "    self.ax.plot([], [], marker=\"s\", label=key.replace(\"\\n\", \"\"), mfc=self.color[nkey], mec=\"k\", ls=\"none\", ms=10)\n",
    "    \n",
    "self.ax.plot([], [], label=\" \", ls=\"none\")\n",
    "self.ax.plot([], [], label=\"XRD sulfur\", ls=\"none\")\n",
    "for nname, name in enumerate([\"S$_{8}$ present\", \"S$_{8}$ absent\", \"n.d.\"]):\n",
    "    self.ax.plot([], [],  marker=\"s\", label=name, mfc=[[*c.saturation(i, [\"Grey\"]).values()][0] for i in [10, 50, 100]][nname],\n",
    "                 mec=\"k\", ls=\"none\", ms=10)\n",
    "    \n",
    "self.ax.legend(loc=\"center left\", bbox_to_anchor=(1, 0.5), fontsize=font_size)\n",
    "self.fig.set_size_inches(full_width_figsize)\n",
    "plt.tight_layout()\n",
    "plt.savefig(os.path.join(save_path, \"Sulfur_loading_XRD.png\"), bbox_inches=\"tight\")\n",
    "plt.savefig(os.path.join(save_path, \"Sulfur_loading_XRD.eps\"), bbox_inches=\"tight\")"
   ]
  },
  {
   "cell_type": "code",
   "execution_count": null,
   "id": "bd94011d",
   "metadata": {},
   "outputs": [],
   "source": [
    "bp[True]"
   ]
  },
  {
   "cell_type": "code",
   "execution_count": null,
   "id": "e235062c",
   "metadata": {},
   "outputs": [],
   "source": [
    "sulfur_areal_true = dict(df.loc[df[\"Sulfur loading (mg/ cm2)\"]!=\"\"])\n",
    "sulfur_areal_false = dict(df.loc[df[\"Sulfur loading (mg/ cm2)\"]==\"\"])\n",
    "\n",
    "sulfur_weight_true = dict(df.loc[df['Sulfur loading (wt%)']!=\"\"])\n",
    "sulfur_weight_false = dict(df.loc[df['Sulfur loading (wt%)']==\"\"])\n",
    "\n",
    "sulfurwtfalse_sulfurarealtrue = available_data.loc[(available_data[\"Sulfur loading (wt%)\"] == \"\") & (available_data[\"Sulfur loading (mg/ cm2)\"] != \"\")]\n",
    "sulfurwttrue_sulfurarealfalse = available_data.loc[(available_data[\"Sulfur loading (wt%)\"] != \"\") & (available_data[\"Sulfur loading (mg/ cm2)\"] == \"\")]\n",
    "sulfurwttrue_sulfurarealtrue = available_data.loc[(available_data[\"Sulfur loading (wt%)\"] != \"\") & (available_data[\"Sulfur loading (mg/ cm2)\"] != \"\")]\n",
    "\n",
    "xrd_sort = dict([(B, dict([(keys, values.loc[values[\"Sulfur XRD\"]==B][[\"Sulfur loading (wt%)\", \"Sulfur XRD\"]]) for keys, values in carbon_data.items()]))\n",
    "       for B in [True, False]])\n",
    "\n",
    "xrd_sort.update([(\"n.d.\", \n",
    "                  dict([(keys, values.loc[(values[\"Sulfur XRD\"] != True) & (values[\"Sulfur XRD\"] != False)][[\"Sulfur loading (wt%)\", \"Sulfur XRD\"]])\n",
    "                        for keys, values in carbon_data.items()])\n",
    "                 )])\n",
    "\n",
    "xrd_sort_float = {}\n",
    "\n",
    "for boolkeys, boolvalues in xrd_sort.items():\n",
    "    xrd_sort_float.update([(boolkeys, {})])\n",
    "    for carbonkeys, carbonvalues in boolvalues.items():\n",
    "        if len(carbonvalues.loc[carbonvalues[\"Sulfur loading (wt%)\"]!=\"\"]) >0:\n",
    "            xrd_sort_float[boolkeys].update([(carbonkeys, carbonvalues.loc[carbonvalues[\"Sulfur loading (wt%)\"]!=\"\"][\"Sulfur loading (wt%)\"].to_numpy(dtype=float))])\n",
    "\n",
    "xs = [np.full((values.shape[0]), x) for x, values in enumerate(xrd_sort_float[True].values())]\n",
    "\n",
    "f, ax = plt.subplots(figsize=half_width_figsize)\n",
    "bp = {True: ax.violinplot([list(y) for y in [*xrd_sort_float[True].values()]], \n",
    "                          widths=[len(values)/sum([len(values) for values in xrd_sort_float[True].values()]) for values in xrd_sort_float[True].values()], positions=np.arange(len(xrd_sort_float[True]))-0.25, showmedians=True),\n",
    "      False: ax.violinplot([list(y) for y in [*xrd_sort_float[False].values()]], \n",
    "                           widths=[len(values)/sum([len(values) for values in xrd_sort_float[False].values()]) for values in xrd_sort_float[False].values()], positions=np.arange(len(xrd_sort_float[False])), showmedians=True),\n",
    "      \"n.d.\": ax.violinplot([list(y) for y in [*xrd_sort_float[\"n.d.\"].values()]], \n",
    "                            widths=[len(values)/sum([len(values) for values in xrd_sort_float[\"n.d.\"].values()]) for values in xrd_sort_float[\"n.d.\"].values()], positions=np.arange(len(xrd_sort_float[\"n.d.\"]))+0.25, showmedians=True)}\n",
    "\n",
    "ax.set_ylim([0, 100])\n",
    "\n",
    "color_bp = {True: \"cadetblue\", \n",
    "            False: \"goldenrod\",\n",
    "            \"n.d.\": \"darkgrey\"}\n",
    "\n",
    "for key, values in color_bp.items():\n",
    "    for body in bp[key][\"bodies\"]:\n",
    "        body.set_facecolor(values)\n",
    "    for line in [\"cmaxes\", \"cmins\", \"cbars\", \"cmedians\"]:\n",
    "        bp[key][line].set_color(values)\n",
    "        \n",
    "jitter = 0.05\n",
    "\n",
    "[ax.plot(np.full((values.shape[0]), x+jitter*np.random.rand(values.shape[0])-0.5*jitter)-0.25,\n",
    "         values, \".\", color=color_bp[True], label=\"S$_{8}$ present\")  for x, values in enumerate(xrd_sort_float[True].values())]\n",
    "[ax.plot(np.full((values.shape[0]), x+jitter*np.random.rand(values.shape[0])-0.5*jitter),\n",
    "         values, \".\", color=color_bp[False], label=\"S$_{8}$ absent\")  for x, values in enumerate(xrd_sort_float[False].values())]\n",
    "[ax.plot(np.full((values.shape[0]), x)+0.25+jitter*np.random.rand(values.shape[0])-0.5*jitter,\n",
    "         values, \".\", color=color_bp[\"n.d.\"], label=\"No XRD\")  for x, values in enumerate(xrd_sort_float[\"n.d.\"].values())]\n",
    "ax.set_xticks(np.arange(len(xrd_sort_float[True])))\n",
    "# ax.set_xticklabels(xrd_sort_float[True].keys(), rotation=45)\n",
    "ax.set_xticklabels([\"Graphene\", \"GO\", \"TMC\", \"CNTs\"])\n",
    "ax.set_ylabel(\"Sulfur content in \\nsulfur/ carbon composite (wt%)\")\n",
    "ax.set_xlabel(\"Host carbon\")\n",
    "\n",
    "\n",
    "handles, labels = ax.get_legend_handles_labels()\n",
    "unique_labels, unique_idx = np.unique(labels, return_index=True)\n",
    "unique_handles = [handles[idx] for idx in unique_idx] \n",
    "\n",
    "ax.legend(labels=list(unique_labels), handles=unique_handles,\n",
    "          markerscale=1, ncol=1, columnspacing=0)\n",
    "\n",
    "plt.tight_layout()\n",
    "\n",
    "plt.savefig(os.path.join(save_path, \"png\", \"5_Violin_plot_XRD_by_carbon_type.png\"), dpi=200, bbox_inches=\"tight\")\n",
    "plt.savefig(os.path.join(save_path, \"eps\", \"5_Violin_plot_XRD_by_carbon_type.eps\"), bbox_inches=\"tight\")"
   ]
  },
  {
   "cell_type": "markdown",
   "id": "6c39f9f3",
   "metadata": {},
   "source": [
    "# Conductive carbon additive"
   ]
  },
  {
   "cell_type": "code",
   "execution_count": null,
   "id": "aa4e50ee",
   "metadata": {},
   "outputs": [],
   "source": [
    "conductive_add_names, conductive_add_counts = np.unique(available_data[\"Conductive additive\"], return_counts=True)\n",
    "\n",
    "\n",
    "conductive_add_definitions = {\"None\": [\"0\", \"None\", \"n.d.\"],\n",
    "                       \"Acetylene black\": [\"Acetylene black\", \"Acetylene carbon black\"],\n",
    "                       \"Carbon black (other)\": [\"Conductive carbon black\", \"conducting carbon\",\n",
    "                                                \"Super-S carbon black\", \"Carbon black\", \"carbon black\", \n",
    "                                                \"Super C65\", \"Super C65 + Printex XE2\"],\n",
    "                       \"Super P carbon black\": [\"Super-P carbon black\", \"Super P carbon black\"],\n",
    "                       \"Nanofibers/ tubes\": [\"CNTs\", \"Carbon fibers with carbon nanofibers\"]}\n",
    "\n",
    "# cca_order = [*conductive_add_definitions.keys()]\n",
    "cca_order = [\"None\", \"Carbon black (other)\", \"Acetylene black\", \"Super P carbon black\", \"Nanofibers/ tubes\"]\n",
    "\n",
    "conductive_add_definitions = dict([(key, conductive_add_definitions[key]) for key in cca_order])\n",
    "\n",
    "cca_sort = dict([(keys, pd.concat([df.loc[df[\"Conductive additive\"]==name][[\"Conductive additive\", \"Conductive additive content (wt%)\"]] \n",
    " for name in values])) for keys, values in conductive_add_definitions.items()])\n",
    "\n",
    "cca_sort[\"None\"].loc[cca_sort[\"None\"][\"Conductive additive content (wt%)\"] != '0'] = '0'\n",
    "\n",
    "outer_pie_data = np.hstack([[np.unique(cca_sort[name][\"Conductive additive content (wt%)\"], return_counts=True)[1]] \n",
    " for name in cca_sort.keys()]).flatten()\n",
    "outer_pie_labels = np.hstack([[np.unique(cca_sort[name][\"Conductive additive content (wt%)\"], return_counts=True)[0]] \n",
    " for name in cca_sort.keys()]).flatten()\n",
    "\n",
    "\n",
    "cca_colors = {\"None\": \"Greys\",\n",
    "              \"Acetylene black\": \"Blues\",\n",
    "              \"Carbon black (other)\": \"Greens\",\n",
    "              \"Super P carbon black\": \"Reds\",\n",
    "              \"Nanofibers/ tubes\": \"Purples\"}\n",
    "\n",
    "n_colors = dict([(name, np.unique(cca_sort[name][\"Conductive additive content (wt%)\"], return_counts=True)[0].shape[0])\n",
    "                 for name in cca_sort.keys()])\n",
    "\n",
    "outer_colors = [item for sublist in [[vars(plt.cm)[cca_colors[name]](i) for i in np.linspace(0.2, 0.8, n_colors[name])]\n",
    "  for name in n_colors.keys()] for item in sublist]"
   ]
  },
  {
   "cell_type": "code",
   "execution_count": null,
   "id": "65120763",
   "metadata": {},
   "outputs": [],
   "source": [
    "self = PieOuterLabels()\n",
    "\n",
    "start_angle = 0\n",
    "self.set_inner_pie(pie_data=[len(values) for values in cca_sort.values()],\n",
    "                   pie_labels=[*cca_sort.keys()], \n",
    "                   color=[vars(plt.cm)[cca_colors[name]](0.5) for name in cca_sort.keys()],\n",
    "                   start_angle=start_angle, legend_labels=False, fontsize=font_size)\n",
    "\n",
    "\n",
    "## ON FIRST RUN: Comment out marked rows\n",
    "## ON SUBSEQUENT RUNS: uncomment and use values from box below\n",
    "self.set_outer_pie(pie_data=outer_pie_data, pie_labels=outer_pie_labels,\n",
    "                   color=outer_colors, start_angle=start_angle,\n",
    "                   connection_style=\"straight\",\n",
    "                   flier_y_offsets=y_flier_offsets,\n",
    "                   flier_x_offsets=x_flier_offsets, \n",
    "                   fontsize=font_size\n",
    "                  )\n",
    "for name in cca_sort.keys():\n",
    "    self.ax.plot([], [], label=name, ls=\"none\", marker=\"s\", mfc=vars(plt.cm)[cca_colors[name]](0.5), mec=\"k\")\n",
    "    \n",
    "    \n",
    "self.ax.legend(loc=\"center left\", bbox_to_anchor=(1.2, 0.5))\n",
    "self.fig.set_size_inches((a4_inches[1]*0.9, a4_inches[1]*0.9/2))\n",
    "\n",
    "plt.savefig(os.path.join(save_path, \"png\", \"6_Pie_Conductive_additive.png\"), bbox_inches=\"tight\", dpi=200)\n",
    "plt.savefig(os.path.join(save_path, \"eps\", \"6_Pie_Conductive_additive.eps\"), bbox_inches=\"tight\")"
   ]
  },
  {
   "cell_type": "code",
   "execution_count": null,
   "id": "134a5708",
   "metadata": {},
   "outputs": [],
   "source": [
    "x_flier_offsets = self.make_flier_offsets()\n",
    "y_flier_offsets = self.make_flier_offsets()\n",
    "\n",
    "y_flier_offsets['40'] = 0.1\n",
    "y_flier_offsets['15_8'] = 0.1\n",
    "y_flier_offsets['20_9'] = 0.1\n",
    "y_flier_offsets['15_12'] = -0.1"
   ]
  },
  {
   "cell_type": "markdown",
   "id": "74ea9142",
   "metadata": {},
   "source": [
    "# Binder"
   ]
  },
  {
   "cell_type": "code",
   "execution_count": null,
   "id": "e36c5030",
   "metadata": {},
   "outputs": [],
   "source": [
    "binder_names, binder_counts = np.unique(available_data[\"Binder\"], return_counts=True)\n",
    "\n",
    "binder_definitions = {\"None\": [\"0\", \"None\", \"n.d.\"],\n",
    "                      \"PVDF\": [\"PVDF\"],\n",
    "                      \"Other\": [name for name in binder_names if name not in [\"0\", \"None\", \"n.d.\", \"PVDF\"]]}\n",
    "\n",
    "binder_inner = {}\n",
    "for keys, values in binder_definitions.items():\n",
    "    if keys != \"None\":\n",
    "        binder_inner.update([(keys, {\"content\": [],\n",
    "                                     \"counts\": []})])\n",
    "        for name in values:\n",
    "            content, counts = np.unique(available_data.loc[available_data[\"Binder\"]==name][\"Binder content (wt%)\"],\n",
    "                                        return_counts=True)\n",
    "\n",
    "            binder_inner[keys][\"content\"].append(list(content))\n",
    "            binder_inner[keys][\"counts\"].append(list(counts))            \n",
    "\n",
    "binder_inner_sums = {}\n",
    "\n",
    "for keys, values in binder_inner.items():\n",
    "    if keys not in binder_inner_sums:\n",
    "        binder_inner_sums.update([(keys, {})])\n",
    "        \n",
    "    unique_content = np.sort(np.unique([item for sublist in [*values[\"content\"]] for item in sublist]))\n",
    "    for un_co in unique_content:\n",
    "        binder_inner_sums[keys].update([(un_co, np.sum([[item for sublist in [*values[\"counts\"]] for item in sublist][nval]\n",
    "                      for nval, val in enumerate([item for sublist in [*values[\"content\"]] for item in sublist]) if \n",
    "                                                   val==un_co]))])\n",
    "\n",
    "binder_outer = {}\n",
    "\n",
    "for keys, values in binder_definitions.items():\n",
    "    if keys not in binder_outer.keys():\n",
    "        binder_outer.update([(keys, [])])\n",
    "        \n",
    "    for name in values:\n",
    "        binder_outer[keys].append([binder_counts[n_b_name] for \n",
    "                                   n_b_name, b_name in enumerate(binder_names) if b_name==name][0])\n",
    "binder_outer[\"None\"] = [sum(binder_outer[\"None\"])]\n",
    "\n",
    "binder_inner_sums.update([(\"None\", {\"0\": binder_outer[\"None\"][0]})])\n",
    "\n",
    "binder_inner_sums_order = dict([(keys, binder_inner_sums[keys]) for keys in binder_outer.keys()])\n",
    "\n",
    "colors_binder = {\"PVDF\": \"Reds\",\n",
    "          \"Other\": \"Blues\",\n",
    "          \"None\": \"Greys\"}\n",
    "\n",
    "colormap_binder = {}\n",
    "colormap_binder_categories = {}\n",
    "\n",
    "for keys, values in binder_inner_sums_order.items():\n",
    "    colormap_binder.update([(keys, [vars(plt.cm)[colors_binder[keys]](i) for i in \n",
    "                             np.linspace(0.2, 0.9, len(values))])])\n",
    "    colormap_binder_categories.update([(keys, [vars(plt.cm)[colors_binder[keys]](0.8)][0])])"
   ]
  },
  {
   "cell_type": "code",
   "execution_count": null,
   "id": "60b1b654",
   "metadata": {},
   "outputs": [],
   "source": [
    "self = PieOuterLabels()\n",
    "self.set_inner_pie([sum(values) for values in binder_outer.values()], [*binder_outer.keys()],\n",
    "                   color=[*colormap_binder_categories.values()],\n",
    "                  fontsize=font_size)\n",
    "self.set_outer_pie([items for sublist in [list(values.values()) for values in binder_inner_sums_order.values()] for items in sublist],\n",
    "                   [\"{} wt%\".format(items) for sublist in [list(values.keys()) for values in binder_inner_sums_order.values()] for items in sublist],\n",
    "                   color=[item for sublist in [*colormap_binder.values()] for item in sublist],\n",
    "                   flier_y_offsets=y_offsets,\n",
    "                   fontsize=font_size\n",
    "                  )\n",
    "self.ax.legend(labels=[*binder_outer.keys()], loc=\"center left\", bbox_to_anchor=(1.2, 0.5))\n",
    "self.fig.set_size_inches(full_width_figsize)\n",
    "plt.savefig(os.path.join(save_path, \"png\", \"7_Pie_binder_types.png\"), bbox_inches=\"tight\", dpi=200)\n",
    "plt.savefig(os.path.join(save_path, \"eps\", \"7_Pie_binder_types.eps\"), bbox_inches=\"tight\")"
   ]
  },
  {
   "cell_type": "code",
   "execution_count": null,
   "id": "8227ecfc",
   "metadata": {},
   "outputs": [],
   "source": [
    "y_offsets = self.make_flier_offsets()\n",
    "y_offsets[\"8 wt%\"] = 0.15\n",
    "y_offsets[\"7.5 wt%\"] = 0.05"
   ]
  },
  {
   "cell_type": "markdown",
   "id": "62c3ed51",
   "metadata": {},
   "source": [
    "# Electrolyte solvent"
   ]
  },
  {
   "cell_type": "code",
   "execution_count": null,
   "id": "9c65fc95",
   "metadata": {},
   "outputs": [],
   "source": [
    "electrolyte_solvent_orig, electrolyte_solvent_counts = np.unique(df[\"Electrolyte solvent\"], return_counts=True)\n",
    "\n",
    "electrolyte_solvent = np.array(['1:1 DOL DME', '1:1 DOL TEGDME', '1:1 PYR14TFSI\\n/PEGDME',\n",
    "       '4:1 DOL DME', '55:40 DOL DME', 'TEGDME', 'Tetraglyme', 'n.d.'])\n",
    "\n",
    "solvent_idx = [item for sublist in [[n for n, nname in enumerate(electrolyte_solvent_orig) if nname==value] for value in electrolyte_solvent] for item in sublist]\n",
    "electrolyte_solvent_counts = [electrolyte_solvent_counts[idx] for idx in solvent_idx]\n",
    "y_offsets = self.make_flier_offsets()\n",
    "y_offsets[\"1:1 PYR14TFSI\\n/PEGDME\"] = -0.05\n",
    "y_offsets[\"n.d.\"] = 0.5\n",
    "y_offsets[\"1:1 DOL TEGDME\"] = -0.25\n",
    "y_offsets[\"TEGDME\"] = 0.1\n",
    "y_offsets[\"Tetraglyme\"] = 0.4\n",
    "x_offsets = self.make_flier_offsets()\n",
    "x_offsets[\"1:1 DOL DME\"] = 3.25\n",
    "y_offsets[\"1:1 DOL DME\"] = -0.4\n",
    "\n",
    "self = PieOuterLabels()\n",
    "\n",
    "self.set_outer_pie(electrolyte_solvent_counts, electrolyte_solvent, start_angle=30, connection_style=\"straight\",\n",
    "                   fontsize=font_size,\n",
    "                   flier_y_offsets=y_offsets,\n",
    "                   flier_x_offsets=x_offsets\n",
    "                  )\n",
    "self.fig.set_size_inches(full_width_figsize)\n",
    "\n",
    "\n",
    "plt.tight_layout()\n",
    "plt.savefig(os.path.join(save_path, \"eps\", \"7_pie_Electrolyte_solvent.eps\"), bbox_inches=\"tight\")\n",
    "plt.savefig(os.path.join(save_path, \"png\", \"7_pie_Electrolyte_solvent.png\"), bbox_inches=\"tight\", dpi=200)"
   ]
  },
  {
   "cell_type": "markdown",
   "id": "df2a3688",
   "metadata": {},
   "source": [
    "# Separator"
   ]
  },
  {
   "cell_type": "code",
   "execution_count": null,
   "id": "a5ae43d1",
   "metadata": {},
   "outputs": [],
   "source": [
    "separator, separator_counts = np.unique(df[\"Separator type\"], return_counts=True)\n",
    "\n",
    "separator_dict = dict([(sep, separator_counts[nsep]) for nsep, sep in enumerate(separator)])\n",
    "\n",
    "separator_groups = {\"Celgard\": [\"elgard\"],\n",
    "                    \"Fibre\": [\"iber\", \"ibre\"],\n",
    "                    \"Other\": []}\n",
    "\n",
    "separator_dict = dict([(key, dict([(name, separator_counts[nname]) for nname, name in enumerate(separator)\n",
    "                                     if any([item in name for item in separator_groups[key]])\n",
    "                                    ])) for key, values in separator_groups.items()])\n",
    "\n",
    "separator_dict.update([(\"Other\", dict([(name, separator_counts[nname]) for nname, name in enumerate(separator)\n",
    "                                       if any([item in name for item in [sub for sublist in [*separator_groups.values()] for sub in sublist]])==False\n",
    "                                    ])) for key, values in separator_groups.items()])\n",
    "\n",
    "separator_dict = dict([(key, dict([([*separator_dict[key].keys()][i], [*separator_dict[key].values()][i]) for i in\n",
    "      np.argsort([*separator_dict[key].values()])[::-1]])) for key in separator_dict.keys()])\n",
    "\n",
    "labels = [item for sublist in [[*values.keys()] for values in separator_dict.values()] for item in sublist]\n",
    "\n",
    "try:\n",
    "    labels[labels.index(\"\")] = \"n.d.\"\n",
    "except:\n",
    "    pass\n",
    "\n",
    "all_labels = labels\n",
    "all_counts = [item for sublist in [[*values.values()] for values in separator_dict.values()] for item in sublist]\n",
    "\n",
    "selected_labels = []\n",
    "\n",
    "for ncount, count in enumerate(all_counts):\n",
    "    if count>=10:\n",
    "        selected_labels.append(all_labels[ncount])\n",
    "    else:\n",
    "        selected_labels.append(\"\")"
   ]
  },
  {
   "cell_type": "code",
   "execution_count": null,
   "id": "f16c74d1",
   "metadata": {},
   "outputs": [],
   "source": [
    "self = PieOuterLabels()\n",
    "\n",
    "separator_outerpie = [np.sum([*values.values()]) for values in separator_dict.values()]\n",
    "separator_innerpie = [item for sublist in [[*values.values()] for values in separator_dict.values()] for item in sublist]\n",
    "\n",
    "self.set_inner_pie(separator_outerpie, separator_dict.keys(), \n",
    "                   color=[plt.cm.Reds(0.5), plt.cm.Blues(0.5), plt.cm.Greys(0.5)],\n",
    "                   fontsize=font_size, min_label=2)\n",
    "self.set_outer_pie(separator_innerpie, selected_labels, label_fliers=True, \n",
    "                   fontsize=font_size,\n",
    "                   color=[plt.cm.Reds(i) for i in np.linspace(0.2, 1, len(separator_dict[\"Celgard\"]))]+\\\n",
    "                           [plt.cm.Blues(i) for i in np.linspace(0.2, 1, len(separator_dict[\"Fibre\"]))]+\\\n",
    "                           [plt.cm.Greys(i) for i in np.linspace(0.3, 1, len(separator_dict[\"Other\"]))],\n",
    "                  min_label=2)\n",
    "self.ax.legend([*separator_dict.keys()], loc=\"center left\", bbox_to_anchor=(1, 0.5))\n",
    "\n",
    "for nins, ins in enumerate(self.outer_autopct):\n",
    "    if nins in [17, 18,19, 20, 21, 22]:\n",
    "        ins.set_color(\"white\")\n",
    "        \n",
    "self.fig.set_size_inches(full_width_figsize)\n",
    "plt.savefig(os.path.join(save_path, \"png\", \"8_pie_separator_types.png\"), bbox_inches=\"tight\", dpi=200)\n",
    "plt.savefig(os.path.join(save_path, \"eps\", \"8_pie_separator_types.eps\"), bbox_inches=\"tight\")\n"
   ]
  },
  {
   "cell_type": "markdown",
   "id": "92bc3adb",
   "metadata": {},
   "source": [
    "# Lithium nitrate and voltages"
   ]
  },
  {
   "cell_type": "code",
   "execution_count": null,
   "id": "e9fdbd1d",
   "metadata": {},
   "outputs": [],
   "source": [
    "low_volt_LiNO3 = df.loc[df[\"Minimum voltage\"]<1.7][[\"LiNO3 content\", \"LiNO3_units\"]]\n",
    "ok_volt_LiNO3 = df.loc[df[\"Minimum voltage\"]>=1.7][[\"LiNO3 content\", \"LiNO3_units\"]]"
   ]
  },
  {
   "cell_type": "code",
   "execution_count": null,
   "id": "5bbe8b88",
   "metadata": {},
   "outputs": [],
   "source": [
    "## converting wt% to M\n",
    "mass_LiNO3 = 68.946 ## g/mol\n",
    "mass_LiTFSI = 287.09 ## g/mol\n",
    "\n",
    "density_DOL = 1.06 ## g/cm3\n",
    "density_DME = 0.868 ## g/cm3\n",
    "\n",
    "LiNO3 = available_data.loc[(available_data[\"Electrolyte solvent\"]==\"1:1 DOL DME\")\n",
    "                            & (available_data[\"Salt content\"]==1)\n",
    "                            & (available_data[\"Electrolyte salt\"]==\"LiTFSI\")][[\"LiNO3 content\", \"LiNO3_units\"]]\n",
    "\n",
    "LiNO3wt_pc = LiNO3.loc[LiNO3[\"LiNO3_units\"]==\"wt%\"]\n",
    "\n",
    "LiNO3_M = LiNO3.loc[LiNO3[\"LiNO3_units\"]==\"M\"][\"LiNO3 content\"]\n",
    "\n",
    "## all values for 1M LiTFSI in DOL DME\n",
    "mass_solvent = 0.5*density_DOL*1000+0.5*density_DME*1000 ## g/L\n",
    "LiNO3_combined = list(LiNO3_M)+[np.around((mass_solvent+mass_LiTFSI)/(100-wtpc)*wtpc/mass_LiNO3, 4) for wtpc in LiNO3wt_pc[\"LiNO3 content\"]]\n",
    "\n",
    "# len(LiNO3_combined)==len(LiNO3)\n",
    "\n",
    "LiNO3_content, LiNO3_counts = np.unique(LiNO3_combined, return_counts=True)\n",
    "\n",
    "LiNO3_ranges = [-0.1, 0, 0.1, 0.2, 0.3, 0.4, 0.5, 0.6, 0.7, 0.8, 0.9, 1.0, 1.1]\n",
    "linO3_pie = []\n",
    "for nr, r in enumerate(LiNO3_ranges[:-1]):\n",
    "    linO3_pie.append(len([value for value in LiNO3_combined if value>LiNO3_ranges[nr] and value<=LiNO3_ranges[nr+1]]))\n",
    "lino3_labels = [\"None\", \"≤0.1 M\", \"0.1-0.2 M\", \"0.2-0.3 M\", \"0.3-0.4 M\", \n",
    "                \"0.4-0.5 M\", \"0.5-0.6 M\", \"0.5-0.6 M\", \"0.6-0.7 M\", \"0.7-0.8 M\",\n",
    "                 \"0.8-0.9\", \"1 M\", \"1M +\"]"
   ]
  },
  {
   "cell_type": "code",
   "execution_count": null,
   "id": "e2956a18",
   "metadata": {},
   "outputs": [],
   "source": [
    "low_volt_wtpc = low_volt_LiNO3.loc[low_volt_LiNO3[\"LiNO3_units\"]==\"wt%\"][\"LiNO3 content\"].to_numpy()\n",
    "low_volt_M = list(low_volt_LiNO3.loc[low_volt_LiNO3[\"LiNO3_units\"]==\"M\"][\"LiNO3 content\"])+[np.around((mass_solvent+mass_LiTFSI)/(100-wtpc)*wtpc/mass_LiNO3, 4) for wtpc in low_volt_wtpc]"
   ]
  },
  {
   "cell_type": "code",
   "execution_count": null,
   "id": "2db7df0f",
   "metadata": {},
   "outputs": [],
   "source": [
    "ok_volt_wtpc = ok_volt_LiNO3.loc[ok_volt_LiNO3[\"LiNO3_units\"]==\"wt%\"][\"LiNO3 content\"].to_numpy()\n",
    "ok_volt_M = list(ok_volt_LiNO3.loc[ok_volt_LiNO3[\"LiNO3_units\"]==\"M\"][\"LiNO3 content\"])+[np.around((mass_solvent+mass_LiTFSI)/(100-wtpc)*wtpc/mass_LiNO3, 4) for wtpc in ok_volt_wtpc]"
   ]
  },
  {
   "cell_type": "code",
   "execution_count": null,
   "id": "9b5d45ac",
   "metadata": {
    "scrolled": false
   },
   "outputs": [],
   "source": [
    "plt.close(\"all\")\n",
    "\n",
    "f, (ax_ok, ax_low) = plt.subplots(2, 1, sharex=True, sharey=True)\n",
    "f.set_size_inches(half_width_figsize)\n",
    "ax_low.hist(low_volt_M, color=\"gainsboro\", edgecolor=\"k\")\n",
    "ax_ok.hist(ok_volt_M, color=\"gainsboro\", edgecolor=\"k\")\n",
    "\n",
    "ax_ok.yaxis.set_major_locator(MultipleLocator(20))\n",
    "ax_ok.yaxis.set_minor_locator(MultipleLocator(5))\n",
    "\n",
    "ax_low.set_xlabel(\"LiNO$_{3}$ concentration (M)\")\n",
    "\n",
    "plt.tight_layout()\n",
    "plt.subplots_adjust(left=0.15)\n",
    "\n",
    "ax_low.annotate(\"Number of samples\", \n",
    "                xy=(-0.1, 1), xycoords=ax_low.transAxes, rotation=90 , va=\"center\", ha=\"right\")\n",
    "ax_ok.annotate(\"Lower cutoff $\\geq$ 1.7 V\", xy=(0.95, 0.9), ha=\"right\", va=\"top\", xycoords=ax_ok.transAxes)\n",
    "ax_low.annotate(\"Lower cutoff $<$ 1.7 V\", xy=(0.95, 0.9), ha=\"right\", va=\"top\", xycoords=ax_low.transAxes)\n",
    "\n",
    "plt.savefig(os.path.join(save_path, \"png\", \"9_Histogram_LiNO3_LCV.png\"), bbox_inches=\"tight\", dpi=200)\n",
    "plt.savefig(os.path.join(save_path, \"eps\", \"9_Histogram_LiNO3_LCV.eps\"), bbox_inches=\"tight\")"
   ]
  },
  {
   "cell_type": "code",
   "execution_count": null,
   "id": "f8ec16b9",
   "metadata": {},
   "outputs": [],
   "source": [
    "LiNO3_wtpc = df.loc[df[\"LiNO3_units\"]==\"wt%\"]\n",
    "LiNO3_wtpc[\"LiNO3_molconv\"] = [np.around((mass_solvent+mass_LiTFSI)/(100-wtpc)*wtpc/mass_LiNO3, 4) for wtpc in LiNO3_wtpc[\"LiNO3 content\"]]"
   ]
  },
  {
   "cell_type": "code",
   "execution_count": null,
   "id": "159e717e",
   "metadata": {},
   "outputs": [],
   "source": [
    "fig, ax = plt.subplots(figsize=half_width_figsize)\n",
    "\n",
    "_leq_01M = mpatch.Rectangle(xy=(0, 0), width=0.1, height=linO3_pie[1], facecolor=\"gainsboro\", edgecolor=\"k\")\n",
    "_01_02M = mpatch.Rectangle(xy=(0.1, 0), width=0.1, height=linO3_pie[2], facecolor=\"gainsboro\", edgecolor=\"k\")\n",
    "_02_03M = mpatch.Rectangle(xy=(0.2, 0), width=0.1, height=linO3_pie[3], facecolor=\"gainsboro\", edgecolor=\"k\")\n",
    "_03_04M = mpatch.Rectangle(xy=(0.3, 0), width=0.1, height=linO3_pie[4], facecolor=\"gainsboro\", edgecolor=\"k\")\n",
    "_1M = mpatch.Rectangle(xy=(0.955, 0), width=0.05, height=linO3_pie[-2], facecolor=\"gainsboro\", edgecolor=\"k\")\n",
    "\n",
    "ax.plot([0], [linO3_pie[0]], \"x\", color=\"k\")\n",
    "ax.add_patch(_leq_01M)\n",
    "ax.add_patch(_01_02M)\n",
    "ax.add_patch(_02_03M)\n",
    "ax.add_patch(_03_04M)\n",
    "ax.add_patch(_1M)\n",
    "\n",
    "ax.set_ylim([0, 100])\n",
    "ax.set_xlim([-0.1, 1.1])\n",
    "ax.set_xlabel(\"LiNO$_{3}$ content (M)\")\n",
    "ax.set_ylabel(\"Number of samples\")\n",
    "plt.tight_layout()\n",
    "plt.savefig(os.path.join(save_path, \"png\", \"9_Histogram_LiNO3.png\"), bbox_inches=\"tight\", dpi=200)\n",
    "plt.savefig(os.path.join(save_path, \"eps\", \"9_Histogram_LiNO3.eps\"), bbox_inches=\"tight\")\n"
   ]
  },
  {
   "cell_type": "markdown",
   "id": "61157f55",
   "metadata": {},
   "source": [
    "# Voltage ranges"
   ]
  },
  {
   "cell_type": "code",
   "execution_count": null,
   "id": "466d04f5",
   "metadata": {},
   "outputs": [],
   "source": [
    "unique_min = np.unique(df[\"Minimum voltage\"])\n",
    "unique_max = np.unique(df[\"Maximum voltage\"])\n",
    "voltage_ranges = np.vstack((np.array(df[\"Minimum voltage\"]), np.array(df[\"Maximum voltage\"])))\n",
    "\n",
    "vrange_counts = np.full((unique_min.shape[0],\n",
    "                         unique_max.shape[0]), 0)\n",
    "\n",
    "for nmin, umin in enumerate(unique_min):\n",
    "    for nmax, umax in enumerate(unique_max):\n",
    "        match = [nvolt for nvolt in range(voltage_ranges.shape[1]) if voltage_ranges[0, nvolt]==umin\n",
    "                 and voltage_ranges[1, nvolt]==umax]\n",
    "        vrange_counts[nmin, nmax] = len(match)"
   ]
  },
  {
   "cell_type": "code",
   "execution_count": null,
   "id": "61d6eb9a",
   "metadata": {},
   "outputs": [],
   "source": [
    "f, ax = plt.subplots(figsize=half_width_figsize)\n",
    "umin = 3\n",
    "umax = 0\n",
    "\n",
    "# colors = [plt.cm.tab20(i) for i in range(np.nonzero(vrange_counts)[0].shape[0])]\n",
    "ax.set_prop_cycle(\"color\", [*c.saturation(70, scheme=[\"Dark Blue\"]).values()])\n",
    "\n",
    "ax.set_xlim([0.8, 3.8])\n",
    "ax.set_ylim([0, np.max(vrange_counts)+2]);\n",
    "\n",
    "ax.xaxis.set_major_locator(MultipleLocator(0.5))\n",
    "ax.xaxis.set_minor_locator(MultipleLocator(0.1))\n",
    "ax.xaxis.grid(which=\"minor\", lw=0.2)\n",
    "ax.xaxis.grid(which=\"major\")\n",
    "\n",
    "ax.yaxis.set_major_locator(MultipleLocator(10))\n",
    "ax.yaxis.set_minor_locator(MultipleLocator(1))\n",
    "ax.yaxis.grid(which=\"minor\", lw=0.2)\n",
    "ax.yaxis.grid(which=\"major\")\n",
    "\n",
    "lw=1.5\n",
    "\n",
    "for umin in range(vrange_counts.shape[0]):\n",
    "    for umax in range(vrange_counts.shape[1]):\n",
    "        if vrange_counts[umin, umax] > 0:\n",
    "            ax.errorbar(x=[np.nanmedian([unique_min[umin], unique_max[umax]])],\n",
    "                        y=[vrange_counts[umin, umax]],\n",
    "                        xerr=np.array([[np.nanmedian([unique_min[umin], unique_max[umax]])-unique_min[umin]],\n",
    "                                      [unique_max[umax]-np.nanmedian([unique_min[umin], unique_max[umax]])]]),\n",
    "                       capsize=2*lw, linewidth=lw, capthick=1.5*lw)\n",
    "listar = mpatch.Rectangle(xy=(1.8, 0),\n",
    "                          width=(2.8-1.8),\n",
    "                          height=100,\n",
    "                          facecolor=c.Blue.MidBlue[80],\n",
    "                          alpha=0.2,\n",
    "                          zorder=0)\n",
    "ax.add_patch(listar)\n",
    "ax.set_ylabel(\"Number of samples \\n(total {} samples, {} articles)\".format(np.sum(vrange_counts), \n",
    "                                                                         len(bibliography_list)))\n",
    "ax.set_xlabel(\"Galvanostatic voltage range (V)\")\n",
    "plt.tight_layout()\n",
    "plt.savefig(os.path.join(save_path, \"eps\", \"10_errbars_Voltage_ranges_LiSTAR_bounds.eps\"), bbox_inches=\"tight\")\n",
    "plt.savefig(os.path.join(save_path, \"png\", \"10_errbars_Voltage_ranges_LiSTAR_bounds.png\"), bbox_inches=\"tight\", dpi=200)"
   ]
  },
  {
   "cell_type": "markdown",
   "id": "a25518c3",
   "metadata": {},
   "source": [
    "# CRates"
   ]
  },
  {
   "cell_type": "code",
   "execution_count": null,
   "id": "8beae680",
   "metadata": {},
   "outputs": [],
   "source": [
    "data_load = {}\n",
    "formation_cycles = 5\n",
    "\n",
    "formation_dict = {}\n",
    "\n",
    "for idx in available_data.index:\n",
    "    label = \" \".join((available_data.iloc[idx][\"First author\"],\n",
    "                                 available_data.iloc[idx][\"Year\"],\n",
    "                                 available_data.iloc[idx][\"Optional label\"]))\n",
    "    data_load.update([(label, [])])\n",
    "    formation_dict.update([(label, [])])\n",
    "    for fname in available_data.iloc[idx][\"Scanned data\"]:\n",
    "        CRates = np.load(fname, allow_pickle=True)[1]\n",
    "        available_rates, rates_count = np.unique(CRates[1], return_counts=True)\n",
    "        formation_dict[label].append(available_rates)\n",
    "        if rates_count.shape[0] == 1:\n",
    "            data_load[label].append(available_rates[0])\n",
    "        elif rates_count.shape[0] == 2:\n",
    "            if min(rates_count) < formation_cycles:\n",
    "                data_load[label].append(available_rates[np.argmax(rates_count)])"
   ]
  },
  {
   "cell_type": "code",
   "execution_count": null,
   "id": "67701bb1",
   "metadata": {},
   "outputs": [],
   "source": [
    "all_CRates = [item for sublist in [*data_load.values()] for item in sublist]"
   ]
  },
  {
   "cell_type": "code",
   "execution_count": null,
   "id": "0f9148f9",
   "metadata": {},
   "outputs": [],
   "source": [
    "CRate_mins = [0.0,  0.08, 0.15, 0.35, 0.9, 1.8, 2.25]\n",
    "CRate_maxs = [0.08, 0.15, 0.30, 0.60, 1.4, 2.2, np.inf]\n",
    "CRate_names = [\"< 0.1 C\", \"0.1 C\", \"0.2 C\", \"0.5 C\", \"1 C\", \"2 C\", \"> 2 C\"]"
   ]
  },
  {
   "cell_type": "code",
   "execution_count": null,
   "id": "9c0ca567",
   "metadata": {},
   "outputs": [],
   "source": [
    "values_binned = [len([value for value in all_CRates if value>CRate_mins[n] and value<=CRate_maxs[n]]) for n in range(len(CRate_mins))]\n",
    "CRate_values_binned = np.copy(values_binned)"
   ]
  },
  {
   "cell_type": "code",
   "execution_count": null,
   "id": "20de7dc7",
   "metadata": {},
   "outputs": [],
   "source": [
    "x_counts, y_counts = np.unique(all_CRates, return_counts=True)"
   ]
  },
  {
   "cell_type": "code",
   "execution_count": null,
   "id": "88384f7c",
   "metadata": {},
   "outputs": [],
   "source": [
    "f, (ax_lo, ax_hi) = plt.subplots(1, 2, sharey=True, figsize=(full_width_figsize))\n",
    "\n",
    "for ax in [ax_lo, ax_hi]:\n",
    "    _0_008 = mpatch.Rectangle((0, 0), 0.08, values_binned[0], facecolor=\"gainsboro\", edgecolor=\"k\")\n",
    "    _008_015 = mpatch.Rectangle((0.08, 0), 0.07, values_binned[1], facecolor=\"gainsboro\", edgecolor=\"k\")\n",
    "    _015_035 = mpatch.Rectangle((0.15, 0), 0.15, values_binned[2], facecolor=\"gainsboro\", edgecolor=\"k\")\n",
    "    _035_06 = mpatch.Rectangle((0.35, 0), 0.25, values_binned[3], facecolor=\"gainsboro\", edgecolor=\"k\")\n",
    "    _09_14 = mpatch.Rectangle((0.9, 0), 0.5, values_binned[4], facecolor=\"gainsboro\", edgecolor=\"k\")\n",
    "    _18_22 = mpatch.Rectangle((1.8, 0), 0.4, values_binned[5], facecolor=\"gainsboro\", edgecolor=\"k\")\n",
    "    \n",
    "    ax.add_patch(_0_008)\n",
    "    ax.add_patch(_008_015)\n",
    "    ax.add_patch(_015_035)\n",
    "    ax.add_patch(_035_06)\n",
    "    ax.add_patch(_09_14)\n",
    "    ax.add_patch(_18_22)\n",
    "    \n",
    "    ax.plot(x_counts, y_counts, \".\", color=\"k\")\n",
    "\n",
    "lo_lims = [0, 4.5]\n",
    "hi_lims = [9.5, 10.5]\n",
    "    \n",
    "ax.set_ylim([0, 60])\n",
    "ax_lo.set_xlim([lo_lims[0], lo_lims[1]])\n",
    "ax_hi.set_xlim([hi_lims[0], hi_lims[1]])\n",
    "\n",
    "total_width = (max(lo_lims)-min(lo_lims))+(max(hi_lims)-min(hi_lims))\n",
    "target_width = 0.8\n",
    "centre_margin = 0.02\n",
    "\n",
    "lo_width = (target_width-centre_margin)*(max(lo_lims)-min(lo_lims))/total_width\n",
    "hi_width = (target_width-centre_margin)*(max(hi_lims)-min(hi_lims))/total_width\n",
    "\n",
    "pos_lo = ax_lo.get_position()\n",
    "ax_lo.set_position((pos_lo.x0, pos_lo.y0, lo_width, pos_lo.height))\n",
    "ax_hi.set_position((pos_lo.x0+lo_width+centre_margin,\n",
    "                    pos_lo.y0, hi_width, pos_lo.height))\n",
    "ax_lo.spines.right.set_visible(False)\n",
    "ax_hi.spines.left.set_visible(False)\n",
    "\n",
    "# plt.rcParams.update({\"xtick.top\": True})\n",
    "# plt.rcParams.update({\"ytick.right\": True})\n",
    "\n",
    "ax_lo.tick_params(axis=\"y\", right=False)\n",
    "ax_hi.tick_params(axis=\"y\", left=False)\n",
    "\n",
    "slant_width = 1  # proportion of vertical to horizontal extent of the slanted line\n",
    "kwargs = dict(marker=[(-1, -slant_width), (1, slant_width)], markersize=8,\n",
    "              linestyle=\"none\", color='k', mec='k', mew=1, clip_on=False)\n",
    "ax_lo.plot([1, 1], [0, 1], transform=ax_lo.transAxes, **kwargs)\n",
    "ax_hi.plot([0, 0], [1, 0], transform=ax_hi.transAxes, **kwargs)\n",
    "ax_lo.set_xticks(ax_lo.get_xticks()[:-1])\n",
    "ax_hi.set_xticks(ax_hi.get_xticks()[1:])\n",
    "\n",
    "ax_lo.set_ylabel(\"Number of samples\")\n",
    "ax_lo.annotate(\"CRate\", xy=(0.6, -0.075), xycoords=ax_lo.transAxes, va=\"top\")\n",
    "\n",
    "ax_lo.annotate(\"0.1 C\", xy=(0.1, values_binned[1]), xytext=(0.3, values_binned[1]), arrowprops=dict(arrowstyle='->'), ha=\"left\")\n",
    "ax_lo.annotate(\"0.2 C\", xy=(0.2, values_binned[2]), xytext=(0.3, 45), arrowprops=dict(arrowstyle='->'))\n",
    "\n",
    "plt.savefig(os.path.join(save_path, \"eps\", \"11_histogram_CRates.eps\"), bbox_inches=\"tight\")\n",
    "plt.savefig(os.path.join(save_path, \"png\", \"11_histogram_CRates.png\"), bbox_inches=\"tight\", dpi=200)"
   ]
  },
  {
   "cell_type": "markdown",
   "id": "bf0f5495",
   "metadata": {},
   "source": [
    "# Capacity results"
   ]
  },
  {
   "cell_type": "code",
   "execution_count": null,
   "id": "6bd70f81",
   "metadata": {},
   "outputs": [],
   "source": [
    "def compare_capacity(cycle_number, crate_min, crate_max, formation_cycles=5):\n",
    "    capacity_dict = {}\n",
    "    compare_variables = [\"Sulfur loading (wt%)\", \"CRate\", \"Capacity\", \"Label\", \"yerr\"]\n",
    "\n",
    "    for key in carbon_types_combined.keys():\n",
    "        capacity_dict.update([(key, dict([(key, []) for key in compare_variables]))])\n",
    "        for idx in carbon_types_combined[key][\"Scanned data\"].index:\n",
    "            for entry in carbon_types_combined[key][\"Scanned data\"][idx]:\n",
    "                record = np.load(entry, allow_pickle=True)\n",
    "                ## Records should be 3 rows x cycle columns. If saved incorrectly, may be transposed\n",
    "                if record.shape[1] == 3:\n",
    "                    record = record.T\n",
    "                \n",
    "                first_value = np.min(np.argwhere(np.isfinite(record[-1])))\n",
    "                crates = record[1]\n",
    "                unique_rates, rate_counts = np.unique(crates, return_counts=True)\n",
    "                if unique_rates.shape[0] == 2 and rate_counts[np.argmin(unique_rates)] < formation_cycles:\n",
    "                    crate_use = np.max(unique_rates)\n",
    "                elif unique_rates.shape[0] == 1:\n",
    "                    crate_use = unique_rates[0]\n",
    "                    \n",
    "                if crate_use>crate_min and crate_use<=crate_max:\n",
    "                    if type(cycle_number) == int and cycle_number<record.shape[1]:\n",
    "                        capacity_dict[key][\"Capacity\"].append(record[-1][first_value+cycle_number])\n",
    "                    elif type(cycle_number) == list:\n",
    "                        cyc_cap = [np.nan, np.nan]\n",
    "                        for ncyc, cyc in enumerate(cycle_number):\n",
    "                            if cyc<record.shape[1]:\n",
    "                                \n",
    "                                cyc_cap[ncyc] = record[-1][first_value+cyc]\n",
    "                        capacity_dict[key][\"Capacity\"].append(np.nanmedian(cyc_cap))\n",
    "                        capacity_dict[key][\"yerr\"].append(cyc_cap[::-1])\n",
    "                        \n",
    "                    try:\n",
    "                        capacity_dict[key][\"Sulfur loading (wt%)\"].append(float(carbon_types_combined[key][\"Sulfur loading (wt%)\"][idx]))\n",
    "                    except:\n",
    "                        capacity_dict[key][\"Sulfur loading (wt%)\"].append(np.nan)\n",
    "                    capacity_dict[key][\"CRate\"].append(crate_use)\n",
    "                    capacity_dict[key][\"Label\"].append(\" \".join((carbon_types_combined[key][\"First author\"][idx],\n",
    "                                                            carbon_types_combined[key][\"Year\"][idx],\n",
    "                                                            carbon_types_combined[key][\"Optional label\"][idx])))   \n",
    "        capacity_dict[key][\"yerr\"] = abs(np.array(capacity_dict[key][\"yerr\"]).T-capacity_dict[key][\"Capacity\"])\n",
    "    return capacity_dict\n",
    "\n",
    "\n",
    "def make_mixed_carbon_capacity(compare_capacity_output, filter_high=True):\n",
    "    capacity_plot = dict([(keys, values) for keys, values in compare_capacity_output.items()\n",
    "                          if \"+\" not in keys\n",
    "                          and len(values[\"Capacity\"])>0])\n",
    "    \n",
    "    \n",
    "    mixed_data_dicts = [values for keys, values in compare_capacity_output.items() \n",
    "                        if \"+\" in keys \n",
    "                        if len(values[\"Capacity\"])>0] \n",
    "    mixed_carbon_data = {}\n",
    "    \n",
    "    try:\n",
    "        for keys in mixed_data_dicts[0].keys():\n",
    "            mixed_carbon_data.update([(keys, np.hstack([subvalues[keys] for subvalues in mixed_data_dicts]))])\n",
    "\n",
    "        capacity_plot.update([(\"Mixed carbon\", mixed_carbon_data)])   \n",
    "        \n",
    "    except:\n",
    "        pass\n",
    "    \n",
    "    if filter_high==True:\n",
    "        capacity_dict_filtered = {}\n",
    "\n",
    "        for host_key, host_value in capacity_plot.items():\n",
    "            capacity_dict_filtered.update([(host_key, {})])\n",
    "            max_capacity = np.array(host_value[\"Capacity\"])+host_value[\"yerr\"][0, :]\n",
    "\n",
    "            retain_idx = [nvalue for nvalue, values in enumerate(max_capacity) if values < 1675]\n",
    "\n",
    "            for feature_key, feature_value in host_value.items():\n",
    "                if feature_key != \"yerr\":\n",
    "                    capacity_dict_filtered[host_key].update([(feature_key,\n",
    "                                                          [feature_value[idx] for idx in retain_idx])])\n",
    "                capacity_dict_filtered[host_key].update([(\"yerr\", \n",
    "                                                        np.vstack([host_value[\"yerr\"][:, idx] for idx in retain_idx]).T)])\n",
    "                \n",
    "        return capacity_dict_filtered\n",
    "    \n",
    "    else:\n",
    "        return capacity_plot"
   ]
  },
  {
   "cell_type": "code",
   "execution_count": null,
   "id": "4b7d359c",
   "metadata": {},
   "outputs": [],
   "source": [
    "capacity_01 = make_mixed_carbon_capacity(compare_capacity([0, 10], 0.05, 0.15))\n",
    "capacity_02 = make_mixed_carbon_capacity(compare_capacity([0, 10], 0.15, 0.25))\n",
    "capacity_05 = make_mixed_carbon_capacity(compare_capacity([0, 10], 0.4, 0.6))\n",
    "capacity_1 = make_mixed_carbon_capacity(compare_capacity([0, 10], 0.8, 1.2))\n",
    "capacity_2 = make_mixed_carbon_capacity(compare_capacity([0, 10], 1.5, 2.5))"
   ]
  },
  {
   "cell_type": "code",
   "execution_count": null,
   "id": "2cf9443d",
   "metadata": {
    "scrolled": false
   },
   "outputs": [],
   "source": [
    "fig, ((ax01, ax02), (ax05, ax1)) = plt.subplots(2, 2, sharex=True, sharey=True, figsize=(a4_inches[1]*0.8, a4_inches[1]*0.8))\n",
    "\n",
    "for ax in [ax01, ax02, ax05, ax1]:\n",
    "    ax.set_xlim([0, 100])\n",
    "    ax.set_ylim([0, 1675])\n",
    "    \n",
    "ax_list = [ax01, ax02, ax05, ax1]\n",
    "dict_list = [capacity_01, capacity_02, capacity_05, capacity_1]\n",
    "label_list = [\"0.1 C\", \"0.2 C\", \"0.5 C\", \"1C\"]\n",
    "\n",
    "mod_labels = {'Graphene': \"Graphene\",\n",
    "              'Graphene oxide': \"GO\",\n",
    "              'Templated carbon': \"TMC\",\n",
    "              'Carbon nanotubes': \"CNT\",\n",
    "              'Mixed carbon': \"Mixed\"}\n",
    "\n",
    "carbon_types_labels = {\"Graphene\": \"h\", \n",
    "                       \"Graphene oxide\": \"v\",\n",
    "                       \"Templated carbon\": \"s\",\n",
    "                       \"Carbon nanotubes\": \"o\",\n",
    "                       \"Mixed carbon\": \"x\"}\n",
    "\n",
    "for nax, ax in enumerate(ax_list):\n",
    "    for material_key, material_values in dict_list[nax].items():\n",
    "        ax.errorbar(material_values[\"Sulfur loading (wt%)\"], material_values[\"Capacity\"], ls=\"none\",\n",
    "                yerr=material_values[\"yerr\"], ecolor=carbon_types_colors[material_key])\n",
    "        ax.plot(material_values[\"Sulfur loading (wt%)\"], material_values[\"Capacity\"]+material_values[\"yerr\"][0, :], \n",
    "               marker=carbon_types_labels[material_key], ls=\"none\", color=carbon_types_colors[material_key], label=mod_labels[material_key])\n",
    "    ax.annotate(label_list[nax], xy=(0.1, 0.9), xycoords=ax.transAxes)\n",
    "        \n",
    "ax_list[0].legend(ncol=5, loc=\"lower center\", bbox_to_anchor=(1, 1))\n",
    "\n",
    "plt.subplots_adjust(hspace=0.05, wspace=0.1)\n",
    "\n",
    "ax_list[2].annotate(\"Gravimetric capacity at cycles 1 and 10 (mAh g$^{-1}$)\", (-0.2, 1),\n",
    "                    xycoords=ax_list[2].transAxes, rotation=90, va=\"center\", ha=\"center\")\n",
    "ax_list[2].annotate(\"Sulfur loading in composite (wt%)\", (1, -0.1),\n",
    "                    xycoords=ax_list[2].transAxes, ha=\"center\")\n",
    "\n",
    "plt.savefig(os.path.join(save_path, \"png\", \"13_Capacity_cycles_1_10_2x2.png\"), bbox_inches=\"tight\", dpi=200)\n",
    "plt.savefig(os.path.join(save_path, \"eps\", \"13_Capacity_cycles_1_10_2x2.eps\"), bbox_inches=\"tight\")"
   ]
  },
  {
   "cell_type": "code",
   "execution_count": null,
   "id": "fb976bea",
   "metadata": {},
   "outputs": [],
   "source": [
    "def compare_capacity(cycle_number, crate_min, crate_max, formation_cycles=5):\n",
    "    capacity_dict = {}\n",
    "    compare_variables = [\"Sulfur loading (wt%)\", \"CRate\", \"Capacity\", \"Label\", \"yerr\"]\n",
    "\n",
    "    for key in carbon_data.keys():\n",
    "        capacity_dict.update([(key, dict([(key, []) for key in compare_variables]))])\n",
    "        for idx in carbon_data[key][\"Scanned data\"].index:\n",
    "            for entry in carbon_data[key][\"Scanned data\"][idx]:\n",
    "                record = np.load(entry, allow_pickle=True)\n",
    "                ## Records should be 3 rows x cycle columns. If saved incorrectly, may be transposed\n",
    "                if record.shape[1] == 3:\n",
    "                    record = record.T\n",
    "                \n",
    "                first_value = np.min(np.argwhere(np.isfinite(record[-1])))\n",
    "                crates = record[1]\n",
    "                unique_rates, rate_counts = np.unique(crates, return_counts=True)\n",
    "                if unique_rates.shape[0] == 2 and rate_counts[np.argmin(unique_rates)] < formation_cycles:\n",
    "                    crate_use = np.max(unique_rates)\n",
    "                elif unique_rates.shape[0] == 1:\n",
    "                    crate_use = unique_rates[0]\n",
    "                    \n",
    "                if crate_use>crate_min and crate_use<=crate_max:\n",
    "                    if type(cycle_number) == int and cycle_number<record.shape[1]:\n",
    "                        capacity_dict[key][\"Capacity\"].append(record[-1][first_value+cycle_number])\n",
    "                    elif type(cycle_number) == list:\n",
    "                        cyc_cap = [np.nan, np.nan]\n",
    "                        for ncyc, cyc in enumerate(cycle_number):\n",
    "                            if cyc<record.shape[1]:\n",
    "                                \n",
    "                                cyc_cap[ncyc] = record[-1][first_value+cyc]\n",
    "                        capacity_dict[key][\"Capacity\"].append(np.nanmedian(cyc_cap))\n",
    "                        capacity_dict[key][\"yerr\"].append(cyc_cap[::-1])\n",
    "                        \n",
    "                    try:\n",
    "                        capacity_dict[key][\"Sulfur loading (wt%)\"].append(float(carbon_data[key][\"Sulfur loading (wt%)\"][idx]))\n",
    "                    except:\n",
    "                        capacity_dict[key][\"Sulfur loading (wt%)\"].append(np.nan)\n",
    "                    capacity_dict[key][\"CRate\"].append(crate_use)\n",
    "                    capacity_dict[key][\"Label\"].append(\" \".join((carbon_data[key][\"First author\"][idx],\n",
    "                                                            carbon_data[key][\"Year\"][idx],\n",
    "                                                            carbon_data[key][\"Optional label\"][idx])))   \n",
    "        capacity_dict[key][\"yerr\"] = abs(np.array(capacity_dict[key][\"yerr\"]).T-capacity_dict[key][\"Capacity\"])\n",
    "    return capacity_dict"
   ]
  },
  {
   "cell_type": "code",
   "execution_count": null,
   "id": "d5253d80",
   "metadata": {},
   "outputs": [],
   "source": [
    "capacity_01 = compare_capacity([0, 10], 0.05, 0.15)\n",
    "capacity_02 = compare_capacity([0, 10], 0.15, 0.25)\n",
    "capacity_05 = compare_capacity([0, 10], 0.4, 0.6)\n",
    "capacity_1 = compare_capacity([0, 10], 0.8, 1.2)\n",
    "capacity_2 = compare_capacity([0, 10], 1.5, 2.5)"
   ]
  },
  {
   "cell_type": "markdown",
   "id": "712482f1",
   "metadata": {},
   "source": [
    "colors = [*c.saturation(100, scheme=[\"Mid Green\", \"Bright Red\", \"Dark Blue\", \"Grey\", \"Dark Purple\", \"Dark Blue\",  \"Grey\"]).values()]"
   ]
  },
  {
   "cell_type": "markdown",
   "id": "eb59d509",
   "metadata": {},
   "source": [
    "colors = [carbon_types_colors[name] for name in capacity_01.keys()]"
   ]
  },
  {
   "cell_type": "code",
   "execution_count": null,
   "id": "4d1cbba0",
   "metadata": {},
   "outputs": [],
   "source": [
    "def capacity_decline(decline_pc, CRate_min=None, CRate_max=None):\n",
    "    capacity_dict = {}\n",
    "    compare_variables = [\"Sulfur loading (wt%)\", \"CRate\", \"Label\", \"Max capacity\", \"Cycles to decline\", \"Last cycle\", \"Last capacity\", \"In range\"]\n",
    "\n",
    "    if CRate_min == None:\n",
    "        CRate_min = 0\n",
    "    if CRate_max == None:\n",
    "        CRate_max = 999\n",
    "        \n",
    "    for key in carbon_types_combined.keys():\n",
    "        capacity_dict.update([(key, dict([(key, []) for key in compare_variables]))])\n",
    "        for idx in carbon_types_combined[key][\"Scanned data\"].index:\n",
    "            for nentry, entry in enumerate(carbon_types_combined[key][\"Scanned data\"][idx]):\n",
    "                record = np.load(entry, allow_pickle=True)\n",
    "                if record.shape[1] == 3:\n",
    "                    record = record.T\n",
    "                \n",
    "                crates = record[1]\n",
    "                \n",
    "                unique_rates, rate_counts = np.unique(crates, return_counts=True)\n",
    "                if unique_rates.shape[0] == 1 and unique_rates[0]<CRate_max and unique_rates[0]>CRate_min:\n",
    "                    record_filtered = np.full((record.shape[1]), np.nan)\n",
    "                    d_cap = record[-1][np.isfinite(record[-1])][1:]-record[-1][np.isfinite(record[-1])][:-1]\n",
    "                    no_spike = np.nonzero((d_cap > np.nanmean(d_cap)-np.nanstd(d_cap)) & (d_cap < np.nanmean(d_cap)+np.std(d_cap)))\n",
    "\n",
    "                    record_filtered[no_spike] = record[-1][no_spike]\n",
    "                    if np.argwhere(np.isfinite(record_filtered)).shape[0] > record_filtered.shape[0]/2:\n",
    "                    \n",
    "                        first_value = np.min(np.argwhere(np.isfinite(record_filtered)))\n",
    "                        last_value = np.max(np.argwhere(np.isfinite(record_filtered)))\n",
    "\n",
    "                        high_capacity = np.nanmax(record_filtered)\n",
    "                        min_capacity = (decline_pc/100)*high_capacity\n",
    "                        min_capacity_idx = first_value+np.argmin(abs(record_filtered[first_value:]-min_capacity))\n",
    "\n",
    "                        capacity_dict[key][\"Sulfur loading (wt%)\"].append(carbon_types_combined[key][\"Sulfur loading (wt%)\"][idx])\n",
    "                        capacity_dict[key][\"CRate\"].append(unique_rates[0])\n",
    "                        capacity_dict[key][\"Label\"].append(\" \".join((carbon_types_combined[key][\"First author\"][idx],\n",
    "                                                                     carbon_types_combined[key][\"Year\"][idx],\n",
    "                                                                     carbon_types_combined[key][\"Optional label\"][idx])))\n",
    "                        capacity_dict[key][\"Max capacity\"].append(high_capacity)\n",
    "                        capacity_dict[key][\"Cycles to decline\"].append(min_capacity_idx)\n",
    "                        capacity_dict[key][\"Last cycle\"].append(last_value-first_value)\n",
    "                        capacity_dict[key][\"Last capacity\"].append(record_filtered[last_value])\n",
    "                        if min_capacity_idx >= last_value-first_value:\n",
    "                            capacity_dict[key][\"In range\"].append(False)\n",
    "                        else:\n",
    "                            capacity_dict[key][\"In range\"].append(True)\n",
    "    return capacity_dict"
   ]
  },
  {
   "cell_type": "code",
   "execution_count": null,
   "id": "612b9b9d",
   "metadata": {},
   "outputs": [],
   "source": [
    "cap_dec_01 = capacity_decline(80, 0.05, 0.15)\n",
    "cap_dec_02 = capacity_decline(80, 0.15, 0.25)\n",
    "cap_dec_05 = capacity_decline(80, 0.4, 0.6)\n",
    "cap_dec_1 = capacity_decline(80, 0.8, 1.2)\n",
    "cap_dec_2 = capacity_decline(80, 1.5, 2.5)"
   ]
  },
  {
   "cell_type": "code",
   "execution_count": null,
   "id": "d2d64af2",
   "metadata": {},
   "outputs": [],
   "source": [
    "cap_dec_dict = cap_dec_02\n",
    "\n",
    "def combine_cap_dec(cap_dec_dict):\n",
    "    combined_dict = dict([(keys, values) for keys, values in cap_dec_dict.items() if \"+\" not in keys if len(values[\"CRate\"])>0])\n",
    "    \n",
    "    try:\n",
    "        mixed_carbons = dict([(parameter, np.hstack([values[parameter] for keys, values in \n",
    "                                                     cap_dec_dict.items() if \"+\" in keys])) \n",
    "                              for parameter in [*cap_dec_dict.values()][0].keys()])\n",
    "        mixed_carbons[\"In range\"] = np.array(mixed_carbons[\"In range\"], dtype=bool)\n",
    "    \n",
    "        combined_dict.update([(\"Mixed carbon\", mixed_carbons)])\n",
    "        \n",
    "    except:\n",
    "        pass\n",
    "    return combined_dict\n",
    "#     return mixed_carbons"
   ]
  },
  {
   "cell_type": "code",
   "execution_count": null,
   "id": "08f36275",
   "metadata": {},
   "outputs": [],
   "source": [
    "cap_dec_01_mod = combine_cap_dec(cap_dec_01)\n",
    "cap_dec_02_mod = combine_cap_dec(cap_dec_02)\n",
    "cap_dec_05_mod = combine_cap_dec(cap_dec_05)\n",
    "cap_dec_1_mod = combine_cap_dec(cap_dec_1)\n",
    "cap_dec_2_mod = combine_cap_dec(cap_dec_2)"
   ]
  },
  {
   "cell_type": "code",
   "execution_count": null,
   "id": "4ce551a5",
   "metadata": {},
   "outputs": [],
   "source": [
    "sample_counts = [[len(rate_dict[material_key][\"Cycles to decline\"]) for material_key in rate_dict.keys()]\n",
    " for rate_dict in [cap_dec_01_mod, cap_dec_02_mod, cap_dec_05_mod, cap_dec_1_mod, cap_dec_2_mod]]\n",
    "sample_counts_max = np.max(np.array([item for sublist in sample_counts for item in sublist]))\n",
    "\n",
    "sample_counts_dict = dict([(keys, np.array([i/sample_counts_max for i in values]))\n",
    "                            for keys, values in enumerate(sample_counts)])\n",
    "# sample_counts = np.array([item for sublist in sample_counts for item in sublist])\n",
    "# count_width = [i/np.max(sample_counts) for i in sample_counts]\n",
    "# [[rate_idx for rate_idx, rate_dict in  enumerate([cap_dec_01_mod, cap_dec_02_mod, cap_dec_05_mod, cap_dec_1_mod, cap_dec_2_mod])]"
   ]
  },
  {
   "cell_type": "code",
   "execution_count": null,
   "id": "9a989b88",
   "metadata": {},
   "outputs": [],
   "source": [
    "vp"
   ]
  },
  {
   "cell_type": "code",
   "execution_count": null,
   "id": "9f3ef83d",
   "metadata": {},
   "outputs": [],
   "source": [
    "rate_dict_list = [cap_dec_01_mod, cap_dec_02_mod, cap_dec_05_mod, cap_dec_1_mod, cap_dec_2_mod]\n",
    "collected_decline = np.hstack([np.array(item, dtype=int) for sublist in [[values[\"Cycles to decline\"][values[\"In range\"]==True] for keys, values in rate_dict.items()] for rate_dict in rate_dict_list] for item in sublist])"
   ]
  },
  {
   "cell_type": "code",
   "execution_count": null,
   "id": "a8073c4c",
   "metadata": {},
   "outputs": [],
   "source": [
    "unique_decline, decline_counts = np.unique(collected_decline, return_counts=True)"
   ]
  },
  {
   "cell_type": "code",
   "execution_count": null,
   "id": "74115dee",
   "metadata": {},
   "outputs": [],
   "source": [
    "np.sum(decline_counts[unique_decline<=20])/np.sum(decline_counts)"
   ]
  },
  {
   "cell_type": "code",
   "execution_count": null,
   "id": "17047fa0",
   "metadata": {},
   "outputs": [],
   "source": []
  },
  {
   "cell_type": "code",
   "execution_count": null,
   "id": "e32b47c0",
   "metadata": {},
   "outputs": [],
   "source": []
  },
  {
   "cell_type": "code",
   "execution_count": null,
   "id": "e3402219",
   "metadata": {},
   "outputs": [],
   "source": [
    "f, ax = plt.subplots()\n",
    "width_scale = 1/3\n",
    "jitter=0.03\n",
    "\n",
    "# for rate_idx, rate_dict in enumerate([cap_dec_01_mod, cap_dec_02_mod, cap_dec_05_mod, cap_dec_1_mod, cap_dec_2_mod]):\n",
    "#     for nmat, (material_key, material_values) in enumerate(rate_dict.items()):\n",
    "#         if len(material_values[\"Cycles to decline\"]) > 0:\n",
    "#             vp = ax.violinplot(material_values[\"Cycles to decline\"], positions=[rate_idx-0.3+nmat/6],\n",
    "#                           widths=width_scale*sample_counts_dict[rate_idx][nmat])\n",
    "#             for body in vp[\"bodies\"]:\n",
    "#                 body.set_facecolor(carbon_types_colors[material_key])\n",
    "#             for edge in [\"cmaxes\", \"cmins\", \"cbars\"]:\n",
    "#                 vp[edge].set_color(carbon_types_colors[material_key])\n",
    "                \n",
    "for rate_idx, rate_dict in enumerate([cap_dec_01_mod, cap_dec_02_mod, cap_dec_05_mod, cap_dec_1_mod, cap_dec_2_mod]):\n",
    "\n",
    "    for nmat, (key, mat) in enumerate(rate_dict.items()):\n",
    "\n",
    "        in_range_true = [mat[\"Cycles to decline\"][nb] for nb, b in enumerate(mat[\"In range\"]) if b==True]\n",
    "        in_range_false = [mat[\"Cycles to decline\"][nb] for nb, b in enumerate(mat[\"In range\"]) if b==False]\n",
    "        try:\n",
    "            ax.plot(np.full((len(in_range_true)), rate_idx-0.3+nmat/6)+jitter*np.random.rand(len(in_range_true))-0.5*jitter, in_range_true, \".\", mfc=carbon_types_colors[key], mec=carbon_types_colors[key], label=key)\n",
    "            ax.plot(np.full((len(in_range_false)), rate_idx-0.3+nmat/6)+jitter*np.random.rand(len(in_range_false))-0.5*jitter, in_range_false, \".\", mfc=\"white\", mec=carbon_types_colors[key])\n",
    "        except:\n",
    "            pass\n",
    "        \n",
    "ax.set_xticks(np.arange(5))\n",
    "ax.set_xticklabels([\"0.1\", \"0.2\", \"0.5\", \"1\", \"2\"])\n",
    "\n",
    "handles, labels = ax.get_legend_handles_labels()\n",
    "unique_labels, unique_idx = np.unique(labels, return_index=True)\n",
    "\n",
    "ax.legend(handles=[handles[idx] for idx in unique_idx],\n",
    "          labels=list(unique_labels))\n",
    "ax.set_xlabel(\"C Rate\")\n",
    "ax.set_ylabel(\"Cycles to 80% capacity retention\")\n",
    "\n",
    "ax.set_ylim([0, 40])\n",
    "\n",
    "[ax.axvline(n+0.55, \n",
    "            lw=0.5, color=\"grey\") for n in range(5)]\n",
    "\n",
    "plt.savefig(os.path.join(save_path, \"eps\", \"13_Scatter_capacity_80pc_retained_short_y.eps\".format(jitter)), bbox_inches=\"tight\")\n",
    "plt.savefig(os.path.join(save_path, \"png\", \"13_Scatter_capacity_80pc_retained_short_y.png\".format(jitter)), bbox_inches=\"tight\", dpi=200)"
   ]
  },
  {
   "cell_type": "code",
   "execution_count": null,
   "id": "2dbecf59",
   "metadata": {},
   "outputs": [],
   "source": []
  },
  {
   "cell_type": "code",
   "execution_count": null,
   "id": "bae4c6b7",
   "metadata": {},
   "outputs": [],
   "source": [
    "f, ax = plt.subplots(figsize=full_width_figsize)\n",
    "jitter = 0.05\n",
    "\n",
    "for rate_idx, rate_dict in enumerate([cap_dec_01_mod, cap_dec_02_mod, cap_dec_05_mod, cap_dec_1_mod, cap_dec_2_mod]):\n",
    "\n",
    "    for nmat, (key, mat) in enumerate(rate_dict.items()):\n",
    "\n",
    "        in_range_true = [mat[\"Cycles to decline\"][nb] for nb, b in enumerate(mat[\"In range\"]) if b==True]\n",
    "        in_range_false = [mat[\"Cycles to decline\"][nb] for nb, b in enumerate(mat[\"In range\"]) if b==False]\n",
    "        try:\n",
    "            ax.plot(np.full((len(in_range_true)), rate_idx-0.3+nmat/6)+jitter*np.random.rand(len(in_range_true))-0.5*jitter, in_range_true, \".\", mfc=carbon_types_colors[key], mec=carbon_types_colors[key], label=key)\n",
    "            ax.plot(np.full((len(in_range_false)), rate_idx-0.3+nmat/6)+jitter*np.random.rand(len(in_range_false))-0.5*jitter, in_range_false, \".\", mfc=\"none\", mec=carbon_types_colors[key])\n",
    "        except:\n",
    "            pass\n",
    "   \n",
    "ax.set_xticks(np.arange(5))\n",
    "ax.set_xticklabels([\"0.1\", \"0.2\", \"0.5\", \"1\", \"2\"])\n",
    "\n",
    "handles, labels = ax.get_legend_handles_labels()\n",
    "unique_labels, unique_idx = np.unique(labels, return_index=True)\n",
    "\n",
    "ax.legend(handles=[handles[idx] for idx in unique_idx],\n",
    "          labels=list(unique_labels))\n",
    "ax.set_xlabel(\"C Rate\")\n",
    "ax.set_ylabel(\"Cycles to 80% capacity retention\")\n",
    "\n",
    "# ax.set_ylim([0, 20])\n",
    "\n",
    "[ax.axvline(n+0.55, \n",
    "            lw=0.5, color=\"grey\") for n in range(5)]\n",
    "\n",
    "# ax.set_ylim([0, 20])\n",
    "plt.savefig(os.path.join(save_path, \"eps\", \"13_Scatter_capacity_80pc_retained_jitter{}_full_y.eps\".format(jitter)), bbox_inches=\"tight\")\n",
    "plt.savefig(os.path.join(save_path, \"png\", \"13_Scatter_capacity_80pc_retained_jitter{}_full_y.png\".format(jitter)), bbox_inches=\"tight\", dpi=200)"
   ]
  },
  {
   "cell_type": "code",
   "execution_count": null,
   "id": "0b3a4a80",
   "metadata": {},
   "outputs": [],
   "source": [
    "f, ax = plt.subplots(figsize=full_width_figsize)\n",
    "jitter = 0.05\n",
    "\n",
    "for rate_idx, rate_dict in enumerate([cap_dec_01_mod, cap_dec_02_mod, cap_dec_05_mod, cap_dec_1_mod, cap_dec_2_mod]):\n",
    "\n",
    "    for nmat, (key, mat) in enumerate(rate_dict.items()):\n",
    "\n",
    "        in_range_true = [mat[\"Cycles to decline\"][nb] for nb, b in enumerate(mat[\"In range\"]) if b==True]\n",
    "        in_range_false = [mat[\"Cycles to decline\"][nb] for nb, b in enumerate(mat[\"In range\"]) if b==False]\n",
    "        try:\n",
    "            ax.plot(np.full((len(in_range_true)), rate_idx-0.3+nmat/6)+jitter*np.random.rand(len(in_range_true))-0.5*jitter, in_range_true, \".\", mfc=carbon_types_colors[key], mec=carbon_types_colors[key], label=key)\n",
    "            ax.plot(np.full((len(in_range_false)), rate_idx-0.3+nmat/6)+jitter*np.random.rand(len(in_range_false))-0.5*jitter, in_range_false, \".\", mfc=\"none\", mec=carbon_types_colors[key])\n",
    "        except:\n",
    "            pass\n",
    "   \n",
    "ax.set_xticks(np.arange(5))\n",
    "ax.set_xticklabels([\"0.1\", \"0.2\", \"0.5\", \"1\", \"2\"])\n",
    "\n",
    "handles, labels = ax.get_legend_handles_labels()\n",
    "unique_labels, unique_idx = np.unique(labels, return_index=True)\n",
    "\n",
    "ax.legend(handles=[handles[idx] for idx in unique_idx],\n",
    "          labels=list(unique_labels))\n",
    "ax.set_xlabel(\"C Rate\")\n",
    "ax.set_ylabel(\"Cycles to 80% capacity retention\")\n",
    "\n",
    "[ax.axvline(n+0.55, \n",
    "            lw=0.5, color=\"grey\") for n in range(5)]\n",
    "\n",
    "ax.set_ylim([0, 25])\n",
    "plt.savefig(os.path.join(save_path, \"eps\", \"13_Scatter_capacity_80pc_retained_jitter{}_short_y.eps\".format(jitter)), bbox_inches=\"tight\")\n",
    "plt.savefig(os.path.join(save_path, \"png\", \"13_Scatter_capacity_80pc_retained_jitter{}_short_y.png\".format(jitter)), bbox_inches=\"tight\", dpi=200)"
   ]
  },
  {
   "cell_type": "markdown",
   "id": "0a455505",
   "metadata": {},
   "source": [
    "# Rate change"
   ]
  },
  {
   "cell_type": "code",
   "execution_count": null,
   "id": "79d292f9",
   "metadata": {},
   "outputs": [],
   "source": [
    "import plotly.graph_objects as go ## To make Sankey type diagram"
   ]
  },
  {
   "cell_type": "code",
   "execution_count": null,
   "id": "60fb23dc",
   "metadata": {},
   "outputs": [],
   "source": [
    "all_samples_n = []\n",
    "\n",
    "for nentry, entry in enumerate(available_data[\"Scanned data\"]):\n",
    "    for fname in entry:\n",
    "        try:\n",
    "            cycles, rates, capacities = np.load(fname)\n",
    "            all_samples_n.append(capacities)\n",
    "        except:\n",
    "            pass\n",
    "        \n",
    "formation = 2\n",
    "\n",
    "formation_data = {}\n",
    "\n",
    "for nentry, entry in enumerate(available_data[\"Scanned data\"]):\n",
    "    for fname in entry:\n",
    "        try:\n",
    "            cycles, rates, capacities = np.load(fname)\n",
    "        except:\n",
    "            pass\n",
    "        unique_rates, unique_counts = np.unique(rates, return_counts=True)\n",
    "        if len(unique_rates) == formation:\n",
    "            formation_data.update([(available_data.iloc[nentry][\"concat_label\"],\n",
    "                                    rates)])\n",
    "            \n",
    "#         beyond_formation = [unique_rates[n] for n, ncounts in enumerate(unique_counts) if ncounts>formation]\n",
    "formation_rates = np.array([np.unique(values) for values in formation_data.values()])\n",
    "\n",
    "formation = 2\n",
    "\n",
    "multirate_data = {}\n",
    "\n",
    "for nentry, entry in enumerate(available_data[\"Scanned data\"]):\n",
    "    for fname in entry:\n",
    "        try:\n",
    "            cycles, rates, capacities = np.load(fname)\n",
    "        except:\n",
    "            pass\n",
    "        unique_rates, unique_counts = np.unique(rates, return_counts=True)\n",
    "        beyond_formation = [unique_rates[n] for n, ncounts in enumerate(unique_counts) if ncounts>formation]\n",
    "        if len(beyond_formation) > 2:\n",
    "            multirate_data.update([(available_data.iloc[nentry][\"concat_label\"], rates)])\n",
    "            \n",
    "rate_seq = []\n",
    "\n",
    "for keys, values in multirate_data.items():\n",
    "    rate_list = [values[0]]\n",
    "    for val in values[1:]:\n",
    "        if val != rate_list[-1]:\n",
    "            rate_list.append(val)\n",
    "    rate_seq.append(rate_list)\n",
    "    \n",
    "max_length = np.max([len(sublist) for sublist in rate_seq])\n",
    "rate_seq_pad = np.full((len(rate_seq), max_length), 0, dtype=float)\n",
    "for nseq, seq in enumerate(rate_seq):\n",
    "    rate_seq_pad[nseq, :len(seq)] = rate_seq[nseq]\n",
    "    \n",
    "col_A = np.unique(rate_seq_pad[:, 0])\n",
    "col_B = np.unique(rate_seq_pad[:, 1])\n",
    "\n",
    "nodes = {0: np.array([[n, nnum] for n, nnum in enumerate(np.unique(rate_seq_pad[:, 0]))])}\n",
    "\n",
    "for idx in range(1, rate_seq_pad.shape[1]):\n",
    "    nodes.update([(idx, np.array([[n+max(nodes[idx-1][:, 0])+1, nnum] for \n",
    "                                  n, nnum in enumerate(np.unique(rate_seq_pad[:, idx]))]))])\n",
    "# nodes.update([(2, np.array([[n+max(nodes[1][:, 0])+1, nnum] for n, nnum in enumerate(np.unique(rate_seq_pad[:, 2]))]))])\n",
    "\n",
    "\n",
    "source_combined = []\n",
    "target_combined = []\n",
    "values_combined = []\n",
    "x_pos_combined = []\n",
    "\n",
    "for col in np.arange(1, len(nodes)):\n",
    "    for i in range(nodes[col-1].shape[0]):\n",
    "        for j in range(nodes[col].shape[0]):\n",
    "            source = nodes[col-1][i, 1]\n",
    "            target = nodes[col][j, 1]\n",
    "            value = np.nonzero((rate_seq_pad[:, col-1]==source) & (rate_seq_pad[:, col]==target))[0].shape[0]\n",
    "            \n",
    "            if value > 0 and source>0 and target>0:\n",
    "                source_combined.append(int(nodes[col-1][i, 0]))\n",
    "                target_combined.append(int(nodes[col][j, 0]))\n",
    "                values_combined.append(value)\n",
    "                x_pos_combined.append(col-1)\n",
    "                \n",
    "labels_combined = np.hstack(([values[:, 1] for values in nodes.values()]))\n",
    "labels_mock =np.hstack(([values[:, 0] for values in nodes.values()]))"
   ]
  },
  {
   "cell_type": "code",
   "execution_count": null,
   "id": "0c60e9b2",
   "metadata": {},
   "outputs": [],
   "source": [
    "e = len(source_combined)\n",
    "\n",
    "scale = 1.1\n",
    "m = \"powderblue\"\n",
    "p = \"dimgrey\"\n",
    "t = \"black\"\n",
    "\n",
    "fig = go.Figure(go.Sankey(link=dict(source=source_combined[:e],\n",
    "                                    target=target_combined[:e],\n",
    "                                    value=values_combined[:e]),\n",
    "                          arrangement=\"snap\",\n",
    "                          node=dict(label=labels_combined,\n",
    "                                    x=scale*np.array([0, 0, 0, 0, 0, 0, 0, 0, 0, 0, 0, 0, \n",
    "                                       0.1, 0.1, 0.1, 0.1, 0.1, 0.1, 0.1, 0.1, 0.1, 0.1, 0.1,\n",
    "                                       0.2, 0.2, 0.2, 0.2, 0.2, 0.2, 0.2, 0.2, 0.2, 0.2, 0.2, 0.2, 0.2, 0.2,\n",
    "                                        0.3, 0.3, 0.3, 0.3, 0.3, 0.3, 0.3, 0.3, 0.3, 0.3, 0.3, 0.3, 0.3, 0.3, 0.3, 0.3,\n",
    "                                       0.4, 0.4, 0.4, 0.4, 0.4, 0.4, 0.4, 0.4, 0.4, 0.4, 0.4, 0.4, 0.4, 0.4, 0.4, \n",
    "                                      0.5, 0.5, 0.5, 0.5, 0.5, 0.5, 0.5, 0.5, 0.5, 0.5, 0.5, 0.5, 0.5, 0.5,\n",
    "                                       0.6, 0.6, 0.6, 0.6, 0.6, 0.6, 0.6, 0.6, 0.6, \n",
    "                                      0.7, 0.7, 0.7, 0.7, 0.7,\n",
    "                                       0.8, 0.8, 0.8, 0.8, 0.8, \n",
    "                                       0.9, 0.9, 0.9, 0.9]),\n",
    "                                    y=[0.01]*e,\n",
    "                                     color=[m, m, m, m, m, m, m, m, m, m, m, m, m, m, m, m, m, m, m, m, m, m, m, \n",
    "                                            m, m, m, m, m, m, m, m, m, m, m, m, m, m, m, m, m, m, p, m, m, p, p, m, t, m, p, m, m, m, m, \n",
    "                                            t, t, p, p, p, t, p, m, m, p, p, m, m, p, m, \n",
    "                                            t, t, t, p, t, p, m, m, m, m, t, p, t, p, p,\n",
    "                                            p, p, t, p, t, m, m, t, p, p,\n",
    "                                            p, t, t, m, m, m,\n",
    "                                             t, t, m, m, m, m,\n",
    "                                            t, t, t, t, t\n",
    "                                           ]\n",
    "                                   )))\n",
    "# fig.show()\n",
    "fig.update_layout(\n",
    "    autosize=False,\n",
    "    width=1800,\n",
    "    height=900, font_size=20\n",
    ")"
   ]
  },
  {
   "cell_type": "markdown",
   "id": "3b055415",
   "metadata": {},
   "source": [
    "# Rare reports"
   ]
  },
  {
   "cell_type": "code",
   "execution_count": null,
   "id": "53801cdf",
   "metadata": {
    "scrolled": false
   },
   "outputs": [],
   "source": [
    "## Electrolyte content\n",
    "\n",
    "reported_ES_ratio = available_data.loc[available_data[\"E/S ratio (uL/g)\"] != 0][[\"First author\", \"Year\", \"Optional label\", \"E/S ratio (uL/g)\"]]\n",
    "ES_values = [\" \".join((reported_ES_ratio[\"First author\"][i],\n",
    "                       reported_ES_ratio[\"Year\"][i],\n",
    "                       reported_ES_ratio[\"Optional label\"][i]))\n",
    "            for i in reported_ES_ratio.index]\n",
    "\n",
    "reported_electrolyte = available_data.loc[available_data[\"Electrolyte volume (uL)\"]!=0][[\"First author\", \"Year\", \"Optional label\", \"Electrolyte volume (uL)\"]]\n",
    "\n",
    "electrolyte_vol_values = [\" \".join((reported_electrolyte[\"First author\"][i],\n",
    "                                    reported_electrolyte[\"Year\"][i],\n",
    "                                    reported_electrolyte[\"Optional label\"][i]))\n",
    "                         for i in reported_electrolyte.index]\n",
    "\n",
    "electrolyte_content_reported = np.unique(ES_values+electrolyte_vol_values)\n",
    "\n",
    "## Thickness\n",
    "\n",
    "reported_thickness_value = excludes_keywords(available_data, list_of_keywords=[\"NaN\"], column=\"Electrode thickness\")[[\"First author\", \"Year\", \"Optional label\", \"Electrode thickness\"]]\n",
    "\n",
    "thickness_reported_values = [\" \".join((reported_thickness_value[\"First author\"][i], \n",
    "           reported_thickness_value[\"Year\"][i],\n",
    "           reported_thickness_value[\"Optional label\"][i]))\n",
    "for i in reported_thickness_value.index if len(reported_thickness_value[\"Electrode thickness\"][i])>0]\n",
    "\n",
    "np.unique(thickness_reported_values).shape[0]/len(bibliography_list)\n",
    "\n",
    "## Reported surface area\n",
    "reported_area_value = [re.findall(\"\\d+.\\d+\", value) for value in \n",
    "                       list(available_data[\"Surface area (cm2/g)\"]) if type(value)==str and\n",
    "                       len(re.findall(\"\\d+.\\d+\", value))>0]\n",
    "\n",
    "area_reported_values = [\" \".join((name for name in \n",
    "                                  list(available_data.loc[nnumber][[\"First author\", \"Year\", \"Optional label\"]])))\n",
    "                        for nnumber, number in enumerate(reported_area_value)]\n",
    "\n",
    "np.unique(area_reported_values).shape[0]/len(bibliography_list)\n",
    "\n",
    "## Reported porosity\n",
    "\n",
    "reported_pore_volume = [re.findall(\"\\d+.\\d+\", value) for value in \n",
    "                        list(available_data[\"Pore volume\"]) if type(value)==str\n",
    "                        and len(re.findall(\"\\d+.\\d+\", value))>0]\n",
    "\n",
    "pore_volume_papers = [\" \".join((name for name in list(available_data.loc[nnumber][[\"First author\", \"Year\", \"Optional label\"]])))\n",
    " for nnumber, number in enumerate(reported_pore_volume)]\n",
    "\n",
    "np.unique(pore_volume_papers).shape[0]/len(bibliography_list)\n",
    "\n",
    "## Reported conductivity\n",
    "\n",
    "reported_conductivity = [re.findall(\"\\d+.\\d+\", value) for value in list(available_data[\"Host conductivity\"]) if type(value)==str and len(re.findall(\"\\d+.\\d+\", value))>0]\n",
    "reported_conductivity_papers = [\" \".join((name for name in list(available_data.loc[nnumber][[\"First author\", \"Year\", \"Optional label\"]])))\n",
    "                                for nnumber, number in enumerate(reported_conductivity)]\n",
    "\n",
    "np.unique(reported_conductivity_papers).shape[0]/len(bibliography_list)\n",
    "\n",
    "area_count = np.unique(area_reported_values).shape[0]\n",
    "volume_count = np.unique(pore_volume_papers).shape[0]\n",
    "conductivity_count = np.unique(reported_conductivity_papers).shape[0]\n",
    "thickness_count = np.unique(thickness_reported_values).shape[0]\n",
    "electrolyte_count = np.unique(electrolyte_content_reported).shape[0]\n",
    "\n",
    "plt.rcParams.update({\"xtick.direction\": \"in\"})\n",
    "plt.rcParams.update({\"xtick.top\": True})\n",
    "\n",
    "f, ax = plt.subplots(figsize=full_width_figsize)\n",
    "bar_widths = [area_count, volume_count, electrolyte_count, thickness_count, conductivity_count, ]\n",
    "labels = [\"BET surface area\", \"Pore volume\", \"Electrolyte content\", \"Electrode thickness\", \"Conductivity\"]\n",
    "\n",
    "ax.barh(y=np.arange(len(bar_widths)),\n",
    "        width=bar_widths, color=c.BlackBrown.Grey[80], edgecolor=\"k\")\n",
    "ax.axvline(len(bibliography_list), color=\"k\")\n",
    "ax.set_yticks([])\n",
    "\n",
    "for nname, name in enumerate(labels):\n",
    "    ax.text(s=name, x=len(bibliography_list)-1, y=nname, ha=\"right\")\n",
    "    \n",
    "ax.set_xlabel(\"Number of articles where value is reported\")\n",
    "ax.set_ylabel(\"Parameter\")\n",
    "\n",
    "ax.xaxis.set_major_locator(MultipleLocator(10))\n",
    "ax.xaxis.set_minor_locator(MultipleLocator(2))\n",
    "\n",
    "plt.tight_layout()\n",
    "plt.savefig(os.path.join(save_path, \"png\", \"14_horizontal_bars_rare_reports.png\"), bbox_inches=\"tight\", dpi=200)\n",
    "plt.savefig(os.path.join(save_path, \"eps\", \"14_horizontal_bars_rare_reports.eps\"), bbox_inches=\"tight\")"
   ]
  },
  {
   "cell_type": "markdown",
   "id": "d02fa898",
   "metadata": {},
   "source": [
    "# Summary values\n",
    "*Will only run when other code has been run!*"
   ]
  },
  {
   "cell_type": "code",
   "execution_count": null,
   "id": "18d058f8",
   "metadata": {},
   "outputs": [],
   "source": [
    "from datetime import datetime\n",
    "time_now = datetime.now()\n",
    "\n",
    "with open(os.path.join(r\"C:\\Users\\engs2608\\OneDrive - Nexus365\\Documents\\Meta analysis draft - OX\", \n",
    "                       \"Numerical_summary_values.txt\"), \"w+\") as f:\n",
    "    f.write(\"Numerical outputs from meta analysis \\n\")\n",
    "    f.write(\"Last updated: {}/{}/{} {}:{} \\n\".format(time_now.day, time_now.month, time_now.year, \n",
    "                                                  time_now.hour, time_now.minute))\n",
    "    \n",
    "    f.write(\"\\n\")\n",
    "    f.write(\"Abstract \\n ---------- \\n\")\n",
    "    f.write(\"Total samples: {} \\n\".format(len(available_data)))\n",
    "    f.write(\"Total articles: {} \\n\".format(len(bibliography_list)))\n",
    "    \n",
    "    f.write(\"\\n\")\n",
    "    f.write(\"Introduction \\n ---------- \\n\")\n",
    "    f.write(\"Total articles: {} \\n\".format(len(bibliography_list)))\n",
    "    f.write(\"Total samples: {} \\n\".format(len(available_data)))\n",
    "\n",
    "    f.write(\"\\n\\n\")\n",
    "    \n",
    "    f.write(\"Carbon host matrices \\n ---------- \\n\")\n",
    "    \n",
    "    GRM_names = dict([(keys, values) for keys, values in carbon_types_combined.items() if \"raphene\" in keys])\n",
    "    f.write(\"Number of articles using GRMs: {}%\".format(int(np.around(np.sum([len(values) for values in GRM_names.values()])/\n",
    "                                                                      np.sum([len(values) for values in carbon_types_combined.values()])*100, 0))))\n",
    "    \n",
    "    f.write(\"\\n \\n\")\n",
    "    f.write(\"Sulfur/ carbon composite \\n ---------- \\n\")\n",
    "    \n",
    "    sulfur_content_wtpc_reported = len([n for n in available_data[\"Sulfur loading (wt%)\"].to_numpy() if len(n) > 0])/len(available_data[\"Sulfur loading (wt%)\"])\n",
    "    f.write(\"Percentage of articles reporting sulfur loading in wt%: {} % \\n\".format(int(100*sulfur_content_wtpc_reported)))\n",
    "\n",
    "    f.write(\"Percentage of articles reporting sulfur loading in mg/ cm2: {} % \\n\".format(\n",
    "    int(100*len([n for n in df[\"Sulfur loading (mg/ cm2)\"] if len(n) > 0])/\\\n",
    "        len(df[\"Sulfur loading (mg/ cm2)\"]))))\n",
    "\n",
    "    f.write(\"Number of templated carbon reports: {} \\n\".format(len(carbon_types_combined[\"Templated carbon\"])))\n",
    "\n",
    "    carbon_types_sums = dict([(keys, len(values)) for keys, values in carbon_types_combined.items()])\n",
    "    f.write(\"Second most frequently reported host matrix: {}\\n\".format([*carbon_types_sums.keys()][np.argsort([*carbon_types_sums.values()])[-2]]))\n",
    "    f.write(\"Number of CNT reports: {}\".format(carbon_types_sums[\"Carbon nanotubes\"]))\n",
    "    \n",
    "    \n",
    "    f.write(\"\\n \\n\")\n",
    "    f.write(\"Composite synthesis method \\n ---------- \\n\")\n",
    "    sulfur_loading_method_counts = dict([(keys, len(excludes_keywords(cont_multi_keywords(df, \n",
    "                                      list_of_keywords=values[\"include\"],\n",
    "                                      column=\"Sulfur loading method\",\n",
    "                                      case=False),\n",
    "                  list_of_keywords=values[\"exclude\"],\n",
    "                  column=\"Sulfur loading method\",\n",
    "                  case=False))) for keys, values in sulfur_loading_labels.items()])\n",
    "    f.write(\"Percentage of samples using 'chemical': {}% \\n\".format(np.around(100*sulfur_loading_method_counts[\"Chemical\"]/np.sum([*sulfur_loading_method_counts.values()])), 2))\n",
    "    f.write(\"Percentage of samples using 'solution': {}% \\n\".format(np.around(100*sulfur_loading_method_counts[\"Solution\"]/np.sum([*sulfur_loading_method_counts.values()])), 2))\n",
    "    f.write(\"Percentage of samples using 'thermal': {}% \\n\".format(np.around(100*sulfur_loading_method_counts[\"Thermal\"]/np.sum([*sulfur_loading_method_counts.values()])), 2))\n",
    "    \n",
    "    thermal_reports = excludes_keywords(cont_multi_keywords(df, list_of_keywords=[\"Thermal\", \"155\"], column=\"Sulfur loading method\"),\n",
    "                  list_of_keywords=[\"CS2\", \"toluene\", \"solution\", \"mill\"],\n",
    "                  column=\"Sulfur loading method\")\n",
    "    thermal_and_XRD_available = np.array([n for n in thermal_reports[\"Sulfur XRD\"] if type(n)==type(True)])\n",
    "    thermal_and_XRD_true = np.nonzero(thermal_and_XRD_available==True)[0].shape[0]\n",
    "    f.write(\"Percentage of reports where thermal infiltration used *and* crystalline sulfur detected by XRD: {} % \\n\".format(\n",
    "int(100*thermal_and_XRD_true/thermal_and_XRD_available.shape[0])))\n",
    "    \n",
    "    xrd_values, xrd_counts = np.unique(df[\"Sulfur XRD\"].to_numpy(dtype=str), return_counts=True)\n",
    "    \n",
    "    f.write(\"Percentage of samples where XRD spectra were reported: {}% \\n\".format(int(xrd_counts[xrd_values=='False']+xrd_counts[xrd_values=='True'])/np.sum(xrd_counts)*100))\n",
    "    f.write(\"Percentage of reported XRD spectra showing crystalline peaks: {}% \\n\".format(int(100*xrd_counts[xrd_values=='True']/(xrd_counts[xrd_values=='True']+xrd_counts[xrd_values=='False']))))\n",
    "\n",
    "    \n",
    "    f.write(\"\\n \\n\")\n",
    "    f.write(\"Conductive carbon additive \\n ---------- \\n\")\n",
    "    carbon_black_used = cont_multi_keywords(available_data,\n",
    "                        list_of_keywords=[\"black\", \"acetylene\", \"Super\"], \n",
    "                       column=\"Conductive additive\")\n",
    "\n",
    "    f.write('Percentage using carbon black (any): {}% \\n'.format(int(100*len(carbon_black_used)/len(available_data))))\n",
    "\n",
    "    super_p_used = cont_multi_keywords(carbon_black_used,\n",
    "                                   list_of_keywords=[\"super P\", \"super-P\"],\n",
    "                                   column=\"Conductive additive\",\n",
    "                                   case=False)\n",
    "    f.write('Percentage of carbon black for which Super-P is specified: {}%\\n'.format(int(len(super_p_used)/len(carbon_black_used)*100)))\n",
    "    \n",
    "    f.write(\"\\n \\n\")\n",
    "    f.write(\"Binder \\n ---------- \\n\")\n",
    "    \n",
    "\n",
    "    f.write(\"Percentage of samples using PVDF: {} % \\n\".format(int(len(cont_multi_keywords(df,\n",
    "                         list_of_keywords=[\"PVDF\"], column=\"Binder\"))/len(available_data)*100)))\n",
    "\n",
    "    unique_content, unique_counts = np.unique(df[\"Binder content (wt%)\"], return_counts=True)\n",
    "    f.write(\"Percentage of samples using 10 wt%: {} % \\n\".format(unique_counts[unique_content=='10'].flatten()[0]/np.sum(unique_counts)*100\n",
    "                                                           ))\n",
    "\n",
    "    unique_binders, unique_binder_counts = np.unique(df[\"Binder\"], return_counts=True)\n",
    "    f.write(\"Number of samples using alternative binders: {} \\n\".format(np.sum([(unique_binder_counts[nname]) for nname, name in enumerate(unique_binders) if name not in [\"PVDF\", \"0\", \"None\", \"n.d.\"]])))\n",
    "\n",
    "    f.write(\"Number of samples using no binder: {} \\n\".format(np.sum([(unique_binder_counts[nname]) for nname, name in enumerate(unique_binders) if name in [\"0\", \"None\", \"n.d.\"]])))\n",
    "\n",
    "    \n",
    "    f.write(\"\\n \\n\")\n",
    "    f.write(\"Electrolyte and separator \\n ---------- \\n\")\n",
    "    polypropylene_separators = cont_multi_keywords(df, \n",
    "                        list_of_keywords=[\"celgard\", \"polypropylene\"],\n",
    "                        column=\"Separator type\",\n",
    "                        case=False)\n",
    "    f.write(\"Percentage using PP separators: {}% \\n\".format(int(len(polypropylene_separators)/len(df)*100)))\n",
    "\n",
    "    polypropylene_celgard = cont_multi_keywords(polypropylene_separators,\n",
    "                         list_of_keywords=[\"celgard\"], \n",
    "                        column=\"Separator type\", case=False)\n",
    "\n",
    "    f.write(\"Percentage of PP separators specified as Celgard: {}% \\n\".format(np.around(100*len(polypropylene_celgard)/len(polypropylene_separators)), 2))\n",
    "\n",
    "    dol_dme = cont_multi_keywords(df, list_of_keywords=[\"1:1 DOL DME\"],\n",
    "                                  column=\"Electrolyte solvent\",\n",
    "                                 )\n",
    "\n",
    "    f.write(\"Percentage using DOL DME: {} % \\n\".format(int(len(dol_dme)/len(df)*100)))\n",
    "    \n",
    "    f.write(\"Number using glass fibre separators: {} \\n\".format(len(cont_multi_keywords(df, list_of_keywords=[\"glass\"], column=\"Separator type\", case=False)[\"Separator type\"])))\n",
    "\n",
    "    unique_separator, separator_counts = np.unique(df[\"Separator type\"], return_counts=True)\n",
    "    unspecified_separator = np.sum([(separator_counts[nname]) for nname, name in enumerate(unique_separator) if name in [\"No data\", \"Unspecified\", \"\"]])\n",
    "    f.write(\"Percentage of samples without specified separator: {} % \\n\".format(int(100*unspecified_separator/len(df))))\n",
    "\n",
    "    salt_1M_LiTFSI = df.loc[(df[\"Electrolyte salt\"]==\"LiTFSI\") & (df[\"Salt content\"] == 1) & (df[\"salt_units\"]==\"M\")][[\"Electrolyte salt\", \"Salt content\", \"salt_units\"]]\n",
    "    f.write(\"Percentage of samples using 1M LiTFSI: {}% \\n\".format(int(100*len(salt_1M_LiTFSI)/len(df))))\n",
    "\n",
    "    f.write(\"Percentage using LiNO3: {} % \\n\".format(len(df.loc[df[\"LiNO3 content\"] != 0])/len(df)*100))\n",
    "    \n",
    "    f.write(\"\\n \\n\")\n",
    "    f.write(\"C Rates \\n ---------- \\n\")\n",
    "    \n",
    "    \n",
    "    fixed_rates = []\n",
    "    formation_cycles = {\"Low rate\": [],\n",
    "                        \"Main rate\": [],\n",
    "                        \"n low rate\": [],\n",
    "                        \"n high rate\": []}\n",
    "\n",
    "    for nsample, sample in enumerate(available_data[\"Scanned data\"]):\n",
    "        for entry in sample:\n",
    "            loaded_data = np.load(entry, allow_pickle=True)\n",
    "            crates = loaded_data[1, :]\n",
    "            if len(np.unique(crates)) <= 2:\n",
    "                unique_rates, unique_counts = np.unique(crates, return_counts=True)\n",
    "                fixed_rates.append(unique_rates[np.argmax(unique_counts)])\n",
    "            if len(np.unique(crates)) == 2:\n",
    "                unique_rates, unique_counts = np.unique(crates, return_counts=True)\n",
    "                formation_cycles[\"Low rate\"].append(np.min(unique_rates))\n",
    "                formation_cycles[\"Main rate\"].append(np.max(unique_rates))\n",
    "                formation_cycles[\"n low rate\"].append(unique_counts[np.argmin(unique_rates)])\n",
    "                formation_cycles[\"n high rate\"].append(unique_counts[np.argmax(unique_rates)])\n",
    "\n",
    "    formation_cycles = pd.DataFrame(formation_cycles)\n",
    "    \n",
    "    fixed_rates_unique, fixed_counts = np.unique(fixed_rates, return_counts=True)\n",
    "    CRate_01C = [0.07, 0.1, 0.15]\n",
    "    CRate_02C = [0.16, 0.2, 0.25]\n",
    "\n",
    "    f.write(\"Percentage of samples using 0.1 C: {} % \\n\".format(int(100*CRate_values_binned[1]/np.sum(CRate_values_binned))))\n",
    "    f.write(\"Percentage of samples using 0.2 C: {} % \\n\".format(int(100*CRate_values_binned[2]/np.sum(CRate_values_binned))))\n",
    "    \n",
    "    f.write(\"Total number of cycling data sets: {}\\n\".format(np.sum([len(name) for name in available_data[\"Scanned data\"]])))\n",
    "    f.write(\"Number of samples using formation cycles: {} \\n\".format(len(formation_cycles)))\n",
    "    f.write(\"Number of samples using <= 2 formation cycles: {} \\n\".format(len(formation_cycles.loc[formation_cycles[\"n low rate\"]<=2])))\n",
    "\n",
    "\n",
    "    compare_main_formation_rates = np.around(formation_cycles[\"Low rate\"]/formation_cycles[\"Main rate\"], 1)\n",
    "    unique_rates, unique_counts = np.unique(compare_main_formation_rates, return_counts=True)\n",
    "\n",
    "    f.write(\"Number of samples using 10% main rate for formation: {} \\n\".format(unique_counts[unique_rates==0.1].flatten()[0]))\n",
    "    f.write(\"Number of samples using 20% main rate for formation: {} \\n\".format(unique_counts[unique_rates==0.2].flatten()[0]))\n",
    "\n",
    "    \n",
    "    f.write(\"\\n \\n\")\n",
    "    f.write(\"Rate change sequences \\n ---------- \\n\")\n",
    "    f.write(\"Number of samples reporting rate change sequences: {} \\n\".format(rate_seq_pad.shape[0]))\n",
    "    f.write(\"Total number of samples: {} \\n\".format(len(available_data)))\n",
    "    f.write(\"\\n\")\n",
    "    \n",
    "    total_constant_rates = np.sum([np.sum([len(cap_dict[keys][\"CRate\"]) for keys in cap_dict.keys()]) for cap_dict in [capacity_01, capacity_02, capacity_05, capacity_1, capacity_2]])\n",
    "    total_constant_1C = np.sum([len(capacity_1[keys][\"CRate\"]) for keys in capacity_1.keys()])\n",
    "    f.write(\"Percentage of constant CRate tests using 1C: {} % \\n\".format(int(100*total_constant_1C/total_constant_rates)))\n",
    "    \n",
    "    seq_exceed_1C = [any(np.array(seq)>=1) for seq in rate_seq]\n",
    "    f.write(\"Percentage of rate performance tests exceeding 1C: {} %\\n\".format(int(100*np.nonzero(seq_exceed_1C)[0].shape[0]/len(rate_seq))))"
   ]
  },
  {
   "cell_type": "code",
   "execution_count": null,
   "id": "f2e537ca",
   "metadata": {},
   "outputs": [],
   "source": []
  },
  {
   "cell_type": "code",
   "execution_count": null,
   "id": "21aecbec",
   "metadata": {},
   "outputs": [],
   "source": [
    "np.sum([len(name) for name in available_data[\"Scanned data\"]])"
   ]
  },
  {
   "cell_type": "code",
   "execution_count": null,
   "id": "48359f2c",
   "metadata": {},
   "outputs": [],
   "source": [
    "CRate_values_binned"
   ]
  },
  {
   "cell_type": "code",
   "execution_count": null,
   "id": "a5628dd9",
   "metadata": {},
   "outputs": [],
   "source": []
  },
  {
   "cell_type": "code",
   "execution_count": null,
   "id": "c70e943d",
   "metadata": {},
   "outputs": [],
   "source": [
    "carbon_types_custom_order = [\"Graphene\", \"Graphene oxide+\\nGraphene\", \"Graphene oxide\",\n",
    "                             'Reduced graphene oxide+\\nGraphene oxide', \"Reduced graphene oxide\", \"Reduced graphene oxide+\\nGraphene\",\n",
    "                            \"Templated carbon\", \"Templated carbon+\\nOther\", \"Carbon nanotubes\",\n",
    "                             \"Carbon nanotubes+\\nOther\"]\n",
    "\n",
    "\n",
    "\n",
    "carbon_types_combined = dict([(key, carbon_types_combined[key.replace(\"+\\n\", \"+\")])\n",
    "                              for key in carbon_types_custom_order if key in carbon_types_combined.keys()])\n",
    "\n",
    "\n",
    "                                                          "
   ]
  },
  {
   "cell_type": "code",
   "execution_count": null,
   "id": "af8f2b0f",
   "metadata": {},
   "outputs": [],
   "source": []
  },
  {
   "cell_type": "code",
   "execution_count": null,
   "id": "b39ca80d",
   "metadata": {},
   "outputs": [],
   "source": []
  },
  {
   "cell_type": "code",
   "execution_count": null,
   "id": "e55de207",
   "metadata": {},
   "outputs": [],
   "source": []
  },
  {
   "cell_type": "code",
   "execution_count": null,
   "id": "b0dbaae1",
   "metadata": {},
   "outputs": [],
   "source": []
  },
  {
   "cell_type": "code",
   "execution_count": null,
   "id": "cbd04749",
   "metadata": {},
   "outputs": [],
   "source": []
  },
  {
   "cell_type": "code",
   "execution_count": null,
   "id": "7b24d04b",
   "metadata": {},
   "outputs": [],
   "source": []
  },
  {
   "cell_type": "code",
   "execution_count": null,
   "id": "98907614",
   "metadata": {},
   "outputs": [],
   "source": [
    "## back-up, suspected repeat\n",
    "carbon_types = {\"Graphene\": {\"include\": [\"graphene\"],\n",
    "                             \"exclude\": [\"composite\", \"reduced\", \"oxide\"]},\n",
    "                \"Graphene oxide\": {\"include\": [\"graphene oxide\", \"GO\"],\n",
    "                                   \"exclude\": [\"reduced\", \"and\"]},\n",
    "                \"Reduced graphene oxide\": {\"include\": [\"reduced graphene oxide\", \"RGO\"],\n",
    "                                           \"exclude\": [\"and\"]},\n",
    "                \"Templated carbon\": {\"include\": [\"hierarchical\", \"template\", \"CMK\", \"mesoporous\"],\n",
    "                                     \"exclude\": [\"graphene\"]},\n",
    "                \"Carbon nanotubes\": {\"include\": [\"CNT\", \"MWNT\", \"MWCNT\", \"tube\"],\n",
    "                                     \"exclude\": [\"graphene\", \"and\"]}}\n",
    "\n",
    "carbon_data = dict([(keys, \n",
    "                     cont_multi_keywords(df=excludes_keywords(df=available_data,\n",
    "                                                              list_of_keywords=values[\"exclude\"],\n",
    "                                                              column=\"Carbon type\",\n",
    "                                                              case=False),\n",
    "                                        list_of_keywords=values[\"include\"],\n",
    "                                        column=\"Carbon type\",\n",
    "                                        case=False)) for keys, values in carbon_types.items()])\n",
    "\n",
    "carbon_data_inclusive = dict([(keys, \n",
    "                               cont_multi_keywords(df=available_data,\n",
    "                                                   list_of_keywords=values[\"include\"],\n",
    "                                                   column=\"Carbon type\",\n",
    "                                                   case=False)) for keys, values in carbon_types.items()])\n",
    "\n",
    "overlaps = []\n",
    "\n",
    "for nk1, keys_1 in enumerate(carbon_data_inclusive.keys()):\n",
    "    for nk2, keys_2 in enumerate(carbon_data_inclusive.keys()):\n",
    "        if nk2 < nk1:\n",
    "            overlap = set(carbon_data_inclusive[keys_1][\"Host label\"]) & set(carbon_data_inclusive[keys_2][\"Host label\"])\n",
    "            if len(overlap) > 0:\n",
    "                overlaps.append([keys_1, keys_2, list(overlap)])\n",
    "\n",
    "carbon_overlaps = dict([(\"+\\n\".join((overlaps[idx][0], overlaps[idx][1])), \n",
    "                        len(overlaps[idx][-1])-\\\n",
    "                         len(set(carbon_data[overlaps[idx][0]][\"Host label\"]) & set(overlaps[idx][-1]))-\\\n",
    "                         len(set(carbon_data[overlaps[idx][1]][\"Host label\"]) & set(overlaps[idx][-1]))\n",
    "                        )\n",
    "                        for idx in range(len(overlaps))])\n",
    "\n",
    "carbon_overlaps_combined = {'Graphene oxide+\\nGraphene': carbon_overlaps[\"Graphene oxide+\\nGraphene\"],\n",
    "                           'Reduced graphene oxide+\\nGraphene': carbon_overlaps[\"Reduced graphene oxide+\\nGraphene\"],\n",
    "                             'Reduced graphene oxide+\\nGraphene oxide': carbon_overlaps[\"Reduced graphene oxide+\\nGraphene oxide\"],\n",
    "                           \"Templated carbon+\\nOther\": np.sum([values for keys, values in carbon_overlaps.items() if \"Templated carbon\" in keys])}\n",
    "\n",
    "carbon_types_combined = {**dict([(keys, len(values)) for keys, values in carbon_data.items()]),\n",
    "                        **carbon_overlaps_combined}"
   ]
  },
  {
   "cell_type": "code",
   "execution_count": null,
   "id": "e7e30b4c",
   "metadata": {},
   "outputs": [],
   "source": []
  }
 ],
 "metadata": {
  "kernelspec": {
   "display_name": "Python 3 (ipykernel)",
   "language": "python",
   "name": "python3"
  },
  "language_info": {
   "codemirror_mode": {
    "name": "ipython",
    "version": 3
   },
   "file_extension": ".py",
   "mimetype": "text/x-python",
   "name": "python",
   "nbconvert_exporter": "python",
   "pygments_lexer": "ipython3",
   "version": "3.9.13"
  },
  "widgets": {
   "application/vnd.jupyter.widget-state+json": {
    "state": {
     "000fc644df7f42279e6e1223b87b69d3": {
      "model_module": "@jupyter-widgets/controls",
      "model_module_version": "1.5.0",
      "model_name": "HBoxModel",
      "state": {
       "children": [
        "IPY_MODEL_e7165b92881f49e1b836e601ceee0c4e",
        "IPY_MODEL_8bac78580bfd42368bc86d4b87101898"
       ],
       "layout": "IPY_MODEL_46a492fab7604305a15da9c00553d178"
      }
     },
     "002b8abe061c4c4ca54b96c6f64c96e8": {
      "model_module": "@jupyter-widgets/controls",
      "model_module_version": "1.5.0",
      "model_name": "DescriptionStyleModel",
      "state": {
       "description_width": ""
      }
     },
     "003097a80127419cb7830c02f1a985be": {
      "model_module": "@jupyter-widgets/controls",
      "model_module_version": "1.5.0",
      "model_name": "LabelModel",
      "state": {
       "layout": "IPY_MODEL_d8047e5fcb3a49e0a9900ca0df53296f",
       "style": "IPY_MODEL_52ede1cac923433e82bf0169816809ad",
       "value": "Cell type"
      }
     },
     "00c9b2c3088c4401aa3978d9f34eb1cf": {
      "model_module": "@jupyter-widgets/base",
      "model_module_version": "1.2.0",
      "model_name": "LayoutModel",
      "state": {
       "width": "20%"
      }
     },
     "0120ea57d57d4d6dbfd6680c22083dbe": {
      "model_module": "@jupyter-widgets/controls",
      "model_module_version": "1.5.0",
      "model_name": "FloatTextModel",
      "state": {
       "layout": "IPY_MODEL_073f498e084448569a1c3117c156626f",
       "step": null,
       "style": "IPY_MODEL_16e31989acb8483685e7683051d98389"
      }
     },
     "01393741cac84a469e99134dd748b6ed": {
      "model_module": "@jupyter-widgets/controls",
      "model_module_version": "1.5.0",
      "model_name": "LabelModel",
      "state": {
       "layout": "IPY_MODEL_effe09f8bc7547e485e4d0447b61829c",
       "style": "IPY_MODEL_d72ea3104d7a4707be37c95a24759d81",
       "value": "Typical pore widths"
      }
     },
     "01f87ede2f564d5cb62e6d6e25a229c2": {
      "model_module": "@jupyter-widgets/controls",
      "model_module_version": "1.5.0",
      "model_name": "FloatTextModel",
      "state": {
       "description": "y min",
       "layout": "IPY_MODEL_f2f92be4aaf74999b185a7c4ecd75a7b",
       "step": null,
       "style": "IPY_MODEL_939138d94ef144aab348a2ae652d3813"
      }
     },
     "024890134edc4e0b9dbf0889b25cbc6f": {
      "model_module": "@jupyter-widgets/controls",
      "model_module_version": "1.5.0",
      "model_name": "DescriptionStyleModel",
      "state": {
       "description_width": ""
      }
     },
     "0273f38c6e8c47a4b98680210a77d04d": {
      "model_module": "@jupyter-widgets/controls",
      "model_module_version": "1.5.0",
      "model_name": "DescriptionStyleModel",
      "state": {
       "description_width": ""
      }
     },
     "02b94c8788b7461a9d0a31f10eb30937": {
      "model_module": "@jupyter-widgets/base",
      "model_module_version": "1.2.0",
      "model_name": "LayoutModel",
      "state": {}
     },
     "031aee71add7402ca59f7cbdceb46869": {
      "model_module": "@jupyter-widgets/base",
      "model_module_version": "1.2.0",
      "model_name": "LayoutModel",
      "state": {
       "width": "20%"
      }
     },
     "0367e9586d06453e9a5a14c1d096348a": {
      "model_module": "@jupyter-widgets/base",
      "model_module_version": "1.2.0",
      "model_name": "LayoutModel",
      "state": {}
     },
     "038ce342460e415782175e984c57f744": {
      "model_module": "@jupyter-widgets/controls",
      "model_module_version": "1.5.0",
      "model_name": "DescriptionStyleModel",
      "state": {
       "description_width": ""
      }
     },
     "03aff337e27444d49e1a19355941d247": {
      "model_module": "@jupyter-widgets/controls",
      "model_module_version": "1.5.0",
      "model_name": "VBoxModel",
      "state": {
       "children": [
        "IPY_MODEL_55822333c2d942d6bd45bf23ae60322e",
        "IPY_MODEL_539f6600e6ac46fe8535e029913f84c0"
       ],
       "layout": "IPY_MODEL_3a7812e1b86a4d0cb9cdb0220e849ea2"
      }
     },
     "0418611053be48daa5b053a9e1db0835": {
      "model_module": "@jupyter-widgets/controls",
      "model_module_version": "1.5.0",
      "model_name": "TextModel",
      "state": {
       "layout": "IPY_MODEL_2a4cf195e8bb46a193f49025330b7e78",
       "style": "IPY_MODEL_fee91b6454104e758271fcdde8cb1229",
       "value": "Celgard 2400"
      }
     },
     "044bc44587714d5fbfd665ce5529ff15": {
      "model_module": "@jupyter-widgets/controls",
      "model_module_version": "1.5.0",
      "model_name": "LabelModel",
      "state": {
       "layout": "IPY_MODEL_effe09f8bc7547e485e4d0447b61829c",
       "style": "IPY_MODEL_6269e08cfd7b48b1af9d029190a16c58",
       "value": "Year"
      }
     },
     "04f3469af6664e18982e2f1c7ff09d29": {
      "model_module": "@jupyter-widgets/controls",
      "model_module_version": "1.5.0",
      "model_name": "DescriptionStyleModel",
      "state": {
       "description_width": ""
      }
     },
     "04ffc822a9664135b258d1da78c28de7": {
      "model_module": "@jupyter-widgets/controls",
      "model_module_version": "1.5.0",
      "model_name": "DescriptionStyleModel",
      "state": {
       "description_width": ""
      }
     },
     "052bf5c7e58e4b67958eb7ac1ebe43e8": {
      "model_module": "@jupyter-widgets/controls",
      "model_module_version": "1.5.0",
      "model_name": "ButtonModel",
      "state": {
       "description": "Save",
       "layout": "IPY_MODEL_2519894cb1894720911ca47742ee37c7",
       "style": "IPY_MODEL_4ad1b3ceb2c14635ae164633ce31c449"
      }
     },
     "05929bc8bece4b31927a6c25a6221208": {
      "model_module": "@jupyter-widgets/controls",
      "model_module_version": "1.5.0",
      "model_name": "ButtonModel",
      "state": {
       "description": "Display graph",
       "layout": "IPY_MODEL_5f65baa534f6447ea375fc5514475676",
       "style": "IPY_MODEL_16b496cddf1142f59542117ef95708d7"
      }
     },
     "05cf238eb26348cda47f8a3fd68010e0": {
      "model_module": "@jupyter-widgets/controls",
      "model_module_version": "1.5.0",
      "model_name": "ColorPickerModel",
      "state": {
       "description": "Line color",
       "disabled": false,
       "layout": "IPY_MODEL_088849a0ec494c7698687333333e1a66",
       "style": "IPY_MODEL_5c9b65b21e48425eb17c4b58b89a7974",
       "value": "#000000"
      }
     },
     "05ec55bac3b94f4a916b93e4200afeaf": {
      "model_module": "@jupyter-widgets/base",
      "model_module_version": "1.2.0",
      "model_name": "LayoutModel",
      "state": {}
     },
     "05f8412872c44645a8df61a9a9267d0e": {
      "model_module": "@jupyter-widgets/controls",
      "model_module_version": "1.5.0",
      "model_name": "HBoxModel",
      "state": {
       "children": [
        "IPY_MODEL_5de8dc026d694dbf9bcd64af3b0e085a",
        "IPY_MODEL_a5e57ab2aac648899627884f3b74b4c4",
        "IPY_MODEL_5b6beb9c2ca84daea4373c75df864be1",
        "IPY_MODEL_ad83d0dcc9ff432bbe51d6976eef4e2c"
       ],
       "layout": "IPY_MODEL_ff3cc51eba944cee8379a9ab36ba9551"
      }
     },
     "060f67e4edec468ea3bbb14d75eccbb1": {
      "model_module": "@jupyter-widgets/controls",
      "model_module_version": "1.5.0",
      "model_name": "HBoxModel",
      "state": {
       "children": [
        "IPY_MODEL_841ba5f07ce24f138010f96d938c7c37",
        "IPY_MODEL_d26696d995e94f4989283aae7eabdd50"
       ],
       "layout": "IPY_MODEL_e26e2d41f1f84b1190483d7b4a8a3be8"
      }
     },
     "062712c9224447ada7a893200fabd42d": {
      "model_module": "@jupyter-widgets/controls",
      "model_module_version": "1.5.0",
      "model_name": "ButtonModel",
      "state": {
       "description": "Save lines",
       "layout": "IPY_MODEL_655f5acb213b4a35a7f89b082762a351",
       "style": "IPY_MODEL_e92288f4986e4774b6d19984c6c2453b"
      }
     },
     "06ca9ba340de407a8e9e1caefedb208e": {
      "model_module": "@jupyter-widgets/controls",
      "model_module_version": "1.5.0",
      "model_name": "VBoxModel",
      "state": {
       "children": [
        "IPY_MODEL_dac97304def9480e9c04e5c01b763f27",
        "IPY_MODEL_312f1617bacc4ef99077267621d94b1a"
       ],
       "layout": "IPY_MODEL_c5787fe05e6645c2b915f544fc5d976c"
      }
     },
     "06e6b5092f724521bc5f70a30b1331e7": {
      "model_module": "@jupyter-widgets/base",
      "model_module_version": "1.2.0",
      "model_name": "LayoutModel",
      "state": {}
     },
     "073f498e084448569a1c3117c156626f": {
      "model_module": "@jupyter-widgets/base",
      "model_module_version": "1.2.0",
      "model_name": "LayoutModel",
      "state": {
       "width": "10%"
      }
     },
     "074386f4130b46baaad9807e6d5d082a": {
      "model_module": "@jupyter-widgets/controls",
      "model_module_version": "1.5.0",
      "model_name": "DescriptionStyleModel",
      "state": {
       "description_width": ""
      }
     },
     "0770dcd0de9443c9ab5f2783fbb48da2": {
      "model_module": "@jupyter-widgets/controls",
      "model_module_version": "1.5.0",
      "model_name": "HBoxModel",
      "state": {
       "children": [
        "IPY_MODEL_33145b33d0324eae84fcf55fcfd05098",
        "IPY_MODEL_55cd24eef1d2405ebdfeeeb84a593360"
       ],
       "layout": "IPY_MODEL_68e036b0e289416db686b65868b0df26"
      }
     },
     "07b4f8129fa5422ea441dda70a24f3c6": {
      "model_module": "@jupyter-widgets/controls",
      "model_module_version": "1.5.0",
      "model_name": "VBoxModel",
      "state": {
       "children": [
        "IPY_MODEL_07c3bff3dbb64a25a3da65d64685f82b",
        "IPY_MODEL_cce53994b42b4a2bb59185f213472a00",
        "IPY_MODEL_67345b10776e4cb5b141f0ca181b1ad6",
        "IPY_MODEL_ce70b73a5d104dfe8eef99680354b6c9",
        "IPY_MODEL_c226b14ff04f4397b7fb4fd045a19ac2",
        "IPY_MODEL_af8ff1268f7046b2a57e75f1c32bad7b",
        "IPY_MODEL_cd10a9a7458446d0a2f739b90855e9c8",
        "IPY_MODEL_84766f71fd7c43f7b5d016541bc30b5c",
        "IPY_MODEL_1f574ac0813a423caedbb28f7586def0",
        "IPY_MODEL_df6576c8e080439daf88a1738e4301b9",
        "IPY_MODEL_6de2ac258f724096b1003a80483b3d2a",
        "IPY_MODEL_e5d927bb23b34f739768ddbfb7aa1ddc",
        "IPY_MODEL_63b1ff563ffb4599bf0c97a830b44573",
        "IPY_MODEL_7c3b0f3a9e3f452b8ab0328348d5b1f6",
        "IPY_MODEL_5ad8db17c6a042b6ab27f3d4aef66c9b",
        "IPY_MODEL_1bb9a96e8a7e4fe390de7b5b59ff511e"
       ],
       "layout": "IPY_MODEL_c59edc31acbe4c4383fd45393fbe47f7"
      }
     },
     "07c3bff3dbb64a25a3da65d64685f82b": {
      "model_module": "@jupyter-widgets/controls",
      "model_module_version": "1.5.0",
      "model_name": "HBoxModel",
      "state": {
       "children": [
        "IPY_MODEL_6b910f1f95fe4d608f6c78b3f3fb7f0d",
        "IPY_MODEL_7f1782127ef64f6c8a2e383eceb473af",
        "IPY_MODEL_aee2fbe8627045de93d838259655ab07"
       ],
       "layout": "IPY_MODEL_d61b00b96bf141c9a319ca236b262d96"
      }
     },
     "07d44827713d424ab4c51c0dbc5dbdb0": {
      "model_module": "@jupyter-widgets/base",
      "model_module_version": "1.2.0",
      "model_name": "LayoutModel",
      "state": {}
     },
     "07da96ed12194964b82af2a2ed7bc1ae": {
      "model_module": "@jupyter-widgets/controls",
      "model_module_version": "1.5.0",
      "model_name": "ButtonModel",
      "state": {
       "description": "Get line details",
       "layout": "IPY_MODEL_3bf37311c1d14eceb7c623939f403599",
       "style": "IPY_MODEL_804981800bed4d7e834a654151b3e4c8"
      }
     },
     "07eb2a1744a24df88bf000e541e80358": {
      "model_module": "@jupyter-widgets/base",
      "model_module_version": "1.2.0",
      "model_name": "LayoutModel",
      "state": {}
     },
     "07fef1b71f9a4e0d8854532ad175c6d8": {
      "model_module": "@jupyter-widgets/controls",
      "model_module_version": "1.5.0",
      "model_name": "DescriptionStyleModel",
      "state": {
       "description_width": ""
      }
     },
     "07fefb655ba34e8f910c26d61d12c296": {
      "model_module": "@jupyter-widgets/controls",
      "model_module_version": "1.5.0",
      "model_name": "DescriptionStyleModel",
      "state": {
       "description_width": ""
      }
     },
     "080fc0a1d63f4e189682086a7e8b6fc8": {
      "model_module": "@jupyter-widgets/base",
      "model_module_version": "1.2.0",
      "model_name": "LayoutModel",
      "state": {}
     },
     "08237b811fba4e879d9f392e1261fee1": {
      "model_module": "@jupyter-widgets/base",
      "model_module_version": "1.2.0",
      "model_name": "LayoutModel",
      "state": {}
     },
     "084ccdc4ff8a4fedb3c7cdb374ded778": {
      "model_module": "@jupyter-widgets/base",
      "model_module_version": "1.2.0",
      "model_name": "LayoutModel",
      "state": {}
     },
     "088111522c4849dca2acd54d047fa899": {
      "model_module": "@jupyter-widgets/base",
      "model_module_version": "1.2.0",
      "model_name": "LayoutModel",
      "state": {}
     },
     "0885154db267475786841885cd4e8bb4": {
      "model_module": "@jupyter-widgets/controls",
      "model_module_version": "1.5.0",
      "model_name": "LabelModel",
      "state": {
       "layout": "IPY_MODEL_0df9987234d949d3a653e70b86abc939",
       "style": "IPY_MODEL_f5adea8d3369486b97afe35075af381c",
       "value": "Host label"
      }
     },
     "088849a0ec494c7698687333333e1a66": {
      "model_module": "@jupyter-widgets/base",
      "model_module_version": "1.2.0",
      "model_name": "LayoutModel",
      "state": {}
     },
     "08e409b3ea6b4dbfafac50ceac6bf256": {
      "model_module": "@jupyter-widgets/controls",
      "model_module_version": "1.5.0",
      "model_name": "ButtonStyleModel",
      "state": {}
     },
     "0901f34bc6114a2bb9b6e7a6ffbcf80f": {
      "model_module": "@jupyter-widgets/controls",
      "model_module_version": "1.5.0",
      "model_name": "LabelModel",
      "state": {
       "layout": "IPY_MODEL_effe09f8bc7547e485e4d0447b61829c",
       "style": "IPY_MODEL_4d9754be603a4ae38cdbfd4b73a96da9",
       "value": "Create new data"
      }
     },
     "09110d5fe4364423a8a8f66681fc1fa0": {
      "model_module": "@jupyter-widgets/base",
      "model_module_version": "1.2.0",
      "model_name": "LayoutModel",
      "state": {}
     },
     "0929bf0f98e64e63aa49479a3781c989": {
      "model_module": "@jupyter-widgets/controls",
      "model_module_version": "1.5.0",
      "model_name": "TextModel",
      "state": {
       "layout": "IPY_MODEL_be250f5f271940d99df09bde7e05d47d",
       "style": "IPY_MODEL_70fb75b9d9634fc5a207460e4068c9f8"
      }
     },
     "093bdc8fd78a4936b5ac65a017f4b829": {
      "model_module": "@jupyter-widgets/controls",
      "model_module_version": "1.5.0",
      "model_name": "VBoxModel",
      "state": {
       "children": [
        "IPY_MODEL_41ede5fdf9b54b1699c9360e7bd44c73",
        "IPY_MODEL_da506fa2514f43b38b79a650a61daf77",
        "IPY_MODEL_b72835a781bd4e2bbaa583b0d31d07bd",
        "IPY_MODEL_7fced9bf29c24f75a94051e031eafbb6",
        "IPY_MODEL_1b5537b51980449498b5f52ebafe3632",
        "IPY_MODEL_ea138d9315be41248cf4048b7c8545c1",
        "IPY_MODEL_820247aeb45f4818b8536167f0db02f7",
        "IPY_MODEL_5484106a1f874cfeb290b8115dc38da7",
        "IPY_MODEL_58b7034b31114f82b116026b5f2832c3",
        "IPY_MODEL_58c06635b60c4df2bc5a2fa05afabc3c",
        "IPY_MODEL_ae25d56010f34c12840e7bbacb21f087",
        "IPY_MODEL_e365b5246c504e0899e31dafae7c5340",
        "IPY_MODEL_ea117d048e5f4b239a3760745c70838c",
        "IPY_MODEL_49836609b06a42c8a22a3858362cbf9d",
        "IPY_MODEL_a0022756411d4665afe81752b802966d",
        "IPY_MODEL_000fc644df7f42279e6e1223b87b69d3",
        "IPY_MODEL_27ff5cf2a16c49db8310f6c982096c64",
        "IPY_MODEL_0770dcd0de9443c9ab5f2783fbb48da2"
       ],
       "layout": "IPY_MODEL_454315898e6e4ea6a7735101a05b2538"
      }
     },
     "0947713a4a0546e2aacb83813c40d7e6": {
      "model_module": "@jupyter-widgets/controls",
      "model_module_version": "1.5.0",
      "model_name": "AccordionModel",
      "state": {
       "_titles": {
        "0": 1
       },
       "children": [
        "IPY_MODEL_415e59c14ef3464f9bc2323520421d68"
       ],
       "layout": "IPY_MODEL_69d67cb3fd72482288b00f1e8448ee5b"
      }
     },
     "095feda0552843f5ad04896550587b23": {
      "model_module": "@jupyter-widgets/base",
      "model_module_version": "1.2.0",
      "model_name": "LayoutModel",
      "state": {}
     },
     "0975422f368344049be4e3241e8da438": {
      "model_module": "@jupyter-widgets/controls",
      "model_module_version": "1.5.0",
      "model_name": "DescriptionStyleModel",
      "state": {
       "description_width": ""
      }
     },
     "0a1a9dea0c7145e4947f5ebd2b419e20": {
      "model_module": "@jupyter-widgets/controls",
      "model_module_version": "1.5.0",
      "model_name": "DescriptionStyleModel",
      "state": {
       "description_width": ""
      }
     },
     "0a3483b259a84f19a38cf7eacdceadd2": {
      "model_module": "@jupyter-widgets/controls",
      "model_module_version": "1.5.0",
      "model_name": "DescriptionStyleModel",
      "state": {
       "description_width": ""
      }
     },
     "0a384f8b7d774a7280742496e5fa9d40": {
      "model_module": "@jupyter-widgets/controls",
      "model_module_version": "1.5.0",
      "model_name": "TextModel",
      "state": {
       "layout": "IPY_MODEL_be250f5f271940d99df09bde7e05d47d",
       "style": "IPY_MODEL_750b62e315d148ddaccd75c7f5ff168c"
      }
     },
     "0a7b36a76b21474da426408302785ab1": {
      "model_module": "@jupyter-widgets/base",
      "model_module_version": "1.2.0",
      "model_name": "LayoutModel",
      "state": {}
     },
     "0a7f3dec20574616a8c39e9387fadaa6": {
      "model_module": "@jupyter-widgets/base",
      "model_module_version": "1.2.0",
      "model_name": "LayoutModel",
      "state": {}
     },
     "0a8c58d288bd478a97608248b3c507e2": {
      "model_module": "@jupyter-widgets/controls",
      "model_module_version": "1.5.0",
      "model_name": "FloatTextModel",
      "state": {
       "description": "x min",
       "layout": "IPY_MODEL_232a6054529b499d915cabcf849221a2",
       "step": null,
       "style": "IPY_MODEL_c2835a30f50f420c99a5cefd3bfb439e"
      }
     },
     "0b2c6ab2dc76499fb5320c078580c064": {
      "model_module": "@jupyter-widgets/controls",
      "model_module_version": "1.5.0",
      "model_name": "DescriptionStyleModel",
      "state": {
       "description_width": ""
      }
     },
     "0b4c8df661fd41349a45761cc518e981": {
      "model_module": "@jupyter-widgets/controls",
      "model_module_version": "1.5.0",
      "model_name": "LabelModel",
      "state": {
       "layout": "IPY_MODEL_1f43247803d64dcf96173a433dbba2d6",
       "style": "IPY_MODEL_ff875866537b4d3d82ff85344262ca7a",
       "value": "No lines saved this session"
      }
     },
     "0b6422f9aef1488caa1065b99dbe3df3": {
      "model_module": "@jupyter-widgets/controls",
      "model_module_version": "1.5.0",
      "model_name": "DescriptionStyleModel",
      "state": {
       "description_width": ""
      }
     },
     "0b6912500b034b1c93b43b1f8c3a729e": {
      "model_module": "@jupyter-widgets/base",
      "model_module_version": "1.2.0",
      "model_name": "LayoutModel",
      "state": {}
     },
     "0b6d88a4743a4b75af76492eeaddf1fe": {
      "model_module": "@jupyter-widgets/controls",
      "model_module_version": "1.5.0",
      "model_name": "LabelModel",
      "state": {
       "layout": "IPY_MODEL_192cd3694ab0473b8e1f097a352630cb",
       "style": "IPY_MODEL_f10bf7dbd4b840e0b1cc2e13e086f871",
       "value": "Automatic"
      }
     },
     "0b85442e6b41404ebdfdc090aff83f24": {
      "model_module": "@jupyter-widgets/base",
      "model_module_version": "1.2.0",
      "model_name": "LayoutModel",
      "state": {}
     },
     "0b9a9e17915f4908a442d09b01bd86bc": {
      "model_module": "@jupyter-widgets/controls",
      "model_module_version": "1.5.0",
      "model_name": "DescriptionStyleModel",
      "state": {
       "description_width": ""
      }
     },
     "0b9e0c5ca59844619bccc7ab82f70c57": {
      "model_module": "@jupyter-widgets/base",
      "model_module_version": "1.2.0",
      "model_name": "LayoutModel",
      "state": {}
     },
     "0bb386f5bf964c0ca0c10997fa870b2f": {
      "model_module": "@jupyter-widgets/controls",
      "model_module_version": "1.5.0",
      "model_name": "ButtonModel",
      "state": {
       "description": "Load host names",
       "layout": "IPY_MODEL_c0c440dd34a14dd896ada774650f9af6",
       "style": "IPY_MODEL_f986d5cd40284e54bd7d6b9648be736b"
      }
     },
     "0bbd6f0b946b40d49ab4c06fca860cfe": {
      "model_module": "@jupyter-widgets/controls",
      "model_module_version": "1.5.0",
      "model_name": "VBoxModel",
      "state": {
       "children": [
        "IPY_MODEL_07b4f8129fa5422ea441dda70a24f3c6",
        "IPY_MODEL_f5143cfcde9f49258a2c4bc63eb4e0b0",
        "IPY_MODEL_5606091524954012b783caac735ccf50",
        "IPY_MODEL_cba851e505da44e0a5dbe0c6935d194d"
       ],
       "layout": "IPY_MODEL_ff98dd3ecc75432ab49ac0772e70db65"
      }
     },
     "0bff192269b74988aed8ce27e9bc97e5": {
      "model_module": "@jupyter-widgets/controls",
      "model_module_version": "1.5.0",
      "model_name": "DescriptionStyleModel",
      "state": {
       "description_width": ""
      }
     },
     "0cd193d5829d4dd2b1b2d49e7d6f515f": {
      "model_module": "@jupyter-widgets/controls",
      "model_module_version": "1.5.0",
      "model_name": "DescriptionStyleModel",
      "state": {
       "description_width": ""
      }
     },
     "0cef2f4efbd54f3baacf9214d7965212": {
      "model_module": "@jupyter-widgets/controls",
      "model_module_version": "1.5.0",
      "model_name": "ButtonStyleModel",
      "state": {
       "button_color": "orange"
      }
     },
     "0d9d4e0165e4479484d3cd345517de8e": {
      "model_module": "@jupyter-widgets/base",
      "model_module_version": "1.2.0",
      "model_name": "LayoutModel",
      "state": {}
     },
     "0dde0179eace4423892b3ace74256f03": {
      "model_module": "@jupyter-widgets/controls",
      "model_module_version": "1.5.0",
      "model_name": "DescriptionStyleModel",
      "state": {
       "description_width": ""
      }
     },
     "0de096aa67b5407cbb2a6143cd9e38a3": {
      "model_module": "@jupyter-widgets/controls",
      "model_module_version": "1.5.0",
      "model_name": "HBoxModel",
      "state": {
       "children": [
        "IPY_MODEL_a36b6b7daa1242b08e769ac45d30e9be",
        "IPY_MODEL_1b7e992b69f645ba8e39fcc493e555ae"
       ],
       "layout": "IPY_MODEL_abf69db9198d4f6288a6e74e8b49d4a8"
      }
     },
     "0df9987234d949d3a653e70b86abc939": {
      "model_module": "@jupyter-widgets/base",
      "model_module_version": "1.2.0",
      "model_name": "LayoutModel",
      "state": {
       "width": "20%"
      }
     },
     "0e1fe778e63b454c8fb3f36ddbf09613": {
      "model_module": "@jupyter-widgets/base",
      "model_module_version": "1.2.0",
      "model_name": "LayoutModel",
      "state": {}
     },
     "0e2059409fa847ec915434b8ef87eafe": {
      "model_module": "@jupyter-widgets/controls",
      "model_module_version": "1.5.0",
      "model_name": "DescriptionStyleModel",
      "state": {
       "description_width": ""
      }
     },
     "0e224b92fb0e46ac8b4afb44dd7b7e96": {
      "model_module": "@jupyter-widgets/base",
      "model_module_version": "1.2.0",
      "model_name": "LayoutModel",
      "state": {}
     },
     "0e92ed377eed4c1a980e47ff17c7262b": {
      "model_module": "@jupyter-widgets/controls",
      "model_module_version": "1.5.0",
      "model_name": "DescriptionStyleModel",
      "state": {
       "description_width": ""
      }
     },
     "0ee92cc6a0c14491b980b4fc5241ed08": {
      "model_module": "@jupyter-widgets/base",
      "model_module_version": "1.2.0",
      "model_name": "LayoutModel",
      "state": {}
     },
     "0f6006099a6d44f0ab0e43cfdb576e61": {
      "model_module": "@jupyter-widgets/controls",
      "model_module_version": "1.5.0",
      "model_name": "DescriptionStyleModel",
      "state": {
       "description_width": ""
      }
     },
     "0f7d12059c5e472ca71b8658d183dc00": {
      "model_module": "@jupyter-widgets/controls",
      "model_module_version": "1.5.0",
      "model_name": "TextModel",
      "state": {
       "layout": "IPY_MODEL_2ea41123ef6e432a9de67807cb2dd325",
       "style": "IPY_MODEL_ae3d399c060846d9966dd76553b3ea1d"
      }
     },
     "0f853ccf4cb141b8a2a764d18ccd4ee3": {
      "model_module": "@jupyter-widgets/controls",
      "model_module_version": "1.5.0",
      "model_name": "CheckboxModel",
      "state": {
       "description": "Common",
       "disabled": false,
       "indent": false,
       "layout": "IPY_MODEL_1f7642d117504bcfa225ff997fd8210e",
       "style": "IPY_MODEL_a5c8bc11b6f6466cbd0ec7e65936509e",
       "value": false
      }
     },
     "0f9fe7b6e05b4b33be19d8d90237a66a": {
      "model_module": "@jupyter-widgets/base",
      "model_module_version": "1.2.0",
      "model_name": "LayoutModel",
      "state": {}
     },
     "1091d4d918114aaf86bae12425c43e43": {
      "model_module": "@jupyter-widgets/controls",
      "model_module_version": "1.5.0",
      "model_name": "TextModel",
      "state": {
       "layout": "IPY_MODEL_2ea41123ef6e432a9de67807cb2dd325",
       "style": "IPY_MODEL_830edd8eca9346f88edfbec2a12252c0"
      }
     },
     "10a537c54c904de3ae72151d745d75f9": {
      "model_module": "@jupyter-widgets/output",
      "model_module_version": "1.0.0",
      "model_name": "OutputModel",
      "state": {
       "layout": "IPY_MODEL_084ccdc4ff8a4fedb3c7cdb374ded778",
       "outputs": [
        {
         "data": {
          "application/javascript": "/* Put everything inside the global mpl namespace */\n/* global mpl */\nwindow.mpl = {};\n\nmpl.get_websocket_type = function () {\n    if (typeof WebSocket !== 'undefined') {\n        return WebSocket;\n    } else if (typeof MozWebSocket !== 'undefined') {\n        return MozWebSocket;\n    } else {\n        alert(\n            'Your browser does not have WebSocket support. ' +\n                'Please try Chrome, Safari or Firefox ≥ 6. ' +\n                'Firefox 4 and 5 are also supported but you ' +\n                'have to enable WebSockets in about:config.'\n        );\n    }\n};\n\nmpl.figure = function (figure_id, websocket, ondownload, parent_element) {\n    this.id = figure_id;\n\n    this.ws = websocket;\n\n    this.supports_binary = this.ws.binaryType !== undefined;\n\n    if (!this.supports_binary) {\n        var warnings = document.getElementById('mpl-warnings');\n        if (warnings) {\n            warnings.style.display = 'block';\n            warnings.textContent =\n                'This browser does not support binary websocket messages. ' +\n                'Performance may be slow.';\n        }\n    }\n\n    this.imageObj = new Image();\n\n    this.context = undefined;\n    this.message = undefined;\n    this.canvas = undefined;\n    this.rubberband_canvas = undefined;\n    this.rubberband_context = undefined;\n    this.format_dropdown = undefined;\n\n    this.image_mode = 'full';\n\n    this.root = document.createElement('div');\n    this.root.setAttribute('style', 'display: inline-block');\n    this._root_extra_style(this.root);\n\n    parent_element.appendChild(this.root);\n\n    this._init_header(this);\n    this._init_canvas(this);\n    this._init_toolbar(this);\n\n    var fig = this;\n\n    this.waiting = false;\n\n    this.ws.onopen = function () {\n        fig.send_message('supports_binary', { value: fig.supports_binary });\n        fig.send_message('send_image_mode', {});\n        if (fig.ratio !== 1) {\n            fig.send_message('set_device_pixel_ratio', {\n                device_pixel_ratio: fig.ratio,\n            });\n        }\n        fig.send_message('refresh', {});\n    };\n\n    this.imageObj.onload = function () {\n        if (fig.image_mode === 'full') {\n            // Full images could contain transparency (where diff images\n            // almost always do), so we need to clear the canvas so that\n            // there is no ghosting.\n            fig.context.clearRect(0, 0, fig.canvas.width, fig.canvas.height);\n        }\n        fig.context.drawImage(fig.imageObj, 0, 0);\n    };\n\n    this.imageObj.onunload = function () {\n        fig.ws.close();\n    };\n\n    this.ws.onmessage = this._make_on_message_function(this);\n\n    this.ondownload = ondownload;\n};\n\nmpl.figure.prototype._init_header = function () {\n    var titlebar = document.createElement('div');\n    titlebar.classList =\n        'ui-dialog-titlebar ui-widget-header ui-corner-all ui-helper-clearfix';\n    var titletext = document.createElement('div');\n    titletext.classList = 'ui-dialog-title';\n    titletext.setAttribute(\n        'style',\n        'width: 100%; text-align: center; padding: 3px;'\n    );\n    titlebar.appendChild(titletext);\n    this.root.appendChild(titlebar);\n    this.header = titletext;\n};\n\nmpl.figure.prototype._canvas_extra_style = function (_canvas_div) {};\n\nmpl.figure.prototype._root_extra_style = function (_canvas_div) {};\n\nmpl.figure.prototype._init_canvas = function () {\n    var fig = this;\n\n    var canvas_div = (this.canvas_div = document.createElement('div'));\n    canvas_div.setAttribute(\n        'style',\n        'border: 1px solid #ddd;' +\n            'box-sizing: content-box;' +\n            'clear: both;' +\n            'min-height: 1px;' +\n            'min-width: 1px;' +\n            'outline: 0;' +\n            'overflow: hidden;' +\n            'position: relative;' +\n            'resize: both;'\n    );\n\n    function on_keyboard_event_closure(name) {\n        return function (event) {\n            return fig.key_event(event, name);\n        };\n    }\n\n    canvas_div.addEventListener(\n        'keydown',\n        on_keyboard_event_closure('key_press')\n    );\n    canvas_div.addEventListener(\n        'keyup',\n        on_keyboard_event_closure('key_release')\n    );\n\n    this._canvas_extra_style(canvas_div);\n    this.root.appendChild(canvas_div);\n\n    var canvas = (this.canvas = document.createElement('canvas'));\n    canvas.classList.add('mpl-canvas');\n    canvas.setAttribute('style', 'box-sizing: content-box;');\n\n    this.context = canvas.getContext('2d');\n\n    var backingStore =\n        this.context.backingStorePixelRatio ||\n        this.context.webkitBackingStorePixelRatio ||\n        this.context.mozBackingStorePixelRatio ||\n        this.context.msBackingStorePixelRatio ||\n        this.context.oBackingStorePixelRatio ||\n        this.context.backingStorePixelRatio ||\n        1;\n\n    this.ratio = (window.devicePixelRatio || 1) / backingStore;\n\n    var rubberband_canvas = (this.rubberband_canvas = document.createElement(\n        'canvas'\n    ));\n    rubberband_canvas.setAttribute(\n        'style',\n        'box-sizing: content-box; position: absolute; left: 0; top: 0; z-index: 1;'\n    );\n\n    // Apply a ponyfill if ResizeObserver is not implemented by browser.\n    if (this.ResizeObserver === undefined) {\n        if (window.ResizeObserver !== undefined) {\n            this.ResizeObserver = window.ResizeObserver;\n        } else {\n            var obs = _JSXTOOLS_RESIZE_OBSERVER({});\n            this.ResizeObserver = obs.ResizeObserver;\n        }\n    }\n\n    this.resizeObserverInstance = new this.ResizeObserver(function (entries) {\n        var nentries = entries.length;\n        for (var i = 0; i < nentries; i++) {\n            var entry = entries[i];\n            var width, height;\n            if (entry.contentBoxSize) {\n                if (entry.contentBoxSize instanceof Array) {\n                    // Chrome 84 implements new version of spec.\n                    width = entry.contentBoxSize[0].inlineSize;\n                    height = entry.contentBoxSize[0].blockSize;\n                } else {\n                    // Firefox implements old version of spec.\n                    width = entry.contentBoxSize.inlineSize;\n                    height = entry.contentBoxSize.blockSize;\n                }\n            } else {\n                // Chrome <84 implements even older version of spec.\n                width = entry.contentRect.width;\n                height = entry.contentRect.height;\n            }\n\n            // Keep the size of the canvas and rubber band canvas in sync with\n            // the canvas container.\n            if (entry.devicePixelContentBoxSize) {\n                // Chrome 84 implements new version of spec.\n                canvas.setAttribute(\n                    'width',\n                    entry.devicePixelContentBoxSize[0].inlineSize\n                );\n                canvas.setAttribute(\n                    'height',\n                    entry.devicePixelContentBoxSize[0].blockSize\n                );\n            } else {\n                canvas.setAttribute('width', width * fig.ratio);\n                canvas.setAttribute('height', height * fig.ratio);\n            }\n            canvas.setAttribute(\n                'style',\n                'width: ' + width + 'px; height: ' + height + 'px;'\n            );\n\n            rubberband_canvas.setAttribute('width', width);\n            rubberband_canvas.setAttribute('height', height);\n\n            // And update the size in Python. We ignore the initial 0/0 size\n            // that occurs as the element is placed into the DOM, which should\n            // otherwise not happen due to the minimum size styling.\n            if (fig.ws.readyState == 1 && width != 0 && height != 0) {\n                fig.request_resize(width, height);\n            }\n        }\n    });\n    this.resizeObserverInstance.observe(canvas_div);\n\n    function on_mouse_event_closure(name) {\n        return function (event) {\n            return fig.mouse_event(event, name);\n        };\n    }\n\n    rubberband_canvas.addEventListener(\n        'mousedown',\n        on_mouse_event_closure('button_press')\n    );\n    rubberband_canvas.addEventListener(\n        'mouseup',\n        on_mouse_event_closure('button_release')\n    );\n    rubberband_canvas.addEventListener(\n        'dblclick',\n        on_mouse_event_closure('dblclick')\n    );\n    // Throttle sequential mouse events to 1 every 20ms.\n    rubberband_canvas.addEventListener(\n        'mousemove',\n        on_mouse_event_closure('motion_notify')\n    );\n\n    rubberband_canvas.addEventListener(\n        'mouseenter',\n        on_mouse_event_closure('figure_enter')\n    );\n    rubberband_canvas.addEventListener(\n        'mouseleave',\n        on_mouse_event_closure('figure_leave')\n    );\n\n    canvas_div.addEventListener('wheel', function (event) {\n        if (event.deltaY < 0) {\n            event.step = 1;\n        } else {\n            event.step = -1;\n        }\n        on_mouse_event_closure('scroll')(event);\n    });\n\n    canvas_div.appendChild(canvas);\n    canvas_div.appendChild(rubberband_canvas);\n\n    this.rubberband_context = rubberband_canvas.getContext('2d');\n    this.rubberband_context.strokeStyle = '#000000';\n\n    this._resize_canvas = function (width, height, forward) {\n        if (forward) {\n            canvas_div.style.width = width + 'px';\n            canvas_div.style.height = height + 'px';\n        }\n    };\n\n    // Disable right mouse context menu.\n    this.rubberband_canvas.addEventListener('contextmenu', function (_e) {\n        event.preventDefault();\n        return false;\n    });\n\n    function set_focus() {\n        canvas.focus();\n        canvas_div.focus();\n    }\n\n    window.setTimeout(set_focus, 100);\n};\n\nmpl.figure.prototype._init_toolbar = function () {\n    var fig = this;\n\n    var toolbar = document.createElement('div');\n    toolbar.classList = 'mpl-toolbar';\n    this.root.appendChild(toolbar);\n\n    function on_click_closure(name) {\n        return function (_event) {\n            return fig.toolbar_button_onclick(name);\n        };\n    }\n\n    function on_mouseover_closure(tooltip) {\n        return function (event) {\n            if (!event.currentTarget.disabled) {\n                return fig.toolbar_button_onmouseover(tooltip);\n            }\n        };\n    }\n\n    fig.buttons = {};\n    var buttonGroup = document.createElement('div');\n    buttonGroup.classList = 'mpl-button-group';\n    for (var toolbar_ind in mpl.toolbar_items) {\n        var name = mpl.toolbar_items[toolbar_ind][0];\n        var tooltip = mpl.toolbar_items[toolbar_ind][1];\n        var image = mpl.toolbar_items[toolbar_ind][2];\n        var method_name = mpl.toolbar_items[toolbar_ind][3];\n\n        if (!name) {\n            /* Instead of a spacer, we start a new button group. */\n            if (buttonGroup.hasChildNodes()) {\n                toolbar.appendChild(buttonGroup);\n            }\n            buttonGroup = document.createElement('div');\n            buttonGroup.classList = 'mpl-button-group';\n            continue;\n        }\n\n        var button = (fig.buttons[name] = document.createElement('button'));\n        button.classList = 'mpl-widget';\n        button.setAttribute('role', 'button');\n        button.setAttribute('aria-disabled', 'false');\n        button.addEventListener('click', on_click_closure(method_name));\n        button.addEventListener('mouseover', on_mouseover_closure(tooltip));\n\n        var icon_img = document.createElement('img');\n        icon_img.src = '_images/' + image + '.png';\n        icon_img.srcset = '_images/' + image + '_large.png 2x';\n        icon_img.alt = tooltip;\n        button.appendChild(icon_img);\n\n        buttonGroup.appendChild(button);\n    }\n\n    if (buttonGroup.hasChildNodes()) {\n        toolbar.appendChild(buttonGroup);\n    }\n\n    var fmt_picker = document.createElement('select');\n    fmt_picker.classList = 'mpl-widget';\n    toolbar.appendChild(fmt_picker);\n    this.format_dropdown = fmt_picker;\n\n    for (var ind in mpl.extensions) {\n        var fmt = mpl.extensions[ind];\n        var option = document.createElement('option');\n        option.selected = fmt === mpl.default_extension;\n        option.innerHTML = fmt;\n        fmt_picker.appendChild(option);\n    }\n\n    var status_bar = document.createElement('span');\n    status_bar.classList = 'mpl-message';\n    toolbar.appendChild(status_bar);\n    this.message = status_bar;\n};\n\nmpl.figure.prototype.request_resize = function (x_pixels, y_pixels) {\n    // Request matplotlib to resize the figure. Matplotlib will then trigger a resize in the client,\n    // which will in turn request a refresh of the image.\n    this.send_message('resize', { width: x_pixels, height: y_pixels });\n};\n\nmpl.figure.prototype.send_message = function (type, properties) {\n    properties['type'] = type;\n    properties['figure_id'] = this.id;\n    this.ws.send(JSON.stringify(properties));\n};\n\nmpl.figure.prototype.send_draw_message = function () {\n    if (!this.waiting) {\n        this.waiting = true;\n        this.ws.send(JSON.stringify({ type: 'draw', figure_id: this.id }));\n    }\n};\n\nmpl.figure.prototype.handle_save = function (fig, _msg) {\n    var format_dropdown = fig.format_dropdown;\n    var format = format_dropdown.options[format_dropdown.selectedIndex].value;\n    fig.ondownload(fig, format);\n};\n\nmpl.figure.prototype.handle_resize = function (fig, msg) {\n    var size = msg['size'];\n    if (size[0] !== fig.canvas.width || size[1] !== fig.canvas.height) {\n        fig._resize_canvas(size[0], size[1], msg['forward']);\n        fig.send_message('refresh', {});\n    }\n};\n\nmpl.figure.prototype.handle_rubberband = function (fig, msg) {\n    var x0 = msg['x0'] / fig.ratio;\n    var y0 = (fig.canvas.height - msg['y0']) / fig.ratio;\n    var x1 = msg['x1'] / fig.ratio;\n    var y1 = (fig.canvas.height - msg['y1']) / fig.ratio;\n    x0 = Math.floor(x0) + 0.5;\n    y0 = Math.floor(y0) + 0.5;\n    x1 = Math.floor(x1) + 0.5;\n    y1 = Math.floor(y1) + 0.5;\n    var min_x = Math.min(x0, x1);\n    var min_y = Math.min(y0, y1);\n    var width = Math.abs(x1 - x0);\n    var height = Math.abs(y1 - y0);\n\n    fig.rubberband_context.clearRect(\n        0,\n        0,\n        fig.canvas.width / fig.ratio,\n        fig.canvas.height / fig.ratio\n    );\n\n    fig.rubberband_context.strokeRect(min_x, min_y, width, height);\n};\n\nmpl.figure.prototype.handle_figure_label = function (fig, msg) {\n    // Updates the figure title.\n    fig.header.textContent = msg['label'];\n};\n\nmpl.figure.prototype.handle_cursor = function (fig, msg) {\n    fig.rubberband_canvas.style.cursor = msg['cursor'];\n};\n\nmpl.figure.prototype.handle_message = function (fig, msg) {\n    fig.message.textContent = msg['message'];\n};\n\nmpl.figure.prototype.handle_draw = function (fig, _msg) {\n    // Request the server to send over a new figure.\n    fig.send_draw_message();\n};\n\nmpl.figure.prototype.handle_image_mode = function (fig, msg) {\n    fig.image_mode = msg['mode'];\n};\n\nmpl.figure.prototype.handle_history_buttons = function (fig, msg) {\n    for (var key in msg) {\n        if (!(key in fig.buttons)) {\n            continue;\n        }\n        fig.buttons[key].disabled = !msg[key];\n        fig.buttons[key].setAttribute('aria-disabled', !msg[key]);\n    }\n};\n\nmpl.figure.prototype.handle_navigate_mode = function (fig, msg) {\n    if (msg['mode'] === 'PAN') {\n        fig.buttons['Pan'].classList.add('active');\n        fig.buttons['Zoom'].classList.remove('active');\n    } else if (msg['mode'] === 'ZOOM') {\n        fig.buttons['Pan'].classList.remove('active');\n        fig.buttons['Zoom'].classList.add('active');\n    } else {\n        fig.buttons['Pan'].classList.remove('active');\n        fig.buttons['Zoom'].classList.remove('active');\n    }\n};\n\nmpl.figure.prototype.updated_canvas_event = function () {\n    // Called whenever the canvas gets updated.\n    this.send_message('ack', {});\n};\n\n// A function to construct a web socket function for onmessage handling.\n// Called in the figure constructor.\nmpl.figure.prototype._make_on_message_function = function (fig) {\n    return function socket_on_message(evt) {\n        if (evt.data instanceof Blob) {\n            var img = evt.data;\n            if (img.type !== 'image/png') {\n                /* FIXME: We get \"Resource interpreted as Image but\n                 * transferred with MIME type text/plain:\" errors on\n                 * Chrome.  But how to set the MIME type?  It doesn't seem\n                 * to be part of the websocket stream */\n                img.type = 'image/png';\n            }\n\n            /* Free the memory for the previous frames */\n            if (fig.imageObj.src) {\n                (window.URL || window.webkitURL).revokeObjectURL(\n                    fig.imageObj.src\n                );\n            }\n\n            fig.imageObj.src = (window.URL || window.webkitURL).createObjectURL(\n                img\n            );\n            fig.updated_canvas_event();\n            fig.waiting = false;\n            return;\n        } else if (\n            typeof evt.data === 'string' &&\n            evt.data.slice(0, 21) === 'data:image/png;base64'\n        ) {\n            fig.imageObj.src = evt.data;\n            fig.updated_canvas_event();\n            fig.waiting = false;\n            return;\n        }\n\n        var msg = JSON.parse(evt.data);\n        var msg_type = msg['type'];\n\n        // Call the  \"handle_{type}\" callback, which takes\n        // the figure and JSON message as its only arguments.\n        try {\n            var callback = fig['handle_' + msg_type];\n        } catch (e) {\n            console.log(\n                \"No handler for the '\" + msg_type + \"' message type: \",\n                msg\n            );\n            return;\n        }\n\n        if (callback) {\n            try {\n                // console.log(\"Handling '\" + msg_type + \"' message: \", msg);\n                callback(fig, msg);\n            } catch (e) {\n                console.log(\n                    \"Exception inside the 'handler_\" + msg_type + \"' callback:\",\n                    e,\n                    e.stack,\n                    msg\n                );\n            }\n        }\n    };\n};\n\n// from https://stackoverflow.com/questions/1114465/getting-mouse-location-in-canvas\nmpl.findpos = function (e) {\n    //this section is from http://www.quirksmode.org/js/events_properties.html\n    var targ;\n    if (!e) {\n        e = window.event;\n    }\n    if (e.target) {\n        targ = e.target;\n    } else if (e.srcElement) {\n        targ = e.srcElement;\n    }\n    if (targ.nodeType === 3) {\n        // defeat Safari bug\n        targ = targ.parentNode;\n    }\n\n    // pageX,Y are the mouse positions relative to the document\n    var boundingRect = targ.getBoundingClientRect();\n    var x = e.pageX - (boundingRect.left + document.body.scrollLeft);\n    var y = e.pageY - (boundingRect.top + document.body.scrollTop);\n\n    return { x: x, y: y };\n};\n\n/*\n * return a copy of an object with only non-object keys\n * we need this to avoid circular references\n * https://stackoverflow.com/a/24161582/3208463\n */\nfunction simpleKeys(original) {\n    return Object.keys(original).reduce(function (obj, key) {\n        if (typeof original[key] !== 'object') {\n            obj[key] = original[key];\n        }\n        return obj;\n    }, {});\n}\n\nmpl.figure.prototype.mouse_event = function (event, name) {\n    var canvas_pos = mpl.findpos(event);\n\n    if (name === 'button_press') {\n        this.canvas.focus();\n        this.canvas_div.focus();\n    }\n\n    var x = canvas_pos.x * this.ratio;\n    var y = canvas_pos.y * this.ratio;\n\n    this.send_message(name, {\n        x: x,\n        y: y,\n        button: event.button,\n        step: event.step,\n        guiEvent: simpleKeys(event),\n    });\n\n    /* This prevents the web browser from automatically changing to\n     * the text insertion cursor when the button is pressed.  We want\n     * to control all of the cursor setting manually through the\n     * 'cursor' event from matplotlib */\n    event.preventDefault();\n    return false;\n};\n\nmpl.figure.prototype._key_event_extra = function (_event, _name) {\n    // Handle any extra behaviour associated with a key event\n};\n\nmpl.figure.prototype.key_event = function (event, name) {\n    // Prevent repeat events\n    if (name === 'key_press') {\n        if (event.key === this._key) {\n            return;\n        } else {\n            this._key = event.key;\n        }\n    }\n    if (name === 'key_release') {\n        this._key = null;\n    }\n\n    var value = '';\n    if (event.ctrlKey && event.key !== 'Control') {\n        value += 'ctrl+';\n    }\n    else if (event.altKey && event.key !== 'Alt') {\n        value += 'alt+';\n    }\n    else if (event.shiftKey && event.key !== 'Shift') {\n        value += 'shift+';\n    }\n\n    value += 'k' + event.key;\n\n    this._key_event_extra(event, name);\n\n    this.send_message(name, { key: value, guiEvent: simpleKeys(event) });\n    return false;\n};\n\nmpl.figure.prototype.toolbar_button_onclick = function (name) {\n    if (name === 'download') {\n        this.handle_save(this, null);\n    } else {\n        this.send_message('toolbar_button', { name: name });\n    }\n};\n\nmpl.figure.prototype.toolbar_button_onmouseover = function (tooltip) {\n    this.message.textContent = tooltip;\n};\n\n///////////////// REMAINING CONTENT GENERATED BY embed_js.py /////////////////\n// prettier-ignore\nvar _JSXTOOLS_RESIZE_OBSERVER=function(A){var t,i=new WeakMap,n=new WeakMap,a=new WeakMap,r=new WeakMap,o=new Set;function s(e){if(!(this instanceof s))throw new TypeError(\"Constructor requires 'new' operator\");i.set(this,e)}function h(){throw new TypeError(\"Function is not a constructor\")}function c(e,t,i,n){e=0 in arguments?Number(arguments[0]):0,t=1 in arguments?Number(arguments[1]):0,i=2 in arguments?Number(arguments[2]):0,n=3 in arguments?Number(arguments[3]):0,this.right=(this.x=this.left=e)+(this.width=i),this.bottom=(this.y=this.top=t)+(this.height=n),Object.freeze(this)}function d(){t=requestAnimationFrame(d);var s=new WeakMap,p=new Set;o.forEach((function(t){r.get(t).forEach((function(i){var r=t instanceof window.SVGElement,o=a.get(t),d=r?0:parseFloat(o.paddingTop),f=r?0:parseFloat(o.paddingRight),l=r?0:parseFloat(o.paddingBottom),u=r?0:parseFloat(o.paddingLeft),g=r?0:parseFloat(o.borderTopWidth),m=r?0:parseFloat(o.borderRightWidth),w=r?0:parseFloat(o.borderBottomWidth),b=u+f,F=d+l,v=(r?0:parseFloat(o.borderLeftWidth))+m,W=g+w,y=r?0:t.offsetHeight-W-t.clientHeight,E=r?0:t.offsetWidth-v-t.clientWidth,R=b+v,z=F+W,M=r?t.width:parseFloat(o.width)-R-E,O=r?t.height:parseFloat(o.height)-z-y;if(n.has(t)){var k=n.get(t);if(k[0]===M&&k[1]===O)return}n.set(t,[M,O]);var S=Object.create(h.prototype);S.target=t,S.contentRect=new c(u,d,M,O),s.has(i)||(s.set(i,[]),p.add(i)),s.get(i).push(S)}))})),p.forEach((function(e){i.get(e).call(e,s.get(e),e)}))}return s.prototype.observe=function(i){if(i instanceof window.Element){r.has(i)||(r.set(i,new Set),o.add(i),a.set(i,window.getComputedStyle(i)));var n=r.get(i);n.has(this)||n.add(this),cancelAnimationFrame(t),t=requestAnimationFrame(d)}},s.prototype.unobserve=function(i){if(i instanceof window.Element&&r.has(i)){var n=r.get(i);n.has(this)&&(n.delete(this),n.size||(r.delete(i),o.delete(i))),n.size||r.delete(i),o.size||cancelAnimationFrame(t)}},A.DOMRectReadOnly=c,A.ResizeObserver=s,A.ResizeObserverEntry=h,A}; // eslint-disable-line\nmpl.toolbar_items = [[\"Home\", \"Reset original view\", \"fa fa-home icon-home\", \"home\"], [\"Back\", \"Back to previous view\", \"fa fa-arrow-left icon-arrow-left\", \"back\"], [\"Forward\", \"Forward to next view\", \"fa fa-arrow-right icon-arrow-right\", \"forward\"], [\"\", \"\", \"\", \"\"], [\"Pan\", \"Left button pans, Right button zooms\\nx/y fixes axis, CTRL fixes aspect\", \"fa fa-arrows icon-move\", \"pan\"], [\"Zoom\", \"Zoom to rectangle\\nx/y fixes axis\", \"fa fa-square-o icon-check-empty\", \"zoom\"], [\"\", \"\", \"\", \"\"], [\"Download\", \"Download plot\", \"fa fa-floppy-o icon-save\", \"download\"]];\n\nmpl.extensions = [\"eps\", \"jpeg\", \"pgf\", \"pdf\", \"png\", \"ps\", \"raw\", \"svg\", \"tif\"];\n\nmpl.default_extension = \"png\";/* global mpl */\n\nvar comm_websocket_adapter = function (comm) {\n    // Create a \"websocket\"-like object which calls the given IPython comm\n    // object with the appropriate methods. Currently this is a non binary\n    // socket, so there is still some room for performance tuning.\n    var ws = {};\n\n    ws.binaryType = comm.kernel.ws.binaryType;\n    ws.readyState = comm.kernel.ws.readyState;\n    function updateReadyState(_event) {\n        if (comm.kernel.ws) {\n            ws.readyState = comm.kernel.ws.readyState;\n        } else {\n            ws.readyState = 3; // Closed state.\n        }\n    }\n    comm.kernel.ws.addEventListener('open', updateReadyState);\n    comm.kernel.ws.addEventListener('close', updateReadyState);\n    comm.kernel.ws.addEventListener('error', updateReadyState);\n\n    ws.close = function () {\n        comm.close();\n    };\n    ws.send = function (m) {\n        //console.log('sending', m);\n        comm.send(m);\n    };\n    // Register the callback with on_msg.\n    comm.on_msg(function (msg) {\n        //console.log('receiving', msg['content']['data'], msg);\n        var data = msg['content']['data'];\n        if (data['blob'] !== undefined) {\n            data = {\n                data: new Blob(msg['buffers'], { type: data['blob'] }),\n            };\n        }\n        // Pass the mpl event to the overridden (by mpl) onmessage function.\n        ws.onmessage(data);\n    });\n    return ws;\n};\n\nmpl.mpl_figure_comm = function (comm, msg) {\n    // This is the function which gets called when the mpl process\n    // starts-up an IPython Comm through the \"matplotlib\" channel.\n\n    var id = msg.content.data.id;\n    // Get hold of the div created by the display call when the Comm\n    // socket was opened in Python.\n    var element = document.getElementById(id);\n    var ws_proxy = comm_websocket_adapter(comm);\n\n    function ondownload(figure, _format) {\n        window.open(figure.canvas.toDataURL());\n    }\n\n    var fig = new mpl.figure(id, ws_proxy, ondownload, element);\n\n    // Call onopen now - mpl needs it, as it is assuming we've passed it a real\n    // web socket which is closed, not our websocket->open comm proxy.\n    ws_proxy.onopen();\n\n    fig.parent_element = element;\n    fig.cell_info = mpl.find_output_cell(\"<div id='\" + id + \"'></div>\");\n    if (!fig.cell_info) {\n        console.error('Failed to find cell for figure', id, fig);\n        return;\n    }\n    fig.cell_info[0].output_area.element.on(\n        'cleared',\n        { fig: fig },\n        fig._remove_fig_handler\n    );\n};\n\nmpl.figure.prototype.handle_close = function (fig, msg) {\n    var width = fig.canvas.width / fig.ratio;\n    fig.cell_info[0].output_area.element.off(\n        'cleared',\n        fig._remove_fig_handler\n    );\n    fig.resizeObserverInstance.unobserve(fig.canvas_div);\n\n    // Update the output cell to use the data from the current canvas.\n    fig.push_to_output();\n    var dataURL = fig.canvas.toDataURL();\n    // Re-enable the keyboard manager in IPython - without this line, in FF,\n    // the notebook keyboard shortcuts fail.\n    IPython.keyboard_manager.enable();\n    fig.parent_element.innerHTML =\n        '<img src=\"' + dataURL + '\" width=\"' + width + '\">';\n    fig.close_ws(fig, msg);\n};\n\nmpl.figure.prototype.close_ws = function (fig, msg) {\n    fig.send_message('closing', msg);\n    // fig.ws.close()\n};\n\nmpl.figure.prototype.push_to_output = function (_remove_interactive) {\n    // Turn the data on the canvas into data in the output cell.\n    var width = this.canvas.width / this.ratio;\n    var dataURL = this.canvas.toDataURL();\n    this.cell_info[1]['text/html'] =\n        '<img src=\"' + dataURL + '\" width=\"' + width + '\">';\n};\n\nmpl.figure.prototype.updated_canvas_event = function () {\n    // Tell IPython that the notebook contents must change.\n    IPython.notebook.set_dirty(true);\n    this.send_message('ack', {});\n    var fig = this;\n    // Wait a second, then push the new image to the DOM so\n    // that it is saved nicely (might be nice to debounce this).\n    setTimeout(function () {\n        fig.push_to_output();\n    }, 1000);\n};\n\nmpl.figure.prototype._init_toolbar = function () {\n    var fig = this;\n\n    var toolbar = document.createElement('div');\n    toolbar.classList = 'btn-toolbar';\n    this.root.appendChild(toolbar);\n\n    function on_click_closure(name) {\n        return function (_event) {\n            return fig.toolbar_button_onclick(name);\n        };\n    }\n\n    function on_mouseover_closure(tooltip) {\n        return function (event) {\n            if (!event.currentTarget.disabled) {\n                return fig.toolbar_button_onmouseover(tooltip);\n            }\n        };\n    }\n\n    fig.buttons = {};\n    var buttonGroup = document.createElement('div');\n    buttonGroup.classList = 'btn-group';\n    var button;\n    for (var toolbar_ind in mpl.toolbar_items) {\n        var name = mpl.toolbar_items[toolbar_ind][0];\n        var tooltip = mpl.toolbar_items[toolbar_ind][1];\n        var image = mpl.toolbar_items[toolbar_ind][2];\n        var method_name = mpl.toolbar_items[toolbar_ind][3];\n\n        if (!name) {\n            /* Instead of a spacer, we start a new button group. */\n            if (buttonGroup.hasChildNodes()) {\n                toolbar.appendChild(buttonGroup);\n            }\n            buttonGroup = document.createElement('div');\n            buttonGroup.classList = 'btn-group';\n            continue;\n        }\n\n        button = fig.buttons[name] = document.createElement('button');\n        button.classList = 'btn btn-default';\n        button.href = '#';\n        button.title = name;\n        button.innerHTML = '<i class=\"fa ' + image + ' fa-lg\"></i>';\n        button.addEventListener('click', on_click_closure(method_name));\n        button.addEventListener('mouseover', on_mouseover_closure(tooltip));\n        buttonGroup.appendChild(button);\n    }\n\n    if (buttonGroup.hasChildNodes()) {\n        toolbar.appendChild(buttonGroup);\n    }\n\n    // Add the status bar.\n    var status_bar = document.createElement('span');\n    status_bar.classList = 'mpl-message pull-right';\n    toolbar.appendChild(status_bar);\n    this.message = status_bar;\n\n    // Add the close button to the window.\n    var buttongrp = document.createElement('div');\n    buttongrp.classList = 'btn-group inline pull-right';\n    button = document.createElement('button');\n    button.classList = 'btn btn-mini btn-primary';\n    button.href = '#';\n    button.title = 'Stop Interaction';\n    button.innerHTML = '<i class=\"fa fa-power-off icon-remove icon-large\"></i>';\n    button.addEventListener('click', function (_evt) {\n        fig.handle_close(fig, {});\n    });\n    button.addEventListener(\n        'mouseover',\n        on_mouseover_closure('Stop Interaction')\n    );\n    buttongrp.appendChild(button);\n    var titlebar = this.root.querySelector('.ui-dialog-titlebar');\n    titlebar.insertBefore(buttongrp, titlebar.firstChild);\n};\n\nmpl.figure.prototype._remove_fig_handler = function (event) {\n    var fig = event.data.fig;\n    if (event.target !== this) {\n        // Ignore bubbled events from children.\n        return;\n    }\n    fig.close_ws(fig, {});\n};\n\nmpl.figure.prototype._root_extra_style = function (el) {\n    el.style.boxSizing = 'content-box'; // override notebook setting of border-box.\n};\n\nmpl.figure.prototype._canvas_extra_style = function (el) {\n    // this is important to make the div 'focusable\n    el.setAttribute('tabindex', 0);\n    // reach out to IPython and tell the keyboard manager to turn it's self\n    // off when our div gets focus\n\n    // location in version 3\n    if (IPython.notebook.keyboard_manager) {\n        IPython.notebook.keyboard_manager.register_events(el);\n    } else {\n        // location in version 2\n        IPython.keyboard_manager.register_events(el);\n    }\n};\n\nmpl.figure.prototype._key_event_extra = function (event, _name) {\n    // Check for shift+enter\n    if (event.shiftKey && event.which === 13) {\n        this.canvas_div.blur();\n        // select the cell after this one\n        var index = IPython.notebook.find_cell_index(this.cell_info[0]);\n        IPython.notebook.select(index + 1);\n    }\n};\n\nmpl.figure.prototype.handle_save = function (fig, _msg) {\n    fig.ondownload(fig, null);\n};\n\nmpl.find_output_cell = function (html_output) {\n    // Return the cell and output element which can be found *uniquely* in the notebook.\n    // Note - this is a bit hacky, but it is done because the \"notebook_saving.Notebook\"\n    // IPython event is triggered only after the cells have been serialised, which for\n    // our purposes (turning an active figure into a static one), is too late.\n    var cells = IPython.notebook.get_cells();\n    var ncells = cells.length;\n    for (var i = 0; i < ncells; i++) {\n        var cell = cells[i];\n        if (cell.cell_type === 'code') {\n            for (var j = 0; j < cell.output_area.outputs.length; j++) {\n                var data = cell.output_area.outputs[j];\n                if (data.data) {\n                    // IPython >= 3 moved mimebundle to data attribute of output\n                    data = data.data;\n                }\n                if (data['text/html'] === html_output) {\n                    return [cell, data, j];\n                }\n            }\n        }\n    }\n};\n\n// Register the function which deals with the matplotlib target/channel.\n// The kernel may be null if the page has been refreshed.\nif (IPython.notebook.kernel !== null) {\n    IPython.notebook.kernel.comm_manager.register_target(\n        'matplotlib',\n        mpl.mpl_figure_comm\n    );\n}\n",
          "text/plain": "<IPython.core.display.Javascript object>"
         },
         "metadata": {},
         "output_type": "display_data"
        },
        {
         "data": {
          "text/html": "<div id='25f6d863-c198-47ae-ad0e-f837273d9ddf'></div>",
          "text/plain": "<IPython.core.display.HTML object>"
         },
         "metadata": {},
         "output_type": "display_data"
        }
       ]
      }
     },
     "10e7bb2424d34a229d435495a36d9a5e": {
      "model_module": "@jupyter-widgets/controls",
      "model_module_version": "1.5.0",
      "model_name": "DescriptionStyleModel",
      "state": {
       "description_width": ""
      }
     },
     "115424a23d714a39b3d296c12149b6c6": {
      "model_module": "@jupyter-widgets/controls",
      "model_module_version": "1.5.0",
      "model_name": "DescriptionStyleModel",
      "state": {
       "description_width": ""
      }
     },
     "11ddaa0b95d54f91a65ea31c6c0632cc": {
      "model_module": "@jupyter-widgets/base",
      "model_module_version": "1.2.0",
      "model_name": "LayoutModel",
      "state": {
       "width": "20%"
      }
     },
     "12454346d2a548a4a5b929641a6be1f9": {
      "model_module": "@jupyter-widgets/output",
      "model_module_version": "1.0.0",
      "model_name": "OutputModel",
      "state": {
       "layout": "IPY_MODEL_07eb2a1744a24df88bf000e541e80358",
       "outputs": [
        {
         "data": {
          "application/javascript": "/* Put everything inside the global mpl namespace */\n/* global mpl */\nwindow.mpl = {};\n\nmpl.get_websocket_type = function () {\n    if (typeof WebSocket !== 'undefined') {\n        return WebSocket;\n    } else if (typeof MozWebSocket !== 'undefined') {\n        return MozWebSocket;\n    } else {\n        alert(\n            'Your browser does not have WebSocket support. ' +\n                'Please try Chrome, Safari or Firefox ≥ 6. ' +\n                'Firefox 4 and 5 are also supported but you ' +\n                'have to enable WebSockets in about:config.'\n        );\n    }\n};\n\nmpl.figure = function (figure_id, websocket, ondownload, parent_element) {\n    this.id = figure_id;\n\n    this.ws = websocket;\n\n    this.supports_binary = this.ws.binaryType !== undefined;\n\n    if (!this.supports_binary) {\n        var warnings = document.getElementById('mpl-warnings');\n        if (warnings) {\n            warnings.style.display = 'block';\n            warnings.textContent =\n                'This browser does not support binary websocket messages. ' +\n                'Performance may be slow.';\n        }\n    }\n\n    this.imageObj = new Image();\n\n    this.context = undefined;\n    this.message = undefined;\n    this.canvas = undefined;\n    this.rubberband_canvas = undefined;\n    this.rubberband_context = undefined;\n    this.format_dropdown = undefined;\n\n    this.image_mode = 'full';\n\n    this.root = document.createElement('div');\n    this.root.setAttribute('style', 'display: inline-block');\n    this._root_extra_style(this.root);\n\n    parent_element.appendChild(this.root);\n\n    this._init_header(this);\n    this._init_canvas(this);\n    this._init_toolbar(this);\n\n    var fig = this;\n\n    this.waiting = false;\n\n    this.ws.onopen = function () {\n        fig.send_message('supports_binary', { value: fig.supports_binary });\n        fig.send_message('send_image_mode', {});\n        if (fig.ratio !== 1) {\n            fig.send_message('set_device_pixel_ratio', {\n                device_pixel_ratio: fig.ratio,\n            });\n        }\n        fig.send_message('refresh', {});\n    };\n\n    this.imageObj.onload = function () {\n        if (fig.image_mode === 'full') {\n            // Full images could contain transparency (where diff images\n            // almost always do), so we need to clear the canvas so that\n            // there is no ghosting.\n            fig.context.clearRect(0, 0, fig.canvas.width, fig.canvas.height);\n        }\n        fig.context.drawImage(fig.imageObj, 0, 0);\n    };\n\n    this.imageObj.onunload = function () {\n        fig.ws.close();\n    };\n\n    this.ws.onmessage = this._make_on_message_function(this);\n\n    this.ondownload = ondownload;\n};\n\nmpl.figure.prototype._init_header = function () {\n    var titlebar = document.createElement('div');\n    titlebar.classList =\n        'ui-dialog-titlebar ui-widget-header ui-corner-all ui-helper-clearfix';\n    var titletext = document.createElement('div');\n    titletext.classList = 'ui-dialog-title';\n    titletext.setAttribute(\n        'style',\n        'width: 100%; text-align: center; padding: 3px;'\n    );\n    titlebar.appendChild(titletext);\n    this.root.appendChild(titlebar);\n    this.header = titletext;\n};\n\nmpl.figure.prototype._canvas_extra_style = function (_canvas_div) {};\n\nmpl.figure.prototype._root_extra_style = function (_canvas_div) {};\n\nmpl.figure.prototype._init_canvas = function () {\n    var fig = this;\n\n    var canvas_div = (this.canvas_div = document.createElement('div'));\n    canvas_div.setAttribute(\n        'style',\n        'border: 1px solid #ddd;' +\n            'box-sizing: content-box;' +\n            'clear: both;' +\n            'min-height: 1px;' +\n            'min-width: 1px;' +\n            'outline: 0;' +\n            'overflow: hidden;' +\n            'position: relative;' +\n            'resize: both;'\n    );\n\n    function on_keyboard_event_closure(name) {\n        return function (event) {\n            return fig.key_event(event, name);\n        };\n    }\n\n    canvas_div.addEventListener(\n        'keydown',\n        on_keyboard_event_closure('key_press')\n    );\n    canvas_div.addEventListener(\n        'keyup',\n        on_keyboard_event_closure('key_release')\n    );\n\n    this._canvas_extra_style(canvas_div);\n    this.root.appendChild(canvas_div);\n\n    var canvas = (this.canvas = document.createElement('canvas'));\n    canvas.classList.add('mpl-canvas');\n    canvas.setAttribute('style', 'box-sizing: content-box;');\n\n    this.context = canvas.getContext('2d');\n\n    var backingStore =\n        this.context.backingStorePixelRatio ||\n        this.context.webkitBackingStorePixelRatio ||\n        this.context.mozBackingStorePixelRatio ||\n        this.context.msBackingStorePixelRatio ||\n        this.context.oBackingStorePixelRatio ||\n        this.context.backingStorePixelRatio ||\n        1;\n\n    this.ratio = (window.devicePixelRatio || 1) / backingStore;\n\n    var rubberband_canvas = (this.rubberband_canvas = document.createElement(\n        'canvas'\n    ));\n    rubberband_canvas.setAttribute(\n        'style',\n        'box-sizing: content-box; position: absolute; left: 0; top: 0; z-index: 1;'\n    );\n\n    // Apply a ponyfill if ResizeObserver is not implemented by browser.\n    if (this.ResizeObserver === undefined) {\n        if (window.ResizeObserver !== undefined) {\n            this.ResizeObserver = window.ResizeObserver;\n        } else {\n            var obs = _JSXTOOLS_RESIZE_OBSERVER({});\n            this.ResizeObserver = obs.ResizeObserver;\n        }\n    }\n\n    this.resizeObserverInstance = new this.ResizeObserver(function (entries) {\n        var nentries = entries.length;\n        for (var i = 0; i < nentries; i++) {\n            var entry = entries[i];\n            var width, height;\n            if (entry.contentBoxSize) {\n                if (entry.contentBoxSize instanceof Array) {\n                    // Chrome 84 implements new version of spec.\n                    width = entry.contentBoxSize[0].inlineSize;\n                    height = entry.contentBoxSize[0].blockSize;\n                } else {\n                    // Firefox implements old version of spec.\n                    width = entry.contentBoxSize.inlineSize;\n                    height = entry.contentBoxSize.blockSize;\n                }\n            } else {\n                // Chrome <84 implements even older version of spec.\n                width = entry.contentRect.width;\n                height = entry.contentRect.height;\n            }\n\n            // Keep the size of the canvas and rubber band canvas in sync with\n            // the canvas container.\n            if (entry.devicePixelContentBoxSize) {\n                // Chrome 84 implements new version of spec.\n                canvas.setAttribute(\n                    'width',\n                    entry.devicePixelContentBoxSize[0].inlineSize\n                );\n                canvas.setAttribute(\n                    'height',\n                    entry.devicePixelContentBoxSize[0].blockSize\n                );\n            } else {\n                canvas.setAttribute('width', width * fig.ratio);\n                canvas.setAttribute('height', height * fig.ratio);\n            }\n            canvas.setAttribute(\n                'style',\n                'width: ' + width + 'px; height: ' + height + 'px;'\n            );\n\n            rubberband_canvas.setAttribute('width', width);\n            rubberband_canvas.setAttribute('height', height);\n\n            // And update the size in Python. We ignore the initial 0/0 size\n            // that occurs as the element is placed into the DOM, which should\n            // otherwise not happen due to the minimum size styling.\n            if (fig.ws.readyState == 1 && width != 0 && height != 0) {\n                fig.request_resize(width, height);\n            }\n        }\n    });\n    this.resizeObserverInstance.observe(canvas_div);\n\n    function on_mouse_event_closure(name) {\n        return function (event) {\n            return fig.mouse_event(event, name);\n        };\n    }\n\n    rubberband_canvas.addEventListener(\n        'mousedown',\n        on_mouse_event_closure('button_press')\n    );\n    rubberband_canvas.addEventListener(\n        'mouseup',\n        on_mouse_event_closure('button_release')\n    );\n    rubberband_canvas.addEventListener(\n        'dblclick',\n        on_mouse_event_closure('dblclick')\n    );\n    // Throttle sequential mouse events to 1 every 20ms.\n    rubberband_canvas.addEventListener(\n        'mousemove',\n        on_mouse_event_closure('motion_notify')\n    );\n\n    rubberband_canvas.addEventListener(\n        'mouseenter',\n        on_mouse_event_closure('figure_enter')\n    );\n    rubberband_canvas.addEventListener(\n        'mouseleave',\n        on_mouse_event_closure('figure_leave')\n    );\n\n    canvas_div.addEventListener('wheel', function (event) {\n        if (event.deltaY < 0) {\n            event.step = 1;\n        } else {\n            event.step = -1;\n        }\n        on_mouse_event_closure('scroll')(event);\n    });\n\n    canvas_div.appendChild(canvas);\n    canvas_div.appendChild(rubberband_canvas);\n\n    this.rubberband_context = rubberband_canvas.getContext('2d');\n    this.rubberband_context.strokeStyle = '#000000';\n\n    this._resize_canvas = function (width, height, forward) {\n        if (forward) {\n            canvas_div.style.width = width + 'px';\n            canvas_div.style.height = height + 'px';\n        }\n    };\n\n    // Disable right mouse context menu.\n    this.rubberband_canvas.addEventListener('contextmenu', function (_e) {\n        event.preventDefault();\n        return false;\n    });\n\n    function set_focus() {\n        canvas.focus();\n        canvas_div.focus();\n    }\n\n    window.setTimeout(set_focus, 100);\n};\n\nmpl.figure.prototype._init_toolbar = function () {\n    var fig = this;\n\n    var toolbar = document.createElement('div');\n    toolbar.classList = 'mpl-toolbar';\n    this.root.appendChild(toolbar);\n\n    function on_click_closure(name) {\n        return function (_event) {\n            return fig.toolbar_button_onclick(name);\n        };\n    }\n\n    function on_mouseover_closure(tooltip) {\n        return function (event) {\n            if (!event.currentTarget.disabled) {\n                return fig.toolbar_button_onmouseover(tooltip);\n            }\n        };\n    }\n\n    fig.buttons = {};\n    var buttonGroup = document.createElement('div');\n    buttonGroup.classList = 'mpl-button-group';\n    for (var toolbar_ind in mpl.toolbar_items) {\n        var name = mpl.toolbar_items[toolbar_ind][0];\n        var tooltip = mpl.toolbar_items[toolbar_ind][1];\n        var image = mpl.toolbar_items[toolbar_ind][2];\n        var method_name = mpl.toolbar_items[toolbar_ind][3];\n\n        if (!name) {\n            /* Instead of a spacer, we start a new button group. */\n            if (buttonGroup.hasChildNodes()) {\n                toolbar.appendChild(buttonGroup);\n            }\n            buttonGroup = document.createElement('div');\n            buttonGroup.classList = 'mpl-button-group';\n            continue;\n        }\n\n        var button = (fig.buttons[name] = document.createElement('button'));\n        button.classList = 'mpl-widget';\n        button.setAttribute('role', 'button');\n        button.setAttribute('aria-disabled', 'false');\n        button.addEventListener('click', on_click_closure(method_name));\n        button.addEventListener('mouseover', on_mouseover_closure(tooltip));\n\n        var icon_img = document.createElement('img');\n        icon_img.src = '_images/' + image + '.png';\n        icon_img.srcset = '_images/' + image + '_large.png 2x';\n        icon_img.alt = tooltip;\n        button.appendChild(icon_img);\n\n        buttonGroup.appendChild(button);\n    }\n\n    if (buttonGroup.hasChildNodes()) {\n        toolbar.appendChild(buttonGroup);\n    }\n\n    var fmt_picker = document.createElement('select');\n    fmt_picker.classList = 'mpl-widget';\n    toolbar.appendChild(fmt_picker);\n    this.format_dropdown = fmt_picker;\n\n    for (var ind in mpl.extensions) {\n        var fmt = mpl.extensions[ind];\n        var option = document.createElement('option');\n        option.selected = fmt === mpl.default_extension;\n        option.innerHTML = fmt;\n        fmt_picker.appendChild(option);\n    }\n\n    var status_bar = document.createElement('span');\n    status_bar.classList = 'mpl-message';\n    toolbar.appendChild(status_bar);\n    this.message = status_bar;\n};\n\nmpl.figure.prototype.request_resize = function (x_pixels, y_pixels) {\n    // Request matplotlib to resize the figure. Matplotlib will then trigger a resize in the client,\n    // which will in turn request a refresh of the image.\n    this.send_message('resize', { width: x_pixels, height: y_pixels });\n};\n\nmpl.figure.prototype.send_message = function (type, properties) {\n    properties['type'] = type;\n    properties['figure_id'] = this.id;\n    this.ws.send(JSON.stringify(properties));\n};\n\nmpl.figure.prototype.send_draw_message = function () {\n    if (!this.waiting) {\n        this.waiting = true;\n        this.ws.send(JSON.stringify({ type: 'draw', figure_id: this.id }));\n    }\n};\n\nmpl.figure.prototype.handle_save = function (fig, _msg) {\n    var format_dropdown = fig.format_dropdown;\n    var format = format_dropdown.options[format_dropdown.selectedIndex].value;\n    fig.ondownload(fig, format);\n};\n\nmpl.figure.prototype.handle_resize = function (fig, msg) {\n    var size = msg['size'];\n    if (size[0] !== fig.canvas.width || size[1] !== fig.canvas.height) {\n        fig._resize_canvas(size[0], size[1], msg['forward']);\n        fig.send_message('refresh', {});\n    }\n};\n\nmpl.figure.prototype.handle_rubberband = function (fig, msg) {\n    var x0 = msg['x0'] / fig.ratio;\n    var y0 = (fig.canvas.height - msg['y0']) / fig.ratio;\n    var x1 = msg['x1'] / fig.ratio;\n    var y1 = (fig.canvas.height - msg['y1']) / fig.ratio;\n    x0 = Math.floor(x0) + 0.5;\n    y0 = Math.floor(y0) + 0.5;\n    x1 = Math.floor(x1) + 0.5;\n    y1 = Math.floor(y1) + 0.5;\n    var min_x = Math.min(x0, x1);\n    var min_y = Math.min(y0, y1);\n    var width = Math.abs(x1 - x0);\n    var height = Math.abs(y1 - y0);\n\n    fig.rubberband_context.clearRect(\n        0,\n        0,\n        fig.canvas.width / fig.ratio,\n        fig.canvas.height / fig.ratio\n    );\n\n    fig.rubberband_context.strokeRect(min_x, min_y, width, height);\n};\n\nmpl.figure.prototype.handle_figure_label = function (fig, msg) {\n    // Updates the figure title.\n    fig.header.textContent = msg['label'];\n};\n\nmpl.figure.prototype.handle_cursor = function (fig, msg) {\n    fig.rubberband_canvas.style.cursor = msg['cursor'];\n};\n\nmpl.figure.prototype.handle_message = function (fig, msg) {\n    fig.message.textContent = msg['message'];\n};\n\nmpl.figure.prototype.handle_draw = function (fig, _msg) {\n    // Request the server to send over a new figure.\n    fig.send_draw_message();\n};\n\nmpl.figure.prototype.handle_image_mode = function (fig, msg) {\n    fig.image_mode = msg['mode'];\n};\n\nmpl.figure.prototype.handle_history_buttons = function (fig, msg) {\n    for (var key in msg) {\n        if (!(key in fig.buttons)) {\n            continue;\n        }\n        fig.buttons[key].disabled = !msg[key];\n        fig.buttons[key].setAttribute('aria-disabled', !msg[key]);\n    }\n};\n\nmpl.figure.prototype.handle_navigate_mode = function (fig, msg) {\n    if (msg['mode'] === 'PAN') {\n        fig.buttons['Pan'].classList.add('active');\n        fig.buttons['Zoom'].classList.remove('active');\n    } else if (msg['mode'] === 'ZOOM') {\n        fig.buttons['Pan'].classList.remove('active');\n        fig.buttons['Zoom'].classList.add('active');\n    } else {\n        fig.buttons['Pan'].classList.remove('active');\n        fig.buttons['Zoom'].classList.remove('active');\n    }\n};\n\nmpl.figure.prototype.updated_canvas_event = function () {\n    // Called whenever the canvas gets updated.\n    this.send_message('ack', {});\n};\n\n// A function to construct a web socket function for onmessage handling.\n// Called in the figure constructor.\nmpl.figure.prototype._make_on_message_function = function (fig) {\n    return function socket_on_message(evt) {\n        if (evt.data instanceof Blob) {\n            var img = evt.data;\n            if (img.type !== 'image/png') {\n                /* FIXME: We get \"Resource interpreted as Image but\n                 * transferred with MIME type text/plain:\" errors on\n                 * Chrome.  But how to set the MIME type?  It doesn't seem\n                 * to be part of the websocket stream */\n                img.type = 'image/png';\n            }\n\n            /* Free the memory for the previous frames */\n            if (fig.imageObj.src) {\n                (window.URL || window.webkitURL).revokeObjectURL(\n                    fig.imageObj.src\n                );\n            }\n\n            fig.imageObj.src = (window.URL || window.webkitURL).createObjectURL(\n                img\n            );\n            fig.updated_canvas_event();\n            fig.waiting = false;\n            return;\n        } else if (\n            typeof evt.data === 'string' &&\n            evt.data.slice(0, 21) === 'data:image/png;base64'\n        ) {\n            fig.imageObj.src = evt.data;\n            fig.updated_canvas_event();\n            fig.waiting = false;\n            return;\n        }\n\n        var msg = JSON.parse(evt.data);\n        var msg_type = msg['type'];\n\n        // Call the  \"handle_{type}\" callback, which takes\n        // the figure and JSON message as its only arguments.\n        try {\n            var callback = fig['handle_' + msg_type];\n        } catch (e) {\n            console.log(\n                \"No handler for the '\" + msg_type + \"' message type: \",\n                msg\n            );\n            return;\n        }\n\n        if (callback) {\n            try {\n                // console.log(\"Handling '\" + msg_type + \"' message: \", msg);\n                callback(fig, msg);\n            } catch (e) {\n                console.log(\n                    \"Exception inside the 'handler_\" + msg_type + \"' callback:\",\n                    e,\n                    e.stack,\n                    msg\n                );\n            }\n        }\n    };\n};\n\n// from https://stackoverflow.com/questions/1114465/getting-mouse-location-in-canvas\nmpl.findpos = function (e) {\n    //this section is from http://www.quirksmode.org/js/events_properties.html\n    var targ;\n    if (!e) {\n        e = window.event;\n    }\n    if (e.target) {\n        targ = e.target;\n    } else if (e.srcElement) {\n        targ = e.srcElement;\n    }\n    if (targ.nodeType === 3) {\n        // defeat Safari bug\n        targ = targ.parentNode;\n    }\n\n    // pageX,Y are the mouse positions relative to the document\n    var boundingRect = targ.getBoundingClientRect();\n    var x = e.pageX - (boundingRect.left + document.body.scrollLeft);\n    var y = e.pageY - (boundingRect.top + document.body.scrollTop);\n\n    return { x: x, y: y };\n};\n\n/*\n * return a copy of an object with only non-object keys\n * we need this to avoid circular references\n * https://stackoverflow.com/a/24161582/3208463\n */\nfunction simpleKeys(original) {\n    return Object.keys(original).reduce(function (obj, key) {\n        if (typeof original[key] !== 'object') {\n            obj[key] = original[key];\n        }\n        return obj;\n    }, {});\n}\n\nmpl.figure.prototype.mouse_event = function (event, name) {\n    var canvas_pos = mpl.findpos(event);\n\n    if (name === 'button_press') {\n        this.canvas.focus();\n        this.canvas_div.focus();\n    }\n\n    var x = canvas_pos.x * this.ratio;\n    var y = canvas_pos.y * this.ratio;\n\n    this.send_message(name, {\n        x: x,\n        y: y,\n        button: event.button,\n        step: event.step,\n        guiEvent: simpleKeys(event),\n    });\n\n    /* This prevents the web browser from automatically changing to\n     * the text insertion cursor when the button is pressed.  We want\n     * to control all of the cursor setting manually through the\n     * 'cursor' event from matplotlib */\n    event.preventDefault();\n    return false;\n};\n\nmpl.figure.prototype._key_event_extra = function (_event, _name) {\n    // Handle any extra behaviour associated with a key event\n};\n\nmpl.figure.prototype.key_event = function (event, name) {\n    // Prevent repeat events\n    if (name === 'key_press') {\n        if (event.key === this._key) {\n            return;\n        } else {\n            this._key = event.key;\n        }\n    }\n    if (name === 'key_release') {\n        this._key = null;\n    }\n\n    var value = '';\n    if (event.ctrlKey && event.key !== 'Control') {\n        value += 'ctrl+';\n    }\n    else if (event.altKey && event.key !== 'Alt') {\n        value += 'alt+';\n    }\n    else if (event.shiftKey && event.key !== 'Shift') {\n        value += 'shift+';\n    }\n\n    value += 'k' + event.key;\n\n    this._key_event_extra(event, name);\n\n    this.send_message(name, { key: value, guiEvent: simpleKeys(event) });\n    return false;\n};\n\nmpl.figure.prototype.toolbar_button_onclick = function (name) {\n    if (name === 'download') {\n        this.handle_save(this, null);\n    } else {\n        this.send_message('toolbar_button', { name: name });\n    }\n};\n\nmpl.figure.prototype.toolbar_button_onmouseover = function (tooltip) {\n    this.message.textContent = tooltip;\n};\n\n///////////////// REMAINING CONTENT GENERATED BY embed_js.py /////////////////\n// prettier-ignore\nvar _JSXTOOLS_RESIZE_OBSERVER=function(A){var t,i=new WeakMap,n=new WeakMap,a=new WeakMap,r=new WeakMap,o=new Set;function s(e){if(!(this instanceof s))throw new TypeError(\"Constructor requires 'new' operator\");i.set(this,e)}function h(){throw new TypeError(\"Function is not a constructor\")}function c(e,t,i,n){e=0 in arguments?Number(arguments[0]):0,t=1 in arguments?Number(arguments[1]):0,i=2 in arguments?Number(arguments[2]):0,n=3 in arguments?Number(arguments[3]):0,this.right=(this.x=this.left=e)+(this.width=i),this.bottom=(this.y=this.top=t)+(this.height=n),Object.freeze(this)}function d(){t=requestAnimationFrame(d);var s=new WeakMap,p=new Set;o.forEach((function(t){r.get(t).forEach((function(i){var r=t instanceof window.SVGElement,o=a.get(t),d=r?0:parseFloat(o.paddingTop),f=r?0:parseFloat(o.paddingRight),l=r?0:parseFloat(o.paddingBottom),u=r?0:parseFloat(o.paddingLeft),g=r?0:parseFloat(o.borderTopWidth),m=r?0:parseFloat(o.borderRightWidth),w=r?0:parseFloat(o.borderBottomWidth),b=u+f,F=d+l,v=(r?0:parseFloat(o.borderLeftWidth))+m,W=g+w,y=r?0:t.offsetHeight-W-t.clientHeight,E=r?0:t.offsetWidth-v-t.clientWidth,R=b+v,z=F+W,M=r?t.width:parseFloat(o.width)-R-E,O=r?t.height:parseFloat(o.height)-z-y;if(n.has(t)){var k=n.get(t);if(k[0]===M&&k[1]===O)return}n.set(t,[M,O]);var S=Object.create(h.prototype);S.target=t,S.contentRect=new c(u,d,M,O),s.has(i)||(s.set(i,[]),p.add(i)),s.get(i).push(S)}))})),p.forEach((function(e){i.get(e).call(e,s.get(e),e)}))}return s.prototype.observe=function(i){if(i instanceof window.Element){r.has(i)||(r.set(i,new Set),o.add(i),a.set(i,window.getComputedStyle(i)));var n=r.get(i);n.has(this)||n.add(this),cancelAnimationFrame(t),t=requestAnimationFrame(d)}},s.prototype.unobserve=function(i){if(i instanceof window.Element&&r.has(i)){var n=r.get(i);n.has(this)&&(n.delete(this),n.size||(r.delete(i),o.delete(i))),n.size||r.delete(i),o.size||cancelAnimationFrame(t)}},A.DOMRectReadOnly=c,A.ResizeObserver=s,A.ResizeObserverEntry=h,A}; // eslint-disable-line\nmpl.toolbar_items = [[\"Home\", \"Reset original view\", \"fa fa-home icon-home\", \"home\"], [\"Back\", \"Back to previous view\", \"fa fa-arrow-left icon-arrow-left\", \"back\"], [\"Forward\", \"Forward to next view\", \"fa fa-arrow-right icon-arrow-right\", \"forward\"], [\"\", \"\", \"\", \"\"], [\"Pan\", \"Left button pans, Right button zooms\\nx/y fixes axis, CTRL fixes aspect\", \"fa fa-arrows icon-move\", \"pan\"], [\"Zoom\", \"Zoom to rectangle\\nx/y fixes axis\", \"fa fa-square-o icon-check-empty\", \"zoom\"], [\"\", \"\", \"\", \"\"], [\"Download\", \"Download plot\", \"fa fa-floppy-o icon-save\", \"download\"]];\n\nmpl.extensions = [\"eps\", \"jpeg\", \"pgf\", \"pdf\", \"png\", \"ps\", \"raw\", \"svg\", \"tif\"];\n\nmpl.default_extension = \"png\";/* global mpl */\n\nvar comm_websocket_adapter = function (comm) {\n    // Create a \"websocket\"-like object which calls the given IPython comm\n    // object with the appropriate methods. Currently this is a non binary\n    // socket, so there is still some room for performance tuning.\n    var ws = {};\n\n    ws.binaryType = comm.kernel.ws.binaryType;\n    ws.readyState = comm.kernel.ws.readyState;\n    function updateReadyState(_event) {\n        if (comm.kernel.ws) {\n            ws.readyState = comm.kernel.ws.readyState;\n        } else {\n            ws.readyState = 3; // Closed state.\n        }\n    }\n    comm.kernel.ws.addEventListener('open', updateReadyState);\n    comm.kernel.ws.addEventListener('close', updateReadyState);\n    comm.kernel.ws.addEventListener('error', updateReadyState);\n\n    ws.close = function () {\n        comm.close();\n    };\n    ws.send = function (m) {\n        //console.log('sending', m);\n        comm.send(m);\n    };\n    // Register the callback with on_msg.\n    comm.on_msg(function (msg) {\n        //console.log('receiving', msg['content']['data'], msg);\n        var data = msg['content']['data'];\n        if (data['blob'] !== undefined) {\n            data = {\n                data: new Blob(msg['buffers'], { type: data['blob'] }),\n            };\n        }\n        // Pass the mpl event to the overridden (by mpl) onmessage function.\n        ws.onmessage(data);\n    });\n    return ws;\n};\n\nmpl.mpl_figure_comm = function (comm, msg) {\n    // This is the function which gets called when the mpl process\n    // starts-up an IPython Comm through the \"matplotlib\" channel.\n\n    var id = msg.content.data.id;\n    // Get hold of the div created by the display call when the Comm\n    // socket was opened in Python.\n    var element = document.getElementById(id);\n    var ws_proxy = comm_websocket_adapter(comm);\n\n    function ondownload(figure, _format) {\n        window.open(figure.canvas.toDataURL());\n    }\n\n    var fig = new mpl.figure(id, ws_proxy, ondownload, element);\n\n    // Call onopen now - mpl needs it, as it is assuming we've passed it a real\n    // web socket which is closed, not our websocket->open comm proxy.\n    ws_proxy.onopen();\n\n    fig.parent_element = element;\n    fig.cell_info = mpl.find_output_cell(\"<div id='\" + id + \"'></div>\");\n    if (!fig.cell_info) {\n        console.error('Failed to find cell for figure', id, fig);\n        return;\n    }\n    fig.cell_info[0].output_area.element.on(\n        'cleared',\n        { fig: fig },\n        fig._remove_fig_handler\n    );\n};\n\nmpl.figure.prototype.handle_close = function (fig, msg) {\n    var width = fig.canvas.width / fig.ratio;\n    fig.cell_info[0].output_area.element.off(\n        'cleared',\n        fig._remove_fig_handler\n    );\n    fig.resizeObserverInstance.unobserve(fig.canvas_div);\n\n    // Update the output cell to use the data from the current canvas.\n    fig.push_to_output();\n    var dataURL = fig.canvas.toDataURL();\n    // Re-enable the keyboard manager in IPython - without this line, in FF,\n    // the notebook keyboard shortcuts fail.\n    IPython.keyboard_manager.enable();\n    fig.parent_element.innerHTML =\n        '<img src=\"' + dataURL + '\" width=\"' + width + '\">';\n    fig.close_ws(fig, msg);\n};\n\nmpl.figure.prototype.close_ws = function (fig, msg) {\n    fig.send_message('closing', msg);\n    // fig.ws.close()\n};\n\nmpl.figure.prototype.push_to_output = function (_remove_interactive) {\n    // Turn the data on the canvas into data in the output cell.\n    var width = this.canvas.width / this.ratio;\n    var dataURL = this.canvas.toDataURL();\n    this.cell_info[1]['text/html'] =\n        '<img src=\"' + dataURL + '\" width=\"' + width + '\">';\n};\n\nmpl.figure.prototype.updated_canvas_event = function () {\n    // Tell IPython that the notebook contents must change.\n    IPython.notebook.set_dirty(true);\n    this.send_message('ack', {});\n    var fig = this;\n    // Wait a second, then push the new image to the DOM so\n    // that it is saved nicely (might be nice to debounce this).\n    setTimeout(function () {\n        fig.push_to_output();\n    }, 1000);\n};\n\nmpl.figure.prototype._init_toolbar = function () {\n    var fig = this;\n\n    var toolbar = document.createElement('div');\n    toolbar.classList = 'btn-toolbar';\n    this.root.appendChild(toolbar);\n\n    function on_click_closure(name) {\n        return function (_event) {\n            return fig.toolbar_button_onclick(name);\n        };\n    }\n\n    function on_mouseover_closure(tooltip) {\n        return function (event) {\n            if (!event.currentTarget.disabled) {\n                return fig.toolbar_button_onmouseover(tooltip);\n            }\n        };\n    }\n\n    fig.buttons = {};\n    var buttonGroup = document.createElement('div');\n    buttonGroup.classList = 'btn-group';\n    var button;\n    for (var toolbar_ind in mpl.toolbar_items) {\n        var name = mpl.toolbar_items[toolbar_ind][0];\n        var tooltip = mpl.toolbar_items[toolbar_ind][1];\n        var image = mpl.toolbar_items[toolbar_ind][2];\n        var method_name = mpl.toolbar_items[toolbar_ind][3];\n\n        if (!name) {\n            /* Instead of a spacer, we start a new button group. */\n            if (buttonGroup.hasChildNodes()) {\n                toolbar.appendChild(buttonGroup);\n            }\n            buttonGroup = document.createElement('div');\n            buttonGroup.classList = 'btn-group';\n            continue;\n        }\n\n        button = fig.buttons[name] = document.createElement('button');\n        button.classList = 'btn btn-default';\n        button.href = '#';\n        button.title = name;\n        button.innerHTML = '<i class=\"fa ' + image + ' fa-lg\"></i>';\n        button.addEventListener('click', on_click_closure(method_name));\n        button.addEventListener('mouseover', on_mouseover_closure(tooltip));\n        buttonGroup.appendChild(button);\n    }\n\n    if (buttonGroup.hasChildNodes()) {\n        toolbar.appendChild(buttonGroup);\n    }\n\n    // Add the status bar.\n    var status_bar = document.createElement('span');\n    status_bar.classList = 'mpl-message pull-right';\n    toolbar.appendChild(status_bar);\n    this.message = status_bar;\n\n    // Add the close button to the window.\n    var buttongrp = document.createElement('div');\n    buttongrp.classList = 'btn-group inline pull-right';\n    button = document.createElement('button');\n    button.classList = 'btn btn-mini btn-primary';\n    button.href = '#';\n    button.title = 'Stop Interaction';\n    button.innerHTML = '<i class=\"fa fa-power-off icon-remove icon-large\"></i>';\n    button.addEventListener('click', function (_evt) {\n        fig.handle_close(fig, {});\n    });\n    button.addEventListener(\n        'mouseover',\n        on_mouseover_closure('Stop Interaction')\n    );\n    buttongrp.appendChild(button);\n    var titlebar = this.root.querySelector('.ui-dialog-titlebar');\n    titlebar.insertBefore(buttongrp, titlebar.firstChild);\n};\n\nmpl.figure.prototype._remove_fig_handler = function (event) {\n    var fig = event.data.fig;\n    if (event.target !== this) {\n        // Ignore bubbled events from children.\n        return;\n    }\n    fig.close_ws(fig, {});\n};\n\nmpl.figure.prototype._root_extra_style = function (el) {\n    el.style.boxSizing = 'content-box'; // override notebook setting of border-box.\n};\n\nmpl.figure.prototype._canvas_extra_style = function (el) {\n    // this is important to make the div 'focusable\n    el.setAttribute('tabindex', 0);\n    // reach out to IPython and tell the keyboard manager to turn it's self\n    // off when our div gets focus\n\n    // location in version 3\n    if (IPython.notebook.keyboard_manager) {\n        IPython.notebook.keyboard_manager.register_events(el);\n    } else {\n        // location in version 2\n        IPython.keyboard_manager.register_events(el);\n    }\n};\n\nmpl.figure.prototype._key_event_extra = function (event, _name) {\n    // Check for shift+enter\n    if (event.shiftKey && event.which === 13) {\n        this.canvas_div.blur();\n        // select the cell after this one\n        var index = IPython.notebook.find_cell_index(this.cell_info[0]);\n        IPython.notebook.select(index + 1);\n    }\n};\n\nmpl.figure.prototype.handle_save = function (fig, _msg) {\n    fig.ondownload(fig, null);\n};\n\nmpl.find_output_cell = function (html_output) {\n    // Return the cell and output element which can be found *uniquely* in the notebook.\n    // Note - this is a bit hacky, but it is done because the \"notebook_saving.Notebook\"\n    // IPython event is triggered only after the cells have been serialised, which for\n    // our purposes (turning an active figure into a static one), is too late.\n    var cells = IPython.notebook.get_cells();\n    var ncells = cells.length;\n    for (var i = 0; i < ncells; i++) {\n        var cell = cells[i];\n        if (cell.cell_type === 'code') {\n            for (var j = 0; j < cell.output_area.outputs.length; j++) {\n                var data = cell.output_area.outputs[j];\n                if (data.data) {\n                    // IPython >= 3 moved mimebundle to data attribute of output\n                    data = data.data;\n                }\n                if (data['text/html'] === html_output) {\n                    return [cell, data, j];\n                }\n            }\n        }\n    }\n};\n\n// Register the function which deals with the matplotlib target/channel.\n// The kernel may be null if the page has been refreshed.\nif (IPython.notebook.kernel !== null) {\n    IPython.notebook.kernel.comm_manager.register_target(\n        'matplotlib',\n        mpl.mpl_figure_comm\n    );\n}\n",
          "text/plain": "<IPython.core.display.Javascript object>"
         },
         "metadata": {},
         "output_type": "display_data"
        },
        {
         "data": {
          "text/html": "<div id='d5101380-e81a-4316-9884-a26b5a00334a'></div>",
          "text/plain": "<IPython.core.display.HTML object>"
         },
         "metadata": {},
         "output_type": "display_data"
        }
       ]
      }
     },
     "12b7d305117d494d90167667cdc168ab": {
      "model_module": "@jupyter-widgets/controls",
      "model_module_version": "1.5.0",
      "model_name": "TextModel",
      "state": {
       "layout": "IPY_MODEL_2ea41123ef6e432a9de67807cb2dd325",
       "style": "IPY_MODEL_e6f6bee5f95d4f98b36c6c0ad3e71a9f"
      }
     },
     "13235cd6e7d44fb5a1a487b0359458f7": {
      "model_module": "@jupyter-widgets/controls",
      "model_module_version": "1.5.0",
      "model_name": "DescriptionStyleModel",
      "state": {
       "description_width": ""
      }
     },
     "1349839680cb4a8cadf76e8b04ce47db": {
      "model_module": "@jupyter-widgets/controls",
      "model_module_version": "1.5.0",
      "model_name": "LabelModel",
      "state": {
       "layout": "IPY_MODEL_effe09f8bc7547e485e4d0447b61829c",
       "style": "IPY_MODEL_0a3483b259a84f19a38cf7eacdceadd2",
       "value": "Host conductivity"
      }
     },
     "1360bec5bd354f22978392ee0ee6b65f": {
      "model_module": "@jupyter-widgets/controls",
      "model_module_version": "1.5.0",
      "model_name": "FloatTextModel",
      "state": {
       "description": "End",
       "layout": "IPY_MODEL_aa860a02211640cb9278f21439e93df1",
       "step": 1,
       "style": "IPY_MODEL_1b30d0b6e6eb496eb617b00027482346"
      }
     },
     "13713288e9d54693b58e6b621e5616a2": {
      "model_module": "@jupyter-widgets/controls",
      "model_module_version": "1.5.0",
      "model_name": "DescriptionStyleModel",
      "state": {
       "description_width": ""
      }
     },
     "13e588edf60e403c8bce5f850c515866": {
      "model_module": "@jupyter-widgets/controls",
      "model_module_version": "1.5.0",
      "model_name": "HBoxModel",
      "state": {
       "children": [
        "IPY_MODEL_f5e06c9239b74dbfa028d314b36b5ea6",
        "IPY_MODEL_7c9e0b0c054f49d7b59ec71c51911723"
       ],
       "layout": "IPY_MODEL_c33c7ed6a8a5440e8ed0f007d3cc96da"
      }
     },
     "13fcf86149e34429905a258d8b05f9f7": {
      "model_module": "@jupyter-widgets/controls",
      "model_module_version": "1.5.0",
      "model_name": "DescriptionStyleModel",
      "state": {
       "description_width": ""
      }
     },
     "141a7ab9d6bc4e9cb8a93d33fdfb60c8": {
      "model_module": "@jupyter-widgets/controls",
      "model_module_version": "1.5.0",
      "model_name": "DescriptionStyleModel",
      "state": {
       "description_width": ""
      }
     },
     "1427aeed359444c49c5411f1172164af": {
      "model_module": "@jupyter-widgets/base",
      "model_module_version": "1.2.0",
      "model_name": "LayoutModel",
      "state": {}
     },
     "14591e53b89a45c0ad870c95320a6497": {
      "model_module": "@jupyter-widgets/controls",
      "model_module_version": "1.5.0",
      "model_name": "CheckboxModel",
      "state": {
       "description": "M",
       "disabled": false,
       "layout": "IPY_MODEL_94c1803659ea4b3da83b7f88098ae896",
       "style": "IPY_MODEL_a467f04d9261459480109100dc6969dc",
       "value": false
      }
     },
     "14dc35b6506e4e2dacb157b68852a365": {
      "model_module": "@jupyter-widgets/controls",
      "model_module_version": "1.5.0",
      "model_name": "DescriptionStyleModel",
      "state": {
       "description_width": ""
      }
     },
     "15742a5443744f6aa146968b9162212e": {
      "model_module": "@jupyter-widgets/controls",
      "model_module_version": "1.5.0",
      "model_name": "TextModel",
      "state": {
       "layout": "IPY_MODEL_be250f5f271940d99df09bde7e05d47d",
       "style": "IPY_MODEL_9e7db7f650424925b0f61aab73469a32"
      }
     },
     "15bb22e5994443eaae472294f0f7ba5c": {
      "model_module": "@jupyter-widgets/base",
      "model_module_version": "1.2.0",
      "model_name": "LayoutModel",
      "state": {}
     },
     "16405a99bff247a594ad256cee1ec2f4": {
      "model_module": "@jupyter-widgets/controls",
      "model_module_version": "1.5.0",
      "model_name": "LabelModel",
      "state": {
       "layout": "IPY_MODEL_41c14add7ce940388eb07ffd4bae631b",
       "style": "IPY_MODEL_6c951e5b7ec24eb19e249bc0990c9d24",
       "value": "Electrolyte volume (uL)"
      }
     },
     "1650b3dc664545ccb77083af76bfe895": {
      "model_module": "@jupyter-widgets/controls",
      "model_module_version": "1.5.0",
      "model_name": "HBoxModel",
      "state": {
       "children": [
        "IPY_MODEL_d06db165a7fd4b0ba8db9d1765a988ed",
        "IPY_MODEL_ccb8f79d6365404db76f1a348b13c389"
       ],
       "layout": "IPY_MODEL_7d4b6d7c2b594fc091ce9460fa01dec8"
      }
     },
     "166d1b9bf1e54c51ab7516e8c8c66aa8": {
      "model_module": "@jupyter-widgets/controls",
      "model_module_version": "1.5.0",
      "model_name": "ButtonStyleModel",
      "state": {}
     },
     "169ba52d7ddd4b1dab526f2b3092fff1": {
      "model_module": "@jupyter-widgets/controls",
      "model_module_version": "1.5.0",
      "model_name": "DescriptionStyleModel",
      "state": {
       "description_width": ""
      }
     },
     "16b31330eed9428ebbc9368c236781c6": {
      "model_module": "@jupyter-widgets/controls",
      "model_module_version": "1.5.0",
      "model_name": "ButtonStyleModel",
      "state": {}
     },
     "16b496cddf1142f59542117ef95708d7": {
      "model_module": "@jupyter-widgets/controls",
      "model_module_version": "1.5.0",
      "model_name": "ButtonStyleModel",
      "state": {}
     },
     "16e31989acb8483685e7683051d98389": {
      "model_module": "@jupyter-widgets/controls",
      "model_module_version": "1.5.0",
      "model_name": "DescriptionStyleModel",
      "state": {
       "description_width": ""
      }
     },
     "16ef2be6df124e689e9bf03b97430c45": {
      "model_module": "@jupyter-widgets/controls",
      "model_module_version": "1.5.0",
      "model_name": "HBoxModel",
      "state": {
       "children": [
        "IPY_MODEL_e722e436a54144c5bfeafe19a2d94b32",
        "IPY_MODEL_b8cb219a488d4f25847532d413fa4f4d"
       ],
       "layout": "IPY_MODEL_abfda62d13e543e3ae96104ceb699ea6"
      }
     },
     "16f4229cacfa49baabe849406dc419ba": {
      "model_module": "@jupyter-widgets/base",
      "model_module_version": "1.2.0",
      "model_name": "LayoutModel",
      "state": {}
     },
     "171d6bff9f224048887a79e944d39df8": {
      "model_module": "@jupyter-widgets/controls",
      "model_module_version": "1.5.0",
      "model_name": "ButtonModel",
      "state": {
       "description": "Save article details",
       "layout": "IPY_MODEL_d4884397e49b4c5e9fc5194c2e7af2a1",
       "style": "IPY_MODEL_b99bb57f482f4bfa915a1b9edf804f62"
      }
     },
     "17752d9253704953bf4ffdb4fdab05a1": {
      "model_module": "@jupyter-widgets/controls",
      "model_module_version": "1.5.0",
      "model_name": "DescriptionStyleModel",
      "state": {
       "description_width": ""
      }
     },
     "179db493e81049368e2319d1a33cd9a5": {
      "model_module": "@jupyter-widgets/controls",
      "model_module_version": "1.5.0",
      "model_name": "ButtonStyleModel",
      "state": {}
     },
     "17a694fc457b400e971d474c0f7e9e5b": {
      "model_module": "@jupyter-widgets/controls",
      "model_module_version": "1.5.0",
      "model_name": "FloatTextModel",
      "state": {
       "description": "Start",
       "layout": "IPY_MODEL_a4b06e13f3bb43d79c42144d45d41743",
       "step": 1,
       "style": "IPY_MODEL_64e0e0c56a864d08af42c55d93f8425a"
      }
     },
     "17bae5418e3f48559675c0701d5b97de": {
      "model_module": "@jupyter-widgets/controls",
      "model_module_version": "1.5.0",
      "model_name": "HBoxModel",
      "state": {
       "children": [
        "IPY_MODEL_2bcd9a3ec71e4ce4ad25689224b5de0a",
        "IPY_MODEL_aec986873aec4093bed9e5c1718e3b27"
       ],
       "layout": "IPY_MODEL_7d4a4f3535514ffaa157337a384eecc8"
      }
     },
     "183551bbacb24e058a83f94e2c22eecf": {
      "model_module": "@jupyter-widgets/controls",
      "model_module_version": "1.5.0",
      "model_name": "DescriptionStyleModel",
      "state": {
       "description_width": ""
      }
     },
     "18368abce0ec45d382fc49a33884c244": {
      "model_module": "@jupyter-widgets/controls",
      "model_module_version": "1.5.0",
      "model_name": "TextModel",
      "state": {
       "layout": "IPY_MODEL_be250f5f271940d99df09bde7e05d47d",
       "style": "IPY_MODEL_5d0c825b2b4c4ec9b3649afbf23faf46"
      }
     },
     "1842b5d683184869b2c354ad551b3371": {
      "model_module": "@jupyter-widgets/controls",
      "model_module_version": "1.5.0",
      "model_name": "TextModel",
      "state": {
       "layout": "IPY_MODEL_be250f5f271940d99df09bde7e05d47d",
       "style": "IPY_MODEL_dc67ccc44ca247c7b502f1b11fa265b7"
      }
     },
     "1909d140350a4331a74f2069331a3c00": {
      "model_module": "@jupyter-widgets/base",
      "model_module_version": "1.2.0",
      "model_name": "LayoutModel",
      "state": {}
     },
     "192cd3694ab0473b8e1f097a352630cb": {
      "model_module": "@jupyter-widgets/base",
      "model_module_version": "1.2.0",
      "model_name": "LayoutModel",
      "state": {}
     },
     "195b264476ae467b862379e1c40c5c51": {
      "model_module": "@jupyter-widgets/controls",
      "model_module_version": "1.5.0",
      "model_name": "LabelModel",
      "state": {
       "layout": "IPY_MODEL_0df9987234d949d3a653e70b86abc939",
       "style": "IPY_MODEL_2c97db3811bf41359816c349586c822a",
       "value": "Host conductivity units"
      }
     },
     "19648b74df89457d9801f3d51d0b67da": {
      "model_module": "@jupyter-widgets/controls",
      "model_module_version": "1.5.0",
      "model_name": "ButtonModel",
      "state": {
       "description": "Save",
       "layout": "IPY_MODEL_56887d2b476e4c589c7f19f4abeb812c",
       "style": "IPY_MODEL_2ad3109ec4d24f3e88c4a10db246e57f"
      }
     },
     "19982e9a4f0e49f2a806d4245886014b": {
      "model_module": "@jupyter-widgets/controls",
      "model_module_version": "1.5.0",
      "model_name": "HBoxModel",
      "state": {
       "children": [
        "IPY_MODEL_d76feb87bf064184afdf542a7d339869",
        "IPY_MODEL_59d9a223f06b4eb0bd14f37782c1c901"
       ],
       "layout": "IPY_MODEL_ea41da8b0487457d9cfadd6c247e23b7"
      }
     },
     "19e2be4558e34f9ab73baa70f105089f": {
      "model_module": "@jupyter-widgets/controls",
      "model_module_version": "1.5.0",
      "model_name": "LabelModel",
      "state": {
       "layout": "IPY_MODEL_effe09f8bc7547e485e4d0447b61829c",
       "style": "IPY_MODEL_e017eea60497451bb7d7258dd7441c0a",
       "value": "Sulfur loading method"
      }
     },
     "1a6a7dcd712f4a59b13594b19a6c1893": {
      "model_module": "@jupyter-widgets/controls",
      "model_module_version": "1.5.0",
      "model_name": "DescriptionStyleModel",
      "state": {
       "description_width": ""
      }
     },
     "1a81807fb6734a2a8ef495fd81675388": {
      "model_module": "@jupyter-widgets/controls",
      "model_module_version": "1.5.0",
      "model_name": "HBoxModel",
      "state": {
       "children": [
        "IPY_MODEL_1d8cfd5524be478794b11bd116929fec",
        "IPY_MODEL_d3bb0eda662643ec9e7656d9a2d60705",
        "IPY_MODEL_794f50c734b748a6a88d8f19a2d6069d"
       ],
       "layout": "IPY_MODEL_ebd61a79037744fda77de515ddbf7262"
      }
     },
     "1b0f8288e7914100a5119e4bb11ecdd9": {
      "model_module": "@jupyter-widgets/base",
      "model_module_version": "1.2.0",
      "model_name": "LayoutModel",
      "state": {}
     },
     "1b24004ed412404d822948f5caee61ee": {
      "model_module": "@jupyter-widgets/controls",
      "model_module_version": "1.5.0",
      "model_name": "HBoxModel",
      "state": {
       "children": [
        "IPY_MODEL_5561e82daa0e4858a26ff75e02b56476",
        "IPY_MODEL_8b5e57455d7e4e40832915a64dfd1d60"
       ],
       "layout": "IPY_MODEL_080fc0a1d63f4e189682086a7e8b6fc8"
      }
     },
     "1b30d0b6e6eb496eb617b00027482346": {
      "model_module": "@jupyter-widgets/controls",
      "model_module_version": "1.5.0",
      "model_name": "DescriptionStyleModel",
      "state": {
       "description_width": ""
      }
     },
     "1b41a866e9e74cb196f4c8a42b707135": {
      "model_module": "@jupyter-widgets/base",
      "model_module_version": "1.2.0",
      "model_name": "LayoutModel",
      "state": {}
     },
     "1b5537b51980449498b5f52ebafe3632": {
      "model_module": "@jupyter-widgets/controls",
      "model_module_version": "1.5.0",
      "model_name": "HBoxModel",
      "state": {
       "children": [
        "IPY_MODEL_83a7fb72da334d2fa079f2eabbb3408a",
        "IPY_MODEL_b84bc3dddae446f595f9bdaf75d9449f"
       ],
       "layout": "IPY_MODEL_f8a6d090ec0f467eb854ee615d6a605f"
      }
     },
     "1b643820644a4ecbaa444c3e3844e269": {
      "model_module": "@jupyter-widgets/controls",
      "model_module_version": "1.5.0",
      "model_name": "HBoxModel",
      "state": {
       "children": [
        "IPY_MODEL_e714f9f5a62e42e886686a655f895229",
        "IPY_MODEL_0929bf0f98e64e63aa49479a3781c989"
       ],
       "layout": "IPY_MODEL_7fdd2c250c22449da53ac8dd1b54bc80"
      }
     },
     "1b7e992b69f645ba8e39fcc493e555ae": {
      "model_module": "@jupyter-widgets/controls",
      "model_module_version": "1.5.0",
      "model_name": "LabelModel",
      "state": {
       "layout": "IPY_MODEL_dca2f121781e4ca49f74b3edab4a9127",
       "style": "IPY_MODEL_4386d5c6cc984d45be65c087304c9a5a",
       "value": "No values saved this session"
      }
     },
     "1bb9a96e8a7e4fe390de7b5b59ff511e": {
      "model_module": "@jupyter-widgets/controls",
      "model_module_version": "1.5.0",
      "model_name": "HBoxModel",
      "state": {
       "children": [
        "IPY_MODEL_8290dfb5a5d14be1a023019418467a11",
        "IPY_MODEL_27c5b1a1c8884ec08f36343c4b1920e6",
        "IPY_MODEL_af0b1ebc6a4949f98f501ba3922729f2"
       ],
       "layout": "IPY_MODEL_0b9e0c5ca59844619bccc7ab82f70c57"
      }
     },
     "1c5fd4c94f204c2690041dc3a56f7e43": {
      "model_module": "@jupyter-widgets/controls",
      "model_module_version": "1.5.0",
      "model_name": "DescriptionStyleModel",
      "state": {
       "description_width": ""
      }
     },
     "1c7051ec38a5425f823bf4b424425bfe": {
      "model_module": "@jupyter-widgets/controls",
      "model_module_version": "1.5.0",
      "model_name": "HBoxModel",
      "state": {
       "children": [
        "IPY_MODEL_58f4b3f43f6445729946992f4791bf6b",
        "IPY_MODEL_cea38573a6054d729015a3efc74b0938"
       ],
       "layout": "IPY_MODEL_851650f2faf144db82be7cee7cb756ad"
      }
     },
     "1c83d0da303e4a80a2c7ef776078fd63": {
      "model_module": "@jupyter-widgets/controls",
      "model_module_version": "1.5.0",
      "model_name": "TextModel",
      "state": {
       "layout": "IPY_MODEL_db20f3ba946940318e1c251610447cab",
       "style": "IPY_MODEL_c86c8fbfd2874fd5a6898270608a91db"
      }
     },
     "1ccced3766464fdf94ba36bb2b60db5d": {
      "model_module": "@jupyter-widgets/controls",
      "model_module_version": "1.5.0",
      "model_name": "DescriptionStyleModel",
      "state": {
       "description_width": ""
      }
     },
     "1d2190fe14a94e63b2aeae699a37e3e2": {
      "model_module": "@jupyter-widgets/controls",
      "model_module_version": "1.5.0",
      "model_name": "ButtonStyleModel",
      "state": {
       "button_color": "orange"
      }
     },
     "1d31df43bed84f01918353be2420d99e": {
      "model_module": "@jupyter-widgets/controls",
      "model_module_version": "1.5.0",
      "model_name": "TextModel",
      "state": {
       "layout": "IPY_MODEL_be250f5f271940d99df09bde7e05d47d",
       "style": "IPY_MODEL_24280d9899214ad0983e98f4743ae0ee"
      }
     },
     "1d39db808ca240e5865a84d73548c375": {
      "model_module": "@jupyter-widgets/base",
      "model_module_version": "1.2.0",
      "model_name": "LayoutModel",
      "state": {}
     },
     "1d5a9e7233974dfcb41cb169d934d851": {
      "model_module": "@jupyter-widgets/controls",
      "model_module_version": "1.5.0",
      "model_name": "FloatTextModel",
      "state": {
       "description": "Start",
       "layout": "IPY_MODEL_f3e8dc30bd284c188a198d63fc03f565",
       "step": 1,
       "style": "IPY_MODEL_56307a031da144e9909742c75087ea20"
      }
     },
     "1d762b17523c4b5fb7ec18369323090b": {
      "model_module": "@jupyter-widgets/base",
      "model_module_version": "1.2.0",
      "model_name": "LayoutModel",
      "state": {}
     },
     "1d8cfd5524be478794b11bd116929fec": {
      "model_module": "@jupyter-widgets/controls",
      "model_module_version": "1.5.0",
      "model_name": "LabelModel",
      "state": {
       "layout": "IPY_MODEL_effe09f8bc7547e485e4d0447b61829c",
       "style": "IPY_MODEL_8b21c2ca11464c7fb896954514ac55e2",
       "value": "Carbon type"
      }
     },
     "1da1175ce67c48ddb51de49f899768be": {
      "model_module": "@jupyter-widgets/controls",
      "model_module_version": "1.5.0",
      "model_name": "AccordionModel",
      "state": {
       "_titles": {
        "0": "Host 1"
       },
       "children": [
        "IPY_MODEL_093bdc8fd78a4936b5ac65a017f4b829"
       ],
       "layout": "IPY_MODEL_dc42925f28bf4a0191505ea45f51fff0"
      }
     },
     "1e0feab245154027b4a34949d421b166": {
      "model_module": "@jupyter-widgets/base",
      "model_module_version": "1.2.0",
      "model_name": "LayoutModel",
      "state": {}
     },
     "1e1438b200464a7fb82f1db30eb2fbaa": {
      "model_module": "@jupyter-widgets/controls",
      "model_module_version": "1.5.0",
      "model_name": "HBoxModel",
      "state": {
       "children": [
        "IPY_MODEL_faf74d7994f7462fbc8cfb1fbd8adee2",
        "IPY_MODEL_0120ea57d57d4d6dbfd6680c22083dbe"
       ],
       "layout": "IPY_MODEL_5d287a3cbf114d96835459940b21a573"
      }
     },
     "1e22eeac6ef34fcf9c80acce6400be81": {
      "model_module": "@jupyter-widgets/controls",
      "model_module_version": "1.5.0",
      "model_name": "DescriptionStyleModel",
      "state": {
       "description_width": ""
      }
     },
     "1eb3a9130a914e319f583ae5446165b3": {
      "model_module": "@jupyter-widgets/controls",
      "model_module_version": "1.5.0",
      "model_name": "ButtonModel",
      "state": {
       "description": "Show graph",
       "layout": "IPY_MODEL_56006a968c1840fbacaa64b81074f0fa",
       "style": "IPY_MODEL_99533b94a46d4bf790d57091f981ce5c"
      }
     },
     "1f001f0516394513b6f5b6ef7cde3b79": {
      "model_module": "@jupyter-widgets/controls",
      "model_module_version": "1.5.0",
      "model_name": "DescriptionStyleModel",
      "state": {
       "description_width": ""
      }
     },
     "1f43247803d64dcf96173a433dbba2d6": {
      "model_module": "@jupyter-widgets/base",
      "model_module_version": "1.2.0",
      "model_name": "LayoutModel",
      "state": {}
     },
     "1f574ac0813a423caedbb28f7586def0": {
      "model_module": "@jupyter-widgets/controls",
      "model_module_version": "1.5.0",
      "model_name": "HBoxModel",
      "state": {
       "children": [
        "IPY_MODEL_d180399b211d48db8bf1e347ea1ba48d",
        "IPY_MODEL_12b7d305117d494d90167667cdc168ab",
        "IPY_MODEL_4d9b73ce9a4e414d8b063e357a5167b5"
       ],
       "layout": "IPY_MODEL_70d66a7de49240879459f153cafdd21e"
      }
     },
     "1f69628665a3421db1198f9503a68399": {
      "model_module": "@jupyter-widgets/base",
      "model_module_version": "1.2.0",
      "model_name": "LayoutModel",
      "state": {}
     },
     "1f7642d117504bcfa225ff997fd8210e": {
      "model_module": "@jupyter-widgets/base",
      "model_module_version": "1.2.0",
      "model_name": "LayoutModel",
      "state": {}
     },
     "2090eeb9860c475d972cebacc15af743": {
      "model_module": "@jupyter-widgets/controls",
      "model_module_version": "1.5.0",
      "model_name": "TextModel",
      "state": {
       "layout": "IPY_MODEL_2ea41123ef6e432a9de67807cb2dd325",
       "style": "IPY_MODEL_cf6a796f610e474792fbf215ebd4bbbd"
      }
     },
     "218269e1ff7247adabb89a22be069fba": {
      "model_module": "@jupyter-widgets/controls",
      "model_module_version": "1.5.0",
      "model_name": "CheckboxModel",
      "state": {
       "description": "Common",
       "disabled": false,
       "indent": false,
       "layout": "IPY_MODEL_27464dadde5b4b91bc756bb99ab0c792",
       "style": "IPY_MODEL_6fd8e87690654654b20009527f66309c",
       "value": false
      }
     },
     "21923304eae04803ba04e042d8179efa": {
      "model_module": "@jupyter-widgets/controls",
      "model_module_version": "1.5.0",
      "model_name": "FloatTextModel",
      "state": {
       "description": "x max",
       "layout": "IPY_MODEL_dd46d9b4fb2140ae9b04a8a4350c9168",
       "step": null,
       "style": "IPY_MODEL_79069ba6ded149908ad0787375ea6495"
      }
     },
     "21d4749445954120bfaf9a678963f21f": {
      "model_module": "@jupyter-widgets/controls",
      "model_module_version": "1.5.0",
      "model_name": "TextModel",
      "state": {
       "layout": "IPY_MODEL_2ea41123ef6e432a9de67807cb2dd325",
       "style": "IPY_MODEL_8a7c74e4092b4e6d9a02731a61e96c32"
      }
     },
     "21f1380f4b574dc38fff0518ad11a345": {
      "model_module": "@jupyter-widgets/controls",
      "model_module_version": "1.5.0",
      "model_name": "ButtonStyleModel",
      "state": {}
     },
     "227f0c1d15fd40ad99b056d9918cc47b": {
      "model_module": "@jupyter-widgets/controls",
      "model_module_version": "1.5.0",
      "model_name": "TextModel",
      "state": {
       "layout": "IPY_MODEL_be250f5f271940d99df09bde7e05d47d",
       "style": "IPY_MODEL_e9315c72290a48c48e5302788e03c9bb"
      }
     },
     "22e1ad47e34249c88da4eb8d992bc6e1": {
      "model_module": "@jupyter-widgets/controls",
      "model_module_version": "1.5.0",
      "model_name": "HBoxModel",
      "state": {
       "children": [
        "IPY_MODEL_5f2458994c2c44eaa0d28712bfcad42f",
        "IPY_MODEL_d232d5ada0e74a9a912dfc0d5376f490"
       ],
       "layout": "IPY_MODEL_5b3eede086504f01a77392e18a44a68f"
      }
     },
     "230e994a4553468184d135e1d9d8e47c": {
      "model_module": "@jupyter-widgets/controls",
      "model_module_version": "1.5.0",
      "model_name": "ColorPickerModel",
      "state": {
       "description": "Line color",
       "disabled": false,
       "layout": "IPY_MODEL_e197ff873fb14959bceb70e28b9d886c",
       "style": "IPY_MODEL_a37af4b9534e4a2480598f5882be9f17",
       "value": "#000000"
      }
     },
     "232a6054529b499d915cabcf849221a2": {
      "model_module": "@jupyter-widgets/base",
      "model_module_version": "1.2.0",
      "model_name": "LayoutModel",
      "state": {}
     },
     "2364e55a86604e85829046b09bbefe23": {
      "model_module": "@jupyter-widgets/base",
      "model_module_version": "1.2.0",
      "model_name": "LayoutModel",
      "state": {}
     },
     "239a2ea611c64686a1cfbb64af5e11ef": {
      "model_module": "@jupyter-widgets/controls",
      "model_module_version": "1.5.0",
      "model_name": "HBoxModel",
      "state": {
       "children": [
        "IPY_MODEL_e4eb29592df04fd2a200be7250e6d4a6",
        "IPY_MODEL_1d31df43bed84f01918353be2420d99e"
       ],
       "layout": "IPY_MODEL_645f3a00a75645af9cbc859240bea8a6"
      }
     },
     "23ed07a4005643a28edfba7008bba84b": {
      "model_module": "@jupyter-widgets/controls",
      "model_module_version": "1.5.0",
      "model_name": "DescriptionStyleModel",
      "state": {
       "description_width": ""
      }
     },
     "23f5d10baa42401c93108bfeac671dc3": {
      "model_module": "@jupyter-widgets/controls",
      "model_module_version": "1.5.0",
      "model_name": "ButtonStyleModel",
      "state": {}
     },
     "240c56f0553c48ee85e85de2e6124758": {
      "model_module": "@jupyter-widgets/controls",
      "model_module_version": "1.5.0",
      "model_name": "DescriptionStyleModel",
      "state": {
       "description_width": ""
      }
     },
     "240c5ac2f1cb4dc093b2bd662250b043": {
      "model_module": "@jupyter-widgets/base",
      "model_module_version": "1.2.0",
      "model_name": "LayoutModel",
      "state": {}
     },
     "24280d9899214ad0983e98f4743ae0ee": {
      "model_module": "@jupyter-widgets/controls",
      "model_module_version": "1.5.0",
      "model_name": "DescriptionStyleModel",
      "state": {
       "description_width": ""
      }
     },
     "243df43254774732b40e5074159f5d72": {
      "model_module": "@jupyter-widgets/base",
      "model_module_version": "1.2.0",
      "model_name": "LayoutModel",
      "state": {}
     },
     "2446008f612f449ab2fe8fbc1cef33f5": {
      "model_module": "@jupyter-widgets/controls",
      "model_module_version": "1.5.0",
      "model_name": "VBoxModel",
      "state": {
       "children": [
        "IPY_MODEL_d87e454c52dc48b089945fa042c47b37",
        "IPY_MODEL_7cd4c74d7cf941189185c5646527c25a",
        "IPY_MODEL_29d4445c50144d12acb97afdf64ca26d",
        "IPY_MODEL_0947713a4a0546e2aacb83813c40d7e6",
        "IPY_MODEL_846996a637344795a13a630d0e7f1c68"
       ],
       "layout": "IPY_MODEL_6103f5d71c4a44928772212e07361737"
      }
     },
     "245de0066522420f9f92447d8dc0869a": {
      "model_module": "@jupyter-widgets/controls",
      "model_module_version": "1.5.0",
      "model_name": "DescriptionStyleModel",
      "state": {
       "description_width": ""
      }
     },
     "247a6ccf93024a3cb512a43637259581": {
      "model_module": "@jupyter-widgets/controls",
      "model_module_version": "1.5.0",
      "model_name": "DescriptionStyleModel",
      "state": {
       "description_width": ""
      }
     },
     "249a3f1881f7457bad151da14a9a14f5": {
      "model_module": "@jupyter-widgets/controls",
      "model_module_version": "1.5.0",
      "model_name": "DescriptionStyleModel",
      "state": {
       "description_width": ""
      }
     },
     "24d8a3ae5eed413db2541de3d5c52589": {
      "model_module": "@jupyter-widgets/controls",
      "model_module_version": "1.5.0",
      "model_name": "TextModel",
      "state": {
       "layout": "IPY_MODEL_be250f5f271940d99df09bde7e05d47d",
       "style": "IPY_MODEL_0b2c6ab2dc76499fb5320c078580c064"
      }
     },
     "2519894cb1894720911ca47742ee37c7": {
      "model_module": "@jupyter-widgets/base",
      "model_module_version": "1.2.0",
      "model_name": "LayoutModel",
      "state": {}
     },
     "25643c08e65d4110ad72580d0eddd0e6": {
      "model_module": "@jupyter-widgets/controls",
      "model_module_version": "1.5.0",
      "model_name": "CheckboxModel",
      "state": {
       "description": "Common",
       "disabled": false,
       "indent": false,
       "layout": "IPY_MODEL_d78fc1a123a0413491fff8157fdafc59",
       "style": "IPY_MODEL_311a1e7ca4b745e4a6909c58cb502dff",
       "value": false
      }
     },
     "258e6a0beccc4c8cbaa717c2016df949": {
      "model_module": "@jupyter-widgets/base",
      "model_module_version": "1.2.0",
      "model_name": "LayoutModel",
      "state": {}
     },
     "25ec30f1d2274872aba664b6e3e8fec1": {
      "model_module": "@jupyter-widgets/base",
      "model_module_version": "1.2.0",
      "model_name": "LayoutModel",
      "state": {}
     },
     "264f13d395be4383a95b4070347c6bae": {
      "model_module": "@jupyter-widgets/controls",
      "model_module_version": "1.5.0",
      "model_name": "TextModel",
      "state": {
       "layout": "IPY_MODEL_be250f5f271940d99df09bde7e05d47d",
       "style": "IPY_MODEL_7ea077106d9446f684f02b0fee71aae8"
      }
     },
     "26692c98d81044f4a935534e49cb619a": {
      "model_module": "@jupyter-widgets/controls",
      "model_module_version": "1.5.0",
      "model_name": "CheckboxModel",
      "state": {
       "description": "Common",
       "disabled": false,
       "indent": false,
       "layout": "IPY_MODEL_0a7b36a76b21474da426408302785ab1",
       "style": "IPY_MODEL_b3fd6cf77b1f42f3bad895023682f671",
       "value": false
      }
     },
     "266e2899f3f849ed919060a3a9e72bc8": {
      "model_module": "@jupyter-widgets/base",
      "model_module_version": "1.2.0",
      "model_name": "LayoutModel",
      "state": {}
     },
     "26ae524a6b4c4bd7b6e98932e04d874a": {
      "model_module": "@jupyter-widgets/controls",
      "model_module_version": "1.5.0",
      "model_name": "DescriptionStyleModel",
      "state": {
       "description_width": ""
      }
     },
     "26ba3359ad6746b3ae11f3ba763b80f5": {
      "model_module": "@jupyter-widgets/controls",
      "model_module_version": "1.5.0",
      "model_name": "ButtonStyleModel",
      "state": {}
     },
     "26bc351613b04b1ba58f59e082ce676b": {
      "model_module": "@jupyter-widgets/base",
      "model_module_version": "1.2.0",
      "model_name": "LayoutModel",
      "state": {}
     },
     "2710d5a4c71947cdb74f8b8fc7c61656": {
      "model_module": "@jupyter-widgets/controls",
      "model_module_version": "1.5.0",
      "model_name": "HBoxModel",
      "state": {
       "children": [
        "IPY_MODEL_e9cdac34000d4d01b45d6f8e8213f1ea",
        "IPY_MODEL_61f346c7fc96460d925936227ffcea22"
       ],
       "layout": "IPY_MODEL_e4845fdfaee74bcca5e3c3d230e85267"
      }
     },
     "2730a1390ad84de280e2c2b470ba711a": {
      "model_module": "@jupyter-widgets/controls",
      "model_module_version": "1.5.0",
      "model_name": "DescriptionStyleModel",
      "state": {
       "description_width": ""
      }
     },
     "2745a5f00ccd4950a18be9527fc5df04": {
      "model_module": "@jupyter-widgets/controls",
      "model_module_version": "1.5.0",
      "model_name": "HBoxModel",
      "state": {
       "children": [
        "IPY_MODEL_d09df28754b04d24ba98017a70ebc6cd",
        "IPY_MODEL_88b19df3f4b1410b888f0de1583fb779"
       ],
       "layout": "IPY_MODEL_95c1f98923a44ae3bf0ad6562a34fbcd"
      }
     },
     "27464dadde5b4b91bc756bb99ab0c792": {
      "model_module": "@jupyter-widgets/base",
      "model_module_version": "1.2.0",
      "model_name": "LayoutModel",
      "state": {}
     },
     "2754fac9331e433892fbb49ed44c3bb3": {
      "model_module": "@jupyter-widgets/base",
      "model_module_version": "1.2.0",
      "model_name": "LayoutModel",
      "state": {}
     },
     "278e3a0c83d3454e811c44d57ba4276c": {
      "model_module": "@jupyter-widgets/controls",
      "model_module_version": "1.5.0",
      "model_name": "DescriptionStyleModel",
      "state": {
       "description_width": ""
      }
     },
     "27c5b1a1c8884ec08f36343c4b1920e6": {
      "model_module": "@jupyter-widgets/controls",
      "model_module_version": "1.5.0",
      "model_name": "TextModel",
      "state": {
       "layout": "IPY_MODEL_2ea41123ef6e432a9de67807cb2dd325",
       "style": "IPY_MODEL_daec617794184ff8950c8ba691ee5e95"
      }
     },
     "27e2f221277145e4ba56b6aafdc94686": {
      "model_module": "@jupyter-widgets/controls",
      "model_module_version": "1.5.0",
      "model_name": "LabelModel",
      "state": {
       "layout": "IPY_MODEL_449727edc3cf41fdaad554c4a24e4dcd",
       "style": "IPY_MODEL_85aff4996c7242d787614b3c4ac44998",
       "value": "Electrolyte solvent"
      }
     },
     "27ff5cf2a16c49db8310f6c982096c64": {
      "model_module": "@jupyter-widgets/controls",
      "model_module_version": "1.5.0",
      "model_name": "HBoxModel",
      "state": {
       "children": [
        "IPY_MODEL_ec4d5504bc634656ba7c2b76f38d667d",
        "IPY_MODEL_dda1ecdf5169461facc687d35d787412"
       ],
       "layout": "IPY_MODEL_cd16581005af49639266a7596f1bd7d0"
      }
     },
     "2890bc01dc1c4037ab6e8930116d0ff5": {
      "model_module": "@jupyter-widgets/controls",
      "model_module_version": "1.5.0",
      "model_name": "TextModel",
      "state": {
       "layout": "IPY_MODEL_be250f5f271940d99df09bde7e05d47d",
       "style": "IPY_MODEL_fe5092d66f7e422687d4d318c4183938"
      }
     },
     "290543a34d134be58224f9439f37b749": {
      "model_module": "@jupyter-widgets/base",
      "model_module_version": "1.2.0",
      "model_name": "LayoutModel",
      "state": {}
     },
     "2947c36018f44f2e88c3818e5c89055c": {
      "model_module": "@jupyter-widgets/controls",
      "model_module_version": "1.5.0",
      "model_name": "DescriptionStyleModel",
      "state": {
       "description_width": ""
      }
     },
     "2984ff65d94144228a453c0a21e564ab": {
      "model_module": "@jupyter-widgets/controls",
      "model_module_version": "1.5.0",
      "model_name": "HBoxModel",
      "state": {
       "children": [
        "IPY_MODEL_51077b7e615549c0bdb74cada1ed2e21",
        "IPY_MODEL_b41c6a9d3dee487f8ba7eae9b1db5fe4",
        "IPY_MODEL_923612464a06490abd68924d533504db",
        "IPY_MODEL_14591e53b89a45c0ad870c95320a6497"
       ],
       "layout": "IPY_MODEL_63ec0a09657e4e67b917defbb482c652"
      }
     },
     "299490680c33442cbe8337f52c962ccd": {
      "model_module": "@jupyter-widgets/controls",
      "model_module_version": "1.5.0",
      "model_name": "DescriptionStyleModel",
      "state": {
       "description_width": ""
      }
     },
     "29a1cafc6df6452780885be9dd59f50d": {
      "model_module": "@jupyter-widgets/controls",
      "model_module_version": "1.5.0",
      "model_name": "VBoxModel",
      "state": {
       "children": [
        "IPY_MODEL_4e57461ac7b84096a2d0504ec1d7a69f",
        "IPY_MODEL_05cf238eb26348cda47f8a3fd68010e0",
        "IPY_MODEL_03aff337e27444d49e1a19355941d247"
       ],
       "layout": "IPY_MODEL_80c03d75a84b4edea01e0f288f0150a0"
      }
     },
     "29b0ed345b6d400bb220c2b39cfe385c": {
      "model_module": "@jupyter-widgets/controls",
      "model_module_version": "1.5.0",
      "model_name": "HBoxModel",
      "state": {
       "children": [
        "IPY_MODEL_0901f34bc6114a2bb9b6e7a6ffbcf80f",
        "IPY_MODEL_b4779c904d724db5b9b6aef4eb19d890"
       ],
       "layout": "IPY_MODEL_41cb19a93d614ac981a0aa490ca72e21"
      }
     },
     "29d4445c50144d12acb97afdf64ca26d": {
      "model_module": "@jupyter-widgets/controls",
      "model_module_version": "1.5.0",
      "model_name": "HBoxModel",
      "state": {
       "children": [
        "IPY_MODEL_7b4a3c87a30747b192a13ccf297e9686",
        "IPY_MODEL_feb5a4eeee49461b96674f404e42866f"
       ],
       "layout": "IPY_MODEL_69e68346d4c643898535b6ada3c7813c"
      }
     },
     "2a10638d6091488098df68e018c6f416": {
      "model_module": "@jupyter-widgets/controls",
      "model_module_version": "1.5.0",
      "model_name": "FloatTextModel",
      "state": {
       "layout": "IPY_MODEL_7cff28f76bee4cacb7f4eb213fddb7d8",
       "step": null,
       "style": "IPY_MODEL_daf58a1aa64e4010ba4c215ab64850c8"
      }
     },
     "2a4cf195e8bb46a193f49025330b7e78": {
      "model_module": "@jupyter-widgets/base",
      "model_module_version": "1.2.0",
      "model_name": "LayoutModel",
      "state": {}
     },
     "2a4ed0fb56924b01bb8b5948b5bb99da": {
      "model_module": "@jupyter-widgets/controls",
      "model_module_version": "1.5.0",
      "model_name": "DescriptionStyleModel",
      "state": {
       "description_width": ""
      }
     },
     "2a6784bf5850470fa6aa8320bd7e2fbe": {
      "model_module": "@jupyter-widgets/controls",
      "model_module_version": "1.5.0",
      "model_name": "ButtonModel",
      "state": {
       "description": "Remove host 1",
       "layout": "IPY_MODEL_3224ee0c82ce44b7bcf98c593e8064f6",
       "style": "IPY_MODEL_865f322bae764db9aff65580ed9f2b80"
      }
     },
     "2ac59f07a89d44fc848fc643b33e8314": {
      "model_module": "@jupyter-widgets/controls",
      "model_module_version": "1.5.0",
      "model_name": "ButtonModel",
      "state": {
       "description": "Show graph",
       "layout": "IPY_MODEL_70014ebd7ab346c19c64ca77fe3f1b65",
       "style": "IPY_MODEL_a079d2c1a49a41fcaa6d5627025dbe50"
      }
     },
     "2ad3109ec4d24f3e88c4a10db246e57f": {
      "model_module": "@jupyter-widgets/controls",
      "model_module_version": "1.5.0",
      "model_name": "ButtonStyleModel",
      "state": {}
     },
     "2ade6c53f5814b0aa08f82ba891cf269": {
      "model_module": "@jupyter-widgets/base",
      "model_module_version": "1.2.0",
      "model_name": "LayoutModel",
      "state": {}
     },
     "2b5e0edfa09e4b5ebb494431dda7ee19": {
      "model_module": "@jupyter-widgets/controls",
      "model_module_version": "1.5.0",
      "model_name": "DescriptionStyleModel",
      "state": {
       "description_width": ""
      }
     },
     "2b7ae0d08c114058bc9e55d77587f8f0": {
      "model_module": "@jupyter-widgets/controls",
      "model_module_version": "1.5.0",
      "model_name": "DescriptionStyleModel",
      "state": {
       "description_width": ""
      }
     },
     "2ba18c3523134cd6b515384c322de21d": {
      "model_module": "@jupyter-widgets/controls",
      "model_module_version": "1.5.0",
      "model_name": "DescriptionStyleModel",
      "state": {
       "description_width": ""
      }
     },
     "2baca40d8c364d8e81afa3e47e6944e7": {
      "model_module": "@jupyter-widgets/controls",
      "model_module_version": "1.5.0",
      "model_name": "HBoxModel",
      "state": {
       "children": [
        "IPY_MODEL_17a694fc457b400e971d474c0f7e9e5b",
        "IPY_MODEL_1360bec5bd354f22978392ee0ee6b65f"
       ],
       "layout": "IPY_MODEL_e0c715e281c8493fb4dfb3999ccb3c02"
      }
     },
     "2bcd9a3ec71e4ce4ad25689224b5de0a": {
      "model_module": "@jupyter-widgets/controls",
      "model_module_version": "1.5.0",
      "model_name": "LabelModel",
      "state": {
       "layout": "IPY_MODEL_effe09f8bc7547e485e4d0447b61829c",
       "style": "IPY_MODEL_115424a23d714a39b3d296c12149b6c6",
       "value": "Sulfur loading (mg/ cm2)"
      }
     },
     "2bf909777b0146bba04b6a965791a5ac": {
      "model_module": "@jupyter-widgets/controls",
      "model_module_version": "1.5.0",
      "model_name": "DescriptionStyleModel",
      "state": {
       "description_width": ""
      }
     },
     "2c13e2141d4e4464b2ec7d3c0f665a19": {
      "model_module": "@jupyter-widgets/base",
      "model_module_version": "1.2.0",
      "model_name": "LayoutModel",
      "state": {}
     },
     "2c2822ad941b4cb7ac3210197f021657": {
      "model_module": "@jupyter-widgets/controls",
      "model_module_version": "1.5.0",
      "model_name": "DescriptionStyleModel",
      "state": {
       "description_width": ""
      }
     },
     "2c520ed595e3449ba5f9b13323f0f317": {
      "model_module": "@jupyter-widgets/base",
      "model_module_version": "1.2.0",
      "model_name": "LayoutModel",
      "state": {}
     },
     "2c97db3811bf41359816c349586c822a": {
      "model_module": "@jupyter-widgets/controls",
      "model_module_version": "1.5.0",
      "model_name": "DescriptionStyleModel",
      "state": {
       "description_width": ""
      }
     },
     "2cbf7995d8d949ae94fe48144095bffa": {
      "model_module": "@jupyter-widgets/controls",
      "model_module_version": "1.5.0",
      "model_name": "LabelModel",
      "state": {
       "layout": "IPY_MODEL_e4215b6d38ef4bcd9dd169911cc69c7f",
       "style": "IPY_MODEL_0975422f368344049be4e3241e8da438",
       "value": "Separator type"
      }
     },
     "2d0d0d0898a2470d9471ecf5f7512aae": {
      "model_module": "@jupyter-widgets/controls",
      "model_module_version": "1.5.0",
      "model_name": "DescriptionStyleModel",
      "state": {
       "description_width": ""
      }
     },
     "2d3b8ff52b324a618d6a74e98b3a04b6": {
      "model_module": "@jupyter-widgets/base",
      "model_module_version": "1.2.0",
      "model_name": "LayoutModel",
      "state": {}
     },
     "2d5a472073ce4a36b3873c836704ced0": {
      "model_module": "@jupyter-widgets/controls",
      "model_module_version": "1.5.0",
      "model_name": "DescriptionStyleModel",
      "state": {
       "description_width": ""
      }
     },
     "2da52602ce844cc7852dd1e86dd5945a": {
      "model_module": "@jupyter-widgets/controls",
      "model_module_version": "1.5.0",
      "model_name": "SliderStyleModel",
      "state": {
       "description_width": ""
      }
     },
     "2dd58761c2654f8eb67b079d4c6594ae": {
      "model_module": "@jupyter-widgets/controls",
      "model_module_version": "1.5.0",
      "model_name": "DescriptionStyleModel",
      "state": {
       "description_width": ""
      }
     },
     "2dd8f81597214f8688fb2083ed7b8725": {
      "model_module": "@jupyter-widgets/controls",
      "model_module_version": "1.5.0",
      "model_name": "ButtonStyleModel",
      "state": {}
     },
     "2e12f71fddba48f0a681082f6a7b4f92": {
      "model_module": "@jupyter-widgets/controls",
      "model_module_version": "1.5.0",
      "model_name": "CheckboxModel",
      "state": {
       "description": "Common",
       "disabled": false,
       "indent": false,
       "layout": "IPY_MODEL_d32ebf8129d14f24887a255151f5cf1c",
       "style": "IPY_MODEL_4da948215f5b4a2b8a9491d1d2830c99",
       "value": false
      }
     },
     "2e194454d09e42bb99d5dbe9a9e72664": {
      "model_module": "@jupyter-widgets/controls",
      "model_module_version": "1.5.0",
      "model_name": "TextModel",
      "state": {
       "layout": "IPY_MODEL_be250f5f271940d99df09bde7e05d47d",
       "style": "IPY_MODEL_cc78b4fca89a42ed91fbe14a61691fcd"
      }
     },
     "2e96a0a3d08f4c68b895b2a83c6a61e5": {
      "model_module": "@jupyter-widgets/controls",
      "model_module_version": "1.5.0",
      "model_name": "TextModel",
      "state": {
       "layout": "IPY_MODEL_be250f5f271940d99df09bde7e05d47d",
       "style": "IPY_MODEL_cac5aa1c781d41c2af4163dc507b362e"
      }
     },
     "2ea41123ef6e432a9de67807cb2dd325": {
      "model_module": "@jupyter-widgets/base",
      "model_module_version": "1.2.0",
      "model_name": "LayoutModel",
      "state": {
       "width": "20%"
      }
     },
     "2ea63190d5b44eb280d9cf6bd5f3c071": {
      "model_module": "@jupyter-widgets/controls",
      "model_module_version": "1.5.0",
      "model_name": "ButtonStyleModel",
      "state": {}
     },
     "2ebf3051c17f4583aa2342a0333ebc4e": {
      "model_module": "@jupyter-widgets/controls",
      "model_module_version": "1.5.0",
      "model_name": "VBoxModel",
      "state": {
       "children": [
        "IPY_MODEL_552b89bd637d4f58bd3d06a2aebc3be1",
        "IPY_MODEL_8104ace53f0443a0ae6cc0b8def2e40e",
        "IPY_MODEL_f86027c90ff54ed08c078fc63a64a019"
       ],
       "layout": "IPY_MODEL_bd5e5c0590374f5e89d78c04398bdea2"
      }
     },
     "2ed324f8c26a4d9792a6852b4190797f": {
      "model_module": "@jupyter-widgets/controls",
      "model_module_version": "1.5.0",
      "model_name": "VBoxModel",
      "state": {
       "children": [
        "IPY_MODEL_b301aa58b77d40a2bf3d4faa80138c21",
        "IPY_MODEL_34bf5fa40c954b0096c3693d1f9b0f39",
        "IPY_MODEL_5377ba91d20944b5990d60b94f2c05c0"
       ],
       "layout": "IPY_MODEL_b45dbb6391834296a06886be26e34d9a"
      }
     },
     "2ef6bcca941a44768ed41548b740f8c1": {
      "model_module": "@jupyter-widgets/controls",
      "model_module_version": "1.5.0",
      "model_name": "DescriptionStyleModel",
      "state": {
       "description_width": ""
      }
     },
     "2f13e8696dde45bd903d826490554a3c": {
      "model_module": "@jupyter-widgets/controls",
      "model_module_version": "1.5.0",
      "model_name": "CheckboxModel",
      "state": {
       "description": "Common",
       "disabled": false,
       "indent": false,
       "layout": "IPY_MODEL_a44cd4c169fd499cb2d02e82207830a8",
       "style": "IPY_MODEL_81e9c2be1d3a4c60ba141060efcceb0f",
       "value": false
      }
     },
     "2f4fbf1e62b344b29cb36a13bbf7144f": {
      "model_module": "@jupyter-widgets/controls",
      "model_module_version": "1.5.0",
      "model_name": "DescriptionStyleModel",
      "state": {
       "description_width": ""
      }
     },
     "2f61f79dd5e24f93972f0ba95cbc8248": {
      "model_module": "@jupyter-widgets/controls",
      "model_module_version": "1.5.0",
      "model_name": "ButtonModel",
      "state": {
       "description": "Select Files",
       "icon": "square-o",
       "layout": "IPY_MODEL_a030192f3890457a880ef7852bfdc866",
       "style": "IPY_MODEL_7e2a1d3e9b2744b7a8a41aa21fa30666"
      }
     },
     "2f7a7e1c8c8d494f8887fe46bb2e2adc": {
      "model_module": "@jupyter-widgets/controls",
      "model_module_version": "1.5.0",
      "model_name": "LabelModel",
      "state": {
       "layout": "IPY_MODEL_318cb6431f1b426e8a04965ed201f3cf",
       "style": "IPY_MODEL_91d6ab1a8960474fa745a3d9292fe8f6",
       "value": "No saved data"
      }
     },
     "2fb9d3ce965b42dda59db65c261a04ca": {
      "model_module": "@jupyter-widgets/controls",
      "model_module_version": "1.5.0",
      "model_name": "DescriptionStyleModel",
      "state": {
       "description_width": ""
      }
     },
     "301b1a365ca541ec9d7ccda1270fe0f5": {
      "model_module": "@jupyter-widgets/controls",
      "model_module_version": "1.5.0",
      "model_name": "HBoxModel",
      "state": {
       "children": [
        "IPY_MODEL_171d6bff9f224048887a79e944d39df8",
        "IPY_MODEL_e771fcb1c2a242799ac11508484e6fae"
       ],
       "layout": "IPY_MODEL_414da58918004ba3acffedccc8ae5c38"
      }
     },
     "305e2c7f6cf14932b05c688429994b76": {
      "model_module": "@jupyter-widgets/base",
      "model_module_version": "1.2.0",
      "model_name": "LayoutModel",
      "state": {
       "width": "10%"
      }
     },
     "306f7d4f42f64897b57180ec427eda14": {
      "model_module": "@jupyter-widgets/controls",
      "model_module_version": "1.5.0",
      "model_name": "TextModel",
      "state": {
       "layout": "IPY_MODEL_2ea41123ef6e432a9de67807cb2dd325",
       "style": "IPY_MODEL_b225487927db49f8a84e3a92a9f3a17e"
      }
     },
     "30e58c2a580f4e2292060de36a70c1f2": {
      "model_module": "@jupyter-widgets/base",
      "model_module_version": "1.2.0",
      "model_name": "LayoutModel",
      "state": {}
     },
     "311a1e7ca4b745e4a6909c58cb502dff": {
      "model_module": "@jupyter-widgets/controls",
      "model_module_version": "1.5.0",
      "model_name": "DescriptionStyleModel",
      "state": {
       "description_width": ""
      }
     },
     "312f1617bacc4ef99077267621d94b1a": {
      "model_module": "@jupyter-widgets/controls",
      "model_module_version": "1.5.0",
      "model_name": "VBoxModel",
      "state": {
       "children": [
        "IPY_MODEL_7664ad5827cb44a19de69ee07102bf3d"
       ],
       "layout": "IPY_MODEL_64bc1e3b98d249c4bb32bda6e0e55e92"
      }
     },
     "318cb6431f1b426e8a04965ed201f3cf": {
      "model_module": "@jupyter-widgets/base",
      "model_module_version": "1.2.0",
      "model_name": "LayoutModel",
      "state": {}
     },
     "319352ce18a64d0cab9bd55e0d4d8e90": {
      "model_module": "@jupyter-widgets/controls",
      "model_module_version": "1.5.0",
      "model_name": "HBoxModel",
      "state": {
       "children": [
        "IPY_MODEL_6f9996e67c36469b8bcd7c2ada90b2f4",
        "IPY_MODEL_345da5b619ed421baa179a6d05539fc4",
        "IPY_MODEL_f71e84783acf4462ababf07f5edf0020"
       ],
       "layout": "IPY_MODEL_0f9fe7b6e05b4b33be19d8d90237a66a"
      }
     },
     "31f810928f42402ca065a6e026887b7a": {
      "model_module": "@jupyter-widgets/controls",
      "model_module_version": "1.5.0",
      "model_name": "LabelModel",
      "state": {
       "layout": "IPY_MODEL_240c5ac2f1cb4dc093b2bd662250b043",
       "style": "IPY_MODEL_bcb262f9ef084224b5dbc0f5d4d73e5f",
       "value": "No saved values"
      }
     },
     "3224ee0c82ce44b7bcf98c593e8064f6": {
      "model_module": "@jupyter-widgets/base",
      "model_module_version": "1.2.0",
      "model_name": "LayoutModel",
      "state": {}
     },
     "3232071c8bc440f89d6c841771e50ac5": {
      "model_module": "@jupyter-widgets/controls",
      "model_module_version": "1.5.0",
      "model_name": "ButtonStyleModel",
      "state": {}
     },
     "3240c17546c14e3db76111c4b9b2a5c3": {
      "model_module": "@jupyter-widgets/base",
      "model_module_version": "1.2.0",
      "model_name": "LayoutModel",
      "state": {
       "width": "20%"
      }
     },
     "329719d2f59a4f34ade63eb6dd9df2c0": {
      "model_module": "@jupyter-widgets/controls",
      "model_module_version": "1.5.0",
      "model_name": "HBoxModel",
      "state": {
       "children": [
        "IPY_MODEL_a040855ed946452186da2020b704d8a1",
        "IPY_MODEL_5990a145a75a4b7e8d5affa9957359a1",
        "IPY_MODEL_45776797ccb14e96b24f5b2ceb1b0e16"
       ],
       "layout": "IPY_MODEL_d99be4ce41df469092ce7a6ca05e21cd"
      }
     },
     "32f18455f33041da8f2d6a4737448c5b": {
      "model_module": "@jupyter-widgets/base",
      "model_module_version": "1.2.0",
      "model_name": "LayoutModel",
      "state": {}
     },
     "33145b33d0324eae84fcf55fcfd05098": {
      "model_module": "@jupyter-widgets/controls",
      "model_module_version": "1.5.0",
      "model_name": "LabelModel",
      "state": {
       "layout": "IPY_MODEL_0df9987234d949d3a653e70b86abc939",
       "style": "IPY_MODEL_f306db9f68504d2a87ce68141ee24b2e",
       "value": "Electrode thickness"
      }
     },
     "33418d7f0d9c44efb511cd7e2c97b67d": {
      "model_module": "@jupyter-widgets/output",
      "model_module_version": "1.0.0",
      "model_name": "OutputModel",
      "state": {
       "layout": "IPY_MODEL_57a473d0fbef42738fb12ce66d0d3bc4",
       "outputs": [
        {
         "data": {
          "application/javascript": "/* Put everything inside the global mpl namespace */\n/* global mpl */\nwindow.mpl = {};\n\nmpl.get_websocket_type = function () {\n    if (typeof WebSocket !== 'undefined') {\n        return WebSocket;\n    } else if (typeof MozWebSocket !== 'undefined') {\n        return MozWebSocket;\n    } else {\n        alert(\n            'Your browser does not have WebSocket support. ' +\n                'Please try Chrome, Safari or Firefox ≥ 6. ' +\n                'Firefox 4 and 5 are also supported but you ' +\n                'have to enable WebSockets in about:config.'\n        );\n    }\n};\n\nmpl.figure = function (figure_id, websocket, ondownload, parent_element) {\n    this.id = figure_id;\n\n    this.ws = websocket;\n\n    this.supports_binary = this.ws.binaryType !== undefined;\n\n    if (!this.supports_binary) {\n        var warnings = document.getElementById('mpl-warnings');\n        if (warnings) {\n            warnings.style.display = 'block';\n            warnings.textContent =\n                'This browser does not support binary websocket messages. ' +\n                'Performance may be slow.';\n        }\n    }\n\n    this.imageObj = new Image();\n\n    this.context = undefined;\n    this.message = undefined;\n    this.canvas = undefined;\n    this.rubberband_canvas = undefined;\n    this.rubberband_context = undefined;\n    this.format_dropdown = undefined;\n\n    this.image_mode = 'full';\n\n    this.root = document.createElement('div');\n    this.root.setAttribute('style', 'display: inline-block');\n    this._root_extra_style(this.root);\n\n    parent_element.appendChild(this.root);\n\n    this._init_header(this);\n    this._init_canvas(this);\n    this._init_toolbar(this);\n\n    var fig = this;\n\n    this.waiting = false;\n\n    this.ws.onopen = function () {\n        fig.send_message('supports_binary', { value: fig.supports_binary });\n        fig.send_message('send_image_mode', {});\n        if (fig.ratio !== 1) {\n            fig.send_message('set_device_pixel_ratio', {\n                device_pixel_ratio: fig.ratio,\n            });\n        }\n        fig.send_message('refresh', {});\n    };\n\n    this.imageObj.onload = function () {\n        if (fig.image_mode === 'full') {\n            // Full images could contain transparency (where diff images\n            // almost always do), so we need to clear the canvas so that\n            // there is no ghosting.\n            fig.context.clearRect(0, 0, fig.canvas.width, fig.canvas.height);\n        }\n        fig.context.drawImage(fig.imageObj, 0, 0);\n    };\n\n    this.imageObj.onunload = function () {\n        fig.ws.close();\n    };\n\n    this.ws.onmessage = this._make_on_message_function(this);\n\n    this.ondownload = ondownload;\n};\n\nmpl.figure.prototype._init_header = function () {\n    var titlebar = document.createElement('div');\n    titlebar.classList =\n        'ui-dialog-titlebar ui-widget-header ui-corner-all ui-helper-clearfix';\n    var titletext = document.createElement('div');\n    titletext.classList = 'ui-dialog-title';\n    titletext.setAttribute(\n        'style',\n        'width: 100%; text-align: center; padding: 3px;'\n    );\n    titlebar.appendChild(titletext);\n    this.root.appendChild(titlebar);\n    this.header = titletext;\n};\n\nmpl.figure.prototype._canvas_extra_style = function (_canvas_div) {};\n\nmpl.figure.prototype._root_extra_style = function (_canvas_div) {};\n\nmpl.figure.prototype._init_canvas = function () {\n    var fig = this;\n\n    var canvas_div = (this.canvas_div = document.createElement('div'));\n    canvas_div.setAttribute(\n        'style',\n        'border: 1px solid #ddd;' +\n            'box-sizing: content-box;' +\n            'clear: both;' +\n            'min-height: 1px;' +\n            'min-width: 1px;' +\n            'outline: 0;' +\n            'overflow: hidden;' +\n            'position: relative;' +\n            'resize: both;'\n    );\n\n    function on_keyboard_event_closure(name) {\n        return function (event) {\n            return fig.key_event(event, name);\n        };\n    }\n\n    canvas_div.addEventListener(\n        'keydown',\n        on_keyboard_event_closure('key_press')\n    );\n    canvas_div.addEventListener(\n        'keyup',\n        on_keyboard_event_closure('key_release')\n    );\n\n    this._canvas_extra_style(canvas_div);\n    this.root.appendChild(canvas_div);\n\n    var canvas = (this.canvas = document.createElement('canvas'));\n    canvas.classList.add('mpl-canvas');\n    canvas.setAttribute('style', 'box-sizing: content-box;');\n\n    this.context = canvas.getContext('2d');\n\n    var backingStore =\n        this.context.backingStorePixelRatio ||\n        this.context.webkitBackingStorePixelRatio ||\n        this.context.mozBackingStorePixelRatio ||\n        this.context.msBackingStorePixelRatio ||\n        this.context.oBackingStorePixelRatio ||\n        this.context.backingStorePixelRatio ||\n        1;\n\n    this.ratio = (window.devicePixelRatio || 1) / backingStore;\n\n    var rubberband_canvas = (this.rubberband_canvas = document.createElement(\n        'canvas'\n    ));\n    rubberband_canvas.setAttribute(\n        'style',\n        'box-sizing: content-box; position: absolute; left: 0; top: 0; z-index: 1;'\n    );\n\n    // Apply a ponyfill if ResizeObserver is not implemented by browser.\n    if (this.ResizeObserver === undefined) {\n        if (window.ResizeObserver !== undefined) {\n            this.ResizeObserver = window.ResizeObserver;\n        } else {\n            var obs = _JSXTOOLS_RESIZE_OBSERVER({});\n            this.ResizeObserver = obs.ResizeObserver;\n        }\n    }\n\n    this.resizeObserverInstance = new this.ResizeObserver(function (entries) {\n        var nentries = entries.length;\n        for (var i = 0; i < nentries; i++) {\n            var entry = entries[i];\n            var width, height;\n            if (entry.contentBoxSize) {\n                if (entry.contentBoxSize instanceof Array) {\n                    // Chrome 84 implements new version of spec.\n                    width = entry.contentBoxSize[0].inlineSize;\n                    height = entry.contentBoxSize[0].blockSize;\n                } else {\n                    // Firefox implements old version of spec.\n                    width = entry.contentBoxSize.inlineSize;\n                    height = entry.contentBoxSize.blockSize;\n                }\n            } else {\n                // Chrome <84 implements even older version of spec.\n                width = entry.contentRect.width;\n                height = entry.contentRect.height;\n            }\n\n            // Keep the size of the canvas and rubber band canvas in sync with\n            // the canvas container.\n            if (entry.devicePixelContentBoxSize) {\n                // Chrome 84 implements new version of spec.\n                canvas.setAttribute(\n                    'width',\n                    entry.devicePixelContentBoxSize[0].inlineSize\n                );\n                canvas.setAttribute(\n                    'height',\n                    entry.devicePixelContentBoxSize[0].blockSize\n                );\n            } else {\n                canvas.setAttribute('width', width * fig.ratio);\n                canvas.setAttribute('height', height * fig.ratio);\n            }\n            canvas.setAttribute(\n                'style',\n                'width: ' + width + 'px; height: ' + height + 'px;'\n            );\n\n            rubberband_canvas.setAttribute('width', width);\n            rubberband_canvas.setAttribute('height', height);\n\n            // And update the size in Python. We ignore the initial 0/0 size\n            // that occurs as the element is placed into the DOM, which should\n            // otherwise not happen due to the minimum size styling.\n            if (fig.ws.readyState == 1 && width != 0 && height != 0) {\n                fig.request_resize(width, height);\n            }\n        }\n    });\n    this.resizeObserverInstance.observe(canvas_div);\n\n    function on_mouse_event_closure(name) {\n        return function (event) {\n            return fig.mouse_event(event, name);\n        };\n    }\n\n    rubberband_canvas.addEventListener(\n        'mousedown',\n        on_mouse_event_closure('button_press')\n    );\n    rubberband_canvas.addEventListener(\n        'mouseup',\n        on_mouse_event_closure('button_release')\n    );\n    rubberband_canvas.addEventListener(\n        'dblclick',\n        on_mouse_event_closure('dblclick')\n    );\n    // Throttle sequential mouse events to 1 every 20ms.\n    rubberband_canvas.addEventListener(\n        'mousemove',\n        on_mouse_event_closure('motion_notify')\n    );\n\n    rubberband_canvas.addEventListener(\n        'mouseenter',\n        on_mouse_event_closure('figure_enter')\n    );\n    rubberband_canvas.addEventListener(\n        'mouseleave',\n        on_mouse_event_closure('figure_leave')\n    );\n\n    canvas_div.addEventListener('wheel', function (event) {\n        if (event.deltaY < 0) {\n            event.step = 1;\n        } else {\n            event.step = -1;\n        }\n        on_mouse_event_closure('scroll')(event);\n    });\n\n    canvas_div.appendChild(canvas);\n    canvas_div.appendChild(rubberband_canvas);\n\n    this.rubberband_context = rubberband_canvas.getContext('2d');\n    this.rubberband_context.strokeStyle = '#000000';\n\n    this._resize_canvas = function (width, height, forward) {\n        if (forward) {\n            canvas_div.style.width = width + 'px';\n            canvas_div.style.height = height + 'px';\n        }\n    };\n\n    // Disable right mouse context menu.\n    this.rubberband_canvas.addEventListener('contextmenu', function (_e) {\n        event.preventDefault();\n        return false;\n    });\n\n    function set_focus() {\n        canvas.focus();\n        canvas_div.focus();\n    }\n\n    window.setTimeout(set_focus, 100);\n};\n\nmpl.figure.prototype._init_toolbar = function () {\n    var fig = this;\n\n    var toolbar = document.createElement('div');\n    toolbar.classList = 'mpl-toolbar';\n    this.root.appendChild(toolbar);\n\n    function on_click_closure(name) {\n        return function (_event) {\n            return fig.toolbar_button_onclick(name);\n        };\n    }\n\n    function on_mouseover_closure(tooltip) {\n        return function (event) {\n            if (!event.currentTarget.disabled) {\n                return fig.toolbar_button_onmouseover(tooltip);\n            }\n        };\n    }\n\n    fig.buttons = {};\n    var buttonGroup = document.createElement('div');\n    buttonGroup.classList = 'mpl-button-group';\n    for (var toolbar_ind in mpl.toolbar_items) {\n        var name = mpl.toolbar_items[toolbar_ind][0];\n        var tooltip = mpl.toolbar_items[toolbar_ind][1];\n        var image = mpl.toolbar_items[toolbar_ind][2];\n        var method_name = mpl.toolbar_items[toolbar_ind][3];\n\n        if (!name) {\n            /* Instead of a spacer, we start a new button group. */\n            if (buttonGroup.hasChildNodes()) {\n                toolbar.appendChild(buttonGroup);\n            }\n            buttonGroup = document.createElement('div');\n            buttonGroup.classList = 'mpl-button-group';\n            continue;\n        }\n\n        var button = (fig.buttons[name] = document.createElement('button'));\n        button.classList = 'mpl-widget';\n        button.setAttribute('role', 'button');\n        button.setAttribute('aria-disabled', 'false');\n        button.addEventListener('click', on_click_closure(method_name));\n        button.addEventListener('mouseover', on_mouseover_closure(tooltip));\n\n        var icon_img = document.createElement('img');\n        icon_img.src = '_images/' + image + '.png';\n        icon_img.srcset = '_images/' + image + '_large.png 2x';\n        icon_img.alt = tooltip;\n        button.appendChild(icon_img);\n\n        buttonGroup.appendChild(button);\n    }\n\n    if (buttonGroup.hasChildNodes()) {\n        toolbar.appendChild(buttonGroup);\n    }\n\n    var fmt_picker = document.createElement('select');\n    fmt_picker.classList = 'mpl-widget';\n    toolbar.appendChild(fmt_picker);\n    this.format_dropdown = fmt_picker;\n\n    for (var ind in mpl.extensions) {\n        var fmt = mpl.extensions[ind];\n        var option = document.createElement('option');\n        option.selected = fmt === mpl.default_extension;\n        option.innerHTML = fmt;\n        fmt_picker.appendChild(option);\n    }\n\n    var status_bar = document.createElement('span');\n    status_bar.classList = 'mpl-message';\n    toolbar.appendChild(status_bar);\n    this.message = status_bar;\n};\n\nmpl.figure.prototype.request_resize = function (x_pixels, y_pixels) {\n    // Request matplotlib to resize the figure. Matplotlib will then trigger a resize in the client,\n    // which will in turn request a refresh of the image.\n    this.send_message('resize', { width: x_pixels, height: y_pixels });\n};\n\nmpl.figure.prototype.send_message = function (type, properties) {\n    properties['type'] = type;\n    properties['figure_id'] = this.id;\n    this.ws.send(JSON.stringify(properties));\n};\n\nmpl.figure.prototype.send_draw_message = function () {\n    if (!this.waiting) {\n        this.waiting = true;\n        this.ws.send(JSON.stringify({ type: 'draw', figure_id: this.id }));\n    }\n};\n\nmpl.figure.prototype.handle_save = function (fig, _msg) {\n    var format_dropdown = fig.format_dropdown;\n    var format = format_dropdown.options[format_dropdown.selectedIndex].value;\n    fig.ondownload(fig, format);\n};\n\nmpl.figure.prototype.handle_resize = function (fig, msg) {\n    var size = msg['size'];\n    if (size[0] !== fig.canvas.width || size[1] !== fig.canvas.height) {\n        fig._resize_canvas(size[0], size[1], msg['forward']);\n        fig.send_message('refresh', {});\n    }\n};\n\nmpl.figure.prototype.handle_rubberband = function (fig, msg) {\n    var x0 = msg['x0'] / fig.ratio;\n    var y0 = (fig.canvas.height - msg['y0']) / fig.ratio;\n    var x1 = msg['x1'] / fig.ratio;\n    var y1 = (fig.canvas.height - msg['y1']) / fig.ratio;\n    x0 = Math.floor(x0) + 0.5;\n    y0 = Math.floor(y0) + 0.5;\n    x1 = Math.floor(x1) + 0.5;\n    y1 = Math.floor(y1) + 0.5;\n    var min_x = Math.min(x0, x1);\n    var min_y = Math.min(y0, y1);\n    var width = Math.abs(x1 - x0);\n    var height = Math.abs(y1 - y0);\n\n    fig.rubberband_context.clearRect(\n        0,\n        0,\n        fig.canvas.width / fig.ratio,\n        fig.canvas.height / fig.ratio\n    );\n\n    fig.rubberband_context.strokeRect(min_x, min_y, width, height);\n};\n\nmpl.figure.prototype.handle_figure_label = function (fig, msg) {\n    // Updates the figure title.\n    fig.header.textContent = msg['label'];\n};\n\nmpl.figure.prototype.handle_cursor = function (fig, msg) {\n    fig.rubberband_canvas.style.cursor = msg['cursor'];\n};\n\nmpl.figure.prototype.handle_message = function (fig, msg) {\n    fig.message.textContent = msg['message'];\n};\n\nmpl.figure.prototype.handle_draw = function (fig, _msg) {\n    // Request the server to send over a new figure.\n    fig.send_draw_message();\n};\n\nmpl.figure.prototype.handle_image_mode = function (fig, msg) {\n    fig.image_mode = msg['mode'];\n};\n\nmpl.figure.prototype.handle_history_buttons = function (fig, msg) {\n    for (var key in msg) {\n        if (!(key in fig.buttons)) {\n            continue;\n        }\n        fig.buttons[key].disabled = !msg[key];\n        fig.buttons[key].setAttribute('aria-disabled', !msg[key]);\n    }\n};\n\nmpl.figure.prototype.handle_navigate_mode = function (fig, msg) {\n    if (msg['mode'] === 'PAN') {\n        fig.buttons['Pan'].classList.add('active');\n        fig.buttons['Zoom'].classList.remove('active');\n    } else if (msg['mode'] === 'ZOOM') {\n        fig.buttons['Pan'].classList.remove('active');\n        fig.buttons['Zoom'].classList.add('active');\n    } else {\n        fig.buttons['Pan'].classList.remove('active');\n        fig.buttons['Zoom'].classList.remove('active');\n    }\n};\n\nmpl.figure.prototype.updated_canvas_event = function () {\n    // Called whenever the canvas gets updated.\n    this.send_message('ack', {});\n};\n\n// A function to construct a web socket function for onmessage handling.\n// Called in the figure constructor.\nmpl.figure.prototype._make_on_message_function = function (fig) {\n    return function socket_on_message(evt) {\n        if (evt.data instanceof Blob) {\n            var img = evt.data;\n            if (img.type !== 'image/png') {\n                /* FIXME: We get \"Resource interpreted as Image but\n                 * transferred with MIME type text/plain:\" errors on\n                 * Chrome.  But how to set the MIME type?  It doesn't seem\n                 * to be part of the websocket stream */\n                img.type = 'image/png';\n            }\n\n            /* Free the memory for the previous frames */\n            if (fig.imageObj.src) {\n                (window.URL || window.webkitURL).revokeObjectURL(\n                    fig.imageObj.src\n                );\n            }\n\n            fig.imageObj.src = (window.URL || window.webkitURL).createObjectURL(\n                img\n            );\n            fig.updated_canvas_event();\n            fig.waiting = false;\n            return;\n        } else if (\n            typeof evt.data === 'string' &&\n            evt.data.slice(0, 21) === 'data:image/png;base64'\n        ) {\n            fig.imageObj.src = evt.data;\n            fig.updated_canvas_event();\n            fig.waiting = false;\n            return;\n        }\n\n        var msg = JSON.parse(evt.data);\n        var msg_type = msg['type'];\n\n        // Call the  \"handle_{type}\" callback, which takes\n        // the figure and JSON message as its only arguments.\n        try {\n            var callback = fig['handle_' + msg_type];\n        } catch (e) {\n            console.log(\n                \"No handler for the '\" + msg_type + \"' message type: \",\n                msg\n            );\n            return;\n        }\n\n        if (callback) {\n            try {\n                // console.log(\"Handling '\" + msg_type + \"' message: \", msg);\n                callback(fig, msg);\n            } catch (e) {\n                console.log(\n                    \"Exception inside the 'handler_\" + msg_type + \"' callback:\",\n                    e,\n                    e.stack,\n                    msg\n                );\n            }\n        }\n    };\n};\n\n// from https://stackoverflow.com/questions/1114465/getting-mouse-location-in-canvas\nmpl.findpos = function (e) {\n    //this section is from http://www.quirksmode.org/js/events_properties.html\n    var targ;\n    if (!e) {\n        e = window.event;\n    }\n    if (e.target) {\n        targ = e.target;\n    } else if (e.srcElement) {\n        targ = e.srcElement;\n    }\n    if (targ.nodeType === 3) {\n        // defeat Safari bug\n        targ = targ.parentNode;\n    }\n\n    // pageX,Y are the mouse positions relative to the document\n    var boundingRect = targ.getBoundingClientRect();\n    var x = e.pageX - (boundingRect.left + document.body.scrollLeft);\n    var y = e.pageY - (boundingRect.top + document.body.scrollTop);\n\n    return { x: x, y: y };\n};\n\n/*\n * return a copy of an object with only non-object keys\n * we need this to avoid circular references\n * https://stackoverflow.com/a/24161582/3208463\n */\nfunction simpleKeys(original) {\n    return Object.keys(original).reduce(function (obj, key) {\n        if (typeof original[key] !== 'object') {\n            obj[key] = original[key];\n        }\n        return obj;\n    }, {});\n}\n\nmpl.figure.prototype.mouse_event = function (event, name) {\n    var canvas_pos = mpl.findpos(event);\n\n    if (name === 'button_press') {\n        this.canvas.focus();\n        this.canvas_div.focus();\n    }\n\n    var x = canvas_pos.x * this.ratio;\n    var y = canvas_pos.y * this.ratio;\n\n    this.send_message(name, {\n        x: x,\n        y: y,\n        button: event.button,\n        step: event.step,\n        guiEvent: simpleKeys(event),\n    });\n\n    /* This prevents the web browser from automatically changing to\n     * the text insertion cursor when the button is pressed.  We want\n     * to control all of the cursor setting manually through the\n     * 'cursor' event from matplotlib */\n    event.preventDefault();\n    return false;\n};\n\nmpl.figure.prototype._key_event_extra = function (_event, _name) {\n    // Handle any extra behaviour associated with a key event\n};\n\nmpl.figure.prototype.key_event = function (event, name) {\n    // Prevent repeat events\n    if (name === 'key_press') {\n        if (event.key === this._key) {\n            return;\n        } else {\n            this._key = event.key;\n        }\n    }\n    if (name === 'key_release') {\n        this._key = null;\n    }\n\n    var value = '';\n    if (event.ctrlKey && event.key !== 'Control') {\n        value += 'ctrl+';\n    }\n    else if (event.altKey && event.key !== 'Alt') {\n        value += 'alt+';\n    }\n    else if (event.shiftKey && event.key !== 'Shift') {\n        value += 'shift+';\n    }\n\n    value += 'k' + event.key;\n\n    this._key_event_extra(event, name);\n\n    this.send_message(name, { key: value, guiEvent: simpleKeys(event) });\n    return false;\n};\n\nmpl.figure.prototype.toolbar_button_onclick = function (name) {\n    if (name === 'download') {\n        this.handle_save(this, null);\n    } else {\n        this.send_message('toolbar_button', { name: name });\n    }\n};\n\nmpl.figure.prototype.toolbar_button_onmouseover = function (tooltip) {\n    this.message.textContent = tooltip;\n};\n\n///////////////// REMAINING CONTENT GENERATED BY embed_js.py /////////////////\n// prettier-ignore\nvar _JSXTOOLS_RESIZE_OBSERVER=function(A){var t,i=new WeakMap,n=new WeakMap,a=new WeakMap,r=new WeakMap,o=new Set;function s(e){if(!(this instanceof s))throw new TypeError(\"Constructor requires 'new' operator\");i.set(this,e)}function h(){throw new TypeError(\"Function is not a constructor\")}function c(e,t,i,n){e=0 in arguments?Number(arguments[0]):0,t=1 in arguments?Number(arguments[1]):0,i=2 in arguments?Number(arguments[2]):0,n=3 in arguments?Number(arguments[3]):0,this.right=(this.x=this.left=e)+(this.width=i),this.bottom=(this.y=this.top=t)+(this.height=n),Object.freeze(this)}function d(){t=requestAnimationFrame(d);var s=new WeakMap,p=new Set;o.forEach((function(t){r.get(t).forEach((function(i){var r=t instanceof window.SVGElement,o=a.get(t),d=r?0:parseFloat(o.paddingTop),f=r?0:parseFloat(o.paddingRight),l=r?0:parseFloat(o.paddingBottom),u=r?0:parseFloat(o.paddingLeft),g=r?0:parseFloat(o.borderTopWidth),m=r?0:parseFloat(o.borderRightWidth),w=r?0:parseFloat(o.borderBottomWidth),b=u+f,F=d+l,v=(r?0:parseFloat(o.borderLeftWidth))+m,W=g+w,y=r?0:t.offsetHeight-W-t.clientHeight,E=r?0:t.offsetWidth-v-t.clientWidth,R=b+v,z=F+W,M=r?t.width:parseFloat(o.width)-R-E,O=r?t.height:parseFloat(o.height)-z-y;if(n.has(t)){var k=n.get(t);if(k[0]===M&&k[1]===O)return}n.set(t,[M,O]);var S=Object.create(h.prototype);S.target=t,S.contentRect=new c(u,d,M,O),s.has(i)||(s.set(i,[]),p.add(i)),s.get(i).push(S)}))})),p.forEach((function(e){i.get(e).call(e,s.get(e),e)}))}return s.prototype.observe=function(i){if(i instanceof window.Element){r.has(i)||(r.set(i,new Set),o.add(i),a.set(i,window.getComputedStyle(i)));var n=r.get(i);n.has(this)||n.add(this),cancelAnimationFrame(t),t=requestAnimationFrame(d)}},s.prototype.unobserve=function(i){if(i instanceof window.Element&&r.has(i)){var n=r.get(i);n.has(this)&&(n.delete(this),n.size||(r.delete(i),o.delete(i))),n.size||r.delete(i),o.size||cancelAnimationFrame(t)}},A.DOMRectReadOnly=c,A.ResizeObserver=s,A.ResizeObserverEntry=h,A}; // eslint-disable-line\nmpl.toolbar_items = [[\"Home\", \"Reset original view\", \"fa fa-home icon-home\", \"home\"], [\"Back\", \"Back to previous view\", \"fa fa-arrow-left icon-arrow-left\", \"back\"], [\"Forward\", \"Forward to next view\", \"fa fa-arrow-right icon-arrow-right\", \"forward\"], [\"\", \"\", \"\", \"\"], [\"Pan\", \"Left button pans, Right button zooms\\nx/y fixes axis, CTRL fixes aspect\", \"fa fa-arrows icon-move\", \"pan\"], [\"Zoom\", \"Zoom to rectangle\\nx/y fixes axis\", \"fa fa-square-o icon-check-empty\", \"zoom\"], [\"\", \"\", \"\", \"\"], [\"Download\", \"Download plot\", \"fa fa-floppy-o icon-save\", \"download\"]];\n\nmpl.extensions = [\"eps\", \"jpeg\", \"pgf\", \"pdf\", \"png\", \"ps\", \"raw\", \"svg\", \"tif\"];\n\nmpl.default_extension = \"png\";/* global mpl */\n\nvar comm_websocket_adapter = function (comm) {\n    // Create a \"websocket\"-like object which calls the given IPython comm\n    // object with the appropriate methods. Currently this is a non binary\n    // socket, so there is still some room for performance tuning.\n    var ws = {};\n\n    ws.binaryType = comm.kernel.ws.binaryType;\n    ws.readyState = comm.kernel.ws.readyState;\n    function updateReadyState(_event) {\n        if (comm.kernel.ws) {\n            ws.readyState = comm.kernel.ws.readyState;\n        } else {\n            ws.readyState = 3; // Closed state.\n        }\n    }\n    comm.kernel.ws.addEventListener('open', updateReadyState);\n    comm.kernel.ws.addEventListener('close', updateReadyState);\n    comm.kernel.ws.addEventListener('error', updateReadyState);\n\n    ws.close = function () {\n        comm.close();\n    };\n    ws.send = function (m) {\n        //console.log('sending', m);\n        comm.send(m);\n    };\n    // Register the callback with on_msg.\n    comm.on_msg(function (msg) {\n        //console.log('receiving', msg['content']['data'], msg);\n        var data = msg['content']['data'];\n        if (data['blob'] !== undefined) {\n            data = {\n                data: new Blob(msg['buffers'], { type: data['blob'] }),\n            };\n        }\n        // Pass the mpl event to the overridden (by mpl) onmessage function.\n        ws.onmessage(data);\n    });\n    return ws;\n};\n\nmpl.mpl_figure_comm = function (comm, msg) {\n    // This is the function which gets called when the mpl process\n    // starts-up an IPython Comm through the \"matplotlib\" channel.\n\n    var id = msg.content.data.id;\n    // Get hold of the div created by the display call when the Comm\n    // socket was opened in Python.\n    var element = document.getElementById(id);\n    var ws_proxy = comm_websocket_adapter(comm);\n\n    function ondownload(figure, _format) {\n        window.open(figure.canvas.toDataURL());\n    }\n\n    var fig = new mpl.figure(id, ws_proxy, ondownload, element);\n\n    // Call onopen now - mpl needs it, as it is assuming we've passed it a real\n    // web socket which is closed, not our websocket->open comm proxy.\n    ws_proxy.onopen();\n\n    fig.parent_element = element;\n    fig.cell_info = mpl.find_output_cell(\"<div id='\" + id + \"'></div>\");\n    if (!fig.cell_info) {\n        console.error('Failed to find cell for figure', id, fig);\n        return;\n    }\n    fig.cell_info[0].output_area.element.on(\n        'cleared',\n        { fig: fig },\n        fig._remove_fig_handler\n    );\n};\n\nmpl.figure.prototype.handle_close = function (fig, msg) {\n    var width = fig.canvas.width / fig.ratio;\n    fig.cell_info[0].output_area.element.off(\n        'cleared',\n        fig._remove_fig_handler\n    );\n    fig.resizeObserverInstance.unobserve(fig.canvas_div);\n\n    // Update the output cell to use the data from the current canvas.\n    fig.push_to_output();\n    var dataURL = fig.canvas.toDataURL();\n    // Re-enable the keyboard manager in IPython - without this line, in FF,\n    // the notebook keyboard shortcuts fail.\n    IPython.keyboard_manager.enable();\n    fig.parent_element.innerHTML =\n        '<img src=\"' + dataURL + '\" width=\"' + width + '\">';\n    fig.close_ws(fig, msg);\n};\n\nmpl.figure.prototype.close_ws = function (fig, msg) {\n    fig.send_message('closing', msg);\n    // fig.ws.close()\n};\n\nmpl.figure.prototype.push_to_output = function (_remove_interactive) {\n    // Turn the data on the canvas into data in the output cell.\n    var width = this.canvas.width / this.ratio;\n    var dataURL = this.canvas.toDataURL();\n    this.cell_info[1]['text/html'] =\n        '<img src=\"' + dataURL + '\" width=\"' + width + '\">';\n};\n\nmpl.figure.prototype.updated_canvas_event = function () {\n    // Tell IPython that the notebook contents must change.\n    IPython.notebook.set_dirty(true);\n    this.send_message('ack', {});\n    var fig = this;\n    // Wait a second, then push the new image to the DOM so\n    // that it is saved nicely (might be nice to debounce this).\n    setTimeout(function () {\n        fig.push_to_output();\n    }, 1000);\n};\n\nmpl.figure.prototype._init_toolbar = function () {\n    var fig = this;\n\n    var toolbar = document.createElement('div');\n    toolbar.classList = 'btn-toolbar';\n    this.root.appendChild(toolbar);\n\n    function on_click_closure(name) {\n        return function (_event) {\n            return fig.toolbar_button_onclick(name);\n        };\n    }\n\n    function on_mouseover_closure(tooltip) {\n        return function (event) {\n            if (!event.currentTarget.disabled) {\n                return fig.toolbar_button_onmouseover(tooltip);\n            }\n        };\n    }\n\n    fig.buttons = {};\n    var buttonGroup = document.createElement('div');\n    buttonGroup.classList = 'btn-group';\n    var button;\n    for (var toolbar_ind in mpl.toolbar_items) {\n        var name = mpl.toolbar_items[toolbar_ind][0];\n        var tooltip = mpl.toolbar_items[toolbar_ind][1];\n        var image = mpl.toolbar_items[toolbar_ind][2];\n        var method_name = mpl.toolbar_items[toolbar_ind][3];\n\n        if (!name) {\n            /* Instead of a spacer, we start a new button group. */\n            if (buttonGroup.hasChildNodes()) {\n                toolbar.appendChild(buttonGroup);\n            }\n            buttonGroup = document.createElement('div');\n            buttonGroup.classList = 'btn-group';\n            continue;\n        }\n\n        button = fig.buttons[name] = document.createElement('button');\n        button.classList = 'btn btn-default';\n        button.href = '#';\n        button.title = name;\n        button.innerHTML = '<i class=\"fa ' + image + ' fa-lg\"></i>';\n        button.addEventListener('click', on_click_closure(method_name));\n        button.addEventListener('mouseover', on_mouseover_closure(tooltip));\n        buttonGroup.appendChild(button);\n    }\n\n    if (buttonGroup.hasChildNodes()) {\n        toolbar.appendChild(buttonGroup);\n    }\n\n    // Add the status bar.\n    var status_bar = document.createElement('span');\n    status_bar.classList = 'mpl-message pull-right';\n    toolbar.appendChild(status_bar);\n    this.message = status_bar;\n\n    // Add the close button to the window.\n    var buttongrp = document.createElement('div');\n    buttongrp.classList = 'btn-group inline pull-right';\n    button = document.createElement('button');\n    button.classList = 'btn btn-mini btn-primary';\n    button.href = '#';\n    button.title = 'Stop Interaction';\n    button.innerHTML = '<i class=\"fa fa-power-off icon-remove icon-large\"></i>';\n    button.addEventListener('click', function (_evt) {\n        fig.handle_close(fig, {});\n    });\n    button.addEventListener(\n        'mouseover',\n        on_mouseover_closure('Stop Interaction')\n    );\n    buttongrp.appendChild(button);\n    var titlebar = this.root.querySelector('.ui-dialog-titlebar');\n    titlebar.insertBefore(buttongrp, titlebar.firstChild);\n};\n\nmpl.figure.prototype._remove_fig_handler = function (event) {\n    var fig = event.data.fig;\n    if (event.target !== this) {\n        // Ignore bubbled events from children.\n        return;\n    }\n    fig.close_ws(fig, {});\n};\n\nmpl.figure.prototype._root_extra_style = function (el) {\n    el.style.boxSizing = 'content-box'; // override notebook setting of border-box.\n};\n\nmpl.figure.prototype._canvas_extra_style = function (el) {\n    // this is important to make the div 'focusable\n    el.setAttribute('tabindex', 0);\n    // reach out to IPython and tell the keyboard manager to turn it's self\n    // off when our div gets focus\n\n    // location in version 3\n    if (IPython.notebook.keyboard_manager) {\n        IPython.notebook.keyboard_manager.register_events(el);\n    } else {\n        // location in version 2\n        IPython.keyboard_manager.register_events(el);\n    }\n};\n\nmpl.figure.prototype._key_event_extra = function (event, _name) {\n    // Check for shift+enter\n    if (event.shiftKey && event.which === 13) {\n        this.canvas_div.blur();\n        // select the cell after this one\n        var index = IPython.notebook.find_cell_index(this.cell_info[0]);\n        IPython.notebook.select(index + 1);\n    }\n};\n\nmpl.figure.prototype.handle_save = function (fig, _msg) {\n    fig.ondownload(fig, null);\n};\n\nmpl.find_output_cell = function (html_output) {\n    // Return the cell and output element which can be found *uniquely* in the notebook.\n    // Note - this is a bit hacky, but it is done because the \"notebook_saving.Notebook\"\n    // IPython event is triggered only after the cells have been serialised, which for\n    // our purposes (turning an active figure into a static one), is too late.\n    var cells = IPython.notebook.get_cells();\n    var ncells = cells.length;\n    for (var i = 0; i < ncells; i++) {\n        var cell = cells[i];\n        if (cell.cell_type === 'code') {\n            for (var j = 0; j < cell.output_area.outputs.length; j++) {\n                var data = cell.output_area.outputs[j];\n                if (data.data) {\n                    // IPython >= 3 moved mimebundle to data attribute of output\n                    data = data.data;\n                }\n                if (data['text/html'] === html_output) {\n                    return [cell, data, j];\n                }\n            }\n        }\n    }\n};\n\n// Register the function which deals with the matplotlib target/channel.\n// The kernel may be null if the page has been refreshed.\nif (IPython.notebook.kernel !== null) {\n    IPython.notebook.kernel.comm_manager.register_target(\n        'matplotlib',\n        mpl.mpl_figure_comm\n    );\n}\n",
          "text/plain": "<IPython.core.display.Javascript object>"
         },
         "metadata": {},
         "output_type": "display_data"
        },
        {
         "data": {
          "text/html": "<div id='42e34155-e9f4-4b41-b09f-f36456effac9'></div>",
          "text/plain": "<IPython.core.display.HTML object>"
         },
         "metadata": {},
         "output_type": "display_data"
        }
       ]
      }
     },
     "336aa49d3b7242d08ce5ef9dbb41f346": {
      "model_module": "@jupyter-widgets/controls",
      "model_module_version": "1.5.0",
      "model_name": "LabelModel",
      "state": {
       "layout": "IPY_MODEL_d6deb138b2244dcfb0dac1300a17ca9f",
       "style": "IPY_MODEL_90f37c4215774adc98de9554901807b2",
       "value": "Click to confirm selection"
      }
     },
     "344f497d55724436a53fa21a275982a1": {
      "model_module": "@jupyter-widgets/base",
      "model_module_version": "1.2.0",
      "model_name": "LayoutModel",
      "state": {}
     },
     "345da5b619ed421baa179a6d05539fc4": {
      "model_module": "@jupyter-widgets/controls",
      "model_module_version": "1.5.0",
      "model_name": "ButtonModel",
      "state": {
       "description": "Save",
       "layout": "IPY_MODEL_1427aeed359444c49c5411f1172164af",
       "style": "IPY_MODEL_2ea63190d5b44eb280d9cf6bd5f3c071"
      }
     },
     "347c6d1618064fc098b2a574278fd187": {
      "model_module": "@jupyter-widgets/controls",
      "model_module_version": "1.5.0",
      "model_name": "LabelModel",
      "state": {
       "layout": "IPY_MODEL_b2b604b7324b42009fa3eaef300ace04",
       "style": "IPY_MODEL_0b9a9e17915f4908a442d09b01bd86bc",
       "value": "Separator type"
      }
     },
     "347cebfdc4f54773b4b0f8e128e01c77": {
      "model_module": "@jupyter-widgets/base",
      "model_module_version": "1.2.0",
      "model_name": "LayoutModel",
      "state": {}
     },
     "3483cd6a2bba4102bb4b1f5635b3c8ae": {
      "model_module": "@jupyter-widgets/controls",
      "model_module_version": "1.5.0",
      "model_name": "ButtonModel",
      "state": {
       "description": "Add new host",
       "layout": "IPY_MODEL_915329941bcc4c74a997d91251e0d430",
       "style": "IPY_MODEL_a6dd06aa1552410b8754953dced9aee0"
      }
     },
     "34bf5fa40c954b0096c3693d1f9b0f39": {
      "model_module": "@jupyter-widgets/controls",
      "model_module_version": "1.5.0",
      "model_name": "HBoxModel",
      "state": {
       "children": [
        "IPY_MODEL_a3d996af06cd4fcaac32616b661771aa",
        "IPY_MODEL_ad6573e64b194269af0e2937e4f038c6"
       ],
       "layout": "IPY_MODEL_e4d558ca04344298848062ad6f1fa467"
      }
     },
     "34d4f8101ef344629b821ac1c49264af": {
      "model_module": "@jupyter-widgets/controls",
      "model_module_version": "1.5.0",
      "model_name": "HBoxModel",
      "state": {
       "children": [
        "IPY_MODEL_3c5bcb9f7a4242cf955f459a98b42931",
        "IPY_MODEL_5cb2c42256a84289a865b23966b85bc1"
       ],
       "layout": "IPY_MODEL_764212eb616d479194ddcd5afa892db8"
      }
     },
     "352988f9700d4c8384ba78652b1b1ef1": {
      "model_module": "@jupyter-widgets/base",
      "model_module_version": "1.2.0",
      "model_name": "LayoutModel",
      "state": {}
     },
     "352cb6eaf4ea486584093276bd036bc6": {
      "model_module": "@jupyter-widgets/controls",
      "model_module_version": "1.5.0",
      "model_name": "LabelModel",
      "state": {
       "layout": "IPY_MODEL_031aee71add7402ca59f7cbdceb46869",
       "style": "IPY_MODEL_0e2059409fa847ec915434b8ef87eafe",
       "value": "Cell type"
      }
     },
     "353f4811cf6349c29104b5db3d8f3a06": {
      "model_module": "@jupyter-widgets/base",
      "model_module_version": "1.2.0",
      "model_name": "LayoutModel",
      "state": {}
     },
     "3544b4a741ff4d649bc1faf248083cde": {
      "model_module": "@jupyter-widgets/controls",
      "model_module_version": "1.5.0",
      "model_name": "DescriptionStyleModel",
      "state": {
       "description_width": ""
      }
     },
     "358ac1ba602940a58f6918481761efb8": {
      "model_module": "@jupyter-widgets/base",
      "model_module_version": "1.2.0",
      "model_name": "LayoutModel",
      "state": {}
     },
     "35906d6293eb4f29a21e00a35e80dc09": {
      "model_module": "@jupyter-widgets/controls",
      "model_module_version": "1.5.0",
      "model_name": "ButtonModel",
      "state": {
       "description": "Remove last line",
       "layout": "IPY_MODEL_f4dfadba94714e3796f80e97abd68542",
       "style": "IPY_MODEL_f25bc39486514c5cb4990cf88eeac4ab"
      }
     },
     "35fac1495fa14df1af2c7526517395ea": {
      "model_module": "@jupyter-widgets/controls",
      "model_module_version": "1.5.0",
      "model_name": "ButtonModel",
      "state": {
       "description": "Save",
       "layout": "IPY_MODEL_7b80aa07ab7e4fd495553797b9ebea20",
       "style": "IPY_MODEL_166d1b9bf1e54c51ab7516e8c8c66aa8"
      }
     },
     "36868e517ebb4cf79fe6e37cc17a64bb": {
      "model_module": "@jupyter-widgets/controls",
      "model_module_version": "1.5.0",
      "model_name": "HBoxModel",
      "state": {
       "children": [
        "IPY_MODEL_a9a58f321a0946cc86fead1c1b474b97",
        "IPY_MODEL_3e4537847ea4489ca40e3a488f33a2bf"
       ],
       "layout": "IPY_MODEL_731837c4e57a481596719b96eb00f260"
      }
     },
     "36a9107ee6504e6baa886729d244145d": {
      "model_module": "@jupyter-widgets/controls",
      "model_module_version": "1.5.0",
      "model_name": "TextModel",
      "state": {
       "layout": "IPY_MODEL_4fb9f705cc4e4a0cbf6a4c24e814f526",
       "style": "IPY_MODEL_4944eef445b6498eb92473b0fd84d861",
       "value": "LiTFSI"
      }
     },
     "36f33b32cf0c4db388b66af2ef6d6037": {
      "model_module": "@jupyter-widgets/controls",
      "model_module_version": "1.5.0",
      "model_name": "DescriptionStyleModel",
      "state": {
       "description_width": ""
      }
     },
     "37983a25de5f4fd5bca1d6bdba4bb092": {
      "model_module": "@jupyter-widgets/controls",
      "model_module_version": "1.5.0",
      "model_name": "HBoxModel",
      "state": {
       "children": [
        "IPY_MODEL_1349839680cb4a8cadf76e8b04ce47db",
        "IPY_MODEL_acae9dc7665e42048dca3575b773660e",
        "IPY_MODEL_d19dade6d8614c81a9a578480513a84c"
       ],
       "layout": "IPY_MODEL_ee659d68c79d4992b07c21ef9d1aca40"
      }
     },
     "37d4a260ed924fefa967f78eadd4dee3": {
      "model_module": "@jupyter-widgets/controls",
      "model_module_version": "1.5.0",
      "model_name": "HBoxModel",
      "state": {
       "children": [
        "IPY_MODEL_d0665495374b4ecd96924a5e35cc6785",
        "IPY_MODEL_227f0c1d15fd40ad99b056d9918cc47b",
        "IPY_MODEL_2e12f71fddba48f0a681082f6a7b4f92"
       ],
       "layout": "IPY_MODEL_2c13e2141d4e4464b2ec7d3c0f665a19"
      }
     },
     "37d8afcc4ee144e49ab99c11e6edb1f2": {
      "model_module": "@jupyter-widgets/controls",
      "model_module_version": "1.5.0",
      "model_name": "DescriptionStyleModel",
      "state": {
       "description_width": ""
      }
     },
     "37d8cbd197224bb7a0c98af590618019": {
      "model_module": "@jupyter-widgets/controls",
      "model_module_version": "1.5.0",
      "model_name": "HBoxModel",
      "state": {
       "children": [
        "IPY_MODEL_85ba01f295ce450e9aa350253b7c4910",
        "IPY_MODEL_2f61f79dd5e24f93972f0ba95cbc8248"
       ],
       "layout": "IPY_MODEL_0e224b92fb0e46ac8b4afb44dd7b7e96"
      }
     },
     "37f7ab186fa74f248637571141c8b974": {
      "model_module": "@jupyter-widgets/controls",
      "model_module_version": "1.5.0",
      "model_name": "HBoxModel",
      "state": {
       "children": [
        "IPY_MODEL_ffdf232490ee474dba07c8a421780b02",
        "IPY_MODEL_5842ecfdc3ac467abba11011054d9ca1",
        "IPY_MODEL_acefac6ea2e24b7d83dfdb2f1f019910",
        "IPY_MODEL_d1d67857522b469cbdf7dbc053a2cc8c"
       ],
       "layout": "IPY_MODEL_f61610d213214f7292bec39952492fca"
      }
     },
     "37fcce5e6fe94cf4bf93dc98e3fb442c": {
      "model_module": "@jupyter-widgets/controls",
      "model_module_version": "1.5.0",
      "model_name": "AccordionModel",
      "state": {
       "_titles": {
        "0": "Host 1"
       },
       "children": [
        "IPY_MODEL_9ab98c40a0c54775883cd13dfa9d756d"
       ],
       "layout": "IPY_MODEL_a9b6747cb95048059ce1915f0c244886"
      }
     },
     "387681b338c14b31b3d83714bb4a1c6d": {
      "model_module": "@jupyter-widgets/controls",
      "model_module_version": "1.5.0",
      "model_name": "DescriptionStyleModel",
      "state": {
       "description_width": ""
      }
     },
     "38b4cef7302a42cf908a1badd72cee78": {
      "model_module": "@jupyter-widgets/controls",
      "model_module_version": "1.5.0",
      "model_name": "ButtonStyleModel",
      "state": {}
     },
     "38c9f28f76a845a0b479c7b8fbbbbf9b": {
      "model_module": "@jupyter-widgets/controls",
      "model_module_version": "1.5.0",
      "model_name": "CheckboxModel",
      "state": {
       "description": "M",
       "disabled": false,
       "layout": "IPY_MODEL_f40a2c4d797d4cec9b7f5705bbdbed87",
       "style": "IPY_MODEL_ac5fb50ce4464fb29cd0f744b85569b1",
       "value": true
      }
     },
     "38d261e3443a46b5bdb8e682e01d7e07": {
      "model_module": "@jupyter-widgets/base",
      "model_module_version": "1.2.0",
      "model_name": "LayoutModel",
      "state": {}
     },
     "3908e6df19fa479a9c3c89a8d7a568dd": {
      "model_module": "@jupyter-widgets/controls",
      "model_module_version": "1.5.0",
      "model_name": "CheckboxModel",
      "state": {
       "description": "Common",
       "disabled": false,
       "indent": false,
       "layout": "IPY_MODEL_c347b2da8709416e99c909f5822c0123",
       "style": "IPY_MODEL_6e6327b2e29d4be5ae1be5fff42a5cad",
       "value": false
      }
     },
     "390c6d25a7154628ba70d6f7adafdd3e": {
      "model_module": "@jupyter-widgets/controls",
      "model_module_version": "1.5.0",
      "model_name": "HBoxModel",
      "state": {
       "children": [
        "IPY_MODEL_f86db24ecec34f03bebe5aa2e4f90df4",
        "IPY_MODEL_1842b5d683184869b2c354ad551b3371"
       ],
       "layout": "IPY_MODEL_f28170eacc94437ba27ac3abb6059222"
      }
     },
     "39aa4a94843f4305b80d81a056ca5873": {
      "model_module": "@jupyter-widgets/base",
      "model_module_version": "1.2.0",
      "model_name": "LayoutModel",
      "state": {
       "width": "15%"
      }
     },
     "39ad0c2a71484bae8b72c9a3b7670f0a": {
      "model_module": "@jupyter-widgets/controls",
      "model_module_version": "1.5.0",
      "model_name": "LabelModel",
      "state": {
       "layout": "IPY_MODEL_6083efe3c69a4012b19e387c5d87cce0",
       "style": "IPY_MODEL_247a6ccf93024a3cb512a43637259581",
       "value": "Electrolyte volume (uL)"
      }
     },
     "3a7812e1b86a4d0cb9cdb0220e849ea2": {
      "model_module": "@jupyter-widgets/base",
      "model_module_version": "1.2.0",
      "model_name": "LayoutModel",
      "state": {}
     },
     "3a7b6e69dfcf4070afc7dca191a67365": {
      "model_module": "@jupyter-widgets/controls",
      "model_module_version": "1.5.0",
      "model_name": "LabelModel",
      "state": {
       "layout": "IPY_MODEL_0df9987234d949d3a653e70b86abc939",
       "style": "IPY_MODEL_abcaf5960e094d78a177862e7a069993",
       "value": "First author"
      }
     },
     "3af3fb841c3b4ba3acf0e317ecd0031e": {
      "model_module": "@jupyter-widgets/base",
      "model_module_version": "1.2.0",
      "model_name": "LayoutModel",
      "state": {}
     },
     "3b3e9c219919405296957ea0da81d4c6": {
      "model_module": "@jupyter-widgets/controls",
      "model_module_version": "1.5.0",
      "model_name": "DescriptionStyleModel",
      "state": {
       "description_width": ""
      }
     },
     "3b657731249b429399847a168d6dc814": {
      "model_module": "@jupyter-widgets/base",
      "model_module_version": "1.2.0",
      "model_name": "LayoutModel",
      "state": {}
     },
     "3b75b3c81c104871a9968f2ab102aec0": {
      "model_module": "@jupyter-widgets/base",
      "model_module_version": "1.2.0",
      "model_name": "LayoutModel",
      "state": {}
     },
     "3bbb1d80f78f42c2b25b08499885e2dd": {
      "model_module": "@jupyter-widgets/controls",
      "model_module_version": "1.5.0",
      "model_name": "LabelModel",
      "state": {
       "layout": "IPY_MODEL_effe09f8bc7547e485e4d0447b61829c",
       "style": "IPY_MODEL_cdcc7828092d42c188578117191f00b6",
       "value": "Pore volume"
      }
     },
     "3be7fb8bfb5b4ceca86f422844f38f05": {
      "model_module": "@jupyter-widgets/base",
      "model_module_version": "1.2.0",
      "model_name": "LayoutModel",
      "state": {}
     },
     "3bf37311c1d14eceb7c623939f403599": {
      "model_module": "@jupyter-widgets/base",
      "model_module_version": "1.2.0",
      "model_name": "LayoutModel",
      "state": {}
     },
     "3c06f027eddc43f2814251aa6fd358bf": {
      "model_module": "@jupyter-widgets/controls",
      "model_module_version": "1.5.0",
      "model_name": "VBoxModel",
      "state": {
       "children": [
        "IPY_MODEL_22e1ad47e34249c88da4eb8d992bc6e1",
        "IPY_MODEL_eb5107c47afc44568f4cad2fbeca94f0",
        "IPY_MODEL_2984ff65d94144228a453c0a21e564ab",
        "IPY_MODEL_5d8287f0f5e04250aa6c85c3a48bc793",
        "IPY_MODEL_e4d6cbbfdf6c46029b63afcd62b71a34",
        "IPY_MODEL_c9a7a84d5c084a8e84623927cd358055",
        "IPY_MODEL_b853c15d49944b1daf94c08561e0ab7a",
        "IPY_MODEL_977c933cc4134c6fb7b1646af3157a00",
        "IPY_MODEL_13e588edf60e403c8bce5f850c515866",
        "IPY_MODEL_8cbb436be986452d97ee518bca91d696",
        "IPY_MODEL_dbccefbabcfb452f992a9b0494957acb"
       ],
       "layout": "IPY_MODEL_b4361b194b264ab29e1df70a7fd73fa9"
      }
     },
     "3c5bcb9f7a4242cf955f459a98b42931": {
      "model_module": "@jupyter-widgets/controls",
      "model_module_version": "1.5.0",
      "model_name": "LabelModel",
      "state": {
       "layout": "IPY_MODEL_a6ffa2a4651845748ad339aee7eb63e7",
       "style": "IPY_MODEL_57645eaf74144d78b1681049978ec608",
       "value": "LiSTAR affiliated"
      }
     },
     "3d25e0237fa646fbb450cc5ef187398b": {
      "model_module": "@jupyter-widgets/base",
      "model_module_version": "1.2.0",
      "model_name": "LayoutModel",
      "state": {}
     },
     "3d40327c1af24b139b3e987a9a91239f": {
      "model_module": "@jupyter-widgets/base",
      "model_module_version": "1.2.0",
      "model_name": "LayoutModel",
      "state": {}
     },
     "3d841cdf344243afa59a1d0cfff43404": {
      "model_module": "@jupyter-widgets/controls",
      "model_module_version": "1.5.0",
      "model_name": "DescriptionStyleModel",
      "state": {
       "description_width": ""
      }
     },
     "3e4537847ea4489ca40e3a488f33a2bf": {
      "model_module": "@jupyter-widgets/controls",
      "model_module_version": "1.5.0",
      "model_name": "TextModel",
      "state": {
       "layout": "IPY_MODEL_be250f5f271940d99df09bde7e05d47d",
       "style": "IPY_MODEL_17752d9253704953bf4ffdb4fdab05a1"
      }
     },
     "3ec5f0419417491d98872c7d884ceed1": {
      "model_module": "@jupyter-widgets/base",
      "model_module_version": "1.2.0",
      "model_name": "LayoutModel",
      "state": {}
     },
     "3ffee62547a24a30908063761821c08b": {
      "model_module": "@jupyter-widgets/base",
      "model_module_version": "1.2.0",
      "model_name": "LayoutModel",
      "state": {}
     },
     "40079ef384534646aaea4776c3e7efb2": {
      "model_module": "@jupyter-widgets/controls",
      "model_module_version": "1.5.0",
      "model_name": "HBoxModel",
      "state": {
       "children": [
        "IPY_MODEL_e2fba56500c44c84a499d19e57f7e1b3",
        "IPY_MODEL_59bcaad7d3444ac6b74e49de7f4f0bbd",
        "IPY_MODEL_7909b9cdce6f4538996269aec2f7bfa9"
       ],
       "layout": "IPY_MODEL_a035505a84864c478b22cdcbc8d61d74"
      }
     },
     "406aecc84347431280e5802001c4679a": {
      "model_module": "@jupyter-widgets/controls",
      "model_module_version": "1.5.0",
      "model_name": "LabelModel",
      "state": {
       "layout": "IPY_MODEL_effe09f8bc7547e485e4d0447b61829c",
       "style": "IPY_MODEL_5985ac7317a1481ab9723bb43a7bc6df",
       "value": "Electrode thickness"
      }
     },
     "40ddc637288f460db32feb67d557886e": {
      "model_module": "@jupyter-widgets/controls",
      "model_module_version": "1.5.0",
      "model_name": "ButtonStyleModel",
      "state": {}
     },
     "414da58918004ba3acffedccc8ae5c38": {
      "model_module": "@jupyter-widgets/base",
      "model_module_version": "1.2.0",
      "model_name": "LayoutModel",
      "state": {}
     },
     "415e59c14ef3464f9bc2323520421d68": {
      "model_module": "@jupyter-widgets/controls",
      "model_module_version": "1.5.0",
      "model_name": "VBoxModel",
      "state": {
       "children": [
        "IPY_MODEL_95d0f78c49784bdf82c149ad68b7a73b",
        "IPY_MODEL_230e994a4553468184d135e1d9d8e47c",
        "IPY_MODEL_06ca9ba340de407a8e9e1caefedb208e"
       ],
       "layout": "IPY_MODEL_353f4811cf6349c29104b5db3d8f3a06"
      }
     },
     "4182f20cb6bd47de92dd387e51f95246": {
      "model_module": "@jupyter-widgets/controls",
      "model_module_version": "1.5.0",
      "model_name": "LabelModel",
      "state": {
       "layout": "IPY_MODEL_0df9987234d949d3a653e70b86abc939",
       "style": "IPY_MODEL_299490680c33442cbe8337f52c962ccd",
       "value": "Optional label"
      }
     },
     "41c14add7ce940388eb07ffd4bae631b": {
      "model_module": "@jupyter-widgets/base",
      "model_module_version": "1.2.0",
      "model_name": "LayoutModel",
      "state": {
       "width": "20%"
      }
     },
     "41cb19a93d614ac981a0aa490ca72e21": {
      "model_module": "@jupyter-widgets/base",
      "model_module_version": "1.2.0",
      "model_name": "LayoutModel",
      "state": {}
     },
     "41ded23acdd546ecb5a6a2dccca7c6c9": {
      "model_module": "@jupyter-widgets/controls",
      "model_module_version": "1.5.0",
      "model_name": "DescriptionStyleModel",
      "state": {
       "description_width": ""
      }
     },
     "41ede5fdf9b54b1699c9360e7bd44c73": {
      "model_module": "@jupyter-widgets/controls",
      "model_module_version": "1.5.0",
      "model_name": "ButtonModel",
      "state": {
       "description": "Remove host 1",
       "layout": "IPY_MODEL_0b85442e6b41404ebdfdc090aff83f24",
       "style": "IPY_MODEL_ea26085030fd49889e285d9fbd5cacc3"
      }
     },
     "41f1d1f76c464e70928735256041b7de": {
      "model_module": "@jupyter-widgets/base",
      "model_module_version": "1.2.0",
      "model_name": "LayoutModel",
      "state": {}
     },
     "425f4172070f4f03b2673d4b6f3ba8fa": {
      "model_module": "@jupyter-widgets/controls",
      "model_module_version": "1.5.0",
      "model_name": "DescriptionStyleModel",
      "state": {
       "description_width": ""
      }
     },
     "4291e29e34184f65a2521969466472a0": {
      "model_module": "@jupyter-widgets/controls",
      "model_module_version": "1.5.0",
      "model_name": "DescriptionStyleModel",
      "state": {
       "description_width": ""
      }
     },
     "42c4cb5a2a5443c4bb8893dbd2709413": {
      "model_module": "@jupyter-widgets/controls",
      "model_module_version": "1.5.0",
      "model_name": "TextModel",
      "state": {
       "layout": "IPY_MODEL_2ea41123ef6e432a9de67807cb2dd325",
       "style": "IPY_MODEL_a5be9c02b2cc48edbc0744e11930cad6"
      }
     },
     "431c5d440aec4621adf8500736b5a877": {
      "model_module": "@jupyter-widgets/base",
      "model_module_version": "1.2.0",
      "model_name": "LayoutModel",
      "state": {
       "width": "10%"
      }
     },
     "4386d5c6cc984d45be65c087304c9a5a": {
      "model_module": "@jupyter-widgets/controls",
      "model_module_version": "1.5.0",
      "model_name": "DescriptionStyleModel",
      "state": {
       "description_width": ""
      }
     },
     "444d4a03a2ff4b81b9245c8ab92790e6": {
      "model_module": "@jupyter-widgets/controls",
      "model_module_version": "1.5.0",
      "model_name": "DescriptionStyleModel",
      "state": {
       "description_width": ""
      }
     },
     "449727edc3cf41fdaad554c4a24e4dcd": {
      "model_module": "@jupyter-widgets/base",
      "model_module_version": "1.2.0",
      "model_name": "LayoutModel",
      "state": {
       "width": "20%"
      }
     },
     "44e3f61ed55646498cdd08cdc95163e7": {
      "model_module": "@jupyter-widgets/base",
      "model_module_version": "1.2.0",
      "model_name": "LayoutModel",
      "state": {}
     },
     "44fe6084096e49bfaff73576c4e2fa62": {
      "model_module": "@jupyter-widgets/controls",
      "model_module_version": "1.5.0",
      "model_name": "ButtonModel",
      "state": {
       "description": "Confirm directory",
       "layout": "IPY_MODEL_a845cc4635ab4156888db556412c198f",
       "style": "IPY_MODEL_853c063852d64bf2b36ae851ef8255c3"
      }
     },
     "45420af00e094b0ea37db3053a76e639": {
      "model_module": "@jupyter-widgets/controls",
      "model_module_version": "1.5.0",
      "model_name": "DescriptionStyleModel",
      "state": {
       "description_width": ""
      }
     },
     "454315898e6e4ea6a7735101a05b2538": {
      "model_module": "@jupyter-widgets/base",
      "model_module_version": "1.2.0",
      "model_name": "LayoutModel",
      "state": {}
     },
     "4561f2df99184aaa90efaa6f32dcc5e9": {
      "model_module": "@jupyter-widgets/controls",
      "model_module_version": "1.5.0",
      "model_name": "HBoxModel",
      "state": {
       "children": [
        "IPY_MODEL_bcbc11df8cc34c8ead77c86af4e1b5dd",
        "IPY_MODEL_35906d6293eb4f29a21e00a35e80dc09"
       ],
       "layout": "IPY_MODEL_7fcdbee5c0794c789d7e53c8e598fdc1"
      }
     },
     "4562b827db4043c1b7a13aada0dd078d": {
      "model_module": "@jupyter-widgets/controls",
      "model_module_version": "1.5.0",
      "model_name": "TextModel",
      "state": {
       "layout": "IPY_MODEL_be250f5f271940d99df09bde7e05d47d",
       "style": "IPY_MODEL_789c3556446147f89c866ced3fb1d39b"
      }
     },
     "45776797ccb14e96b24f5b2ceb1b0e16": {
      "model_module": "@jupyter-widgets/controls",
      "model_module_version": "1.5.0",
      "model_name": "CheckboxModel",
      "state": {
       "description": "Common",
       "disabled": false,
       "indent": false,
       "layout": "IPY_MODEL_e3ffdad76f0b419eb8a39f1ca4eaf241",
       "style": "IPY_MODEL_b1e57166d49e44a79092f04d73ad8433",
       "value": false
      }
     },
     "4587c2fb267d4b739e1d7c6eb8a59cc5": {
      "model_module": "@jupyter-widgets/controls",
      "model_module_version": "1.5.0",
      "model_name": "VBoxModel",
      "state": {
       "children": [
        "IPY_MODEL_0bbd6f0b946b40d49ab4c06fca860cfe",
        "IPY_MODEL_1da1175ce67c48ddb51de49f899768be"
       ],
       "layout": "IPY_MODEL_f256ea1ef910478580afeef512a96910"
      }
     },
     "45a3169eff42490cb25029cc5b4505b3": {
      "model_module": "@jupyter-widgets/controls",
      "model_module_version": "1.5.0",
      "model_name": "ButtonModel",
      "state": {
       "description": "Select Files",
       "icon": "square-o",
       "layout": "IPY_MODEL_614ed68a68da4c9fa38e3b892784f152",
       "style": "IPY_MODEL_6e9716f4342f430a89392257bc2e2e60"
      }
     },
     "45ee7e8d3a2f4e8ead6891ff1b0ffe2c": {
      "model_module": "@jupyter-widgets/controls",
      "model_module_version": "1.5.0",
      "model_name": "SliderStyleModel",
      "state": {
       "description_width": ""
      }
     },
     "4664942f29e443d1ab63d2f817bb405b": {
      "model_module": "@jupyter-widgets/controls",
      "model_module_version": "1.5.0",
      "model_name": "TextModel",
      "state": {
       "layout": "IPY_MODEL_be250f5f271940d99df09bde7e05d47d",
       "style": "IPY_MODEL_96d4a5deaf044284b5548f64a76166c9"
      }
     },
     "4672cf2d215a4e3090c0f3ca3bd5eb6d": {
      "model_module": "@jupyter-widgets/controls",
      "model_module_version": "1.5.0",
      "model_name": "DescriptionStyleModel",
      "state": {
       "description_width": ""
      }
     },
     "46a08262383c4f889ded34a3fc0d3843": {
      "model_module": "@jupyter-widgets/base",
      "model_module_version": "1.2.0",
      "model_name": "LayoutModel",
      "state": {
       "width": "10%"
      }
     },
     "46a492fab7604305a15da9c00553d178": {
      "model_module": "@jupyter-widgets/base",
      "model_module_version": "1.2.0",
      "model_name": "LayoutModel",
      "state": {}
     },
     "46d048e2732c424bbbf82532b1463207": {
      "model_module": "@jupyter-widgets/base",
      "model_module_version": "1.2.0",
      "model_name": "LayoutModel",
      "state": {}
     },
     "47bb5e55c6734f55af53ebfcbf23f38e": {
      "model_module": "@jupyter-widgets/base",
      "model_module_version": "1.2.0",
      "model_name": "LayoutModel",
      "state": {}
     },
     "47c41603f83a4d8a95bae64b8ba9c88f": {
      "model_module": "@jupyter-widgets/controls",
      "model_module_version": "1.5.0",
      "model_name": "DescriptionStyleModel",
      "state": {
       "description_width": ""
      }
     },
     "485139f373b34925988542b7c895d5b4": {
      "model_module": "@jupyter-widgets/controls",
      "model_module_version": "1.5.0",
      "model_name": "DescriptionStyleModel",
      "state": {
       "description_width": ""
      }
     },
     "485bd379d3a9496197e1974ce5b892cb": {
      "model_module": "@jupyter-widgets/base",
      "model_module_version": "1.2.0",
      "model_name": "LayoutModel",
      "state": {}
     },
     "488323bbd7ac44c18c9d1a82492c4e70": {
      "model_module": "@jupyter-widgets/base",
      "model_module_version": "1.2.0",
      "model_name": "LayoutModel",
      "state": {}
     },
     "48b0cfea787e4851aa1a6646a4427726": {
      "model_module": "@jupyter-widgets/controls",
      "model_module_version": "1.5.0",
      "model_name": "DescriptionStyleModel",
      "state": {
       "description_width": ""
      }
     },
     "48d5f06ef68d4cb9b600c1e50614556e": {
      "model_module": "@jupyter-widgets/controls",
      "model_module_version": "1.5.0",
      "model_name": "LabelModel",
      "state": {
       "layout": "IPY_MODEL_0df9987234d949d3a653e70b86abc939",
       "style": "IPY_MODEL_2730a1390ad84de280e2c2b470ba711a",
       "value": "Sulfur loading (mg/ cm2)"
      }
     },
     "48d9fd4068ea441fb652990aeb9e957a": {
      "model_module": "@jupyter-widgets/base",
      "model_module_version": "1.2.0",
      "model_name": "LayoutModel",
      "state": {}
     },
     "4944eef445b6498eb92473b0fd84d861": {
      "model_module": "@jupyter-widgets/controls",
      "model_module_version": "1.5.0",
      "model_name": "DescriptionStyleModel",
      "state": {
       "description_width": ""
      }
     },
     "49836609b06a42c8a22a3858362cbf9d": {
      "model_module": "@jupyter-widgets/controls",
      "model_module_version": "1.5.0",
      "model_name": "HBoxModel",
      "state": {
       "children": [
        "IPY_MODEL_ea7171a892f84ac19d78f64f292d8d6a",
        "IPY_MODEL_4eeb0c18e8d74020a9f1fde82fdbc1be"
       ],
       "layout": "IPY_MODEL_d56e654d696a4030a815e671dcd0fac8"
      }
     },
     "498ed04553c7447a8495efb43cc845a9": {
      "model_module": "@jupyter-widgets/controls",
      "model_module_version": "1.5.0",
      "model_name": "HBoxModel",
      "state": {
       "children": [
        "IPY_MODEL_0a8c58d288bd478a97608248b3c507e2",
        "IPY_MODEL_21923304eae04803ba04e042d8179efa"
       ],
       "layout": "IPY_MODEL_e126b3fca92c4e119b7893cbed66cda3"
      }
     },
     "49cfba64f62248f7b2cab355154fd72b": {
      "model_module": "@jupyter-widgets/base",
      "model_module_version": "1.2.0",
      "model_name": "LayoutModel",
      "state": {}
     },
     "4a2550d5bc5a42eda40599c3e37f7515": {
      "model_module": "@jupyter-widgets/controls",
      "model_module_version": "1.5.0",
      "model_name": "VBoxModel",
      "state": {
       "children": [
        "IPY_MODEL_874ab33d1dee4fc2853ba51f136b6c2b"
       ],
       "layout": "IPY_MODEL_8002b0bf5bda47708aa30615a73c8288"
      }
     },
     "4ad1b3ceb2c14635ae164633ce31c449": {
      "model_module": "@jupyter-widgets/controls",
      "model_module_version": "1.5.0",
      "model_name": "ButtonStyleModel",
      "state": {}
     },
     "4bb47514f5b3401984627135a3a7a8ec": {
      "model_module": "@jupyter-widgets/base",
      "model_module_version": "1.2.0",
      "model_name": "LayoutModel",
      "state": {}
     },
     "4bc09fc762884348bcfaa56261b2a056": {
      "model_module": "@jupyter-widgets/controls",
      "model_module_version": "1.5.0",
      "model_name": "DescriptionStyleModel",
      "state": {
       "description_width": ""
      }
     },
     "4c528be2d4174d328cd0e7ae53572b57": {
      "model_module": "@jupyter-widgets/base",
      "model_module_version": "1.2.0",
      "model_name": "LayoutModel",
      "state": {}
     },
     "4d09f7896f4149dda363df9637ed9f0f": {
      "model_module": "@jupyter-widgets/controls",
      "model_module_version": "1.5.0",
      "model_name": "CheckboxModel",
      "state": {
       "description": "Monochrome graph?",
       "disabled": false,
       "layout": "IPY_MODEL_c4fb7e9ebfbf495390d117d5ed909f5e",
       "style": "IPY_MODEL_074386f4130b46baaad9807e6d5d082a",
       "value": false
      }
     },
     "4d8de6c06a45432cb28b957e8c5333cc": {
      "model_module": "@jupyter-widgets/controls",
      "model_module_version": "1.5.0",
      "model_name": "ButtonStyleModel",
      "state": {}
     },
     "4d9754be603a4ae38cdbfd4b73a96da9": {
      "model_module": "@jupyter-widgets/controls",
      "model_module_version": "1.5.0",
      "model_name": "DescriptionStyleModel",
      "state": {
       "description_width": ""
      }
     },
     "4d9b73ce9a4e414d8b063e357a5167b5": {
      "model_module": "@jupyter-widgets/controls",
      "model_module_version": "1.5.0",
      "model_name": "CheckboxModel",
      "state": {
       "description": "Common",
       "disabled": false,
       "indent": false,
       "layout": "IPY_MODEL_93dcfe2294284881aaa9e3881c5bd2af",
       "style": "IPY_MODEL_f092855c48e648c293425fe2810ddb7c",
       "value": false
      }
     },
     "4da948215f5b4a2b8a9491d1d2830c99": {
      "model_module": "@jupyter-widgets/controls",
      "model_module_version": "1.5.0",
      "model_name": "DescriptionStyleModel",
      "state": {
       "description_width": ""
      }
     },
     "4df417e6387c4e04ad4f0f70ad64d5c3": {
      "model_module": "@jupyter-widgets/controls",
      "model_module_version": "1.5.0",
      "model_name": "ButtonModel",
      "state": {
       "description": "Confirm",
       "layout": "IPY_MODEL_b7d6aa65b50c4166a14b016b053f97ba",
       "style": "IPY_MODEL_cc3dc1845bcc477bae3b2b87249adb12"
      }
     },
     "4e1ef95d6a89410a8cc9bed0d5c1ada2": {
      "model_module": "@jupyter-widgets/base",
      "model_module_version": "1.2.0",
      "model_name": "LayoutModel",
      "state": {}
     },
     "4e535937ad48462c9c1c583981d29ef5": {
      "model_module": "@jupyter-widgets/controls",
      "model_module_version": "1.5.0",
      "model_name": "LabelModel",
      "state": {
       "layout": "IPY_MODEL_effe09f8bc7547e485e4d0447b61829c",
       "style": "IPY_MODEL_f2b0d3e99a3448e5aa2a9661ced26b1f",
       "value": "Host conductivity units"
      }
     },
     "4e57461ac7b84096a2d0504ec1d7a69f": {
      "model_module": "@jupyter-widgets/controls",
      "model_module_version": "1.5.0",
      "model_name": "HBoxModel",
      "state": {
       "children": [
        "IPY_MODEL_c6f72e8430294a0f9495f132d1f38dee",
        "IPY_MODEL_c8ac657ffaaa4da88b5cc95743329705"
       ],
       "layout": "IPY_MODEL_c97e54fb67964581bbbe18165691de9e"
      }
     },
     "4e91a0695c47461bb18b688e1d3939e9": {
      "model_module": "@jupyter-widgets/base",
      "model_module_version": "1.2.0",
      "model_name": "LayoutModel",
      "state": {}
     },
     "4eeb0c18e8d74020a9f1fde82fdbc1be": {
      "model_module": "@jupyter-widgets/controls",
      "model_module_version": "1.5.0",
      "model_name": "TextModel",
      "state": {
       "layout": "IPY_MODEL_2ea41123ef6e432a9de67807cb2dd325",
       "style": "IPY_MODEL_c030909ff8a740818f7375d803c5d67c"
      }
     },
     "4f32d2d1354649b4b142727b6567df6f": {
      "model_module": "@jupyter-widgets/base",
      "model_module_version": "1.2.0",
      "model_name": "LayoutModel",
      "state": {}
     },
     "4f7c28a1476b444cae11a86926ec40e1": {
      "model_module": "@jupyter-widgets/controls",
      "model_module_version": "1.5.0",
      "model_name": "HBoxModel",
      "state": {
       "children": [
        "IPY_MODEL_3bbb1d80f78f42c2b25b08499885e2dd",
        "IPY_MODEL_2e96a0a3d08f4c68b895b2a83c6a61e5",
        "IPY_MODEL_0f853ccf4cb141b8a2a764d18ccd4ee3"
       ],
       "layout": "IPY_MODEL_b88b0275be8a4e6184a8e8ed6d30a864"
      }
     },
     "4fa2b3f553a8488d90ea66de3ceab313": {
      "model_module": "@jupyter-widgets/base",
      "model_module_version": "1.2.0",
      "model_name": "LayoutModel",
      "state": {}
     },
     "4fb9f705cc4e4a0cbf6a4c24e814f526": {
      "model_module": "@jupyter-widgets/base",
      "model_module_version": "1.2.0",
      "model_name": "LayoutModel",
      "state": {
       "width": "10%"
      }
     },
     "50811d07ae5c49c9b52f304690ba89ac": {
      "model_module": "@jupyter-widgets/controls",
      "model_module_version": "1.5.0",
      "model_name": "CheckboxModel",
      "state": {
       "description": "Common",
       "disabled": false,
       "indent": false,
       "layout": "IPY_MODEL_cffa7253fca34a8e8253272ce5aa3017",
       "style": "IPY_MODEL_7bddfccdeae341a598fa0a21b2bc321f",
       "value": false
      }
     },
     "5095a5cd516041e99054284506312884": {
      "model_module": "@jupyter-widgets/base",
      "model_module_version": "1.2.0",
      "model_name": "LayoutModel",
      "state": {}
     },
     "50fcedc2c92244fc9bdaac024ebebd32": {
      "model_module": "@jupyter-widgets/controls",
      "model_module_version": "1.5.0",
      "model_name": "LabelModel",
      "state": {
       "layout": "IPY_MODEL_0df9987234d949d3a653e70b86abc939",
       "style": "IPY_MODEL_570cbac474a5434e8e9110254e77b7bb",
       "value": "Create new data"
      }
     },
     "51077b7e615549c0bdb74cada1ed2e21": {
      "model_module": "@jupyter-widgets/controls",
      "model_module_version": "1.5.0",
      "model_name": "LabelModel",
      "state": {
       "layout": "IPY_MODEL_11ddaa0b95d54f91a65ea31c6c0632cc",
       "style": "IPY_MODEL_e015f0c5bd0a488abd76fea85fb12403",
       "value": "LiNO3 content"
      }
     },
     "514fd83b65324861837eae1f78f55e38": {
      "model_module": "@jupyter-widgets/controls",
      "model_module_version": "1.5.0",
      "model_name": "LabelModel",
      "state": {
       "layout": "IPY_MODEL_b8912325bc5d452c9045613f369bcb19",
       "style": "IPY_MODEL_387681b338c14b31b3d83714bb4a1c6d",
       "value": "No masks saved this session"
      }
     },
     "5158b163b5674680a5f2dbbb4839e1f2": {
      "model_module": "@jupyter-widgets/base",
      "model_module_version": "1.2.0",
      "model_name": "LayoutModel",
      "state": {}
     },
     "518f837a7c3b4448b5a110b41d2bed1a": {
      "model_module": "@jupyter-widgets/controls",
      "model_module_version": "1.5.0",
      "model_name": "DescriptionStyleModel",
      "state": {
       "description_width": ""
      }
     },
     "51dc76883fa549699b6bc851beadfe50": {
      "model_module": "@jupyter-widgets/controls",
      "model_module_version": "1.5.0",
      "model_name": "TextModel",
      "state": {
       "layout": "IPY_MODEL_2ea41123ef6e432a9de67807cb2dd325",
       "style": "IPY_MODEL_169ba52d7ddd4b1dab526f2b3092fff1"
      }
     },
     "51e1d6ddcab64109aeaab0563497d276": {
      "model_module": "@jupyter-widgets/controls",
      "model_module_version": "1.5.0",
      "model_name": "HBoxModel",
      "state": {
       "children": [
        "IPY_MODEL_83e42c1d40744e2bad622c2bb8d63696",
        "IPY_MODEL_24d8a3ae5eed413db2541de3d5c52589"
       ],
       "layout": "IPY_MODEL_d3a27a10389a4eb6914a6ba811093642"
      }
     },
     "51fa7503cc1746eca027682e1a9b5aea": {
      "model_module": "@jupyter-widgets/base",
      "model_module_version": "1.2.0",
      "model_name": "LayoutModel",
      "state": {
       "width": "20%"
      }
     },
     "5253dd9999be40c5941ba1594e77ad30": {
      "model_module": "@jupyter-widgets/base",
      "model_module_version": "1.2.0",
      "model_name": "LayoutModel",
      "state": {}
     },
     "52676c6a14094464aad1f23bc10c7be1": {
      "model_module": "@jupyter-widgets/controls",
      "model_module_version": "1.5.0",
      "model_name": "LabelModel",
      "state": {
       "layout": "IPY_MODEL_effe09f8bc7547e485e4d0447b61829c",
       "style": "IPY_MODEL_2b5e0edfa09e4b5ebb494431dda7ee19",
       "value": "Binder"
      }
     },
     "52abefed6df64771ab1091ce056d0c29": {
      "model_module": "@jupyter-widgets/controls",
      "model_module_version": "1.5.0",
      "model_name": "TextModel",
      "state": {
       "layout": "IPY_MODEL_2ea41123ef6e432a9de67807cb2dd325",
       "style": "IPY_MODEL_0b6422f9aef1488caa1065b99dbe3df3"
      }
     },
     "52b46d091d3f45ff9a22b9453f235463": {
      "model_module": "@jupyter-widgets/controls",
      "model_module_version": "1.5.0",
      "model_name": "LabelModel",
      "state": {
       "layout": "IPY_MODEL_7301522bf9774b7581099d773bf92527",
       "style": "IPY_MODEL_04f3469af6664e18982e2f1c7ff09d29",
       "value": "No masks saved this session"
      }
     },
     "52d95932b86b47f8a6a62e95aabed02b": {
      "model_module": "@jupyter-widgets/base",
      "model_module_version": "1.2.0",
      "model_name": "LayoutModel",
      "state": {}
     },
     "52ede1cac923433e82bf0169816809ad": {
      "model_module": "@jupyter-widgets/controls",
      "model_module_version": "1.5.0",
      "model_name": "DescriptionStyleModel",
      "state": {
       "description_width": ""
      }
     },
     "53430f2df84140b383a53c7c46c171a9": {
      "model_module": "@jupyter-widgets/controls",
      "model_module_version": "1.5.0",
      "model_name": "TabModel",
      "state": {
       "_titles": {
        "0": "Load data",
        "1": "Axis limits",
        "2": "Line data",
        "3": "Setting masks",
        "4": "Scan graph"
       },
       "children": [
        "IPY_MODEL_2ebf3051c17f4583aa2342a0333ebc4e",
        "IPY_MODEL_56d575a3164548d59cabdad4f13c610b",
        "IPY_MODEL_752232c282b247768f43e3b1aa567794",
        "IPY_MODEL_f95222190d81459b8f316b9901e859a6",
        "IPY_MODEL_574d72234b3948db89028f686a60bfeb"
       ],
       "layout": "IPY_MODEL_6f37129fc6f14090b25889889e41400a"
      }
     },
     "5344704b1f044f36a4f995693f2d14b9": {
      "model_module": "@jupyter-widgets/controls",
      "model_module_version": "1.5.0",
      "model_name": "DescriptionStyleModel",
      "state": {
       "description_width": ""
      }
     },
     "534ec13fcf4344c7b5a4294dd10023c6": {
      "model_module": "@jupyter-widgets/base",
      "model_module_version": "1.2.0",
      "model_name": "LayoutModel",
      "state": {
       "width": "15%"
      }
     },
     "5377ba91d20944b5990d60b94f2c05c0": {
      "model_module": "@jupyter-widgets/controls",
      "model_module_version": "1.5.0",
      "model_name": "HBoxModel",
      "state": {
       "children": [
        "IPY_MODEL_44fe6084096e49bfaff73576c4e2fa62",
        "IPY_MODEL_a64f9cccbd574d7fbae4df6f1255de95"
       ],
       "layout": "IPY_MODEL_ef327da4780c4cd29e417c0337b7c3dd"
      }
     },
     "539f6600e6ac46fe8535e029913f84c0": {
      "model_module": "@jupyter-widgets/controls",
      "model_module_version": "1.5.0",
      "model_name": "VBoxModel",
      "state": {
       "children": [
        "IPY_MODEL_e92ef404952c4170b885d3afbc8e4764"
       ],
       "layout": "IPY_MODEL_6a5fc158482c46aaa9cd3eefb1b1639d"
      }
     },
     "5440918eed8e4a32a7c780a16e46aa70": {
      "model_module": "@jupyter-widgets/controls",
      "model_module_version": "1.5.0",
      "model_name": "DescriptionStyleModel",
      "state": {
       "description_width": ""
      }
     },
     "5484106a1f874cfeb290b8115dc38da7": {
      "model_module": "@jupyter-widgets/controls",
      "model_module_version": "1.5.0",
      "model_name": "HBoxModel",
      "state": {
       "children": [
        "IPY_MODEL_b78513d6a74143c6baa5df8b28ed8096",
        "IPY_MODEL_dc3747c33462424db10eb260fb24c7e9"
       ],
       "layout": "IPY_MODEL_0e1fe778e63b454c8fb3f36ddbf09613"
      }
     },
     "54a92a46b7d746adbc7ea152f5dbfa72": {
      "model_module": "@jupyter-widgets/base",
      "model_module_version": "1.2.0",
      "model_name": "LayoutModel",
      "state": {}
     },
     "54b3432f1cee4e3e907d372347f8ec02": {
      "model_module": "@jupyter-widgets/controls",
      "model_module_version": "1.5.0",
      "model_name": "DescriptionStyleModel",
      "state": {
       "description_width": ""
      }
     },
     "54c81df32ca347588f3392f1b31427c8": {
      "model_module": "@jupyter-widgets/controls",
      "model_module_version": "1.5.0",
      "model_name": "TextModel",
      "state": {
       "layout": "IPY_MODEL_2ea41123ef6e432a9de67807cb2dd325",
       "style": "IPY_MODEL_63278128b3b64e3cbc2538c994c57458"
      }
     },
     "552b89bd637d4f58bd3d06a2aebc3be1": {
      "model_module": "@jupyter-widgets/controls",
      "model_module_version": "1.5.0",
      "model_name": "HBoxModel",
      "state": {
       "children": [
        "IPY_MODEL_ef42cd3eceb74f2ca610badb6e9af081",
        "IPY_MODEL_de57a4279b65433098feecc3f5ebf0bc"
       ],
       "layout": "IPY_MODEL_65382dcd20a84e00b70aed15b72393dd"
      }
     },
     "5561e82daa0e4858a26ff75e02b56476": {
      "model_module": "@jupyter-widgets/controls",
      "model_module_version": "1.5.0",
      "model_name": "ButtonModel",
      "state": {
       "description": "Save article details",
       "layout": "IPY_MODEL_f18e9be90d914c088e0c6d9dc7bc506b",
       "style": "IPY_MODEL_bd1ebf52fe5241fe86b53596815fc71f"
      }
     },
     "55822333c2d942d6bd45bf23ae60322e": {
      "model_module": "@jupyter-widgets/controls",
      "model_module_version": "1.5.0",
      "model_name": "HBoxModel",
      "state": {
       "children": [
        "IPY_MODEL_c52f767af7de4430b66bacc6db92940e",
        "IPY_MODEL_b0af92400d1a4d6f96f2a709521c81b4"
       ],
       "layout": "IPY_MODEL_acbd9d0fe8e247f393d76691484cdebb"
      }
     },
     "55cd24eef1d2405ebdfeeeb84a593360": {
      "model_module": "@jupyter-widgets/controls",
      "model_module_version": "1.5.0",
      "model_name": "TextModel",
      "state": {
       "layout": "IPY_MODEL_2ea41123ef6e432a9de67807cb2dd325",
       "style": "IPY_MODEL_76b47383be8d444faaf8f1572c26e0c5"
      }
     },
     "56006a968c1840fbacaa64b81074f0fa": {
      "model_module": "@jupyter-widgets/base",
      "model_module_version": "1.2.0",
      "model_name": "LayoutModel",
      "state": {}
     },
     "5606091524954012b783caac735ccf50": {
      "model_module": "@jupyter-widgets/controls",
      "model_module_version": "1.5.0",
      "model_name": "ButtonModel",
      "state": {
       "description": "Add new host",
       "layout": "IPY_MODEL_8a08a43954284e6dac1a5b6b6e42e8a0",
       "style": "IPY_MODEL_3232071c8bc440f89d6c841771e50ac5"
      }
     },
     "560f54cb4519431b9560784693807cac": {
      "model_module": "@jupyter-widgets/base",
      "model_module_version": "1.2.0",
      "model_name": "LayoutModel",
      "state": {}
     },
     "56307a031da144e9909742c75087ea20": {
      "model_module": "@jupyter-widgets/controls",
      "model_module_version": "1.5.0",
      "model_name": "DescriptionStyleModel",
      "state": {
       "description_width": ""
      }
     },
     "5678a873ae0847d4a76df36ab0157a07": {
      "model_module": "@jupyter-widgets/base",
      "model_module_version": "1.2.0",
      "model_name": "LayoutModel",
      "state": {}
     },
     "56887d2b476e4c589c7f19f4abeb812c": {
      "model_module": "@jupyter-widgets/base",
      "model_module_version": "1.2.0",
      "model_name": "LayoutModel",
      "state": {}
     },
     "56d3745e620146a48bbe9a9736ca7b11": {
      "model_module": "@jupyter-widgets/base",
      "model_module_version": "1.2.0",
      "model_name": "LayoutModel",
      "state": {}
     },
     "56d575a3164548d59cabdad4f13c610b": {
      "model_module": "@jupyter-widgets/controls",
      "model_module_version": "1.5.0",
      "model_name": "VBoxModel",
      "state": {
       "children": [
        "IPY_MODEL_86303944ebf6452b950c56c278f2e0f6",
        "IPY_MODEL_498ed04553c7447a8495efb43cc845a9",
        "IPY_MODEL_e12933ec60ce4073a481f1e1ff42cc55",
        "IPY_MODEL_2745a5f00ccd4950a18be9527fc5df04",
        "IPY_MODEL_319352ce18a64d0cab9bd55e0d4d8e90",
        "IPY_MODEL_c29e4827ee2a4a19a876e196003a5030"
       ],
       "layout": "IPY_MODEL_cb347d9c63bc4ba3afd67d4e9e837a08"
      }
     },
     "570cbac474a5434e8e9110254e77b7bb": {
      "model_module": "@jupyter-widgets/controls",
      "model_module_version": "1.5.0",
      "model_name": "DescriptionStyleModel",
      "state": {
       "description_width": ""
      }
     },
     "574d72234b3948db89028f686a60bfeb": {
      "model_module": "@jupyter-widgets/controls",
      "model_module_version": "1.5.0",
      "model_name": "VBoxModel",
      "state": {
       "children": [
        "IPY_MODEL_c522edbed6644171b45f33aaa7aba496",
        "IPY_MODEL_8c073120a6ca4db49acef6c7902f09e4",
        "IPY_MODEL_ee44b9674b9e4532aebf9055c77f4778",
        "IPY_MODEL_4d09f7896f4149dda363df9637ed9f0f",
        "IPY_MODEL_12454346d2a548a4a5b929641a6be1f9",
        "IPY_MODEL_da713665c0ee4eb4a39b38547da8554a"
       ],
       "layout": "IPY_MODEL_c2d9a7c57330412eb39728f681c310ad"
      }
     },
     "57645eaf74144d78b1681049978ec608": {
      "model_module": "@jupyter-widgets/controls",
      "model_module_version": "1.5.0",
      "model_name": "DescriptionStyleModel",
      "state": {
       "description_width": ""
      }
     },
     "57a473d0fbef42738fb12ce66d0d3bc4": {
      "model_module": "@jupyter-widgets/base",
      "model_module_version": "1.2.0",
      "model_name": "LayoutModel",
      "state": {}
     },
     "57a7ce654f4044bc83207162455d5ede": {
      "model_module": "@jupyter-widgets/controls",
      "model_module_version": "1.5.0",
      "model_name": "VBoxModel",
      "state": {
       "children": [
        "IPY_MODEL_1a81807fb6734a2a8ef495fd81675388",
        "IPY_MODEL_9445e1768b0e4bd5b75acfc21835a6b9",
        "IPY_MODEL_5a37591dd43243e29e3705dd8f395f20",
        "IPY_MODEL_4f7c28a1476b444cae11a86926ec40e1",
        "IPY_MODEL_37983a25de5f4fd5bca1d6bdba4bb092",
        "IPY_MODEL_ddf70d2cd6704edf81174786de672118",
        "IPY_MODEL_c470183048d44dffa35ccb1b596dfed5",
        "IPY_MODEL_37d4a260ed924fefa967f78eadd4dee3",
        "IPY_MODEL_8196f34c8cc94787af75f7b11fc206a6",
        "IPY_MODEL_c3690aadbdb14b679c0c4b8fa56bc4a8",
        "IPY_MODEL_40079ef384534646aaea4776c3e7efb2",
        "IPY_MODEL_987358f8235a46de969d6b4396bebfc4",
        "IPY_MODEL_f3128fce98444e879b2dd0d6b3a39601",
        "IPY_MODEL_329719d2f59a4f34ade63eb6dd9df2c0",
        "IPY_MODEL_57caff00504843f9a6cca777180dfd75",
        "IPY_MODEL_9a3cd48dc6c945749f786c246be3cc43"
       ],
       "layout": "IPY_MODEL_e910033ac15542e3847ce94172184b0d"
      }
     },
     "57b07147963c47a99d66d3271116ea61": {
      "model_module": "@jupyter-widgets/controls",
      "model_module_version": "1.5.0",
      "model_name": "DescriptionStyleModel",
      "state": {
       "description_width": ""
      }
     },
     "57caff00504843f9a6cca777180dfd75": {
      "model_module": "@jupyter-widgets/controls",
      "model_module_version": "1.5.0",
      "model_name": "HBoxModel",
      "state": {
       "children": [
        "IPY_MODEL_d387d59282324ced8560a8d297611331",
        "IPY_MODEL_a9e67d17935e44559989c0dcea71ab0d",
        "IPY_MODEL_adff788399c447329477aa580d33bbcf"
       ],
       "layout": "IPY_MODEL_0367e9586d06453e9a5a14c1d096348a"
      }
     },
     "5842ecfdc3ac467abba11011054d9ca1": {
      "model_module": "@jupyter-widgets/controls",
      "model_module_version": "1.5.0",
      "model_name": "FloatTextModel",
      "state": {
       "layout": "IPY_MODEL_7c69bf44bb9f4da09147d22d854c6041",
       "step": null,
       "style": "IPY_MODEL_1c5fd4c94f204c2690041dc3a56f7e43",
       "value": 1
      }
     },
     "5853f91195ce498ba7c72e17f4e6795d": {
      "model_module": "@jupyter-widgets/base",
      "model_module_version": "1.2.0",
      "model_name": "LayoutModel",
      "state": {}
     },
     "58775f6632ac4622bb9e8b0f0124333b": {
      "model_module": "@jupyter-widgets/base",
      "model_module_version": "1.2.0",
      "model_name": "LayoutModel",
      "state": {}
     },
     "58b7034b31114f82b116026b5f2832c3": {
      "model_module": "@jupyter-widgets/controls",
      "model_module_version": "1.5.0",
      "model_name": "HBoxModel",
      "state": {
       "children": [
        "IPY_MODEL_9d3a3e57a13f45d9b136adea6263f99b",
        "IPY_MODEL_51dc76883fa549699b6bc851beadfe50"
       ],
       "layout": "IPY_MODEL_74c5da7f370c49f8bafa70c88fc35788"
      }
     },
     "58c06635b60c4df2bc5a2fa05afabc3c": {
      "model_module": "@jupyter-widgets/controls",
      "model_module_version": "1.5.0",
      "model_name": "HBoxModel",
      "state": {
       "children": [
        "IPY_MODEL_7e92bb48b33e4b7a981c7e91fa58062d",
        "IPY_MODEL_21d4749445954120bfaf9a678963f21f"
       ],
       "layout": "IPY_MODEL_5c2af26e2c234f4289b90305b8dba215"
      }
     },
     "58f4b3f43f6445729946992f4791bf6b": {
      "model_module": "@jupyter-widgets/controls",
      "model_module_version": "1.5.0",
      "model_name": "ButtonModel",
      "state": {
       "description": "Add new mask",
       "layout": "IPY_MODEL_86ef69ab5e274d38ba97d8d47173892d",
       "style": "IPY_MODEL_08e409b3ea6b4dbfafac50ceac6bf256"
      }
     },
     "59528a8dd8ac4f149b7e2ab653a1d5e9": {
      "model_module": "@jupyter-widgets/base",
      "model_module_version": "1.2.0",
      "model_name": "LayoutModel",
      "state": {}
     },
     "5981f07c4bf84c9b98ddb25c118ada07": {
      "model_module": "@jupyter-widgets/controls",
      "model_module_version": "1.5.0",
      "model_name": "DescriptionStyleModel",
      "state": {
       "description_width": ""
      }
     },
     "5985ac7317a1481ab9723bb43a7bc6df": {
      "model_module": "@jupyter-widgets/controls",
      "model_module_version": "1.5.0",
      "model_name": "DescriptionStyleModel",
      "state": {
       "description_width": ""
      }
     },
     "5990a145a75a4b7e8d5affa9957359a1": {
      "model_module": "@jupyter-widgets/controls",
      "model_module_version": "1.5.0",
      "model_name": "TextModel",
      "state": {
       "layout": "IPY_MODEL_be250f5f271940d99df09bde7e05d47d",
       "style": "IPY_MODEL_a55a575c9a814d66a73ecb538f00d1e2"
      }
     },
     "59bcaad7d3444ac6b74e49de7f4f0bbd": {
      "model_module": "@jupyter-widgets/controls",
      "model_module_version": "1.5.0",
      "model_name": "TextModel",
      "state": {
       "layout": "IPY_MODEL_be250f5f271940d99df09bde7e05d47d",
       "style": "IPY_MODEL_41ded23acdd546ecb5a6a2dccca7c6c9"
      }
     },
     "59d09832b79444189e6d982a987386cf": {
      "model_module": "@jupyter-widgets/controls",
      "model_module_version": "1.5.0",
      "model_name": "VBoxModel",
      "state": {
       "children": [
        "IPY_MODEL_f41b283b5bf04582a50deb3c2d8a16f4",
        "IPY_MODEL_a2eee71720b94491b832d8dfe2adaa78",
        "IPY_MODEL_16ef2be6df124e689e9bf03b97430c45",
        "IPY_MODEL_6d034deebb4e4aaf8463e89bfdd67cf7",
        "IPY_MODEL_1b24004ed412404d822948f5caee61ee"
       ],
       "layout": "IPY_MODEL_0ee92cc6a0c14491b980b4fc5241ed08"
      }
     },
     "59d9a223f06b4eb0bd14f37782c1c901": {
      "model_module": "@jupyter-widgets/controls",
      "model_module_version": "1.5.0",
      "model_name": "TextModel",
      "state": {
       "layout": "IPY_MODEL_be250f5f271940d99df09bde7e05d47d",
       "style": "IPY_MODEL_6a3b3bf2f7e04296aa4156987307e566"
      }
     },
     "5a0faaa7f74e4fa7975b60c0f1ef9866": {
      "model_module": "@jupyter-widgets/base",
      "model_module_version": "1.2.0",
      "model_name": "LayoutModel",
      "state": {}
     },
     "5a37591dd43243e29e3705dd8f395f20": {
      "model_module": "@jupyter-widgets/controls",
      "model_module_version": "1.5.0",
      "model_name": "HBoxModel",
      "state": {
       "children": [
        "IPY_MODEL_a6ea50d30bf1492e8d80b7e3df4d1424",
        "IPY_MODEL_4664942f29e443d1ab63d2f817bb405b",
        "IPY_MODEL_cdf6f22e8a534485beeab1f348fba309"
       ],
       "layout": "IPY_MODEL_70834f34e93b4ab5a03d70b8eafdbe8a"
      }
     },
     "5ad8db17c6a042b6ab27f3d4aef66c9b": {
      "model_module": "@jupyter-widgets/controls",
      "model_module_version": "1.5.0",
      "model_name": "HBoxModel",
      "state": {
       "children": [
        "IPY_MODEL_da9aa3bd73f844ff9bbbeaa43cf90ff8",
        "IPY_MODEL_9c547ae7dc9640c9852a9f6168a82860",
        "IPY_MODEL_e4c00064d1c1413588fd97c61c50fbad"
       ],
       "layout": "IPY_MODEL_82ff2c4692dc45188d0d78ffd1dcf2f1"
      }
     },
     "5b3eede086504f01a77392e18a44a68f": {
      "model_module": "@jupyter-widgets/base",
      "model_module_version": "1.2.0",
      "model_name": "LayoutModel",
      "state": {}
     },
     "5b6beb9c2ca84daea4373c75df864be1": {
      "model_module": "@jupyter-widgets/controls",
      "model_module_version": "1.5.0",
      "model_name": "CheckboxModel",
      "state": {
       "description": "wt%",
       "disabled": false,
       "layout": "IPY_MODEL_cec59fc9fe094e2e89609c5b02621bdd",
       "style": "IPY_MODEL_c00cfbb19701479793f33067faae73fc",
       "value": true
      }
     },
     "5b84db320c854f6ea2e074a61c0135dd": {
      "model_module": "@jupyter-widgets/controls",
      "model_module_version": "1.5.0",
      "model_name": "DescriptionStyleModel",
      "state": {
       "description_width": ""
      }
     },
     "5baef191178f492da32fd77e9573df97": {
      "model_module": "@jupyter-widgets/controls",
      "model_module_version": "1.5.0",
      "model_name": "LabelModel",
      "state": {
       "layout": "IPY_MODEL_c5176eb75e9044baa32fbd4a26f989c9",
       "style": "IPY_MODEL_ee0e22dbf55246c3a58a280e1952df64",
       "value": "Salt content"
      }
     },
     "5c2af26e2c234f4289b90305b8dba215": {
      "model_module": "@jupyter-widgets/base",
      "model_module_version": "1.2.0",
      "model_name": "LayoutModel",
      "state": {}
     },
     "5c2e5ddff3f14f57b649b5457401da45": {
      "model_module": "@jupyter-widgets/controls",
      "model_module_version": "1.5.0",
      "model_name": "DescriptionStyleModel",
      "state": {
       "description_width": ""
      }
     },
     "5c37546781024d74868602dc1bf8f4e4": {
      "model_module": "@jupyter-widgets/controls",
      "model_module_version": "1.5.0",
      "model_name": "DescriptionStyleModel",
      "state": {
       "description_width": ""
      }
     },
     "5c81f629b75e436b897cbae7c8f54a69": {
      "model_module": "@jupyter-widgets/controls",
      "model_module_version": "1.5.0",
      "model_name": "DescriptionStyleModel",
      "state": {
       "description_width": ""
      }
     },
     "5c9b65b21e48425eb17c4b58b89a7974": {
      "model_module": "@jupyter-widgets/controls",
      "model_module_version": "1.5.0",
      "model_name": "DescriptionStyleModel",
      "state": {
       "description_width": ""
      }
     },
     "5cb2c42256a84289a865b23966b85bc1": {
      "model_module": "@jupyter-widgets/controls",
      "model_module_version": "1.5.0",
      "model_name": "CheckboxModel",
      "state": {
       "disabled": false,
       "layout": "IPY_MODEL_df278655acf444dea6e098c055010741",
       "style": "IPY_MODEL_b084a14a690148339f9365ae095e5bfa",
       "value": false
      }
     },
     "5cbdd01c8b5b4bd39f9e4a3055f08d7f": {
      "model_module": "@jupyter-widgets/controls",
      "model_module_version": "1.5.0",
      "model_name": "DescriptionStyleModel",
      "state": {
       "description_width": ""
      }
     },
     "5cefa8fa88fc4c7c99ebab9b00d60c1d": {
      "model_module": "@jupyter-widgets/controls",
      "model_module_version": "1.5.0",
      "model_name": "TextModel",
      "state": {
       "layout": "IPY_MODEL_2ea41123ef6e432a9de67807cb2dd325",
       "style": "IPY_MODEL_a5f04c58dfc741fcb3fed37fe05fe39d"
      }
     },
     "5d0c825b2b4c4ec9b3649afbf23faf46": {
      "model_module": "@jupyter-widgets/controls",
      "model_module_version": "1.5.0",
      "model_name": "DescriptionStyleModel",
      "state": {
       "description_width": ""
      }
     },
     "5d287a3cbf114d96835459940b21a573": {
      "model_module": "@jupyter-widgets/base",
      "model_module_version": "1.2.0",
      "model_name": "LayoutModel",
      "state": {}
     },
     "5d8287f0f5e04250aa6c85c3a48bc793": {
      "model_module": "@jupyter-widgets/controls",
      "model_module_version": "1.5.0",
      "model_name": "HBoxModel",
      "state": {
       "children": [
        "IPY_MODEL_27e2f221277145e4ba56b6aafdc94686",
        "IPY_MODEL_9554198ceaaf46b09fa9ce3da29bf159"
       ],
       "layout": "IPY_MODEL_d43bc27d544f4240bb3c41f457b96eec"
      }
     },
     "5dc3de42945946268d2e555048359fd4": {
      "model_module": "@jupyter-widgets/base",
      "model_module_version": "1.2.0",
      "model_name": "LayoutModel",
      "state": {}
     },
     "5de8dc026d694dbf9bcd64af3b0e085a": {
      "model_module": "@jupyter-widgets/controls",
      "model_module_version": "1.5.0",
      "model_name": "LabelModel",
      "state": {
       "layout": "IPY_MODEL_51fa7503cc1746eca027682e1a9b5aea",
       "style": "IPY_MODEL_1e22eeac6ef34fcf9c80acce6400be81",
       "value": "LiNO3 content"
      }
     },
     "5df1ac33828f4b18b34887e62838b1f8": {
      "model_module": "@jupyter-widgets/controls",
      "model_module_version": "1.5.0",
      "model_name": "ButtonStyleModel",
      "state": {}
     },
     "5e4cdddae30c479d8288fd975b55e38a": {
      "model_module": "@jupyter-widgets/controls",
      "model_module_version": "1.5.0",
      "model_name": "TextModel",
      "state": {
       "layout": "IPY_MODEL_2ea41123ef6e432a9de67807cb2dd325",
       "style": "IPY_MODEL_cbdf6b872731430faf4d1e1199f66add"
      }
     },
     "5e94a94dee394dd281711694a9288fd9": {
      "model_module": "@jupyter-widgets/controls",
      "model_module_version": "1.5.0",
      "model_name": "LabelModel",
      "state": {
       "layout": "IPY_MODEL_1d39db808ca240e5865a84d73548c375",
       "style": "IPY_MODEL_5f411f6d32a945cbae29199313be72b4",
       "value": "Please select a directory"
      }
     },
     "5ec603ffb91949619b672f2d77c24896": {
      "model_module": "@jupyter-widgets/base",
      "model_module_version": "1.2.0",
      "model_name": "LayoutModel",
      "state": {}
     },
     "5ed68ea0070e4181a0f309af37dacde9": {
      "model_module": "@jupyter-widgets/base",
      "model_module_version": "1.2.0",
      "model_name": "LayoutModel",
      "state": {
       "width": "15%"
      }
     },
     "5f2458994c2c44eaa0d28712bfcad42f": {
      "model_module": "@jupyter-widgets/controls",
      "model_module_version": "1.5.0",
      "model_name": "LabelModel",
      "state": {
       "layout": "IPY_MODEL_a6fe47faf19a451cb827a90a8d662b96",
       "style": "IPY_MODEL_7bcbb59767584d5782ad2634d061a94e",
       "value": "Electrolyte salt"
      }
     },
     "5f411f6d32a945cbae29199313be72b4": {
      "model_module": "@jupyter-widgets/controls",
      "model_module_version": "1.5.0",
      "model_name": "DescriptionStyleModel",
      "state": {
       "description_width": ""
      }
     },
     "5f631b0223124e0f9006e21a11b155bc": {
      "model_module": "@jupyter-widgets/controls",
      "model_module_version": "1.5.0",
      "model_name": "DescriptionStyleModel",
      "state": {
       "description_width": ""
      }
     },
     "5f65baa534f6447ea375fc5514475676": {
      "model_module": "@jupyter-widgets/base",
      "model_module_version": "1.2.0",
      "model_name": "LayoutModel",
      "state": {}
     },
     "5f9fc0af599545c2bb3d8e86bb530ec6": {
      "model_module": "@jupyter-widgets/controls",
      "model_module_version": "1.5.0",
      "model_name": "LabelModel",
      "state": {
       "layout": "IPY_MODEL_6ff3b849b96e49dfa083181875d42186",
       "style": "IPY_MODEL_2c2822ad941b4cb7ac3210197f021657",
       "value": "E/S ratio (uL/g)"
      }
     },
     "5fae235c45b3491bae5792adbf9a4dfa": {
      "model_module": "@jupyter-widgets/controls",
      "model_module_version": "1.5.0",
      "model_name": "DescriptionStyleModel",
      "state": {
       "description_width": ""
      }
     },
     "5ffa9d3667fd480597c83522b078975c": {
      "model_module": "@jupyter-widgets/controls",
      "model_module_version": "1.5.0",
      "model_name": "FloatTextModel",
      "state": {
       "description": "y max",
       "layout": "IPY_MODEL_9e8ac168f7894502b7b20c2d14b94373",
       "step": null,
       "style": "IPY_MODEL_e0124640d72d4779bbd8f71d353fbeec"
      }
     },
     "600f80f60ebc47bbb7f64e0238928767": {
      "model_module": "@jupyter-widgets/base",
      "model_module_version": "1.2.0",
      "model_name": "LayoutModel",
      "state": {}
     },
     "6083efe3c69a4012b19e387c5d87cce0": {
      "model_module": "@jupyter-widgets/base",
      "model_module_version": "1.2.0",
      "model_name": "LayoutModel",
      "state": {
       "width": "20%"
      }
     },
     "60fe83eed7a042009364e6dc070cf08e": {
      "model_module": "@jupyter-widgets/base",
      "model_module_version": "1.2.0",
      "model_name": "LayoutModel",
      "state": {
       "width": "20%"
      }
     },
     "6103f5d71c4a44928772212e07361737": {
      "model_module": "@jupyter-widgets/base",
      "model_module_version": "1.2.0",
      "model_name": "LayoutModel",
      "state": {}
     },
     "6129a2d75fe04fd08f016c571f1da661": {
      "model_module": "@jupyter-widgets/controls",
      "model_module_version": "1.5.0",
      "model_name": "LabelModel",
      "state": {
       "layout": "IPY_MODEL_0df9987234d949d3a653e70b86abc939",
       "style": "IPY_MODEL_2bf909777b0146bba04b6a965791a5ac",
       "value": "Conductive additive"
      }
     },
     "614ed68a68da4c9fa38e3b892784f152": {
      "model_module": "@jupyter-widgets/base",
      "model_module_version": "1.2.0",
      "model_name": "LayoutModel",
      "state": {}
     },
     "615a06b542264860975417dcd96995f8": {
      "model_module": "@jupyter-widgets/controls",
      "model_module_version": "1.5.0",
      "model_name": "ButtonStyleModel",
      "state": {}
     },
     "61e1c1a9cb3f4f04b00c8b5d021b8cc5": {
      "model_module": "@jupyter-widgets/controls",
      "model_module_version": "1.5.0",
      "model_name": "LabelModel",
      "state": {
       "layout": "IPY_MODEL_0df9987234d949d3a653e70b86abc939",
       "style": "IPY_MODEL_54b3432f1cee4e3e907d372347f8ec02",
       "value": "Year"
      }
     },
     "61f346c7fc96460d925936227ffcea22": {
      "model_module": "@jupyter-widgets/controls",
      "model_module_version": "1.5.0",
      "model_name": "TextModel",
      "state": {
       "layout": "IPY_MODEL_1b0f8288e7914100a5119e4bb11ecdd9",
       "style": "IPY_MODEL_630ec48a5eaf41519bd703b1805bd116",
       "value": "1:1 DOL DME"
      }
     },
     "621829b4bf2c4039bac029aadd7ba1e5": {
      "model_module": "@jupyter-widgets/base",
      "model_module_version": "1.2.0",
      "model_name": "LayoutModel",
      "state": {}
     },
     "622b873011e1434ab50243c6d8d38095": {
      "model_module": "@jupyter-widgets/controls",
      "model_module_version": "1.5.0",
      "model_name": "HBoxModel",
      "state": {
       "children": [
        "IPY_MODEL_4182f20cb6bd47de92dd387e51f95246",
        "IPY_MODEL_97a8b038c4204eeeb5fa95a245b9ed77"
       ],
       "layout": "IPY_MODEL_6f340cf51ad04895a7b0cff45ec0705f"
      }
     },
     "62306704f76c437fbcecca5a14ea56c1": {
      "model_module": "@jupyter-widgets/controls",
      "model_module_version": "1.5.0",
      "model_name": "DescriptionStyleModel",
      "state": {
       "description_width": ""
      }
     },
     "6269e08cfd7b48b1af9d029190a16c58": {
      "model_module": "@jupyter-widgets/controls",
      "model_module_version": "1.5.0",
      "model_name": "DescriptionStyleModel",
      "state": {
       "description_width": ""
      }
     },
     "62c4a5c11a304fa993e2023c3484e006": {
      "model_module": "@jupyter-widgets/base",
      "model_module_version": "1.2.0",
      "model_name": "LayoutModel",
      "state": {}
     },
     "6308a6790aea4855adb630f41a086b47": {
      "model_module": "@jupyter-widgets/controls",
      "model_module_version": "1.5.0",
      "model_name": "ButtonModel",
      "state": {
       "description": "Show graph",
       "layout": "IPY_MODEL_5253dd9999be40c5941ba1594e77ad30",
       "style": "IPY_MODEL_81f9e264726d4ec2bd000e8f51aae465"
      }
     },
     "630ec48a5eaf41519bd703b1805bd116": {
      "model_module": "@jupyter-widgets/controls",
      "model_module_version": "1.5.0",
      "model_name": "DescriptionStyleModel",
      "state": {
       "description_width": ""
      }
     },
     "63147e7ba61146598c64b3ae68b78e54": {
      "model_module": "@jupyter-widgets/controls",
      "model_module_version": "1.5.0",
      "model_name": "DescriptionStyleModel",
      "state": {
       "description_width": ""
      }
     },
     "6323ee551e1a4b8592c54945f18bfdc2": {
      "model_module": "@jupyter-widgets/controls",
      "model_module_version": "1.5.0",
      "model_name": "HBoxModel",
      "state": {
       "children": [
        "IPY_MODEL_bf388e392dc64588b91186c1246c982b",
        "IPY_MODEL_eeb174d5d8214ffdbfa70d122c85ed9d",
        "IPY_MODEL_514fd83b65324861837eae1f78f55e38"
       ],
       "layout": "IPY_MODEL_a02319ed75c74208b40b9ef79b84f6e7"
      }
     },
     "63278128b3b64e3cbc2538c994c57458": {
      "model_module": "@jupyter-widgets/controls",
      "model_module_version": "1.5.0",
      "model_name": "DescriptionStyleModel",
      "state": {
       "description_width": ""
      }
     },
     "63b1ff563ffb4599bf0c97a830b44573": {
      "model_module": "@jupyter-widgets/controls",
      "model_module_version": "1.5.0",
      "model_name": "HBoxModel",
      "state": {
       "children": [
        "IPY_MODEL_ac3d014d71934462b7804569eaaca550",
        "IPY_MODEL_0f7d12059c5e472ca71b8658d183dc00",
        "IPY_MODEL_e801976a97ff41edb3e037f9cb5744b1"
       ],
       "layout": "IPY_MODEL_a6318f3d4596406787ff2ac196c398c1"
      }
     },
     "63d49faa866a48388c976ec2345b1569": {
      "model_module": "@jupyter-widgets/controls",
      "model_module_version": "1.5.0",
      "model_name": "DescriptionStyleModel",
      "state": {
       "description_width": ""
      }
     },
     "63ec0a09657e4e67b917defbb482c652": {
      "model_module": "@jupyter-widgets/base",
      "model_module_version": "1.2.0",
      "model_name": "LayoutModel",
      "state": {}
     },
     "6417731ed70d4469b2747a91460bce9b": {
      "model_module": "@jupyter-widgets/controls",
      "model_module_version": "1.5.0",
      "model_name": "TabModel",
      "state": {
       "_titles": {
        "0": "Save and reload",
        "1": "Article details",
        "2": "Host",
        "3": "Electrolyte",
        "4": "Sulfur XRD"
       },
       "children": [
        "IPY_MODEL_e014e0554ff941ce87a9fe1d92dc2bee",
        "IPY_MODEL_db0acc2a85f44167a1a841dcdb9d7f5d",
        "IPY_MODEL_4587c2fb267d4b739e1d7c6eb8a59cc5",
        "IPY_MODEL_fbef7e2b9e0a42c19cd2a8fd99993557",
        "IPY_MODEL_4a2550d5bc5a42eda40599c3e37f7515"
       ],
       "layout": "IPY_MODEL_ff619980cfa047f18ee4e17e977a0573"
      }
     },
     "645f3a00a75645af9cbc859240bea8a6": {
      "model_module": "@jupyter-widgets/base",
      "model_module_version": "1.2.0",
      "model_name": "LayoutModel",
      "state": {}
     },
     "64bc1e3b98d249c4bb32bda6e0e55e92": {
      "model_module": "@jupyter-widgets/base",
      "model_module_version": "1.2.0",
      "model_name": "LayoutModel",
      "state": {}
     },
     "64e0e0c56a864d08af42c55d93f8425a": {
      "model_module": "@jupyter-widgets/controls",
      "model_module_version": "1.5.0",
      "model_name": "DescriptionStyleModel",
      "state": {
       "description_width": ""
      }
     },
     "64e8a81fac644937b8e467fbb62fdbdf": {
      "model_module": "@jupyter-widgets/base",
      "model_module_version": "1.2.0",
      "model_name": "LayoutModel",
      "state": {}
     },
     "65382dcd20a84e00b70aed15b72393dd": {
      "model_module": "@jupyter-widgets/base",
      "model_module_version": "1.2.0",
      "model_name": "LayoutModel",
      "state": {}
     },
     "655f5acb213b4a35a7f89b082762a351": {
      "model_module": "@jupyter-widgets/base",
      "model_module_version": "1.2.0",
      "model_name": "LayoutModel",
      "state": {}
     },
     "65a5811d8a474343babcc592f7dd153c": {
      "model_module": "@jupyter-widgets/controls",
      "model_module_version": "1.5.0",
      "model_name": "DescriptionStyleModel",
      "state": {
       "description_width": ""
      }
     },
     "65ae261a1c1b41e2ae326f595c13ecdc": {
      "model_module": "@jupyter-widgets/controls",
      "model_module_version": "1.5.0",
      "model_name": "CheckboxModel",
      "state": {
       "description": "Common",
       "disabled": false,
       "indent": false,
       "layout": "IPY_MODEL_f426e89af7c64169a08af8f1a3e2955b",
       "style": "IPY_MODEL_f2bb9b60f156459383a2c32c504f05ba",
       "value": false
      }
     },
     "65d59f2893f7461a82b5608764f374a3": {
      "model_module": "@jupyter-widgets/controls",
      "model_module_version": "1.5.0",
      "model_name": "ButtonModel",
      "state": {
       "description": "Apply all",
       "layout": "IPY_MODEL_733daa9d49e24415803b0a3aad3ffe77",
       "style": "IPY_MODEL_23f5d10baa42401c93108bfeac671dc3"
      }
     },
     "66055f4541a64d2aa03d436c7fbb31c9": {
      "model_module": "@jupyter-widgets/base",
      "model_module_version": "1.2.0",
      "model_name": "LayoutModel",
      "state": {}
     },
     "666c7ab3ea574841ac811ad26f7aff03": {
      "model_module": "@jupyter-widgets/controls",
      "model_module_version": "1.5.0",
      "model_name": "ButtonStyleModel",
      "state": {}
     },
     "66b1ac5d45344476943ed90478b5cb16": {
      "model_module": "@jupyter-widgets/controls",
      "model_module_version": "1.5.0",
      "model_name": "LabelModel",
      "state": {
       "layout": "IPY_MODEL_0df9987234d949d3a653e70b86abc939",
       "style": "IPY_MODEL_80cce477f1a942daa8d98e082351fed0",
       "value": "Host conductivity"
      }
     },
     "67269298cbd346599125ff0fc531b434": {
      "model_module": "@jupyter-widgets/controls",
      "model_module_version": "1.5.0",
      "model_name": "TextModel",
      "state": {
       "layout": "IPY_MODEL_2ea41123ef6e432a9de67807cb2dd325",
       "style": "IPY_MODEL_73956fc1ac95484da7d0b6d8ca437d1c"
      }
     },
     "67345b10776e4cb5b141f0ca181b1ad6": {
      "model_module": "@jupyter-widgets/controls",
      "model_module_version": "1.5.0",
      "model_name": "HBoxModel",
      "state": {
       "children": [
        "IPY_MODEL_974f7cc00b5942a79f562d18b95f68fa",
        "IPY_MODEL_c6be71082d934707b179d7db52dd6307",
        "IPY_MODEL_e9f1c583c1b341a48449b1dd37df23c9"
       ],
       "layout": "IPY_MODEL_8fd248aa3297499ba2d41ff1d6f85666"
      }
     },
     "6761f88ce79e4856bc2b51079f757c88": {
      "model_module": "@jupyter-widgets/controls",
      "model_module_version": "1.5.0",
      "model_name": "CheckboxModel",
      "state": {
       "description": "Common",
       "disabled": false,
       "indent": false,
       "layout": "IPY_MODEL_9bac7b95d43b440a83d055978a09398d",
       "style": "IPY_MODEL_a6052a16c0c64cd19df8f8c64f3f13a9",
       "value": false
      }
     },
     "67c40256a07b4b38bf24eb5758277ed0": {
      "model_module": "@jupyter-widgets/controls",
      "model_module_version": "1.5.0",
      "model_name": "DescriptionStyleModel",
      "state": {
       "description_width": ""
      }
     },
     "67cbfd0eec2949cc83081331aff039fa": {
      "model_module": "@jupyter-widgets/base",
      "model_module_version": "1.2.0",
      "model_name": "LayoutModel",
      "state": {}
     },
     "680606daa3354bbdb83a9521a3a74703": {
      "model_module": "@jupyter-widgets/controls",
      "model_module_version": "1.5.0",
      "model_name": "ButtonStyleModel",
      "state": {
       "button_color": "orange"
      }
     },
     "6852c5f4753b458db1df65c52a56198a": {
      "model_module": "@jupyter-widgets/base",
      "model_module_version": "1.2.0",
      "model_name": "LayoutModel",
      "state": {}
     },
     "68c59bdd8b724bf5be640432230984d6": {
      "model_module": "@jupyter-widgets/base",
      "model_module_version": "1.2.0",
      "model_name": "LayoutModel",
      "state": {}
     },
     "68e036b0e289416db686b65868b0df26": {
      "model_module": "@jupyter-widgets/base",
      "model_module_version": "1.2.0",
      "model_name": "LayoutModel",
      "state": {}
     },
     "6960f0328a174004984f12c5027843b3": {
      "model_module": "@jupyter-widgets/output",
      "model_module_version": "1.0.0",
      "model_name": "OutputModel",
      "state": {
       "layout": "IPY_MODEL_56d3745e620146a48bbe9a9736ca7b11",
       "outputs": [
        {
         "data": {
          "application/javascript": "/* Put everything inside the global mpl namespace */\n/* global mpl */\nwindow.mpl = {};\n\nmpl.get_websocket_type = function () {\n    if (typeof WebSocket !== 'undefined') {\n        return WebSocket;\n    } else if (typeof MozWebSocket !== 'undefined') {\n        return MozWebSocket;\n    } else {\n        alert(\n            'Your browser does not have WebSocket support. ' +\n                'Please try Chrome, Safari or Firefox ≥ 6. ' +\n                'Firefox 4 and 5 are also supported but you ' +\n                'have to enable WebSockets in about:config.'\n        );\n    }\n};\n\nmpl.figure = function (figure_id, websocket, ondownload, parent_element) {\n    this.id = figure_id;\n\n    this.ws = websocket;\n\n    this.supports_binary = this.ws.binaryType !== undefined;\n\n    if (!this.supports_binary) {\n        var warnings = document.getElementById('mpl-warnings');\n        if (warnings) {\n            warnings.style.display = 'block';\n            warnings.textContent =\n                'This browser does not support binary websocket messages. ' +\n                'Performance may be slow.';\n        }\n    }\n\n    this.imageObj = new Image();\n\n    this.context = undefined;\n    this.message = undefined;\n    this.canvas = undefined;\n    this.rubberband_canvas = undefined;\n    this.rubberband_context = undefined;\n    this.format_dropdown = undefined;\n\n    this.image_mode = 'full';\n\n    this.root = document.createElement('div');\n    this.root.setAttribute('style', 'display: inline-block');\n    this._root_extra_style(this.root);\n\n    parent_element.appendChild(this.root);\n\n    this._init_header(this);\n    this._init_canvas(this);\n    this._init_toolbar(this);\n\n    var fig = this;\n\n    this.waiting = false;\n\n    this.ws.onopen = function () {\n        fig.send_message('supports_binary', { value: fig.supports_binary });\n        fig.send_message('send_image_mode', {});\n        if (fig.ratio !== 1) {\n            fig.send_message('set_device_pixel_ratio', {\n                device_pixel_ratio: fig.ratio,\n            });\n        }\n        fig.send_message('refresh', {});\n    };\n\n    this.imageObj.onload = function () {\n        if (fig.image_mode === 'full') {\n            // Full images could contain transparency (where diff images\n            // almost always do), so we need to clear the canvas so that\n            // there is no ghosting.\n            fig.context.clearRect(0, 0, fig.canvas.width, fig.canvas.height);\n        }\n        fig.context.drawImage(fig.imageObj, 0, 0);\n    };\n\n    this.imageObj.onunload = function () {\n        fig.ws.close();\n    };\n\n    this.ws.onmessage = this._make_on_message_function(this);\n\n    this.ondownload = ondownload;\n};\n\nmpl.figure.prototype._init_header = function () {\n    var titlebar = document.createElement('div');\n    titlebar.classList =\n        'ui-dialog-titlebar ui-widget-header ui-corner-all ui-helper-clearfix';\n    var titletext = document.createElement('div');\n    titletext.classList = 'ui-dialog-title';\n    titletext.setAttribute(\n        'style',\n        'width: 100%; text-align: center; padding: 3px;'\n    );\n    titlebar.appendChild(titletext);\n    this.root.appendChild(titlebar);\n    this.header = titletext;\n};\n\nmpl.figure.prototype._canvas_extra_style = function (_canvas_div) {};\n\nmpl.figure.prototype._root_extra_style = function (_canvas_div) {};\n\nmpl.figure.prototype._init_canvas = function () {\n    var fig = this;\n\n    var canvas_div = (this.canvas_div = document.createElement('div'));\n    canvas_div.setAttribute(\n        'style',\n        'border: 1px solid #ddd;' +\n            'box-sizing: content-box;' +\n            'clear: both;' +\n            'min-height: 1px;' +\n            'min-width: 1px;' +\n            'outline: 0;' +\n            'overflow: hidden;' +\n            'position: relative;' +\n            'resize: both;'\n    );\n\n    function on_keyboard_event_closure(name) {\n        return function (event) {\n            return fig.key_event(event, name);\n        };\n    }\n\n    canvas_div.addEventListener(\n        'keydown',\n        on_keyboard_event_closure('key_press')\n    );\n    canvas_div.addEventListener(\n        'keyup',\n        on_keyboard_event_closure('key_release')\n    );\n\n    this._canvas_extra_style(canvas_div);\n    this.root.appendChild(canvas_div);\n\n    var canvas = (this.canvas = document.createElement('canvas'));\n    canvas.classList.add('mpl-canvas');\n    canvas.setAttribute('style', 'box-sizing: content-box;');\n\n    this.context = canvas.getContext('2d');\n\n    var backingStore =\n        this.context.backingStorePixelRatio ||\n        this.context.webkitBackingStorePixelRatio ||\n        this.context.mozBackingStorePixelRatio ||\n        this.context.msBackingStorePixelRatio ||\n        this.context.oBackingStorePixelRatio ||\n        this.context.backingStorePixelRatio ||\n        1;\n\n    this.ratio = (window.devicePixelRatio || 1) / backingStore;\n\n    var rubberband_canvas = (this.rubberband_canvas = document.createElement(\n        'canvas'\n    ));\n    rubberband_canvas.setAttribute(\n        'style',\n        'box-sizing: content-box; position: absolute; left: 0; top: 0; z-index: 1;'\n    );\n\n    // Apply a ponyfill if ResizeObserver is not implemented by browser.\n    if (this.ResizeObserver === undefined) {\n        if (window.ResizeObserver !== undefined) {\n            this.ResizeObserver = window.ResizeObserver;\n        } else {\n            var obs = _JSXTOOLS_RESIZE_OBSERVER({});\n            this.ResizeObserver = obs.ResizeObserver;\n        }\n    }\n\n    this.resizeObserverInstance = new this.ResizeObserver(function (entries) {\n        var nentries = entries.length;\n        for (var i = 0; i < nentries; i++) {\n            var entry = entries[i];\n            var width, height;\n            if (entry.contentBoxSize) {\n                if (entry.contentBoxSize instanceof Array) {\n                    // Chrome 84 implements new version of spec.\n                    width = entry.contentBoxSize[0].inlineSize;\n                    height = entry.contentBoxSize[0].blockSize;\n                } else {\n                    // Firefox implements old version of spec.\n                    width = entry.contentBoxSize.inlineSize;\n                    height = entry.contentBoxSize.blockSize;\n                }\n            } else {\n                // Chrome <84 implements even older version of spec.\n                width = entry.contentRect.width;\n                height = entry.contentRect.height;\n            }\n\n            // Keep the size of the canvas and rubber band canvas in sync with\n            // the canvas container.\n            if (entry.devicePixelContentBoxSize) {\n                // Chrome 84 implements new version of spec.\n                canvas.setAttribute(\n                    'width',\n                    entry.devicePixelContentBoxSize[0].inlineSize\n                );\n                canvas.setAttribute(\n                    'height',\n                    entry.devicePixelContentBoxSize[0].blockSize\n                );\n            } else {\n                canvas.setAttribute('width', width * fig.ratio);\n                canvas.setAttribute('height', height * fig.ratio);\n            }\n            canvas.setAttribute(\n                'style',\n                'width: ' + width + 'px; height: ' + height + 'px;'\n            );\n\n            rubberband_canvas.setAttribute('width', width);\n            rubberband_canvas.setAttribute('height', height);\n\n            // And update the size in Python. We ignore the initial 0/0 size\n            // that occurs as the element is placed into the DOM, which should\n            // otherwise not happen due to the minimum size styling.\n            if (fig.ws.readyState == 1 && width != 0 && height != 0) {\n                fig.request_resize(width, height);\n            }\n        }\n    });\n    this.resizeObserverInstance.observe(canvas_div);\n\n    function on_mouse_event_closure(name) {\n        return function (event) {\n            return fig.mouse_event(event, name);\n        };\n    }\n\n    rubberband_canvas.addEventListener(\n        'mousedown',\n        on_mouse_event_closure('button_press')\n    );\n    rubberband_canvas.addEventListener(\n        'mouseup',\n        on_mouse_event_closure('button_release')\n    );\n    rubberband_canvas.addEventListener(\n        'dblclick',\n        on_mouse_event_closure('dblclick')\n    );\n    // Throttle sequential mouse events to 1 every 20ms.\n    rubberband_canvas.addEventListener(\n        'mousemove',\n        on_mouse_event_closure('motion_notify')\n    );\n\n    rubberband_canvas.addEventListener(\n        'mouseenter',\n        on_mouse_event_closure('figure_enter')\n    );\n    rubberband_canvas.addEventListener(\n        'mouseleave',\n        on_mouse_event_closure('figure_leave')\n    );\n\n    canvas_div.addEventListener('wheel', function (event) {\n        if (event.deltaY < 0) {\n            event.step = 1;\n        } else {\n            event.step = -1;\n        }\n        on_mouse_event_closure('scroll')(event);\n    });\n\n    canvas_div.appendChild(canvas);\n    canvas_div.appendChild(rubberband_canvas);\n\n    this.rubberband_context = rubberband_canvas.getContext('2d');\n    this.rubberband_context.strokeStyle = '#000000';\n\n    this._resize_canvas = function (width, height, forward) {\n        if (forward) {\n            canvas_div.style.width = width + 'px';\n            canvas_div.style.height = height + 'px';\n        }\n    };\n\n    // Disable right mouse context menu.\n    this.rubberband_canvas.addEventListener('contextmenu', function (_e) {\n        event.preventDefault();\n        return false;\n    });\n\n    function set_focus() {\n        canvas.focus();\n        canvas_div.focus();\n    }\n\n    window.setTimeout(set_focus, 100);\n};\n\nmpl.figure.prototype._init_toolbar = function () {\n    var fig = this;\n\n    var toolbar = document.createElement('div');\n    toolbar.classList = 'mpl-toolbar';\n    this.root.appendChild(toolbar);\n\n    function on_click_closure(name) {\n        return function (_event) {\n            return fig.toolbar_button_onclick(name);\n        };\n    }\n\n    function on_mouseover_closure(tooltip) {\n        return function (event) {\n            if (!event.currentTarget.disabled) {\n                return fig.toolbar_button_onmouseover(tooltip);\n            }\n        };\n    }\n\n    fig.buttons = {};\n    var buttonGroup = document.createElement('div');\n    buttonGroup.classList = 'mpl-button-group';\n    for (var toolbar_ind in mpl.toolbar_items) {\n        var name = mpl.toolbar_items[toolbar_ind][0];\n        var tooltip = mpl.toolbar_items[toolbar_ind][1];\n        var image = mpl.toolbar_items[toolbar_ind][2];\n        var method_name = mpl.toolbar_items[toolbar_ind][3];\n\n        if (!name) {\n            /* Instead of a spacer, we start a new button group. */\n            if (buttonGroup.hasChildNodes()) {\n                toolbar.appendChild(buttonGroup);\n            }\n            buttonGroup = document.createElement('div');\n            buttonGroup.classList = 'mpl-button-group';\n            continue;\n        }\n\n        var button = (fig.buttons[name] = document.createElement('button'));\n        button.classList = 'mpl-widget';\n        button.setAttribute('role', 'button');\n        button.setAttribute('aria-disabled', 'false');\n        button.addEventListener('click', on_click_closure(method_name));\n        button.addEventListener('mouseover', on_mouseover_closure(tooltip));\n\n        var icon_img = document.createElement('img');\n        icon_img.src = '_images/' + image + '.png';\n        icon_img.srcset = '_images/' + image + '_large.png 2x';\n        icon_img.alt = tooltip;\n        button.appendChild(icon_img);\n\n        buttonGroup.appendChild(button);\n    }\n\n    if (buttonGroup.hasChildNodes()) {\n        toolbar.appendChild(buttonGroup);\n    }\n\n    var fmt_picker = document.createElement('select');\n    fmt_picker.classList = 'mpl-widget';\n    toolbar.appendChild(fmt_picker);\n    this.format_dropdown = fmt_picker;\n\n    for (var ind in mpl.extensions) {\n        var fmt = mpl.extensions[ind];\n        var option = document.createElement('option');\n        option.selected = fmt === mpl.default_extension;\n        option.innerHTML = fmt;\n        fmt_picker.appendChild(option);\n    }\n\n    var status_bar = document.createElement('span');\n    status_bar.classList = 'mpl-message';\n    toolbar.appendChild(status_bar);\n    this.message = status_bar;\n};\n\nmpl.figure.prototype.request_resize = function (x_pixels, y_pixels) {\n    // Request matplotlib to resize the figure. Matplotlib will then trigger a resize in the client,\n    // which will in turn request a refresh of the image.\n    this.send_message('resize', { width: x_pixels, height: y_pixels });\n};\n\nmpl.figure.prototype.send_message = function (type, properties) {\n    properties['type'] = type;\n    properties['figure_id'] = this.id;\n    this.ws.send(JSON.stringify(properties));\n};\n\nmpl.figure.prototype.send_draw_message = function () {\n    if (!this.waiting) {\n        this.waiting = true;\n        this.ws.send(JSON.stringify({ type: 'draw', figure_id: this.id }));\n    }\n};\n\nmpl.figure.prototype.handle_save = function (fig, _msg) {\n    var format_dropdown = fig.format_dropdown;\n    var format = format_dropdown.options[format_dropdown.selectedIndex].value;\n    fig.ondownload(fig, format);\n};\n\nmpl.figure.prototype.handle_resize = function (fig, msg) {\n    var size = msg['size'];\n    if (size[0] !== fig.canvas.width || size[1] !== fig.canvas.height) {\n        fig._resize_canvas(size[0], size[1], msg['forward']);\n        fig.send_message('refresh', {});\n    }\n};\n\nmpl.figure.prototype.handle_rubberband = function (fig, msg) {\n    var x0 = msg['x0'] / fig.ratio;\n    var y0 = (fig.canvas.height - msg['y0']) / fig.ratio;\n    var x1 = msg['x1'] / fig.ratio;\n    var y1 = (fig.canvas.height - msg['y1']) / fig.ratio;\n    x0 = Math.floor(x0) + 0.5;\n    y0 = Math.floor(y0) + 0.5;\n    x1 = Math.floor(x1) + 0.5;\n    y1 = Math.floor(y1) + 0.5;\n    var min_x = Math.min(x0, x1);\n    var min_y = Math.min(y0, y1);\n    var width = Math.abs(x1 - x0);\n    var height = Math.abs(y1 - y0);\n\n    fig.rubberband_context.clearRect(\n        0,\n        0,\n        fig.canvas.width / fig.ratio,\n        fig.canvas.height / fig.ratio\n    );\n\n    fig.rubberband_context.strokeRect(min_x, min_y, width, height);\n};\n\nmpl.figure.prototype.handle_figure_label = function (fig, msg) {\n    // Updates the figure title.\n    fig.header.textContent = msg['label'];\n};\n\nmpl.figure.prototype.handle_cursor = function (fig, msg) {\n    fig.rubberband_canvas.style.cursor = msg['cursor'];\n};\n\nmpl.figure.prototype.handle_message = function (fig, msg) {\n    fig.message.textContent = msg['message'];\n};\n\nmpl.figure.prototype.handle_draw = function (fig, _msg) {\n    // Request the server to send over a new figure.\n    fig.send_draw_message();\n};\n\nmpl.figure.prototype.handle_image_mode = function (fig, msg) {\n    fig.image_mode = msg['mode'];\n};\n\nmpl.figure.prototype.handle_history_buttons = function (fig, msg) {\n    for (var key in msg) {\n        if (!(key in fig.buttons)) {\n            continue;\n        }\n        fig.buttons[key].disabled = !msg[key];\n        fig.buttons[key].setAttribute('aria-disabled', !msg[key]);\n    }\n};\n\nmpl.figure.prototype.handle_navigate_mode = function (fig, msg) {\n    if (msg['mode'] === 'PAN') {\n        fig.buttons['Pan'].classList.add('active');\n        fig.buttons['Zoom'].classList.remove('active');\n    } else if (msg['mode'] === 'ZOOM') {\n        fig.buttons['Pan'].classList.remove('active');\n        fig.buttons['Zoom'].classList.add('active');\n    } else {\n        fig.buttons['Pan'].classList.remove('active');\n        fig.buttons['Zoom'].classList.remove('active');\n    }\n};\n\nmpl.figure.prototype.updated_canvas_event = function () {\n    // Called whenever the canvas gets updated.\n    this.send_message('ack', {});\n};\n\n// A function to construct a web socket function for onmessage handling.\n// Called in the figure constructor.\nmpl.figure.prototype._make_on_message_function = function (fig) {\n    return function socket_on_message(evt) {\n        if (evt.data instanceof Blob) {\n            var img = evt.data;\n            if (img.type !== 'image/png') {\n                /* FIXME: We get \"Resource interpreted as Image but\n                 * transferred with MIME type text/plain:\" errors on\n                 * Chrome.  But how to set the MIME type?  It doesn't seem\n                 * to be part of the websocket stream */\n                img.type = 'image/png';\n            }\n\n            /* Free the memory for the previous frames */\n            if (fig.imageObj.src) {\n                (window.URL || window.webkitURL).revokeObjectURL(\n                    fig.imageObj.src\n                );\n            }\n\n            fig.imageObj.src = (window.URL || window.webkitURL).createObjectURL(\n                img\n            );\n            fig.updated_canvas_event();\n            fig.waiting = false;\n            return;\n        } else if (\n            typeof evt.data === 'string' &&\n            evt.data.slice(0, 21) === 'data:image/png;base64'\n        ) {\n            fig.imageObj.src = evt.data;\n            fig.updated_canvas_event();\n            fig.waiting = false;\n            return;\n        }\n\n        var msg = JSON.parse(evt.data);\n        var msg_type = msg['type'];\n\n        // Call the  \"handle_{type}\" callback, which takes\n        // the figure and JSON message as its only arguments.\n        try {\n            var callback = fig['handle_' + msg_type];\n        } catch (e) {\n            console.log(\n                \"No handler for the '\" + msg_type + \"' message type: \",\n                msg\n            );\n            return;\n        }\n\n        if (callback) {\n            try {\n                // console.log(\"Handling '\" + msg_type + \"' message: \", msg);\n                callback(fig, msg);\n            } catch (e) {\n                console.log(\n                    \"Exception inside the 'handler_\" + msg_type + \"' callback:\",\n                    e,\n                    e.stack,\n                    msg\n                );\n            }\n        }\n    };\n};\n\n// from https://stackoverflow.com/questions/1114465/getting-mouse-location-in-canvas\nmpl.findpos = function (e) {\n    //this section is from http://www.quirksmode.org/js/events_properties.html\n    var targ;\n    if (!e) {\n        e = window.event;\n    }\n    if (e.target) {\n        targ = e.target;\n    } else if (e.srcElement) {\n        targ = e.srcElement;\n    }\n    if (targ.nodeType === 3) {\n        // defeat Safari bug\n        targ = targ.parentNode;\n    }\n\n    // pageX,Y are the mouse positions relative to the document\n    var boundingRect = targ.getBoundingClientRect();\n    var x = e.pageX - (boundingRect.left + document.body.scrollLeft);\n    var y = e.pageY - (boundingRect.top + document.body.scrollTop);\n\n    return { x: x, y: y };\n};\n\n/*\n * return a copy of an object with only non-object keys\n * we need this to avoid circular references\n * https://stackoverflow.com/a/24161582/3208463\n */\nfunction simpleKeys(original) {\n    return Object.keys(original).reduce(function (obj, key) {\n        if (typeof original[key] !== 'object') {\n            obj[key] = original[key];\n        }\n        return obj;\n    }, {});\n}\n\nmpl.figure.prototype.mouse_event = function (event, name) {\n    var canvas_pos = mpl.findpos(event);\n\n    if (name === 'button_press') {\n        this.canvas.focus();\n        this.canvas_div.focus();\n    }\n\n    var x = canvas_pos.x * this.ratio;\n    var y = canvas_pos.y * this.ratio;\n\n    this.send_message(name, {\n        x: x,\n        y: y,\n        button: event.button,\n        step: event.step,\n        guiEvent: simpleKeys(event),\n    });\n\n    /* This prevents the web browser from automatically changing to\n     * the text insertion cursor when the button is pressed.  We want\n     * to control all of the cursor setting manually through the\n     * 'cursor' event from matplotlib */\n    event.preventDefault();\n    return false;\n};\n\nmpl.figure.prototype._key_event_extra = function (_event, _name) {\n    // Handle any extra behaviour associated with a key event\n};\n\nmpl.figure.prototype.key_event = function (event, name) {\n    // Prevent repeat events\n    if (name === 'key_press') {\n        if (event.key === this._key) {\n            return;\n        } else {\n            this._key = event.key;\n        }\n    }\n    if (name === 'key_release') {\n        this._key = null;\n    }\n\n    var value = '';\n    if (event.ctrlKey && event.key !== 'Control') {\n        value += 'ctrl+';\n    }\n    else if (event.altKey && event.key !== 'Alt') {\n        value += 'alt+';\n    }\n    else if (event.shiftKey && event.key !== 'Shift') {\n        value += 'shift+';\n    }\n\n    value += 'k' + event.key;\n\n    this._key_event_extra(event, name);\n\n    this.send_message(name, { key: value, guiEvent: simpleKeys(event) });\n    return false;\n};\n\nmpl.figure.prototype.toolbar_button_onclick = function (name) {\n    if (name === 'download') {\n        this.handle_save(this, null);\n    } else {\n        this.send_message('toolbar_button', { name: name });\n    }\n};\n\nmpl.figure.prototype.toolbar_button_onmouseover = function (tooltip) {\n    this.message.textContent = tooltip;\n};\n\n///////////////// REMAINING CONTENT GENERATED BY embed_js.py /////////////////\n// prettier-ignore\nvar _JSXTOOLS_RESIZE_OBSERVER=function(A){var t,i=new WeakMap,n=new WeakMap,a=new WeakMap,r=new WeakMap,o=new Set;function s(e){if(!(this instanceof s))throw new TypeError(\"Constructor requires 'new' operator\");i.set(this,e)}function h(){throw new TypeError(\"Function is not a constructor\")}function c(e,t,i,n){e=0 in arguments?Number(arguments[0]):0,t=1 in arguments?Number(arguments[1]):0,i=2 in arguments?Number(arguments[2]):0,n=3 in arguments?Number(arguments[3]):0,this.right=(this.x=this.left=e)+(this.width=i),this.bottom=(this.y=this.top=t)+(this.height=n),Object.freeze(this)}function d(){t=requestAnimationFrame(d);var s=new WeakMap,p=new Set;o.forEach((function(t){r.get(t).forEach((function(i){var r=t instanceof window.SVGElement,o=a.get(t),d=r?0:parseFloat(o.paddingTop),f=r?0:parseFloat(o.paddingRight),l=r?0:parseFloat(o.paddingBottom),u=r?0:parseFloat(o.paddingLeft),g=r?0:parseFloat(o.borderTopWidth),m=r?0:parseFloat(o.borderRightWidth),w=r?0:parseFloat(o.borderBottomWidth),b=u+f,F=d+l,v=(r?0:parseFloat(o.borderLeftWidth))+m,W=g+w,y=r?0:t.offsetHeight-W-t.clientHeight,E=r?0:t.offsetWidth-v-t.clientWidth,R=b+v,z=F+W,M=r?t.width:parseFloat(o.width)-R-E,O=r?t.height:parseFloat(o.height)-z-y;if(n.has(t)){var k=n.get(t);if(k[0]===M&&k[1]===O)return}n.set(t,[M,O]);var S=Object.create(h.prototype);S.target=t,S.contentRect=new c(u,d,M,O),s.has(i)||(s.set(i,[]),p.add(i)),s.get(i).push(S)}))})),p.forEach((function(e){i.get(e).call(e,s.get(e),e)}))}return s.prototype.observe=function(i){if(i instanceof window.Element){r.has(i)||(r.set(i,new Set),o.add(i),a.set(i,window.getComputedStyle(i)));var n=r.get(i);n.has(this)||n.add(this),cancelAnimationFrame(t),t=requestAnimationFrame(d)}},s.prototype.unobserve=function(i){if(i instanceof window.Element&&r.has(i)){var n=r.get(i);n.has(this)&&(n.delete(this),n.size||(r.delete(i),o.delete(i))),n.size||r.delete(i),o.size||cancelAnimationFrame(t)}},A.DOMRectReadOnly=c,A.ResizeObserver=s,A.ResizeObserverEntry=h,A}; // eslint-disable-line\nmpl.toolbar_items = [[\"Home\", \"Reset original view\", \"fa fa-home icon-home\", \"home\"], [\"Back\", \"Back to previous view\", \"fa fa-arrow-left icon-arrow-left\", \"back\"], [\"Forward\", \"Forward to next view\", \"fa fa-arrow-right icon-arrow-right\", \"forward\"], [\"\", \"\", \"\", \"\"], [\"Pan\", \"Left button pans, Right button zooms\\nx/y fixes axis, CTRL fixes aspect\", \"fa fa-arrows icon-move\", \"pan\"], [\"Zoom\", \"Zoom to rectangle\\nx/y fixes axis\", \"fa fa-square-o icon-check-empty\", \"zoom\"], [\"\", \"\", \"\", \"\"], [\"Download\", \"Download plot\", \"fa fa-floppy-o icon-save\", \"download\"]];\n\nmpl.extensions = [\"eps\", \"jpeg\", \"pgf\", \"pdf\", \"png\", \"ps\", \"raw\", \"svg\", \"tif\"];\n\nmpl.default_extension = \"png\";/* global mpl */\n\nvar comm_websocket_adapter = function (comm) {\n    // Create a \"websocket\"-like object which calls the given IPython comm\n    // object with the appropriate methods. Currently this is a non binary\n    // socket, so there is still some room for performance tuning.\n    var ws = {};\n\n    ws.binaryType = comm.kernel.ws.binaryType;\n    ws.readyState = comm.kernel.ws.readyState;\n    function updateReadyState(_event) {\n        if (comm.kernel.ws) {\n            ws.readyState = comm.kernel.ws.readyState;\n        } else {\n            ws.readyState = 3; // Closed state.\n        }\n    }\n    comm.kernel.ws.addEventListener('open', updateReadyState);\n    comm.kernel.ws.addEventListener('close', updateReadyState);\n    comm.kernel.ws.addEventListener('error', updateReadyState);\n\n    ws.close = function () {\n        comm.close();\n    };\n    ws.send = function (m) {\n        //console.log('sending', m);\n        comm.send(m);\n    };\n    // Register the callback with on_msg.\n    comm.on_msg(function (msg) {\n        //console.log('receiving', msg['content']['data'], msg);\n        var data = msg['content']['data'];\n        if (data['blob'] !== undefined) {\n            data = {\n                data: new Blob(msg['buffers'], { type: data['blob'] }),\n            };\n        }\n        // Pass the mpl event to the overridden (by mpl) onmessage function.\n        ws.onmessage(data);\n    });\n    return ws;\n};\n\nmpl.mpl_figure_comm = function (comm, msg) {\n    // This is the function which gets called when the mpl process\n    // starts-up an IPython Comm through the \"matplotlib\" channel.\n\n    var id = msg.content.data.id;\n    // Get hold of the div created by the display call when the Comm\n    // socket was opened in Python.\n    var element = document.getElementById(id);\n    var ws_proxy = comm_websocket_adapter(comm);\n\n    function ondownload(figure, _format) {\n        window.open(figure.canvas.toDataURL());\n    }\n\n    var fig = new mpl.figure(id, ws_proxy, ondownload, element);\n\n    // Call onopen now - mpl needs it, as it is assuming we've passed it a real\n    // web socket which is closed, not our websocket->open comm proxy.\n    ws_proxy.onopen();\n\n    fig.parent_element = element;\n    fig.cell_info = mpl.find_output_cell(\"<div id='\" + id + \"'></div>\");\n    if (!fig.cell_info) {\n        console.error('Failed to find cell for figure', id, fig);\n        return;\n    }\n    fig.cell_info[0].output_area.element.on(\n        'cleared',\n        { fig: fig },\n        fig._remove_fig_handler\n    );\n};\n\nmpl.figure.prototype.handle_close = function (fig, msg) {\n    var width = fig.canvas.width / fig.ratio;\n    fig.cell_info[0].output_area.element.off(\n        'cleared',\n        fig._remove_fig_handler\n    );\n    fig.resizeObserverInstance.unobserve(fig.canvas_div);\n\n    // Update the output cell to use the data from the current canvas.\n    fig.push_to_output();\n    var dataURL = fig.canvas.toDataURL();\n    // Re-enable the keyboard manager in IPython - without this line, in FF,\n    // the notebook keyboard shortcuts fail.\n    IPython.keyboard_manager.enable();\n    fig.parent_element.innerHTML =\n        '<img src=\"' + dataURL + '\" width=\"' + width + '\">';\n    fig.close_ws(fig, msg);\n};\n\nmpl.figure.prototype.close_ws = function (fig, msg) {\n    fig.send_message('closing', msg);\n    // fig.ws.close()\n};\n\nmpl.figure.prototype.push_to_output = function (_remove_interactive) {\n    // Turn the data on the canvas into data in the output cell.\n    var width = this.canvas.width / this.ratio;\n    var dataURL = this.canvas.toDataURL();\n    this.cell_info[1]['text/html'] =\n        '<img src=\"' + dataURL + '\" width=\"' + width + '\">';\n};\n\nmpl.figure.prototype.updated_canvas_event = function () {\n    // Tell IPython that the notebook contents must change.\n    IPython.notebook.set_dirty(true);\n    this.send_message('ack', {});\n    var fig = this;\n    // Wait a second, then push the new image to the DOM so\n    // that it is saved nicely (might be nice to debounce this).\n    setTimeout(function () {\n        fig.push_to_output();\n    }, 1000);\n};\n\nmpl.figure.prototype._init_toolbar = function () {\n    var fig = this;\n\n    var toolbar = document.createElement('div');\n    toolbar.classList = 'btn-toolbar';\n    this.root.appendChild(toolbar);\n\n    function on_click_closure(name) {\n        return function (_event) {\n            return fig.toolbar_button_onclick(name);\n        };\n    }\n\n    function on_mouseover_closure(tooltip) {\n        return function (event) {\n            if (!event.currentTarget.disabled) {\n                return fig.toolbar_button_onmouseover(tooltip);\n            }\n        };\n    }\n\n    fig.buttons = {};\n    var buttonGroup = document.createElement('div');\n    buttonGroup.classList = 'btn-group';\n    var button;\n    for (var toolbar_ind in mpl.toolbar_items) {\n        var name = mpl.toolbar_items[toolbar_ind][0];\n        var tooltip = mpl.toolbar_items[toolbar_ind][1];\n        var image = mpl.toolbar_items[toolbar_ind][2];\n        var method_name = mpl.toolbar_items[toolbar_ind][3];\n\n        if (!name) {\n            /* Instead of a spacer, we start a new button group. */\n            if (buttonGroup.hasChildNodes()) {\n                toolbar.appendChild(buttonGroup);\n            }\n            buttonGroup = document.createElement('div');\n            buttonGroup.classList = 'btn-group';\n            continue;\n        }\n\n        button = fig.buttons[name] = document.createElement('button');\n        button.classList = 'btn btn-default';\n        button.href = '#';\n        button.title = name;\n        button.innerHTML = '<i class=\"fa ' + image + ' fa-lg\"></i>';\n        button.addEventListener('click', on_click_closure(method_name));\n        button.addEventListener('mouseover', on_mouseover_closure(tooltip));\n        buttonGroup.appendChild(button);\n    }\n\n    if (buttonGroup.hasChildNodes()) {\n        toolbar.appendChild(buttonGroup);\n    }\n\n    // Add the status bar.\n    var status_bar = document.createElement('span');\n    status_bar.classList = 'mpl-message pull-right';\n    toolbar.appendChild(status_bar);\n    this.message = status_bar;\n\n    // Add the close button to the window.\n    var buttongrp = document.createElement('div');\n    buttongrp.classList = 'btn-group inline pull-right';\n    button = document.createElement('button');\n    button.classList = 'btn btn-mini btn-primary';\n    button.href = '#';\n    button.title = 'Stop Interaction';\n    button.innerHTML = '<i class=\"fa fa-power-off icon-remove icon-large\"></i>';\n    button.addEventListener('click', function (_evt) {\n        fig.handle_close(fig, {});\n    });\n    button.addEventListener(\n        'mouseover',\n        on_mouseover_closure('Stop Interaction')\n    );\n    buttongrp.appendChild(button);\n    var titlebar = this.root.querySelector('.ui-dialog-titlebar');\n    titlebar.insertBefore(buttongrp, titlebar.firstChild);\n};\n\nmpl.figure.prototype._remove_fig_handler = function (event) {\n    var fig = event.data.fig;\n    if (event.target !== this) {\n        // Ignore bubbled events from children.\n        return;\n    }\n    fig.close_ws(fig, {});\n};\n\nmpl.figure.prototype._root_extra_style = function (el) {\n    el.style.boxSizing = 'content-box'; // override notebook setting of border-box.\n};\n\nmpl.figure.prototype._canvas_extra_style = function (el) {\n    // this is important to make the div 'focusable\n    el.setAttribute('tabindex', 0);\n    // reach out to IPython and tell the keyboard manager to turn it's self\n    // off when our div gets focus\n\n    // location in version 3\n    if (IPython.notebook.keyboard_manager) {\n        IPython.notebook.keyboard_manager.register_events(el);\n    } else {\n        // location in version 2\n        IPython.keyboard_manager.register_events(el);\n    }\n};\n\nmpl.figure.prototype._key_event_extra = function (event, _name) {\n    // Check for shift+enter\n    if (event.shiftKey && event.which === 13) {\n        this.canvas_div.blur();\n        // select the cell after this one\n        var index = IPython.notebook.find_cell_index(this.cell_info[0]);\n        IPython.notebook.select(index + 1);\n    }\n};\n\nmpl.figure.prototype.handle_save = function (fig, _msg) {\n    fig.ondownload(fig, null);\n};\n\nmpl.find_output_cell = function (html_output) {\n    // Return the cell and output element which can be found *uniquely* in the notebook.\n    // Note - this is a bit hacky, but it is done because the \"notebook_saving.Notebook\"\n    // IPython event is triggered only after the cells have been serialised, which for\n    // our purposes (turning an active figure into a static one), is too late.\n    var cells = IPython.notebook.get_cells();\n    var ncells = cells.length;\n    for (var i = 0; i < ncells; i++) {\n        var cell = cells[i];\n        if (cell.cell_type === 'code') {\n            for (var j = 0; j < cell.output_area.outputs.length; j++) {\n                var data = cell.output_area.outputs[j];\n                if (data.data) {\n                    // IPython >= 3 moved mimebundle to data attribute of output\n                    data = data.data;\n                }\n                if (data['text/html'] === html_output) {\n                    return [cell, data, j];\n                }\n            }\n        }\n    }\n};\n\n// Register the function which deals with the matplotlib target/channel.\n// The kernel may be null if the page has been refreshed.\nif (IPython.notebook.kernel !== null) {\n    IPython.notebook.kernel.comm_manager.register_target(\n        'matplotlib',\n        mpl.mpl_figure_comm\n    );\n}\n",
          "text/plain": "<IPython.core.display.Javascript object>"
         },
         "metadata": {},
         "output_type": "display_data"
        },
        {
         "data": {
          "text/html": "<div id='9e769fe6-0a55-47f6-992a-cf1643eb6e1e'></div>",
          "text/plain": "<IPython.core.display.HTML object>"
         },
         "metadata": {},
         "output_type": "display_data"
        }
       ]
      }
     },
     "69c0c5e394994951b23784c25f0e58c4": {
      "model_module": "@jupyter-widgets/controls",
      "model_module_version": "1.5.0",
      "model_name": "DescriptionStyleModel",
      "state": {
       "description_width": ""
      }
     },
     "69d67cb3fd72482288b00f1e8448ee5b": {
      "model_module": "@jupyter-widgets/base",
      "model_module_version": "1.2.0",
      "model_name": "LayoutModel",
      "state": {}
     },
     "69e68346d4c643898535b6ada3c7813c": {
      "model_module": "@jupyter-widgets/base",
      "model_module_version": "1.2.0",
      "model_name": "LayoutModel",
      "state": {}
     },
     "6a3b3bf2f7e04296aa4156987307e566": {
      "model_module": "@jupyter-widgets/controls",
      "model_module_version": "1.5.0",
      "model_name": "DescriptionStyleModel",
      "state": {
       "description_width": ""
      }
     },
     "6a5fc158482c46aaa9cd3eefb1b1639d": {
      "model_module": "@jupyter-widgets/base",
      "model_module_version": "1.2.0",
      "model_name": "LayoutModel",
      "state": {}
     },
     "6aa599d1938641288cb052f7a1d4834d": {
      "model_module": "@jupyter-widgets/base",
      "model_module_version": "1.2.0",
      "model_name": "LayoutModel",
      "state": {}
     },
     "6b7fb299647947c6a5478099fd040807": {
      "model_module": "@jupyter-widgets/controls",
      "model_module_version": "1.5.0",
      "model_name": "CheckboxModel",
      "state": {
       "description": "Common",
       "disabled": false,
       "indent": false,
       "layout": "IPY_MODEL_bd942a196b534435b9735f12faf78661",
       "style": "IPY_MODEL_f61b2906bab849c196d3e2096d2ec505",
       "value": false
      }
     },
     "6b910f1f95fe4d608f6c78b3f3fb7f0d": {
      "model_module": "@jupyter-widgets/controls",
      "model_module_version": "1.5.0",
      "model_name": "LabelModel",
      "state": {
       "layout": "IPY_MODEL_0df9987234d949d3a653e70b86abc939",
       "style": "IPY_MODEL_8a83026d709e4d82bc645c7e3a9d298d",
       "value": "Carbon type"
      }
     },
     "6c4b248d55b340b4b63f253692dd4c92": {
      "model_module": "@jupyter-widgets/base",
      "model_module_version": "1.2.0",
      "model_name": "LayoutModel",
      "state": {}
     },
     "6c6e609c53354165bf5a0d4a85806ed2": {
      "model_module": "@jupyter-widgets/controls",
      "model_module_version": "1.5.0",
      "model_name": "HBoxModel",
      "state": {
       "children": [
        "IPY_MODEL_7bad7c9213a84537b54409f2465558b3",
        "IPY_MODEL_fd141db1a1bf440caed76233f68c2c7a"
       ],
       "layout": "IPY_MODEL_83c22ec7b7fa4aca8e3e1ac99267f120"
      }
     },
     "6c951e5b7ec24eb19e249bc0990c9d24": {
      "model_module": "@jupyter-widgets/controls",
      "model_module_version": "1.5.0",
      "model_name": "DescriptionStyleModel",
      "state": {
       "description_width": ""
      }
     },
     "6d034deebb4e4aaf8463e89bfdd67cf7": {
      "model_module": "@jupyter-widgets/controls",
      "model_module_version": "1.5.0",
      "model_name": "HBoxModel",
      "state": {
       "children": [
        "IPY_MODEL_f361868954614fa0b270da025853f0db",
        "IPY_MODEL_f84b2d9fe287458d8f1123b3907bc34c"
       ],
       "layout": "IPY_MODEL_f068c135fdb54283871fc50532103bb4"
      }
     },
     "6d32fb6e3941492ba1dea55bd3cf433d": {
      "model_module": "@jupyter-widgets/controls",
      "model_module_version": "1.5.0",
      "model_name": "DescriptionStyleModel",
      "state": {
       "description_width": ""
      }
     },
     "6de2ac258f724096b1003a80483b3d2a": {
      "model_module": "@jupyter-widgets/controls",
      "model_module_version": "1.5.0",
      "model_name": "HBoxModel",
      "state": {
       "children": [
        "IPY_MODEL_733a01d7329c47689fd9d8a5ed9ae4e4",
        "IPY_MODEL_42c4cb5a2a5443c4bb8893dbd2709413",
        "IPY_MODEL_ba7e36a00a2e418a9c23f1d81f4e1283"
       ],
       "layout": "IPY_MODEL_26bc351613b04b1ba58f59e082ce676b"
      }
     },
     "6de5f5e7b39d4922a7df8e59c8d4467f": {
      "model_module": "@jupyter-widgets/controls",
      "model_module_version": "1.5.0",
      "model_name": "VBoxModel",
      "state": {
       "children": [
        "IPY_MODEL_f8de5e3b67a0445e81e3a2e9971f7b8e"
       ],
       "layout": "IPY_MODEL_347cebfdc4f54773b4b0f8e128e01c77"
      }
     },
     "6df41fdb17f54cc0a972d86c00c5b9a1": {
      "model_module": "@jupyter-widgets/controls",
      "model_module_version": "1.5.0",
      "model_name": "DescriptionStyleModel",
      "state": {
       "description_width": ""
      }
     },
     "6e2adbf7035b4185bc24089c278f856a": {
      "model_module": "@jupyter-widgets/controls",
      "model_module_version": "1.5.0",
      "model_name": "LabelModel",
      "state": {
       "layout": "IPY_MODEL_c399ea34235d4e0e938e7541f0ce5409",
       "style": "IPY_MODEL_765ee66f27c644ce9eae2b4108f3b414",
       "value": "No values saved this session"
      }
     },
     "6e33c73637854535aa4dc57c67476252": {
      "model_module": "@jupyter-widgets/controls",
      "model_module_version": "1.5.0",
      "model_name": "DescriptionStyleModel",
      "state": {
       "description_width": ""
      }
     },
     "6e6327b2e29d4be5ae1be5fff42a5cad": {
      "model_module": "@jupyter-widgets/controls",
      "model_module_version": "1.5.0",
      "model_name": "DescriptionStyleModel",
      "state": {
       "description_width": ""
      }
     },
     "6e6f0a56cdcf411fa346a5f97baf6f1e": {
      "model_module": "@jupyter-widgets/controls",
      "model_module_version": "1.5.0",
      "model_name": "FloatSliderModel",
      "state": {
       "layout": "IPY_MODEL_ebface0f22834e959717c26426098850",
       "max": 1,
       "step": 0.05,
       "style": "IPY_MODEL_45ee7e8d3a2f4e8ead6891ff1b0ffe2c",
       "value": 0.3
      }
     },
     "6e889f2328c841078ecb806a9dc50173": {
      "model_module": "@jupyter-widgets/controls",
      "model_module_version": "1.5.0",
      "model_name": "VBoxModel",
      "state": {
       "children": [
        "IPY_MODEL_7b8ac5e769cb452e9c0ad073eaf9efe3",
        "IPY_MODEL_37fcce5e6fe94cf4bf93dc98e3fb442c"
       ],
       "layout": "IPY_MODEL_fcba04e4a1d24ee19a19f62b9286433b"
      }
     },
     "6e9716f4342f430a89392257bc2e2e60": {
      "model_module": "@jupyter-widgets/controls",
      "model_module_version": "1.5.0",
      "model_name": "ButtonStyleModel",
      "state": {
       "button_color": "orange"
      }
     },
     "6ee92314aaa542f6bc50028759c57b4c": {
      "model_module": "@jupyter-widgets/base",
      "model_module_version": "1.2.0",
      "model_name": "LayoutModel",
      "state": {}
     },
     "6ef45d0389dc450093af2958f8582766": {
      "model_module": "@jupyter-widgets/controls",
      "model_module_version": "1.5.0",
      "model_name": "DescriptionStyleModel",
      "state": {
       "description_width": ""
      }
     },
     "6f340cf51ad04895a7b0cff45ec0705f": {
      "model_module": "@jupyter-widgets/base",
      "model_module_version": "1.2.0",
      "model_name": "LayoutModel",
      "state": {}
     },
     "6f37129fc6f14090b25889889e41400a": {
      "model_module": "@jupyter-widgets/base",
      "model_module_version": "1.2.0",
      "model_name": "LayoutModel",
      "state": {}
     },
     "6f45bf8a118d4158b787c5535ede7448": {
      "model_module": "@jupyter-widgets/base",
      "model_module_version": "1.2.0",
      "model_name": "LayoutModel",
      "state": {}
     },
     "6f9996e67c36469b8bcd7c2ada90b2f4": {
      "model_module": "@jupyter-widgets/controls",
      "model_module_version": "1.5.0",
      "model_name": "ButtonModel",
      "state": {
       "description": "Confirm",
       "layout": "IPY_MODEL_a1e1e97abce641c58d18dd8b235ce7b0",
       "style": "IPY_MODEL_ecb4c942298e4d4e9870a8ef47cea0a5"
      }
     },
     "6fd8e87690654654b20009527f66309c": {
      "model_module": "@jupyter-widgets/controls",
      "model_module_version": "1.5.0",
      "model_name": "DescriptionStyleModel",
      "state": {
       "description_width": ""
      }
     },
     "6ff3b849b96e49dfa083181875d42186": {
      "model_module": "@jupyter-widgets/base",
      "model_module_version": "1.2.0",
      "model_name": "LayoutModel",
      "state": {
       "width": "20%"
      }
     },
     "70014ebd7ab346c19c64ca77fe3f1b65": {
      "model_module": "@jupyter-widgets/base",
      "model_module_version": "1.2.0",
      "model_name": "LayoutModel",
      "state": {}
     },
     "70137ff8c2ff4d09b9277f43a1c866ad": {
      "model_module": "@jupyter-widgets/controls",
      "model_module_version": "1.5.0",
      "model_name": "HBoxModel",
      "state": {
       "children": [
        "IPY_MODEL_a416fc6a1ffb41f7b9e9e78e951a98f9",
        "IPY_MODEL_e350c64087284414a0ec4151abe320f1"
       ],
       "layout": "IPY_MODEL_41f1d1f76c464e70928735256041b7de"
      }
     },
     "70834f34e93b4ab5a03d70b8eafdbe8a": {
      "model_module": "@jupyter-widgets/base",
      "model_module_version": "1.2.0",
      "model_name": "LayoutModel",
      "state": {}
     },
     "7098e114c28f4494bb1e490471669de7": {
      "model_module": "@jupyter-widgets/controls",
      "model_module_version": "1.5.0",
      "model_name": "TextModel",
      "state": {
       "layout": "IPY_MODEL_be250f5f271940d99df09bde7e05d47d",
       "style": "IPY_MODEL_2fb9d3ce965b42dda59db65c261a04ca"
      }
     },
     "70ad421caaa24a96af964cb5c9d04242": {
      "model_module": "@jupyter-widgets/controls",
      "model_module_version": "1.5.0",
      "model_name": "HBoxModel",
      "state": {
       "children": [
        "IPY_MODEL_4e535937ad48462c9c1c583981d29ef5",
        "IPY_MODEL_f6ce55b5846146b195e78236112a1aac"
       ],
       "layout": "IPY_MODEL_c75eb7128d704098972e0f02a58f054f"
      }
     },
     "70d66a7de49240879459f153cafdd21e": {
      "model_module": "@jupyter-widgets/base",
      "model_module_version": "1.2.0",
      "model_name": "LayoutModel",
      "state": {}
     },
     "70fb75b9d9634fc5a207460e4068c9f8": {
      "model_module": "@jupyter-widgets/controls",
      "model_module_version": "1.5.0",
      "model_name": "DescriptionStyleModel",
      "state": {
       "description_width": ""
      }
     },
     "71744944d2d94952a022d5c7a4f0545c": {
      "model_module": "@jupyter-widgets/controls",
      "model_module_version": "1.5.0",
      "model_name": "ButtonModel",
      "state": {
       "description": "Load host names",
       "layout": "IPY_MODEL_6f45bf8a118d4158b787c5535ede7448",
       "style": "IPY_MODEL_bf3de5dd9bdd45ecb8bfd99f647f397d"
      }
     },
     "717c0563122d413b924ad277e11a4545": {
      "model_module": "@jupyter-widgets/controls",
      "model_module_version": "1.5.0",
      "model_name": "DescriptionStyleModel",
      "state": {
       "description_width": ""
      }
     },
     "71e592d454784c87a876cd5bc539b27c": {
      "model_module": "@jupyter-widgets/controls",
      "model_module_version": "1.5.0",
      "model_name": "VBoxModel",
      "state": {
       "children": [
        "IPY_MODEL_07da96ed12194964b82af2a2ed7bc1ae",
        "IPY_MODEL_05929bc8bece4b31927a6c25a6221208",
        "IPY_MODEL_72e17acfc65f436ba4649cdd4e533242",
        "IPY_MODEL_c3d41771f8f54f18ad46f89185fb09af",
        "IPY_MODEL_10a537c54c904de3ae72151d745d75f9",
        "IPY_MODEL_0de096aa67b5407cbb2a6143cd9e38a3"
       ],
       "layout": "IPY_MODEL_9f09d653084f4a888571093e4e7a5521"
      }
     },
     "71e67d48e4f5417dbc72ec03ac5252cc": {
      "model_module": "@jupyter-widgets/controls",
      "model_module_version": "1.5.0",
      "model_name": "DescriptionStyleModel",
      "state": {
       "description_width": ""
      }
     },
     "7270f2135a8447c29227576e5782f4cc": {
      "model_module": "@jupyter-widgets/base",
      "model_module_version": "1.2.0",
      "model_name": "LayoutModel",
      "state": {}
     },
     "72bd522e7c004344b00ab5873094b1fc": {
      "model_module": "@jupyter-widgets/controls",
      "model_module_version": "1.5.0",
      "model_name": "ButtonStyleModel",
      "state": {}
     },
     "72cddd39d3d942fc865d34c4956411b2": {
      "model_module": "@jupyter-widgets/base",
      "model_module_version": "1.2.0",
      "model_name": "LayoutModel",
      "state": {}
     },
     "72dc9083b3f14e188fc55f7a7755a2c5": {
      "model_module": "@jupyter-widgets/controls",
      "model_module_version": "1.5.0",
      "model_name": "HBoxModel",
      "state": {
       "children": [
        "IPY_MODEL_ccbad6d9f27c4d158cb33d6dbec123f8",
        "IPY_MODEL_5e94a94dee394dd281711694a9288fd9"
       ],
       "layout": "IPY_MODEL_d8e1470b7a9e4db39d37dc2e1d008840"
      }
     },
     "72e17acfc65f436ba4649cdd4e533242": {
      "model_module": "@jupyter-widgets/controls",
      "model_module_version": "1.5.0",
      "model_name": "VBoxModel",
      "state": {
       "layout": "IPY_MODEL_49cfba64f62248f7b2cab355154fd72b"
      }
     },
     "72f091fa2e624347b26db2c9a6a949aa": {
      "model_module": "@jupyter-widgets/controls",
      "model_module_version": "1.5.0",
      "model_name": "LabelModel",
      "state": {
       "layout": "IPY_MODEL_54a92a46b7d746adbc7ea152f5dbfa72",
       "style": "IPY_MODEL_62306704f76c437fbcecca5a14ea56c1",
       "value": "Reload previous data"
      }
     },
     "7301522bf9774b7581099d773bf92527": {
      "model_module": "@jupyter-widgets/base",
      "model_module_version": "1.2.0",
      "model_name": "LayoutModel",
      "state": {}
     },
     "731837c4e57a481596719b96eb00f260": {
      "model_module": "@jupyter-widgets/base",
      "model_module_version": "1.2.0",
      "model_name": "LayoutModel",
      "state": {}
     },
     "733a01d7329c47689fd9d8a5ed9ae4e4": {
      "model_module": "@jupyter-widgets/controls",
      "model_module_version": "1.5.0",
      "model_name": "LabelModel",
      "state": {
       "layout": "IPY_MODEL_0df9987234d949d3a653e70b86abc939",
       "style": "IPY_MODEL_e0e79398579c472ea73a97b4c22232a9",
       "value": "Conductive additive"
      }
     },
     "733daa9d49e24415803b0a3aad3ffe77": {
      "model_module": "@jupyter-widgets/base",
      "model_module_version": "1.2.0",
      "model_name": "LayoutModel",
      "state": {}
     },
     "735c4e71b7254878ad666ebf4a251471": {
      "model_module": "@jupyter-widgets/controls",
      "model_module_version": "1.5.0",
      "model_name": "DescriptionStyleModel",
      "state": {
       "description_width": ""
      }
     },
     "73677f10a54d4d3fa156df82671cc17c": {
      "model_module": "@jupyter-widgets/controls",
      "model_module_version": "1.5.0",
      "model_name": "ButtonModel",
      "state": {
       "description": "Add CRate",
       "layout": "IPY_MODEL_d8764e206b2a45898c0ed5c7e7d5bc2d",
       "style": "IPY_MODEL_8fe22d03ee16469a9f73ff19337240fa"
      }
     },
     "73956fc1ac95484da7d0b6d8ca437d1c": {
      "model_module": "@jupyter-widgets/controls",
      "model_module_version": "1.5.0",
      "model_name": "DescriptionStyleModel",
      "state": {
       "description_width": ""
      }
     },
     "745678a9f10341a9a4dcfdca4a1821b3": {
      "model_module": "@jupyter-widgets/controls",
      "model_module_version": "1.5.0",
      "model_name": "VBoxModel",
      "state": {
       "children": [
        "IPY_MODEL_9ab1f27f5d1d4f1bb9b57ad19c1fc0fa",
        "IPY_MODEL_6c6e609c53354165bf5a0d4a85806ed2",
        "IPY_MODEL_902c264d064043a7acb0ffcf3a18b18c",
        "IPY_MODEL_cd96706041ad4e3380faa10cdb4431ba",
        "IPY_MODEL_b7ef9213af814574a0a000867e3160e9",
        "IPY_MODEL_6960f0328a174004984f12c5027843b3"
       ],
       "layout": "IPY_MODEL_6852c5f4753b458db1df65c52a56198a"
      }
     },
     "74c5da7f370c49f8bafa70c88fc35788": {
      "model_module": "@jupyter-widgets/base",
      "model_module_version": "1.2.0",
      "model_name": "LayoutModel",
      "state": {}
     },
     "750b62e315d148ddaccd75c7f5ff168c": {
      "model_module": "@jupyter-widgets/controls",
      "model_module_version": "1.5.0",
      "model_name": "DescriptionStyleModel",
      "state": {
       "description_width": ""
      }
     },
     "752232c282b247768f43e3b1aa567794": {
      "model_module": "@jupyter-widgets/controls",
      "model_module_version": "1.5.0",
      "model_name": "VBoxModel",
      "state": {
       "children": [
        "IPY_MODEL_f04ffc1726c34e73834252504ace368d",
        "IPY_MODEL_d974018e3c84488b9ca4cba9782325bf",
        "IPY_MODEL_4561f2df99184aaa90efaa6f32dcc5e9",
        "IPY_MODEL_df056be884f74abb8121756f82f63b91",
        "IPY_MODEL_79f825fd4b734e138b27c5b8d5026247"
       ],
       "layout": "IPY_MODEL_b68fbe48a44e45d3bf75165863fb985f"
      }
     },
     "754efc3b0f46443ebb2113cf8b995e77": {
      "model_module": "@jupyter-widgets/base",
      "model_module_version": "1.2.0",
      "model_name": "LayoutModel",
      "state": {}
     },
     "757a8ed4597b449aa448b663ab43f5db": {
      "model_module": "@jupyter-widgets/controls",
      "model_module_version": "1.5.0",
      "model_name": "DescriptionStyleModel",
      "state": {
       "description_width": ""
      }
     },
     "75844893eeb84e8b89b98679e2c8d652": {
      "model_module": "@jupyter-widgets/base",
      "model_module_version": "1.2.0",
      "model_name": "LayoutModel",
      "state": {}
     },
     "75ce2f7df0cb42c68b44e7b4af4d8b69": {
      "model_module": "@jupyter-widgets/controls",
      "model_module_version": "1.5.0",
      "model_name": "LabelModel",
      "state": {
       "layout": "IPY_MODEL_7e91f3c36d994803969af76a4e090437",
       "style": "IPY_MODEL_dbaf7b472e7c41038ff71b8fd4e87e0f",
       "value": "Please select a directory"
      }
     },
     "75d59f9ad2174db3bb8195114e96cc2f": {
      "model_module": "@jupyter-widgets/controls",
      "model_module_version": "1.5.0",
      "model_name": "DescriptionStyleModel",
      "state": {
       "description_width": ""
      }
     },
     "763396f4732e4987b89e976f49218b9b": {
      "model_module": "@jupyter-widgets/base",
      "model_module_version": "1.2.0",
      "model_name": "LayoutModel",
      "state": {}
     },
     "764212eb616d479194ddcd5afa892db8": {
      "model_module": "@jupyter-widgets/base",
      "model_module_version": "1.2.0",
      "model_name": "LayoutModel",
      "state": {}
     },
     "765ee66f27c644ce9eae2b4108f3b414": {
      "model_module": "@jupyter-widgets/controls",
      "model_module_version": "1.5.0",
      "model_name": "DescriptionStyleModel",
      "state": {
       "description_width": ""
      }
     },
     "7664ad5827cb44a19de69ee07102bf3d": {
      "model_module": "@jupyter-widgets/controls",
      "model_module_version": "1.5.0",
      "model_name": "HBoxModel",
      "state": {
       "children": [
        "IPY_MODEL_87e47cf8788144ce928464cc7cea152b",
        "IPY_MODEL_2baca40d8c364d8e81afa3e47e6944e7"
       ],
       "layout": "IPY_MODEL_d7c2105ffbb14fc4847c193a8d98a024"
      }
     },
     "7664ce2180644371ba2b14513cc911a9": {
      "model_module": "@jupyter-widgets/controls",
      "model_module_version": "1.5.0",
      "model_name": "DescriptionStyleModel",
      "state": {
       "description_width": ""
      }
     },
     "7672e9f4ee3543439a00d784e2c8ac10": {
      "model_module": "@jupyter-widgets/controls",
      "model_module_version": "1.5.0",
      "model_name": "LabelModel",
      "state": {
       "layout": "IPY_MODEL_a73682c6c0eb4be2a579f9ad11a4fb6e",
       "style": "IPY_MODEL_245de0066522420f9f92447d8dc0869a",
       "value": "No saved values"
      }
     },
     "76b47383be8d444faaf8f1572c26e0c5": {
      "model_module": "@jupyter-widgets/controls",
      "model_module_version": "1.5.0",
      "model_name": "DescriptionStyleModel",
      "state": {
       "description_width": ""
      }
     },
     "76fff8a2105f4061bf0aaef457632361": {
      "model_module": "@jupyter-widgets/controls",
      "model_module_version": "1.5.0",
      "model_name": "TabModel",
      "state": {
       "_titles": {
        "0": "Save and reload",
        "1": "Article details",
        "2": "Host",
        "3": "Electrolyte",
        "4": "Sulfur XRD"
       },
       "children": [
        "IPY_MODEL_c4745756b9d9443dba5bb16d1982d806",
        "IPY_MODEL_59d09832b79444189e6d982a987386cf",
        "IPY_MODEL_6e889f2328c841078ecb806a9dc50173",
        "IPY_MODEL_3c06f027eddc43f2814251aa6fd358bf",
        "IPY_MODEL_6de5f5e7b39d4922a7df8e59c8d4467f"
       ],
       "layout": "IPY_MODEL_763396f4732e4987b89e976f49218b9b"
      }
     },
     "7718e3fc0dca470aaa2ca80c98adfda0": {
      "model_module": "@jupyter-widgets/base",
      "model_module_version": "1.2.0",
      "model_name": "LayoutModel",
      "state": {}
     },
     "77d0b94d6ab74c7fb3f1dea33b653303": {
      "model_module": "@jupyter-widgets/controls",
      "model_module_version": "1.5.0",
      "model_name": "DescriptionStyleModel",
      "state": {
       "description_width": ""
      }
     },
     "781549a4c4dc4c3fad3a3c1cc83725c5": {
      "model_module": "@jupyter-widgets/controls",
      "model_module_version": "1.5.0",
      "model_name": "DescriptionStyleModel",
      "state": {
       "description_width": ""
      }
     },
     "7872e78fbd8149ec8033e7ada782bf12": {
      "model_module": "@jupyter-widgets/base",
      "model_module_version": "1.2.0",
      "model_name": "LayoutModel",
      "state": {}
     },
     "789c3556446147f89c866ced3fb1d39b": {
      "model_module": "@jupyter-widgets/controls",
      "model_module_version": "1.5.0",
      "model_name": "DescriptionStyleModel",
      "state": {
       "description_width": ""
      }
     },
     "79069ba6ded149908ad0787375ea6495": {
      "model_module": "@jupyter-widgets/controls",
      "model_module_version": "1.5.0",
      "model_name": "DescriptionStyleModel",
      "state": {
       "description_width": ""
      }
     },
     "7909b9cdce6f4538996269aec2f7bfa9": {
      "model_module": "@jupyter-widgets/controls",
      "model_module_version": "1.5.0",
      "model_name": "CheckboxModel",
      "state": {
       "description": "Common",
       "disabled": false,
       "indent": false,
       "layout": "IPY_MODEL_095feda0552843f5ad04896550587b23",
       "style": "IPY_MODEL_4672cf2d215a4e3090c0f3ca3bd5eb6d",
       "value": false
      }
     },
     "794f50c734b748a6a88d8f19a2d6069d": {
      "model_module": "@jupyter-widgets/controls",
      "model_module_version": "1.5.0",
      "model_name": "CheckboxModel",
      "state": {
       "description": "Common",
       "disabled": false,
       "indent": false,
       "layout": "IPY_MODEL_a87213d8034c49b3b135f2be0f70e17f",
       "style": "IPY_MODEL_9f1dcdfea5f24083860b6de74e9aebdf",
       "value": false
      }
     },
     "79605e17e5ea47579caaec6c44b1ea70": {
      "model_module": "@jupyter-widgets/controls",
      "model_module_version": "1.5.0",
      "model_name": "ButtonStyleModel",
      "state": {}
     },
     "79a231f558944f1ca8fcc3097ecdc72b": {
      "model_module": "@jupyter-widgets/controls",
      "model_module_version": "1.5.0",
      "model_name": "DescriptionStyleModel",
      "state": {
       "description_width": ""
      }
     },
     "79e99de20afc411b84a19a8f1c466e96": {
      "model_module": "@jupyter-widgets/controls",
      "model_module_version": "1.5.0",
      "model_name": "LabelModel",
      "state": {
       "layout": "IPY_MODEL_0df9987234d949d3a653e70b86abc939",
       "style": "IPY_MODEL_2f4fbf1e62b344b29cb36a13bbf7144f",
       "value": "Pore volume"
      }
     },
     "79f825fd4b734e138b27c5b8d5026247": {
      "model_module": "@jupyter-widgets/controls",
      "model_module_version": "1.5.0",
      "model_name": "HBoxModel",
      "state": {
       "children": [
        "IPY_MODEL_fbcd3ad137ac499d802fa725f20a7cb7",
        "IPY_MODEL_a5a2764582e94801b1c867e4096587bf"
       ],
       "layout": "IPY_MODEL_ebceb82c3ab8449d98293cae67c621db"
      }
     },
     "7ac54d8230424aacbc67eaa80f08e8ea": {
      "model_module": "@jupyter-widgets/controls",
      "model_module_version": "1.5.0",
      "model_name": "HBoxModel",
      "state": {
       "children": [
        "IPY_MODEL_19e2be4558e34f9ab73baa70f105089f",
        "IPY_MODEL_264f13d395be4383a95b4070347c6bae"
       ],
       "layout": "IPY_MODEL_7718e3fc0dca470aaa2ca80c98adfda0"
      }
     },
     "7adf3f6ccb844f009c444dbf9ff04e7e": {
      "model_module": "@jupyter-widgets/controls",
      "model_module_version": "1.5.0",
      "model_name": "HBoxModel",
      "state": {
       "children": [
        "IPY_MODEL_cb2209fba90c4e12821456187f0d2825",
        "IPY_MODEL_cb1d5c6396764414922243b741c3c51d"
       ],
       "layout": "IPY_MODEL_a52830233df64ad3912a21b768109c55"
      }
     },
     "7b4a3c87a30747b192a13ccf297e9686": {
      "model_module": "@jupyter-widgets/controls",
      "model_module_version": "1.5.0",
      "model_name": "ButtonModel",
      "state": {
       "description": "Add line",
       "layout": "IPY_MODEL_8827c39ef31d4d23adeb8f8dde42516b",
       "style": "IPY_MODEL_a91434fe01b043f889c993672d86c3ed"
      }
     },
     "7b80aa07ab7e4fd495553797b9ebea20": {
      "model_module": "@jupyter-widgets/base",
      "model_module_version": "1.2.0",
      "model_name": "LayoutModel",
      "state": {}
     },
     "7b8ac5e769cb452e9c0ad073eaf9efe3": {
      "model_module": "@jupyter-widgets/controls",
      "model_module_version": "1.5.0",
      "model_name": "VBoxModel",
      "state": {
       "children": [
        "IPY_MODEL_57a7ce654f4044bc83207162455d5ede",
        "IPY_MODEL_ffc9aac963c749768310019070aecc97",
        "IPY_MODEL_3483cd6a2bba4102bb4b1f5635b3c8ae",
        "IPY_MODEL_70137ff8c2ff4d09b9277f43a1c866ad"
       ],
       "layout": "IPY_MODEL_db27039b7fd04cbc999ab46c888fb9b0"
      }
     },
     "7bad7c9213a84537b54409f2465558b3": {
      "model_module": "@jupyter-widgets/controls",
      "model_module_version": "1.5.0",
      "model_name": "FloatTextModel",
      "state": {
       "description": "x min",
       "layout": "IPY_MODEL_09110d5fe4364423a8a8f66681fc1fa0",
       "step": null,
       "style": "IPY_MODEL_d4ad3f95fd1a4862b02a5585ee3b266b"
      }
     },
     "7bcbb59767584d5782ad2634d061a94e": {
      "model_module": "@jupyter-widgets/controls",
      "model_module_version": "1.5.0",
      "model_name": "DescriptionStyleModel",
      "state": {
       "description_width": ""
      }
     },
     "7bddfccdeae341a598fa0a21b2bc321f": {
      "model_module": "@jupyter-widgets/controls",
      "model_module_version": "1.5.0",
      "model_name": "DescriptionStyleModel",
      "state": {
       "description_width": ""
      }
     },
     "7c3b0f3a9e3f452b8ab0328348d5b1f6": {
      "model_module": "@jupyter-widgets/controls",
      "model_module_version": "1.5.0",
      "model_name": "HBoxModel",
      "state": {
       "children": [
        "IPY_MODEL_dd019dc71b3d40b6a669c086febbba93",
        "IPY_MODEL_7fd5503a534b4da1902ed4ae8bca5036",
        "IPY_MODEL_8f0be149c81e4f51a859eeb5ca769e93"
       ],
       "layout": "IPY_MODEL_9341c7fc26e14bd887d65bcd932961a5"
      }
     },
     "7c69bf44bb9f4da09147d22d854c6041": {
      "model_module": "@jupyter-widgets/base",
      "model_module_version": "1.2.0",
      "model_name": "LayoutModel",
      "state": {
       "width": "10%"
      }
     },
     "7c910393d1bf453a98e44a0523f6e2d0": {
      "model_module": "@jupyter-widgets/base",
      "model_module_version": "1.2.0",
      "model_name": "LayoutModel",
      "state": {}
     },
     "7c9e0b0c054f49d7b59ec71c51911723": {
      "model_module": "@jupyter-widgets/controls",
      "model_module_version": "1.5.0",
      "model_name": "FloatTextModel",
      "state": {
       "layout": "IPY_MODEL_c87e16b4e46940cda38875aa5112e16d",
       "step": null,
       "style": "IPY_MODEL_7ecf7e54c0e24df6b6aca96b44aa4bdc"
      }
     },
     "7cd4c74d7cf941189185c5646527c25a": {
      "model_module": "@jupyter-widgets/output",
      "model_module_version": "1.0.0",
      "model_name": "OutputModel",
      "state": {
       "layout": "IPY_MODEL_a83169d731314c0485eb80e277b18eda",
       "outputs": [
        {
         "data": {
          "application/javascript": "/* Put everything inside the global mpl namespace */\n/* global mpl */\nwindow.mpl = {};\n\nmpl.get_websocket_type = function () {\n    if (typeof WebSocket !== 'undefined') {\n        return WebSocket;\n    } else if (typeof MozWebSocket !== 'undefined') {\n        return MozWebSocket;\n    } else {\n        alert(\n            'Your browser does not have WebSocket support. ' +\n                'Please try Chrome, Safari or Firefox ≥ 6. ' +\n                'Firefox 4 and 5 are also supported but you ' +\n                'have to enable WebSockets in about:config.'\n        );\n    }\n};\n\nmpl.figure = function (figure_id, websocket, ondownload, parent_element) {\n    this.id = figure_id;\n\n    this.ws = websocket;\n\n    this.supports_binary = this.ws.binaryType !== undefined;\n\n    if (!this.supports_binary) {\n        var warnings = document.getElementById('mpl-warnings');\n        if (warnings) {\n            warnings.style.display = 'block';\n            warnings.textContent =\n                'This browser does not support binary websocket messages. ' +\n                'Performance may be slow.';\n        }\n    }\n\n    this.imageObj = new Image();\n\n    this.context = undefined;\n    this.message = undefined;\n    this.canvas = undefined;\n    this.rubberband_canvas = undefined;\n    this.rubberband_context = undefined;\n    this.format_dropdown = undefined;\n\n    this.image_mode = 'full';\n\n    this.root = document.createElement('div');\n    this.root.setAttribute('style', 'display: inline-block');\n    this._root_extra_style(this.root);\n\n    parent_element.appendChild(this.root);\n\n    this._init_header(this);\n    this._init_canvas(this);\n    this._init_toolbar(this);\n\n    var fig = this;\n\n    this.waiting = false;\n\n    this.ws.onopen = function () {\n        fig.send_message('supports_binary', { value: fig.supports_binary });\n        fig.send_message('send_image_mode', {});\n        if (fig.ratio !== 1) {\n            fig.send_message('set_device_pixel_ratio', {\n                device_pixel_ratio: fig.ratio,\n            });\n        }\n        fig.send_message('refresh', {});\n    };\n\n    this.imageObj.onload = function () {\n        if (fig.image_mode === 'full') {\n            // Full images could contain transparency (where diff images\n            // almost always do), so we need to clear the canvas so that\n            // there is no ghosting.\n            fig.context.clearRect(0, 0, fig.canvas.width, fig.canvas.height);\n        }\n        fig.context.drawImage(fig.imageObj, 0, 0);\n    };\n\n    this.imageObj.onunload = function () {\n        fig.ws.close();\n    };\n\n    this.ws.onmessage = this._make_on_message_function(this);\n\n    this.ondownload = ondownload;\n};\n\nmpl.figure.prototype._init_header = function () {\n    var titlebar = document.createElement('div');\n    titlebar.classList =\n        'ui-dialog-titlebar ui-widget-header ui-corner-all ui-helper-clearfix';\n    var titletext = document.createElement('div');\n    titletext.classList = 'ui-dialog-title';\n    titletext.setAttribute(\n        'style',\n        'width: 100%; text-align: center; padding: 3px;'\n    );\n    titlebar.appendChild(titletext);\n    this.root.appendChild(titlebar);\n    this.header = titletext;\n};\n\nmpl.figure.prototype._canvas_extra_style = function (_canvas_div) {};\n\nmpl.figure.prototype._root_extra_style = function (_canvas_div) {};\n\nmpl.figure.prototype._init_canvas = function () {\n    var fig = this;\n\n    var canvas_div = (this.canvas_div = document.createElement('div'));\n    canvas_div.setAttribute(\n        'style',\n        'border: 1px solid #ddd;' +\n            'box-sizing: content-box;' +\n            'clear: both;' +\n            'min-height: 1px;' +\n            'min-width: 1px;' +\n            'outline: 0;' +\n            'overflow: hidden;' +\n            'position: relative;' +\n            'resize: both;'\n    );\n\n    function on_keyboard_event_closure(name) {\n        return function (event) {\n            return fig.key_event(event, name);\n        };\n    }\n\n    canvas_div.addEventListener(\n        'keydown',\n        on_keyboard_event_closure('key_press')\n    );\n    canvas_div.addEventListener(\n        'keyup',\n        on_keyboard_event_closure('key_release')\n    );\n\n    this._canvas_extra_style(canvas_div);\n    this.root.appendChild(canvas_div);\n\n    var canvas = (this.canvas = document.createElement('canvas'));\n    canvas.classList.add('mpl-canvas');\n    canvas.setAttribute('style', 'box-sizing: content-box;');\n\n    this.context = canvas.getContext('2d');\n\n    var backingStore =\n        this.context.backingStorePixelRatio ||\n        this.context.webkitBackingStorePixelRatio ||\n        this.context.mozBackingStorePixelRatio ||\n        this.context.msBackingStorePixelRatio ||\n        this.context.oBackingStorePixelRatio ||\n        this.context.backingStorePixelRatio ||\n        1;\n\n    this.ratio = (window.devicePixelRatio || 1) / backingStore;\n\n    var rubberband_canvas = (this.rubberband_canvas = document.createElement(\n        'canvas'\n    ));\n    rubberband_canvas.setAttribute(\n        'style',\n        'box-sizing: content-box; position: absolute; left: 0; top: 0; z-index: 1;'\n    );\n\n    // Apply a ponyfill if ResizeObserver is not implemented by browser.\n    if (this.ResizeObserver === undefined) {\n        if (window.ResizeObserver !== undefined) {\n            this.ResizeObserver = window.ResizeObserver;\n        } else {\n            var obs = _JSXTOOLS_RESIZE_OBSERVER({});\n            this.ResizeObserver = obs.ResizeObserver;\n        }\n    }\n\n    this.resizeObserverInstance = new this.ResizeObserver(function (entries) {\n        var nentries = entries.length;\n        for (var i = 0; i < nentries; i++) {\n            var entry = entries[i];\n            var width, height;\n            if (entry.contentBoxSize) {\n                if (entry.contentBoxSize instanceof Array) {\n                    // Chrome 84 implements new version of spec.\n                    width = entry.contentBoxSize[0].inlineSize;\n                    height = entry.contentBoxSize[0].blockSize;\n                } else {\n                    // Firefox implements old version of spec.\n                    width = entry.contentBoxSize.inlineSize;\n                    height = entry.contentBoxSize.blockSize;\n                }\n            } else {\n                // Chrome <84 implements even older version of spec.\n                width = entry.contentRect.width;\n                height = entry.contentRect.height;\n            }\n\n            // Keep the size of the canvas and rubber band canvas in sync with\n            // the canvas container.\n            if (entry.devicePixelContentBoxSize) {\n                // Chrome 84 implements new version of spec.\n                canvas.setAttribute(\n                    'width',\n                    entry.devicePixelContentBoxSize[0].inlineSize\n                );\n                canvas.setAttribute(\n                    'height',\n                    entry.devicePixelContentBoxSize[0].blockSize\n                );\n            } else {\n                canvas.setAttribute('width', width * fig.ratio);\n                canvas.setAttribute('height', height * fig.ratio);\n            }\n            canvas.setAttribute(\n                'style',\n                'width: ' + width + 'px; height: ' + height + 'px;'\n            );\n\n            rubberband_canvas.setAttribute('width', width);\n            rubberband_canvas.setAttribute('height', height);\n\n            // And update the size in Python. We ignore the initial 0/0 size\n            // that occurs as the element is placed into the DOM, which should\n            // otherwise not happen due to the minimum size styling.\n            if (fig.ws.readyState == 1 && width != 0 && height != 0) {\n                fig.request_resize(width, height);\n            }\n        }\n    });\n    this.resizeObserverInstance.observe(canvas_div);\n\n    function on_mouse_event_closure(name) {\n        return function (event) {\n            return fig.mouse_event(event, name);\n        };\n    }\n\n    rubberband_canvas.addEventListener(\n        'mousedown',\n        on_mouse_event_closure('button_press')\n    );\n    rubberband_canvas.addEventListener(\n        'mouseup',\n        on_mouse_event_closure('button_release')\n    );\n    rubberband_canvas.addEventListener(\n        'dblclick',\n        on_mouse_event_closure('dblclick')\n    );\n    // Throttle sequential mouse events to 1 every 20ms.\n    rubberband_canvas.addEventListener(\n        'mousemove',\n        on_mouse_event_closure('motion_notify')\n    );\n\n    rubberband_canvas.addEventListener(\n        'mouseenter',\n        on_mouse_event_closure('figure_enter')\n    );\n    rubberband_canvas.addEventListener(\n        'mouseleave',\n        on_mouse_event_closure('figure_leave')\n    );\n\n    canvas_div.addEventListener('wheel', function (event) {\n        if (event.deltaY < 0) {\n            event.step = 1;\n        } else {\n            event.step = -1;\n        }\n        on_mouse_event_closure('scroll')(event);\n    });\n\n    canvas_div.appendChild(canvas);\n    canvas_div.appendChild(rubberband_canvas);\n\n    this.rubberband_context = rubberband_canvas.getContext('2d');\n    this.rubberband_context.strokeStyle = '#000000';\n\n    this._resize_canvas = function (width, height, forward) {\n        if (forward) {\n            canvas_div.style.width = width + 'px';\n            canvas_div.style.height = height + 'px';\n        }\n    };\n\n    // Disable right mouse context menu.\n    this.rubberband_canvas.addEventListener('contextmenu', function (_e) {\n        event.preventDefault();\n        return false;\n    });\n\n    function set_focus() {\n        canvas.focus();\n        canvas_div.focus();\n    }\n\n    window.setTimeout(set_focus, 100);\n};\n\nmpl.figure.prototype._init_toolbar = function () {\n    var fig = this;\n\n    var toolbar = document.createElement('div');\n    toolbar.classList = 'mpl-toolbar';\n    this.root.appendChild(toolbar);\n\n    function on_click_closure(name) {\n        return function (_event) {\n            return fig.toolbar_button_onclick(name);\n        };\n    }\n\n    function on_mouseover_closure(tooltip) {\n        return function (event) {\n            if (!event.currentTarget.disabled) {\n                return fig.toolbar_button_onmouseover(tooltip);\n            }\n        };\n    }\n\n    fig.buttons = {};\n    var buttonGroup = document.createElement('div');\n    buttonGroup.classList = 'mpl-button-group';\n    for (var toolbar_ind in mpl.toolbar_items) {\n        var name = mpl.toolbar_items[toolbar_ind][0];\n        var tooltip = mpl.toolbar_items[toolbar_ind][1];\n        var image = mpl.toolbar_items[toolbar_ind][2];\n        var method_name = mpl.toolbar_items[toolbar_ind][3];\n\n        if (!name) {\n            /* Instead of a spacer, we start a new button group. */\n            if (buttonGroup.hasChildNodes()) {\n                toolbar.appendChild(buttonGroup);\n            }\n            buttonGroup = document.createElement('div');\n            buttonGroup.classList = 'mpl-button-group';\n            continue;\n        }\n\n        var button = (fig.buttons[name] = document.createElement('button'));\n        button.classList = 'mpl-widget';\n        button.setAttribute('role', 'button');\n        button.setAttribute('aria-disabled', 'false');\n        button.addEventListener('click', on_click_closure(method_name));\n        button.addEventListener('mouseover', on_mouseover_closure(tooltip));\n\n        var icon_img = document.createElement('img');\n        icon_img.src = '_images/' + image + '.png';\n        icon_img.srcset = '_images/' + image + '_large.png 2x';\n        icon_img.alt = tooltip;\n        button.appendChild(icon_img);\n\n        buttonGroup.appendChild(button);\n    }\n\n    if (buttonGroup.hasChildNodes()) {\n        toolbar.appendChild(buttonGroup);\n    }\n\n    var fmt_picker = document.createElement('select');\n    fmt_picker.classList = 'mpl-widget';\n    toolbar.appendChild(fmt_picker);\n    this.format_dropdown = fmt_picker;\n\n    for (var ind in mpl.extensions) {\n        var fmt = mpl.extensions[ind];\n        var option = document.createElement('option');\n        option.selected = fmt === mpl.default_extension;\n        option.innerHTML = fmt;\n        fmt_picker.appendChild(option);\n    }\n\n    var status_bar = document.createElement('span');\n    status_bar.classList = 'mpl-message';\n    toolbar.appendChild(status_bar);\n    this.message = status_bar;\n};\n\nmpl.figure.prototype.request_resize = function (x_pixels, y_pixels) {\n    // Request matplotlib to resize the figure. Matplotlib will then trigger a resize in the client,\n    // which will in turn request a refresh of the image.\n    this.send_message('resize', { width: x_pixels, height: y_pixels });\n};\n\nmpl.figure.prototype.send_message = function (type, properties) {\n    properties['type'] = type;\n    properties['figure_id'] = this.id;\n    this.ws.send(JSON.stringify(properties));\n};\n\nmpl.figure.prototype.send_draw_message = function () {\n    if (!this.waiting) {\n        this.waiting = true;\n        this.ws.send(JSON.stringify({ type: 'draw', figure_id: this.id }));\n    }\n};\n\nmpl.figure.prototype.handle_save = function (fig, _msg) {\n    var format_dropdown = fig.format_dropdown;\n    var format = format_dropdown.options[format_dropdown.selectedIndex].value;\n    fig.ondownload(fig, format);\n};\n\nmpl.figure.prototype.handle_resize = function (fig, msg) {\n    var size = msg['size'];\n    if (size[0] !== fig.canvas.width || size[1] !== fig.canvas.height) {\n        fig._resize_canvas(size[0], size[1], msg['forward']);\n        fig.send_message('refresh', {});\n    }\n};\n\nmpl.figure.prototype.handle_rubberband = function (fig, msg) {\n    var x0 = msg['x0'] / fig.ratio;\n    var y0 = (fig.canvas.height - msg['y0']) / fig.ratio;\n    var x1 = msg['x1'] / fig.ratio;\n    var y1 = (fig.canvas.height - msg['y1']) / fig.ratio;\n    x0 = Math.floor(x0) + 0.5;\n    y0 = Math.floor(y0) + 0.5;\n    x1 = Math.floor(x1) + 0.5;\n    y1 = Math.floor(y1) + 0.5;\n    var min_x = Math.min(x0, x1);\n    var min_y = Math.min(y0, y1);\n    var width = Math.abs(x1 - x0);\n    var height = Math.abs(y1 - y0);\n\n    fig.rubberband_context.clearRect(\n        0,\n        0,\n        fig.canvas.width / fig.ratio,\n        fig.canvas.height / fig.ratio\n    );\n\n    fig.rubberband_context.strokeRect(min_x, min_y, width, height);\n};\n\nmpl.figure.prototype.handle_figure_label = function (fig, msg) {\n    // Updates the figure title.\n    fig.header.textContent = msg['label'];\n};\n\nmpl.figure.prototype.handle_cursor = function (fig, msg) {\n    fig.rubberband_canvas.style.cursor = msg['cursor'];\n};\n\nmpl.figure.prototype.handle_message = function (fig, msg) {\n    fig.message.textContent = msg['message'];\n};\n\nmpl.figure.prototype.handle_draw = function (fig, _msg) {\n    // Request the server to send over a new figure.\n    fig.send_draw_message();\n};\n\nmpl.figure.prototype.handle_image_mode = function (fig, msg) {\n    fig.image_mode = msg['mode'];\n};\n\nmpl.figure.prototype.handle_history_buttons = function (fig, msg) {\n    for (var key in msg) {\n        if (!(key in fig.buttons)) {\n            continue;\n        }\n        fig.buttons[key].disabled = !msg[key];\n        fig.buttons[key].setAttribute('aria-disabled', !msg[key]);\n    }\n};\n\nmpl.figure.prototype.handle_navigate_mode = function (fig, msg) {\n    if (msg['mode'] === 'PAN') {\n        fig.buttons['Pan'].classList.add('active');\n        fig.buttons['Zoom'].classList.remove('active');\n    } else if (msg['mode'] === 'ZOOM') {\n        fig.buttons['Pan'].classList.remove('active');\n        fig.buttons['Zoom'].classList.add('active');\n    } else {\n        fig.buttons['Pan'].classList.remove('active');\n        fig.buttons['Zoom'].classList.remove('active');\n    }\n};\n\nmpl.figure.prototype.updated_canvas_event = function () {\n    // Called whenever the canvas gets updated.\n    this.send_message('ack', {});\n};\n\n// A function to construct a web socket function for onmessage handling.\n// Called in the figure constructor.\nmpl.figure.prototype._make_on_message_function = function (fig) {\n    return function socket_on_message(evt) {\n        if (evt.data instanceof Blob) {\n            var img = evt.data;\n            if (img.type !== 'image/png') {\n                /* FIXME: We get \"Resource interpreted as Image but\n                 * transferred with MIME type text/plain:\" errors on\n                 * Chrome.  But how to set the MIME type?  It doesn't seem\n                 * to be part of the websocket stream */\n                img.type = 'image/png';\n            }\n\n            /* Free the memory for the previous frames */\n            if (fig.imageObj.src) {\n                (window.URL || window.webkitURL).revokeObjectURL(\n                    fig.imageObj.src\n                );\n            }\n\n            fig.imageObj.src = (window.URL || window.webkitURL).createObjectURL(\n                img\n            );\n            fig.updated_canvas_event();\n            fig.waiting = false;\n            return;\n        } else if (\n            typeof evt.data === 'string' &&\n            evt.data.slice(0, 21) === 'data:image/png;base64'\n        ) {\n            fig.imageObj.src = evt.data;\n            fig.updated_canvas_event();\n            fig.waiting = false;\n            return;\n        }\n\n        var msg = JSON.parse(evt.data);\n        var msg_type = msg['type'];\n\n        // Call the  \"handle_{type}\" callback, which takes\n        // the figure and JSON message as its only arguments.\n        try {\n            var callback = fig['handle_' + msg_type];\n        } catch (e) {\n            console.log(\n                \"No handler for the '\" + msg_type + \"' message type: \",\n                msg\n            );\n            return;\n        }\n\n        if (callback) {\n            try {\n                // console.log(\"Handling '\" + msg_type + \"' message: \", msg);\n                callback(fig, msg);\n            } catch (e) {\n                console.log(\n                    \"Exception inside the 'handler_\" + msg_type + \"' callback:\",\n                    e,\n                    e.stack,\n                    msg\n                );\n            }\n        }\n    };\n};\n\n// from https://stackoverflow.com/questions/1114465/getting-mouse-location-in-canvas\nmpl.findpos = function (e) {\n    //this section is from http://www.quirksmode.org/js/events_properties.html\n    var targ;\n    if (!e) {\n        e = window.event;\n    }\n    if (e.target) {\n        targ = e.target;\n    } else if (e.srcElement) {\n        targ = e.srcElement;\n    }\n    if (targ.nodeType === 3) {\n        // defeat Safari bug\n        targ = targ.parentNode;\n    }\n\n    // pageX,Y are the mouse positions relative to the document\n    var boundingRect = targ.getBoundingClientRect();\n    var x = e.pageX - (boundingRect.left + document.body.scrollLeft);\n    var y = e.pageY - (boundingRect.top + document.body.scrollTop);\n\n    return { x: x, y: y };\n};\n\n/*\n * return a copy of an object with only non-object keys\n * we need this to avoid circular references\n * https://stackoverflow.com/a/24161582/3208463\n */\nfunction simpleKeys(original) {\n    return Object.keys(original).reduce(function (obj, key) {\n        if (typeof original[key] !== 'object') {\n            obj[key] = original[key];\n        }\n        return obj;\n    }, {});\n}\n\nmpl.figure.prototype.mouse_event = function (event, name) {\n    var canvas_pos = mpl.findpos(event);\n\n    if (name === 'button_press') {\n        this.canvas.focus();\n        this.canvas_div.focus();\n    }\n\n    var x = canvas_pos.x * this.ratio;\n    var y = canvas_pos.y * this.ratio;\n\n    this.send_message(name, {\n        x: x,\n        y: y,\n        button: event.button,\n        step: event.step,\n        guiEvent: simpleKeys(event),\n    });\n\n    /* This prevents the web browser from automatically changing to\n     * the text insertion cursor when the button is pressed.  We want\n     * to control all of the cursor setting manually through the\n     * 'cursor' event from matplotlib */\n    event.preventDefault();\n    return false;\n};\n\nmpl.figure.prototype._key_event_extra = function (_event, _name) {\n    // Handle any extra behaviour associated with a key event\n};\n\nmpl.figure.prototype.key_event = function (event, name) {\n    // Prevent repeat events\n    if (name === 'key_press') {\n        if (event.key === this._key) {\n            return;\n        } else {\n            this._key = event.key;\n        }\n    }\n    if (name === 'key_release') {\n        this._key = null;\n    }\n\n    var value = '';\n    if (event.ctrlKey && event.key !== 'Control') {\n        value += 'ctrl+';\n    }\n    else if (event.altKey && event.key !== 'Alt') {\n        value += 'alt+';\n    }\n    else if (event.shiftKey && event.key !== 'Shift') {\n        value += 'shift+';\n    }\n\n    value += 'k' + event.key;\n\n    this._key_event_extra(event, name);\n\n    this.send_message(name, { key: value, guiEvent: simpleKeys(event) });\n    return false;\n};\n\nmpl.figure.prototype.toolbar_button_onclick = function (name) {\n    if (name === 'download') {\n        this.handle_save(this, null);\n    } else {\n        this.send_message('toolbar_button', { name: name });\n    }\n};\n\nmpl.figure.prototype.toolbar_button_onmouseover = function (tooltip) {\n    this.message.textContent = tooltip;\n};\n\n///////////////// REMAINING CONTENT GENERATED BY embed_js.py /////////////////\n// prettier-ignore\nvar _JSXTOOLS_RESIZE_OBSERVER=function(A){var t,i=new WeakMap,n=new WeakMap,a=new WeakMap,r=new WeakMap,o=new Set;function s(e){if(!(this instanceof s))throw new TypeError(\"Constructor requires 'new' operator\");i.set(this,e)}function h(){throw new TypeError(\"Function is not a constructor\")}function c(e,t,i,n){e=0 in arguments?Number(arguments[0]):0,t=1 in arguments?Number(arguments[1]):0,i=2 in arguments?Number(arguments[2]):0,n=3 in arguments?Number(arguments[3]):0,this.right=(this.x=this.left=e)+(this.width=i),this.bottom=(this.y=this.top=t)+(this.height=n),Object.freeze(this)}function d(){t=requestAnimationFrame(d);var s=new WeakMap,p=new Set;o.forEach((function(t){r.get(t).forEach((function(i){var r=t instanceof window.SVGElement,o=a.get(t),d=r?0:parseFloat(o.paddingTop),f=r?0:parseFloat(o.paddingRight),l=r?0:parseFloat(o.paddingBottom),u=r?0:parseFloat(o.paddingLeft),g=r?0:parseFloat(o.borderTopWidth),m=r?0:parseFloat(o.borderRightWidth),w=r?0:parseFloat(o.borderBottomWidth),b=u+f,F=d+l,v=(r?0:parseFloat(o.borderLeftWidth))+m,W=g+w,y=r?0:t.offsetHeight-W-t.clientHeight,E=r?0:t.offsetWidth-v-t.clientWidth,R=b+v,z=F+W,M=r?t.width:parseFloat(o.width)-R-E,O=r?t.height:parseFloat(o.height)-z-y;if(n.has(t)){var k=n.get(t);if(k[0]===M&&k[1]===O)return}n.set(t,[M,O]);var S=Object.create(h.prototype);S.target=t,S.contentRect=new c(u,d,M,O),s.has(i)||(s.set(i,[]),p.add(i)),s.get(i).push(S)}))})),p.forEach((function(e){i.get(e).call(e,s.get(e),e)}))}return s.prototype.observe=function(i){if(i instanceof window.Element){r.has(i)||(r.set(i,new Set),o.add(i),a.set(i,window.getComputedStyle(i)));var n=r.get(i);n.has(this)||n.add(this),cancelAnimationFrame(t),t=requestAnimationFrame(d)}},s.prototype.unobserve=function(i){if(i instanceof window.Element&&r.has(i)){var n=r.get(i);n.has(this)&&(n.delete(this),n.size||(r.delete(i),o.delete(i))),n.size||r.delete(i),o.size||cancelAnimationFrame(t)}},A.DOMRectReadOnly=c,A.ResizeObserver=s,A.ResizeObserverEntry=h,A}; // eslint-disable-line\nmpl.toolbar_items = [[\"Home\", \"Reset original view\", \"fa fa-home icon-home\", \"home\"], [\"Back\", \"Back to previous view\", \"fa fa-arrow-left icon-arrow-left\", \"back\"], [\"Forward\", \"Forward to next view\", \"fa fa-arrow-right icon-arrow-right\", \"forward\"], [\"\", \"\", \"\", \"\"], [\"Pan\", \"Left button pans, Right button zooms\\nx/y fixes axis, CTRL fixes aspect\", \"fa fa-arrows icon-move\", \"pan\"], [\"Zoom\", \"Zoom to rectangle\\nx/y fixes axis\", \"fa fa-square-o icon-check-empty\", \"zoom\"], [\"\", \"\", \"\", \"\"], [\"Download\", \"Download plot\", \"fa fa-floppy-o icon-save\", \"download\"]];\n\nmpl.extensions = [\"eps\", \"jpeg\", \"pgf\", \"pdf\", \"png\", \"ps\", \"raw\", \"svg\", \"tif\"];\n\nmpl.default_extension = \"png\";/* global mpl */\n\nvar comm_websocket_adapter = function (comm) {\n    // Create a \"websocket\"-like object which calls the given IPython comm\n    // object with the appropriate methods. Currently this is a non binary\n    // socket, so there is still some room for performance tuning.\n    var ws = {};\n\n    ws.binaryType = comm.kernel.ws.binaryType;\n    ws.readyState = comm.kernel.ws.readyState;\n    function updateReadyState(_event) {\n        if (comm.kernel.ws) {\n            ws.readyState = comm.kernel.ws.readyState;\n        } else {\n            ws.readyState = 3; // Closed state.\n        }\n    }\n    comm.kernel.ws.addEventListener('open', updateReadyState);\n    comm.kernel.ws.addEventListener('close', updateReadyState);\n    comm.kernel.ws.addEventListener('error', updateReadyState);\n\n    ws.close = function () {\n        comm.close();\n    };\n    ws.send = function (m) {\n        //console.log('sending', m);\n        comm.send(m);\n    };\n    // Register the callback with on_msg.\n    comm.on_msg(function (msg) {\n        //console.log('receiving', msg['content']['data'], msg);\n        var data = msg['content']['data'];\n        if (data['blob'] !== undefined) {\n            data = {\n                data: new Blob(msg['buffers'], { type: data['blob'] }),\n            };\n        }\n        // Pass the mpl event to the overridden (by mpl) onmessage function.\n        ws.onmessage(data);\n    });\n    return ws;\n};\n\nmpl.mpl_figure_comm = function (comm, msg) {\n    // This is the function which gets called when the mpl process\n    // starts-up an IPython Comm through the \"matplotlib\" channel.\n\n    var id = msg.content.data.id;\n    // Get hold of the div created by the display call when the Comm\n    // socket was opened in Python.\n    var element = document.getElementById(id);\n    var ws_proxy = comm_websocket_adapter(comm);\n\n    function ondownload(figure, _format) {\n        window.open(figure.canvas.toDataURL());\n    }\n\n    var fig = new mpl.figure(id, ws_proxy, ondownload, element);\n\n    // Call onopen now - mpl needs it, as it is assuming we've passed it a real\n    // web socket which is closed, not our websocket->open comm proxy.\n    ws_proxy.onopen();\n\n    fig.parent_element = element;\n    fig.cell_info = mpl.find_output_cell(\"<div id='\" + id + \"'></div>\");\n    if (!fig.cell_info) {\n        console.error('Failed to find cell for figure', id, fig);\n        return;\n    }\n    fig.cell_info[0].output_area.element.on(\n        'cleared',\n        { fig: fig },\n        fig._remove_fig_handler\n    );\n};\n\nmpl.figure.prototype.handle_close = function (fig, msg) {\n    var width = fig.canvas.width / fig.ratio;\n    fig.cell_info[0].output_area.element.off(\n        'cleared',\n        fig._remove_fig_handler\n    );\n    fig.resizeObserverInstance.unobserve(fig.canvas_div);\n\n    // Update the output cell to use the data from the current canvas.\n    fig.push_to_output();\n    var dataURL = fig.canvas.toDataURL();\n    // Re-enable the keyboard manager in IPython - without this line, in FF,\n    // the notebook keyboard shortcuts fail.\n    IPython.keyboard_manager.enable();\n    fig.parent_element.innerHTML =\n        '<img src=\"' + dataURL + '\" width=\"' + width + '\">';\n    fig.close_ws(fig, msg);\n};\n\nmpl.figure.prototype.close_ws = function (fig, msg) {\n    fig.send_message('closing', msg);\n    // fig.ws.close()\n};\n\nmpl.figure.prototype.push_to_output = function (_remove_interactive) {\n    // Turn the data on the canvas into data in the output cell.\n    var width = this.canvas.width / this.ratio;\n    var dataURL = this.canvas.toDataURL();\n    this.cell_info[1]['text/html'] =\n        '<img src=\"' + dataURL + '\" width=\"' + width + '\">';\n};\n\nmpl.figure.prototype.updated_canvas_event = function () {\n    // Tell IPython that the notebook contents must change.\n    IPython.notebook.set_dirty(true);\n    this.send_message('ack', {});\n    var fig = this;\n    // Wait a second, then push the new image to the DOM so\n    // that it is saved nicely (might be nice to debounce this).\n    setTimeout(function () {\n        fig.push_to_output();\n    }, 1000);\n};\n\nmpl.figure.prototype._init_toolbar = function () {\n    var fig = this;\n\n    var toolbar = document.createElement('div');\n    toolbar.classList = 'btn-toolbar';\n    this.root.appendChild(toolbar);\n\n    function on_click_closure(name) {\n        return function (_event) {\n            return fig.toolbar_button_onclick(name);\n        };\n    }\n\n    function on_mouseover_closure(tooltip) {\n        return function (event) {\n            if (!event.currentTarget.disabled) {\n                return fig.toolbar_button_onmouseover(tooltip);\n            }\n        };\n    }\n\n    fig.buttons = {};\n    var buttonGroup = document.createElement('div');\n    buttonGroup.classList = 'btn-group';\n    var button;\n    for (var toolbar_ind in mpl.toolbar_items) {\n        var name = mpl.toolbar_items[toolbar_ind][0];\n        var tooltip = mpl.toolbar_items[toolbar_ind][1];\n        var image = mpl.toolbar_items[toolbar_ind][2];\n        var method_name = mpl.toolbar_items[toolbar_ind][3];\n\n        if (!name) {\n            /* Instead of a spacer, we start a new button group. */\n            if (buttonGroup.hasChildNodes()) {\n                toolbar.appendChild(buttonGroup);\n            }\n            buttonGroup = document.createElement('div');\n            buttonGroup.classList = 'btn-group';\n            continue;\n        }\n\n        button = fig.buttons[name] = document.createElement('button');\n        button.classList = 'btn btn-default';\n        button.href = '#';\n        button.title = name;\n        button.innerHTML = '<i class=\"fa ' + image + ' fa-lg\"></i>';\n        button.addEventListener('click', on_click_closure(method_name));\n        button.addEventListener('mouseover', on_mouseover_closure(tooltip));\n        buttonGroup.appendChild(button);\n    }\n\n    if (buttonGroup.hasChildNodes()) {\n        toolbar.appendChild(buttonGroup);\n    }\n\n    // Add the status bar.\n    var status_bar = document.createElement('span');\n    status_bar.classList = 'mpl-message pull-right';\n    toolbar.appendChild(status_bar);\n    this.message = status_bar;\n\n    // Add the close button to the window.\n    var buttongrp = document.createElement('div');\n    buttongrp.classList = 'btn-group inline pull-right';\n    button = document.createElement('button');\n    button.classList = 'btn btn-mini btn-primary';\n    button.href = '#';\n    button.title = 'Stop Interaction';\n    button.innerHTML = '<i class=\"fa fa-power-off icon-remove icon-large\"></i>';\n    button.addEventListener('click', function (_evt) {\n        fig.handle_close(fig, {});\n    });\n    button.addEventListener(\n        'mouseover',\n        on_mouseover_closure('Stop Interaction')\n    );\n    buttongrp.appendChild(button);\n    var titlebar = this.root.querySelector('.ui-dialog-titlebar');\n    titlebar.insertBefore(buttongrp, titlebar.firstChild);\n};\n\nmpl.figure.prototype._remove_fig_handler = function (event) {\n    var fig = event.data.fig;\n    if (event.target !== this) {\n        // Ignore bubbled events from children.\n        return;\n    }\n    fig.close_ws(fig, {});\n};\n\nmpl.figure.prototype._root_extra_style = function (el) {\n    el.style.boxSizing = 'content-box'; // override notebook setting of border-box.\n};\n\nmpl.figure.prototype._canvas_extra_style = function (el) {\n    // this is important to make the div 'focusable\n    el.setAttribute('tabindex', 0);\n    // reach out to IPython and tell the keyboard manager to turn it's self\n    // off when our div gets focus\n\n    // location in version 3\n    if (IPython.notebook.keyboard_manager) {\n        IPython.notebook.keyboard_manager.register_events(el);\n    } else {\n        // location in version 2\n        IPython.keyboard_manager.register_events(el);\n    }\n};\n\nmpl.figure.prototype._key_event_extra = function (event, _name) {\n    // Check for shift+enter\n    if (event.shiftKey && event.which === 13) {\n        this.canvas_div.blur();\n        // select the cell after this one\n        var index = IPython.notebook.find_cell_index(this.cell_info[0]);\n        IPython.notebook.select(index + 1);\n    }\n};\n\nmpl.figure.prototype.handle_save = function (fig, _msg) {\n    fig.ondownload(fig, null);\n};\n\nmpl.find_output_cell = function (html_output) {\n    // Return the cell and output element which can be found *uniquely* in the notebook.\n    // Note - this is a bit hacky, but it is done because the \"notebook_saving.Notebook\"\n    // IPython event is triggered only after the cells have been serialised, which for\n    // our purposes (turning an active figure into a static one), is too late.\n    var cells = IPython.notebook.get_cells();\n    var ncells = cells.length;\n    for (var i = 0; i < ncells; i++) {\n        var cell = cells[i];\n        if (cell.cell_type === 'code') {\n            for (var j = 0; j < cell.output_area.outputs.length; j++) {\n                var data = cell.output_area.outputs[j];\n                if (data.data) {\n                    // IPython >= 3 moved mimebundle to data attribute of output\n                    data = data.data;\n                }\n                if (data['text/html'] === html_output) {\n                    return [cell, data, j];\n                }\n            }\n        }\n    }\n};\n\n// Register the function which deals with the matplotlib target/channel.\n// The kernel may be null if the page has been refreshed.\nif (IPython.notebook.kernel !== null) {\n    IPython.notebook.kernel.comm_manager.register_target(\n        'matplotlib',\n        mpl.mpl_figure_comm\n    );\n}\n",
          "text/plain": "<IPython.core.display.Javascript object>"
         },
         "metadata": {},
         "output_type": "display_data"
        },
        {
         "data": {
          "text/html": "<div id='a5dc3774-7c00-490e-bc70-db649be26189'></div>",
          "text/plain": "<IPython.core.display.HTML object>"
         },
         "metadata": {},
         "output_type": "display_data"
        }
       ]
      }
     },
     "7cff28f76bee4cacb7f4eb213fddb7d8": {
      "model_module": "@jupyter-widgets/base",
      "model_module_version": "1.2.0",
      "model_name": "LayoutModel",
      "state": {
       "width": "10%"
      }
     },
     "7d36e5610c114ceeb525d84a9cd49ba9": {
      "model_module": "@jupyter-widgets/controls",
      "model_module_version": "1.5.0",
      "model_name": "DescriptionStyleModel",
      "state": {
       "description_width": ""
      }
     },
     "7d4a4f3535514ffaa157337a384eecc8": {
      "model_module": "@jupyter-widgets/base",
      "model_module_version": "1.2.0",
      "model_name": "LayoutModel",
      "state": {}
     },
     "7d4b6d7c2b594fc091ce9460fa01dec8": {
      "model_module": "@jupyter-widgets/base",
      "model_module_version": "1.2.0",
      "model_name": "LayoutModel",
      "state": {}
     },
     "7e01d6c349074e069afeaca300009296": {
      "model_module": "@jupyter-widgets/controls",
      "model_module_version": "1.5.0",
      "model_name": "DescriptionStyleModel",
      "state": {
       "description_width": ""
      }
     },
     "7e2a01c7de1a411480420a7b3ccdcd01": {
      "model_module": "@jupyter-widgets/base",
      "model_module_version": "1.2.0",
      "model_name": "LayoutModel",
      "state": {}
     },
     "7e2a1d3e9b2744b7a8a41aa21fa30666": {
      "model_module": "@jupyter-widgets/controls",
      "model_module_version": "1.5.0",
      "model_name": "ButtonStyleModel",
      "state": {
       "button_color": "orange"
      }
     },
     "7e82f4bd91e041b79c1cc836f83597f2": {
      "model_module": "@jupyter-widgets/controls",
      "model_module_version": "1.5.0",
      "model_name": "ButtonModel",
      "state": {
       "description": "Clear all",
       "layout": "IPY_MODEL_67cbfd0eec2949cc83081331aff039fa",
       "style": "IPY_MODEL_ca31f2a35b44423bb52bf04bde3406e5"
      }
     },
     "7e91f3c36d994803969af76a4e090437": {
      "model_module": "@jupyter-widgets/base",
      "model_module_version": "1.2.0",
      "model_name": "LayoutModel",
      "state": {}
     },
     "7e92bb48b33e4b7a981c7e91fa58062d": {
      "model_module": "@jupyter-widgets/controls",
      "model_module_version": "1.5.0",
      "model_name": "LabelModel",
      "state": {
       "layout": "IPY_MODEL_0df9987234d949d3a653e70b86abc939",
       "style": "IPY_MODEL_13fcf86149e34429905a258d8b05f9f7",
       "value": "Sulfur loading (mg/ cm2)"
      }
     },
     "7e995053770549e7ad462de3e220b1c6": {
      "model_module": "@jupyter-widgets/base",
      "model_module_version": "1.2.0",
      "model_name": "LayoutModel",
      "state": {}
     },
     "7ea077106d9446f684f02b0fee71aae8": {
      "model_module": "@jupyter-widgets/controls",
      "model_module_version": "1.5.0",
      "model_name": "DescriptionStyleModel",
      "state": {
       "description_width": ""
      }
     },
     "7ecf7e54c0e24df6b6aca96b44aa4bdc": {
      "model_module": "@jupyter-widgets/controls",
      "model_module_version": "1.5.0",
      "model_name": "DescriptionStyleModel",
      "state": {
       "description_width": ""
      }
     },
     "7f1782127ef64f6c8a2e383eceb473af": {
      "model_module": "@jupyter-widgets/controls",
      "model_module_version": "1.5.0",
      "model_name": "TextModel",
      "state": {
       "layout": "IPY_MODEL_2ea41123ef6e432a9de67807cb2dd325",
       "style": "IPY_MODEL_c13be22eb86b41bf8d27fdb6090df831"
      }
     },
     "7fcb122a225247cc82532c2bf31379a5": {
      "model_module": "@jupyter-widgets/controls",
      "model_module_version": "1.5.0",
      "model_name": "DescriptionStyleModel",
      "state": {
       "description_width": ""
      }
     },
     "7fcdbee5c0794c789d7e53c8e598fdc1": {
      "model_module": "@jupyter-widgets/base",
      "model_module_version": "1.2.0",
      "model_name": "LayoutModel",
      "state": {}
     },
     "7fced9bf29c24f75a94051e031eafbb6": {
      "model_module": "@jupyter-widgets/controls",
      "model_module_version": "1.5.0",
      "model_name": "HBoxModel",
      "state": {
       "children": [
        "IPY_MODEL_bfc5d623ba79499d944233f236eca321",
        "IPY_MODEL_5e4cdddae30c479d8288fd975b55e38a"
       ],
       "layout": "IPY_MODEL_f4382761f95c4e72a7d28e2d479ee583"
      }
     },
     "7fd5503a534b4da1902ed4ae8bca5036": {
      "model_module": "@jupyter-widgets/controls",
      "model_module_version": "1.5.0",
      "model_name": "TextModel",
      "state": {
       "layout": "IPY_MODEL_2ea41123ef6e432a9de67807cb2dd325",
       "style": "IPY_MODEL_0e92ed377eed4c1a980e47ff17c7262b"
      }
     },
     "7fdd2c250c22449da53ac8dd1b54bc80": {
      "model_module": "@jupyter-widgets/base",
      "model_module_version": "1.2.0",
      "model_name": "LayoutModel",
      "state": {}
     },
     "7fecd97c261b41d9ab637cda817e5fbd": {
      "model_module": "@jupyter-widgets/base",
      "model_module_version": "1.2.0",
      "model_name": "LayoutModel",
      "state": {
       "width": "10%"
      }
     },
     "8002b0bf5bda47708aa30615a73c8288": {
      "model_module": "@jupyter-widgets/base",
      "model_module_version": "1.2.0",
      "model_name": "LayoutModel",
      "state": {}
     },
     "804981800bed4d7e834a654151b3e4c8": {
      "model_module": "@jupyter-widgets/controls",
      "model_module_version": "1.5.0",
      "model_name": "ButtonStyleModel",
      "state": {}
     },
     "80c03d75a84b4edea01e0f288f0150a0": {
      "model_module": "@jupyter-widgets/base",
      "model_module_version": "1.2.0",
      "model_name": "LayoutModel",
      "state": {}
     },
     "80cce477f1a942daa8d98e082351fed0": {
      "model_module": "@jupyter-widgets/controls",
      "model_module_version": "1.5.0",
      "model_name": "DescriptionStyleModel",
      "state": {
       "description_width": ""
      }
     },
     "80d4e223621244f5b3a2e2b0359bf736": {
      "model_module": "@jupyter-widgets/controls",
      "model_module_version": "1.5.0",
      "model_name": "TextModel",
      "state": {
       "layout": "IPY_MODEL_2ea41123ef6e432a9de67807cb2dd325",
       "style": "IPY_MODEL_a8f5a6fc8d174580a424914c3573eb82"
      }
     },
     "80eb0d827da64e89bd3bcb50833d154a": {
      "model_module": "@jupyter-widgets/controls",
      "model_module_version": "1.5.0",
      "model_name": "HBoxModel",
      "state": {
       "children": [
        "IPY_MODEL_b3ee93fd3bad481482665a4181bc5684",
        "IPY_MODEL_ef29fe26a91747038bec430b00c4c644"
       ],
       "layout": "IPY_MODEL_f32bb082e9dd4569a3d378615e0e94e1"
      }
     },
     "8104ace53f0443a0ae6cc0b8def2e40e": {
      "model_module": "@jupyter-widgets/controls",
      "model_module_version": "1.5.0",
      "model_name": "HBoxModel",
      "state": {
       "children": [
        "IPY_MODEL_af09be15ceb44fc0a48828256b97c90d",
        "IPY_MODEL_dd6d4a361b5d4ebdaedf28bf5d5138ec"
       ],
       "layout": "IPY_MODEL_d693a85315e04d13b37820936f04861b"
      }
     },
     "810d46df30fa4d15bfb759b4a9cdabf8": {
      "model_module": "@jupyter-widgets/base",
      "model_module_version": "1.2.0",
      "model_name": "LayoutModel",
      "state": {
       "width": "20%"
      }
     },
     "81910a4129c24bbe935f501dd0267654": {
      "model_module": "@jupyter-widgets/controls",
      "model_module_version": "1.5.0",
      "model_name": "LabelModel",
      "state": {
       "layout": "IPY_MODEL_d6b1dae92bee4a6499c01327d3cbf68a",
       "style": "IPY_MODEL_36f33b32cf0c4db388b66af2ef6d6037",
       "value": "Click to confirm selection"
      }
     },
     "8196f34c8cc94787af75f7b11fc206a6": {
      "model_module": "@jupyter-widgets/controls",
      "model_module_version": "1.5.0",
      "model_name": "HBoxModel",
      "state": {
       "children": [
        "IPY_MODEL_ad8db5433df84bb19b28d5f32e077b64",
        "IPY_MODEL_8a70b20182644337803f60f4c8a5e5fe",
        "IPY_MODEL_c68e49afd7e944d3a83ceffa7535d499"
       ],
       "layout": "IPY_MODEL_62c4a5c11a304fa993e2023c3484e006"
      }
     },
     "81e9c2be1d3a4c60ba141060efcceb0f": {
      "model_module": "@jupyter-widgets/controls",
      "model_module_version": "1.5.0",
      "model_name": "DescriptionStyleModel",
      "state": {
       "description_width": ""
      }
     },
     "81f9e264726d4ec2bd000e8f51aae465": {
      "model_module": "@jupyter-widgets/controls",
      "model_module_version": "1.5.0",
      "model_name": "ButtonStyleModel",
      "state": {}
     },
     "820247aeb45f4818b8536167f0db02f7": {
      "model_module": "@jupyter-widgets/controls",
      "model_module_version": "1.5.0",
      "model_name": "HBoxModel",
      "state": {
       "children": [
        "IPY_MODEL_ae67ac27e77742ffad1d583e6ecfcc69",
        "IPY_MODEL_e8fed8447a06462b9fc0bce2fda9f981"
       ],
       "layout": "IPY_MODEL_8b6d9b54818d454486bc9fd3a356c767"
      }
     },
     "825e49630ece47d18f8c89cf47c8a7d3": {
      "model_module": "@jupyter-widgets/controls",
      "model_module_version": "1.5.0",
      "model_name": "DescriptionStyleModel",
      "state": {
       "description_width": ""
      }
     },
     "8290dfb5a5d14be1a023019418467a11": {
      "model_module": "@jupyter-widgets/controls",
      "model_module_version": "1.5.0",
      "model_name": "LabelModel",
      "state": {
       "layout": "IPY_MODEL_0df9987234d949d3a653e70b86abc939",
       "style": "IPY_MODEL_7e01d6c349074e069afeaca300009296",
       "value": "Electrode thickness"
      }
     },
     "82ff2c4692dc45188d0d78ffd1dcf2f1": {
      "model_module": "@jupyter-widgets/base",
      "model_module_version": "1.2.0",
      "model_name": "LayoutModel",
      "state": {}
     },
     "8303190dbc634d7c96a6cf8e442a19b2": {
      "model_module": "@jupyter-widgets/controls",
      "model_module_version": "1.5.0",
      "model_name": "LabelModel",
      "state": {
       "layout": "IPY_MODEL_effe09f8bc7547e485e4d0447b61829c",
       "style": "IPY_MODEL_c6bee8148da2445db7305db980584c88",
       "value": "Conductive additive content (wt%)"
      }
     },
     "830edd8eca9346f88edfbec2a12252c0": {
      "model_module": "@jupyter-widgets/controls",
      "model_module_version": "1.5.0",
      "model_name": "DescriptionStyleModel",
      "state": {
       "description_width": ""
      }
     },
     "833103a727244b8ba7db53526b89130e": {
      "model_module": "@jupyter-widgets/controls",
      "model_module_version": "1.5.0",
      "model_name": "DescriptionStyleModel",
      "state": {
       "description_width": ""
      }
     },
     "83a7ca8b62c546b3a8f1630e99bcc0cb": {
      "model_module": "@jupyter-widgets/controls",
      "model_module_version": "1.5.0",
      "model_name": "ButtonModel",
      "state": {
       "description": "Manually select area",
       "layout": "IPY_MODEL_59528a8dd8ac4f149b7e2ab653a1d5e9",
       "style": "IPY_MODEL_c9daed3544e745399b28eb0f1b917855"
      }
     },
     "83a7fb72da334d2fa079f2eabbb3408a": {
      "model_module": "@jupyter-widgets/controls",
      "model_module_version": "1.5.0",
      "model_name": "LabelModel",
      "state": {
       "layout": "IPY_MODEL_0df9987234d949d3a653e70b86abc939",
       "style": "IPY_MODEL_2ba18c3523134cd6b515384c322de21d",
       "value": "Surface area (cm2/g)"
      }
     },
     "83c22ec7b7fa4aca8e3e1ac99267f120": {
      "model_module": "@jupyter-widgets/base",
      "model_module_version": "1.2.0",
      "model_name": "LayoutModel",
      "state": {}
     },
     "83e42c1d40744e2bad622c2bb8d63696": {
      "model_module": "@jupyter-widgets/controls",
      "model_module_version": "1.5.0",
      "model_name": "LabelModel",
      "state": {
       "layout": "IPY_MODEL_effe09f8bc7547e485e4d0447b61829c",
       "style": "IPY_MODEL_7664ce2180644371ba2b14513cc911a9",
       "value": "Carbon type"
      }
     },
     "841ba5f07ce24f138010f96d938c7c37": {
      "model_module": "@jupyter-widgets/controls",
      "model_module_version": "1.5.0",
      "model_name": "LabelModel",
      "state": {
       "layout": "IPY_MODEL_effe09f8bc7547e485e4d0447b61829c",
       "style": "IPY_MODEL_e3ce0859ff65461899b50ec95f6964b0",
       "value": "Pore volume"
      }
     },
     "843b488d6f4b40a19d2d7a9d1deb29bd": {
      "model_module": "@jupyter-widgets/base",
      "model_module_version": "1.2.0",
      "model_name": "LayoutModel",
      "state": {}
     },
     "84515c4d60cd4ef887733df693234f42": {
      "model_module": "@jupyter-widgets/controls",
      "model_module_version": "1.5.0",
      "model_name": "LabelModel",
      "state": {
       "layout": "IPY_MODEL_effe09f8bc7547e485e4d0447b61829c",
       "style": "IPY_MODEL_14dc35b6506e4e2dacb157b68852a365",
       "value": "Host conductivity units"
      }
     },
     "846996a637344795a13a630d0e7f1c68": {
      "model_module": "@jupyter-widgets/controls",
      "model_module_version": "1.5.0",
      "model_name": "HBoxModel",
      "state": {
       "children": [
        "IPY_MODEL_062712c9224447ada7a893200fabd42d",
        "IPY_MODEL_0b4c8df661fd41349a45761cc518e981"
       ],
       "layout": "IPY_MODEL_30e58c2a580f4e2292060de36a70c1f2"
      }
     },
     "84766f71fd7c43f7b5d016541bc30b5c": {
      "model_module": "@jupyter-widgets/controls",
      "model_module_version": "1.5.0",
      "model_name": "HBoxModel",
      "state": {
       "children": [
        "IPY_MODEL_48d5f06ef68d4cb9b600c1e50614556e",
        "IPY_MODEL_2090eeb9860c475d972cebacc15af743",
        "IPY_MODEL_2f13e8696dde45bd903d826490554a3c"
       ],
       "layout": "IPY_MODEL_a02c112bf9fc43528d0aa0742038d678"
      }
     },
     "847ab6bad3f548e2bf4b85a1980261c4": {
      "model_module": "@jupyter-widgets/controls",
      "model_module_version": "1.5.0",
      "model_name": "ButtonModel",
      "state": {
       "description": "Select Files",
       "icon": "square-o",
       "layout": "IPY_MODEL_a1558c2839154335843ae167e6859290",
       "style": "IPY_MODEL_c70ce33f371c45868fdd108a4baa19fe"
      }
     },
     "8509a784a3bc430e9567d1e0f2ec25a8": {
      "model_module": "@jupyter-widgets/controls",
      "model_module_version": "1.5.0",
      "model_name": "ButtonStyleModel",
      "state": {}
     },
     "851650f2faf144db82be7cee7cb756ad": {
      "model_module": "@jupyter-widgets/base",
      "model_module_version": "1.2.0",
      "model_name": "LayoutModel",
      "state": {}
     },
     "8522a1ae8f5d4393af224ae40d727d04": {
      "model_module": "@jupyter-widgets/base",
      "model_module_version": "1.2.0",
      "model_name": "LayoutModel",
      "state": {}
     },
     "853c063852d64bf2b36ae851ef8255c3": {
      "model_module": "@jupyter-widgets/controls",
      "model_module_version": "1.5.0",
      "model_name": "ButtonStyleModel",
      "state": {}
     },
     "856eb0c743d84236b0c6d2468569d484": {
      "model_module": "@jupyter-widgets/controls",
      "model_module_version": "1.5.0",
      "model_name": "DescriptionStyleModel",
      "state": {
       "description_width": ""
      }
     },
     "85aff4996c7242d787614b3c4ac44998": {
      "model_module": "@jupyter-widgets/controls",
      "model_module_version": "1.5.0",
      "model_name": "DescriptionStyleModel",
      "state": {
       "description_width": ""
      }
     },
     "85ba01f295ce450e9aa350253b7c4910": {
      "model_module": "@jupyter-widgets/controls",
      "model_module_version": "1.5.0",
      "model_name": "LabelModel",
      "state": {
       "layout": "IPY_MODEL_0df9987234d949d3a653e70b86abc939",
       "style": "IPY_MODEL_6df41fdb17f54cc0a972d86c00c5b9a1",
       "value": "Reload previous data"
      }
     },
     "85cc7957c45343e8983913df2a9755df": {
      "model_module": "@jupyter-widgets/controls",
      "model_module_version": "1.5.0",
      "model_name": "DescriptionStyleModel",
      "state": {
       "description_width": ""
      }
     },
     "861ca0c4381f46a1a94f269a14d6a008": {
      "model_module": "@jupyter-widgets/controls",
      "model_module_version": "1.5.0",
      "model_name": "DescriptionStyleModel",
      "state": {
       "description_width": ""
      }
     },
     "86303944ebf6452b950c56c278f2e0f6": {
      "model_module": "@jupyter-widgets/controls",
      "model_module_version": "1.5.0",
      "model_name": "HBoxModel",
      "state": {
       "children": [
        "IPY_MODEL_1eb3a9130a914e319f583ae5446165b3"
       ],
       "layout": "IPY_MODEL_bd046b8eadec4d45b8cad0448301d441"
      }
     },
     "8633426d21d54094aa7ac666f10be758": {
      "model_module": "@jupyter-widgets/controls",
      "model_module_version": "1.5.0",
      "model_name": "DescriptionStyleModel",
      "state": {
       "description_width": ""
      }
     },
     "865f256ca73940a98333ac1506e38b98": {
      "model_module": "@jupyter-widgets/base",
      "model_module_version": "1.2.0",
      "model_name": "LayoutModel",
      "state": {}
     },
     "865f322bae764db9aff65580ed9f2b80": {
      "model_module": "@jupyter-widgets/controls",
      "model_module_version": "1.5.0",
      "model_name": "ButtonStyleModel",
      "state": {}
     },
     "86dc8ad0f32f4ab3ac35a51bd3b92e6b": {
      "model_module": "@jupyter-widgets/base",
      "model_module_version": "1.2.0",
      "model_name": "LayoutModel",
      "state": {
       "width": "15%"
      }
     },
     "86ef69ab5e274d38ba97d8d47173892d": {
      "model_module": "@jupyter-widgets/base",
      "model_module_version": "1.2.0",
      "model_name": "LayoutModel",
      "state": {}
     },
     "874ab33d1dee4fc2853ba51f136b6c2b": {
      "model_module": "@jupyter-widgets/controls",
      "model_module_version": "1.5.0",
      "model_name": "HBoxModel",
      "state": {
       "children": [
        "IPY_MODEL_0bb386f5bf964c0ca0c10997fa870b2f",
        "IPY_MODEL_d74a50d86af04ef68409996c417400f5",
        "IPY_MODEL_87783472db1c41b08cee10e6b2085bd0"
       ],
       "layout": "IPY_MODEL_488323bbd7ac44c18c9d1a82492c4e70"
      }
     },
     "87783472db1c41b08cee10e6b2085bd0": {
      "model_module": "@jupyter-widgets/controls",
      "model_module_version": "1.5.0",
      "model_name": "LabelModel",
      "state": {
       "layout": "IPY_MODEL_bb52b3092aec45b7a2554499cea25133",
       "style": "IPY_MODEL_f4271863b57c472bba9358c62a988fe4",
       "value": "No values saved this session"
      }
     },
     "878b1853c5284ac4adb1aa0f5e8e7509": {
      "model_module": "@jupyter-widgets/controls",
      "model_module_version": "1.5.0",
      "model_name": "ButtonModel",
      "state": {
       "description": "Confirm image",
       "layout": "IPY_MODEL_48d9fd4068ea441fb652990aeb9e957a",
       "style": "IPY_MODEL_21f1380f4b574dc38fff0518ad11a345"
      }
     },
     "87a69564d8e14b23b0ecf40004159e98": {
      "model_module": "@jupyter-widgets/base",
      "model_module_version": "1.2.0",
      "model_name": "LayoutModel",
      "state": {}
     },
     "87bfcee502ef42c7872243efce477006": {
      "model_module": "@jupyter-widgets/controls",
      "model_module_version": "1.5.0",
      "model_name": "DescriptionStyleModel",
      "state": {
       "description_width": ""
      }
     },
     "87e47cf8788144ce928464cc7cea152b": {
      "model_module": "@jupyter-widgets/controls",
      "model_module_version": "1.5.0",
      "model_name": "FloatTextModel",
      "state": {
       "description": "CRate 1",
       "layout": "IPY_MODEL_08237b811fba4e879d9f392e1261fee1",
       "step": null,
       "style": "IPY_MODEL_a94ffd35ca3443b1ab81f60ca43efc1b"
      }
     },
     "88198df2aeee40a1af7630869d0b9764": {
      "model_module": "@jupyter-widgets/base",
      "model_module_version": "1.2.0",
      "model_name": "LayoutModel",
      "state": {
       "width": "10%"
      }
     },
     "881c56df54d04d038d56aa48bd04f750": {
      "model_module": "@jupyter-widgets/controls",
      "model_module_version": "1.5.0",
      "model_name": "ButtonStyleModel",
      "state": {}
     },
     "8827c39ef31d4d23adeb8f8dde42516b": {
      "model_module": "@jupyter-widgets/base",
      "model_module_version": "1.2.0",
      "model_name": "LayoutModel",
      "state": {}
     },
     "88b19df3f4b1410b888f0de1583fb779": {
      "model_module": "@jupyter-widgets/controls",
      "model_module_version": "1.5.0",
      "model_name": "ButtonModel",
      "state": {
       "description": "Confirm manual selection",
       "layout": "IPY_MODEL_1f69628665a3421db1198f9503a68399",
       "style": "IPY_MODEL_f2a0cc7f0d4942e3a987af92cb2bfe21"
      }
     },
     "89058bef365c48e7808247933545ff8f": {
      "model_module": "@jupyter-widgets/controls",
      "model_module_version": "1.5.0",
      "model_name": "DescriptionStyleModel",
      "state": {
       "description_width": ""
      }
     },
     "89113cf5abba4e4cb79f78c198e8f84e": {
      "model_module": "@jupyter-widgets/controls",
      "model_module_version": "1.5.0",
      "model_name": "DescriptionStyleModel",
      "state": {
       "description_width": ""
      }
     },
     "897ed93d0a6b494f8bee59dcb90e32d2": {
      "model_module": "@jupyter-widgets/controls",
      "model_module_version": "1.5.0",
      "model_name": "ButtonStyleModel",
      "state": {}
     },
     "89dc04a38ad24c1dbaf172f59fad0ea9": {
      "model_module": "@jupyter-widgets/controls",
      "model_module_version": "1.5.0",
      "model_name": "LabelModel",
      "state": {
       "layout": "IPY_MODEL_effe09f8bc7547e485e4d0447b61829c",
       "style": "IPY_MODEL_f07023fd196942dc9b32827c45004739",
       "value": "Host conductivity"
      }
     },
     "8a08a43954284e6dac1a5b6b6e42e8a0": {
      "model_module": "@jupyter-widgets/base",
      "model_module_version": "1.2.0",
      "model_name": "LayoutModel",
      "state": {}
     },
     "8a70b20182644337803f60f4c8a5e5fe": {
      "model_module": "@jupyter-widgets/controls",
      "model_module_version": "1.5.0",
      "model_name": "TextModel",
      "state": {
       "layout": "IPY_MODEL_be250f5f271940d99df09bde7e05d47d",
       "style": "IPY_MODEL_a5703cde198e48f09a46d3afdee98d0d"
      }
     },
     "8a71319f94e84ad6a3afc89405600594": {
      "model_module": "@jupyter-widgets/controls",
      "model_module_version": "1.5.0",
      "model_name": "ButtonStyleModel",
      "state": {}
     },
     "8a73f51deb3d432491a72232b0de5a3b": {
      "model_module": "@jupyter-widgets/controls",
      "model_module_version": "1.5.0",
      "model_name": "LabelModel",
      "state": {
       "layout": "IPY_MODEL_0df9987234d949d3a653e70b86abc939",
       "style": "IPY_MODEL_ee7b4efd27c2413f8957bfbd68852d3e",
       "value": "Sulfur loading method"
      }
     },
     "8a7c74e4092b4e6d9a02731a61e96c32": {
      "model_module": "@jupyter-widgets/controls",
      "model_module_version": "1.5.0",
      "model_name": "DescriptionStyleModel",
      "state": {
       "description_width": ""
      }
     },
     "8a83026d709e4d82bc645c7e3a9d298d": {
      "model_module": "@jupyter-widgets/controls",
      "model_module_version": "1.5.0",
      "model_name": "DescriptionStyleModel",
      "state": {
       "description_width": ""
      }
     },
     "8a8aea8f25cd4169a5349b2d2704dc23": {
      "model_module": "@jupyter-widgets/controls",
      "model_module_version": "1.5.0",
      "model_name": "LabelModel",
      "state": {
       "layout": "IPY_MODEL_cbe795f3f50d4c99bc738ccce1c2a400",
       "style": "IPY_MODEL_a3bb525fb2b7462ea580364dcd420b9e",
       "value": "Automatic"
      }
     },
     "8aa0e723f5524db1ae9a3e7fb59042ab": {
      "model_module": "@jupyter-widgets/base",
      "model_module_version": "1.2.0",
      "model_name": "LayoutModel",
      "state": {}
     },
     "8b21c2ca11464c7fb896954514ac55e2": {
      "model_module": "@jupyter-widgets/controls",
      "model_module_version": "1.5.0",
      "model_name": "DescriptionStyleModel",
      "state": {
       "description_width": ""
      }
     },
     "8b4b11ab5fb2433a833179f02f6bbdf4": {
      "model_module": "@jupyter-widgets/base",
      "model_module_version": "1.2.0",
      "model_name": "LayoutModel",
      "state": {}
     },
     "8b5e57455d7e4e40832915a64dfd1d60": {
      "model_module": "@jupyter-widgets/controls",
      "model_module_version": "1.5.0",
      "model_name": "LabelModel",
      "state": {
       "layout": "IPY_MODEL_6c4b248d55b340b4b63f253692dd4c92",
       "style": "IPY_MODEL_13235cd6e7d44fb5a1a487b0359458f7",
       "value": "Not yet saved"
      }
     },
     "8b6d9b54818d454486bc9fd3a356c767": {
      "model_module": "@jupyter-widgets/base",
      "model_module_version": "1.2.0",
      "model_name": "LayoutModel",
      "state": {}
     },
     "8bac78580bfd42368bc86d4b87101898": {
      "model_module": "@jupyter-widgets/controls",
      "model_module_version": "1.5.0",
      "model_name": "TextModel",
      "state": {
       "layout": "IPY_MODEL_2ea41123ef6e432a9de67807cb2dd325",
       "style": "IPY_MODEL_141a7ab9d6bc4e9cb8a93d33fdfb60c8"
      }
     },
     "8bad2cbb078d41dca52570a7b2011708": {
      "model_module": "@jupyter-widgets/base",
      "model_module_version": "1.2.0",
      "model_name": "LayoutModel",
      "state": {}
     },
     "8bbeb8a0659b4d459146bed8429111d5": {
      "model_module": "@jupyter-widgets/controls",
      "model_module_version": "1.5.0",
      "model_name": "DescriptionStyleModel",
      "state": {
       "description_width": ""
      }
     },
     "8bfc815c2b3e4187ac56c4352561b1c9": {
      "model_module": "@jupyter-widgets/controls",
      "model_module_version": "1.5.0",
      "model_name": "ButtonStyleModel",
      "state": {}
     },
     "8c073120a6ca4db49acef6c7902f09e4": {
      "model_module": "@jupyter-widgets/controls",
      "model_module_version": "1.5.0",
      "model_name": "ButtonModel",
      "state": {
       "description": "Display graph",
       "layout": "IPY_MODEL_ec7ea11f51834926aa6494320690f773",
       "style": "IPY_MODEL_fdd1e31603894521bc4e6084049bc6d4"
      }
     },
     "8c60bfa229ea435180844aac2834b87b": {
      "model_module": "@jupyter-widgets/controls",
      "model_module_version": "1.5.0",
      "model_name": "LabelModel",
      "state": {
       "layout": "IPY_MODEL_a072746671c7457c979a8ca1eeea2375",
       "style": "IPY_MODEL_cd5f414c234045dd83bacb27ab8d4a80",
       "value": "Electrolyte salt"
      }
     },
     "8cbb436be986452d97ee518bca91d696": {
      "model_module": "@jupyter-widgets/controls",
      "model_module_version": "1.5.0",
      "model_name": "HBoxModel",
      "state": {
       "children": [
        "IPY_MODEL_8d0b0b14bd7a4b97aa23779157839391",
        "IPY_MODEL_2a10638d6091488098df68e018c6f416"
       ],
       "layout": "IPY_MODEL_c1ea74f825d94b75b7bd29fa202bcbec"
      }
     },
     "8d0b0b14bd7a4b97aa23779157839391": {
      "model_module": "@jupyter-widgets/controls",
      "model_module_version": "1.5.0",
      "model_name": "LabelModel",
      "state": {
       "layout": "IPY_MODEL_3240c17546c14e3db76111c4b9b2a5c3",
       "style": "IPY_MODEL_856eb0c743d84236b0c6d2468569d484",
       "value": "Maximum voltage"
      }
     },
     "8d230ebb54294b33aa91532432290987": {
      "model_module": "@jupyter-widgets/base",
      "model_module_version": "1.2.0",
      "model_name": "LayoutModel",
      "state": {}
     },
     "8d23fdb446e1449d8b9b047a4c4d72ec": {
      "model_module": "@jupyter-widgets/controls",
      "model_module_version": "1.5.0",
      "model_name": "ButtonModel",
      "state": {
       "description": "Add new mask",
       "layout": "IPY_MODEL_a8a298ab08134ed49a0f0898aa3d85b6",
       "style": "IPY_MODEL_79605e17e5ea47579caaec6c44b1ea70"
      }
     },
     "8e2d7de4125b4c1b999ee4f55c299ff4": {
      "model_module": "@jupyter-widgets/base",
      "model_module_version": "1.2.0",
      "model_name": "LayoutModel",
      "state": {}
     },
     "8e47ebe23e644c6ea5fe3af494a22cde": {
      "model_module": "@jupyter-widgets/controls",
      "model_module_version": "1.5.0",
      "model_name": "ButtonModel",
      "state": {
       "description": "Save",
       "layout": "IPY_MODEL_e059b0978b284f0aad91724f10deb20d",
       "style": "IPY_MODEL_fee7d636593f4c8e8bad643a88ad0e0e"
      }
     },
     "8ea05c0843544a399536775641c4ad52": {
      "model_module": "@jupyter-widgets/base",
      "model_module_version": "1.2.0",
      "model_name": "LayoutModel",
      "state": {}
     },
     "8ee190fb83eb4c3eb0d1225be2a485c2": {
      "model_module": "@jupyter-widgets/base",
      "model_module_version": "1.2.0",
      "model_name": "LayoutModel",
      "state": {}
     },
     "8f0be149c81e4f51a859eeb5ca769e93": {
      "model_module": "@jupyter-widgets/controls",
      "model_module_version": "1.5.0",
      "model_name": "CheckboxModel",
      "state": {
       "description": "Common",
       "disabled": false,
       "indent": false,
       "layout": "IPY_MODEL_e7d6fcc101d14728b0b117b91fd27b08",
       "style": "IPY_MODEL_89113cf5abba4e4cb79f78c198e8f84e",
       "value": false
      }
     },
     "8f124bfba96a422c8864a539d791d6fc": {
      "model_module": "@jupyter-widgets/controls",
      "model_module_version": "1.5.0",
      "model_name": "DescriptionStyleModel",
      "state": {
       "description_width": ""
      }
     },
     "8f2ca3a352fc490c8bf3f453ec377209": {
      "model_module": "@jupyter-widgets/base",
      "model_module_version": "1.2.0",
      "model_name": "LayoutModel",
      "state": {}
     },
     "8f8ea2c6fe5a4b37b83ef716eb6a5394": {
      "model_module": "@jupyter-widgets/controls",
      "model_module_version": "1.5.0",
      "model_name": "FloatTextModel",
      "state": {
       "layout": "IPY_MODEL_46a08262383c4f889ded34a3fc0d3843",
       "step": null,
       "style": "IPY_MODEL_8633426d21d54094aa7ac666f10be758",
       "value": 1
      }
     },
     "8fd248aa3297499ba2d41ff1d6f85666": {
      "model_module": "@jupyter-widgets/base",
      "model_module_version": "1.2.0",
      "model_name": "LayoutModel",
      "state": {}
     },
     "8fe22d03ee16469a9f73ff19337240fa": {
      "model_module": "@jupyter-widgets/controls",
      "model_module_version": "1.5.0",
      "model_name": "ButtonStyleModel",
      "state": {}
     },
     "902c264d064043a7acb0ffcf3a18b18c": {
      "model_module": "@jupyter-widgets/controls",
      "model_module_version": "1.5.0",
      "model_name": "HBoxModel",
      "state": {
       "children": [
        "IPY_MODEL_9403a3b86e62406b914fa51a93eee2d0",
        "IPY_MODEL_5ffa9d3667fd480597c83522b078975c"
       ],
       "layout": "IPY_MODEL_d96dd666cb01490699d0bd14f72e597a"
      }
     },
     "90a49a1e657046b39013d1091ec491c9": {
      "model_module": "@jupyter-widgets/base",
      "model_module_version": "1.2.0",
      "model_name": "LayoutModel",
      "state": {}
     },
     "90a97e00953f4e48b04d95f98805e894": {
      "model_module": "@jupyter-widgets/controls",
      "model_module_version": "1.5.0",
      "model_name": "DescriptionStyleModel",
      "state": {
       "description_width": ""
      }
     },
     "90f37c4215774adc98de9554901807b2": {
      "model_module": "@jupyter-widgets/controls",
      "model_module_version": "1.5.0",
      "model_name": "DescriptionStyleModel",
      "state": {
       "description_width": ""
      }
     },
     "915329941bcc4c74a997d91251e0d430": {
      "model_module": "@jupyter-widgets/base",
      "model_module_version": "1.2.0",
      "model_name": "LayoutModel",
      "state": {}
     },
     "9165018fad8b47728334b0a625aaacc0": {
      "model_module": "@jupyter-widgets/base",
      "model_module_version": "1.2.0",
      "model_name": "LayoutModel",
      "state": {}
     },
     "91981dd4d398475bbcd31443eb56bf70": {
      "model_module": "@jupyter-widgets/base",
      "model_module_version": "1.2.0",
      "model_name": "LayoutModel",
      "state": {}
     },
     "91d6ab1a8960474fa745a3d9292fe8f6": {
      "model_module": "@jupyter-widgets/controls",
      "model_module_version": "1.5.0",
      "model_name": "DescriptionStyleModel",
      "state": {
       "description_width": ""
      }
     },
     "923612464a06490abd68924d533504db": {
      "model_module": "@jupyter-widgets/controls",
      "model_module_version": "1.5.0",
      "model_name": "CheckboxModel",
      "state": {
       "description": "wt%",
       "disabled": false,
       "layout": "IPY_MODEL_534ec13fcf4344c7b5a4294dd10023c6",
       "style": "IPY_MODEL_0dde0179eace4423892b3ace74256f03",
       "value": true
      }
     },
     "93135cff132e433f92d588bf70f01ff4": {
      "model_module": "@jupyter-widgets/controls",
      "model_module_version": "1.5.0",
      "model_name": "FloatTextModel",
      "state": {
       "description": "Set margin pixels",
       "layout": "IPY_MODEL_02b94c8788b7461a9d0a31f10eb30937",
       "step": null,
       "style": "IPY_MODEL_0a1a9dea0c7145e4947f5ebd2b419e20",
       "value": 10
      }
     },
     "9341c7fc26e14bd887d65bcd932961a5": {
      "model_module": "@jupyter-widgets/base",
      "model_module_version": "1.2.0",
      "model_name": "LayoutModel",
      "state": {}
     },
     "939138d94ef144aab348a2ae652d3813": {
      "model_module": "@jupyter-widgets/controls",
      "model_module_version": "1.5.0",
      "model_name": "DescriptionStyleModel",
      "state": {
       "description_width": ""
      }
     },
     "93dcfe2294284881aaa9e3881c5bd2af": {
      "model_module": "@jupyter-widgets/base",
      "model_module_version": "1.2.0",
      "model_name": "LayoutModel",
      "state": {}
     },
     "93f250fc91d0444ebc0f98a465645625": {
      "model_module": "@jupyter-widgets/base",
      "model_module_version": "1.2.0",
      "model_name": "LayoutModel",
      "state": {}
     },
     "9403a3b86e62406b914fa51a93eee2d0": {
      "model_module": "@jupyter-widgets/controls",
      "model_module_version": "1.5.0",
      "model_name": "FloatTextModel",
      "state": {
       "description": "y min",
       "layout": "IPY_MODEL_3be7fb8bfb5b4ceca86f422844f38f05",
       "step": null,
       "style": "IPY_MODEL_2947c36018f44f2e88c3818e5c89055c"
      }
     },
     "9427a9421254432c840c0c3d5086052a": {
      "model_module": "@jupyter-widgets/base",
      "model_module_version": "1.2.0",
      "model_name": "LayoutModel",
      "state": {}
     },
     "9445e1768b0e4bd5b75acfc21835a6b9": {
      "model_module": "@jupyter-widgets/controls",
      "model_module_version": "1.5.0",
      "model_name": "HBoxModel",
      "state": {
       "children": [
        "IPY_MODEL_9a6a7cd38288475eb961b14a58c012e0",
        "IPY_MODEL_4562b827db4043c1b7a13aada0dd078d",
        "IPY_MODEL_c837b153ba024c5c8ebc12503e2780dd"
       ],
       "layout": "IPY_MODEL_be8cec3b76104a6a9a326190089aaa2b"
      }
     },
     "9465860b8dc54e298d3ea7cfc904ca6e": {
      "model_module": "@jupyter-widgets/controls",
      "model_module_version": "1.5.0",
      "model_name": "HBoxModel",
      "state": {
       "children": [
        "IPY_MODEL_16405a99bff247a594ad256cee1ec2f4",
        "IPY_MODEL_f99535d7128f41789c509edd4e17e37a"
       ],
       "layout": "IPY_MODEL_75844893eeb84e8b89b98679e2c8d652"
      }
     },
     "94c1803659ea4b3da83b7f88098ae896": {
      "model_module": "@jupyter-widgets/base",
      "model_module_version": "1.2.0",
      "model_name": "LayoutModel",
      "state": {
       "width": "15%"
      }
     },
     "94e5cb03c804490991c4219995e841bf": {
      "model_module": "@jupyter-widgets/controls",
      "model_module_version": "1.5.0",
      "model_name": "DescriptionStyleModel",
      "state": {
       "description_width": ""
      }
     },
     "94f9719bf07f4fbbb6ee9e2d8caeb9bf": {
      "model_module": "@jupyter-widgets/controls",
      "model_module_version": "1.5.0",
      "model_name": "CheckboxModel",
      "state": {
       "description": "Common",
       "disabled": false,
       "indent": false,
       "layout": "IPY_MODEL_b29fd1f472434b43a4d6080f3845e487",
       "style": "IPY_MODEL_5c81f629b75e436b897cbae7c8f54a69",
       "value": false
      }
     },
     "95145161721c42a7bd992e67d2024e32": {
      "model_module": "@jupyter-widgets/base",
      "model_module_version": "1.2.0",
      "model_name": "LayoutModel",
      "state": {}
     },
     "952b313a070848c1ae998f2fe4b9f0ef": {
      "model_module": "@jupyter-widgets/base",
      "model_module_version": "1.2.0",
      "model_name": "LayoutModel",
      "state": {}
     },
     "9554198ceaaf46b09fa9ce3da29bf159": {
      "model_module": "@jupyter-widgets/controls",
      "model_module_version": "1.5.0",
      "model_name": "TextModel",
      "state": {
       "layout": "IPY_MODEL_9f70a6c5db2740a89441c73c5a5b5659",
       "style": "IPY_MODEL_0bff192269b74988aed8ce27e9bc97e5",
       "value": "1:1 DOL DME"
      }
     },
     "9578ce2493c7451d9864e3641838d1ff": {
      "model_module": "@jupyter-widgets/controls",
      "model_module_version": "1.5.0",
      "model_name": "DescriptionStyleModel",
      "state": {
       "description_width": ""
      }
     },
     "95a53be48d904efc865e957f0468d6f7": {
      "model_module": "@jupyter-widgets/output",
      "model_module_version": "1.0.0",
      "model_name": "OutputModel",
      "state": {
       "layout": "IPY_MODEL_952b313a070848c1ae998f2fe4b9f0ef",
       "outputs": [
        {
         "data": {
          "application/javascript": "/* Put everything inside the global mpl namespace */\n/* global mpl */\nwindow.mpl = {};\n\nmpl.get_websocket_type = function () {\n    if (typeof WebSocket !== 'undefined') {\n        return WebSocket;\n    } else if (typeof MozWebSocket !== 'undefined') {\n        return MozWebSocket;\n    } else {\n        alert(\n            'Your browser does not have WebSocket support. ' +\n                'Please try Chrome, Safari or Firefox ≥ 6. ' +\n                'Firefox 4 and 5 are also supported but you ' +\n                'have to enable WebSockets in about:config.'\n        );\n    }\n};\n\nmpl.figure = function (figure_id, websocket, ondownload, parent_element) {\n    this.id = figure_id;\n\n    this.ws = websocket;\n\n    this.supports_binary = this.ws.binaryType !== undefined;\n\n    if (!this.supports_binary) {\n        var warnings = document.getElementById('mpl-warnings');\n        if (warnings) {\n            warnings.style.display = 'block';\n            warnings.textContent =\n                'This browser does not support binary websocket messages. ' +\n                'Performance may be slow.';\n        }\n    }\n\n    this.imageObj = new Image();\n\n    this.context = undefined;\n    this.message = undefined;\n    this.canvas = undefined;\n    this.rubberband_canvas = undefined;\n    this.rubberband_context = undefined;\n    this.format_dropdown = undefined;\n\n    this.image_mode = 'full';\n\n    this.root = document.createElement('div');\n    this.root.setAttribute('style', 'display: inline-block');\n    this._root_extra_style(this.root);\n\n    parent_element.appendChild(this.root);\n\n    this._init_header(this);\n    this._init_canvas(this);\n    this._init_toolbar(this);\n\n    var fig = this;\n\n    this.waiting = false;\n\n    this.ws.onopen = function () {\n        fig.send_message('supports_binary', { value: fig.supports_binary });\n        fig.send_message('send_image_mode', {});\n        if (fig.ratio !== 1) {\n            fig.send_message('set_device_pixel_ratio', {\n                device_pixel_ratio: fig.ratio,\n            });\n        }\n        fig.send_message('refresh', {});\n    };\n\n    this.imageObj.onload = function () {\n        if (fig.image_mode === 'full') {\n            // Full images could contain transparency (where diff images\n            // almost always do), so we need to clear the canvas so that\n            // there is no ghosting.\n            fig.context.clearRect(0, 0, fig.canvas.width, fig.canvas.height);\n        }\n        fig.context.drawImage(fig.imageObj, 0, 0);\n    };\n\n    this.imageObj.onunload = function () {\n        fig.ws.close();\n    };\n\n    this.ws.onmessage = this._make_on_message_function(this);\n\n    this.ondownload = ondownload;\n};\n\nmpl.figure.prototype._init_header = function () {\n    var titlebar = document.createElement('div');\n    titlebar.classList =\n        'ui-dialog-titlebar ui-widget-header ui-corner-all ui-helper-clearfix';\n    var titletext = document.createElement('div');\n    titletext.classList = 'ui-dialog-title';\n    titletext.setAttribute(\n        'style',\n        'width: 100%; text-align: center; padding: 3px;'\n    );\n    titlebar.appendChild(titletext);\n    this.root.appendChild(titlebar);\n    this.header = titletext;\n};\n\nmpl.figure.prototype._canvas_extra_style = function (_canvas_div) {};\n\nmpl.figure.prototype._root_extra_style = function (_canvas_div) {};\n\nmpl.figure.prototype._init_canvas = function () {\n    var fig = this;\n\n    var canvas_div = (this.canvas_div = document.createElement('div'));\n    canvas_div.setAttribute(\n        'style',\n        'border: 1px solid #ddd;' +\n            'box-sizing: content-box;' +\n            'clear: both;' +\n            'min-height: 1px;' +\n            'min-width: 1px;' +\n            'outline: 0;' +\n            'overflow: hidden;' +\n            'position: relative;' +\n            'resize: both;'\n    );\n\n    function on_keyboard_event_closure(name) {\n        return function (event) {\n            return fig.key_event(event, name);\n        };\n    }\n\n    canvas_div.addEventListener(\n        'keydown',\n        on_keyboard_event_closure('key_press')\n    );\n    canvas_div.addEventListener(\n        'keyup',\n        on_keyboard_event_closure('key_release')\n    );\n\n    this._canvas_extra_style(canvas_div);\n    this.root.appendChild(canvas_div);\n\n    var canvas = (this.canvas = document.createElement('canvas'));\n    canvas.classList.add('mpl-canvas');\n    canvas.setAttribute('style', 'box-sizing: content-box;');\n\n    this.context = canvas.getContext('2d');\n\n    var backingStore =\n        this.context.backingStorePixelRatio ||\n        this.context.webkitBackingStorePixelRatio ||\n        this.context.mozBackingStorePixelRatio ||\n        this.context.msBackingStorePixelRatio ||\n        this.context.oBackingStorePixelRatio ||\n        this.context.backingStorePixelRatio ||\n        1;\n\n    this.ratio = (window.devicePixelRatio || 1) / backingStore;\n\n    var rubberband_canvas = (this.rubberband_canvas = document.createElement(\n        'canvas'\n    ));\n    rubberband_canvas.setAttribute(\n        'style',\n        'box-sizing: content-box; position: absolute; left: 0; top: 0; z-index: 1;'\n    );\n\n    // Apply a ponyfill if ResizeObserver is not implemented by browser.\n    if (this.ResizeObserver === undefined) {\n        if (window.ResizeObserver !== undefined) {\n            this.ResizeObserver = window.ResizeObserver;\n        } else {\n            var obs = _JSXTOOLS_RESIZE_OBSERVER({});\n            this.ResizeObserver = obs.ResizeObserver;\n        }\n    }\n\n    this.resizeObserverInstance = new this.ResizeObserver(function (entries) {\n        var nentries = entries.length;\n        for (var i = 0; i < nentries; i++) {\n            var entry = entries[i];\n            var width, height;\n            if (entry.contentBoxSize) {\n                if (entry.contentBoxSize instanceof Array) {\n                    // Chrome 84 implements new version of spec.\n                    width = entry.contentBoxSize[0].inlineSize;\n                    height = entry.contentBoxSize[0].blockSize;\n                } else {\n                    // Firefox implements old version of spec.\n                    width = entry.contentBoxSize.inlineSize;\n                    height = entry.contentBoxSize.blockSize;\n                }\n            } else {\n                // Chrome <84 implements even older version of spec.\n                width = entry.contentRect.width;\n                height = entry.contentRect.height;\n            }\n\n            // Keep the size of the canvas and rubber band canvas in sync with\n            // the canvas container.\n            if (entry.devicePixelContentBoxSize) {\n                // Chrome 84 implements new version of spec.\n                canvas.setAttribute(\n                    'width',\n                    entry.devicePixelContentBoxSize[0].inlineSize\n                );\n                canvas.setAttribute(\n                    'height',\n                    entry.devicePixelContentBoxSize[0].blockSize\n                );\n            } else {\n                canvas.setAttribute('width', width * fig.ratio);\n                canvas.setAttribute('height', height * fig.ratio);\n            }\n            canvas.setAttribute(\n                'style',\n                'width: ' + width + 'px; height: ' + height + 'px;'\n            );\n\n            rubberband_canvas.setAttribute('width', width);\n            rubberband_canvas.setAttribute('height', height);\n\n            // And update the size in Python. We ignore the initial 0/0 size\n            // that occurs as the element is placed into the DOM, which should\n            // otherwise not happen due to the minimum size styling.\n            if (fig.ws.readyState == 1 && width != 0 && height != 0) {\n                fig.request_resize(width, height);\n            }\n        }\n    });\n    this.resizeObserverInstance.observe(canvas_div);\n\n    function on_mouse_event_closure(name) {\n        return function (event) {\n            return fig.mouse_event(event, name);\n        };\n    }\n\n    rubberband_canvas.addEventListener(\n        'mousedown',\n        on_mouse_event_closure('button_press')\n    );\n    rubberband_canvas.addEventListener(\n        'mouseup',\n        on_mouse_event_closure('button_release')\n    );\n    rubberband_canvas.addEventListener(\n        'dblclick',\n        on_mouse_event_closure('dblclick')\n    );\n    // Throttle sequential mouse events to 1 every 20ms.\n    rubberband_canvas.addEventListener(\n        'mousemove',\n        on_mouse_event_closure('motion_notify')\n    );\n\n    rubberband_canvas.addEventListener(\n        'mouseenter',\n        on_mouse_event_closure('figure_enter')\n    );\n    rubberband_canvas.addEventListener(\n        'mouseleave',\n        on_mouse_event_closure('figure_leave')\n    );\n\n    canvas_div.addEventListener('wheel', function (event) {\n        if (event.deltaY < 0) {\n            event.step = 1;\n        } else {\n            event.step = -1;\n        }\n        on_mouse_event_closure('scroll')(event);\n    });\n\n    canvas_div.appendChild(canvas);\n    canvas_div.appendChild(rubberband_canvas);\n\n    this.rubberband_context = rubberband_canvas.getContext('2d');\n    this.rubberband_context.strokeStyle = '#000000';\n\n    this._resize_canvas = function (width, height, forward) {\n        if (forward) {\n            canvas_div.style.width = width + 'px';\n            canvas_div.style.height = height + 'px';\n        }\n    };\n\n    // Disable right mouse context menu.\n    this.rubberband_canvas.addEventListener('contextmenu', function (_e) {\n        event.preventDefault();\n        return false;\n    });\n\n    function set_focus() {\n        canvas.focus();\n        canvas_div.focus();\n    }\n\n    window.setTimeout(set_focus, 100);\n};\n\nmpl.figure.prototype._init_toolbar = function () {\n    var fig = this;\n\n    var toolbar = document.createElement('div');\n    toolbar.classList = 'mpl-toolbar';\n    this.root.appendChild(toolbar);\n\n    function on_click_closure(name) {\n        return function (_event) {\n            return fig.toolbar_button_onclick(name);\n        };\n    }\n\n    function on_mouseover_closure(tooltip) {\n        return function (event) {\n            if (!event.currentTarget.disabled) {\n                return fig.toolbar_button_onmouseover(tooltip);\n            }\n        };\n    }\n\n    fig.buttons = {};\n    var buttonGroup = document.createElement('div');\n    buttonGroup.classList = 'mpl-button-group';\n    for (var toolbar_ind in mpl.toolbar_items) {\n        var name = mpl.toolbar_items[toolbar_ind][0];\n        var tooltip = mpl.toolbar_items[toolbar_ind][1];\n        var image = mpl.toolbar_items[toolbar_ind][2];\n        var method_name = mpl.toolbar_items[toolbar_ind][3];\n\n        if (!name) {\n            /* Instead of a spacer, we start a new button group. */\n            if (buttonGroup.hasChildNodes()) {\n                toolbar.appendChild(buttonGroup);\n            }\n            buttonGroup = document.createElement('div');\n            buttonGroup.classList = 'mpl-button-group';\n            continue;\n        }\n\n        var button = (fig.buttons[name] = document.createElement('button'));\n        button.classList = 'mpl-widget';\n        button.setAttribute('role', 'button');\n        button.setAttribute('aria-disabled', 'false');\n        button.addEventListener('click', on_click_closure(method_name));\n        button.addEventListener('mouseover', on_mouseover_closure(tooltip));\n\n        var icon_img = document.createElement('img');\n        icon_img.src = '_images/' + image + '.png';\n        icon_img.srcset = '_images/' + image + '_large.png 2x';\n        icon_img.alt = tooltip;\n        button.appendChild(icon_img);\n\n        buttonGroup.appendChild(button);\n    }\n\n    if (buttonGroup.hasChildNodes()) {\n        toolbar.appendChild(buttonGroup);\n    }\n\n    var fmt_picker = document.createElement('select');\n    fmt_picker.classList = 'mpl-widget';\n    toolbar.appendChild(fmt_picker);\n    this.format_dropdown = fmt_picker;\n\n    for (var ind in mpl.extensions) {\n        var fmt = mpl.extensions[ind];\n        var option = document.createElement('option');\n        option.selected = fmt === mpl.default_extension;\n        option.innerHTML = fmt;\n        fmt_picker.appendChild(option);\n    }\n\n    var status_bar = document.createElement('span');\n    status_bar.classList = 'mpl-message';\n    toolbar.appendChild(status_bar);\n    this.message = status_bar;\n};\n\nmpl.figure.prototype.request_resize = function (x_pixels, y_pixels) {\n    // Request matplotlib to resize the figure. Matplotlib will then trigger a resize in the client,\n    // which will in turn request a refresh of the image.\n    this.send_message('resize', { width: x_pixels, height: y_pixels });\n};\n\nmpl.figure.prototype.send_message = function (type, properties) {\n    properties['type'] = type;\n    properties['figure_id'] = this.id;\n    this.ws.send(JSON.stringify(properties));\n};\n\nmpl.figure.prototype.send_draw_message = function () {\n    if (!this.waiting) {\n        this.waiting = true;\n        this.ws.send(JSON.stringify({ type: 'draw', figure_id: this.id }));\n    }\n};\n\nmpl.figure.prototype.handle_save = function (fig, _msg) {\n    var format_dropdown = fig.format_dropdown;\n    var format = format_dropdown.options[format_dropdown.selectedIndex].value;\n    fig.ondownload(fig, format);\n};\n\nmpl.figure.prototype.handle_resize = function (fig, msg) {\n    var size = msg['size'];\n    if (size[0] !== fig.canvas.width || size[1] !== fig.canvas.height) {\n        fig._resize_canvas(size[0], size[1], msg['forward']);\n        fig.send_message('refresh', {});\n    }\n};\n\nmpl.figure.prototype.handle_rubberband = function (fig, msg) {\n    var x0 = msg['x0'] / fig.ratio;\n    var y0 = (fig.canvas.height - msg['y0']) / fig.ratio;\n    var x1 = msg['x1'] / fig.ratio;\n    var y1 = (fig.canvas.height - msg['y1']) / fig.ratio;\n    x0 = Math.floor(x0) + 0.5;\n    y0 = Math.floor(y0) + 0.5;\n    x1 = Math.floor(x1) + 0.5;\n    y1 = Math.floor(y1) + 0.5;\n    var min_x = Math.min(x0, x1);\n    var min_y = Math.min(y0, y1);\n    var width = Math.abs(x1 - x0);\n    var height = Math.abs(y1 - y0);\n\n    fig.rubberband_context.clearRect(\n        0,\n        0,\n        fig.canvas.width / fig.ratio,\n        fig.canvas.height / fig.ratio\n    );\n\n    fig.rubberband_context.strokeRect(min_x, min_y, width, height);\n};\n\nmpl.figure.prototype.handle_figure_label = function (fig, msg) {\n    // Updates the figure title.\n    fig.header.textContent = msg['label'];\n};\n\nmpl.figure.prototype.handle_cursor = function (fig, msg) {\n    fig.rubberband_canvas.style.cursor = msg['cursor'];\n};\n\nmpl.figure.prototype.handle_message = function (fig, msg) {\n    fig.message.textContent = msg['message'];\n};\n\nmpl.figure.prototype.handle_draw = function (fig, _msg) {\n    // Request the server to send over a new figure.\n    fig.send_draw_message();\n};\n\nmpl.figure.prototype.handle_image_mode = function (fig, msg) {\n    fig.image_mode = msg['mode'];\n};\n\nmpl.figure.prototype.handle_history_buttons = function (fig, msg) {\n    for (var key in msg) {\n        if (!(key in fig.buttons)) {\n            continue;\n        }\n        fig.buttons[key].disabled = !msg[key];\n        fig.buttons[key].setAttribute('aria-disabled', !msg[key]);\n    }\n};\n\nmpl.figure.prototype.handle_navigate_mode = function (fig, msg) {\n    if (msg['mode'] === 'PAN') {\n        fig.buttons['Pan'].classList.add('active');\n        fig.buttons['Zoom'].classList.remove('active');\n    } else if (msg['mode'] === 'ZOOM') {\n        fig.buttons['Pan'].classList.remove('active');\n        fig.buttons['Zoom'].classList.add('active');\n    } else {\n        fig.buttons['Pan'].classList.remove('active');\n        fig.buttons['Zoom'].classList.remove('active');\n    }\n};\n\nmpl.figure.prototype.updated_canvas_event = function () {\n    // Called whenever the canvas gets updated.\n    this.send_message('ack', {});\n};\n\n// A function to construct a web socket function for onmessage handling.\n// Called in the figure constructor.\nmpl.figure.prototype._make_on_message_function = function (fig) {\n    return function socket_on_message(evt) {\n        if (evt.data instanceof Blob) {\n            var img = evt.data;\n            if (img.type !== 'image/png') {\n                /* FIXME: We get \"Resource interpreted as Image but\n                 * transferred with MIME type text/plain:\" errors on\n                 * Chrome.  But how to set the MIME type?  It doesn't seem\n                 * to be part of the websocket stream */\n                img.type = 'image/png';\n            }\n\n            /* Free the memory for the previous frames */\n            if (fig.imageObj.src) {\n                (window.URL || window.webkitURL).revokeObjectURL(\n                    fig.imageObj.src\n                );\n            }\n\n            fig.imageObj.src = (window.URL || window.webkitURL).createObjectURL(\n                img\n            );\n            fig.updated_canvas_event();\n            fig.waiting = false;\n            return;\n        } else if (\n            typeof evt.data === 'string' &&\n            evt.data.slice(0, 21) === 'data:image/png;base64'\n        ) {\n            fig.imageObj.src = evt.data;\n            fig.updated_canvas_event();\n            fig.waiting = false;\n            return;\n        }\n\n        var msg = JSON.parse(evt.data);\n        var msg_type = msg['type'];\n\n        // Call the  \"handle_{type}\" callback, which takes\n        // the figure and JSON message as its only arguments.\n        try {\n            var callback = fig['handle_' + msg_type];\n        } catch (e) {\n            console.log(\n                \"No handler for the '\" + msg_type + \"' message type: \",\n                msg\n            );\n            return;\n        }\n\n        if (callback) {\n            try {\n                // console.log(\"Handling '\" + msg_type + \"' message: \", msg);\n                callback(fig, msg);\n            } catch (e) {\n                console.log(\n                    \"Exception inside the 'handler_\" + msg_type + \"' callback:\",\n                    e,\n                    e.stack,\n                    msg\n                );\n            }\n        }\n    };\n};\n\n// from https://stackoverflow.com/questions/1114465/getting-mouse-location-in-canvas\nmpl.findpos = function (e) {\n    //this section is from http://www.quirksmode.org/js/events_properties.html\n    var targ;\n    if (!e) {\n        e = window.event;\n    }\n    if (e.target) {\n        targ = e.target;\n    } else if (e.srcElement) {\n        targ = e.srcElement;\n    }\n    if (targ.nodeType === 3) {\n        // defeat Safari bug\n        targ = targ.parentNode;\n    }\n\n    // pageX,Y are the mouse positions relative to the document\n    var boundingRect = targ.getBoundingClientRect();\n    var x = e.pageX - (boundingRect.left + document.body.scrollLeft);\n    var y = e.pageY - (boundingRect.top + document.body.scrollTop);\n\n    return { x: x, y: y };\n};\n\n/*\n * return a copy of an object with only non-object keys\n * we need this to avoid circular references\n * https://stackoverflow.com/a/24161582/3208463\n */\nfunction simpleKeys(original) {\n    return Object.keys(original).reduce(function (obj, key) {\n        if (typeof original[key] !== 'object') {\n            obj[key] = original[key];\n        }\n        return obj;\n    }, {});\n}\n\nmpl.figure.prototype.mouse_event = function (event, name) {\n    var canvas_pos = mpl.findpos(event);\n\n    if (name === 'button_press') {\n        this.canvas.focus();\n        this.canvas_div.focus();\n    }\n\n    var x = canvas_pos.x * this.ratio;\n    var y = canvas_pos.y * this.ratio;\n\n    this.send_message(name, {\n        x: x,\n        y: y,\n        button: event.button,\n        step: event.step,\n        guiEvent: simpleKeys(event),\n    });\n\n    /* This prevents the web browser from automatically changing to\n     * the text insertion cursor when the button is pressed.  We want\n     * to control all of the cursor setting manually through the\n     * 'cursor' event from matplotlib */\n    event.preventDefault();\n    return false;\n};\n\nmpl.figure.prototype._key_event_extra = function (_event, _name) {\n    // Handle any extra behaviour associated with a key event\n};\n\nmpl.figure.prototype.key_event = function (event, name) {\n    // Prevent repeat events\n    if (name === 'key_press') {\n        if (event.key === this._key) {\n            return;\n        } else {\n            this._key = event.key;\n        }\n    }\n    if (name === 'key_release') {\n        this._key = null;\n    }\n\n    var value = '';\n    if (event.ctrlKey && event.key !== 'Control') {\n        value += 'ctrl+';\n    }\n    else if (event.altKey && event.key !== 'Alt') {\n        value += 'alt+';\n    }\n    else if (event.shiftKey && event.key !== 'Shift') {\n        value += 'shift+';\n    }\n\n    value += 'k' + event.key;\n\n    this._key_event_extra(event, name);\n\n    this.send_message(name, { key: value, guiEvent: simpleKeys(event) });\n    return false;\n};\n\nmpl.figure.prototype.toolbar_button_onclick = function (name) {\n    if (name === 'download') {\n        this.handle_save(this, null);\n    } else {\n        this.send_message('toolbar_button', { name: name });\n    }\n};\n\nmpl.figure.prototype.toolbar_button_onmouseover = function (tooltip) {\n    this.message.textContent = tooltip;\n};\n\n///////////////// REMAINING CONTENT GENERATED BY embed_js.py /////////////////\n// prettier-ignore\nvar _JSXTOOLS_RESIZE_OBSERVER=function(A){var t,i=new WeakMap,n=new WeakMap,a=new WeakMap,r=new WeakMap,o=new Set;function s(e){if(!(this instanceof s))throw new TypeError(\"Constructor requires 'new' operator\");i.set(this,e)}function h(){throw new TypeError(\"Function is not a constructor\")}function c(e,t,i,n){e=0 in arguments?Number(arguments[0]):0,t=1 in arguments?Number(arguments[1]):0,i=2 in arguments?Number(arguments[2]):0,n=3 in arguments?Number(arguments[3]):0,this.right=(this.x=this.left=e)+(this.width=i),this.bottom=(this.y=this.top=t)+(this.height=n),Object.freeze(this)}function d(){t=requestAnimationFrame(d);var s=new WeakMap,p=new Set;o.forEach((function(t){r.get(t).forEach((function(i){var r=t instanceof window.SVGElement,o=a.get(t),d=r?0:parseFloat(o.paddingTop),f=r?0:parseFloat(o.paddingRight),l=r?0:parseFloat(o.paddingBottom),u=r?0:parseFloat(o.paddingLeft),g=r?0:parseFloat(o.borderTopWidth),m=r?0:parseFloat(o.borderRightWidth),w=r?0:parseFloat(o.borderBottomWidth),b=u+f,F=d+l,v=(r?0:parseFloat(o.borderLeftWidth))+m,W=g+w,y=r?0:t.offsetHeight-W-t.clientHeight,E=r?0:t.offsetWidth-v-t.clientWidth,R=b+v,z=F+W,M=r?t.width:parseFloat(o.width)-R-E,O=r?t.height:parseFloat(o.height)-z-y;if(n.has(t)){var k=n.get(t);if(k[0]===M&&k[1]===O)return}n.set(t,[M,O]);var S=Object.create(h.prototype);S.target=t,S.contentRect=new c(u,d,M,O),s.has(i)||(s.set(i,[]),p.add(i)),s.get(i).push(S)}))})),p.forEach((function(e){i.get(e).call(e,s.get(e),e)}))}return s.prototype.observe=function(i){if(i instanceof window.Element){r.has(i)||(r.set(i,new Set),o.add(i),a.set(i,window.getComputedStyle(i)));var n=r.get(i);n.has(this)||n.add(this),cancelAnimationFrame(t),t=requestAnimationFrame(d)}},s.prototype.unobserve=function(i){if(i instanceof window.Element&&r.has(i)){var n=r.get(i);n.has(this)&&(n.delete(this),n.size||(r.delete(i),o.delete(i))),n.size||r.delete(i),o.size||cancelAnimationFrame(t)}},A.DOMRectReadOnly=c,A.ResizeObserver=s,A.ResizeObserverEntry=h,A}; // eslint-disable-line\nmpl.toolbar_items = [[\"Home\", \"Reset original view\", \"fa fa-home icon-home\", \"home\"], [\"Back\", \"Back to previous view\", \"fa fa-arrow-left icon-arrow-left\", \"back\"], [\"Forward\", \"Forward to next view\", \"fa fa-arrow-right icon-arrow-right\", \"forward\"], [\"\", \"\", \"\", \"\"], [\"Pan\", \"Left button pans, Right button zooms\\nx/y fixes axis, CTRL fixes aspect\", \"fa fa-arrows icon-move\", \"pan\"], [\"Zoom\", \"Zoom to rectangle\\nx/y fixes axis\", \"fa fa-square-o icon-check-empty\", \"zoom\"], [\"\", \"\", \"\", \"\"], [\"Download\", \"Download plot\", \"fa fa-floppy-o icon-save\", \"download\"]];\n\nmpl.extensions = [\"eps\", \"jpeg\", \"pgf\", \"pdf\", \"png\", \"ps\", \"raw\", \"svg\", \"tif\"];\n\nmpl.default_extension = \"png\";/* global mpl */\n\nvar comm_websocket_adapter = function (comm) {\n    // Create a \"websocket\"-like object which calls the given IPython comm\n    // object with the appropriate methods. Currently this is a non binary\n    // socket, so there is still some room for performance tuning.\n    var ws = {};\n\n    ws.binaryType = comm.kernel.ws.binaryType;\n    ws.readyState = comm.kernel.ws.readyState;\n    function updateReadyState(_event) {\n        if (comm.kernel.ws) {\n            ws.readyState = comm.kernel.ws.readyState;\n        } else {\n            ws.readyState = 3; // Closed state.\n        }\n    }\n    comm.kernel.ws.addEventListener('open', updateReadyState);\n    comm.kernel.ws.addEventListener('close', updateReadyState);\n    comm.kernel.ws.addEventListener('error', updateReadyState);\n\n    ws.close = function () {\n        comm.close();\n    };\n    ws.send = function (m) {\n        //console.log('sending', m);\n        comm.send(m);\n    };\n    // Register the callback with on_msg.\n    comm.on_msg(function (msg) {\n        //console.log('receiving', msg['content']['data'], msg);\n        var data = msg['content']['data'];\n        if (data['blob'] !== undefined) {\n            data = {\n                data: new Blob(msg['buffers'], { type: data['blob'] }),\n            };\n        }\n        // Pass the mpl event to the overridden (by mpl) onmessage function.\n        ws.onmessage(data);\n    });\n    return ws;\n};\n\nmpl.mpl_figure_comm = function (comm, msg) {\n    // This is the function which gets called when the mpl process\n    // starts-up an IPython Comm through the \"matplotlib\" channel.\n\n    var id = msg.content.data.id;\n    // Get hold of the div created by the display call when the Comm\n    // socket was opened in Python.\n    var element = document.getElementById(id);\n    var ws_proxy = comm_websocket_adapter(comm);\n\n    function ondownload(figure, _format) {\n        window.open(figure.canvas.toDataURL());\n    }\n\n    var fig = new mpl.figure(id, ws_proxy, ondownload, element);\n\n    // Call onopen now - mpl needs it, as it is assuming we've passed it a real\n    // web socket which is closed, not our websocket->open comm proxy.\n    ws_proxy.onopen();\n\n    fig.parent_element = element;\n    fig.cell_info = mpl.find_output_cell(\"<div id='\" + id + \"'></div>\");\n    if (!fig.cell_info) {\n        console.error('Failed to find cell for figure', id, fig);\n        return;\n    }\n    fig.cell_info[0].output_area.element.on(\n        'cleared',\n        { fig: fig },\n        fig._remove_fig_handler\n    );\n};\n\nmpl.figure.prototype.handle_close = function (fig, msg) {\n    var width = fig.canvas.width / fig.ratio;\n    fig.cell_info[0].output_area.element.off(\n        'cleared',\n        fig._remove_fig_handler\n    );\n    fig.resizeObserverInstance.unobserve(fig.canvas_div);\n\n    // Update the output cell to use the data from the current canvas.\n    fig.push_to_output();\n    var dataURL = fig.canvas.toDataURL();\n    // Re-enable the keyboard manager in IPython - without this line, in FF,\n    // the notebook keyboard shortcuts fail.\n    IPython.keyboard_manager.enable();\n    fig.parent_element.innerHTML =\n        '<img src=\"' + dataURL + '\" width=\"' + width + '\">';\n    fig.close_ws(fig, msg);\n};\n\nmpl.figure.prototype.close_ws = function (fig, msg) {\n    fig.send_message('closing', msg);\n    // fig.ws.close()\n};\n\nmpl.figure.prototype.push_to_output = function (_remove_interactive) {\n    // Turn the data on the canvas into data in the output cell.\n    var width = this.canvas.width / this.ratio;\n    var dataURL = this.canvas.toDataURL();\n    this.cell_info[1]['text/html'] =\n        '<img src=\"' + dataURL + '\" width=\"' + width + '\">';\n};\n\nmpl.figure.prototype.updated_canvas_event = function () {\n    // Tell IPython that the notebook contents must change.\n    IPython.notebook.set_dirty(true);\n    this.send_message('ack', {});\n    var fig = this;\n    // Wait a second, then push the new image to the DOM so\n    // that it is saved nicely (might be nice to debounce this).\n    setTimeout(function () {\n        fig.push_to_output();\n    }, 1000);\n};\n\nmpl.figure.prototype._init_toolbar = function () {\n    var fig = this;\n\n    var toolbar = document.createElement('div');\n    toolbar.classList = 'btn-toolbar';\n    this.root.appendChild(toolbar);\n\n    function on_click_closure(name) {\n        return function (_event) {\n            return fig.toolbar_button_onclick(name);\n        };\n    }\n\n    function on_mouseover_closure(tooltip) {\n        return function (event) {\n            if (!event.currentTarget.disabled) {\n                return fig.toolbar_button_onmouseover(tooltip);\n            }\n        };\n    }\n\n    fig.buttons = {};\n    var buttonGroup = document.createElement('div');\n    buttonGroup.classList = 'btn-group';\n    var button;\n    for (var toolbar_ind in mpl.toolbar_items) {\n        var name = mpl.toolbar_items[toolbar_ind][0];\n        var tooltip = mpl.toolbar_items[toolbar_ind][1];\n        var image = mpl.toolbar_items[toolbar_ind][2];\n        var method_name = mpl.toolbar_items[toolbar_ind][3];\n\n        if (!name) {\n            /* Instead of a spacer, we start a new button group. */\n            if (buttonGroup.hasChildNodes()) {\n                toolbar.appendChild(buttonGroup);\n            }\n            buttonGroup = document.createElement('div');\n            buttonGroup.classList = 'btn-group';\n            continue;\n        }\n\n        button = fig.buttons[name] = document.createElement('button');\n        button.classList = 'btn btn-default';\n        button.href = '#';\n        button.title = name;\n        button.innerHTML = '<i class=\"fa ' + image + ' fa-lg\"></i>';\n        button.addEventListener('click', on_click_closure(method_name));\n        button.addEventListener('mouseover', on_mouseover_closure(tooltip));\n        buttonGroup.appendChild(button);\n    }\n\n    if (buttonGroup.hasChildNodes()) {\n        toolbar.appendChild(buttonGroup);\n    }\n\n    // Add the status bar.\n    var status_bar = document.createElement('span');\n    status_bar.classList = 'mpl-message pull-right';\n    toolbar.appendChild(status_bar);\n    this.message = status_bar;\n\n    // Add the close button to the window.\n    var buttongrp = document.createElement('div');\n    buttongrp.classList = 'btn-group inline pull-right';\n    button = document.createElement('button');\n    button.classList = 'btn btn-mini btn-primary';\n    button.href = '#';\n    button.title = 'Stop Interaction';\n    button.innerHTML = '<i class=\"fa fa-power-off icon-remove icon-large\"></i>';\n    button.addEventListener('click', function (_evt) {\n        fig.handle_close(fig, {});\n    });\n    button.addEventListener(\n        'mouseover',\n        on_mouseover_closure('Stop Interaction')\n    );\n    buttongrp.appendChild(button);\n    var titlebar = this.root.querySelector('.ui-dialog-titlebar');\n    titlebar.insertBefore(buttongrp, titlebar.firstChild);\n};\n\nmpl.figure.prototype._remove_fig_handler = function (event) {\n    var fig = event.data.fig;\n    if (event.target !== this) {\n        // Ignore bubbled events from children.\n        return;\n    }\n    fig.close_ws(fig, {});\n};\n\nmpl.figure.prototype._root_extra_style = function (el) {\n    el.style.boxSizing = 'content-box'; // override notebook setting of border-box.\n};\n\nmpl.figure.prototype._canvas_extra_style = function (el) {\n    // this is important to make the div 'focusable\n    el.setAttribute('tabindex', 0);\n    // reach out to IPython and tell the keyboard manager to turn it's self\n    // off when our div gets focus\n\n    // location in version 3\n    if (IPython.notebook.keyboard_manager) {\n        IPython.notebook.keyboard_manager.register_events(el);\n    } else {\n        // location in version 2\n        IPython.keyboard_manager.register_events(el);\n    }\n};\n\nmpl.figure.prototype._key_event_extra = function (event, _name) {\n    // Check for shift+enter\n    if (event.shiftKey && event.which === 13) {\n        this.canvas_div.blur();\n        // select the cell after this one\n        var index = IPython.notebook.find_cell_index(this.cell_info[0]);\n        IPython.notebook.select(index + 1);\n    }\n};\n\nmpl.figure.prototype.handle_save = function (fig, _msg) {\n    fig.ondownload(fig, null);\n};\n\nmpl.find_output_cell = function (html_output) {\n    // Return the cell and output element which can be found *uniquely* in the notebook.\n    // Note - this is a bit hacky, but it is done because the \"notebook_saving.Notebook\"\n    // IPython event is triggered only after the cells have been serialised, which for\n    // our purposes (turning an active figure into a static one), is too late.\n    var cells = IPython.notebook.get_cells();\n    var ncells = cells.length;\n    for (var i = 0; i < ncells; i++) {\n        var cell = cells[i];\n        if (cell.cell_type === 'code') {\n            for (var j = 0; j < cell.output_area.outputs.length; j++) {\n                var data = cell.output_area.outputs[j];\n                if (data.data) {\n                    // IPython >= 3 moved mimebundle to data attribute of output\n                    data = data.data;\n                }\n                if (data['text/html'] === html_output) {\n                    return [cell, data, j];\n                }\n            }\n        }\n    }\n};\n\n// Register the function which deals with the matplotlib target/channel.\n// The kernel may be null if the page has been refreshed.\nif (IPython.notebook.kernel !== null) {\n    IPython.notebook.kernel.comm_manager.register_target(\n        'matplotlib',\n        mpl.mpl_figure_comm\n    );\n}\n",
          "text/plain": "<IPython.core.display.Javascript object>"
         },
         "metadata": {},
         "output_type": "display_data"
        },
        {
         "data": {
          "text/html": "<div id='09d37743-243a-4de7-8f16-fdbd9d933ce4'></div>",
          "text/plain": "<IPython.core.display.HTML object>"
         },
         "metadata": {},
         "output_type": "display_data"
        }
       ]
      }
     },
     "95bd1a84ab714ddc8e800585ce4d5395": {
      "model_module": "@jupyter-widgets/controls",
      "model_module_version": "1.5.0",
      "model_name": "ButtonStyleModel",
      "state": {
       "button_color": "orange"
      }
     },
     "95c1f98923a44ae3bf0ad6562a34fbcd": {
      "model_module": "@jupyter-widgets/base",
      "model_module_version": "1.2.0",
      "model_name": "LayoutModel",
      "state": {}
     },
     "95d0f78c49784bdf82c149ad68b7a73b": {
      "model_module": "@jupyter-widgets/controls",
      "model_module_version": "1.5.0",
      "model_name": "HBoxModel",
      "state": {
       "children": [
        "IPY_MODEL_c9c4941b86e84914832452f265cd2f04",
        "IPY_MODEL_1c83d0da303e4a80a2c7ef776078fd63"
       ],
       "layout": "IPY_MODEL_344f497d55724436a53fa21a275982a1"
      }
     },
     "961adca51dc34b2292a274fcf26946d5": {
      "model_module": "@jupyter-widgets/base",
      "model_module_version": "1.2.0",
      "model_name": "LayoutModel",
      "state": {}
     },
     "96aba6a651bc4a469c7ea50aaf12450d": {
      "model_module": "@jupyter-widgets/controls",
      "model_module_version": "1.5.0",
      "model_name": "HBoxModel",
      "state": {
       "children": [
        "IPY_MODEL_fa025126171a41bd9c01608b49d59fbe",
        "IPY_MODEL_ffafa11b94e34253a0f24b6122922936"
       ],
       "layout": "IPY_MODEL_2c520ed595e3449ba5f9b13323f0f317"
      }
     },
     "96acd8f04010497b83d970250d170b39": {
      "model_module": "@jupyter-widgets/controls",
      "model_module_version": "1.5.0",
      "model_name": "TextModel",
      "state": {
       "layout": "IPY_MODEL_2ea41123ef6e432a9de67807cb2dd325",
       "style": "IPY_MODEL_a8f176d1e19e420d96960c293a0d9896"
      }
     },
     "96d4a5deaf044284b5548f64a76166c9": {
      "model_module": "@jupyter-widgets/controls",
      "model_module_version": "1.5.0",
      "model_name": "DescriptionStyleModel",
      "state": {
       "description_width": ""
      }
     },
     "974f7cc00b5942a79f562d18b95f68fa": {
      "model_module": "@jupyter-widgets/controls",
      "model_module_version": "1.5.0",
      "model_name": "LabelModel",
      "state": {
       "layout": "IPY_MODEL_0df9987234d949d3a653e70b86abc939",
       "style": "IPY_MODEL_f01310ee77804ae9974fe9c13e478691",
       "value": "Surface area (cm2/g)"
      }
     },
     "977c933cc4134c6fb7b1646af3157a00": {
      "model_module": "@jupyter-widgets/controls",
      "model_module_version": "1.5.0",
      "model_name": "HBoxModel",
      "state": {
       "children": [
        "IPY_MODEL_003097a80127419cb7830c02f1a985be",
        "IPY_MODEL_a0687edae49f44d19d6e61318aa5fe46"
       ],
       "layout": "IPY_MODEL_2364e55a86604e85829046b09bbefe23"
      }
     },
     "97a8b038c4204eeeb5fa95a245b9ed77": {
      "model_module": "@jupyter-widgets/controls",
      "model_module_version": "1.5.0",
      "model_name": "TextModel",
      "state": {
       "layout": "IPY_MODEL_2ea41123ef6e432a9de67807cb2dd325",
       "style": "IPY_MODEL_833103a727244b8ba7db53526b89130e"
      }
     },
     "98246fe9fc30471ebda8849ff2f3fa99": {
      "model_module": "@jupyter-widgets/controls",
      "model_module_version": "1.5.0",
      "model_name": "HBoxModel",
      "state": {
       "children": [
        "IPY_MODEL_efd7177667c24c3eaac4db9790008927",
        "IPY_MODEL_75ce2f7df0cb42c68b44e7b4af4d8b69"
       ],
       "layout": "IPY_MODEL_a95500871078407192faa5c69e6b734f"
      }
     },
     "987358f8235a46de969d6b4396bebfc4": {
      "model_module": "@jupyter-widgets/controls",
      "model_module_version": "1.5.0",
      "model_name": "HBoxModel",
      "state": {
       "children": [
        "IPY_MODEL_8303190dbc634d7c96a6cf8e442a19b2",
        "IPY_MODEL_2890bc01dc1c4037ab6e8930116d0ff5",
        "IPY_MODEL_3908e6df19fa479a9c3c89a8d7a568dd"
       ],
       "layout": "IPY_MODEL_25ec30f1d2274872aba664b6e3e8fec1"
      }
     },
     "9876c457b5da406ba3d2f4078c2dee51": {
      "model_module": "@jupyter-widgets/controls",
      "model_module_version": "1.5.0",
      "model_name": "HBoxModel",
      "state": {
       "children": [
        "IPY_MODEL_19648b74df89457d9801f3d51d0b67da",
        "IPY_MODEL_31f810928f42402ca065a6e026887b7a"
       ],
       "layout": "IPY_MODEL_3d25e0237fa646fbb450cc5ef187398b"
      }
     },
     "98a49352de1a4df187d7932c07112da4": {
      "model_module": "@jupyter-widgets/base",
      "model_module_version": "1.2.0",
      "model_name": "LayoutModel",
      "state": {}
     },
     "98a8742eb781405ba0b93f35458bc016": {
      "model_module": "@jupyter-widgets/controls",
      "model_module_version": "1.5.0",
      "model_name": "DescriptionStyleModel",
      "state": {
       "description_width": ""
      }
     },
     "990d9fbcd7224c3391291cc56123a8d1": {
      "model_module": "@jupyter-widgets/controls",
      "model_module_version": "1.5.0",
      "model_name": "ButtonModel",
      "state": {
       "description": "Select Files",
       "icon": "square-o",
       "layout": "IPY_MODEL_3af3fb841c3b4ba3acf0e317ecd0031e",
       "style": "IPY_MODEL_1d2190fe14a94e63b2aeae699a37e3e2"
      }
     },
     "99533b94a46d4bf790d57091f981ce5c": {
      "model_module": "@jupyter-widgets/controls",
      "model_module_version": "1.5.0",
      "model_name": "ButtonStyleModel",
      "state": {}
     },
     "9a3cd48dc6c945749f786c246be3cc43": {
      "model_module": "@jupyter-widgets/controls",
      "model_module_version": "1.5.0",
      "model_name": "HBoxModel",
      "state": {
       "children": [
        "IPY_MODEL_406aecc84347431280e5802001c4679a",
        "IPY_MODEL_18368abce0ec45d382fc49a33884c244",
        "IPY_MODEL_9fef1b03d2ea4e37bdfef4ea6a671cd0"
       ],
       "layout": "IPY_MODEL_bf2d1f5df27146a39bfa7140ff740bb9"
      }
     },
     "9a6a7cd38288475eb961b14a58c012e0": {
      "model_module": "@jupyter-widgets/controls",
      "model_module_version": "1.5.0",
      "model_name": "LabelModel",
      "state": {
       "layout": "IPY_MODEL_effe09f8bc7547e485e4d0447b61829c",
       "style": "IPY_MODEL_b4106838862348fcb8910722de15d401",
       "value": "Carbon source"
      }
     },
     "9ab1f27f5d1d4f1bb9b57ad19c1fc0fa": {
      "model_module": "@jupyter-widgets/controls",
      "model_module_version": "1.5.0",
      "model_name": "HBoxModel",
      "state": {
       "children": [
        "IPY_MODEL_2ac59f07a89d44fc848fc643b33e8314"
       ],
       "layout": "IPY_MODEL_06e6b5092f724521bc5f70a30b1331e7"
      }
     },
     "9ab98c40a0c54775883cd13dfa9d756d": {
      "model_module": "@jupyter-widgets/controls",
      "model_module_version": "1.5.0",
      "model_name": "VBoxModel",
      "state": {
       "children": [
        "IPY_MODEL_2a6784bf5850470fa6aa8320bd7e2fbe",
        "IPY_MODEL_7adf3f6ccb844f009c444dbf9ff04e7e",
        "IPY_MODEL_51e1d6ddcab64109aeaab0563497d276",
        "IPY_MODEL_1b643820644a4ecbaa444c3e3844e269",
        "IPY_MODEL_a7f9739b2f8c4ae7a55f729894741368",
        "IPY_MODEL_060f67e4edec468ea3bbb14d75eccbb1",
        "IPY_MODEL_b560fbfca46a435a9c49537d9d1496ce",
        "IPY_MODEL_70ad421caaa24a96af964cb5c9d04242",
        "IPY_MODEL_36868e517ebb4cf79fe6e37cc17a64bb",
        "IPY_MODEL_17bae5418e3f48559675c0701d5b97de",
        "IPY_MODEL_7ac54d8230424aacbc67eaa80f08e8ea",
        "IPY_MODEL_a0820a5a9baf4cb0858f6fee9268d7f4",
        "IPY_MODEL_19982e9a4f0e49f2a806d4245886014b",
        "IPY_MODEL_80eb0d827da64e89bd3bcb50833d154a",
        "IPY_MODEL_aaf7bfd186b648d7ad3f6fd9d34e2f09",
        "IPY_MODEL_390c6d25a7154628ba70d6f7adafdd3e",
        "IPY_MODEL_239a2ea611c64686a1cfbb64af5e11ef",
        "IPY_MODEL_1650b3dc664545ccb77083af76bfe895"
       ],
       "layout": "IPY_MODEL_fc8b4d28a2244f4a9fb9eec934d92d45"
      }
     },
     "9b706cd2bd424b568d126d2956462e9f": {
      "model_module": "@jupyter-widgets/controls",
      "model_module_version": "1.5.0",
      "model_name": "DescriptionStyleModel",
      "state": {
       "description_width": ""
      }
     },
     "9b893cbbbc744da9985b74644b54e227": {
      "model_module": "@jupyter-widgets/base",
      "model_module_version": "1.2.0",
      "model_name": "LayoutModel",
      "state": {}
     },
     "9bac7b95d43b440a83d055978a09398d": {
      "model_module": "@jupyter-widgets/base",
      "model_module_version": "1.2.0",
      "model_name": "LayoutModel",
      "state": {}
     },
     "9bd515a0a4854e938a9ddefeecfe14e0": {
      "model_module": "@jupyter-widgets/controls",
      "model_module_version": "1.5.0",
      "model_name": "DescriptionStyleModel",
      "state": {
       "description_width": ""
      }
     },
     "9c547ae7dc9640c9852a9f6168a82860": {
      "model_module": "@jupyter-widgets/controls",
      "model_module_version": "1.5.0",
      "model_name": "TextModel",
      "state": {
       "layout": "IPY_MODEL_2ea41123ef6e432a9de67807cb2dd325",
       "style": "IPY_MODEL_d1c5c05728c649adb56107baa1a62486"
      }
     },
     "9d010713fca243a9a3f329cf9abd2fc7": {
      "model_module": "@jupyter-widgets/base",
      "model_module_version": "1.2.0",
      "model_name": "LayoutModel",
      "state": {}
     },
     "9d3a3e57a13f45d9b136adea6263f99b": {
      "model_module": "@jupyter-widgets/controls",
      "model_module_version": "1.5.0",
      "model_name": "LabelModel",
      "state": {
       "layout": "IPY_MODEL_0df9987234d949d3a653e70b86abc939",
       "style": "IPY_MODEL_5440918eed8e4a32a7c780a16e46aa70",
       "value": "Sulfur loading (wt%)"
      }
     },
     "9e29baea3d804d6f80fcb032439cd000": {
      "model_module": "@jupyter-widgets/controls",
      "model_module_version": "1.5.0",
      "model_name": "LabelModel",
      "state": {
       "layout": "IPY_MODEL_effe09f8bc7547e485e4d0447b61829c",
       "style": "IPY_MODEL_37d8afcc4ee144e49ab99c11e6edb1f2",
       "value": "First author"
      }
     },
     "9e7db7f650424925b0f61aab73469a32": {
      "model_module": "@jupyter-widgets/controls",
      "model_module_version": "1.5.0",
      "model_name": "DescriptionStyleModel",
      "state": {
       "description_width": ""
      }
     },
     "9e8ac168f7894502b7b20c2d14b94373": {
      "model_module": "@jupyter-widgets/base",
      "model_module_version": "1.2.0",
      "model_name": "LayoutModel",
      "state": {}
     },
     "9f00a1725efe42cd9a82d59bd72de5a7": {
      "model_module": "@jupyter-widgets/base",
      "model_module_version": "1.2.0",
      "model_name": "LayoutModel",
      "state": {}
     },
     "9f09d653084f4a888571093e4e7a5521": {
      "model_module": "@jupyter-widgets/base",
      "model_module_version": "1.2.0",
      "model_name": "LayoutModel",
      "state": {}
     },
     "9f1540cb3a6a491b979e53f0cbb79236": {
      "model_module": "@jupyter-widgets/base",
      "model_module_version": "1.2.0",
      "model_name": "LayoutModel",
      "state": {}
     },
     "9f1dcdfea5f24083860b6de74e9aebdf": {
      "model_module": "@jupyter-widgets/controls",
      "model_module_version": "1.5.0",
      "model_name": "DescriptionStyleModel",
      "state": {
       "description_width": ""
      }
     },
     "9f70a6c5db2740a89441c73c5a5b5659": {
      "model_module": "@jupyter-widgets/base",
      "model_module_version": "1.2.0",
      "model_name": "LayoutModel",
      "state": {}
     },
     "9f7427c98d1c498383f8c1ca3e2ec92b": {
      "model_module": "@jupyter-widgets/base",
      "model_module_version": "1.2.0",
      "model_name": "LayoutModel",
      "state": {}
     },
     "9fef1b03d2ea4e37bdfef4ea6a671cd0": {
      "model_module": "@jupyter-widgets/controls",
      "model_module_version": "1.5.0",
      "model_name": "CheckboxModel",
      "state": {
       "description": "Common",
       "disabled": false,
       "indent": false,
       "layout": "IPY_MODEL_1b41a866e9e74cb196f4c8a42b707135",
       "style": "IPY_MODEL_f0a94135dfc74156b6d97539a42eac43",
       "value": false
      }
     },
     "a0022756411d4665afe81752b802966d": {
      "model_module": "@jupyter-widgets/controls",
      "model_module_version": "1.5.0",
      "model_name": "HBoxModel",
      "state": {
       "children": [
        "IPY_MODEL_f961957a21714d67935c74543e4f1cf1",
        "IPY_MODEL_a54ea76b685a4e99867caa3344f4e700"
       ],
       "layout": "IPY_MODEL_7c910393d1bf453a98e44a0523f6e2d0"
      }
     },
     "a02319ed75c74208b40b9ef79b84f6e7": {
      "model_module": "@jupyter-widgets/base",
      "model_module_version": "1.2.0",
      "model_name": "LayoutModel",
      "state": {}
     },
     "a02c112bf9fc43528d0aa0742038d678": {
      "model_module": "@jupyter-widgets/base",
      "model_module_version": "1.2.0",
      "model_name": "LayoutModel",
      "state": {}
     },
     "a030192f3890457a880ef7852bfdc866": {
      "model_module": "@jupyter-widgets/base",
      "model_module_version": "1.2.0",
      "model_name": "LayoutModel",
      "state": {}
     },
     "a035505a84864c478b22cdcbc8d61d74": {
      "model_module": "@jupyter-widgets/base",
      "model_module_version": "1.2.0",
      "model_name": "LayoutModel",
      "state": {}
     },
     "a040855ed946452186da2020b704d8a1": {
      "model_module": "@jupyter-widgets/controls",
      "model_module_version": "1.5.0",
      "model_name": "LabelModel",
      "state": {
       "layout": "IPY_MODEL_effe09f8bc7547e485e4d0447b61829c",
       "style": "IPY_MODEL_63d49faa866a48388c976ec2345b1569",
       "value": "Binder content (wt%)"
      }
     },
     "a061b963e1b24c6f8b1feec8862c6a22": {
      "model_module": "@jupyter-widgets/controls",
      "model_module_version": "1.5.0",
      "model_name": "DescriptionStyleModel",
      "state": {
       "description_width": ""
      }
     },
     "a0687edae49f44d19d6e61318aa5fe46": {
      "model_module": "@jupyter-widgets/controls",
      "model_module_version": "1.5.0",
      "model_name": "TextModel",
      "state": {
       "layout": "IPY_MODEL_f8964196c2084fb78c68b9819a44b91c",
       "style": "IPY_MODEL_7fcb122a225247cc82532c2bf31379a5",
       "value": "CR2032"
      }
     },
     "a072746671c7457c979a8ca1eeea2375": {
      "model_module": "@jupyter-widgets/base",
      "model_module_version": "1.2.0",
      "model_name": "LayoutModel",
      "state": {
       "width": "20%"
      }
     },
     "a079d2c1a49a41fcaa6d5627025dbe50": {
      "model_module": "@jupyter-widgets/controls",
      "model_module_version": "1.5.0",
      "model_name": "ButtonStyleModel",
      "state": {}
     },
     "a0820a5a9baf4cb0858f6fee9268d7f4": {
      "model_module": "@jupyter-widgets/controls",
      "model_module_version": "1.5.0",
      "model_name": "HBoxModel",
      "state": {
       "children": [
        "IPY_MODEL_01393741cac84a469e99134dd748b6ed",
        "IPY_MODEL_2e194454d09e42bb99d5dbe9a9e72664"
       ],
       "layout": "IPY_MODEL_becc6822b068406c8610bb5452c53c59"
      }
     },
     "a0aa5535b49d4f46a3e57851dd3d612f": {
      "model_module": "@jupyter-widgets/base",
      "model_module_version": "1.2.0",
      "model_name": "LayoutModel",
      "state": {}
     },
     "a0eacac097db49f29bc514df8752314e": {
      "model_module": "@jupyter-widgets/controls",
      "model_module_version": "1.5.0",
      "model_name": "DescriptionStyleModel",
      "state": {
       "description_width": ""
      }
     },
     "a0f540bb61ff470b98ec6f08b229da09": {
      "model_module": "@jupyter-widgets/base",
      "model_module_version": "1.2.0",
      "model_name": "LayoutModel",
      "state": {
       "width": "20%"
      }
     },
     "a1298afaef4f433290d3dc35285d4025": {
      "model_module": "@jupyter-widgets/controls",
      "model_module_version": "1.5.0",
      "model_name": "DescriptionStyleModel",
      "state": {
       "description_width": ""
      }
     },
     "a1558c2839154335843ae167e6859290": {
      "model_module": "@jupyter-widgets/base",
      "model_module_version": "1.2.0",
      "model_name": "LayoutModel",
      "state": {}
     },
     "a1e1e97abce641c58d18dd8b235ce7b0": {
      "model_module": "@jupyter-widgets/base",
      "model_module_version": "1.2.0",
      "model_name": "LayoutModel",
      "state": {}
     },
     "a1ebf1cf0c424736a8f389559866aeb1": {
      "model_module": "@jupyter-widgets/base",
      "model_module_version": "1.2.0",
      "model_name": "LayoutModel",
      "state": {}
     },
     "a2be92e999134e6392a79c6c515aa505": {
      "model_module": "@jupyter-widgets/controls",
      "model_module_version": "1.5.0",
      "model_name": "HBoxModel",
      "state": {
       "children": [
        "IPY_MODEL_8c60bfa229ea435180844aac2834b87b",
        "IPY_MODEL_36a9107ee6504e6baa886729d244145d"
       ],
       "layout": "IPY_MODEL_ba1a7282e488418c82aee2f0408234df"
      }
     },
     "a2eee71720b94491b832d8dfe2adaa78": {
      "model_module": "@jupyter-widgets/controls",
      "model_module_version": "1.5.0",
      "model_name": "HBoxModel",
      "state": {
       "children": [
        "IPY_MODEL_044bc44587714d5fbfd665ce5529ff15",
        "IPY_MODEL_15742a5443744f6aa146968b9162212e"
       ],
       "layout": "IPY_MODEL_258e6a0beccc4c8cbaa717c2016df949"
      }
     },
     "a334ad53fcfd49f795f1759fecea7bb0": {
      "model_module": "@jupyter-widgets/controls",
      "model_module_version": "1.5.0",
      "model_name": "HBoxModel",
      "state": {
       "children": [
        "IPY_MODEL_3a7b6e69dfcf4070afc7dca191a67365",
        "IPY_MODEL_54c81df32ca347588f3392f1b31427c8"
       ],
       "layout": "IPY_MODEL_e12a6e9f6aa84e5f940d10c55755024c"
      }
     },
     "a36b6b7daa1242b08e769ac45d30e9be": {
      "model_module": "@jupyter-widgets/controls",
      "model_module_version": "1.5.0",
      "model_name": "ButtonModel",
      "state": {
       "description": "Save",
       "layout": "IPY_MODEL_4fa2b3f553a8488d90ea66de3ceab313",
       "style": "IPY_MODEL_16b31330eed9428ebbc9368c236781c6"
      }
     },
     "a37af4b9534e4a2480598f5882be9f17": {
      "model_module": "@jupyter-widgets/controls",
      "model_module_version": "1.5.0",
      "model_name": "DescriptionStyleModel",
      "state": {
       "description_width": ""
      }
     },
     "a3bb525fb2b7462ea580364dcd420b9e": {
      "model_module": "@jupyter-widgets/controls",
      "model_module_version": "1.5.0",
      "model_name": "DescriptionStyleModel",
      "state": {
       "description_width": ""
      }
     },
     "a3d996af06cd4fcaac32616b661771aa": {
      "model_module": "@jupyter-widgets/controls",
      "model_module_version": "1.5.0",
      "model_name": "LabelModel",
      "state": {
       "layout": "IPY_MODEL_266e2899f3f849ed919060a3a9e72bc8",
       "style": "IPY_MODEL_89058bef365c48e7808247933545ff8f",
       "value": "Create new data"
      }
     },
     "a4011b980abf45cdb9477eabc6b7b620": {
      "model_module": "@jupyter-widgets/base",
      "model_module_version": "1.2.0",
      "model_name": "LayoutModel",
      "state": {}
     },
     "a416fc6a1ffb41f7b9e9e78e951a98f9": {
      "model_module": "@jupyter-widgets/controls",
      "model_module_version": "1.5.0",
      "model_name": "ButtonModel",
      "state": {
       "description": "Save",
       "layout": "IPY_MODEL_8f2ca3a352fc490c8bf3f453ec377209",
       "style": "IPY_MODEL_f34d3f428c6040d4a318848acca08a9c"
      }
     },
     "a44cd4c169fd499cb2d02e82207830a8": {
      "model_module": "@jupyter-widgets/base",
      "model_module_version": "1.2.0",
      "model_name": "LayoutModel",
      "state": {}
     },
     "a467f04d9261459480109100dc6969dc": {
      "model_module": "@jupyter-widgets/controls",
      "model_module_version": "1.5.0",
      "model_name": "DescriptionStyleModel",
      "state": {
       "description_width": ""
      }
     },
     "a4b06e13f3bb43d79c42144d45d41743": {
      "model_module": "@jupyter-widgets/base",
      "model_module_version": "1.2.0",
      "model_name": "LayoutModel",
      "state": {}
     },
     "a4d9674125834c06be90c3b6b26d8ee2": {
      "model_module": "@jupyter-widgets/controls",
      "model_module_version": "1.5.0",
      "model_name": "DescriptionStyleModel",
      "state": {
       "description_width": ""
      }
     },
     "a52287a4455341a0adf7aef8c73a7acf": {
      "model_module": "@jupyter-widgets/base",
      "model_module_version": "1.2.0",
      "model_name": "LayoutModel",
      "state": {}
     },
     "a52830233df64ad3912a21b768109c55": {
      "model_module": "@jupyter-widgets/base",
      "model_module_version": "1.2.0",
      "model_name": "LayoutModel",
      "state": {}
     },
     "a54ea76b685a4e99867caa3344f4e700": {
      "model_module": "@jupyter-widgets/controls",
      "model_module_version": "1.5.0",
      "model_name": "TextModel",
      "state": {
       "layout": "IPY_MODEL_2ea41123ef6e432a9de67807cb2dd325",
       "style": "IPY_MODEL_71e67d48e4f5417dbc72ec03ac5252cc"
      }
     },
     "a55a575c9a814d66a73ecb538f00d1e2": {
      "model_module": "@jupyter-widgets/controls",
      "model_module_version": "1.5.0",
      "model_name": "DescriptionStyleModel",
      "state": {
       "description_width": ""
      }
     },
     "a55f344f398e4912b43fd4dee9b84d29": {
      "model_module": "@jupyter-widgets/base",
      "model_module_version": "1.2.0",
      "model_name": "LayoutModel",
      "state": {
       "width": "10%"
      }
     },
     "a5703cde198e48f09a46d3afdee98d0d": {
      "model_module": "@jupyter-widgets/controls",
      "model_module_version": "1.5.0",
      "model_name": "DescriptionStyleModel",
      "state": {
       "description_width": ""
      }
     },
     "a5739ac518154cd6bfc3fc570fcc6885": {
      "model_module": "@jupyter-widgets/controls",
      "model_module_version": "1.5.0",
      "model_name": "HBoxModel",
      "state": {
       "children": [
        "IPY_MODEL_65d59f2893f7461a82b5608764f374a3",
        "IPY_MODEL_7e82f4bd91e041b79c1cc836f83597f2",
        "IPY_MODEL_52b46d091d3f45ff9a22b9453f235463"
       ],
       "layout": "IPY_MODEL_c6b220aa16204783b54c1f0a2a6472e1"
      }
     },
     "a5a2764582e94801b1c867e4096587bf": {
      "model_module": "@jupyter-widgets/controls",
      "model_module_version": "1.5.0",
      "model_name": "LabelModel",
      "state": {
       "layout": "IPY_MODEL_c1637c0451be4e0ba5f20bbf797ee76f",
       "style": "IPY_MODEL_425f4172070f4f03b2673d4b6f3ba8fa",
       "value": "No lines saved this session"
      }
     },
     "a5be9c02b2cc48edbc0744e11930cad6": {
      "model_module": "@jupyter-widgets/controls",
      "model_module_version": "1.5.0",
      "model_name": "DescriptionStyleModel",
      "state": {
       "description_width": ""
      }
     },
     "a5c8bc11b6f6466cbd0ec7e65936509e": {
      "model_module": "@jupyter-widgets/controls",
      "model_module_version": "1.5.0",
      "model_name": "DescriptionStyleModel",
      "state": {
       "description_width": ""
      }
     },
     "a5e57ab2aac648899627884f3b74b4c4": {
      "model_module": "@jupyter-widgets/controls",
      "model_module_version": "1.5.0",
      "model_name": "FloatTextModel",
      "state": {
       "layout": "IPY_MODEL_b4e0cd5ef7db4020bb0e08e3c8fe76c0",
       "step": null,
       "style": "IPY_MODEL_a0eacac097db49f29bc514df8752314e"
      }
     },
     "a5f04c58dfc741fcb3fed37fe05fe39d": {
      "model_module": "@jupyter-widgets/controls",
      "model_module_version": "1.5.0",
      "model_name": "DescriptionStyleModel",
      "state": {
       "description_width": ""
      }
     },
     "a6052a16c0c64cd19df8f8c64f3f13a9": {
      "model_module": "@jupyter-widgets/controls",
      "model_module_version": "1.5.0",
      "model_name": "DescriptionStyleModel",
      "state": {
       "description_width": ""
      }
     },
     "a6318f3d4596406787ff2ac196c398c1": {
      "model_module": "@jupyter-widgets/base",
      "model_module_version": "1.2.0",
      "model_name": "LayoutModel",
      "state": {}
     },
     "a64f9cccbd574d7fbae4df6f1255de95": {
      "model_module": "@jupyter-widgets/controls",
      "model_module_version": "1.5.0",
      "model_name": "LabelModel",
      "state": {
       "layout": "IPY_MODEL_5095a5cd516041e99054284506312884",
       "style": "IPY_MODEL_ebb63620a72b4559946778c21c8ed92a",
       "value": "Please select a directory"
      }
     },
     "a6946012503b4adf9d0970df5b019544": {
      "model_module": "@jupyter-widgets/controls",
      "model_module_version": "1.5.0",
      "model_name": "DescriptionStyleModel",
      "state": {
       "description_width": ""
      }
     },
     "a6dd06aa1552410b8754953dced9aee0": {
      "model_module": "@jupyter-widgets/controls",
      "model_module_version": "1.5.0",
      "model_name": "ButtonStyleModel",
      "state": {}
     },
     "a6e3e802cb2a4ec795f59c00c7d04574": {
      "model_module": "@jupyter-widgets/controls",
      "model_module_version": "1.5.0",
      "model_name": "DescriptionStyleModel",
      "state": {
       "description_width": ""
      }
     },
     "a6ea50d30bf1492e8d80b7e3df4d1424": {
      "model_module": "@jupyter-widgets/controls",
      "model_module_version": "1.5.0",
      "model_name": "LabelModel",
      "state": {
       "layout": "IPY_MODEL_effe09f8bc7547e485e4d0447b61829c",
       "style": "IPY_MODEL_0f6006099a6d44f0ab0e43cfdb576e61",
       "value": "Surface area (cm2/g)"
      }
     },
     "a6fe47faf19a451cb827a90a8d662b96": {
      "model_module": "@jupyter-widgets/base",
      "model_module_version": "1.2.0",
      "model_name": "LayoutModel",
      "state": {
       "width": "20%"
      }
     },
     "a6ffa2a4651845748ad339aee7eb63e7": {
      "model_module": "@jupyter-widgets/base",
      "model_module_version": "1.2.0",
      "model_name": "LayoutModel",
      "state": {}
     },
     "a73682c6c0eb4be2a579f9ad11a4fb6e": {
      "model_module": "@jupyter-widgets/base",
      "model_module_version": "1.2.0",
      "model_name": "LayoutModel",
      "state": {}
     },
     "a7f9739b2f8c4ae7a55f729894741368": {
      "model_module": "@jupyter-widgets/controls",
      "model_module_version": "1.5.0",
      "model_name": "HBoxModel",
      "state": {
       "children": [
        "IPY_MODEL_aabd1d34ca4c4edbb975994afb383708",
        "IPY_MODEL_e97a7e3fe2174ac098ee29fa76ffbb9b"
       ],
       "layout": "IPY_MODEL_95145161721c42a7bd992e67d2024e32"
      }
     },
     "a83169d731314c0485eb80e277b18eda": {
      "model_module": "@jupyter-widgets/base",
      "model_module_version": "1.2.0",
      "model_name": "LayoutModel",
      "state": {}
     },
     "a845cc4635ab4156888db556412c198f": {
      "model_module": "@jupyter-widgets/base",
      "model_module_version": "1.2.0",
      "model_name": "LayoutModel",
      "state": {}
     },
     "a87213d8034c49b3b135f2be0f70e17f": {
      "model_module": "@jupyter-widgets/base",
      "model_module_version": "1.2.0",
      "model_name": "LayoutModel",
      "state": {}
     },
     "a8a298ab08134ed49a0f0898aa3d85b6": {
      "model_module": "@jupyter-widgets/base",
      "model_module_version": "1.2.0",
      "model_name": "LayoutModel",
      "state": {}
     },
     "a8f176d1e19e420d96960c293a0d9896": {
      "model_module": "@jupyter-widgets/controls",
      "model_module_version": "1.5.0",
      "model_name": "DescriptionStyleModel",
      "state": {
       "description_width": ""
      }
     },
     "a8f5a6fc8d174580a424914c3573eb82": {
      "model_module": "@jupyter-widgets/controls",
      "model_module_version": "1.5.0",
      "model_name": "DescriptionStyleModel",
      "state": {
       "description_width": ""
      }
     },
     "a91434fe01b043f889c993672d86c3ed": {
      "model_module": "@jupyter-widgets/controls",
      "model_module_version": "1.5.0",
      "model_name": "ButtonStyleModel",
      "state": {}
     },
     "a94ffd35ca3443b1ab81f60ca43efc1b": {
      "model_module": "@jupyter-widgets/controls",
      "model_module_version": "1.5.0",
      "model_name": "DescriptionStyleModel",
      "state": {
       "description_width": ""
      }
     },
     "a95500871078407192faa5c69e6b734f": {
      "model_module": "@jupyter-widgets/base",
      "model_module_version": "1.2.0",
      "model_name": "LayoutModel",
      "state": {}
     },
     "a9a58f321a0946cc86fead1c1b474b97": {
      "model_module": "@jupyter-widgets/controls",
      "model_module_version": "1.5.0",
      "model_name": "LabelModel",
      "state": {
       "layout": "IPY_MODEL_effe09f8bc7547e485e4d0447b61829c",
       "style": "IPY_MODEL_038ce342460e415782175e984c57f744",
       "value": "Sulfur loading (wt%)"
      }
     },
     "a9b6747cb95048059ce1915f0c244886": {
      "model_module": "@jupyter-widgets/base",
      "model_module_version": "1.2.0",
      "model_name": "LayoutModel",
      "state": {}
     },
     "a9e67d17935e44559989c0dcea71ab0d": {
      "model_module": "@jupyter-widgets/controls",
      "model_module_version": "1.5.0",
      "model_name": "TextModel",
      "state": {
       "layout": "IPY_MODEL_be250f5f271940d99df09bde7e05d47d",
       "style": "IPY_MODEL_024890134edc4e0b9dbf0889b25cbc6f"
      }
     },
     "a9f78c5a930e40189035f21c08a8cce6": {
      "model_module": "@jupyter-widgets/controls",
      "model_module_version": "1.5.0",
      "model_name": "FloatSliderModel",
      "state": {
       "layout": "IPY_MODEL_07d44827713d424ab4c51c0dbc5dbdb0",
       "max": 1,
       "step": 0.05,
       "style": "IPY_MODEL_2da52602ce844cc7852dd1e86dd5945a",
       "value": 0.3
      }
     },
     "aa860a02211640cb9278f21439e93df1": {
      "model_module": "@jupyter-widgets/base",
      "model_module_version": "1.2.0",
      "model_name": "LayoutModel",
      "state": {}
     },
     "aa8c249435514942b7c56e139a6d0cfa": {
      "model_module": "@jupyter-widgets/controls",
      "model_module_version": "1.5.0",
      "model_name": "DescriptionStyleModel",
      "state": {
       "description_width": ""
      }
     },
     "aabd1d34ca4c4edbb975994afb383708": {
      "model_module": "@jupyter-widgets/controls",
      "model_module_version": "1.5.0",
      "model_name": "LabelModel",
      "state": {
       "layout": "IPY_MODEL_effe09f8bc7547e485e4d0447b61829c",
       "style": "IPY_MODEL_e977d49692bd42628abe559bf26f28cb",
       "value": "Surface area (cm2/g)"
      }
     },
     "aaf7bfd186b648d7ad3f6fd9d34e2f09": {
      "model_module": "@jupyter-widgets/controls",
      "model_module_version": "1.5.0",
      "model_name": "HBoxModel",
      "state": {
       "children": [
        "IPY_MODEL_52676c6a14094464aad1f23bc10c7be1",
        "IPY_MODEL_b20b68cdd60b48d5a6e4623f32f7b657"
       ],
       "layout": "IPY_MODEL_1e0feab245154027b4a34949d421b166"
      }
     },
     "ab1a09fe88264bfba4e6539f5ce6c55f": {
      "model_module": "@jupyter-widgets/controls",
      "model_module_version": "1.5.0",
      "model_name": "TextModel",
      "state": {
       "layout": "IPY_MODEL_be250f5f271940d99df09bde7e05d47d",
       "style": "IPY_MODEL_1a6a7dcd712f4a59b13594b19a6c1893"
      }
     },
     "abbdf65370a5463f9b4c6141babf9757": {
      "model_module": "@jupyter-widgets/base",
      "model_module_version": "1.2.0",
      "model_name": "LayoutModel",
      "state": {}
     },
     "abcaf5960e094d78a177862e7a069993": {
      "model_module": "@jupyter-widgets/controls",
      "model_module_version": "1.5.0",
      "model_name": "DescriptionStyleModel",
      "state": {
       "description_width": ""
      }
     },
     "abf69db9198d4f6288a6e74e8b49d4a8": {
      "model_module": "@jupyter-widgets/base",
      "model_module_version": "1.2.0",
      "model_name": "LayoutModel",
      "state": {}
     },
     "abfda62d13e543e3ae96104ceb699ea6": {
      "model_module": "@jupyter-widgets/base",
      "model_module_version": "1.2.0",
      "model_name": "LayoutModel",
      "state": {}
     },
     "ac3d014d71934462b7804569eaaca550": {
      "model_module": "@jupyter-widgets/controls",
      "model_module_version": "1.5.0",
      "model_name": "LabelModel",
      "state": {
       "layout": "IPY_MODEL_0df9987234d949d3a653e70b86abc939",
       "style": "IPY_MODEL_e628627307ee45dd9871b433e3bb2161",
       "value": "Binder"
      }
     },
     "ac5fb50ce4464fb29cd0f744b85569b1": {
      "model_module": "@jupyter-widgets/controls",
      "model_module_version": "1.5.0",
      "model_name": "DescriptionStyleModel",
      "state": {
       "description_width": ""
      }
     },
     "ac98cf3471d040cfa8bf8548397c6f69": {
      "model_module": "@jupyter-widgets/base",
      "model_module_version": "1.2.0",
      "model_name": "LayoutModel",
      "state": {}
     },
     "acae9dc7665e42048dca3575b773660e": {
      "model_module": "@jupyter-widgets/controls",
      "model_module_version": "1.5.0",
      "model_name": "TextModel",
      "state": {
       "layout": "IPY_MODEL_be250f5f271940d99df09bde7e05d47d",
       "style": "IPY_MODEL_2d5a472073ce4a36b3873c836704ced0"
      }
     },
     "acbd9d0fe8e247f393d76691484cdebb": {
      "model_module": "@jupyter-widgets/base",
      "model_module_version": "1.2.0",
      "model_name": "LayoutModel",
      "state": {}
     },
     "acd11270efaa41e4a44ddd6b9eeb36e5": {
      "model_module": "@jupyter-widgets/controls",
      "model_module_version": "1.5.0",
      "model_name": "DescriptionStyleModel",
      "state": {
       "description_width": ""
      }
     },
     "acd22683fc6d44478c5e43e4de1b8095": {
      "model_module": "@jupyter-widgets/controls",
      "model_module_version": "1.5.0",
      "model_name": "TextModel",
      "state": {
       "layout": "IPY_MODEL_2ea41123ef6e432a9de67807cb2dd325",
       "style": "IPY_MODEL_5344704b1f044f36a4f995693f2d14b9"
      }
     },
     "acefac6ea2e24b7d83dfdb2f1f019910": {
      "model_module": "@jupyter-widgets/controls",
      "model_module_version": "1.5.0",
      "model_name": "CheckboxModel",
      "state": {
       "description": "wt%",
       "disabled": false,
       "layout": "IPY_MODEL_39aa4a94843f4305b80d81a056ca5873",
       "style": "IPY_MODEL_5981f07c4bf84c9b98ddb25c118ada07",
       "value": false
      }
     },
     "ad4bd8dff0c045358dad6afb5e714f95": {
      "model_module": "@jupyter-widgets/controls",
      "model_module_version": "1.5.0",
      "model_name": "DescriptionStyleModel",
      "state": {
       "description_width": ""
      }
     },
     "ad6573e64b194269af0e2937e4f038c6": {
      "model_module": "@jupyter-widgets/controls",
      "model_module_version": "1.5.0",
      "model_name": "ButtonModel",
      "state": {
       "description": "Select Files",
       "icon": "square-o",
       "layout": "IPY_MODEL_eb8faaa4786b43f38e5f370cd3c530f5",
       "style": "IPY_MODEL_0cef2f4efbd54f3baacf9214d7965212"
      }
     },
     "ad7482c991b742f090a7215892771405": {
      "model_module": "@jupyter-widgets/base",
      "model_module_version": "1.2.0",
      "model_name": "LayoutModel",
      "state": {}
     },
     "ad83d0dcc9ff432bbe51d6976eef4e2c": {
      "model_module": "@jupyter-widgets/controls",
      "model_module_version": "1.5.0",
      "model_name": "CheckboxModel",
      "state": {
       "description": "M",
       "disabled": false,
       "layout": "IPY_MODEL_ba9ec11b01c249ccaa821dfb1ab08ede",
       "style": "IPY_MODEL_f5bbacae76d94c4a9b23fada86bc2060",
       "value": false
      }
     },
     "ad8db5433df84bb19b28d5f32e077b64": {
      "model_module": "@jupyter-widgets/controls",
      "model_module_version": "1.5.0",
      "model_name": "LabelModel",
      "state": {
       "layout": "IPY_MODEL_effe09f8bc7547e485e4d0447b61829c",
       "style": "IPY_MODEL_04ffc822a9664135b258d1da78c28de7",
       "value": "Sulfur loading method"
      }
     },
     "adff788399c447329477aa580d33bbcf": {
      "model_module": "@jupyter-widgets/controls",
      "model_module_version": "1.5.0",
      "model_name": "CheckboxModel",
      "state": {
       "description": "Common",
       "disabled": false,
       "indent": false,
       "layout": "IPY_MODEL_485bd379d3a9496197e1974ce5b892cb",
       "style": "IPY_MODEL_8f124bfba96a422c8864a539d791d6fc",
       "value": false
      }
     },
     "ae25d56010f34c12840e7bbacb21f087": {
      "model_module": "@jupyter-widgets/controls",
      "model_module_version": "1.5.0",
      "model_name": "HBoxModel",
      "state": {
       "children": [
        "IPY_MODEL_8a73f51deb3d432491a72232b0de5a3b",
        "IPY_MODEL_e234066adc3546e68ad6ff4834bc3369"
       ],
       "layout": "IPY_MODEL_68c59bdd8b724bf5be640432230984d6"
      }
     },
     "ae3d399c060846d9966dd76553b3ea1d": {
      "model_module": "@jupyter-widgets/controls",
      "model_module_version": "1.5.0",
      "model_name": "DescriptionStyleModel",
      "state": {
       "description_width": ""
      }
     },
     "ae67ac27e77742ffad1d583e6ecfcc69": {
      "model_module": "@jupyter-widgets/controls",
      "model_module_version": "1.5.0",
      "model_name": "LabelModel",
      "state": {
       "layout": "IPY_MODEL_0df9987234d949d3a653e70b86abc939",
       "style": "IPY_MODEL_e01581c10962445bb41242c3a7564a4c",
       "value": "Host conductivity"
      }
     },
     "aec986873aec4093bed9e5c1718e3b27": {
      "model_module": "@jupyter-widgets/controls",
      "model_module_version": "1.5.0",
      "model_name": "TextModel",
      "state": {
       "layout": "IPY_MODEL_be250f5f271940d99df09bde7e05d47d",
       "style": "IPY_MODEL_e8bd3e21ae95459ba2c7f736eee271a7"
      }
     },
     "aee2fbe8627045de93d838259655ab07": {
      "model_module": "@jupyter-widgets/controls",
      "model_module_version": "1.5.0",
      "model_name": "CheckboxModel",
      "state": {
       "description": "Common",
       "disabled": false,
       "indent": false,
       "layout": "IPY_MODEL_8ee190fb83eb4c3eb0d1225be2a485c2",
       "style": "IPY_MODEL_c0af59eb9d0d45e39f3e52257780aef1",
       "value": false
      }
     },
     "af09be15ceb44fc0a48828256b97c90d": {
      "model_module": "@jupyter-widgets/controls",
      "model_module_version": "1.5.0",
      "model_name": "LabelModel",
      "state": {
       "layout": "IPY_MODEL_0a7f3dec20574616a8c39e9387fadaa6",
       "style": "IPY_MODEL_94e5cb03c804490991c4219995e841bf",
       "value": "Create new data"
      }
     },
     "af0b1ebc6a4949f98f501ba3922729f2": {
      "model_module": "@jupyter-widgets/controls",
      "model_module_version": "1.5.0",
      "model_name": "CheckboxModel",
      "state": {
       "description": "Common",
       "disabled": false,
       "indent": false,
       "layout": "IPY_MODEL_87a69564d8e14b23b0ecf40004159e98",
       "style": "IPY_MODEL_ffae36b7b0194d97b7343ab84a9dea5d",
       "value": false
      }
     },
     "af122864557644de95ed7ac2a2baea6b": {
      "model_module": "@jupyter-widgets/controls",
      "model_module_version": "1.5.0",
      "model_name": "DescriptionStyleModel",
      "state": {
       "description_width": ""
      }
     },
     "af8ff1268f7046b2a57e75f1c32bad7b": {
      "model_module": "@jupyter-widgets/controls",
      "model_module_version": "1.5.0",
      "model_name": "HBoxModel",
      "state": {
       "children": [
        "IPY_MODEL_195b264476ae467b862379e1c40c5c51",
        "IPY_MODEL_52abefed6df64771ab1091ce056d0c29",
        "IPY_MODEL_26692c98d81044f4a935534e49cb619a"
       ],
       "layout": "IPY_MODEL_af9c3fff2bd3426d936e74e51bf99706"
      }
     },
     "af9c010402294b1ea1435f5aa5d79b81": {
      "model_module": "@jupyter-widgets/base",
      "model_module_version": "1.2.0",
      "model_name": "LayoutModel",
      "state": {}
     },
     "af9c3fff2bd3426d936e74e51bf99706": {
      "model_module": "@jupyter-widgets/base",
      "model_module_version": "1.2.0",
      "model_name": "LayoutModel",
      "state": {}
     },
     "b0189979298f44bba13e6fa2561f92b1": {
      "model_module": "@jupyter-widgets/base",
      "model_module_version": "1.2.0",
      "model_name": "LayoutModel",
      "state": {}
     },
     "b084a14a690148339f9365ae095e5bfa": {
      "model_module": "@jupyter-widgets/controls",
      "model_module_version": "1.5.0",
      "model_name": "DescriptionStyleModel",
      "state": {
       "description_width": ""
      }
     },
     "b0af92400d1a4d6f96f2a709521c81b4": {
      "model_module": "@jupyter-widgets/controls",
      "model_module_version": "1.5.0",
      "model_name": "ButtonModel",
      "state": {
       "description": "Remove last CRate",
       "layout": "IPY_MODEL_47bb5e55c6734f55af53ebfcbf23f38e",
       "style": "IPY_MODEL_bf21b5f268bf41619f211629a0e2c2fb"
      }
     },
     "b16dba3f94034cc38e4705e9762bd6fb": {
      "model_module": "@jupyter-widgets/controls",
      "model_module_version": "1.5.0",
      "model_name": "ButtonModel",
      "state": {
       "description": "Confirm directory",
       "layout": "IPY_MODEL_05ec55bac3b94f4a916b93e4200afeaf",
       "style": "IPY_MODEL_26ba3359ad6746b3ae11f3ba763b80f5"
      }
     },
     "b1c9de26958e4f1999a0b6b8c835d553": {
      "model_module": "@jupyter-widgets/controls",
      "model_module_version": "1.5.0",
      "model_name": "TextModel",
      "state": {
       "layout": "IPY_MODEL_2ea41123ef6e432a9de67807cb2dd325",
       "style": "IPY_MODEL_5c37546781024d74868602dc1bf8f4e4"
      }
     },
     "b1e57166d49e44a79092f04d73ad8433": {
      "model_module": "@jupyter-widgets/controls",
      "model_module_version": "1.5.0",
      "model_name": "DescriptionStyleModel",
      "state": {
       "description_width": ""
      }
     },
     "b20ae009664a4700b754a3a39722d62b": {
      "model_module": "@jupyter-widgets/controls",
      "model_module_version": "1.5.0",
      "model_name": "TextModel",
      "state": {
       "layout": "IPY_MODEL_2ea41123ef6e432a9de67807cb2dd325",
       "style": "IPY_MODEL_47c41603f83a4d8a95bae64b8ba9c88f"
      }
     },
     "b20b68cdd60b48d5a6e4623f32f7b657": {
      "model_module": "@jupyter-widgets/controls",
      "model_module_version": "1.5.0",
      "model_name": "TextModel",
      "state": {
       "layout": "IPY_MODEL_be250f5f271940d99df09bde7e05d47d",
       "style": "IPY_MODEL_13713288e9d54693b58e6b621e5616a2"
      }
     },
     "b225487927db49f8a84e3a92a9f3a17e": {
      "model_module": "@jupyter-widgets/controls",
      "model_module_version": "1.5.0",
      "model_name": "DescriptionStyleModel",
      "state": {
       "description_width": ""
      }
     },
     "b29fd1f472434b43a4d6080f3845e487": {
      "model_module": "@jupyter-widgets/base",
      "model_module_version": "1.2.0",
      "model_name": "LayoutModel",
      "state": {}
     },
     "b2b604b7324b42009fa3eaef300ace04": {
      "model_module": "@jupyter-widgets/base",
      "model_module_version": "1.2.0",
      "model_name": "LayoutModel",
      "state": {
       "width": "20%"
      }
     },
     "b301aa58b77d40a2bf3d4faa80138c21": {
      "model_module": "@jupyter-widgets/controls",
      "model_module_version": "1.5.0",
      "model_name": "HBoxModel",
      "state": {
       "children": [
        "IPY_MODEL_72f091fa2e624347b26db2c9a6a949aa",
        "IPY_MODEL_45a3169eff42490cb25029cc5b4505b3"
       ],
       "layout": "IPY_MODEL_90a49a1e657046b39013d1091ec491c9"
      }
     },
     "b32eab6bd6b141abbf32f00b87567324": {
      "model_module": "@jupyter-widgets/controls",
      "model_module_version": "1.5.0",
      "model_name": "DescriptionStyleModel",
      "state": {
       "description_width": ""
      }
     },
     "b3ee93fd3bad481482665a4181bc5684": {
      "model_module": "@jupyter-widgets/controls",
      "model_module_version": "1.5.0",
      "model_name": "LabelModel",
      "state": {
       "layout": "IPY_MODEL_effe09f8bc7547e485e4d0447b61829c",
       "style": "IPY_MODEL_ff5c3fe205004fa5b64aaea8d80e6ebb",
       "value": "Conductive additive content (wt%)"
      }
     },
     "b3fd6cf77b1f42f3bad895023682f671": {
      "model_module": "@jupyter-widgets/controls",
      "model_module_version": "1.5.0",
      "model_name": "DescriptionStyleModel",
      "state": {
       "description_width": ""
      }
     },
     "b4106838862348fcb8910722de15d401": {
      "model_module": "@jupyter-widgets/controls",
      "model_module_version": "1.5.0",
      "model_name": "DescriptionStyleModel",
      "state": {
       "description_width": ""
      }
     },
     "b41c6a9d3dee487f8ba7eae9b1db5fe4": {
      "model_module": "@jupyter-widgets/controls",
      "model_module_version": "1.5.0",
      "model_name": "FloatTextModel",
      "state": {
       "layout": "IPY_MODEL_a55f344f398e4912b43fd4dee9b84d29",
       "step": null,
       "style": "IPY_MODEL_e5a195ba80c8465ab05a3e9ad8e0101d"
      }
     },
     "b4361b194b264ab29e1df70a7fd73fa9": {
      "model_module": "@jupyter-widgets/base",
      "model_module_version": "1.2.0",
      "model_name": "LayoutModel",
      "state": {}
     },
     "b45dbb6391834296a06886be26e34d9a": {
      "model_module": "@jupyter-widgets/base",
      "model_module_version": "1.2.0",
      "model_name": "LayoutModel",
      "state": {}
     },
     "b4779c904d724db5b9b6aef4eb19d890": {
      "model_module": "@jupyter-widgets/controls",
      "model_module_version": "1.5.0",
      "model_name": "ButtonModel",
      "state": {
       "description": "Select Files",
       "icon": "square-o",
       "layout": "IPY_MODEL_8aa0e723f5524db1ae9a3e7fb59042ab",
       "style": "IPY_MODEL_95bd1a84ab714ddc8e800585ce4d5395"
      }
     },
     "b4e0cd5ef7db4020bb0e08e3c8fe76c0": {
      "model_module": "@jupyter-widgets/base",
      "model_module_version": "1.2.0",
      "model_name": "LayoutModel",
      "state": {
       "width": "10%"
      }
     },
     "b560fbfca46a435a9c49537d9d1496ce": {
      "model_module": "@jupyter-widgets/controls",
      "model_module_version": "1.5.0",
      "model_name": "HBoxModel",
      "state": {
       "children": [
        "IPY_MODEL_89dc04a38ad24c1dbaf172f59fad0ea9",
        "IPY_MODEL_7098e114c28f4494bb1e490471669de7"
       ],
       "layout": "IPY_MODEL_bcfbf79fb2244b7eac9a6a711b9b542a"
      }
     },
     "b68fbe48a44e45d3bf75165863fb985f": {
      "model_module": "@jupyter-widgets/base",
      "model_module_version": "1.2.0",
      "model_name": "LayoutModel",
      "state": {}
     },
     "b72835a781bd4e2bbaa583b0d31d07bd": {
      "model_module": "@jupyter-widgets/controls",
      "model_module_version": "1.5.0",
      "model_name": "HBoxModel",
      "state": {
       "children": [
        "IPY_MODEL_d10107dd3f8a4ca392aa616037c66d03",
        "IPY_MODEL_acd22683fc6d44478c5e43e4de1b8095"
       ],
       "layout": "IPY_MODEL_c793805607ea4502a18c555c86475a15"
      }
     },
     "b78513d6a74143c6baa5df8b28ed8096": {
      "model_module": "@jupyter-widgets/controls",
      "model_module_version": "1.5.0",
      "model_name": "LabelModel",
      "state": {
       "layout": "IPY_MODEL_0df9987234d949d3a653e70b86abc939",
       "style": "IPY_MODEL_6e33c73637854535aa4dc57c67476252",
       "value": "Host conductivity units"
      }
     },
     "b7d6aa65b50c4166a14b016b053f97ba": {
      "model_module": "@jupyter-widgets/base",
      "model_module_version": "1.2.0",
      "model_name": "LayoutModel",
      "state": {}
     },
     "b7ef9213af814574a0a000867e3160e9": {
      "model_module": "@jupyter-widgets/controls",
      "model_module_version": "1.5.0",
      "model_name": "HBoxModel",
      "state": {
       "children": [
        "IPY_MODEL_4df417e6387c4e04ad4f0f70ad64d5c3",
        "IPY_MODEL_ed5683e25f0d457a8bcc6a6e973e7a81",
        "IPY_MODEL_ff8e4a282c684719bee515e1242fcf95"
       ],
       "layout": "IPY_MODEL_8bad2cbb078d41dca52570a7b2011708"
      }
     },
     "b84bc3dddae446f595f9bdaf75d9449f": {
      "model_module": "@jupyter-widgets/controls",
      "model_module_version": "1.5.0",
      "model_name": "TextModel",
      "state": {
       "layout": "IPY_MODEL_2ea41123ef6e432a9de67807cb2dd325",
       "style": "IPY_MODEL_e25c7f97ba844733b02b5f75f95dae3b"
      }
     },
     "b853c15d49944b1daf94c08561e0ab7a": {
      "model_module": "@jupyter-widgets/controls",
      "model_module_version": "1.5.0",
      "model_name": "HBoxModel",
      "state": {
       "children": [
        "IPY_MODEL_2cbf7995d8d949ae94fe48144095bffa",
        "IPY_MODEL_fcd7901955d74e6d8b6dd9ffb43d5f45"
       ],
       "layout": "IPY_MODEL_6ee92314aaa542f6bc50028759c57b4c"
      }
     },
     "b88b0275be8a4e6184a8e8ed6d30a864": {
      "model_module": "@jupyter-widgets/base",
      "model_module_version": "1.2.0",
      "model_name": "LayoutModel",
      "state": {}
     },
     "b8912325bc5d452c9045613f369bcb19": {
      "model_module": "@jupyter-widgets/base",
      "model_module_version": "1.2.0",
      "model_name": "LayoutModel",
      "state": {}
     },
     "b8cb219a488d4f25847532d413fa4f4d": {
      "model_module": "@jupyter-widgets/controls",
      "model_module_version": "1.5.0",
      "model_name": "TextModel",
      "state": {
       "layout": "IPY_MODEL_be250f5f271940d99df09bde7e05d47d",
       "style": "IPY_MODEL_aa8c249435514942b7c56e139a6d0cfa"
      }
     },
     "b933b9662c12428f9715e861616ffa39": {
      "model_module": "@jupyter-widgets/controls",
      "model_module_version": "1.5.0",
      "model_name": "LabelModel",
      "state": {
       "layout": "IPY_MODEL_0df9987234d949d3a653e70b86abc939",
       "style": "IPY_MODEL_85cc7957c45343e8983913df2a9755df",
       "value": "Typical pore widths"
      }
     },
     "b99bb57f482f4bfa915a1b9edf804f62": {
      "model_module": "@jupyter-widgets/controls",
      "model_module_version": "1.5.0",
      "model_name": "ButtonStyleModel",
      "state": {}
     },
     "b9a566ffa2ea4acfa396c078c2c4a995": {
      "model_module": "@jupyter-widgets/controls",
      "model_module_version": "1.5.0",
      "model_name": "LabelModel",
      "state": {
       "layout": "IPY_MODEL_0df9987234d949d3a653e70b86abc939",
       "style": "IPY_MODEL_5fae235c45b3491bae5792adbf9a4dfa",
       "value": "Typical pore widths"
      }
     },
     "ba1a7282e488418c82aee2f0408234df": {
      "model_module": "@jupyter-widgets/base",
      "model_module_version": "1.2.0",
      "model_name": "LayoutModel",
      "state": {}
     },
     "ba20b8c3f33646898c93da61d891cb9e": {
      "model_module": "@jupyter-widgets/controls",
      "model_module_version": "1.5.0",
      "model_name": "HBoxModel",
      "state": {
       "children": [
        "IPY_MODEL_61e1c1a9cb3f4f04b00c8b5d021b8cc5",
        "IPY_MODEL_f7005eeb50eb4d5ab5d3ccfb023e5694"
       ],
       "layout": "IPY_MODEL_4c528be2d4174d328cd0e7ae53572b57"
      }
     },
     "ba357334d7fc4c6bb95f4a9a49d6a4d1": {
      "model_module": "@jupyter-widgets/controls",
      "model_module_version": "1.5.0",
      "model_name": "FloatTextModel",
      "state": {
       "layout": "IPY_MODEL_431c5d440aec4621adf8500736b5a877",
       "step": null,
       "style": "IPY_MODEL_26ae524a6b4c4bd7b6e98932e04d874a"
      }
     },
     "ba7e36a00a2e418a9c23f1d81f4e1283": {
      "model_module": "@jupyter-widgets/controls",
      "model_module_version": "1.5.0",
      "model_name": "CheckboxModel",
      "state": {
       "description": "Common",
       "disabled": false,
       "indent": false,
       "layout": "IPY_MODEL_290543a34d134be58224f9439f37b749",
       "style": "IPY_MODEL_a6e3e802cb2a4ec795f59c00c7d04574",
       "value": false
      }
     },
     "ba8b908bf7f64ef4a36c3a984e522103": {
      "model_module": "@jupyter-widgets/controls",
      "model_module_version": "1.5.0",
      "model_name": "DescriptionStyleModel",
      "state": {
       "description_width": ""
      }
     },
     "ba9ec11b01c249ccaa821dfb1ab08ede": {
      "model_module": "@jupyter-widgets/base",
      "model_module_version": "1.2.0",
      "model_name": "LayoutModel",
      "state": {
       "width": "15%"
      }
     },
     "bae751150fc144ca9b5fd43e760cabe8": {
      "model_module": "@jupyter-widgets/controls",
      "model_module_version": "1.5.0",
      "model_name": "TextModel",
      "state": {
       "layout": "IPY_MODEL_be250f5f271940d99df09bde7e05d47d",
       "style": "IPY_MODEL_ecc236da53204c939eca142e5a4f469e"
      }
     },
     "bb41cb69b68946f091aa298f897a8d1c": {
      "model_module": "@jupyter-widgets/controls",
      "model_module_version": "1.5.0",
      "model_name": "CheckboxModel",
      "state": {
       "description": "Common",
       "disabled": false,
       "indent": false,
       "layout": "IPY_MODEL_8d230ebb54294b33aa91532432290987",
       "style": "IPY_MODEL_23ed07a4005643a28edfba7008bba84b",
       "value": false
      }
     },
     "bb52b3092aec45b7a2554499cea25133": {
      "model_module": "@jupyter-widgets/base",
      "model_module_version": "1.2.0",
      "model_name": "LayoutModel",
      "state": {}
     },
     "bb578e1197ba40b4a49220ba7e146c09": {
      "model_module": "@jupyter-widgets/controls",
      "model_module_version": "1.5.0",
      "model_name": "TextModel",
      "state": {
       "layout": "IPY_MODEL_a0aa5535b49d4f46a3e57851dd3d612f",
       "style": "IPY_MODEL_79a231f558944f1ca8fcc3097ecdc72b",
       "value": "CR2032"
      }
     },
     "bb99036850fc4d5d97afcb8fdd685399": {
      "model_module": "@jupyter-widgets/controls",
      "model_module_version": "1.5.0",
      "model_name": "ButtonStyleModel",
      "state": {}
     },
     "bbf5da46d39140808d6bfa74838043c7": {
      "model_module": "@jupyter-widgets/controls",
      "model_module_version": "1.5.0",
      "model_name": "ButtonStyleModel",
      "state": {}
     },
     "bc9d8b97e1f3425884c16df911633929": {
      "model_module": "@jupyter-widgets/controls",
      "model_module_version": "1.5.0",
      "model_name": "HBoxModel",
      "state": {
       "children": [
        "IPY_MODEL_1d5a9e7233974dfcb41cb169d934d851",
        "IPY_MODEL_fe023d3dbfb145f9a9811e8c2a175e4c"
       ],
       "layout": "IPY_MODEL_961adca51dc34b2292a274fcf26946d5"
      }
     },
     "bcb262f9ef084224b5dbc0f5d4d73e5f": {
      "model_module": "@jupyter-widgets/controls",
      "model_module_version": "1.5.0",
      "model_name": "DescriptionStyleModel",
      "state": {
       "description_width": ""
      }
     },
     "bcbc11df8cc34c8ead77c86af4e1b5dd": {
      "model_module": "@jupyter-widgets/controls",
      "model_module_version": "1.5.0",
      "model_name": "ButtonModel",
      "state": {
       "description": "Add line",
       "layout": "IPY_MODEL_4e1ef95d6a89410a8cc9bed0d5c1ada2",
       "style": "IPY_MODEL_f88bc489452e4d2ab66eec8f4c4b0d99"
      }
     },
     "bcebf604227f46838b307351d9b1c832": {
      "model_module": "@jupyter-widgets/controls",
      "model_module_version": "1.5.0",
      "model_name": "TabModel",
      "state": {
       "_titles": {
        "0": "Load data",
        "1": "Axis limits",
        "2": "Line data",
        "3": "Setting masks",
        "4": "Scan graph"
       },
       "children": [
        "IPY_MODEL_2ed324f8c26a4d9792a6852b4190797f",
        "IPY_MODEL_745678a9f10341a9a4dcfdca4a1821b3",
        "IPY_MODEL_2446008f612f449ab2fe8fbc1cef33f5",
        "IPY_MODEL_f6aa8ddac10a4e239ee24d17200f1ceb",
        "IPY_MODEL_71e592d454784c87a876cd5bc539b27c"
       ],
       "layout": "IPY_MODEL_a1ebf1cf0c424736a8f389559866aeb1"
      }
     },
     "bcfbf79fb2244b7eac9a6a711b9b542a": {
      "model_module": "@jupyter-widgets/base",
      "model_module_version": "1.2.0",
      "model_name": "LayoutModel",
      "state": {}
     },
     "bd046b8eadec4d45b8cad0448301d441": {
      "model_module": "@jupyter-widgets/base",
      "model_module_version": "1.2.0",
      "model_name": "LayoutModel",
      "state": {}
     },
     "bd1ebf52fe5241fe86b53596815fc71f": {
      "model_module": "@jupyter-widgets/controls",
      "model_module_version": "1.5.0",
      "model_name": "ButtonStyleModel",
      "state": {}
     },
     "bd4ce250c3be49988734d473617babec": {
      "model_module": "@jupyter-widgets/controls",
      "model_module_version": "1.5.0",
      "model_name": "HBoxModel",
      "state": {
       "children": [
        "IPY_MODEL_352cb6eaf4ea486584093276bd036bc6",
        "IPY_MODEL_bb578e1197ba40b4a49220ba7e146c09"
       ],
       "layout": "IPY_MODEL_e9d73ef8778c4b4bb19e121640d70835"
      }
     },
     "bd5e5c0590374f5e89d78c04398bdea2": {
      "model_module": "@jupyter-widgets/base",
      "model_module_version": "1.2.0",
      "model_name": "LayoutModel",
      "state": {}
     },
     "bd63e283c25648d98e7179ecc0b48bec": {
      "model_module": "@jupyter-widgets/controls",
      "model_module_version": "1.5.0",
      "model_name": "LabelModel",
      "state": {
       "layout": "IPY_MODEL_0df9987234d949d3a653e70b86abc939",
       "style": "IPY_MODEL_ad4bd8dff0c045358dad6afb5e714f95",
       "value": "Pore volume"
      }
     },
     "bd942a196b534435b9735f12faf78661": {
      "model_module": "@jupyter-widgets/base",
      "model_module_version": "1.2.0",
      "model_name": "LayoutModel",
      "state": {}
     },
     "be250f5f271940d99df09bde7e05d47d": {
      "model_module": "@jupyter-widgets/base",
      "model_module_version": "1.2.0",
      "model_name": "LayoutModel",
      "state": {
       "width": "20%"
      }
     },
     "be8cec3b76104a6a9a326190089aaa2b": {
      "model_module": "@jupyter-widgets/base",
      "model_module_version": "1.2.0",
      "model_name": "LayoutModel",
      "state": {}
     },
     "bea246a73a7e43f980669194ab5ebc63": {
      "model_module": "@jupyter-widgets/base",
      "model_module_version": "1.2.0",
      "model_name": "LayoutModel",
      "state": {}
     },
     "becc6822b068406c8610bb5452c53c59": {
      "model_module": "@jupyter-widgets/base",
      "model_module_version": "1.2.0",
      "model_name": "LayoutModel",
      "state": {}
     },
     "bf21b5f268bf41619f211629a0e2c2fb": {
      "model_module": "@jupyter-widgets/controls",
      "model_module_version": "1.5.0",
      "model_name": "ButtonStyleModel",
      "state": {}
     },
     "bf2d1f5df27146a39bfa7140ff740bb9": {
      "model_module": "@jupyter-widgets/base",
      "model_module_version": "1.2.0",
      "model_name": "LayoutModel",
      "state": {}
     },
     "bf388e392dc64588b91186c1246c982b": {
      "model_module": "@jupyter-widgets/controls",
      "model_module_version": "1.5.0",
      "model_name": "ButtonModel",
      "state": {
       "description": "Apply all",
       "layout": "IPY_MODEL_c4c27a27657f46f8897e2f4e45dde742",
       "style": "IPY_MODEL_bb99036850fc4d5d97afcb8fdd685399"
      }
     },
     "bf3de5dd9bdd45ecb8bfd99f647f397d": {
      "model_module": "@jupyter-widgets/controls",
      "model_module_version": "1.5.0",
      "model_name": "ButtonStyleModel",
      "state": {}
     },
     "bfa00cf16e4f431191b5b46924fbea2e": {
      "model_module": "@jupyter-widgets/controls",
      "model_module_version": "1.5.0",
      "model_name": "ButtonModel",
      "state": {
       "description": "Confirm current",
       "layout": "IPY_MODEL_e3ea9bbeccc44f188a7489f20cb25690",
       "style": "IPY_MODEL_8509a784a3bc430e9567d1e0f2ec25a8"
      }
     },
     "bfc5d623ba79499d944233f236eca321": {
      "model_module": "@jupyter-widgets/controls",
      "model_module_version": "1.5.0",
      "model_name": "LabelModel",
      "state": {
       "layout": "IPY_MODEL_0df9987234d949d3a653e70b86abc939",
       "style": "IPY_MODEL_ff4179032bfb47138539e7c08527644f",
       "value": "Carbon source"
      }
     },
     "c00cfbb19701479793f33067faae73fc": {
      "model_module": "@jupyter-widgets/controls",
      "model_module_version": "1.5.0",
      "model_name": "DescriptionStyleModel",
      "state": {
       "description_width": ""
      }
     },
     "c030909ff8a740818f7375d803c5d67c": {
      "model_module": "@jupyter-widgets/controls",
      "model_module_version": "1.5.0",
      "model_name": "DescriptionStyleModel",
      "state": {
       "description_width": ""
      }
     },
     "c0af59eb9d0d45e39f3e52257780aef1": {
      "model_module": "@jupyter-widgets/controls",
      "model_module_version": "1.5.0",
      "model_name": "DescriptionStyleModel",
      "state": {
       "description_width": ""
      }
     },
     "c0c440dd34a14dd896ada774650f9af6": {
      "model_module": "@jupyter-widgets/base",
      "model_module_version": "1.2.0",
      "model_name": "LayoutModel",
      "state": {}
     },
     "c13be22eb86b41bf8d27fdb6090df831": {
      "model_module": "@jupyter-widgets/controls",
      "model_module_version": "1.5.0",
      "model_name": "DescriptionStyleModel",
      "state": {
       "description_width": ""
      }
     },
     "c1637c0451be4e0ba5f20bbf797ee76f": {
      "model_module": "@jupyter-widgets/base",
      "model_module_version": "1.2.0",
      "model_name": "LayoutModel",
      "state": {}
     },
     "c1ea74f825d94b75b7bd29fa202bcbec": {
      "model_module": "@jupyter-widgets/base",
      "model_module_version": "1.2.0",
      "model_name": "LayoutModel",
      "state": {}
     },
     "c1f02875d6e749c79c396f2f4ee8c80b": {
      "model_module": "@jupyter-widgets/controls",
      "model_module_version": "1.5.0",
      "model_name": "DescriptionStyleModel",
      "state": {
       "description_width": ""
      }
     },
     "c226b14ff04f4397b7fb4fd045a19ac2": {
      "model_module": "@jupyter-widgets/controls",
      "model_module_version": "1.5.0",
      "model_name": "HBoxModel",
      "state": {
       "children": [
        "IPY_MODEL_66b1ac5d45344476943ed90478b5cb16",
        "IPY_MODEL_d8062872746643e7a04e1785ba32e6f7",
        "IPY_MODEL_218269e1ff7247adabb89a22be069fba"
       ],
       "layout": "IPY_MODEL_4f32d2d1354649b4b142727b6567df6f"
      }
     },
     "c2657dafb9b44b22b8962a0020a5d1ec": {
      "model_module": "@jupyter-widgets/controls",
      "model_module_version": "1.5.0",
      "model_name": "LabelModel",
      "state": {
       "layout": "IPY_MODEL_effe09f8bc7547e485e4d0447b61829c",
       "style": "IPY_MODEL_2dd58761c2654f8eb67b079d4c6594ae",
       "value": "Typical pore widths"
      }
     },
     "c2835a30f50f420c99a5cefd3bfb439e": {
      "model_module": "@jupyter-widgets/controls",
      "model_module_version": "1.5.0",
      "model_name": "DescriptionStyleModel",
      "state": {
       "description_width": ""
      }
     },
     "c29e4827ee2a4a19a876e196003a5030": {
      "model_module": "@jupyter-widgets/output",
      "model_module_version": "1.0.0",
      "model_name": "OutputModel",
      "state": {
       "layout": "IPY_MODEL_3b75b3c81c104871a9968f2ab102aec0",
       "outputs": [
        {
         "data": {
          "application/javascript": "/* Put everything inside the global mpl namespace */\n/* global mpl */\nwindow.mpl = {};\n\nmpl.get_websocket_type = function () {\n    if (typeof WebSocket !== 'undefined') {\n        return WebSocket;\n    } else if (typeof MozWebSocket !== 'undefined') {\n        return MozWebSocket;\n    } else {\n        alert(\n            'Your browser does not have WebSocket support. ' +\n                'Please try Chrome, Safari or Firefox ≥ 6. ' +\n                'Firefox 4 and 5 are also supported but you ' +\n                'have to enable WebSockets in about:config.'\n        );\n    }\n};\n\nmpl.figure = function (figure_id, websocket, ondownload, parent_element) {\n    this.id = figure_id;\n\n    this.ws = websocket;\n\n    this.supports_binary = this.ws.binaryType !== undefined;\n\n    if (!this.supports_binary) {\n        var warnings = document.getElementById('mpl-warnings');\n        if (warnings) {\n            warnings.style.display = 'block';\n            warnings.textContent =\n                'This browser does not support binary websocket messages. ' +\n                'Performance may be slow.';\n        }\n    }\n\n    this.imageObj = new Image();\n\n    this.context = undefined;\n    this.message = undefined;\n    this.canvas = undefined;\n    this.rubberband_canvas = undefined;\n    this.rubberband_context = undefined;\n    this.format_dropdown = undefined;\n\n    this.image_mode = 'full';\n\n    this.root = document.createElement('div');\n    this.root.setAttribute('style', 'display: inline-block');\n    this._root_extra_style(this.root);\n\n    parent_element.appendChild(this.root);\n\n    this._init_header(this);\n    this._init_canvas(this);\n    this._init_toolbar(this);\n\n    var fig = this;\n\n    this.waiting = false;\n\n    this.ws.onopen = function () {\n        fig.send_message('supports_binary', { value: fig.supports_binary });\n        fig.send_message('send_image_mode', {});\n        if (fig.ratio !== 1) {\n            fig.send_message('set_device_pixel_ratio', {\n                device_pixel_ratio: fig.ratio,\n            });\n        }\n        fig.send_message('refresh', {});\n    };\n\n    this.imageObj.onload = function () {\n        if (fig.image_mode === 'full') {\n            // Full images could contain transparency (where diff images\n            // almost always do), so we need to clear the canvas so that\n            // there is no ghosting.\n            fig.context.clearRect(0, 0, fig.canvas.width, fig.canvas.height);\n        }\n        fig.context.drawImage(fig.imageObj, 0, 0);\n    };\n\n    this.imageObj.onunload = function () {\n        fig.ws.close();\n    };\n\n    this.ws.onmessage = this._make_on_message_function(this);\n\n    this.ondownload = ondownload;\n};\n\nmpl.figure.prototype._init_header = function () {\n    var titlebar = document.createElement('div');\n    titlebar.classList =\n        'ui-dialog-titlebar ui-widget-header ui-corner-all ui-helper-clearfix';\n    var titletext = document.createElement('div');\n    titletext.classList = 'ui-dialog-title';\n    titletext.setAttribute(\n        'style',\n        'width: 100%; text-align: center; padding: 3px;'\n    );\n    titlebar.appendChild(titletext);\n    this.root.appendChild(titlebar);\n    this.header = titletext;\n};\n\nmpl.figure.prototype._canvas_extra_style = function (_canvas_div) {};\n\nmpl.figure.prototype._root_extra_style = function (_canvas_div) {};\n\nmpl.figure.prototype._init_canvas = function () {\n    var fig = this;\n\n    var canvas_div = (this.canvas_div = document.createElement('div'));\n    canvas_div.setAttribute(\n        'style',\n        'border: 1px solid #ddd;' +\n            'box-sizing: content-box;' +\n            'clear: both;' +\n            'min-height: 1px;' +\n            'min-width: 1px;' +\n            'outline: 0;' +\n            'overflow: hidden;' +\n            'position: relative;' +\n            'resize: both;'\n    );\n\n    function on_keyboard_event_closure(name) {\n        return function (event) {\n            return fig.key_event(event, name);\n        };\n    }\n\n    canvas_div.addEventListener(\n        'keydown',\n        on_keyboard_event_closure('key_press')\n    );\n    canvas_div.addEventListener(\n        'keyup',\n        on_keyboard_event_closure('key_release')\n    );\n\n    this._canvas_extra_style(canvas_div);\n    this.root.appendChild(canvas_div);\n\n    var canvas = (this.canvas = document.createElement('canvas'));\n    canvas.classList.add('mpl-canvas');\n    canvas.setAttribute('style', 'box-sizing: content-box;');\n\n    this.context = canvas.getContext('2d');\n\n    var backingStore =\n        this.context.backingStorePixelRatio ||\n        this.context.webkitBackingStorePixelRatio ||\n        this.context.mozBackingStorePixelRatio ||\n        this.context.msBackingStorePixelRatio ||\n        this.context.oBackingStorePixelRatio ||\n        this.context.backingStorePixelRatio ||\n        1;\n\n    this.ratio = (window.devicePixelRatio || 1) / backingStore;\n\n    var rubberband_canvas = (this.rubberband_canvas = document.createElement(\n        'canvas'\n    ));\n    rubberband_canvas.setAttribute(\n        'style',\n        'box-sizing: content-box; position: absolute; left: 0; top: 0; z-index: 1;'\n    );\n\n    // Apply a ponyfill if ResizeObserver is not implemented by browser.\n    if (this.ResizeObserver === undefined) {\n        if (window.ResizeObserver !== undefined) {\n            this.ResizeObserver = window.ResizeObserver;\n        } else {\n            var obs = _JSXTOOLS_RESIZE_OBSERVER({});\n            this.ResizeObserver = obs.ResizeObserver;\n        }\n    }\n\n    this.resizeObserverInstance = new this.ResizeObserver(function (entries) {\n        var nentries = entries.length;\n        for (var i = 0; i < nentries; i++) {\n            var entry = entries[i];\n            var width, height;\n            if (entry.contentBoxSize) {\n                if (entry.contentBoxSize instanceof Array) {\n                    // Chrome 84 implements new version of spec.\n                    width = entry.contentBoxSize[0].inlineSize;\n                    height = entry.contentBoxSize[0].blockSize;\n                } else {\n                    // Firefox implements old version of spec.\n                    width = entry.contentBoxSize.inlineSize;\n                    height = entry.contentBoxSize.blockSize;\n                }\n            } else {\n                // Chrome <84 implements even older version of spec.\n                width = entry.contentRect.width;\n                height = entry.contentRect.height;\n            }\n\n            // Keep the size of the canvas and rubber band canvas in sync with\n            // the canvas container.\n            if (entry.devicePixelContentBoxSize) {\n                // Chrome 84 implements new version of spec.\n                canvas.setAttribute(\n                    'width',\n                    entry.devicePixelContentBoxSize[0].inlineSize\n                );\n                canvas.setAttribute(\n                    'height',\n                    entry.devicePixelContentBoxSize[0].blockSize\n                );\n            } else {\n                canvas.setAttribute('width', width * fig.ratio);\n                canvas.setAttribute('height', height * fig.ratio);\n            }\n            canvas.setAttribute(\n                'style',\n                'width: ' + width + 'px; height: ' + height + 'px;'\n            );\n\n            rubberband_canvas.setAttribute('width', width);\n            rubberband_canvas.setAttribute('height', height);\n\n            // And update the size in Python. We ignore the initial 0/0 size\n            // that occurs as the element is placed into the DOM, which should\n            // otherwise not happen due to the minimum size styling.\n            if (fig.ws.readyState == 1 && width != 0 && height != 0) {\n                fig.request_resize(width, height);\n            }\n        }\n    });\n    this.resizeObserverInstance.observe(canvas_div);\n\n    function on_mouse_event_closure(name) {\n        return function (event) {\n            return fig.mouse_event(event, name);\n        };\n    }\n\n    rubberband_canvas.addEventListener(\n        'mousedown',\n        on_mouse_event_closure('button_press')\n    );\n    rubberband_canvas.addEventListener(\n        'mouseup',\n        on_mouse_event_closure('button_release')\n    );\n    rubberband_canvas.addEventListener(\n        'dblclick',\n        on_mouse_event_closure('dblclick')\n    );\n    // Throttle sequential mouse events to 1 every 20ms.\n    rubberband_canvas.addEventListener(\n        'mousemove',\n        on_mouse_event_closure('motion_notify')\n    );\n\n    rubberband_canvas.addEventListener(\n        'mouseenter',\n        on_mouse_event_closure('figure_enter')\n    );\n    rubberband_canvas.addEventListener(\n        'mouseleave',\n        on_mouse_event_closure('figure_leave')\n    );\n\n    canvas_div.addEventListener('wheel', function (event) {\n        if (event.deltaY < 0) {\n            event.step = 1;\n        } else {\n            event.step = -1;\n        }\n        on_mouse_event_closure('scroll')(event);\n    });\n\n    canvas_div.appendChild(canvas);\n    canvas_div.appendChild(rubberband_canvas);\n\n    this.rubberband_context = rubberband_canvas.getContext('2d');\n    this.rubberband_context.strokeStyle = '#000000';\n\n    this._resize_canvas = function (width, height, forward) {\n        if (forward) {\n            canvas_div.style.width = width + 'px';\n            canvas_div.style.height = height + 'px';\n        }\n    };\n\n    // Disable right mouse context menu.\n    this.rubberband_canvas.addEventListener('contextmenu', function (_e) {\n        event.preventDefault();\n        return false;\n    });\n\n    function set_focus() {\n        canvas.focus();\n        canvas_div.focus();\n    }\n\n    window.setTimeout(set_focus, 100);\n};\n\nmpl.figure.prototype._init_toolbar = function () {\n    var fig = this;\n\n    var toolbar = document.createElement('div');\n    toolbar.classList = 'mpl-toolbar';\n    this.root.appendChild(toolbar);\n\n    function on_click_closure(name) {\n        return function (_event) {\n            return fig.toolbar_button_onclick(name);\n        };\n    }\n\n    function on_mouseover_closure(tooltip) {\n        return function (event) {\n            if (!event.currentTarget.disabled) {\n                return fig.toolbar_button_onmouseover(tooltip);\n            }\n        };\n    }\n\n    fig.buttons = {};\n    var buttonGroup = document.createElement('div');\n    buttonGroup.classList = 'mpl-button-group';\n    for (var toolbar_ind in mpl.toolbar_items) {\n        var name = mpl.toolbar_items[toolbar_ind][0];\n        var tooltip = mpl.toolbar_items[toolbar_ind][1];\n        var image = mpl.toolbar_items[toolbar_ind][2];\n        var method_name = mpl.toolbar_items[toolbar_ind][3];\n\n        if (!name) {\n            /* Instead of a spacer, we start a new button group. */\n            if (buttonGroup.hasChildNodes()) {\n                toolbar.appendChild(buttonGroup);\n            }\n            buttonGroup = document.createElement('div');\n            buttonGroup.classList = 'mpl-button-group';\n            continue;\n        }\n\n        var button = (fig.buttons[name] = document.createElement('button'));\n        button.classList = 'mpl-widget';\n        button.setAttribute('role', 'button');\n        button.setAttribute('aria-disabled', 'false');\n        button.addEventListener('click', on_click_closure(method_name));\n        button.addEventListener('mouseover', on_mouseover_closure(tooltip));\n\n        var icon_img = document.createElement('img');\n        icon_img.src = '_images/' + image + '.png';\n        icon_img.srcset = '_images/' + image + '_large.png 2x';\n        icon_img.alt = tooltip;\n        button.appendChild(icon_img);\n\n        buttonGroup.appendChild(button);\n    }\n\n    if (buttonGroup.hasChildNodes()) {\n        toolbar.appendChild(buttonGroup);\n    }\n\n    var fmt_picker = document.createElement('select');\n    fmt_picker.classList = 'mpl-widget';\n    toolbar.appendChild(fmt_picker);\n    this.format_dropdown = fmt_picker;\n\n    for (var ind in mpl.extensions) {\n        var fmt = mpl.extensions[ind];\n        var option = document.createElement('option');\n        option.selected = fmt === mpl.default_extension;\n        option.innerHTML = fmt;\n        fmt_picker.appendChild(option);\n    }\n\n    var status_bar = document.createElement('span');\n    status_bar.classList = 'mpl-message';\n    toolbar.appendChild(status_bar);\n    this.message = status_bar;\n};\n\nmpl.figure.prototype.request_resize = function (x_pixels, y_pixels) {\n    // Request matplotlib to resize the figure. Matplotlib will then trigger a resize in the client,\n    // which will in turn request a refresh of the image.\n    this.send_message('resize', { width: x_pixels, height: y_pixels });\n};\n\nmpl.figure.prototype.send_message = function (type, properties) {\n    properties['type'] = type;\n    properties['figure_id'] = this.id;\n    this.ws.send(JSON.stringify(properties));\n};\n\nmpl.figure.prototype.send_draw_message = function () {\n    if (!this.waiting) {\n        this.waiting = true;\n        this.ws.send(JSON.stringify({ type: 'draw', figure_id: this.id }));\n    }\n};\n\nmpl.figure.prototype.handle_save = function (fig, _msg) {\n    var format_dropdown = fig.format_dropdown;\n    var format = format_dropdown.options[format_dropdown.selectedIndex].value;\n    fig.ondownload(fig, format);\n};\n\nmpl.figure.prototype.handle_resize = function (fig, msg) {\n    var size = msg['size'];\n    if (size[0] !== fig.canvas.width || size[1] !== fig.canvas.height) {\n        fig._resize_canvas(size[0], size[1], msg['forward']);\n        fig.send_message('refresh', {});\n    }\n};\n\nmpl.figure.prototype.handle_rubberband = function (fig, msg) {\n    var x0 = msg['x0'] / fig.ratio;\n    var y0 = (fig.canvas.height - msg['y0']) / fig.ratio;\n    var x1 = msg['x1'] / fig.ratio;\n    var y1 = (fig.canvas.height - msg['y1']) / fig.ratio;\n    x0 = Math.floor(x0) + 0.5;\n    y0 = Math.floor(y0) + 0.5;\n    x1 = Math.floor(x1) + 0.5;\n    y1 = Math.floor(y1) + 0.5;\n    var min_x = Math.min(x0, x1);\n    var min_y = Math.min(y0, y1);\n    var width = Math.abs(x1 - x0);\n    var height = Math.abs(y1 - y0);\n\n    fig.rubberband_context.clearRect(\n        0,\n        0,\n        fig.canvas.width / fig.ratio,\n        fig.canvas.height / fig.ratio\n    );\n\n    fig.rubberband_context.strokeRect(min_x, min_y, width, height);\n};\n\nmpl.figure.prototype.handle_figure_label = function (fig, msg) {\n    // Updates the figure title.\n    fig.header.textContent = msg['label'];\n};\n\nmpl.figure.prototype.handle_cursor = function (fig, msg) {\n    fig.rubberband_canvas.style.cursor = msg['cursor'];\n};\n\nmpl.figure.prototype.handle_message = function (fig, msg) {\n    fig.message.textContent = msg['message'];\n};\n\nmpl.figure.prototype.handle_draw = function (fig, _msg) {\n    // Request the server to send over a new figure.\n    fig.send_draw_message();\n};\n\nmpl.figure.prototype.handle_image_mode = function (fig, msg) {\n    fig.image_mode = msg['mode'];\n};\n\nmpl.figure.prototype.handle_history_buttons = function (fig, msg) {\n    for (var key in msg) {\n        if (!(key in fig.buttons)) {\n            continue;\n        }\n        fig.buttons[key].disabled = !msg[key];\n        fig.buttons[key].setAttribute('aria-disabled', !msg[key]);\n    }\n};\n\nmpl.figure.prototype.handle_navigate_mode = function (fig, msg) {\n    if (msg['mode'] === 'PAN') {\n        fig.buttons['Pan'].classList.add('active');\n        fig.buttons['Zoom'].classList.remove('active');\n    } else if (msg['mode'] === 'ZOOM') {\n        fig.buttons['Pan'].classList.remove('active');\n        fig.buttons['Zoom'].classList.add('active');\n    } else {\n        fig.buttons['Pan'].classList.remove('active');\n        fig.buttons['Zoom'].classList.remove('active');\n    }\n};\n\nmpl.figure.prototype.updated_canvas_event = function () {\n    // Called whenever the canvas gets updated.\n    this.send_message('ack', {});\n};\n\n// A function to construct a web socket function for onmessage handling.\n// Called in the figure constructor.\nmpl.figure.prototype._make_on_message_function = function (fig) {\n    return function socket_on_message(evt) {\n        if (evt.data instanceof Blob) {\n            var img = evt.data;\n            if (img.type !== 'image/png') {\n                /* FIXME: We get \"Resource interpreted as Image but\n                 * transferred with MIME type text/plain:\" errors on\n                 * Chrome.  But how to set the MIME type?  It doesn't seem\n                 * to be part of the websocket stream */\n                img.type = 'image/png';\n            }\n\n            /* Free the memory for the previous frames */\n            if (fig.imageObj.src) {\n                (window.URL || window.webkitURL).revokeObjectURL(\n                    fig.imageObj.src\n                );\n            }\n\n            fig.imageObj.src = (window.URL || window.webkitURL).createObjectURL(\n                img\n            );\n            fig.updated_canvas_event();\n            fig.waiting = false;\n            return;\n        } else if (\n            typeof evt.data === 'string' &&\n            evt.data.slice(0, 21) === 'data:image/png;base64'\n        ) {\n            fig.imageObj.src = evt.data;\n            fig.updated_canvas_event();\n            fig.waiting = false;\n            return;\n        }\n\n        var msg = JSON.parse(evt.data);\n        var msg_type = msg['type'];\n\n        // Call the  \"handle_{type}\" callback, which takes\n        // the figure and JSON message as its only arguments.\n        try {\n            var callback = fig['handle_' + msg_type];\n        } catch (e) {\n            console.log(\n                \"No handler for the '\" + msg_type + \"' message type: \",\n                msg\n            );\n            return;\n        }\n\n        if (callback) {\n            try {\n                // console.log(\"Handling '\" + msg_type + \"' message: \", msg);\n                callback(fig, msg);\n            } catch (e) {\n                console.log(\n                    \"Exception inside the 'handler_\" + msg_type + \"' callback:\",\n                    e,\n                    e.stack,\n                    msg\n                );\n            }\n        }\n    };\n};\n\n// from https://stackoverflow.com/questions/1114465/getting-mouse-location-in-canvas\nmpl.findpos = function (e) {\n    //this section is from http://www.quirksmode.org/js/events_properties.html\n    var targ;\n    if (!e) {\n        e = window.event;\n    }\n    if (e.target) {\n        targ = e.target;\n    } else if (e.srcElement) {\n        targ = e.srcElement;\n    }\n    if (targ.nodeType === 3) {\n        // defeat Safari bug\n        targ = targ.parentNode;\n    }\n\n    // pageX,Y are the mouse positions relative to the document\n    var boundingRect = targ.getBoundingClientRect();\n    var x = e.pageX - (boundingRect.left + document.body.scrollLeft);\n    var y = e.pageY - (boundingRect.top + document.body.scrollTop);\n\n    return { x: x, y: y };\n};\n\n/*\n * return a copy of an object with only non-object keys\n * we need this to avoid circular references\n * https://stackoverflow.com/a/24161582/3208463\n */\nfunction simpleKeys(original) {\n    return Object.keys(original).reduce(function (obj, key) {\n        if (typeof original[key] !== 'object') {\n            obj[key] = original[key];\n        }\n        return obj;\n    }, {});\n}\n\nmpl.figure.prototype.mouse_event = function (event, name) {\n    var canvas_pos = mpl.findpos(event);\n\n    if (name === 'button_press') {\n        this.canvas.focus();\n        this.canvas_div.focus();\n    }\n\n    var x = canvas_pos.x * this.ratio;\n    var y = canvas_pos.y * this.ratio;\n\n    this.send_message(name, {\n        x: x,\n        y: y,\n        button: event.button,\n        step: event.step,\n        guiEvent: simpleKeys(event),\n    });\n\n    /* This prevents the web browser from automatically changing to\n     * the text insertion cursor when the button is pressed.  We want\n     * to control all of the cursor setting manually through the\n     * 'cursor' event from matplotlib */\n    event.preventDefault();\n    return false;\n};\n\nmpl.figure.prototype._key_event_extra = function (_event, _name) {\n    // Handle any extra behaviour associated with a key event\n};\n\nmpl.figure.prototype.key_event = function (event, name) {\n    // Prevent repeat events\n    if (name === 'key_press') {\n        if (event.key === this._key) {\n            return;\n        } else {\n            this._key = event.key;\n        }\n    }\n    if (name === 'key_release') {\n        this._key = null;\n    }\n\n    var value = '';\n    if (event.ctrlKey && event.key !== 'Control') {\n        value += 'ctrl+';\n    }\n    else if (event.altKey && event.key !== 'Alt') {\n        value += 'alt+';\n    }\n    else if (event.shiftKey && event.key !== 'Shift') {\n        value += 'shift+';\n    }\n\n    value += 'k' + event.key;\n\n    this._key_event_extra(event, name);\n\n    this.send_message(name, { key: value, guiEvent: simpleKeys(event) });\n    return false;\n};\n\nmpl.figure.prototype.toolbar_button_onclick = function (name) {\n    if (name === 'download') {\n        this.handle_save(this, null);\n    } else {\n        this.send_message('toolbar_button', { name: name });\n    }\n};\n\nmpl.figure.prototype.toolbar_button_onmouseover = function (tooltip) {\n    this.message.textContent = tooltip;\n};\n\n///////////////// REMAINING CONTENT GENERATED BY embed_js.py /////////////////\n// prettier-ignore\nvar _JSXTOOLS_RESIZE_OBSERVER=function(A){var t,i=new WeakMap,n=new WeakMap,a=new WeakMap,r=new WeakMap,o=new Set;function s(e){if(!(this instanceof s))throw new TypeError(\"Constructor requires 'new' operator\");i.set(this,e)}function h(){throw new TypeError(\"Function is not a constructor\")}function c(e,t,i,n){e=0 in arguments?Number(arguments[0]):0,t=1 in arguments?Number(arguments[1]):0,i=2 in arguments?Number(arguments[2]):0,n=3 in arguments?Number(arguments[3]):0,this.right=(this.x=this.left=e)+(this.width=i),this.bottom=(this.y=this.top=t)+(this.height=n),Object.freeze(this)}function d(){t=requestAnimationFrame(d);var s=new WeakMap,p=new Set;o.forEach((function(t){r.get(t).forEach((function(i){var r=t instanceof window.SVGElement,o=a.get(t),d=r?0:parseFloat(o.paddingTop),f=r?0:parseFloat(o.paddingRight),l=r?0:parseFloat(o.paddingBottom),u=r?0:parseFloat(o.paddingLeft),g=r?0:parseFloat(o.borderTopWidth),m=r?0:parseFloat(o.borderRightWidth),w=r?0:parseFloat(o.borderBottomWidth),b=u+f,F=d+l,v=(r?0:parseFloat(o.borderLeftWidth))+m,W=g+w,y=r?0:t.offsetHeight-W-t.clientHeight,E=r?0:t.offsetWidth-v-t.clientWidth,R=b+v,z=F+W,M=r?t.width:parseFloat(o.width)-R-E,O=r?t.height:parseFloat(o.height)-z-y;if(n.has(t)){var k=n.get(t);if(k[0]===M&&k[1]===O)return}n.set(t,[M,O]);var S=Object.create(h.prototype);S.target=t,S.contentRect=new c(u,d,M,O),s.has(i)||(s.set(i,[]),p.add(i)),s.get(i).push(S)}))})),p.forEach((function(e){i.get(e).call(e,s.get(e),e)}))}return s.prototype.observe=function(i){if(i instanceof window.Element){r.has(i)||(r.set(i,new Set),o.add(i),a.set(i,window.getComputedStyle(i)));var n=r.get(i);n.has(this)||n.add(this),cancelAnimationFrame(t),t=requestAnimationFrame(d)}},s.prototype.unobserve=function(i){if(i instanceof window.Element&&r.has(i)){var n=r.get(i);n.has(this)&&(n.delete(this),n.size||(r.delete(i),o.delete(i))),n.size||r.delete(i),o.size||cancelAnimationFrame(t)}},A.DOMRectReadOnly=c,A.ResizeObserver=s,A.ResizeObserverEntry=h,A}; // eslint-disable-line\nmpl.toolbar_items = [[\"Home\", \"Reset original view\", \"fa fa-home icon-home\", \"home\"], [\"Back\", \"Back to previous view\", \"fa fa-arrow-left icon-arrow-left\", \"back\"], [\"Forward\", \"Forward to next view\", \"fa fa-arrow-right icon-arrow-right\", \"forward\"], [\"\", \"\", \"\", \"\"], [\"Pan\", \"Left button pans, Right button zooms\\nx/y fixes axis, CTRL fixes aspect\", \"fa fa-arrows icon-move\", \"pan\"], [\"Zoom\", \"Zoom to rectangle\\nx/y fixes axis\", \"fa fa-square-o icon-check-empty\", \"zoom\"], [\"\", \"\", \"\", \"\"], [\"Download\", \"Download plot\", \"fa fa-floppy-o icon-save\", \"download\"]];\n\nmpl.extensions = [\"eps\", \"jpeg\", \"pgf\", \"pdf\", \"png\", \"ps\", \"raw\", \"svg\", \"tif\"];\n\nmpl.default_extension = \"png\";/* global mpl */\n\nvar comm_websocket_adapter = function (comm) {\n    // Create a \"websocket\"-like object which calls the given IPython comm\n    // object with the appropriate methods. Currently this is a non binary\n    // socket, so there is still some room for performance tuning.\n    var ws = {};\n\n    ws.binaryType = comm.kernel.ws.binaryType;\n    ws.readyState = comm.kernel.ws.readyState;\n    function updateReadyState(_event) {\n        if (comm.kernel.ws) {\n            ws.readyState = comm.kernel.ws.readyState;\n        } else {\n            ws.readyState = 3; // Closed state.\n        }\n    }\n    comm.kernel.ws.addEventListener('open', updateReadyState);\n    comm.kernel.ws.addEventListener('close', updateReadyState);\n    comm.kernel.ws.addEventListener('error', updateReadyState);\n\n    ws.close = function () {\n        comm.close();\n    };\n    ws.send = function (m) {\n        //console.log('sending', m);\n        comm.send(m);\n    };\n    // Register the callback with on_msg.\n    comm.on_msg(function (msg) {\n        //console.log('receiving', msg['content']['data'], msg);\n        var data = msg['content']['data'];\n        if (data['blob'] !== undefined) {\n            data = {\n                data: new Blob(msg['buffers'], { type: data['blob'] }),\n            };\n        }\n        // Pass the mpl event to the overridden (by mpl) onmessage function.\n        ws.onmessage(data);\n    });\n    return ws;\n};\n\nmpl.mpl_figure_comm = function (comm, msg) {\n    // This is the function which gets called when the mpl process\n    // starts-up an IPython Comm through the \"matplotlib\" channel.\n\n    var id = msg.content.data.id;\n    // Get hold of the div created by the display call when the Comm\n    // socket was opened in Python.\n    var element = document.getElementById(id);\n    var ws_proxy = comm_websocket_adapter(comm);\n\n    function ondownload(figure, _format) {\n        window.open(figure.canvas.toDataURL());\n    }\n\n    var fig = new mpl.figure(id, ws_proxy, ondownload, element);\n\n    // Call onopen now - mpl needs it, as it is assuming we've passed it a real\n    // web socket which is closed, not our websocket->open comm proxy.\n    ws_proxy.onopen();\n\n    fig.parent_element = element;\n    fig.cell_info = mpl.find_output_cell(\"<div id='\" + id + \"'></div>\");\n    if (!fig.cell_info) {\n        console.error('Failed to find cell for figure', id, fig);\n        return;\n    }\n    fig.cell_info[0].output_area.element.on(\n        'cleared',\n        { fig: fig },\n        fig._remove_fig_handler\n    );\n};\n\nmpl.figure.prototype.handle_close = function (fig, msg) {\n    var width = fig.canvas.width / fig.ratio;\n    fig.cell_info[0].output_area.element.off(\n        'cleared',\n        fig._remove_fig_handler\n    );\n    fig.resizeObserverInstance.unobserve(fig.canvas_div);\n\n    // Update the output cell to use the data from the current canvas.\n    fig.push_to_output();\n    var dataURL = fig.canvas.toDataURL();\n    // Re-enable the keyboard manager in IPython - without this line, in FF,\n    // the notebook keyboard shortcuts fail.\n    IPython.keyboard_manager.enable();\n    fig.parent_element.innerHTML =\n        '<img src=\"' + dataURL + '\" width=\"' + width + '\">';\n    fig.close_ws(fig, msg);\n};\n\nmpl.figure.prototype.close_ws = function (fig, msg) {\n    fig.send_message('closing', msg);\n    // fig.ws.close()\n};\n\nmpl.figure.prototype.push_to_output = function (_remove_interactive) {\n    // Turn the data on the canvas into data in the output cell.\n    var width = this.canvas.width / this.ratio;\n    var dataURL = this.canvas.toDataURL();\n    this.cell_info[1]['text/html'] =\n        '<img src=\"' + dataURL + '\" width=\"' + width + '\">';\n};\n\nmpl.figure.prototype.updated_canvas_event = function () {\n    // Tell IPython that the notebook contents must change.\n    IPython.notebook.set_dirty(true);\n    this.send_message('ack', {});\n    var fig = this;\n    // Wait a second, then push the new image to the DOM so\n    // that it is saved nicely (might be nice to debounce this).\n    setTimeout(function () {\n        fig.push_to_output();\n    }, 1000);\n};\n\nmpl.figure.prototype._init_toolbar = function () {\n    var fig = this;\n\n    var toolbar = document.createElement('div');\n    toolbar.classList = 'btn-toolbar';\n    this.root.appendChild(toolbar);\n\n    function on_click_closure(name) {\n        return function (_event) {\n            return fig.toolbar_button_onclick(name);\n        };\n    }\n\n    function on_mouseover_closure(tooltip) {\n        return function (event) {\n            if (!event.currentTarget.disabled) {\n                return fig.toolbar_button_onmouseover(tooltip);\n            }\n        };\n    }\n\n    fig.buttons = {};\n    var buttonGroup = document.createElement('div');\n    buttonGroup.classList = 'btn-group';\n    var button;\n    for (var toolbar_ind in mpl.toolbar_items) {\n        var name = mpl.toolbar_items[toolbar_ind][0];\n        var tooltip = mpl.toolbar_items[toolbar_ind][1];\n        var image = mpl.toolbar_items[toolbar_ind][2];\n        var method_name = mpl.toolbar_items[toolbar_ind][3];\n\n        if (!name) {\n            /* Instead of a spacer, we start a new button group. */\n            if (buttonGroup.hasChildNodes()) {\n                toolbar.appendChild(buttonGroup);\n            }\n            buttonGroup = document.createElement('div');\n            buttonGroup.classList = 'btn-group';\n            continue;\n        }\n\n        button = fig.buttons[name] = document.createElement('button');\n        button.classList = 'btn btn-default';\n        button.href = '#';\n        button.title = name;\n        button.innerHTML = '<i class=\"fa ' + image + ' fa-lg\"></i>';\n        button.addEventListener('click', on_click_closure(method_name));\n        button.addEventListener('mouseover', on_mouseover_closure(tooltip));\n        buttonGroup.appendChild(button);\n    }\n\n    if (buttonGroup.hasChildNodes()) {\n        toolbar.appendChild(buttonGroup);\n    }\n\n    // Add the status bar.\n    var status_bar = document.createElement('span');\n    status_bar.classList = 'mpl-message pull-right';\n    toolbar.appendChild(status_bar);\n    this.message = status_bar;\n\n    // Add the close button to the window.\n    var buttongrp = document.createElement('div');\n    buttongrp.classList = 'btn-group inline pull-right';\n    button = document.createElement('button');\n    button.classList = 'btn btn-mini btn-primary';\n    button.href = '#';\n    button.title = 'Stop Interaction';\n    button.innerHTML = '<i class=\"fa fa-power-off icon-remove icon-large\"></i>';\n    button.addEventListener('click', function (_evt) {\n        fig.handle_close(fig, {});\n    });\n    button.addEventListener(\n        'mouseover',\n        on_mouseover_closure('Stop Interaction')\n    );\n    buttongrp.appendChild(button);\n    var titlebar = this.root.querySelector('.ui-dialog-titlebar');\n    titlebar.insertBefore(buttongrp, titlebar.firstChild);\n};\n\nmpl.figure.prototype._remove_fig_handler = function (event) {\n    var fig = event.data.fig;\n    if (event.target !== this) {\n        // Ignore bubbled events from children.\n        return;\n    }\n    fig.close_ws(fig, {});\n};\n\nmpl.figure.prototype._root_extra_style = function (el) {\n    el.style.boxSizing = 'content-box'; // override notebook setting of border-box.\n};\n\nmpl.figure.prototype._canvas_extra_style = function (el) {\n    // this is important to make the div 'focusable\n    el.setAttribute('tabindex', 0);\n    // reach out to IPython and tell the keyboard manager to turn it's self\n    // off when our div gets focus\n\n    // location in version 3\n    if (IPython.notebook.keyboard_manager) {\n        IPython.notebook.keyboard_manager.register_events(el);\n    } else {\n        // location in version 2\n        IPython.keyboard_manager.register_events(el);\n    }\n};\n\nmpl.figure.prototype._key_event_extra = function (event, _name) {\n    // Check for shift+enter\n    if (event.shiftKey && event.which === 13) {\n        this.canvas_div.blur();\n        // select the cell after this one\n        var index = IPython.notebook.find_cell_index(this.cell_info[0]);\n        IPython.notebook.select(index + 1);\n    }\n};\n\nmpl.figure.prototype.handle_save = function (fig, _msg) {\n    fig.ondownload(fig, null);\n};\n\nmpl.find_output_cell = function (html_output) {\n    // Return the cell and output element which can be found *uniquely* in the notebook.\n    // Note - this is a bit hacky, but it is done because the \"notebook_saving.Notebook\"\n    // IPython event is triggered only after the cells have been serialised, which for\n    // our purposes (turning an active figure into a static one), is too late.\n    var cells = IPython.notebook.get_cells();\n    var ncells = cells.length;\n    for (var i = 0; i < ncells; i++) {\n        var cell = cells[i];\n        if (cell.cell_type === 'code') {\n            for (var j = 0; j < cell.output_area.outputs.length; j++) {\n                var data = cell.output_area.outputs[j];\n                if (data.data) {\n                    // IPython >= 3 moved mimebundle to data attribute of output\n                    data = data.data;\n                }\n                if (data['text/html'] === html_output) {\n                    return [cell, data, j];\n                }\n            }\n        }\n    }\n};\n\n// Register the function which deals with the matplotlib target/channel.\n// The kernel may be null if the page has been refreshed.\nif (IPython.notebook.kernel !== null) {\n    IPython.notebook.kernel.comm_manager.register_target(\n        'matplotlib',\n        mpl.mpl_figure_comm\n    );\n}\n",
          "text/plain": "<IPython.core.display.Javascript object>"
         },
         "metadata": {},
         "output_type": "display_data"
        },
        {
         "data": {
          "text/html": "<div id='d2524fe5-3a87-4bc0-a00e-7a8b47e05745'></div>",
          "text/plain": "<IPython.core.display.HTML object>"
         },
         "metadata": {},
         "output_type": "display_data"
        }
       ]
      }
     },
     "c2c947ffd4aa46fdafdd88fb414b7efd": {
      "model_module": "@jupyter-widgets/controls",
      "model_module_version": "1.5.0",
      "model_name": "DescriptionStyleModel",
      "state": {
       "description_width": ""
      }
     },
     "c2d9a7c57330412eb39728f681c310ad": {
      "model_module": "@jupyter-widgets/base",
      "model_module_version": "1.2.0",
      "model_name": "LayoutModel",
      "state": {}
     },
     "c2dc680966fb4f7583735bba337461f4": {
      "model_module": "@jupyter-widgets/base",
      "model_module_version": "1.2.0",
      "model_name": "LayoutModel",
      "state": {}
     },
     "c33c7ed6a8a5440e8ed0f007d3cc96da": {
      "model_module": "@jupyter-widgets/base",
      "model_module_version": "1.2.0",
      "model_name": "LayoutModel",
      "state": {}
     },
     "c347b2da8709416e99c909f5822c0123": {
      "model_module": "@jupyter-widgets/base",
      "model_module_version": "1.2.0",
      "model_name": "LayoutModel",
      "state": {}
     },
     "c3603dad4706416ca4f49eacac05be44": {
      "model_module": "@jupyter-widgets/controls",
      "model_module_version": "1.5.0",
      "model_name": "DescriptionStyleModel",
      "state": {
       "description_width": ""
      }
     },
     "c3690aadbdb14b679c0c4b8fa56bc4a8": {
      "model_module": "@jupyter-widgets/controls",
      "model_module_version": "1.5.0",
      "model_name": "HBoxModel",
      "state": {
       "children": [
        "IPY_MODEL_c2657dafb9b44b22b8962a0020a5d1ec",
        "IPY_MODEL_f9eaa9e85c3446ffb2f285a108299af2",
        "IPY_MODEL_ea941618e21b4c1cb1d93577c22c630b"
       ],
       "layout": "IPY_MODEL_58775f6632ac4622bb9e8b0f0124333b"
      }
     },
     "c370718cba594e339a8f50809b5e9887": {
      "model_module": "@jupyter-widgets/controls",
      "model_module_version": "1.5.0",
      "model_name": "FloatTextModel",
      "state": {
       "layout": "IPY_MODEL_f6943d9415444a48bc3e6015df77c016",
       "step": null,
       "style": "IPY_MODEL_a6946012503b4adf9d0970df5b019544"
      }
     },
     "c391fd687a004f408e31b068d29f8e4b": {
      "model_module": "@jupyter-widgets/controls",
      "model_module_version": "1.5.0",
      "model_name": "ButtonStyleModel",
      "state": {}
     },
     "c399ea34235d4e0e938e7541f0ce5409": {
      "model_module": "@jupyter-widgets/base",
      "model_module_version": "1.2.0",
      "model_name": "LayoutModel",
      "state": {}
     },
     "c3d41771f8f54f18ad46f89185fb09af": {
      "model_module": "@jupyter-widgets/controls",
      "model_module_version": "1.5.0",
      "model_name": "CheckboxModel",
      "state": {
       "description": "Monochrome graph?",
       "disabled": false,
       "layout": "IPY_MODEL_621829b4bf2c4039bac029aadd7ba1e5",
       "style": "IPY_MODEL_a1298afaef4f433290d3dc35285d4025",
       "value": false
      }
     },
     "c4363b71f67f401b9c4f6be9b00301a7": {
      "model_module": "@jupyter-widgets/base",
      "model_module_version": "1.2.0",
      "model_name": "LayoutModel",
      "state": {}
     },
     "c464a999269348b6a0495467fb02cd23": {
      "model_module": "@jupyter-widgets/controls",
      "model_module_version": "1.5.0",
      "model_name": "LabelModel",
      "state": {
       "layout": "IPY_MODEL_effe09f8bc7547e485e4d0447b61829c",
       "style": "IPY_MODEL_0cd193d5829d4dd2b1b2d49e7d6f515f",
       "value": "Binder"
      }
     },
     "c470183048d44dffa35ccb1b596dfed5": {
      "model_module": "@jupyter-widgets/controls",
      "model_module_version": "1.5.0",
      "model_name": "HBoxModel",
      "state": {
       "children": [
        "IPY_MODEL_d5ec22d66024485d928c08a072c05e27",
        "IPY_MODEL_e56071b391ae425c88ae1a041f8cdefe",
        "IPY_MODEL_65ae261a1c1b41e2ae326f595c13ecdc"
       ],
       "layout": "IPY_MODEL_9d010713fca243a9a3f329cf9abd2fc7"
      }
     },
     "c4745756b9d9443dba5bb16d1982d806": {
      "model_module": "@jupyter-widgets/controls",
      "model_module_version": "1.5.0",
      "model_name": "VBoxModel",
      "state": {
       "children": [
        "IPY_MODEL_c7efc0dda6854b08989a67f70fd4ade5",
        "IPY_MODEL_29b0ed345b6d400bb220c2b39cfe385c",
        "IPY_MODEL_98246fe9fc30471ebda8849ff2f3fa99"
       ],
       "layout": "IPY_MODEL_dfb8f56d5e894cf197dcb07c85e538f8"
      }
     },
     "c4c27a27657f46f8897e2f4e45dde742": {
      "model_module": "@jupyter-widgets/base",
      "model_module_version": "1.2.0",
      "model_name": "LayoutModel",
      "state": {}
     },
     "c4fb7e9ebfbf495390d117d5ed909f5e": {
      "model_module": "@jupyter-widgets/base",
      "model_module_version": "1.2.0",
      "model_name": "LayoutModel",
      "state": {}
     },
     "c5176eb75e9044baa32fbd4a26f989c9": {
      "model_module": "@jupyter-widgets/base",
      "model_module_version": "1.2.0",
      "model_name": "LayoutModel",
      "state": {
       "width": "20%"
      }
     },
     "c522edbed6644171b45f33aaa7aba496": {
      "model_module": "@jupyter-widgets/controls",
      "model_module_version": "1.5.0",
      "model_name": "ButtonModel",
      "state": {
       "description": "Get line details",
       "layout": "IPY_MODEL_15bb22e5994443eaae472294f0f7ba5c",
       "style": "IPY_MODEL_615a06b542264860975417dcd96995f8"
      }
     },
     "c52f767af7de4430b66bacc6db92940e": {
      "model_module": "@jupyter-widgets/controls",
      "model_module_version": "1.5.0",
      "model_name": "ButtonModel",
      "state": {
       "description": "Add CRate",
       "layout": "IPY_MODEL_e5ddc0da96514c68abf1d779dad023b2",
       "style": "IPY_MODEL_2dd8f81597214f8688fb2083ed7b8725"
      }
     },
     "c5787fe05e6645c2b915f544fc5d976c": {
      "model_module": "@jupyter-widgets/base",
      "model_module_version": "1.2.0",
      "model_name": "LayoutModel",
      "state": {}
     },
     "c59edc31acbe4c4383fd45393fbe47f7": {
      "model_module": "@jupyter-widgets/base",
      "model_module_version": "1.2.0",
      "model_name": "LayoutModel",
      "state": {}
     },
     "c68e49afd7e944d3a83ceffa7535d499": {
      "model_module": "@jupyter-widgets/controls",
      "model_module_version": "1.5.0",
      "model_name": "CheckboxModel",
      "state": {
       "description": "Common",
       "disabled": false,
       "indent": false,
       "layout": "IPY_MODEL_cbc3bf2c17be4a08b8a1de9faad0dede",
       "style": "IPY_MODEL_444d4a03a2ff4b81b9245c8ab92790e6",
       "value": false
      }
     },
     "c6b220aa16204783b54c1f0a2a6472e1": {
      "model_module": "@jupyter-widgets/base",
      "model_module_version": "1.2.0",
      "model_name": "LayoutModel",
      "state": {}
     },
     "c6be71082d934707b179d7db52dd6307": {
      "model_module": "@jupyter-widgets/controls",
      "model_module_version": "1.5.0",
      "model_name": "TextModel",
      "state": {
       "layout": "IPY_MODEL_2ea41123ef6e432a9de67807cb2dd325",
       "style": "IPY_MODEL_6ef45d0389dc450093af2958f8582766"
      }
     },
     "c6bee8148da2445db7305db980584c88": {
      "model_module": "@jupyter-widgets/controls",
      "model_module_version": "1.5.0",
      "model_name": "DescriptionStyleModel",
      "state": {
       "description_width": ""
      }
     },
     "c6f72e8430294a0f9495f132d1f38dee": {
      "model_module": "@jupyter-widgets/controls",
      "model_module_version": "1.5.0",
      "model_name": "LabelModel",
      "state": {
       "layout": "IPY_MODEL_8ea05c0843544a399536775641c4ad52",
       "style": "IPY_MODEL_acd11270efaa41e4a44ddd6b9eeb36e5",
       "value": "Enter plot name"
      }
     },
     "c70ce33f371c45868fdd108a4baa19fe": {
      "model_module": "@jupyter-widgets/controls",
      "model_module_version": "1.5.0",
      "model_name": "ButtonStyleModel",
      "state": {
       "button_color": "orange"
      }
     },
     "c75eb7128d704098972e0f02a58f054f": {
      "model_module": "@jupyter-widgets/base",
      "model_module_version": "1.2.0",
      "model_name": "LayoutModel",
      "state": {}
     },
     "c793805607ea4502a18c555c86475a15": {
      "model_module": "@jupyter-widgets/base",
      "model_module_version": "1.2.0",
      "model_name": "LayoutModel",
      "state": {}
     },
     "c7efc0dda6854b08989a67f70fd4ade5": {
      "model_module": "@jupyter-widgets/controls",
      "model_module_version": "1.5.0",
      "model_name": "HBoxModel",
      "state": {
       "children": [
        "IPY_MODEL_dadc47c65fbc4ff6b4ba4cef0237433e",
        "IPY_MODEL_990d9fbcd7224c3391291cc56123a8d1"
       ],
       "layout": "IPY_MODEL_560f54cb4519431b9560784693807cac"
      }
     },
     "c837b153ba024c5c8ebc12503e2780dd": {
      "model_module": "@jupyter-widgets/controls",
      "model_module_version": "1.5.0",
      "model_name": "CheckboxModel",
      "state": {
       "description": "Common",
       "disabled": false,
       "indent": false,
       "layout": "IPY_MODEL_9165018fad8b47728334b0a625aaacc0",
       "style": "IPY_MODEL_c99e0b231694481ebdca6ae186e4a5bc",
       "value": false
      }
     },
     "c86c8fbfd2874fd5a6898270608a91db": {
      "model_module": "@jupyter-widgets/controls",
      "model_module_version": "1.5.0",
      "model_name": "DescriptionStyleModel",
      "state": {
       "description_width": ""
      }
     },
     "c87e16b4e46940cda38875aa5112e16d": {
      "model_module": "@jupyter-widgets/base",
      "model_module_version": "1.2.0",
      "model_name": "LayoutModel",
      "state": {
       "width": "10%"
      }
     },
     "c8ac657ffaaa4da88b5cc95743329705": {
      "model_module": "@jupyter-widgets/controls",
      "model_module_version": "1.5.0",
      "model_name": "TextModel",
      "state": {
       "layout": "IPY_MODEL_ff85402ef428439494407ed30ca03f51",
       "style": "IPY_MODEL_5b84db320c854f6ea2e074a61c0135dd"
      }
     },
     "c934d328aad8495d9ee5a5b1f1aff609": {
      "model_module": "@jupyter-widgets/controls",
      "model_module_version": "1.5.0",
      "model_name": "DescriptionStyleModel",
      "state": {
       "description_width": ""
      }
     },
     "c97e54fb67964581bbbe18165691de9e": {
      "model_module": "@jupyter-widgets/base",
      "model_module_version": "1.2.0",
      "model_name": "LayoutModel",
      "state": {}
     },
     "c97ffc25b715417dbf5a52babf379f75": {
      "model_module": "@jupyter-widgets/base",
      "model_module_version": "1.2.0",
      "model_name": "LayoutModel",
      "state": {}
     },
     "c99e0b231694481ebdca6ae186e4a5bc": {
      "model_module": "@jupyter-widgets/controls",
      "model_module_version": "1.5.0",
      "model_name": "DescriptionStyleModel",
      "state": {
       "description_width": ""
      }
     },
     "c9a7a84d5c084a8e84623927cd358055": {
      "model_module": "@jupyter-widgets/controls",
      "model_module_version": "1.5.0",
      "model_name": "HBoxModel",
      "state": {
       "children": [
        "IPY_MODEL_5f9fc0af599545c2bb3d8e86bb530ec6",
        "IPY_MODEL_c370718cba594e339a8f50809b5e9887"
       ],
       "layout": "IPY_MODEL_d8da76e6a0ad44ec85d163012d623f4b"
      }
     },
     "c9c4941b86e84914832452f265cd2f04": {
      "model_module": "@jupyter-widgets/controls",
      "model_module_version": "1.5.0",
      "model_name": "LabelModel",
      "state": {
       "layout": "IPY_MODEL_bea246a73a7e43f980669194ab5ebc63",
       "style": "IPY_MODEL_4291e29e34184f65a2521969466472a0",
       "value": "Enter plot name"
      }
     },
     "c9daed3544e745399b28eb0f1b917855": {
      "model_module": "@jupyter-widgets/controls",
      "model_module_version": "1.5.0",
      "model_name": "ButtonStyleModel",
      "state": {}
     },
     "ca31f2a35b44423bb52bf04bde3406e5": {
      "model_module": "@jupyter-widgets/controls",
      "model_module_version": "1.5.0",
      "model_name": "ButtonStyleModel",
      "state": {}
     },
     "cac5aa1c781d41c2af4163dc507b362e": {
      "model_module": "@jupyter-widgets/controls",
      "model_module_version": "1.5.0",
      "model_name": "DescriptionStyleModel",
      "state": {
       "description_width": ""
      }
     },
     "cb1d5c6396764414922243b741c3c51d": {
      "model_module": "@jupyter-widgets/controls",
      "model_module_version": "1.5.0",
      "model_name": "TextModel",
      "state": {
       "layout": "IPY_MODEL_be250f5f271940d99df09bde7e05d47d",
       "style": "IPY_MODEL_5cbdd01c8b5b4bd39f9e4a3055f08d7f"
      }
     },
     "cb2209fba90c4e12821456187f0d2825": {
      "model_module": "@jupyter-widgets/controls",
      "model_module_version": "1.5.0",
      "model_name": "LabelModel",
      "state": {
       "layout": "IPY_MODEL_effe09f8bc7547e485e4d0447b61829c",
       "style": "IPY_MODEL_07fefb655ba34e8f910c26d61d12c296",
       "value": "Host label"
      }
     },
     "cb347d9c63bc4ba3afd67d4e9e837a08": {
      "model_module": "@jupyter-widgets/base",
      "model_module_version": "1.2.0",
      "model_name": "LayoutModel",
      "state": {}
     },
     "cba851e505da44e0a5dbe0c6935d194d": {
      "model_module": "@jupyter-widgets/controls",
      "model_module_version": "1.5.0",
      "model_name": "HBoxModel",
      "state": {
       "children": [
        "IPY_MODEL_052bf5c7e58e4b67958eb7ac1ebe43e8",
        "IPY_MODEL_2f7a7e1c8c8d494f8887fe46bb2e2adc"
       ],
       "layout": "IPY_MODEL_91981dd4d398475bbcd31443eb56bf70"
      }
     },
     "cbc3bf2c17be4a08b8a1de9faad0dede": {
      "model_module": "@jupyter-widgets/base",
      "model_module_version": "1.2.0",
      "model_name": "LayoutModel",
      "state": {}
     },
     "cbdf6b872731430faf4d1e1199f66add": {
      "model_module": "@jupyter-widgets/controls",
      "model_module_version": "1.5.0",
      "model_name": "DescriptionStyleModel",
      "state": {
       "description_width": ""
      }
     },
     "cbe795f3f50d4c99bc738ccce1c2a400": {
      "model_module": "@jupyter-widgets/base",
      "model_module_version": "1.2.0",
      "model_name": "LayoutModel",
      "state": {}
     },
     "cc0a206785cc4514a385969f5de14439": {
      "model_module": "@jupyter-widgets/controls",
      "model_module_version": "1.5.0",
      "model_name": "TextModel",
      "state": {
       "layout": "IPY_MODEL_2ea41123ef6e432a9de67807cb2dd325",
       "style": "IPY_MODEL_b32eab6bd6b141abbf32f00b87567324"
      }
     },
     "cc3dc1845bcc477bae3b2b87249adb12": {
      "model_module": "@jupyter-widgets/controls",
      "model_module_version": "1.5.0",
      "model_name": "ButtonStyleModel",
      "state": {}
     },
     "cc78b4fca89a42ed91fbe14a61691fcd": {
      "model_module": "@jupyter-widgets/controls",
      "model_module_version": "1.5.0",
      "model_name": "DescriptionStyleModel",
      "state": {
       "description_width": ""
      }
     },
     "ccb8f79d6365404db76f1a348b13c389": {
      "model_module": "@jupyter-widgets/controls",
      "model_module_version": "1.5.0",
      "model_name": "TextModel",
      "state": {
       "layout": "IPY_MODEL_be250f5f271940d99df09bde7e05d47d",
       "style": "IPY_MODEL_9b706cd2bd424b568d126d2956462e9f"
      }
     },
     "ccbad6d9f27c4d158cb33d6dbec123f8": {
      "model_module": "@jupyter-widgets/controls",
      "model_module_version": "1.5.0",
      "model_name": "ButtonModel",
      "state": {
       "description": "Confirm",
       "layout": "IPY_MODEL_352988f9700d4c8384ba78652b1b1ef1",
       "style": "IPY_MODEL_c391fd687a004f408e31b068d29f8e4b"
      }
     },
     "cce53994b42b4a2bb59185f213472a00": {
      "model_module": "@jupyter-widgets/controls",
      "model_module_version": "1.5.0",
      "model_name": "HBoxModel",
      "state": {
       "children": [
        "IPY_MODEL_efb2fbe010054b7da80ae8cedadc1d85",
        "IPY_MODEL_b20ae009664a4700b754a3a39722d62b",
        "IPY_MODEL_6761f88ce79e4856bc2b51079f757c88"
       ],
       "layout": "IPY_MODEL_5a0faaa7f74e4fa7975b60c0f1ef9866"
      }
     },
     "cd10a9a7458446d0a2f739b90855e9c8": {
      "model_module": "@jupyter-widgets/controls",
      "model_module_version": "1.5.0",
      "model_name": "HBoxModel",
      "state": {
       "children": [
        "IPY_MODEL_eded2f1a45ed47648f51be1e17882ea7",
        "IPY_MODEL_5cefa8fa88fc4c7c99ebab9b00d60c1d",
        "IPY_MODEL_94f9719bf07f4fbbb6ee9e2d8caeb9bf"
       ],
       "layout": "IPY_MODEL_7e2a01c7de1a411480420a7b3ccdcd01"
      }
     },
     "cd16581005af49639266a7596f1bd7d0": {
      "model_module": "@jupyter-widgets/base",
      "model_module_version": "1.2.0",
      "model_name": "LayoutModel",
      "state": {}
     },
     "cd5f414c234045dd83bacb27ab8d4a80": {
      "model_module": "@jupyter-widgets/controls",
      "model_module_version": "1.5.0",
      "model_name": "DescriptionStyleModel",
      "state": {
       "description_width": ""
      }
     },
     "cd96706041ad4e3380faa10cdb4431ba": {
      "model_module": "@jupyter-widgets/controls",
      "model_module_version": "1.5.0",
      "model_name": "HBoxModel",
      "state": {
       "children": [
        "IPY_MODEL_83a7ca8b62c546b3a8f1630e99bcc0cb",
        "IPY_MODEL_ed606b96180646fb9f1e5bc25a68b355"
       ],
       "layout": "IPY_MODEL_5ec603ffb91949619b672f2d77c24896"
      }
     },
     "cdcc7828092d42c188578117191f00b6": {
      "model_module": "@jupyter-widgets/controls",
      "model_module_version": "1.5.0",
      "model_name": "DescriptionStyleModel",
      "state": {
       "description_width": ""
      }
     },
     "cdda1c147ca644c88bb1cb7ca3580c51": {
      "model_module": "@jupyter-widgets/controls",
      "model_module_version": "1.5.0",
      "model_name": "ButtonStyleModel",
      "state": {}
     },
     "cdf6f22e8a534485beeab1f348fba309": {
      "model_module": "@jupyter-widgets/controls",
      "model_module_version": "1.5.0",
      "model_name": "CheckboxModel",
      "state": {
       "description": "Common",
       "disabled": false,
       "indent": false,
       "layout": "IPY_MODEL_93f250fc91d0444ebc0f98a465645625",
       "style": "IPY_MODEL_fe1be62793c047549662ce16d4850053",
       "value": false
      }
     },
     "ce70b73a5d104dfe8eef99680354b6c9": {
      "model_module": "@jupyter-widgets/controls",
      "model_module_version": "1.5.0",
      "model_name": "HBoxModel",
      "state": {
       "children": [
        "IPY_MODEL_bd63e283c25648d98e7179ecc0b48bec",
        "IPY_MODEL_80d4e223621244f5b3a2e2b0359bf736",
        "IPY_MODEL_bb41cb69b68946f091aa298f897a8d1c"
       ],
       "layout": "IPY_MODEL_e64a6a9b81284297a5d5bef57b3c1be0"
      }
     },
     "cea38573a6054d729015a3efc74b0938": {
      "model_module": "@jupyter-widgets/controls",
      "model_module_version": "1.5.0",
      "model_name": "ButtonModel",
      "state": {
       "description": "Confirm current",
       "layout": "IPY_MODEL_2ade6c53f5814b0aa08f82ba891cf269",
       "style": "IPY_MODEL_ecf164e21ae141c7b68889069121fa70"
      }
     },
     "cec59fc9fe094e2e89609c5b02621bdd": {
      "model_module": "@jupyter-widgets/base",
      "model_module_version": "1.2.0",
      "model_name": "LayoutModel",
      "state": {
       "width": "15%"
      }
     },
     "cf398c97897c406f839113c38d05458c": {
      "model_module": "@jupyter-widgets/controls",
      "model_module_version": "1.5.0",
      "model_name": "HBoxModel",
      "state": {
       "children": [
        "IPY_MODEL_f47455e68c6a4a4898c8a36434396e9b",
        "IPY_MODEL_ba357334d7fc4c6bb95f4a9a49d6a4d1"
       ],
       "layout": "IPY_MODEL_3b657731249b429399847a168d6dc814"
      }
     },
     "cf6a796f610e474792fbf215ebd4bbbd": {
      "model_module": "@jupyter-widgets/controls",
      "model_module_version": "1.5.0",
      "model_name": "DescriptionStyleModel",
      "state": {
       "description_width": ""
      }
     },
     "cffa7253fca34a8e8253272ce5aa3017": {
      "model_module": "@jupyter-widgets/base",
      "model_module_version": "1.2.0",
      "model_name": "LayoutModel",
      "state": {}
     },
     "d0665495374b4ecd96924a5e35cc6785": {
      "model_module": "@jupyter-widgets/controls",
      "model_module_version": "1.5.0",
      "model_name": "LabelModel",
      "state": {
       "layout": "IPY_MODEL_effe09f8bc7547e485e4d0447b61829c",
       "style": "IPY_MODEL_e7f4b39947f844b4a2329695b0f59cc5",
       "value": "Sulfur loading (mg/ cm2)"
      }
     },
     "d06db165a7fd4b0ba8db9d1765a988ed": {
      "model_module": "@jupyter-widgets/controls",
      "model_module_version": "1.5.0",
      "model_name": "LabelModel",
      "state": {
       "layout": "IPY_MODEL_effe09f8bc7547e485e4d0447b61829c",
       "style": "IPY_MODEL_861ca0c4381f46a1a94f269a14d6a008",
       "value": "Electrode thickness"
      }
     },
     "d09df28754b04d24ba98017a70ebc6cd": {
      "model_module": "@jupyter-widgets/controls",
      "model_module_version": "1.5.0",
      "model_name": "ButtonModel",
      "state": {
       "description": "Manually select area",
       "layout": "IPY_MODEL_3d40327c1af24b139b3e987a9a91239f",
       "style": "IPY_MODEL_dfa294a358ce4293b35489c8e551d9ba"
      }
     },
     "d10107dd3f8a4ca392aa616037c66d03": {
      "model_module": "@jupyter-widgets/controls",
      "model_module_version": "1.5.0",
      "model_name": "LabelModel",
      "state": {
       "layout": "IPY_MODEL_0df9987234d949d3a653e70b86abc939",
       "style": "IPY_MODEL_183551bbacb24e058a83f94e2c22eecf",
       "value": "Carbon type"
      }
     },
     "d180399b211d48db8bf1e347ea1ba48d": {
      "model_module": "@jupyter-widgets/controls",
      "model_module_version": "1.5.0",
      "model_name": "LabelModel",
      "state": {
       "layout": "IPY_MODEL_0df9987234d949d3a653e70b86abc939",
       "style": "IPY_MODEL_757a8ed4597b449aa448b663ab43f5db",
       "value": "Sulfur loading method"
      }
     },
     "d19dade6d8614c81a9a578480513a84c": {
      "model_module": "@jupyter-widgets/controls",
      "model_module_version": "1.5.0",
      "model_name": "CheckboxModel",
      "state": {
       "description": "Common",
       "disabled": false,
       "indent": false,
       "layout": "IPY_MODEL_c2dc680966fb4f7583735bba337461f4",
       "style": "IPY_MODEL_87bfcee502ef42c7872243efce477006",
       "value": false
      }
     },
     "d1c5c05728c649adb56107baa1a62486": {
      "model_module": "@jupyter-widgets/controls",
      "model_module_version": "1.5.0",
      "model_name": "DescriptionStyleModel",
      "state": {
       "description_width": ""
      }
     },
     "d1d67857522b469cbdf7dbc053a2cc8c": {
      "model_module": "@jupyter-widgets/controls",
      "model_module_version": "1.5.0",
      "model_name": "CheckboxModel",
      "state": {
       "description": "M",
       "disabled": false,
       "layout": "IPY_MODEL_5ed68ea0070e4181a0f309af37dacde9",
       "style": "IPY_MODEL_d35e661cf1b6495dbe1d4f73ba6a3a1c",
       "value": true
      }
     },
     "d232d5ada0e74a9a912dfc0d5376f490": {
      "model_module": "@jupyter-widgets/controls",
      "model_module_version": "1.5.0",
      "model_name": "TextModel",
      "state": {
       "layout": "IPY_MODEL_88198df2aeee40a1af7630869d0b9764",
       "style": "IPY_MODEL_2d0d0d0898a2470d9471ecf5f7512aae",
       "value": "LiTFSI"
      }
     },
     "d26696d995e94f4989283aae7eabdd50": {
      "model_module": "@jupyter-widgets/controls",
      "model_module_version": "1.5.0",
      "model_name": "TextModel",
      "state": {
       "layout": "IPY_MODEL_be250f5f271940d99df09bde7e05d47d",
       "style": "IPY_MODEL_c3603dad4706416ca4f49eacac05be44"
      }
     },
     "d32ebf8129d14f24887a255151f5cf1c": {
      "model_module": "@jupyter-widgets/base",
      "model_module_version": "1.2.0",
      "model_name": "LayoutModel",
      "state": {}
     },
     "d35e661cf1b6495dbe1d4f73ba6a3a1c": {
      "model_module": "@jupyter-widgets/controls",
      "model_module_version": "1.5.0",
      "model_name": "DescriptionStyleModel",
      "state": {
       "description_width": ""
      }
     },
     "d387d59282324ced8560a8d297611331": {
      "model_module": "@jupyter-widgets/controls",
      "model_module_version": "1.5.0",
      "model_name": "LabelModel",
      "state": {
       "layout": "IPY_MODEL_effe09f8bc7547e485e4d0447b61829c",
       "style": "IPY_MODEL_735c4e71b7254878ad666ebf4a251471",
       "value": "Electrode solvent"
      }
     },
     "d3a27a10389a4eb6914a6ba811093642": {
      "model_module": "@jupyter-widgets/base",
      "model_module_version": "1.2.0",
      "model_name": "LayoutModel",
      "state": {}
     },
     "d3bb0eda662643ec9e7656d9a2d60705": {
      "model_module": "@jupyter-widgets/controls",
      "model_module_version": "1.5.0",
      "model_name": "TextModel",
      "state": {
       "layout": "IPY_MODEL_be250f5f271940d99df09bde7e05d47d",
       "style": "IPY_MODEL_65a5811d8a474343babcc592f7dd153c"
      }
     },
     "d43bc27d544f4240bb3c41f457b96eec": {
      "model_module": "@jupyter-widgets/base",
      "model_module_version": "1.2.0",
      "model_name": "LayoutModel",
      "state": {}
     },
     "d4884397e49b4c5e9fc5194c2e7af2a1": {
      "model_module": "@jupyter-widgets/base",
      "model_module_version": "1.2.0",
      "model_name": "LayoutModel",
      "state": {}
     },
     "d4ad3f95fd1a4862b02a5585ee3b266b": {
      "model_module": "@jupyter-widgets/controls",
      "model_module_version": "1.5.0",
      "model_name": "DescriptionStyleModel",
      "state": {
       "description_width": ""
      }
     },
     "d56e654d696a4030a815e671dcd0fac8": {
      "model_module": "@jupyter-widgets/base",
      "model_module_version": "1.2.0",
      "model_name": "LayoutModel",
      "state": {}
     },
     "d5a60fca07594e06ab71efdb6ab6b54a": {
      "model_module": "@jupyter-widgets/controls",
      "model_module_version": "1.5.0",
      "model_name": "ButtonModel",
      "state": {
       "description": "Confirm image",
       "layout": "IPY_MODEL_e21d5ff03f6c41c89d07a712f52a765e",
       "style": "IPY_MODEL_881c56df54d04d038d56aa48bd04f750"
      }
     },
     "d5ec22d66024485d928c08a072c05e27": {
      "model_module": "@jupyter-widgets/controls",
      "model_module_version": "1.5.0",
      "model_name": "LabelModel",
      "state": {
       "layout": "IPY_MODEL_effe09f8bc7547e485e4d0447b61829c",
       "style": "IPY_MODEL_c2c947ffd4aa46fdafdd88fb414b7efd",
       "value": "Sulfur loading (wt%)"
      }
     },
     "d6003ed901c34ed1a94e706dca17bfb1": {
      "model_module": "@jupyter-widgets/controls",
      "model_module_version": "1.5.0",
      "model_name": "HBoxModel",
      "state": {
       "children": [
        "IPY_MODEL_8d23fdb446e1449d8b9b047a4c4d72ec",
        "IPY_MODEL_bfa00cf16e4f431191b5b46924fbea2e"
       ],
       "layout": "IPY_MODEL_b0189979298f44bba13e6fa2561f92b1"
      }
     },
     "d61b00b96bf141c9a319ca236b262d96": {
      "model_module": "@jupyter-widgets/base",
      "model_module_version": "1.2.0",
      "model_name": "LayoutModel",
      "state": {}
     },
     "d65882ca1d77492eaed0285279bd078f": {
      "model_module": "@jupyter-widgets/controls",
      "model_module_version": "1.5.0",
      "model_name": "CheckboxModel",
      "state": {
       "description": "Common",
       "disabled": false,
       "indent": false,
       "layout": "IPY_MODEL_c4363b71f67f401b9c4f6be9b00301a7",
       "style": "IPY_MODEL_2b7ae0d08c114058bc9e55d77587f8f0",
       "value": false
      }
     },
     "d673a56183244b34baed0ebe5414c90a": {
      "model_module": "@jupyter-widgets/controls",
      "model_module_version": "1.5.0",
      "model_name": "LabelModel",
      "state": {
       "layout": "IPY_MODEL_f31df54e5b5349a08fa85d240f27d3c3",
       "style": "IPY_MODEL_7d36e5610c114ceeb525d84a9cd49ba9",
       "value": "Please select a directory"
      }
     },
     "d67fbfea85174cc186b59bd555934ccc": {
      "model_module": "@jupyter-widgets/controls",
      "model_module_version": "1.5.0",
      "model_name": "LabelModel",
      "state": {
       "layout": "IPY_MODEL_0df9987234d949d3a653e70b86abc939",
       "style": "IPY_MODEL_e47a50c5a5fd45b0ab0c261e457eb142",
       "value": "Conductive additive content (wt%)"
      }
     },
     "d693a85315e04d13b37820936f04861b": {
      "model_module": "@jupyter-widgets/base",
      "model_module_version": "1.2.0",
      "model_name": "LayoutModel",
      "state": {}
     },
     "d6b1dae92bee4a6499c01327d3cbf68a": {
      "model_module": "@jupyter-widgets/base",
      "model_module_version": "1.2.0",
      "model_name": "LayoutModel",
      "state": {}
     },
     "d6deb138b2244dcfb0dac1300a17ca9f": {
      "model_module": "@jupyter-widgets/base",
      "model_module_version": "1.2.0",
      "model_name": "LayoutModel",
      "state": {}
     },
     "d6e3ee7fe10a475794118a3d6f439992": {
      "model_module": "@jupyter-widgets/base",
      "model_module_version": "1.2.0",
      "model_name": "LayoutModel",
      "state": {
       "width": "20%"
      }
     },
     "d72ea3104d7a4707be37c95a24759d81": {
      "model_module": "@jupyter-widgets/controls",
      "model_module_version": "1.5.0",
      "model_name": "DescriptionStyleModel",
      "state": {
       "description_width": ""
      }
     },
     "d74a50d86af04ef68409996c417400f5": {
      "model_module": "@jupyter-widgets/controls",
      "model_module_version": "1.5.0",
      "model_name": "ButtonModel",
      "state": {
       "description": "Confirm values",
       "layout": "IPY_MODEL_72cddd39d3d942fc865d34c4956411b2",
       "style": "IPY_MODEL_179db493e81049368e2319d1a33cd9a5"
      }
     },
     "d76feb87bf064184afdf542a7d339869": {
      "model_module": "@jupyter-widgets/controls",
      "model_module_version": "1.5.0",
      "model_name": "LabelModel",
      "state": {
       "layout": "IPY_MODEL_effe09f8bc7547e485e4d0447b61829c",
       "style": "IPY_MODEL_5c2e5ddff3f14f57b649b5457401da45",
       "value": "Conductive additive"
      }
     },
     "d78fc1a123a0413491fff8157fdafc59": {
      "model_module": "@jupyter-widgets/base",
      "model_module_version": "1.2.0",
      "model_name": "LayoutModel",
      "state": {}
     },
     "d7c2105ffbb14fc4847c193a8d98a024": {
      "model_module": "@jupyter-widgets/base",
      "model_module_version": "1.2.0",
      "model_name": "LayoutModel",
      "state": {}
     },
     "d8047e5fcb3a49e0a9900ca0df53296f": {
      "model_module": "@jupyter-widgets/base",
      "model_module_version": "1.2.0",
      "model_name": "LayoutModel",
      "state": {
       "width": "20%"
      }
     },
     "d8062872746643e7a04e1785ba32e6f7": {
      "model_module": "@jupyter-widgets/controls",
      "model_module_version": "1.5.0",
      "model_name": "TextModel",
      "state": {
       "layout": "IPY_MODEL_2ea41123ef6e432a9de67807cb2dd325",
       "style": "IPY_MODEL_0273f38c6e8c47a4b98680210a77d04d"
      }
     },
     "d8764e206b2a45898c0ed5c7e7d5bc2d": {
      "model_module": "@jupyter-widgets/base",
      "model_module_version": "1.2.0",
      "model_name": "LayoutModel",
      "state": {}
     },
     "d87e454c52dc48b089945fa042c47b37": {
      "model_module": "@jupyter-widgets/controls",
      "model_module_version": "1.5.0",
      "model_name": "ButtonModel",
      "state": {
       "description": "Show graph",
       "layout": "IPY_MODEL_a52287a4455341a0adf7aef8c73a7acf",
       "style": "IPY_MODEL_bbf5da46d39140808d6bfa74838043c7"
      }
     },
     "d8da76e6a0ad44ec85d163012d623f4b": {
      "model_module": "@jupyter-widgets/base",
      "model_module_version": "1.2.0",
      "model_name": "LayoutModel",
      "state": {}
     },
     "d8e1470b7a9e4db39d37dc2e1d008840": {
      "model_module": "@jupyter-widgets/base",
      "model_module_version": "1.2.0",
      "model_name": "LayoutModel",
      "state": {}
     },
     "d96dd666cb01490699d0bd14f72e597a": {
      "model_module": "@jupyter-widgets/base",
      "model_module_version": "1.2.0",
      "model_name": "LayoutModel",
      "state": {}
     },
     "d974018e3c84488b9ca4cba9782325bf": {
      "model_module": "@jupyter-widgets/output",
      "model_module_version": "1.0.0",
      "model_name": "OutputModel",
      "state": {
       "layout": "IPY_MODEL_fb7d014fb08f47c4b3db1461bc88731f",
       "outputs": [
        {
         "data": {
          "application/javascript": "/* Put everything inside the global mpl namespace */\n/* global mpl */\nwindow.mpl = {};\n\nmpl.get_websocket_type = function () {\n    if (typeof WebSocket !== 'undefined') {\n        return WebSocket;\n    } else if (typeof MozWebSocket !== 'undefined') {\n        return MozWebSocket;\n    } else {\n        alert(\n            'Your browser does not have WebSocket support. ' +\n                'Please try Chrome, Safari or Firefox ≥ 6. ' +\n                'Firefox 4 and 5 are also supported but you ' +\n                'have to enable WebSockets in about:config.'\n        );\n    }\n};\n\nmpl.figure = function (figure_id, websocket, ondownload, parent_element) {\n    this.id = figure_id;\n\n    this.ws = websocket;\n\n    this.supports_binary = this.ws.binaryType !== undefined;\n\n    if (!this.supports_binary) {\n        var warnings = document.getElementById('mpl-warnings');\n        if (warnings) {\n            warnings.style.display = 'block';\n            warnings.textContent =\n                'This browser does not support binary websocket messages. ' +\n                'Performance may be slow.';\n        }\n    }\n\n    this.imageObj = new Image();\n\n    this.context = undefined;\n    this.message = undefined;\n    this.canvas = undefined;\n    this.rubberband_canvas = undefined;\n    this.rubberband_context = undefined;\n    this.format_dropdown = undefined;\n\n    this.image_mode = 'full';\n\n    this.root = document.createElement('div');\n    this.root.setAttribute('style', 'display: inline-block');\n    this._root_extra_style(this.root);\n\n    parent_element.appendChild(this.root);\n\n    this._init_header(this);\n    this._init_canvas(this);\n    this._init_toolbar(this);\n\n    var fig = this;\n\n    this.waiting = false;\n\n    this.ws.onopen = function () {\n        fig.send_message('supports_binary', { value: fig.supports_binary });\n        fig.send_message('send_image_mode', {});\n        if (fig.ratio !== 1) {\n            fig.send_message('set_device_pixel_ratio', {\n                device_pixel_ratio: fig.ratio,\n            });\n        }\n        fig.send_message('refresh', {});\n    };\n\n    this.imageObj.onload = function () {\n        if (fig.image_mode === 'full') {\n            // Full images could contain transparency (where diff images\n            // almost always do), so we need to clear the canvas so that\n            // there is no ghosting.\n            fig.context.clearRect(0, 0, fig.canvas.width, fig.canvas.height);\n        }\n        fig.context.drawImage(fig.imageObj, 0, 0);\n    };\n\n    this.imageObj.onunload = function () {\n        fig.ws.close();\n    };\n\n    this.ws.onmessage = this._make_on_message_function(this);\n\n    this.ondownload = ondownload;\n};\n\nmpl.figure.prototype._init_header = function () {\n    var titlebar = document.createElement('div');\n    titlebar.classList =\n        'ui-dialog-titlebar ui-widget-header ui-corner-all ui-helper-clearfix';\n    var titletext = document.createElement('div');\n    titletext.classList = 'ui-dialog-title';\n    titletext.setAttribute(\n        'style',\n        'width: 100%; text-align: center; padding: 3px;'\n    );\n    titlebar.appendChild(titletext);\n    this.root.appendChild(titlebar);\n    this.header = titletext;\n};\n\nmpl.figure.prototype._canvas_extra_style = function (_canvas_div) {};\n\nmpl.figure.prototype._root_extra_style = function (_canvas_div) {};\n\nmpl.figure.prototype._init_canvas = function () {\n    var fig = this;\n\n    var canvas_div = (this.canvas_div = document.createElement('div'));\n    canvas_div.setAttribute(\n        'style',\n        'border: 1px solid #ddd;' +\n            'box-sizing: content-box;' +\n            'clear: both;' +\n            'min-height: 1px;' +\n            'min-width: 1px;' +\n            'outline: 0;' +\n            'overflow: hidden;' +\n            'position: relative;' +\n            'resize: both;'\n    );\n\n    function on_keyboard_event_closure(name) {\n        return function (event) {\n            return fig.key_event(event, name);\n        };\n    }\n\n    canvas_div.addEventListener(\n        'keydown',\n        on_keyboard_event_closure('key_press')\n    );\n    canvas_div.addEventListener(\n        'keyup',\n        on_keyboard_event_closure('key_release')\n    );\n\n    this._canvas_extra_style(canvas_div);\n    this.root.appendChild(canvas_div);\n\n    var canvas = (this.canvas = document.createElement('canvas'));\n    canvas.classList.add('mpl-canvas');\n    canvas.setAttribute('style', 'box-sizing: content-box;');\n\n    this.context = canvas.getContext('2d');\n\n    var backingStore =\n        this.context.backingStorePixelRatio ||\n        this.context.webkitBackingStorePixelRatio ||\n        this.context.mozBackingStorePixelRatio ||\n        this.context.msBackingStorePixelRatio ||\n        this.context.oBackingStorePixelRatio ||\n        this.context.backingStorePixelRatio ||\n        1;\n\n    this.ratio = (window.devicePixelRatio || 1) / backingStore;\n\n    var rubberband_canvas = (this.rubberband_canvas = document.createElement(\n        'canvas'\n    ));\n    rubberband_canvas.setAttribute(\n        'style',\n        'box-sizing: content-box; position: absolute; left: 0; top: 0; z-index: 1;'\n    );\n\n    // Apply a ponyfill if ResizeObserver is not implemented by browser.\n    if (this.ResizeObserver === undefined) {\n        if (window.ResizeObserver !== undefined) {\n            this.ResizeObserver = window.ResizeObserver;\n        } else {\n            var obs = _JSXTOOLS_RESIZE_OBSERVER({});\n            this.ResizeObserver = obs.ResizeObserver;\n        }\n    }\n\n    this.resizeObserverInstance = new this.ResizeObserver(function (entries) {\n        var nentries = entries.length;\n        for (var i = 0; i < nentries; i++) {\n            var entry = entries[i];\n            var width, height;\n            if (entry.contentBoxSize) {\n                if (entry.contentBoxSize instanceof Array) {\n                    // Chrome 84 implements new version of spec.\n                    width = entry.contentBoxSize[0].inlineSize;\n                    height = entry.contentBoxSize[0].blockSize;\n                } else {\n                    // Firefox implements old version of spec.\n                    width = entry.contentBoxSize.inlineSize;\n                    height = entry.contentBoxSize.blockSize;\n                }\n            } else {\n                // Chrome <84 implements even older version of spec.\n                width = entry.contentRect.width;\n                height = entry.contentRect.height;\n            }\n\n            // Keep the size of the canvas and rubber band canvas in sync with\n            // the canvas container.\n            if (entry.devicePixelContentBoxSize) {\n                // Chrome 84 implements new version of spec.\n                canvas.setAttribute(\n                    'width',\n                    entry.devicePixelContentBoxSize[0].inlineSize\n                );\n                canvas.setAttribute(\n                    'height',\n                    entry.devicePixelContentBoxSize[0].blockSize\n                );\n            } else {\n                canvas.setAttribute('width', width * fig.ratio);\n                canvas.setAttribute('height', height * fig.ratio);\n            }\n            canvas.setAttribute(\n                'style',\n                'width: ' + width + 'px; height: ' + height + 'px;'\n            );\n\n            rubberband_canvas.setAttribute('width', width);\n            rubberband_canvas.setAttribute('height', height);\n\n            // And update the size in Python. We ignore the initial 0/0 size\n            // that occurs as the element is placed into the DOM, which should\n            // otherwise not happen due to the minimum size styling.\n            if (fig.ws.readyState == 1 && width != 0 && height != 0) {\n                fig.request_resize(width, height);\n            }\n        }\n    });\n    this.resizeObserverInstance.observe(canvas_div);\n\n    function on_mouse_event_closure(name) {\n        return function (event) {\n            return fig.mouse_event(event, name);\n        };\n    }\n\n    rubberband_canvas.addEventListener(\n        'mousedown',\n        on_mouse_event_closure('button_press')\n    );\n    rubberband_canvas.addEventListener(\n        'mouseup',\n        on_mouse_event_closure('button_release')\n    );\n    rubberband_canvas.addEventListener(\n        'dblclick',\n        on_mouse_event_closure('dblclick')\n    );\n    // Throttle sequential mouse events to 1 every 20ms.\n    rubberband_canvas.addEventListener(\n        'mousemove',\n        on_mouse_event_closure('motion_notify')\n    );\n\n    rubberband_canvas.addEventListener(\n        'mouseenter',\n        on_mouse_event_closure('figure_enter')\n    );\n    rubberband_canvas.addEventListener(\n        'mouseleave',\n        on_mouse_event_closure('figure_leave')\n    );\n\n    canvas_div.addEventListener('wheel', function (event) {\n        if (event.deltaY < 0) {\n            event.step = 1;\n        } else {\n            event.step = -1;\n        }\n        on_mouse_event_closure('scroll')(event);\n    });\n\n    canvas_div.appendChild(canvas);\n    canvas_div.appendChild(rubberband_canvas);\n\n    this.rubberband_context = rubberband_canvas.getContext('2d');\n    this.rubberband_context.strokeStyle = '#000000';\n\n    this._resize_canvas = function (width, height, forward) {\n        if (forward) {\n            canvas_div.style.width = width + 'px';\n            canvas_div.style.height = height + 'px';\n        }\n    };\n\n    // Disable right mouse context menu.\n    this.rubberband_canvas.addEventListener('contextmenu', function (_e) {\n        event.preventDefault();\n        return false;\n    });\n\n    function set_focus() {\n        canvas.focus();\n        canvas_div.focus();\n    }\n\n    window.setTimeout(set_focus, 100);\n};\n\nmpl.figure.prototype._init_toolbar = function () {\n    var fig = this;\n\n    var toolbar = document.createElement('div');\n    toolbar.classList = 'mpl-toolbar';\n    this.root.appendChild(toolbar);\n\n    function on_click_closure(name) {\n        return function (_event) {\n            return fig.toolbar_button_onclick(name);\n        };\n    }\n\n    function on_mouseover_closure(tooltip) {\n        return function (event) {\n            if (!event.currentTarget.disabled) {\n                return fig.toolbar_button_onmouseover(tooltip);\n            }\n        };\n    }\n\n    fig.buttons = {};\n    var buttonGroup = document.createElement('div');\n    buttonGroup.classList = 'mpl-button-group';\n    for (var toolbar_ind in mpl.toolbar_items) {\n        var name = mpl.toolbar_items[toolbar_ind][0];\n        var tooltip = mpl.toolbar_items[toolbar_ind][1];\n        var image = mpl.toolbar_items[toolbar_ind][2];\n        var method_name = mpl.toolbar_items[toolbar_ind][3];\n\n        if (!name) {\n            /* Instead of a spacer, we start a new button group. */\n            if (buttonGroup.hasChildNodes()) {\n                toolbar.appendChild(buttonGroup);\n            }\n            buttonGroup = document.createElement('div');\n            buttonGroup.classList = 'mpl-button-group';\n            continue;\n        }\n\n        var button = (fig.buttons[name] = document.createElement('button'));\n        button.classList = 'mpl-widget';\n        button.setAttribute('role', 'button');\n        button.setAttribute('aria-disabled', 'false');\n        button.addEventListener('click', on_click_closure(method_name));\n        button.addEventListener('mouseover', on_mouseover_closure(tooltip));\n\n        var icon_img = document.createElement('img');\n        icon_img.src = '_images/' + image + '.png';\n        icon_img.srcset = '_images/' + image + '_large.png 2x';\n        icon_img.alt = tooltip;\n        button.appendChild(icon_img);\n\n        buttonGroup.appendChild(button);\n    }\n\n    if (buttonGroup.hasChildNodes()) {\n        toolbar.appendChild(buttonGroup);\n    }\n\n    var fmt_picker = document.createElement('select');\n    fmt_picker.classList = 'mpl-widget';\n    toolbar.appendChild(fmt_picker);\n    this.format_dropdown = fmt_picker;\n\n    for (var ind in mpl.extensions) {\n        var fmt = mpl.extensions[ind];\n        var option = document.createElement('option');\n        option.selected = fmt === mpl.default_extension;\n        option.innerHTML = fmt;\n        fmt_picker.appendChild(option);\n    }\n\n    var status_bar = document.createElement('span');\n    status_bar.classList = 'mpl-message';\n    toolbar.appendChild(status_bar);\n    this.message = status_bar;\n};\n\nmpl.figure.prototype.request_resize = function (x_pixels, y_pixels) {\n    // Request matplotlib to resize the figure. Matplotlib will then trigger a resize in the client,\n    // which will in turn request a refresh of the image.\n    this.send_message('resize', { width: x_pixels, height: y_pixels });\n};\n\nmpl.figure.prototype.send_message = function (type, properties) {\n    properties['type'] = type;\n    properties['figure_id'] = this.id;\n    this.ws.send(JSON.stringify(properties));\n};\n\nmpl.figure.prototype.send_draw_message = function () {\n    if (!this.waiting) {\n        this.waiting = true;\n        this.ws.send(JSON.stringify({ type: 'draw', figure_id: this.id }));\n    }\n};\n\nmpl.figure.prototype.handle_save = function (fig, _msg) {\n    var format_dropdown = fig.format_dropdown;\n    var format = format_dropdown.options[format_dropdown.selectedIndex].value;\n    fig.ondownload(fig, format);\n};\n\nmpl.figure.prototype.handle_resize = function (fig, msg) {\n    var size = msg['size'];\n    if (size[0] !== fig.canvas.width || size[1] !== fig.canvas.height) {\n        fig._resize_canvas(size[0], size[1], msg['forward']);\n        fig.send_message('refresh', {});\n    }\n};\n\nmpl.figure.prototype.handle_rubberband = function (fig, msg) {\n    var x0 = msg['x0'] / fig.ratio;\n    var y0 = (fig.canvas.height - msg['y0']) / fig.ratio;\n    var x1 = msg['x1'] / fig.ratio;\n    var y1 = (fig.canvas.height - msg['y1']) / fig.ratio;\n    x0 = Math.floor(x0) + 0.5;\n    y0 = Math.floor(y0) + 0.5;\n    x1 = Math.floor(x1) + 0.5;\n    y1 = Math.floor(y1) + 0.5;\n    var min_x = Math.min(x0, x1);\n    var min_y = Math.min(y0, y1);\n    var width = Math.abs(x1 - x0);\n    var height = Math.abs(y1 - y0);\n\n    fig.rubberband_context.clearRect(\n        0,\n        0,\n        fig.canvas.width / fig.ratio,\n        fig.canvas.height / fig.ratio\n    );\n\n    fig.rubberband_context.strokeRect(min_x, min_y, width, height);\n};\n\nmpl.figure.prototype.handle_figure_label = function (fig, msg) {\n    // Updates the figure title.\n    fig.header.textContent = msg['label'];\n};\n\nmpl.figure.prototype.handle_cursor = function (fig, msg) {\n    fig.rubberband_canvas.style.cursor = msg['cursor'];\n};\n\nmpl.figure.prototype.handle_message = function (fig, msg) {\n    fig.message.textContent = msg['message'];\n};\n\nmpl.figure.prototype.handle_draw = function (fig, _msg) {\n    // Request the server to send over a new figure.\n    fig.send_draw_message();\n};\n\nmpl.figure.prototype.handle_image_mode = function (fig, msg) {\n    fig.image_mode = msg['mode'];\n};\n\nmpl.figure.prototype.handle_history_buttons = function (fig, msg) {\n    for (var key in msg) {\n        if (!(key in fig.buttons)) {\n            continue;\n        }\n        fig.buttons[key].disabled = !msg[key];\n        fig.buttons[key].setAttribute('aria-disabled', !msg[key]);\n    }\n};\n\nmpl.figure.prototype.handle_navigate_mode = function (fig, msg) {\n    if (msg['mode'] === 'PAN') {\n        fig.buttons['Pan'].classList.add('active');\n        fig.buttons['Zoom'].classList.remove('active');\n    } else if (msg['mode'] === 'ZOOM') {\n        fig.buttons['Pan'].classList.remove('active');\n        fig.buttons['Zoom'].classList.add('active');\n    } else {\n        fig.buttons['Pan'].classList.remove('active');\n        fig.buttons['Zoom'].classList.remove('active');\n    }\n};\n\nmpl.figure.prototype.updated_canvas_event = function () {\n    // Called whenever the canvas gets updated.\n    this.send_message('ack', {});\n};\n\n// A function to construct a web socket function for onmessage handling.\n// Called in the figure constructor.\nmpl.figure.prototype._make_on_message_function = function (fig) {\n    return function socket_on_message(evt) {\n        if (evt.data instanceof Blob) {\n            var img = evt.data;\n            if (img.type !== 'image/png') {\n                /* FIXME: We get \"Resource interpreted as Image but\n                 * transferred with MIME type text/plain:\" errors on\n                 * Chrome.  But how to set the MIME type?  It doesn't seem\n                 * to be part of the websocket stream */\n                img.type = 'image/png';\n            }\n\n            /* Free the memory for the previous frames */\n            if (fig.imageObj.src) {\n                (window.URL || window.webkitURL).revokeObjectURL(\n                    fig.imageObj.src\n                );\n            }\n\n            fig.imageObj.src = (window.URL || window.webkitURL).createObjectURL(\n                img\n            );\n            fig.updated_canvas_event();\n            fig.waiting = false;\n            return;\n        } else if (\n            typeof evt.data === 'string' &&\n            evt.data.slice(0, 21) === 'data:image/png;base64'\n        ) {\n            fig.imageObj.src = evt.data;\n            fig.updated_canvas_event();\n            fig.waiting = false;\n            return;\n        }\n\n        var msg = JSON.parse(evt.data);\n        var msg_type = msg['type'];\n\n        // Call the  \"handle_{type}\" callback, which takes\n        // the figure and JSON message as its only arguments.\n        try {\n            var callback = fig['handle_' + msg_type];\n        } catch (e) {\n            console.log(\n                \"No handler for the '\" + msg_type + \"' message type: \",\n                msg\n            );\n            return;\n        }\n\n        if (callback) {\n            try {\n                // console.log(\"Handling '\" + msg_type + \"' message: \", msg);\n                callback(fig, msg);\n            } catch (e) {\n                console.log(\n                    \"Exception inside the 'handler_\" + msg_type + \"' callback:\",\n                    e,\n                    e.stack,\n                    msg\n                );\n            }\n        }\n    };\n};\n\n// from https://stackoverflow.com/questions/1114465/getting-mouse-location-in-canvas\nmpl.findpos = function (e) {\n    //this section is from http://www.quirksmode.org/js/events_properties.html\n    var targ;\n    if (!e) {\n        e = window.event;\n    }\n    if (e.target) {\n        targ = e.target;\n    } else if (e.srcElement) {\n        targ = e.srcElement;\n    }\n    if (targ.nodeType === 3) {\n        // defeat Safari bug\n        targ = targ.parentNode;\n    }\n\n    // pageX,Y are the mouse positions relative to the document\n    var boundingRect = targ.getBoundingClientRect();\n    var x = e.pageX - (boundingRect.left + document.body.scrollLeft);\n    var y = e.pageY - (boundingRect.top + document.body.scrollTop);\n\n    return { x: x, y: y };\n};\n\n/*\n * return a copy of an object with only non-object keys\n * we need this to avoid circular references\n * https://stackoverflow.com/a/24161582/3208463\n */\nfunction simpleKeys(original) {\n    return Object.keys(original).reduce(function (obj, key) {\n        if (typeof original[key] !== 'object') {\n            obj[key] = original[key];\n        }\n        return obj;\n    }, {});\n}\n\nmpl.figure.prototype.mouse_event = function (event, name) {\n    var canvas_pos = mpl.findpos(event);\n\n    if (name === 'button_press') {\n        this.canvas.focus();\n        this.canvas_div.focus();\n    }\n\n    var x = canvas_pos.x * this.ratio;\n    var y = canvas_pos.y * this.ratio;\n\n    this.send_message(name, {\n        x: x,\n        y: y,\n        button: event.button,\n        step: event.step,\n        guiEvent: simpleKeys(event),\n    });\n\n    /* This prevents the web browser from automatically changing to\n     * the text insertion cursor when the button is pressed.  We want\n     * to control all of the cursor setting manually through the\n     * 'cursor' event from matplotlib */\n    event.preventDefault();\n    return false;\n};\n\nmpl.figure.prototype._key_event_extra = function (_event, _name) {\n    // Handle any extra behaviour associated with a key event\n};\n\nmpl.figure.prototype.key_event = function (event, name) {\n    // Prevent repeat events\n    if (name === 'key_press') {\n        if (event.key === this._key) {\n            return;\n        } else {\n            this._key = event.key;\n        }\n    }\n    if (name === 'key_release') {\n        this._key = null;\n    }\n\n    var value = '';\n    if (event.ctrlKey && event.key !== 'Control') {\n        value += 'ctrl+';\n    }\n    else if (event.altKey && event.key !== 'Alt') {\n        value += 'alt+';\n    }\n    else if (event.shiftKey && event.key !== 'Shift') {\n        value += 'shift+';\n    }\n\n    value += 'k' + event.key;\n\n    this._key_event_extra(event, name);\n\n    this.send_message(name, { key: value, guiEvent: simpleKeys(event) });\n    return false;\n};\n\nmpl.figure.prototype.toolbar_button_onclick = function (name) {\n    if (name === 'download') {\n        this.handle_save(this, null);\n    } else {\n        this.send_message('toolbar_button', { name: name });\n    }\n};\n\nmpl.figure.prototype.toolbar_button_onmouseover = function (tooltip) {\n    this.message.textContent = tooltip;\n};\n\n///////////////// REMAINING CONTENT GENERATED BY embed_js.py /////////////////\n// prettier-ignore\nvar _JSXTOOLS_RESIZE_OBSERVER=function(A){var t,i=new WeakMap,n=new WeakMap,a=new WeakMap,r=new WeakMap,o=new Set;function s(e){if(!(this instanceof s))throw new TypeError(\"Constructor requires 'new' operator\");i.set(this,e)}function h(){throw new TypeError(\"Function is not a constructor\")}function c(e,t,i,n){e=0 in arguments?Number(arguments[0]):0,t=1 in arguments?Number(arguments[1]):0,i=2 in arguments?Number(arguments[2]):0,n=3 in arguments?Number(arguments[3]):0,this.right=(this.x=this.left=e)+(this.width=i),this.bottom=(this.y=this.top=t)+(this.height=n),Object.freeze(this)}function d(){t=requestAnimationFrame(d);var s=new WeakMap,p=new Set;o.forEach((function(t){r.get(t).forEach((function(i){var r=t instanceof window.SVGElement,o=a.get(t),d=r?0:parseFloat(o.paddingTop),f=r?0:parseFloat(o.paddingRight),l=r?0:parseFloat(o.paddingBottom),u=r?0:parseFloat(o.paddingLeft),g=r?0:parseFloat(o.borderTopWidth),m=r?0:parseFloat(o.borderRightWidth),w=r?0:parseFloat(o.borderBottomWidth),b=u+f,F=d+l,v=(r?0:parseFloat(o.borderLeftWidth))+m,W=g+w,y=r?0:t.offsetHeight-W-t.clientHeight,E=r?0:t.offsetWidth-v-t.clientWidth,R=b+v,z=F+W,M=r?t.width:parseFloat(o.width)-R-E,O=r?t.height:parseFloat(o.height)-z-y;if(n.has(t)){var k=n.get(t);if(k[0]===M&&k[1]===O)return}n.set(t,[M,O]);var S=Object.create(h.prototype);S.target=t,S.contentRect=new c(u,d,M,O),s.has(i)||(s.set(i,[]),p.add(i)),s.get(i).push(S)}))})),p.forEach((function(e){i.get(e).call(e,s.get(e),e)}))}return s.prototype.observe=function(i){if(i instanceof window.Element){r.has(i)||(r.set(i,new Set),o.add(i),a.set(i,window.getComputedStyle(i)));var n=r.get(i);n.has(this)||n.add(this),cancelAnimationFrame(t),t=requestAnimationFrame(d)}},s.prototype.unobserve=function(i){if(i instanceof window.Element&&r.has(i)){var n=r.get(i);n.has(this)&&(n.delete(this),n.size||(r.delete(i),o.delete(i))),n.size||r.delete(i),o.size||cancelAnimationFrame(t)}},A.DOMRectReadOnly=c,A.ResizeObserver=s,A.ResizeObserverEntry=h,A}; // eslint-disable-line\nmpl.toolbar_items = [[\"Home\", \"Reset original view\", \"fa fa-home icon-home\", \"home\"], [\"Back\", \"Back to previous view\", \"fa fa-arrow-left icon-arrow-left\", \"back\"], [\"Forward\", \"Forward to next view\", \"fa fa-arrow-right icon-arrow-right\", \"forward\"], [\"\", \"\", \"\", \"\"], [\"Pan\", \"Left button pans, Right button zooms\\nx/y fixes axis, CTRL fixes aspect\", \"fa fa-arrows icon-move\", \"pan\"], [\"Zoom\", \"Zoom to rectangle\\nx/y fixes axis\", \"fa fa-square-o icon-check-empty\", \"zoom\"], [\"\", \"\", \"\", \"\"], [\"Download\", \"Download plot\", \"fa fa-floppy-o icon-save\", \"download\"]];\n\nmpl.extensions = [\"eps\", \"jpeg\", \"pgf\", \"pdf\", \"png\", \"ps\", \"raw\", \"svg\", \"tif\"];\n\nmpl.default_extension = \"png\";/* global mpl */\n\nvar comm_websocket_adapter = function (comm) {\n    // Create a \"websocket\"-like object which calls the given IPython comm\n    // object with the appropriate methods. Currently this is a non binary\n    // socket, so there is still some room for performance tuning.\n    var ws = {};\n\n    ws.binaryType = comm.kernel.ws.binaryType;\n    ws.readyState = comm.kernel.ws.readyState;\n    function updateReadyState(_event) {\n        if (comm.kernel.ws) {\n            ws.readyState = comm.kernel.ws.readyState;\n        } else {\n            ws.readyState = 3; // Closed state.\n        }\n    }\n    comm.kernel.ws.addEventListener('open', updateReadyState);\n    comm.kernel.ws.addEventListener('close', updateReadyState);\n    comm.kernel.ws.addEventListener('error', updateReadyState);\n\n    ws.close = function () {\n        comm.close();\n    };\n    ws.send = function (m) {\n        //console.log('sending', m);\n        comm.send(m);\n    };\n    // Register the callback with on_msg.\n    comm.on_msg(function (msg) {\n        //console.log('receiving', msg['content']['data'], msg);\n        var data = msg['content']['data'];\n        if (data['blob'] !== undefined) {\n            data = {\n                data: new Blob(msg['buffers'], { type: data['blob'] }),\n            };\n        }\n        // Pass the mpl event to the overridden (by mpl) onmessage function.\n        ws.onmessage(data);\n    });\n    return ws;\n};\n\nmpl.mpl_figure_comm = function (comm, msg) {\n    // This is the function which gets called when the mpl process\n    // starts-up an IPython Comm through the \"matplotlib\" channel.\n\n    var id = msg.content.data.id;\n    // Get hold of the div created by the display call when the Comm\n    // socket was opened in Python.\n    var element = document.getElementById(id);\n    var ws_proxy = comm_websocket_adapter(comm);\n\n    function ondownload(figure, _format) {\n        window.open(figure.canvas.toDataURL());\n    }\n\n    var fig = new mpl.figure(id, ws_proxy, ondownload, element);\n\n    // Call onopen now - mpl needs it, as it is assuming we've passed it a real\n    // web socket which is closed, not our websocket->open comm proxy.\n    ws_proxy.onopen();\n\n    fig.parent_element = element;\n    fig.cell_info = mpl.find_output_cell(\"<div id='\" + id + \"'></div>\");\n    if (!fig.cell_info) {\n        console.error('Failed to find cell for figure', id, fig);\n        return;\n    }\n    fig.cell_info[0].output_area.element.on(\n        'cleared',\n        { fig: fig },\n        fig._remove_fig_handler\n    );\n};\n\nmpl.figure.prototype.handle_close = function (fig, msg) {\n    var width = fig.canvas.width / fig.ratio;\n    fig.cell_info[0].output_area.element.off(\n        'cleared',\n        fig._remove_fig_handler\n    );\n    fig.resizeObserverInstance.unobserve(fig.canvas_div);\n\n    // Update the output cell to use the data from the current canvas.\n    fig.push_to_output();\n    var dataURL = fig.canvas.toDataURL();\n    // Re-enable the keyboard manager in IPython - without this line, in FF,\n    // the notebook keyboard shortcuts fail.\n    IPython.keyboard_manager.enable();\n    fig.parent_element.innerHTML =\n        '<img src=\"' + dataURL + '\" width=\"' + width + '\">';\n    fig.close_ws(fig, msg);\n};\n\nmpl.figure.prototype.close_ws = function (fig, msg) {\n    fig.send_message('closing', msg);\n    // fig.ws.close()\n};\n\nmpl.figure.prototype.push_to_output = function (_remove_interactive) {\n    // Turn the data on the canvas into data in the output cell.\n    var width = this.canvas.width / this.ratio;\n    var dataURL = this.canvas.toDataURL();\n    this.cell_info[1]['text/html'] =\n        '<img src=\"' + dataURL + '\" width=\"' + width + '\">';\n};\n\nmpl.figure.prototype.updated_canvas_event = function () {\n    // Tell IPython that the notebook contents must change.\n    IPython.notebook.set_dirty(true);\n    this.send_message('ack', {});\n    var fig = this;\n    // Wait a second, then push the new image to the DOM so\n    // that it is saved nicely (might be nice to debounce this).\n    setTimeout(function () {\n        fig.push_to_output();\n    }, 1000);\n};\n\nmpl.figure.prototype._init_toolbar = function () {\n    var fig = this;\n\n    var toolbar = document.createElement('div');\n    toolbar.classList = 'btn-toolbar';\n    this.root.appendChild(toolbar);\n\n    function on_click_closure(name) {\n        return function (_event) {\n            return fig.toolbar_button_onclick(name);\n        };\n    }\n\n    function on_mouseover_closure(tooltip) {\n        return function (event) {\n            if (!event.currentTarget.disabled) {\n                return fig.toolbar_button_onmouseover(tooltip);\n            }\n        };\n    }\n\n    fig.buttons = {};\n    var buttonGroup = document.createElement('div');\n    buttonGroup.classList = 'btn-group';\n    var button;\n    for (var toolbar_ind in mpl.toolbar_items) {\n        var name = mpl.toolbar_items[toolbar_ind][0];\n        var tooltip = mpl.toolbar_items[toolbar_ind][1];\n        var image = mpl.toolbar_items[toolbar_ind][2];\n        var method_name = mpl.toolbar_items[toolbar_ind][3];\n\n        if (!name) {\n            /* Instead of a spacer, we start a new button group. */\n            if (buttonGroup.hasChildNodes()) {\n                toolbar.appendChild(buttonGroup);\n            }\n            buttonGroup = document.createElement('div');\n            buttonGroup.classList = 'btn-group';\n            continue;\n        }\n\n        button = fig.buttons[name] = document.createElement('button');\n        button.classList = 'btn btn-default';\n        button.href = '#';\n        button.title = name;\n        button.innerHTML = '<i class=\"fa ' + image + ' fa-lg\"></i>';\n        button.addEventListener('click', on_click_closure(method_name));\n        button.addEventListener('mouseover', on_mouseover_closure(tooltip));\n        buttonGroup.appendChild(button);\n    }\n\n    if (buttonGroup.hasChildNodes()) {\n        toolbar.appendChild(buttonGroup);\n    }\n\n    // Add the status bar.\n    var status_bar = document.createElement('span');\n    status_bar.classList = 'mpl-message pull-right';\n    toolbar.appendChild(status_bar);\n    this.message = status_bar;\n\n    // Add the close button to the window.\n    var buttongrp = document.createElement('div');\n    buttongrp.classList = 'btn-group inline pull-right';\n    button = document.createElement('button');\n    button.classList = 'btn btn-mini btn-primary';\n    button.href = '#';\n    button.title = 'Stop Interaction';\n    button.innerHTML = '<i class=\"fa fa-power-off icon-remove icon-large\"></i>';\n    button.addEventListener('click', function (_evt) {\n        fig.handle_close(fig, {});\n    });\n    button.addEventListener(\n        'mouseover',\n        on_mouseover_closure('Stop Interaction')\n    );\n    buttongrp.appendChild(button);\n    var titlebar = this.root.querySelector('.ui-dialog-titlebar');\n    titlebar.insertBefore(buttongrp, titlebar.firstChild);\n};\n\nmpl.figure.prototype._remove_fig_handler = function (event) {\n    var fig = event.data.fig;\n    if (event.target !== this) {\n        // Ignore bubbled events from children.\n        return;\n    }\n    fig.close_ws(fig, {});\n};\n\nmpl.figure.prototype._root_extra_style = function (el) {\n    el.style.boxSizing = 'content-box'; // override notebook setting of border-box.\n};\n\nmpl.figure.prototype._canvas_extra_style = function (el) {\n    // this is important to make the div 'focusable\n    el.setAttribute('tabindex', 0);\n    // reach out to IPython and tell the keyboard manager to turn it's self\n    // off when our div gets focus\n\n    // location in version 3\n    if (IPython.notebook.keyboard_manager) {\n        IPython.notebook.keyboard_manager.register_events(el);\n    } else {\n        // location in version 2\n        IPython.keyboard_manager.register_events(el);\n    }\n};\n\nmpl.figure.prototype._key_event_extra = function (event, _name) {\n    // Check for shift+enter\n    if (event.shiftKey && event.which === 13) {\n        this.canvas_div.blur();\n        // select the cell after this one\n        var index = IPython.notebook.find_cell_index(this.cell_info[0]);\n        IPython.notebook.select(index + 1);\n    }\n};\n\nmpl.figure.prototype.handle_save = function (fig, _msg) {\n    fig.ondownload(fig, null);\n};\n\nmpl.find_output_cell = function (html_output) {\n    // Return the cell and output element which can be found *uniquely* in the notebook.\n    // Note - this is a bit hacky, but it is done because the \"notebook_saving.Notebook\"\n    // IPython event is triggered only after the cells have been serialised, which for\n    // our purposes (turning an active figure into a static one), is too late.\n    var cells = IPython.notebook.get_cells();\n    var ncells = cells.length;\n    for (var i = 0; i < ncells; i++) {\n        var cell = cells[i];\n        if (cell.cell_type === 'code') {\n            for (var j = 0; j < cell.output_area.outputs.length; j++) {\n                var data = cell.output_area.outputs[j];\n                if (data.data) {\n                    // IPython >= 3 moved mimebundle to data attribute of output\n                    data = data.data;\n                }\n                if (data['text/html'] === html_output) {\n                    return [cell, data, j];\n                }\n            }\n        }\n    }\n};\n\n// Register the function which deals with the matplotlib target/channel.\n// The kernel may be null if the page has been refreshed.\nif (IPython.notebook.kernel !== null) {\n    IPython.notebook.kernel.comm_manager.register_target(\n        'matplotlib',\n        mpl.mpl_figure_comm\n    );\n}\n",
          "text/plain": "<IPython.core.display.Javascript object>"
         },
         "metadata": {},
         "output_type": "display_data"
        },
        {
         "data": {
          "text/html": "<div id='37d38211-32da-4e8c-9354-1c82c3551e52'></div>",
          "text/plain": "<IPython.core.display.HTML object>"
         },
         "metadata": {},
         "output_type": "display_data"
        }
       ]
      }
     },
     "d99be4ce41df469092ce7a6ca05e21cd": {
      "model_module": "@jupyter-widgets/base",
      "model_module_version": "1.2.0",
      "model_name": "LayoutModel",
      "state": {}
     },
     "da0024b781964fbf934797bd10730888": {
      "model_module": "@jupyter-widgets/controls",
      "model_module_version": "1.5.0",
      "model_name": "FloatTextModel",
      "state": {
       "description": "Set margin pixels",
       "layout": "IPY_MODEL_1909d140350a4331a74f2069331a3c00",
       "step": null,
       "style": "IPY_MODEL_e3faec8302494e28af5352c43db87e62",
       "value": 10
      }
     },
     "da506fa2514f43b38b79a650a61daf77": {
      "model_module": "@jupyter-widgets/controls",
      "model_module_version": "1.5.0",
      "model_name": "HBoxModel",
      "state": {
       "children": [
        "IPY_MODEL_0885154db267475786841885cd4e8bb4",
        "IPY_MODEL_cc0a206785cc4514a385969f5de14439"
       ],
       "layout": "IPY_MODEL_46d048e2732c424bbbf82532b1463207"
      }
     },
     "da713665c0ee4eb4a39b38547da8554a": {
      "model_module": "@jupyter-widgets/controls",
      "model_module_version": "1.5.0",
      "model_name": "HBoxModel",
      "state": {
       "children": [
        "IPY_MODEL_8e47ebe23e644c6ea5fe3af494a22cde",
        "IPY_MODEL_6e2adbf7035b4185bc24089c278f856a"
       ],
       "layout": "IPY_MODEL_5678a873ae0847d4a76df36ab0157a07"
      }
     },
     "da9aa3bd73f844ff9bbbeaa43cf90ff8": {
      "model_module": "@jupyter-widgets/controls",
      "model_module_version": "1.5.0",
      "model_name": "LabelModel",
      "state": {
       "layout": "IPY_MODEL_0df9987234d949d3a653e70b86abc939",
       "style": "IPY_MODEL_75d59f9ad2174db3bb8195114e96cc2f",
       "value": "Electrode solvent"
      }
     },
     "dac97304def9480e9c04e5c01b763f27": {
      "model_module": "@jupyter-widgets/controls",
      "model_module_version": "1.5.0",
      "model_name": "HBoxModel",
      "state": {
       "children": [
        "IPY_MODEL_73677f10a54d4d3fa156df82671cc17c",
        "IPY_MODEL_eccf644007e047f7810ab308143fe348"
       ],
       "layout": "IPY_MODEL_9f00a1725efe42cd9a82d59bd72de5a7"
      }
     },
     "dadb6cf1a2384b4db88a6d0443a03260": {
      "model_module": "@jupyter-widgets/controls",
      "model_module_version": "1.5.0",
      "model_name": "DescriptionStyleModel",
      "state": {
       "description_width": ""
      }
     },
     "dadc47c65fbc4ff6b4ba4cef0237433e": {
      "model_module": "@jupyter-widgets/controls",
      "model_module_version": "1.5.0",
      "model_name": "LabelModel",
      "state": {
       "layout": "IPY_MODEL_effe09f8bc7547e485e4d0447b61829c",
       "style": "IPY_MODEL_77d0b94d6ab74c7fb3f1dea33b653303",
       "value": "Reload previous data"
      }
     },
     "daec617794184ff8950c8ba691ee5e95": {
      "model_module": "@jupyter-widgets/controls",
      "model_module_version": "1.5.0",
      "model_name": "DescriptionStyleModel",
      "state": {
       "description_width": ""
      }
     },
     "daf58a1aa64e4010ba4c215ab64850c8": {
      "model_module": "@jupyter-widgets/controls",
      "model_module_version": "1.5.0",
      "model_name": "DescriptionStyleModel",
      "state": {
       "description_width": ""
      }
     },
     "db0acc2a85f44167a1a841dcdb9d7f5d": {
      "model_module": "@jupyter-widgets/controls",
      "model_module_version": "1.5.0",
      "model_name": "VBoxModel",
      "state": {
       "children": [
        "IPY_MODEL_a334ad53fcfd49f795f1759fecea7bb0",
        "IPY_MODEL_ba20b8c3f33646898c93da61d891cb9e",
        "IPY_MODEL_622b873011e1434ab50243c6d8d38095",
        "IPY_MODEL_34d4f8101ef344629b821ac1c49264af",
        "IPY_MODEL_301b1a365ca541ec9d7ccda1270fe0f5"
       ],
       "layout": "IPY_MODEL_2d3b8ff52b324a618d6a74e98b3a04b6"
      }
     },
     "db20f3ba946940318e1c251610447cab": {
      "model_module": "@jupyter-widgets/base",
      "model_module_version": "1.2.0",
      "model_name": "LayoutModel",
      "state": {}
     },
     "db27039b7fd04cbc999ab46c888fb9b0": {
      "model_module": "@jupyter-widgets/base",
      "model_module_version": "1.2.0",
      "model_name": "LayoutModel",
      "state": {}
     },
     "db62062cdb704f6eabf2e5909cf96865": {
      "model_module": "@jupyter-widgets/controls",
      "model_module_version": "1.5.0",
      "model_name": "HBoxModel",
      "state": {
       "children": [
        "IPY_MODEL_347c6d1618064fc098b2a574278fd187",
        "IPY_MODEL_0418611053be48daa5b053a9e1db0835"
       ],
       "layout": "IPY_MODEL_088111522c4849dca2acd54d047fa899"
      }
     },
     "db7bd09d652f498f8245333b48d350a4": {
      "model_module": "@jupyter-widgets/controls",
      "model_module_version": "1.5.0",
      "model_name": "DescriptionStyleModel",
      "state": {
       "description_width": ""
      }
     },
     "dbae443601974453a69fbdcab70e1ce7": {
      "model_module": "@jupyter-widgets/base",
      "model_module_version": "1.2.0",
      "model_name": "LayoutModel",
      "state": {}
     },
     "dbaf7b472e7c41038ff71b8fd4e87e0f": {
      "model_module": "@jupyter-widgets/controls",
      "model_module_version": "1.5.0",
      "model_name": "DescriptionStyleModel",
      "state": {
       "description_width": ""
      }
     },
     "dbccefbabcfb452f992a9b0494957acb": {
      "model_module": "@jupyter-widgets/controls",
      "model_module_version": "1.5.0",
      "model_name": "HBoxModel",
      "state": {
       "children": [
        "IPY_MODEL_35fac1495fa14df1af2c7526517395ea",
        "IPY_MODEL_7672e9f4ee3543439a00d784e2c8ac10"
       ],
       "layout": "IPY_MODEL_a4011b980abf45cdb9477eabc6b7b620"
      }
     },
     "dc3747c33462424db10eb260fb24c7e9": {
      "model_module": "@jupyter-widgets/controls",
      "model_module_version": "1.5.0",
      "model_name": "TextModel",
      "state": {
       "layout": "IPY_MODEL_2ea41123ef6e432a9de67807cb2dd325",
       "style": "IPY_MODEL_f4d92cfe2c1b4a83aae2089107ea957f"
      }
     },
     "dc42925f28bf4a0191505ea45f51fff0": {
      "model_module": "@jupyter-widgets/base",
      "model_module_version": "1.2.0",
      "model_name": "LayoutModel",
      "state": {}
     },
     "dc67ccc44ca247c7b502f1b11fa265b7": {
      "model_module": "@jupyter-widgets/controls",
      "model_module_version": "1.5.0",
      "model_name": "DescriptionStyleModel",
      "state": {
       "description_width": ""
      }
     },
     "dc88d91f2d4348069230bedffaece760": {
      "model_module": "@jupyter-widgets/controls",
      "model_module_version": "1.5.0",
      "model_name": "DescriptionStyleModel",
      "state": {
       "description_width": ""
      }
     },
     "dca2f121781e4ca49f74b3edab4a9127": {
      "model_module": "@jupyter-widgets/base",
      "model_module_version": "1.2.0",
      "model_name": "LayoutModel",
      "state": {}
     },
     "dd019dc71b3d40b6a669c086febbba93": {
      "model_module": "@jupyter-widgets/controls",
      "model_module_version": "1.5.0",
      "model_name": "LabelModel",
      "state": {
       "layout": "IPY_MODEL_0df9987234d949d3a653e70b86abc939",
       "style": "IPY_MODEL_48b0cfea787e4851aa1a6646a4427726",
       "value": "Binder content (wt%)"
      }
     },
     "dd46d9b4fb2140ae9b04a8a4350c9168": {
      "model_module": "@jupyter-widgets/base",
      "model_module_version": "1.2.0",
      "model_name": "LayoutModel",
      "state": {}
     },
     "dd6d4a361b5d4ebdaedf28bf5d5138ec": {
      "model_module": "@jupyter-widgets/controls",
      "model_module_version": "1.5.0",
      "model_name": "ButtonModel",
      "state": {
       "description": "Select Files",
       "icon": "square-o",
       "layout": "IPY_MODEL_9f7427c98d1c498383f8c1ca3e2ec92b",
       "style": "IPY_MODEL_edc21393beef4bdba4a170f5c7af66e5"
      }
     },
     "dda1ecdf5169461facc687d35d787412": {
      "model_module": "@jupyter-widgets/controls",
      "model_module_version": "1.5.0",
      "model_name": "TextModel",
      "state": {
       "layout": "IPY_MODEL_2ea41123ef6e432a9de67807cb2dd325",
       "style": "IPY_MODEL_eb3933d3d152424b99aad0f78016d52e"
      }
     },
     "ddf70d2cd6704edf81174786de672118": {
      "model_module": "@jupyter-widgets/controls",
      "model_module_version": "1.5.0",
      "model_name": "HBoxModel",
      "state": {
       "children": [
        "IPY_MODEL_84515c4d60cd4ef887733df693234f42",
        "IPY_MODEL_bae751150fc144ca9b5fd43e760cabe8",
        "IPY_MODEL_50811d07ae5c49c9b52f304690ba89ac"
       ],
       "layout": "IPY_MODEL_5dc3de42945946268d2e555048359fd4"
      }
     },
     "de57a4279b65433098feecc3f5ebf0bc": {
      "model_module": "@jupyter-widgets/controls",
      "model_module_version": "1.5.0",
      "model_name": "ButtonModel",
      "state": {
       "description": "Select Files",
       "icon": "square-o",
       "layout": "IPY_MODEL_af9c010402294b1ea1435f5aa5d79b81",
       "style": "IPY_MODEL_680606daa3354bbdb83a9521a3a74703"
      }
     },
     "df056be884f74abb8121756f82f63b91": {
      "model_module": "@jupyter-widgets/controls",
      "model_module_version": "1.5.0",
      "model_name": "AccordionModel",
      "state": {
       "_titles": {
        "0": 1
       },
       "children": [
        "IPY_MODEL_29a1cafc6df6452780885be9dd59f50d"
       ],
       "layout": "IPY_MODEL_8522a1ae8f5d4393af224ae40d727d04"
      }
     },
     "df278655acf444dea6e098c055010741": {
      "model_module": "@jupyter-widgets/base",
      "model_module_version": "1.2.0",
      "model_name": "LayoutModel",
      "state": {}
     },
     "df6576c8e080439daf88a1738e4301b9": {
      "model_module": "@jupyter-widgets/controls",
      "model_module_version": "1.5.0",
      "model_name": "HBoxModel",
      "state": {
       "children": [
        "IPY_MODEL_b933b9662c12428f9715e861616ffa39",
        "IPY_MODEL_96acd8f04010497b83d970250d170b39",
        "IPY_MODEL_6b7fb299647947c6a5478099fd040807"
       ],
       "layout": "IPY_MODEL_8b4b11ab5fb2433a833179f02f6bbdf4"
      }
     },
     "df8dabe8341f49d7be4d0780e7442ee7": {
      "model_module": "@jupyter-widgets/controls",
      "model_module_version": "1.5.0",
      "model_name": "DescriptionStyleModel",
      "state": {
       "description_width": ""
      }
     },
     "dfa294a358ce4293b35489c8e551d9ba": {
      "model_module": "@jupyter-widgets/controls",
      "model_module_version": "1.5.0",
      "model_name": "ButtonStyleModel",
      "state": {}
     },
     "dfb8f56d5e894cf197dcb07c85e538f8": {
      "model_module": "@jupyter-widgets/base",
      "model_module_version": "1.2.0",
      "model_name": "LayoutModel",
      "state": {}
     },
     "e0124640d72d4779bbd8f71d353fbeec": {
      "model_module": "@jupyter-widgets/controls",
      "model_module_version": "1.5.0",
      "model_name": "DescriptionStyleModel",
      "state": {
       "description_width": ""
      }
     },
     "e014e0554ff941ce87a9fe1d92dc2bee": {
      "model_module": "@jupyter-widgets/controls",
      "model_module_version": "1.5.0",
      "model_name": "VBoxModel",
      "state": {
       "children": [
        "IPY_MODEL_37d8cbd197224bb7a0c98af590618019",
        "IPY_MODEL_e2687718da3549beb063d55fa2d4cd94",
        "IPY_MODEL_72dc9083b3f14e188fc55f7a7755a2c5"
       ],
       "layout": "IPY_MODEL_52d95932b86b47f8a6a62e95aabed02b"
      }
     },
     "e01581c10962445bb41242c3a7564a4c": {
      "model_module": "@jupyter-widgets/controls",
      "model_module_version": "1.5.0",
      "model_name": "DescriptionStyleModel",
      "state": {
       "description_width": ""
      }
     },
     "e015f0c5bd0a488abd76fea85fb12403": {
      "model_module": "@jupyter-widgets/controls",
      "model_module_version": "1.5.0",
      "model_name": "DescriptionStyleModel",
      "state": {
       "description_width": ""
      }
     },
     "e017eea60497451bb7d7258dd7441c0a": {
      "model_module": "@jupyter-widgets/controls",
      "model_module_version": "1.5.0",
      "model_name": "DescriptionStyleModel",
      "state": {
       "description_width": ""
      }
     },
     "e059b0978b284f0aad91724f10deb20d": {
      "model_module": "@jupyter-widgets/base",
      "model_module_version": "1.2.0",
      "model_name": "LayoutModel",
      "state": {}
     },
     "e08012a41117493ab9e9f1005a6d1c8b": {
      "model_module": "@jupyter-widgets/controls",
      "model_module_version": "1.5.0",
      "model_name": "ButtonStyleModel",
      "state": {}
     },
     "e0c715e281c8493fb4dfb3999ccb3c02": {
      "model_module": "@jupyter-widgets/base",
      "model_module_version": "1.2.0",
      "model_name": "LayoutModel",
      "state": {}
     },
     "e0e79398579c472ea73a97b4c22232a9": {
      "model_module": "@jupyter-widgets/controls",
      "model_module_version": "1.5.0",
      "model_name": "DescriptionStyleModel",
      "state": {
       "description_width": ""
      }
     },
     "e126b3fca92c4e119b7893cbed66cda3": {
      "model_module": "@jupyter-widgets/base",
      "model_module_version": "1.2.0",
      "model_name": "LayoutModel",
      "state": {}
     },
     "e12933ec60ce4073a481f1e1ff42cc55": {
      "model_module": "@jupyter-widgets/controls",
      "model_module_version": "1.5.0",
      "model_name": "HBoxModel",
      "state": {
       "children": [
        "IPY_MODEL_01f87ede2f564d5cb62e6d6e25a229c2",
        "IPY_MODEL_f2b67c25483b423b8ab09ff1d83273aa"
       ],
       "layout": "IPY_MODEL_dbae443601974453a69fbdcab70e1ce7"
      }
     },
     "e12a6e9f6aa84e5f940d10c55755024c": {
      "model_module": "@jupyter-widgets/base",
      "model_module_version": "1.2.0",
      "model_name": "LayoutModel",
      "state": {}
     },
     "e197ff873fb14959bceb70e28b9d886c": {
      "model_module": "@jupyter-widgets/base",
      "model_module_version": "1.2.0",
      "model_name": "LayoutModel",
      "state": {}
     },
     "e1e1b95d18794dfaa603fff54c4323e2": {
      "model_module": "@jupyter-widgets/base",
      "model_module_version": "1.2.0",
      "model_name": "LayoutModel",
      "state": {}
     },
     "e2022d0e4f0f4a3d80e6d0787ce432f6": {
      "model_module": "@jupyter-widgets/base",
      "model_module_version": "1.2.0",
      "model_name": "LayoutModel",
      "state": {}
     },
     "e21d5ff03f6c41c89d07a712f52a765e": {
      "model_module": "@jupyter-widgets/base",
      "model_module_version": "1.2.0",
      "model_name": "LayoutModel",
      "state": {}
     },
     "e234066adc3546e68ad6ff4834bc3369": {
      "model_module": "@jupyter-widgets/controls",
      "model_module_version": "1.5.0",
      "model_name": "TextModel",
      "state": {
       "layout": "IPY_MODEL_2ea41123ef6e432a9de67807cb2dd325",
       "style": "IPY_MODEL_dadb6cf1a2384b4db88a6d0443a03260"
      }
     },
     "e25c7f97ba844733b02b5f75f95dae3b": {
      "model_module": "@jupyter-widgets/controls",
      "model_module_version": "1.5.0",
      "model_name": "DescriptionStyleModel",
      "state": {
       "description_width": ""
      }
     },
     "e2687718da3549beb063d55fa2d4cd94": {
      "model_module": "@jupyter-widgets/controls",
      "model_module_version": "1.5.0",
      "model_name": "HBoxModel",
      "state": {
       "children": [
        "IPY_MODEL_50fcedc2c92244fc9bdaac024ebebd32",
        "IPY_MODEL_847ab6bad3f548e2bf4b85a1980261c4"
       ],
       "layout": "IPY_MODEL_3ec5f0419417491d98872c7d884ceed1"
      }
     },
     "e26e2d41f1f84b1190483d7b4a8a3be8": {
      "model_module": "@jupyter-widgets/base",
      "model_module_version": "1.2.0",
      "model_name": "LayoutModel",
      "state": {}
     },
     "e2fba56500c44c84a499d19e57f7e1b3": {
      "model_module": "@jupyter-widgets/controls",
      "model_module_version": "1.5.0",
      "model_name": "LabelModel",
      "state": {
       "layout": "IPY_MODEL_effe09f8bc7547e485e4d0447b61829c",
       "style": "IPY_MODEL_9bd515a0a4854e938a9ddefeecfe14e0",
       "value": "Conductive additive"
      }
     },
     "e33a55b8179e4d41a6c6d479e5cc5f92": {
      "model_module": "@jupyter-widgets/controls",
      "model_module_version": "1.5.0",
      "model_name": "DescriptionStyleModel",
      "state": {
       "description_width": ""
      }
     },
     "e350c64087284414a0ec4151abe320f1": {
      "model_module": "@jupyter-widgets/controls",
      "model_module_version": "1.5.0",
      "model_name": "LabelModel",
      "state": {
       "layout": "IPY_MODEL_66055f4541a64d2aa03d436c7fbb31c9",
       "style": "IPY_MODEL_2ef6bcca941a44768ed41548b740f8c1",
       "value": "No saved data"
      }
     },
     "e365b5246c504e0899e31dafae7c5340": {
      "model_module": "@jupyter-widgets/controls",
      "model_module_version": "1.5.0",
      "model_name": "HBoxModel",
      "state": {
       "children": [
        "IPY_MODEL_b9a566ffa2ea4acfa396c078c2c4a995",
        "IPY_MODEL_b1c9de26958e4f1999a0b6b8c835d553"
       ],
       "layout": "IPY_MODEL_e1e1b95d18794dfaa603fff54c4323e2"
      }
     },
     "e38c6e55967442fdaebcb7b9520bfd24": {
      "model_module": "@jupyter-widgets/controls",
      "model_module_version": "1.5.0",
      "model_name": "DescriptionStyleModel",
      "state": {
       "description_width": ""
      }
     },
     "e3ce0859ff65461899b50ec95f6964b0": {
      "model_module": "@jupyter-widgets/controls",
      "model_module_version": "1.5.0",
      "model_name": "DescriptionStyleModel",
      "state": {
       "description_width": ""
      }
     },
     "e3ea9bbeccc44f188a7489f20cb25690": {
      "model_module": "@jupyter-widgets/base",
      "model_module_version": "1.2.0",
      "model_name": "LayoutModel",
      "state": {}
     },
     "e3faec8302494e28af5352c43db87e62": {
      "model_module": "@jupyter-widgets/controls",
      "model_module_version": "1.5.0",
      "model_name": "DescriptionStyleModel",
      "state": {
       "description_width": ""
      }
     },
     "e3ffdad76f0b419eb8a39f1ca4eaf241": {
      "model_module": "@jupyter-widgets/base",
      "model_module_version": "1.2.0",
      "model_name": "LayoutModel",
      "state": {}
     },
     "e408d487595d43859f93246b768fe2a8": {
      "model_module": "@jupyter-widgets/controls",
      "model_module_version": "1.5.0",
      "model_name": "FloatTextModel",
      "state": {
       "layout": "IPY_MODEL_305e2c7f6cf14932b05c688429994b76",
       "step": null,
       "style": "IPY_MODEL_a4d9674125834c06be90c3b6b26d8ee2"
      }
     },
     "e4215b6d38ef4bcd9dd169911cc69c7f": {
      "model_module": "@jupyter-widgets/base",
      "model_module_version": "1.2.0",
      "model_name": "LayoutModel",
      "state": {
       "width": "20%"
      }
     },
     "e47a50c5a5fd45b0ab0c261e457eb142": {
      "model_module": "@jupyter-widgets/controls",
      "model_module_version": "1.5.0",
      "model_name": "DescriptionStyleModel",
      "state": {
       "description_width": ""
      }
     },
     "e4845fdfaee74bcca5e3c3d230e85267": {
      "model_module": "@jupyter-widgets/base",
      "model_module_version": "1.2.0",
      "model_name": "LayoutModel",
      "state": {}
     },
     "e4c00064d1c1413588fd97c61c50fbad": {
      "model_module": "@jupyter-widgets/controls",
      "model_module_version": "1.5.0",
      "model_name": "CheckboxModel",
      "state": {
       "description": "Common",
       "disabled": false,
       "indent": false,
       "layout": "IPY_MODEL_32f18455f33041da8f2d6a4737448c5b",
       "style": "IPY_MODEL_af122864557644de95ed7ac2a2baea6b",
       "value": false
      }
     },
     "e4d558ca04344298848062ad6f1fa467": {
      "model_module": "@jupyter-widgets/base",
      "model_module_version": "1.2.0",
      "model_name": "LayoutModel",
      "state": {}
     },
     "e4d6cbbfdf6c46029b63afcd62b71a34": {
      "model_module": "@jupyter-widgets/controls",
      "model_module_version": "1.5.0",
      "model_name": "HBoxModel",
      "state": {
       "children": [
        "IPY_MODEL_39ad0c2a71484bae8b72c9a3b7670f0a",
        "IPY_MODEL_e408d487595d43859f93246b768fe2a8"
       ],
       "layout": "IPY_MODEL_64e8a81fac644937b8e467fbb62fdbdf"
      }
     },
     "e4eb29592df04fd2a200be7250e6d4a6": {
      "model_module": "@jupyter-widgets/controls",
      "model_module_version": "1.5.0",
      "model_name": "LabelModel",
      "state": {
       "layout": "IPY_MODEL_effe09f8bc7547e485e4d0447b61829c",
       "style": "IPY_MODEL_485139f373b34925988542b7c895d5b4",
       "value": "Electrode solvent"
      }
     },
     "e56071b391ae425c88ae1a041f8cdefe": {
      "model_module": "@jupyter-widgets/controls",
      "model_module_version": "1.5.0",
      "model_name": "TextModel",
      "state": {
       "layout": "IPY_MODEL_be250f5f271940d99df09bde7e05d47d",
       "style": "IPY_MODEL_781549a4c4dc4c3fad3a3c1cc83725c5"
      }
     },
     "e5a195ba80c8465ab05a3e9ad8e0101d": {
      "model_module": "@jupyter-widgets/controls",
      "model_module_version": "1.5.0",
      "model_name": "DescriptionStyleModel",
      "state": {
       "description_width": ""
      }
     },
     "e5cd2ddde39a48769392a5a3587dc6fb": {
      "model_module": "@jupyter-widgets/base",
      "model_module_version": "1.2.0",
      "model_name": "LayoutModel",
      "state": {}
     },
     "e5d927bb23b34f739768ddbfb7aa1ddc": {
      "model_module": "@jupyter-widgets/controls",
      "model_module_version": "1.5.0",
      "model_name": "HBoxModel",
      "state": {
       "children": [
        "IPY_MODEL_d67fbfea85174cc186b59bd555934ccc",
        "IPY_MODEL_1091d4d918114aaf86bae12425c43e43",
        "IPY_MODEL_d65882ca1d77492eaed0285279bd078f"
       ],
       "layout": "IPY_MODEL_0d9d4e0165e4479484d3cd345517de8e"
      }
     },
     "e5ddc0da96514c68abf1d779dad023b2": {
      "model_module": "@jupyter-widgets/base",
      "model_module_version": "1.2.0",
      "model_name": "LayoutModel",
      "state": {}
     },
     "e628627307ee45dd9871b433e3bb2161": {
      "model_module": "@jupyter-widgets/controls",
      "model_module_version": "1.5.0",
      "model_name": "DescriptionStyleModel",
      "state": {
       "description_width": ""
      }
     },
     "e64a6a9b81284297a5d5bef57b3c1be0": {
      "model_module": "@jupyter-widgets/base",
      "model_module_version": "1.2.0",
      "model_name": "LayoutModel",
      "state": {}
     },
     "e67d59888a6b4dbc8fa601f19766af0c": {
      "model_module": "@jupyter-widgets/controls",
      "model_module_version": "1.5.0",
      "model_name": "DescriptionStyleModel",
      "state": {
       "description_width": ""
      }
     },
     "e6f6bee5f95d4f98b36c6c0ad3e71a9f": {
      "model_module": "@jupyter-widgets/controls",
      "model_module_version": "1.5.0",
      "model_name": "DescriptionStyleModel",
      "state": {
       "description_width": ""
      }
     },
     "e707137dbdf94cf7ba041b6a4deeb8f4": {
      "model_module": "@jupyter-widgets/controls",
      "model_module_version": "1.5.0",
      "model_name": "FloatTextModel",
      "state": {
       "description": "CRate 1",
       "layout": "IPY_MODEL_ad7482c991b742f090a7215892771405",
       "step": null,
       "style": "IPY_MODEL_1f001f0516394513b6f5b6ef7cde3b79"
      }
     },
     "e714f9f5a62e42e886686a655f895229": {
      "model_module": "@jupyter-widgets/controls",
      "model_module_version": "1.5.0",
      "model_name": "LabelModel",
      "state": {
       "layout": "IPY_MODEL_effe09f8bc7547e485e4d0447b61829c",
       "style": "IPY_MODEL_4bc09fc762884348bcfaa56261b2a056",
       "value": "Carbon source"
      }
     },
     "e7165b92881f49e1b836e601ceee0c4e": {
      "model_module": "@jupyter-widgets/controls",
      "model_module_version": "1.5.0",
      "model_name": "LabelModel",
      "state": {
       "layout": "IPY_MODEL_0df9987234d949d3a653e70b86abc939",
       "style": "IPY_MODEL_240c56f0553c48ee85e85de2e6124758",
       "value": "Binder content (wt%)"
      }
     },
     "e722e436a54144c5bfeafe19a2d94b32": {
      "model_module": "@jupyter-widgets/controls",
      "model_module_version": "1.5.0",
      "model_name": "LabelModel",
      "state": {
       "layout": "IPY_MODEL_effe09f8bc7547e485e4d0447b61829c",
       "style": "IPY_MODEL_249a3f1881f7457bad151da14a9a14f5",
       "value": "Optional label"
      }
     },
     "e771fcb1c2a242799ac11508484e6fae": {
      "model_module": "@jupyter-widgets/controls",
      "model_module_version": "1.5.0",
      "model_name": "LabelModel",
      "state": {
       "layout": "IPY_MODEL_44e3f61ed55646498cdd08cdc95163e7",
       "style": "IPY_MODEL_2a4ed0fb56924b01bb8b5948b5bb99da",
       "value": "Not yet saved"
      }
     },
     "e7d6fcc101d14728b0b117b91fd27b08": {
      "model_module": "@jupyter-widgets/base",
      "model_module_version": "1.2.0",
      "model_name": "LayoutModel",
      "state": {}
     },
     "e7f4b39947f844b4a2329695b0f59cc5": {
      "model_module": "@jupyter-widgets/controls",
      "model_module_version": "1.5.0",
      "model_name": "DescriptionStyleModel",
      "state": {
       "description_width": ""
      }
     },
     "e801976a97ff41edb3e037f9cb5744b1": {
      "model_module": "@jupyter-widgets/controls",
      "model_module_version": "1.5.0",
      "model_name": "CheckboxModel",
      "state": {
       "description": "Common",
       "disabled": false,
       "indent": false,
       "layout": "IPY_MODEL_eeef256db34e48b0b5b3d6f6f0f4e85a",
       "style": "IPY_MODEL_e67d59888a6b4dbc8fa601f19766af0c",
       "value": false
      }
     },
     "e827cb7f6b6d4beba8005d10ce8fa215": {
      "model_module": "@jupyter-widgets/controls",
      "model_module_version": "1.5.0",
      "model_name": "ButtonModel",
      "state": {
       "description": "Confirm values",
       "layout": "IPY_MODEL_8e2d7de4125b4c1b999ee4f55c299ff4",
       "style": "IPY_MODEL_38b4cef7302a42cf908a1badd72cee78"
      }
     },
     "e8bd3e21ae95459ba2c7f736eee271a7": {
      "model_module": "@jupyter-widgets/controls",
      "model_module_version": "1.5.0",
      "model_name": "DescriptionStyleModel",
      "state": {
       "description_width": ""
      }
     },
     "e8fed8447a06462b9fc0bce2fda9f981": {
      "model_module": "@jupyter-widgets/controls",
      "model_module_version": "1.5.0",
      "model_name": "TextModel",
      "state": {
       "layout": "IPY_MODEL_2ea41123ef6e432a9de67807cb2dd325",
       "style": "IPY_MODEL_c934d328aad8495d9ee5a5b1f1aff609"
      }
     },
     "e910033ac15542e3847ce94172184b0d": {
      "model_module": "@jupyter-widgets/base",
      "model_module_version": "1.2.0",
      "model_name": "LayoutModel",
      "state": {}
     },
     "e92288f4986e4774b6d19984c6c2453b": {
      "model_module": "@jupyter-widgets/controls",
      "model_module_version": "1.5.0",
      "model_name": "ButtonStyleModel",
      "state": {}
     },
     "e92ef404952c4170b885d3afbc8e4764": {
      "model_module": "@jupyter-widgets/controls",
      "model_module_version": "1.5.0",
      "model_name": "HBoxModel",
      "state": {
       "children": [
        "IPY_MODEL_e707137dbdf94cf7ba041b6a4deeb8f4",
        "IPY_MODEL_bc9d8b97e1f3425884c16df911633929"
       ],
       "layout": "IPY_MODEL_ed9abe95af15450da7eabdbec6dab80c"
      }
     },
     "e9315c72290a48c48e5302788e03c9bb": {
      "model_module": "@jupyter-widgets/controls",
      "model_module_version": "1.5.0",
      "model_name": "DescriptionStyleModel",
      "state": {
       "description_width": ""
      }
     },
     "e977d49692bd42628abe559bf26f28cb": {
      "model_module": "@jupyter-widgets/controls",
      "model_module_version": "1.5.0",
      "model_name": "DescriptionStyleModel",
      "state": {
       "description_width": ""
      }
     },
     "e97a7e3fe2174ac098ee29fa76ffbb9b": {
      "model_module": "@jupyter-widgets/controls",
      "model_module_version": "1.5.0",
      "model_name": "TextModel",
      "state": {
       "layout": "IPY_MODEL_be250f5f271940d99df09bde7e05d47d",
       "style": "IPY_MODEL_10e7bb2424d34a229d435495a36d9a5e"
      }
     },
     "e9cdac34000d4d01b45d6f8e8213f1ea": {
      "model_module": "@jupyter-widgets/controls",
      "model_module_version": "1.5.0",
      "model_name": "LabelModel",
      "state": {
       "layout": "IPY_MODEL_810d46df30fa4d15bfb759b4a9cdabf8",
       "style": "IPY_MODEL_90a97e00953f4e48b04d95f98805e894",
       "value": "Electrolyte solvent"
      }
     },
     "e9d73ef8778c4b4bb19e121640d70835": {
      "model_module": "@jupyter-widgets/base",
      "model_module_version": "1.2.0",
      "model_name": "LayoutModel",
      "state": {}
     },
     "e9f1c583c1b341a48449b1dd37df23c9": {
      "model_module": "@jupyter-widgets/controls",
      "model_module_version": "1.5.0",
      "model_name": "CheckboxModel",
      "state": {
       "description": "Common",
       "disabled": false,
       "indent": false,
       "layout": "IPY_MODEL_0b6912500b034b1c93b43b1f8c3a729e",
       "style": "IPY_MODEL_db7bd09d652f498f8245333b48d350a4",
       "value": false
      }
     },
     "ea117d048e5f4b239a3760745c70838c": {
      "model_module": "@jupyter-widgets/controls",
      "model_module_version": "1.5.0",
      "model_name": "HBoxModel",
      "state": {
       "children": [
        "IPY_MODEL_6129a2d75fe04fd08f016c571f1da661",
        "IPY_MODEL_67269298cbd346599125ff0fc531b434"
       ],
       "layout": "IPY_MODEL_5158b163b5674680a5f2dbbb4839e1f2"
      }
     },
     "ea138d9315be41248cf4048b7c8545c1": {
      "model_module": "@jupyter-widgets/controls",
      "model_module_version": "1.5.0",
      "model_name": "HBoxModel",
      "state": {
       "children": [
        "IPY_MODEL_79e99de20afc411b84a19a8f1c466e96",
        "IPY_MODEL_306f7d4f42f64897b57180ec427eda14"
       ],
       "layout": "IPY_MODEL_7872e78fbd8149ec8033e7ada782bf12"
      }
     },
     "ea26085030fd49889e285d9fbd5cacc3": {
      "model_module": "@jupyter-widgets/controls",
      "model_module_version": "1.5.0",
      "model_name": "ButtonStyleModel",
      "state": {}
     },
     "ea41da8b0487457d9cfadd6c247e23b7": {
      "model_module": "@jupyter-widgets/base",
      "model_module_version": "1.2.0",
      "model_name": "LayoutModel",
      "state": {}
     },
     "ea7171a892f84ac19d78f64f292d8d6a": {
      "model_module": "@jupyter-widgets/controls",
      "model_module_version": "1.5.0",
      "model_name": "LabelModel",
      "state": {
       "layout": "IPY_MODEL_0df9987234d949d3a653e70b86abc939",
       "style": "IPY_MODEL_63147e7ba61146598c64b3ae68b78e54",
       "value": "Conductive additive content (wt%)"
      }
     },
     "ea72d6696ba34a44a6fbc2df3146045f": {
      "model_module": "@jupyter-widgets/controls",
      "model_module_version": "1.5.0",
      "model_name": "DescriptionStyleModel",
      "state": {
       "description_width": ""
      }
     },
     "ea941618e21b4c1cb1d93577c22c630b": {
      "model_module": "@jupyter-widgets/controls",
      "model_module_version": "1.5.0",
      "model_name": "CheckboxModel",
      "state": {
       "description": "Common",
       "disabled": false,
       "indent": false,
       "layout": "IPY_MODEL_600f80f60ebc47bbb7f64e0238928767",
       "style": "IPY_MODEL_f85919d1be434fa694e0774e900a848a",
       "value": false
      }
     },
     "eb3933d3d152424b99aad0f78016d52e": {
      "model_module": "@jupyter-widgets/controls",
      "model_module_version": "1.5.0",
      "model_name": "DescriptionStyleModel",
      "state": {
       "description_width": ""
      }
     },
     "eb5107c47afc44568f4cad2fbeca94f0": {
      "model_module": "@jupyter-widgets/controls",
      "model_module_version": "1.5.0",
      "model_name": "HBoxModel",
      "state": {
       "children": [
        "IPY_MODEL_5baef191178f492da32fd77e9573df97",
        "IPY_MODEL_8f8ea2c6fe5a4b37b83ef716eb6a5394",
        "IPY_MODEL_f097e48909654b78b3331a1917efaaf9",
        "IPY_MODEL_38c9f28f76a845a0b479c7b8fbbbbf9b"
       ],
       "layout": "IPY_MODEL_9f1540cb3a6a491b979e53f0cbb79236"
      }
     },
     "eb8faaa4786b43f38e5f370cd3c530f5": {
      "model_module": "@jupyter-widgets/base",
      "model_module_version": "1.2.0",
      "model_name": "LayoutModel",
      "state": {}
     },
     "ebb63620a72b4559946778c21c8ed92a": {
      "model_module": "@jupyter-widgets/controls",
      "model_module_version": "1.5.0",
      "model_name": "DescriptionStyleModel",
      "state": {
       "description_width": ""
      }
     },
     "ebceb82c3ab8449d98293cae67c621db": {
      "model_module": "@jupyter-widgets/base",
      "model_module_version": "1.2.0",
      "model_name": "LayoutModel",
      "state": {}
     },
     "ebd61a79037744fda77de515ddbf7262": {
      "model_module": "@jupyter-widgets/base",
      "model_module_version": "1.2.0",
      "model_name": "LayoutModel",
      "state": {}
     },
     "ebface0f22834e959717c26426098850": {
      "model_module": "@jupyter-widgets/base",
      "model_module_version": "1.2.0",
      "model_name": "LayoutModel",
      "state": {}
     },
     "ec4d5504bc634656ba7c2b76f38d667d": {
      "model_module": "@jupyter-widgets/controls",
      "model_module_version": "1.5.0",
      "model_name": "LabelModel",
      "state": {
       "layout": "IPY_MODEL_0df9987234d949d3a653e70b86abc939",
       "style": "IPY_MODEL_1ccced3766464fdf94ba36bb2b60db5d",
       "value": "Electrode solvent"
      }
     },
     "ec7ea11f51834926aa6494320690f773": {
      "model_module": "@jupyter-widgets/base",
      "model_module_version": "1.2.0",
      "model_name": "LayoutModel",
      "state": {}
     },
     "ecb4c942298e4d4e9870a8ef47cea0a5": {
      "model_module": "@jupyter-widgets/controls",
      "model_module_version": "1.5.0",
      "model_name": "ButtonStyleModel",
      "state": {}
     },
     "ecc236da53204c939eca142e5a4f469e": {
      "model_module": "@jupyter-widgets/controls",
      "model_module_version": "1.5.0",
      "model_name": "DescriptionStyleModel",
      "state": {
       "description_width": ""
      }
     },
     "eccf644007e047f7810ab308143fe348": {
      "model_module": "@jupyter-widgets/controls",
      "model_module_version": "1.5.0",
      "model_name": "ButtonModel",
      "state": {
       "description": "Remove last CRate",
       "layout": "IPY_MODEL_ee5693b806dc4affb6178a915ed0ea23",
       "style": "IPY_MODEL_5df1ac33828f4b18b34887e62838b1f8"
      }
     },
     "ecf164e21ae141c7b68889069121fa70": {
      "model_module": "@jupyter-widgets/controls",
      "model_module_version": "1.5.0",
      "model_name": "ButtonStyleModel",
      "state": {}
     },
     "ed5683e25f0d457a8bcc6a6e973e7a81": {
      "model_module": "@jupyter-widgets/controls",
      "model_module_version": "1.5.0",
      "model_name": "ButtonModel",
      "state": {
       "description": "Save",
       "layout": "IPY_MODEL_754efc3b0f46443ebb2113cf8b995e77",
       "style": "IPY_MODEL_666c7ab3ea574841ac811ad26f7aff03"
      }
     },
     "ed606b96180646fb9f1e5bc25a68b355": {
      "model_module": "@jupyter-widgets/controls",
      "model_module_version": "1.5.0",
      "model_name": "ButtonModel",
      "state": {
       "description": "Confirm manual selection",
       "layout": "IPY_MODEL_fd2afa57bbec40f0ab39a95c95cd1af9",
       "style": "IPY_MODEL_72bd522e7c004344b00ab5873094b1fc"
      }
     },
     "ed9abe95af15450da7eabdbec6dab80c": {
      "model_module": "@jupyter-widgets/base",
      "model_module_version": "1.2.0",
      "model_name": "LayoutModel",
      "state": {}
     },
     "edc21393beef4bdba4a170f5c7af66e5": {
      "model_module": "@jupyter-widgets/controls",
      "model_module_version": "1.5.0",
      "model_name": "ButtonStyleModel",
      "state": {
       "button_color": "orange"
      }
     },
     "eded2f1a45ed47648f51be1e17882ea7": {
      "model_module": "@jupyter-widgets/controls",
      "model_module_version": "1.5.0",
      "model_name": "LabelModel",
      "state": {
       "layout": "IPY_MODEL_0df9987234d949d3a653e70b86abc939",
       "style": "IPY_MODEL_8bbeb8a0659b4d459146bed8429111d5",
       "value": "Sulfur loading (wt%)"
      }
     },
     "ee0e22dbf55246c3a58a280e1952df64": {
      "model_module": "@jupyter-widgets/controls",
      "model_module_version": "1.5.0",
      "model_name": "DescriptionStyleModel",
      "state": {
       "description_width": ""
      }
     },
     "ee44b9674b9e4532aebf9055c77f4778": {
      "model_module": "@jupyter-widgets/controls",
      "model_module_version": "1.5.0",
      "model_name": "VBoxModel",
      "state": {
       "layout": "IPY_MODEL_e2022d0e4f0f4a3d80e6d0787ce432f6"
      }
     },
     "ee5693b806dc4affb6178a915ed0ea23": {
      "model_module": "@jupyter-widgets/base",
      "model_module_version": "1.2.0",
      "model_name": "LayoutModel",
      "state": {}
     },
     "ee659d68c79d4992b07c21ef9d1aca40": {
      "model_module": "@jupyter-widgets/base",
      "model_module_version": "1.2.0",
      "model_name": "LayoutModel",
      "state": {}
     },
     "ee7b4efd27c2413f8957bfbd68852d3e": {
      "model_module": "@jupyter-widgets/controls",
      "model_module_version": "1.5.0",
      "model_name": "DescriptionStyleModel",
      "state": {
       "description_width": ""
      }
     },
     "eeb174d5d8214ffdbfa70d122c85ed9d": {
      "model_module": "@jupyter-widgets/controls",
      "model_module_version": "1.5.0",
      "model_name": "ButtonModel",
      "state": {
       "description": "Clear all",
       "layout": "IPY_MODEL_abbdf65370a5463f9b4c6141babf9757",
       "style": "IPY_MODEL_f7b51f345203425985596c205fd90209"
      }
     },
     "eeef256db34e48b0b5b3d6f6f0f4e85a": {
      "model_module": "@jupyter-widgets/base",
      "model_module_version": "1.2.0",
      "model_name": "LayoutModel",
      "state": {}
     },
     "ef29fe26a91747038bec430b00c4c644": {
      "model_module": "@jupyter-widgets/controls",
      "model_module_version": "1.5.0",
      "model_name": "TextModel",
      "state": {
       "layout": "IPY_MODEL_be250f5f271940d99df09bde7e05d47d",
       "style": "IPY_MODEL_3d841cdf344243afa59a1d0cfff43404"
      }
     },
     "ef327da4780c4cd29e417c0337b7c3dd": {
      "model_module": "@jupyter-widgets/base",
      "model_module_version": "1.2.0",
      "model_name": "LayoutModel",
      "state": {}
     },
     "ef42cd3eceb74f2ca610badb6e9af081": {
      "model_module": "@jupyter-widgets/controls",
      "model_module_version": "1.5.0",
      "model_name": "LabelModel",
      "state": {
       "layout": "IPY_MODEL_4e91a0695c47461bb18b688e1d3939e9",
       "style": "IPY_MODEL_825e49630ece47d18f8c89cf47c8a7d3",
       "value": "Reload previous data"
      }
     },
     "efb2fbe010054b7da80ae8cedadc1d85": {
      "model_module": "@jupyter-widgets/controls",
      "model_module_version": "1.5.0",
      "model_name": "LabelModel",
      "state": {
       "layout": "IPY_MODEL_0df9987234d949d3a653e70b86abc939",
       "style": "IPY_MODEL_3b3e9c219919405296957ea0da81d4c6",
       "value": "Carbon source"
      }
     },
     "efc0df39bff04dac89910cb38889ed0e": {
      "model_module": "@jupyter-widgets/base",
      "model_module_version": "1.2.0",
      "model_name": "LayoutModel",
      "state": {}
     },
     "efd7177667c24c3eaac4db9790008927": {
      "model_module": "@jupyter-widgets/controls",
      "model_module_version": "1.5.0",
      "model_name": "ButtonModel",
      "state": {
       "description": "Confirm",
       "layout": "IPY_MODEL_c97ffc25b715417dbf5a52babf379f75",
       "style": "IPY_MODEL_40ddc637288f460db32feb67d557886e"
      }
     },
     "effe09f8bc7547e485e4d0447b61829c": {
      "model_module": "@jupyter-widgets/base",
      "model_module_version": "1.2.0",
      "model_name": "LayoutModel",
      "state": {
       "width": "20%"
      }
     },
     "f01310ee77804ae9974fe9c13e478691": {
      "model_module": "@jupyter-widgets/controls",
      "model_module_version": "1.5.0",
      "model_name": "DescriptionStyleModel",
      "state": {
       "description_width": ""
      }
     },
     "f04ffc1726c34e73834252504ace368d": {
      "model_module": "@jupyter-widgets/controls",
      "model_module_version": "1.5.0",
      "model_name": "ButtonModel",
      "state": {
       "description": "Show graph",
       "layout": "IPY_MODEL_ac98cf3471d040cfa8bf8548397c6f69",
       "style": "IPY_MODEL_cdda1c147ca644c88bb1cb7ca3580c51"
      }
     },
     "f068c135fdb54283871fc50532103bb4": {
      "model_module": "@jupyter-widgets/base",
      "model_module_version": "1.2.0",
      "model_name": "LayoutModel",
      "state": {}
     },
     "f07023fd196942dc9b32827c45004739": {
      "model_module": "@jupyter-widgets/controls",
      "model_module_version": "1.5.0",
      "model_name": "DescriptionStyleModel",
      "state": {
       "description_width": ""
      }
     },
     "f092855c48e648c293425fe2810ddb7c": {
      "model_module": "@jupyter-widgets/controls",
      "model_module_version": "1.5.0",
      "model_name": "DescriptionStyleModel",
      "state": {
       "description_width": ""
      }
     },
     "f097e48909654b78b3331a1917efaaf9": {
      "model_module": "@jupyter-widgets/controls",
      "model_module_version": "1.5.0",
      "model_name": "CheckboxModel",
      "state": {
       "description": "wt%",
       "disabled": false,
       "layout": "IPY_MODEL_86dc8ad0f32f4ab3ac35a51bd3b92e6b",
       "style": "IPY_MODEL_67c40256a07b4b38bf24eb5758277ed0",
       "value": false
      }
     },
     "f0a94135dfc74156b6d97539a42eac43": {
      "model_module": "@jupyter-widgets/controls",
      "model_module_version": "1.5.0",
      "model_name": "DescriptionStyleModel",
      "state": {
       "description_width": ""
      }
     },
     "f10bf7dbd4b840e0b1cc2e13e086f871": {
      "model_module": "@jupyter-widgets/controls",
      "model_module_version": "1.5.0",
      "model_name": "DescriptionStyleModel",
      "state": {
       "description_width": ""
      }
     },
     "f18e9be90d914c088e0c6d9dc7bc506b": {
      "model_module": "@jupyter-widgets/base",
      "model_module_version": "1.2.0",
      "model_name": "LayoutModel",
      "state": {}
     },
     "f256ea1ef910478580afeef512a96910": {
      "model_module": "@jupyter-widgets/base",
      "model_module_version": "1.2.0",
      "model_name": "LayoutModel",
      "state": {}
     },
     "f25bc39486514c5cb4990cf88eeac4ab": {
      "model_module": "@jupyter-widgets/controls",
      "model_module_version": "1.5.0",
      "model_name": "ButtonStyleModel",
      "state": {}
     },
     "f28170eacc94437ba27ac3abb6059222": {
      "model_module": "@jupyter-widgets/base",
      "model_module_version": "1.2.0",
      "model_name": "LayoutModel",
      "state": {}
     },
     "f2a0cc7f0d4942e3a987af92cb2bfe21": {
      "model_module": "@jupyter-widgets/controls",
      "model_module_version": "1.5.0",
      "model_name": "ButtonStyleModel",
      "state": {}
     },
     "f2b0d3e99a3448e5aa2a9661ced26b1f": {
      "model_module": "@jupyter-widgets/controls",
      "model_module_version": "1.5.0",
      "model_name": "DescriptionStyleModel",
      "state": {
       "description_width": ""
      }
     },
     "f2b67c25483b423b8ab09ff1d83273aa": {
      "model_module": "@jupyter-widgets/controls",
      "model_module_version": "1.5.0",
      "model_name": "FloatTextModel",
      "state": {
       "description": "y max",
       "layout": "IPY_MODEL_7270f2135a8447c29227576e5782f4cc",
       "step": null,
       "style": "IPY_MODEL_e38c6e55967442fdaebcb7b9520bfd24"
      }
     },
     "f2bb9b60f156459383a2c32c504f05ba": {
      "model_module": "@jupyter-widgets/controls",
      "model_module_version": "1.5.0",
      "model_name": "DescriptionStyleModel",
      "state": {
       "description_width": ""
      }
     },
     "f2f92be4aaf74999b185a7c4ecd75a7b": {
      "model_module": "@jupyter-widgets/base",
      "model_module_version": "1.2.0",
      "model_name": "LayoutModel",
      "state": {}
     },
     "f306db9f68504d2a87ce68141ee24b2e": {
      "model_module": "@jupyter-widgets/controls",
      "model_module_version": "1.5.0",
      "model_name": "DescriptionStyleModel",
      "state": {
       "description_width": ""
      }
     },
     "f3128fce98444e879b2dd0d6b3a39601": {
      "model_module": "@jupyter-widgets/controls",
      "model_module_version": "1.5.0",
      "model_name": "HBoxModel",
      "state": {
       "children": [
        "IPY_MODEL_c464a999269348b6a0495467fb02cd23",
        "IPY_MODEL_ab1a09fe88264bfba4e6539f5ce6c55f",
        "IPY_MODEL_25643c08e65d4110ad72580d0eddd0e6"
       ],
       "layout": "IPY_MODEL_16f4229cacfa49baabe849406dc419ba"
      }
     },
     "f31df54e5b5349a08fa85d240f27d3c3": {
      "model_module": "@jupyter-widgets/base",
      "model_module_version": "1.2.0",
      "model_name": "LayoutModel",
      "state": {}
     },
     "f32bb082e9dd4569a3d378615e0e94e1": {
      "model_module": "@jupyter-widgets/base",
      "model_module_version": "1.2.0",
      "model_name": "LayoutModel",
      "state": {}
     },
     "f34d3f428c6040d4a318848acca08a9c": {
      "model_module": "@jupyter-widgets/controls",
      "model_module_version": "1.5.0",
      "model_name": "ButtonStyleModel",
      "state": {}
     },
     "f361868954614fa0b270da025853f0db": {
      "model_module": "@jupyter-widgets/controls",
      "model_module_version": "1.5.0",
      "model_name": "LabelModel",
      "state": {
       "layout": "IPY_MODEL_4bb47514f5b3401984627135a3a7a8ec",
       "style": "IPY_MODEL_07fef1b71f9a4e0d8854532ad175c6d8",
       "value": "LiSTAR affiliated"
      }
     },
     "f3e8dc30bd284c188a198d63fc03f565": {
      "model_module": "@jupyter-widgets/base",
      "model_module_version": "1.2.0",
      "model_name": "LayoutModel",
      "state": {}
     },
     "f3eb7d8c0ebc42cd9ce2bc166ba1b843": {
      "model_module": "@jupyter-widgets/base",
      "model_module_version": "1.2.0",
      "model_name": "LayoutModel",
      "state": {}
     },
     "f40a2c4d797d4cec9b7f5705bbdbed87": {
      "model_module": "@jupyter-widgets/base",
      "model_module_version": "1.2.0",
      "model_name": "LayoutModel",
      "state": {
       "width": "15%"
      }
     },
     "f41b283b5bf04582a50deb3c2d8a16f4": {
      "model_module": "@jupyter-widgets/controls",
      "model_module_version": "1.5.0",
      "model_name": "HBoxModel",
      "state": {
       "children": [
        "IPY_MODEL_9e29baea3d804d6f80fcb032439cd000",
        "IPY_MODEL_0a384f8b7d774a7280742496e5fa9d40"
       ],
       "layout": "IPY_MODEL_843b488d6f4b40a19d2d7a9d1deb29bd"
      }
     },
     "f426e89af7c64169a08af8f1a3e2955b": {
      "model_module": "@jupyter-widgets/base",
      "model_module_version": "1.2.0",
      "model_name": "LayoutModel",
      "state": {}
     },
     "f4271863b57c472bba9358c62a988fe4": {
      "model_module": "@jupyter-widgets/controls",
      "model_module_version": "1.5.0",
      "model_name": "DescriptionStyleModel",
      "state": {
       "description_width": ""
      }
     },
     "f4382761f95c4e72a7d28e2d479ee583": {
      "model_module": "@jupyter-widgets/base",
      "model_module_version": "1.2.0",
      "model_name": "LayoutModel",
      "state": {}
     },
     "f47455e68c6a4a4898c8a36434396e9b": {
      "model_module": "@jupyter-widgets/controls",
      "model_module_version": "1.5.0",
      "model_name": "LabelModel",
      "state": {
       "layout": "IPY_MODEL_60fe83eed7a042009364e6dc070cf08e",
       "style": "IPY_MODEL_ba8b908bf7f64ef4a36c3a984e522103",
       "value": "E/S ratio (uL/g)"
      }
     },
     "f4b20c9dc65a486bbb85ff38a52f9e7a": {
      "model_module": "@jupyter-widgets/base",
      "model_module_version": "1.2.0",
      "model_name": "LayoutModel",
      "state": {
       "width": "10%"
      }
     },
     "f4d92cfe2c1b4a83aae2089107ea957f": {
      "model_module": "@jupyter-widgets/controls",
      "model_module_version": "1.5.0",
      "model_name": "DescriptionStyleModel",
      "state": {
       "description_width": ""
      }
     },
     "f4dfadba94714e3796f80e97abd68542": {
      "model_module": "@jupyter-widgets/base",
      "model_module_version": "1.2.0",
      "model_name": "LayoutModel",
      "state": {}
     },
     "f5143cfcde9f49258a2c4bc63eb4e0b0": {
      "model_module": "@jupyter-widgets/controls",
      "model_module_version": "1.5.0",
      "model_name": "ButtonModel",
      "state": {
       "description": "Update common",
       "layout": "IPY_MODEL_e5cd2ddde39a48769392a5a3587dc6fb",
       "style": "IPY_MODEL_897ed93d0a6b494f8bee59dcb90e32d2"
      }
     },
     "f5adea8d3369486b97afe35075af381c": {
      "model_module": "@jupyter-widgets/controls",
      "model_module_version": "1.5.0",
      "model_name": "DescriptionStyleModel",
      "state": {
       "description_width": ""
      }
     },
     "f5bbacae76d94c4a9b23fada86bc2060": {
      "model_module": "@jupyter-widgets/controls",
      "model_module_version": "1.5.0",
      "model_name": "DescriptionStyleModel",
      "state": {
       "description_width": ""
      }
     },
     "f5e06c9239b74dbfa028d314b36b5ea6": {
      "model_module": "@jupyter-widgets/controls",
      "model_module_version": "1.5.0",
      "model_name": "LabelModel",
      "state": {
       "layout": "IPY_MODEL_d6e3ee7fe10a475794118a3d6f439992",
       "style": "IPY_MODEL_9578ce2493c7451d9864e3641838d1ff",
       "value": "Minimum voltage"
      }
     },
     "f61610d213214f7292bec39952492fca": {
      "model_module": "@jupyter-widgets/base",
      "model_module_version": "1.2.0",
      "model_name": "LayoutModel",
      "state": {}
     },
     "f61b2906bab849c196d3e2096d2ec505": {
      "model_module": "@jupyter-widgets/controls",
      "model_module_version": "1.5.0",
      "model_name": "DescriptionStyleModel",
      "state": {
       "description_width": ""
      }
     },
     "f650b3350776433da6d7af8a758afc81": {
      "model_module": "@jupyter-widgets/controls",
      "model_module_version": "1.5.0",
      "model_name": "LabelModel",
      "state": {
       "layout": "IPY_MODEL_f3eb7d8c0ebc42cd9ce2bc166ba1b843",
       "style": "IPY_MODEL_717c0563122d413b924ad277e11a4545",
       "value": "No values saved this session"
      }
     },
     "f6943d9415444a48bc3e6015df77c016": {
      "model_module": "@jupyter-widgets/base",
      "model_module_version": "1.2.0",
      "model_name": "LayoutModel",
      "state": {
       "width": "10%"
      }
     },
     "f6aa8ddac10a4e239ee24d17200f1ceb": {
      "model_module": "@jupyter-widgets/controls",
      "model_module_version": "1.5.0",
      "model_name": "VBoxModel",
      "state": {
       "children": [
        "IPY_MODEL_f8548e9557b34fe3a0bff2d0270dcc62",
        "IPY_MODEL_1c7051ec38a5425f823bf4b424425bfe",
        "IPY_MODEL_33418d7f0d9c44efb511cd7e2c97b67d",
        "IPY_MODEL_a5739ac518154cd6bfc3fc570fcc6885"
       ],
       "layout": "IPY_MODEL_6aa599d1938641288cb052f7a1d4834d"
      }
     },
     "f6ce55b5846146b195e78236112a1aac": {
      "model_module": "@jupyter-widgets/controls",
      "model_module_version": "1.5.0",
      "model_name": "TextModel",
      "state": {
       "layout": "IPY_MODEL_be250f5f271940d99df09bde7e05d47d",
       "style": "IPY_MODEL_6d32fb6e3941492ba1dea55bd3cf433d"
      }
     },
     "f7005eeb50eb4d5ab5d3ccfb023e5694": {
      "model_module": "@jupyter-widgets/controls",
      "model_module_version": "1.5.0",
      "model_name": "TextModel",
      "state": {
       "layout": "IPY_MODEL_2ea41123ef6e432a9de67807cb2dd325",
       "style": "IPY_MODEL_ea72d6696ba34a44a6fbc2df3146045f"
      }
     },
     "f71e84783acf4462ababf07f5edf0020": {
      "model_module": "@jupyter-widgets/controls",
      "model_module_version": "1.5.0",
      "model_name": "LabelModel",
      "state": {
       "layout": "IPY_MODEL_358ac1ba602940a58f6918481761efb8",
       "style": "IPY_MODEL_5f631b0223124e0f9006e21a11b155bc",
       "value": "No values saved this session"
      }
     },
     "f78d90d306204b26a08340ae99d7dfa8": {
      "model_module": "@jupyter-widgets/base",
      "model_module_version": "1.2.0",
      "model_name": "LayoutModel",
      "state": {
       "width": "20%"
      }
     },
     "f7b51f345203425985596c205fd90209": {
      "model_module": "@jupyter-widgets/controls",
      "model_module_version": "1.5.0",
      "model_name": "ButtonStyleModel",
      "state": {}
     },
     "f84b2d9fe287458d8f1123b3907bc34c": {
      "model_module": "@jupyter-widgets/controls",
      "model_module_version": "1.5.0",
      "model_name": "CheckboxModel",
      "state": {
       "disabled": false,
       "layout": "IPY_MODEL_2754fac9331e433892fbb49ed44c3bb3",
       "style": "IPY_MODEL_98a8742eb781405ba0b93f35458bc016",
       "value": false
      }
     },
     "f8548e9557b34fe3a0bff2d0270dcc62": {
      "model_module": "@jupyter-widgets/controls",
      "model_module_version": "1.5.0",
      "model_name": "ButtonModel",
      "state": {
       "description": "Show graph",
       "layout": "IPY_MODEL_efc0df39bff04dac89910cb38889ed0e",
       "style": "IPY_MODEL_8bfc815c2b3e4187ac56c4352561b1c9"
      }
     },
     "f85919d1be434fa694e0774e900a848a": {
      "model_module": "@jupyter-widgets/controls",
      "model_module_version": "1.5.0",
      "model_name": "DescriptionStyleModel",
      "state": {
       "description_width": ""
      }
     },
     "f86027c90ff54ed08c078fc63a64a019": {
      "model_module": "@jupyter-widgets/controls",
      "model_module_version": "1.5.0",
      "model_name": "HBoxModel",
      "state": {
       "children": [
        "IPY_MODEL_b16dba3f94034cc38e4705e9762bd6fb",
        "IPY_MODEL_d673a56183244b34baed0ebe5414c90a"
       ],
       "layout": "IPY_MODEL_9b893cbbbc744da9985b74644b54e227"
      }
     },
     "f86db24ecec34f03bebe5aa2e4f90df4": {
      "model_module": "@jupyter-widgets/controls",
      "model_module_version": "1.5.0",
      "model_name": "LabelModel",
      "state": {
       "layout": "IPY_MODEL_effe09f8bc7547e485e4d0447b61829c",
       "style": "IPY_MODEL_69c0c5e394994951b23784c25f0e58c4",
       "value": "Binder content (wt%)"
      }
     },
     "f88bc489452e4d2ab66eec8f4c4b0d99": {
      "model_module": "@jupyter-widgets/controls",
      "model_module_version": "1.5.0",
      "model_name": "ButtonStyleModel",
      "state": {}
     },
     "f8964196c2084fb78c68b9819a44b91c": {
      "model_module": "@jupyter-widgets/base",
      "model_module_version": "1.2.0",
      "model_name": "LayoutModel",
      "state": {}
     },
     "f8a6d090ec0f467eb854ee615d6a605f": {
      "model_module": "@jupyter-widgets/base",
      "model_module_version": "1.2.0",
      "model_name": "LayoutModel",
      "state": {}
     },
     "f8de5e3b67a0445e81e3a2e9971f7b8e": {
      "model_module": "@jupyter-widgets/controls",
      "model_module_version": "1.5.0",
      "model_name": "HBoxModel",
      "state": {
       "children": [
        "IPY_MODEL_71744944d2d94952a022d5c7a4f0545c",
        "IPY_MODEL_e827cb7f6b6d4beba8005d10ce8fa215",
        "IPY_MODEL_f650b3350776433da6d7af8a758afc81"
       ],
       "layout": "IPY_MODEL_fb20b0d07bf743f1a09fc98c11ef9598"
      }
     },
     "f95222190d81459b8f316b9901e859a6": {
      "model_module": "@jupyter-widgets/controls",
      "model_module_version": "1.5.0",
      "model_name": "VBoxModel",
      "state": {
       "children": [
        "IPY_MODEL_6308a6790aea4855adb630f41a086b47",
        "IPY_MODEL_d6003ed901c34ed1a94e706dca17bfb1",
        "IPY_MODEL_95a53be48d904efc865e957f0468d6f7",
        "IPY_MODEL_6323ee551e1a4b8592c54945f18bfdc2"
       ],
       "layout": "IPY_MODEL_3ffee62547a24a30908063761821c08b"
      }
     },
     "f961957a21714d67935c74543e4f1cf1": {
      "model_module": "@jupyter-widgets/controls",
      "model_module_version": "1.5.0",
      "model_name": "LabelModel",
      "state": {
       "layout": "IPY_MODEL_0df9987234d949d3a653e70b86abc939",
       "style": "IPY_MODEL_278e3a0c83d3454e811c44d57ba4276c",
       "value": "Binder"
      }
     },
     "f986d5cd40284e54bd7d6b9648be736b": {
      "model_module": "@jupyter-widgets/controls",
      "model_module_version": "1.5.0",
      "model_name": "ButtonStyleModel",
      "state": {}
     },
     "f99535d7128f41789c509edd4e17e37a": {
      "model_module": "@jupyter-widgets/controls",
      "model_module_version": "1.5.0",
      "model_name": "FloatTextModel",
      "state": {
       "layout": "IPY_MODEL_f4b20c9dc65a486bbb85ff38a52f9e7a",
       "step": null,
       "style": "IPY_MODEL_e33a55b8179e4d41a6c6d479e5cc5f92"
      }
     },
     "f9eaa9e85c3446ffb2f285a108299af2": {
      "model_module": "@jupyter-widgets/controls",
      "model_module_version": "1.5.0",
      "model_name": "TextModel",
      "state": {
       "layout": "IPY_MODEL_be250f5f271940d99df09bde7e05d47d",
       "style": "IPY_MODEL_dc88d91f2d4348069230bedffaece760"
      }
     },
     "fa025126171a41bd9c01608b49d59fbe": {
      "model_module": "@jupyter-widgets/controls",
      "model_module_version": "1.5.0",
      "model_name": "LabelModel",
      "state": {
       "layout": "IPY_MODEL_00c9b2c3088c4401aa3978d9f34eb1cf",
       "style": "IPY_MODEL_3544b4a741ff4d649bc1faf248083cde",
       "value": "Maximum voltage"
      }
     },
     "faf74d7994f7462fbc8cfb1fbd8adee2": {
      "model_module": "@jupyter-widgets/controls",
      "model_module_version": "1.5.0",
      "model_name": "LabelModel",
      "state": {
       "layout": "IPY_MODEL_a0f540bb61ff470b98ec6f08b229da09",
       "style": "IPY_MODEL_a061b963e1b24c6f8b1feec8862c6a22",
       "value": "Minimum voltage"
      }
     },
     "fb20b0d07bf743f1a09fc98c11ef9598": {
      "model_module": "@jupyter-widgets/base",
      "model_module_version": "1.2.0",
      "model_name": "LayoutModel",
      "state": {}
     },
     "fb7d014fb08f47c4b3db1461bc88731f": {
      "model_module": "@jupyter-widgets/base",
      "model_module_version": "1.2.0",
      "model_name": "LayoutModel",
      "state": {}
     },
     "fbcd3ad137ac499d802fa725f20a7cb7": {
      "model_module": "@jupyter-widgets/controls",
      "model_module_version": "1.5.0",
      "model_name": "ButtonModel",
      "state": {
       "description": "Save lines",
       "layout": "IPY_MODEL_865f256ca73940a98333ac1506e38b98",
       "style": "IPY_MODEL_4d8de6c06a45432cb28b957e8c5333cc"
      }
     },
     "fbef7e2b9e0a42c19cd2a8fd99993557": {
      "model_module": "@jupyter-widgets/controls",
      "model_module_version": "1.5.0",
      "model_name": "VBoxModel",
      "state": {
       "children": [
        "IPY_MODEL_a2be92e999134e6392a79c6c515aa505",
        "IPY_MODEL_37f7ab186fa74f248637571141c8b974",
        "IPY_MODEL_05f8412872c44645a8df61a9a9267d0e",
        "IPY_MODEL_2710d5a4c71947cdb74f8b8fc7c61656",
        "IPY_MODEL_9465860b8dc54e298d3ea7cfc904ca6e",
        "IPY_MODEL_cf398c97897c406f839113c38d05458c",
        "IPY_MODEL_db62062cdb704f6eabf2e5909cf96865",
        "IPY_MODEL_bd4ce250c3be49988734d473617babec",
        "IPY_MODEL_1e1438b200464a7fb82f1db30eb2fbaa",
        "IPY_MODEL_96aba6a651bc4a469c7ea50aaf12450d",
        "IPY_MODEL_9876c457b5da406ba3d2f4078c2dee51"
       ],
       "layout": "IPY_MODEL_5853f91195ce498ba7c72e17f4e6795d"
      }
     },
     "fc8b4d28a2244f4a9fb9eec934d92d45": {
      "model_module": "@jupyter-widgets/base",
      "model_module_version": "1.2.0",
      "model_name": "LayoutModel",
      "state": {}
     },
     "fcba04e4a1d24ee19a19f62b9286433b": {
      "model_module": "@jupyter-widgets/base",
      "model_module_version": "1.2.0",
      "model_name": "LayoutModel",
      "state": {}
     },
     "fcd7901955d74e6d8b6dd9ffb43d5f45": {
      "model_module": "@jupyter-widgets/controls",
      "model_module_version": "1.5.0",
      "model_name": "TextModel",
      "state": {
       "layout": "IPY_MODEL_98a49352de1a4df187d7932c07112da4",
       "style": "IPY_MODEL_45420af00e094b0ea37db3053a76e639",
       "value": "Celgard 2400"
      }
     },
     "fd141db1a1bf440caed76233f68c2c7a": {
      "model_module": "@jupyter-widgets/controls",
      "model_module_version": "1.5.0",
      "model_name": "FloatTextModel",
      "state": {
       "description": "x max",
       "layout": "IPY_MODEL_243df43254774732b40e5074159f5d72",
       "step": null,
       "style": "IPY_MODEL_c1f02875d6e749c79c396f2f4ee8c80b"
      }
     },
     "fd2afa57bbec40f0ab39a95c95cd1af9": {
      "model_module": "@jupyter-widgets/base",
      "model_module_version": "1.2.0",
      "model_name": "LayoutModel",
      "state": {}
     },
     "fdd1e31603894521bc4e6084049bc6d4": {
      "model_module": "@jupyter-widgets/controls",
      "model_module_version": "1.5.0",
      "model_name": "ButtonStyleModel",
      "state": {}
     },
     "fe023d3dbfb145f9a9811e8c2a175e4c": {
      "model_module": "@jupyter-widgets/controls",
      "model_module_version": "1.5.0",
      "model_name": "FloatTextModel",
      "state": {
       "description": "End",
       "layout": "IPY_MODEL_38d261e3443a46b5bdb8e682e01d7e07",
       "step": 1,
       "style": "IPY_MODEL_df8dabe8341f49d7be4d0780e7442ee7"
      }
     },
     "fe1be62793c047549662ce16d4850053": {
      "model_module": "@jupyter-widgets/controls",
      "model_module_version": "1.5.0",
      "model_name": "DescriptionStyleModel",
      "state": {
       "description_width": ""
      }
     },
     "fe5092d66f7e422687d4d318c4183938": {
      "model_module": "@jupyter-widgets/controls",
      "model_module_version": "1.5.0",
      "model_name": "DescriptionStyleModel",
      "state": {
       "description_width": ""
      }
     },
     "feb5a4eeee49461b96674f404e42866f": {
      "model_module": "@jupyter-widgets/controls",
      "model_module_version": "1.5.0",
      "model_name": "ButtonModel",
      "state": {
       "description": "Remove last line",
       "layout": "IPY_MODEL_9427a9421254432c840c0c3d5086052a",
       "style": "IPY_MODEL_8a71319f94e84ad6a3afc89405600594"
      }
     },
     "fee7d636593f4c8e8bad643a88ad0e0e": {
      "model_module": "@jupyter-widgets/controls",
      "model_module_version": "1.5.0",
      "model_name": "ButtonStyleModel",
      "state": {}
     },
     "fee91b6454104e758271fcdde8cb1229": {
      "model_module": "@jupyter-widgets/controls",
      "model_module_version": "1.5.0",
      "model_name": "DescriptionStyleModel",
      "state": {
       "description_width": ""
      }
     },
     "ff3cc51eba944cee8379a9ab36ba9551": {
      "model_module": "@jupyter-widgets/base",
      "model_module_version": "1.2.0",
      "model_name": "LayoutModel",
      "state": {}
     },
     "ff4179032bfb47138539e7c08527644f": {
      "model_module": "@jupyter-widgets/controls",
      "model_module_version": "1.5.0",
      "model_name": "DescriptionStyleModel",
      "state": {
       "description_width": ""
      }
     },
     "ff5c3fe205004fa5b64aaea8d80e6ebb": {
      "model_module": "@jupyter-widgets/controls",
      "model_module_version": "1.5.0",
      "model_name": "DescriptionStyleModel",
      "state": {
       "description_width": ""
      }
     },
     "ff619980cfa047f18ee4e17e977a0573": {
      "model_module": "@jupyter-widgets/base",
      "model_module_version": "1.2.0",
      "model_name": "LayoutModel",
      "state": {}
     },
     "ff85402ef428439494407ed30ca03f51": {
      "model_module": "@jupyter-widgets/base",
      "model_module_version": "1.2.0",
      "model_name": "LayoutModel",
      "state": {}
     },
     "ff875866537b4d3d82ff85344262ca7a": {
      "model_module": "@jupyter-widgets/controls",
      "model_module_version": "1.5.0",
      "model_name": "DescriptionStyleModel",
      "state": {
       "description_width": ""
      }
     },
     "ff8e4a282c684719bee515e1242fcf95": {
      "model_module": "@jupyter-widgets/controls",
      "model_module_version": "1.5.0",
      "model_name": "LabelModel",
      "state": {
       "layout": "IPY_MODEL_7e995053770549e7ad462de3e220b1c6",
       "style": "IPY_MODEL_002b8abe061c4c4ca54b96c6f64c96e8",
       "value": "No values saved this session"
      }
     },
     "ff98dd3ecc75432ab49ac0772e70db65": {
      "model_module": "@jupyter-widgets/base",
      "model_module_version": "1.2.0",
      "model_name": "LayoutModel",
      "state": {}
     },
     "ffae36b7b0194d97b7343ab84a9dea5d": {
      "model_module": "@jupyter-widgets/controls",
      "model_module_version": "1.5.0",
      "model_name": "DescriptionStyleModel",
      "state": {
       "description_width": ""
      }
     },
     "ffafa11b94e34253a0f24b6122922936": {
      "model_module": "@jupyter-widgets/controls",
      "model_module_version": "1.5.0",
      "model_name": "FloatTextModel",
      "state": {
       "layout": "IPY_MODEL_7fecd97c261b41d9ab637cda817e5fbd",
       "step": null,
       "style": "IPY_MODEL_518f837a7c3b4448b5a110b41d2bed1a"
      }
     },
     "ffc9aac963c749768310019070aecc97": {
      "model_module": "@jupyter-widgets/controls",
      "model_module_version": "1.5.0",
      "model_name": "ButtonModel",
      "state": {
       "description": "Update common",
       "layout": "IPY_MODEL_1d762b17523c4b5fb7ec18369323090b",
       "style": "IPY_MODEL_e08012a41117493ab9e9f1005a6d1c8b"
      }
     },
     "ffdf232490ee474dba07c8a421780b02": {
      "model_module": "@jupyter-widgets/controls",
      "model_module_version": "1.5.0",
      "model_name": "LabelModel",
      "state": {
       "layout": "IPY_MODEL_f78d90d306204b26a08340ae99d7dfa8",
       "style": "IPY_MODEL_57b07147963c47a99d66d3271116ea61",
       "value": "Salt content"
      }
     }
    },
    "version_major": 2,
    "version_minor": 0
   }
  }
 },
 "nbformat": 4,
 "nbformat_minor": 5
}
